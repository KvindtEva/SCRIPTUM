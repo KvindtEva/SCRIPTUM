{
 "cells": [
  {
   "cell_type": "code",
   "execution_count": null,
   "id": "d078091b",
   "metadata": {},
   "outputs": [
    {
     "ename": "FileNotFoundError",
     "evalue": "[Errno 2] No such file or directory: 'filenames_SCRIPTUM_1971-1999.txt'",
     "output_type": "error",
     "traceback": [
      "\u001b[31m---------------------------------------------------------------------------\u001b[39m",
      "\u001b[31mFileNotFoundError\u001b[39m                         Traceback (most recent call last)",
      "\u001b[36mCell\u001b[39m\u001b[36m \u001b[39m\u001b[32mIn[1]\u001b[39m\u001b[32m, line 20\u001b[39m\n\u001b[32m     12\u001b[39m dataset_text = load_dataset(\u001b[33m'\u001b[39m\u001b[33mjanko/250521-scriptum\u001b[39m\u001b[33m'\u001b[39m)\n\u001b[32m     14\u001b[39m \u001b[38;5;66;03m#%% FILTERING THE DATA BY YEAR\u001b[39;00m\n\u001b[32m     15\u001b[39m \n\u001b[32m     16\u001b[39m \u001b[38;5;66;03m# we have created a list of filenames\u001b[39;00m\n\u001b[32m     17\u001b[39m \u001b[38;5;66;03m# of textdata between the years 1971-1999\u001b[39;00m\n\u001b[32m     18\u001b[39m \u001b[38;5;66;03m# we are extracting these of the huggingface dataset\u001b[39;00m\n\u001b[32m---> \u001b[39m\u001b[32m20\u001b[39m \u001b[38;5;28;01mwith\u001b[39;00m \u001b[38;5;28;43mopen\u001b[39;49m\u001b[43m(\u001b[49m\u001b[33;43m\"\u001b[39;49m\u001b[33;43mfilenames_SCRIPTUM_1971-1999.txt\u001b[39;49m\u001b[33;43m\"\u001b[39;49m\u001b[43m,\u001b[49m\u001b[43m \u001b[49m\u001b[43mmode\u001b[49m\u001b[43m=\u001b[49m\u001b[33;43m'\u001b[39;49m\u001b[33;43mr\u001b[39;49m\u001b[33;43m'\u001b[39;49m\u001b[43m)\u001b[49m \u001b[38;5;28;01mas\u001b[39;00m file:\n\u001b[32m     21\u001b[39m     filename_list = file.read().splitlines()\n\u001b[32m     23\u001b[39m \u001b[38;5;66;03m#%%\u001b[39;00m\n",
      "\u001b[36mFile \u001b[39m\u001b[32mc:\\Users\\WalzL\\Documents\\4 programming\\1 Uni Marburg\\Hackathon Pilsen\\SCRIPTUM\\SCRIPTUM\\.venv\\Lib\\site-packages\\IPython\\core\\interactiveshell.py:326\u001b[39m, in \u001b[36m_modified_open\u001b[39m\u001b[34m(file, *args, **kwargs)\u001b[39m\n\u001b[32m    319\u001b[39m \u001b[38;5;28;01mif\u001b[39;00m file \u001b[38;5;129;01min\u001b[39;00m {\u001b[32m0\u001b[39m, \u001b[32m1\u001b[39m, \u001b[32m2\u001b[39m}:\n\u001b[32m    320\u001b[39m     \u001b[38;5;28;01mraise\u001b[39;00m \u001b[38;5;167;01mValueError\u001b[39;00m(\n\u001b[32m    321\u001b[39m         \u001b[33mf\u001b[39m\u001b[33m\"\u001b[39m\u001b[33mIPython won\u001b[39m\u001b[33m'\u001b[39m\u001b[33mt let you open fd=\u001b[39m\u001b[38;5;132;01m{\u001b[39;00mfile\u001b[38;5;132;01m}\u001b[39;00m\u001b[33m by default \u001b[39m\u001b[33m\"\u001b[39m\n\u001b[32m    322\u001b[39m         \u001b[33m\"\u001b[39m\u001b[33mas it is likely to crash IPython. If you know what you are doing, \u001b[39m\u001b[33m\"\u001b[39m\n\u001b[32m    323\u001b[39m         \u001b[33m\"\u001b[39m\u001b[33myou can use builtins\u001b[39m\u001b[33m'\u001b[39m\u001b[33m open.\u001b[39m\u001b[33m\"\u001b[39m\n\u001b[32m    324\u001b[39m     )\n\u001b[32m--> \u001b[39m\u001b[32m326\u001b[39m \u001b[38;5;28;01mreturn\u001b[39;00m \u001b[43mio_open\u001b[49m\u001b[43m(\u001b[49m\u001b[43mfile\u001b[49m\u001b[43m,\u001b[49m\u001b[43m \u001b[49m\u001b[43m*\u001b[49m\u001b[43margs\u001b[49m\u001b[43m,\u001b[49m\u001b[43m \u001b[49m\u001b[43m*\u001b[49m\u001b[43m*\u001b[49m\u001b[43mkwargs\u001b[49m\u001b[43m)\u001b[49m\n",
      "\u001b[31mFileNotFoundError\u001b[39m: [Errno 2] No such file or directory: 'filenames_SCRIPTUM_1971-1999.txt'"
     ]
    }
   ],
   "source": [
    "# https://huggingface.co/datasets/janko/250521-scriptum\n",
    "# https://github.com/stopwords-iso/stopwords-cs/blob/master/stopwords-cs.txt\n",
    "\n",
    "#%% IMPORTS\n",
    "from datasets import load_dataset\n",
    "from datasets import Dataset\n",
    "import pandas as pd\n",
    "from langdetect import detect\n",
    "import re\n",
    "\n",
    "#%% LOAD DATA FROM HUGGINGFACE\n",
    "dataset_text = load_dataset('janko/250521-scriptum')\n",
    "\n",
    "#%% FILTERING THE DATA BY YEAR\n",
    "\n",
    "# we have created a list of filenames\n",
    "# of textdata between the years 1971-1999\n",
    "# we are extracting these of the huggingface dataset\n",
    "\n",
    "with open(\"filenames_SCRIPTUM_1968-1989.txt\", mode='r') as file:\n",
    "    filename_list = file.read().splitlines()\n",
    "\n",
    "#%%\n",
    "\n",
    "subset = dataset_text['train'].filter(lambda row: row[\"file\"] in filename_list)\n",
    "len(subset)\n",
    "\n",
    "# --------------------------------------\n",
    "# Testing\n",
    "# dataset_text['train']['file'] # -> list\n",
    "# full_filename_set = set(dataset_text['train']['file'])\n",
    "# subset_filename_set = set(filename_list)\n",
    "# --------------------------------------\n",
    "\n",
    "#%% convert data to pandas\n",
    "scriptum_text_df = subset.to_pandas() # too large, returns error\n",
    "\n",
    "# ... merge huggingface data with metadata-set ... #\n",
    "\n",
    "#%%\n",
    "\n",
    "# extract nonsense data,\n",
    "# and wrongly detected ocr,\n",
    "# or files which have an insufficient token length.\n",
    "\n",
    "#%% [markdown]\n",
    "\n",
    "# **Todos for actual Data Cleaning**\n",
    "# - Exlude pages where the ocr is just too bad\n",
    "#     -> maybe thouugh lang-detect or something\n",
    "#      -> research lang-detect\n",
    "# - exclude Sonderzeichen\n",
    "# - exclude [pagebreak\\d\\d]\n",
    "# X exclude where number of tokens is too small\n",
    "# - exclude the journal name\n",
    "#%% MERGE THE DATASETS\n",
    "\n",
    "scriptum_metadata_df = pd.read_json(\"https://raw.githubusercontent.com/CCS-ZCU/scriptum/refs/heads/master/data/files_df.json\")\n",
    "scriptum_text_df = subset.to_pandas()\n",
    "\n",
    "scriptum_metadata_df.rename(columns={'filename': 'file'}, inplace=True)\n",
    "\n",
    "scriptum_df = scriptum_metadata_df.merge(scriptum_text_df, on='file', how='inner')\n",
    "\n",
    "scriptum_df.head()\n",
    "\n",
    "# %% CLEANING THE TEXT\n",
    "\n",
    "# removing text with insufficent token length\n",
    "scriptum_df = scriptum_df.loc[scriptum_df['tokens_N']>0]\n"
   ]
  }
 ],
 "metadata": {
  "kernelspec": {
   "display_name": ".venv",
   "language": "python",
   "name": "python3"
  },
  "language_info": {
   "codemirror_mode": {
    "name": "ipython",
    "version": 3
   },
   "file_extension": ".py",
   "mimetype": "text/x-python",
   "name": "python",
   "nbconvert_exporter": "python",
   "pygments_lexer": "ipython3",
   "version": "3.13.0"
  }
 },
 "nbformat": 4,
 "nbformat_minor": 5
}
