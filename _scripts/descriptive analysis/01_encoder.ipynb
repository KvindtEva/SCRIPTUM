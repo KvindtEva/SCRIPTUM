{
 "cells": [
  {
   "cell_type": "code",
   "execution_count": 28,
   "metadata": {},
   "outputs": [
    {
     "name": "stderr",
     "output_type": "stream",
     "text": [
      "/Users/evaqw/Documents/UniMarburg/Hackathon/SCRIPTUM/venv/lib/python3.9/site-packages/urllib3/__init__.py:35: NotOpenSSLWarning: urllib3 v2 only supports OpenSSL 1.1.1+, currently the 'ssl' module is compiled with 'LibreSSL 2.8.3'. See: https://github.com/urllib3/urllib3/issues/3020\n",
      "  warnings.warn(\n"
     ]
    }
   ],
   "source": [
    "\n",
    "import pandas as pd\n",
    "import numpy as np\n",
    "import pickle\n",
    "import re\n",
    "\n",
    "from sklearn.feature_extraction.text import CountVectorizer\n",
    "from turftopic import KeyNMF\n",
    "\n",
    "from datetime import datetime\n",
    "\n"
   ]
  },
  {
   "cell_type": "markdown",
   "metadata": {},
   "source": [
    "## Load the data"
   ]
  },
  {
   "cell_type": "code",
   "execution_count": 3,
   "metadata": {},
   "outputs": [],
   "source": [
    "scriptum_df = pd.read_csv('data cleaning/scriptum_cleaned_data.csv')"
   ]
  },
  {
   "cell_type": "code",
   "execution_count": 4,
   "metadata": {},
   "outputs": [
    {
     "name": "stdout",
     "output_type": "stream",
     "text": [
      "5642\n"
     ]
    },
    {
     "data": {
      "text/html": [
       "<div>\n",
       "<style scoped>\n",
       "    .dataframe tbody tr th:only-of-type {\n",
       "        vertical-align: middle;\n",
       "    }\n",
       "\n",
       "    .dataframe tbody tr th {\n",
       "        vertical-align: top;\n",
       "    }\n",
       "\n",
       "    .dataframe thead th {\n",
       "        text-align: right;\n",
       "    }\n",
       "</style>\n",
       "<table border=\"1\" class=\"dataframe\">\n",
       "  <thead>\n",
       "    <tr style=\"text-align: right;\">\n",
       "      <th></th>\n",
       "      <th>periodical_category</th>\n",
       "      <th>periodical_href</th>\n",
       "      <th>periodical_title</th>\n",
       "      <th>periodical_basic_info</th>\n",
       "      <th>file_url</th>\n",
       "      <th>file</th>\n",
       "      <th>year</th>\n",
       "      <th>pages_N</th>\n",
       "      <th>tokens_N</th>\n",
       "      <th>text</th>\n",
       "      <th>cleaned_text</th>\n",
       "    </tr>\n",
       "  </thead>\n",
       "  <tbody>\n",
       "    <tr>\n",
       "      <th>0</th>\n",
       "      <td>samizdat</td>\n",
       "      <td>/cs/periodika/ps-psi</td>\n",
       "      <td>Ψ [Psí]</td>\n",
       "      <td>['', ' [Praha] ', ' 1985 – 1989 ', ' 1 × ročně...</td>\n",
       "      <td>https://files.scriptum.cz/scriptum/%5Bnode%5D/...</td>\n",
       "      <td>psi_1986_2_vina_ocr.txt</td>\n",
       "      <td>1986.0</td>\n",
       "      <td>36</td>\n",
       "      <td>24524</td>\n",
       "      <td>V V I N N V V I N N N A V V I N N N A A V V I ...</td>\n",
       "      <td>V V I N N V V I N N N A V V I N N N A A V V I ...</td>\n",
       "    </tr>\n",
       "    <tr>\n",
       "      <th>1</th>\n",
       "      <td>samizdat</td>\n",
       "      <td>/cs/periodika/ps-psi</td>\n",
       "      <td>Ψ [Psí]</td>\n",
       "      <td>['', ' [Praha] ', ' 1985 – 1989 ', ' 1 × ročně...</td>\n",
       "      <td>https://files.scriptum.cz/scriptum/%5Bnode%5D/...</td>\n",
       "      <td>psi_1987_3_freud-a-psychoanalyza_ocr.txt</td>\n",
       "      <td>1987.0</td>\n",
       "      <td>42</td>\n",
       "      <td>21575</td>\n",
       "      <td>[ 3 ] 0000000 0 ooooon 0 uo 0000000 0 0 0 o 0 ...</td>\n",
       "      <td>[ 3 ] 0000000 0 ooooon 0 uo 0000000 0 0 0 o 0 ...</td>\n",
       "    </tr>\n",
       "  </tbody>\n",
       "</table>\n",
       "</div>"
      ],
      "text/plain": [
       "  periodical_category       periodical_href periodical_title  \\\n",
       "0            samizdat  /cs/periodika/ps-psi          Ψ [Psí]   \n",
       "1            samizdat  /cs/periodika/ps-psi          Ψ [Psí]   \n",
       "\n",
       "                               periodical_basic_info  \\\n",
       "0  ['', ' [Praha] ', ' 1985 – 1989 ', ' 1 × ročně...   \n",
       "1  ['', ' [Praha] ', ' 1985 – 1989 ', ' 1 × ročně...   \n",
       "\n",
       "                                            file_url  \\\n",
       "0  https://files.scriptum.cz/scriptum/%5Bnode%5D/...   \n",
       "1  https://files.scriptum.cz/scriptum/%5Bnode%5D/...   \n",
       "\n",
       "                                       file    year  pages_N  tokens_N  \\\n",
       "0                   psi_1986_2_vina_ocr.txt  1986.0       36     24524   \n",
       "1  psi_1987_3_freud-a-psychoanalyza_ocr.txt  1987.0       42     21575   \n",
       "\n",
       "                                                text  \\\n",
       "0  V V I N N V V I N N N A V V I N N N A A V V I ...   \n",
       "1  [ 3 ] 0000000 0 ooooon 0 uo 0000000 0 0 0 o 0 ...   \n",
       "\n",
       "                                        cleaned_text  \n",
       "0  V V I N N V V I N N N A V V I N N N A A V V I ...  \n",
       "1  [ 3 ] 0000000 0 ooooon 0 uo 0000000 0 0 0 o 0 ...  "
      ]
     },
     "execution_count": 4,
     "metadata": {},
     "output_type": "execute_result"
    }
   ],
   "source": [
    "scriptum_df.drop(columns=['Unnamed: 0'], inplace=True)\n",
    "scriptum_df.drop(columns=['ANNOTATION'], inplace=True)\n",
    "print(scriptum_df.shape[0])\n",
    "scriptum_df.head(2)"
   ]
  },
  {
   "cell_type": "code",
   "execution_count": 5,
   "metadata": {},
   "outputs": [
    {
     "data": {
      "text/html": [
       "<div>\n",
       "<style scoped>\n",
       "    .dataframe tbody tr th:only-of-type {\n",
       "        vertical-align: middle;\n",
       "    }\n",
       "\n",
       "    .dataframe tbody tr th {\n",
       "        vertical-align: top;\n",
       "    }\n",
       "\n",
       "    .dataframe thead th {\n",
       "        text-align: right;\n",
       "    }\n",
       "</style>\n",
       "<table border=\"1\" class=\"dataframe\">\n",
       "  <thead>\n",
       "    <tr style=\"text-align: right;\">\n",
       "      <th></th>\n",
       "      <th>periodical_category</th>\n",
       "      <th>periodical_href</th>\n",
       "      <th>periodical_title</th>\n",
       "      <th>periodical_basic_info</th>\n",
       "      <th>file_url</th>\n",
       "      <th>file</th>\n",
       "      <th>year</th>\n",
       "      <th>pages_N</th>\n",
       "      <th>tokens_N</th>\n",
       "      <th>text</th>\n",
       "      <th>cleaned_text</th>\n",
       "    </tr>\n",
       "  </thead>\n",
       "  <tbody>\n",
       "  </tbody>\n",
       "</table>\n",
       "</div>"
      ],
      "text/plain": [
       "Empty DataFrame\n",
       "Columns: [periodical_category, periodical_href, periodical_title, periodical_basic_info, file_url, file, year, pages_N, tokens_N, text, cleaned_text]\n",
       "Index: []"
      ]
     },
     "execution_count": 5,
     "metadata": {},
     "output_type": "execute_result"
    }
   ],
   "source": [
    "scriptum_df[scriptum_df.file.str.contains('obsah_ocr')]"
   ]
  },
  {
   "cell_type": "code",
   "execution_count": 6,
   "metadata": {},
   "outputs": [
    {
     "data": {
      "text/plain": [
       "5552"
      ]
     },
     "execution_count": 6,
     "metadata": {},
     "output_type": "execute_result"
    }
   ],
   "source": [
    "scriptum_df = scriptum_df[scriptum_df.year.notna()]\n",
    "scriptum_df.shape[0]"
   ]
  },
  {
   "cell_type": "code",
   "execution_count": 7,
   "metadata": {},
   "outputs": [
    {
     "data": {
      "text/plain": [
       "['V V I N N V V I N N N A V V I N N N A A V V I N N N A A V V I N N N A A A A V I N N A A [ 2 ] + + + + , + + + . + + + + + + + + + + + + + + + + + + + + + + + + + + + + + + + + + ++ + + +  Články Pocity viny a - vina 3 M.Boss: Analýza \"pocit viny\" a cíl psychoterapie 5  Vina a zkušenost viny dnes (M. Odermatt) 13 Kde jsou hranice viny (/.Górres) 19 Recenze K. Jaspers: Otázka viny 22 A. Görres, K.Rahner: Das Böse 24 Excerpta a reprinty V.Svobodová: Člověk v mezních situacích 26 J.Gründel: Mravní přičítatelnost viny 28 M.Buber: Vina a pocit viny 29 Meditace R.Guardini: Odpouštění 33 P o e z i e V. Holan 36 V. Renč 36 O d. ČLÁNKY Pocity viny a - vina Pro to, co nenabylo spojitosti se svou základnou nebo ji ztratilo, má naše mudrosloví trefné označení: visí to ve vzduchu, stojí to na písku« Příkladem něčeho takového mže být pojem pocitu viny v té podobě, v jaké s ním zacházejí mnozí dnešní psychopat o logové. Srovnáme-li jej s podobným pojmem ‘\\'pocitu pronásledování“, zjistíme rozdíl« Snad každý psycholog a psychiatr pojmově rozlišuje mezi “pocitem pronásledování\" a samotným \"pronásledováním\"« Skutečné pronásledování zná ze zkušenosti vlastní nebo zprostředkované a je schopen uvažovat, zda pocity pronásledování plynou z reálné situace druhého člověka nebo zda jsou příznakem poruchy, kdy pronásledování je pouze pacientovou fikcí. Jde-li o prvou alternativu, zachová se jinak než kdyby šlo o perzekuční blud. Jinak je tomu při pocitech viny. Ani tady se psychopatologm pojmové rozlišení nevytratilo zcela, nebot dsledně užívají výrazu \"pocity viny\" a nikdy ne promiscue \"pocity viny\" a \"vina\". Nějak se však vytratil z užívání\" druhý člen této dvojice. Svěřují-li se pacienti se svými pocity viny odborníkovi, jeho první myšlenkou zpravidla není starost o to. zda jde o vinu skutečnou nebo fiktivní (jak tomu bylo u pronásledování), nýbrž klasifikační soud a priori o povaze duševní poruchy. 0 reálné vině tedy dnešní psychologie uvažuje podivuhodně nerada; jakoby pod vlivem nějaké zábrany. I když výraz a pojem \"vina\" z hovor a úvah nemizí, jeho rozsah se značně zúžil. Dnes většinou znamená porušení pravidel, platných s ohledem na určitou situaci. Tato pravidla jsou vyjadřována konkrétním zpsobem:školní řád, trestní zákoník, pravidla hry, silničního provozu, společenského styku, partnerského soužití apod. Mají svou omezenou závaznost a mimo výslovně uváděnou situaci ztrácejí smysl. V takovéto situaci člověk funguje v určité roli, přičemž ani situaci, ani roli není třeba brát smrtelně vážně. Spíše tody \"selhání“ než \"vina\". Etymologie \"selhání\" prozrazuje jeho souvislost se lží (tedy i s pravdou), ale ta je dnes již zcela zapomenuta. Proto selhání podle dnešních měřítek není nic odsouzeníhodného, právě tak jako uklouznutí na zamrtzlé louži. Má někdy nemilé dsledky, pro ty se však hodí termín \"smla\". Dnešní psychologové jsou velmi alergičtí na jakékoli \"moralizování\": za smlu nelze nikoho vinit. Moderní psychologie objevila pocit viny v dosud neprozkoumané souvislosti - jako chorobný symptom. Neprohlásila sice výslovně každý pocit viny za symptom, ale také se nezdržovala rozlišováním viny zdánlivé a skutečné (zatímco chorobnou depresi a přirozené truchlení přece jen rozlišila). Tato nedbalost je již sama o sobě symptomatická a odpovídá duchu doby postupující sekularizace, liberalizace, demytologizace, kácení model a pozvolného likvidování přirozených autorit. Moderní psychologie, která objevila, kterak egocentrický autoritativní rodič mže dítěti ^vštípit pocit provinilosti, třebaže c reálné vině dítěte nemže být řeči, se domnívala, že svým osvícenským étosem pomáhá pokroku. Ten však nepozorovaně a nepochopitelně vyústil v neosobní totalitu, s níž je spojena i absurdní \"nevinnost\": nikdo za nic vlastně nemže, není viny, nemělo by být t-restu, nanejvýš jen \"náprava\". Ano, svět .je tragický, ale tragédie je vlastně - smla. Od nepaměti znamenala vina porušení řádu, který byl pokládán za obecně platný a jenož zdroj byl spatřován mimo vli jednotlivce nebo skupiny. Její odčiňování spočívalo ve znovunastolení psobnosti porušeného řádu. Tak to chápali lidé intuitivně již dávno před vznikem křestanství i jiných existujících náboženství. Moralista i právník tuto intuici pouze vyjadřoval a precizoval. Vodítkem při chápání a posuzování viny nebyl subjektivně prožitkový fakt pocit viny, nýbrž něco, c 0 se stalo. Kdo se provinil, zpronevěřil se určitému očekávání, požadavku, nároku, a vina byla stavem této zpronevěry. Kromě viníka tu byl někdo, známý 9 nebo i jen tušený, jehož nárok či požadavek byl oslyšen, jehož očekávání nebo spoléhání bylo zklamáno» Tímto někým byl nositel uznávané autority v rodině, obci nebo ještě širším společenství, jehož postavení bylo zpravidla legitimováno poukazem na řád \"shry daný”. Pvod tohoto shry daného řádu byl spatřován v.tak či onak tušené vli Boží, Tyto souvislosti nikdy nebyly neproblematické. Nikdy nechybělo pokušení moci, která mnohdy, jak praví německé úsloví, právo předešla. Nikdy nebylo bezpečné jistoty o obsahu Boží vle (s výjimkou jejího nejobecnějšího vyjádření, jak je zachyceno např, v desateru), Asi vždycky byly ve hře i ty vlivy, na které upozornila až moderní psychologie; že totiž vědomí onoho řádu procitá jen pozvolna pod vlivem životní zkušenosti a že tato zkušenost mže být i zraňující a deformující; že rámcem této formativní zkušenosti je vztah JA k. nějakému TY, zpravidla slabšího JÁ k mocnějšímu TY, - Vždy se však vědělo, že existují situace a lidské úlohy, které je třeba brát smrtelně vážně, protože za neobstání v nich se platí ztrátou tváře, případně i duše. Právě toto však bylo v epoše ’’nevinné” neosobnosti zapomenuto, vytěsněno i vědomě potlačeno. Odtud ta nedtklivost, nepravá útlocitnost, připomene-li se, že některé situace jsou smrtelně vážné. Vina je stav zpronevěřilosti, svévolného setrvávání ve stavu zadluženosti. Věřitelem je koneckonc plnost bytí. Nikoli naše lidské, neúplné bytí, nýbrž Ten, který vskutku a plně jest. itelé autority v rodině, pospolitosti, společnosti jsou těm/, kdo jsou poddáni jejich vlivu, podnětem procitání mravního vědomí. Jsou předobrazy, náměstky Toho, který jest. Tedy jakýmisi zástupnými věřiteli. Zprone- věří-li se oni této smrtelně vážné funkci (třeba tím, že se povýší na věřitele absolutního), procitne- v tom, kdo je poddán jejich vlivu, jen nedozrálé nebo i pokřivené vědomí mravního řádu. Pocit viny jako chorobný symptom je tedy vědomím nepravého dluhu nepravému věřiteli. Je záhodno uvádět je na pravou míru, ne však tvrdit, že možnost dluhu neexistuje. Tu a tam se začíná moderní psychologie probírat z mrá.kot redukcionismu. Objevila v \"já” integračního činitele duševního života. Objevuje i význam hodnot, které nejsou pouhou projekcí pudových přání. Ve svědomí vidí nejen trestající instanci, ale i strážce\\' lidské identity. Někdejší imperativ \"nefrustrovat” zaměnila po-< čtivějším \"opravdověji milovat”. Nenalézá však už tolik uší k.slyšení. Současná rutinní praxe (zejména lékařská) je většinou jiná.Jste smutní, že jste si - stručně řečeno - nepočínali jak bylo třeba? Že jste někomu ublížili? Ze jste zanedbali své děti nebo je dokonce opustili? Že jste promarnili život služebností falešným bohm? Nemžete proto spát? Obrátíte-li se na odborníky, riskujete, že vám nepomohou najít cestu, ale zato vám budou temperovat chemismus ústředního nervstva. Snad nevědí, co činí. Redukcionismus je mdlobou ducha. \"Všechno se začalo člověku rozpadat,” říká dominikán Albert Plé, popisující zánik středověké duchovní syntézy, a pokračuje: \"Boží imanence byla pojednou neslučitelná s Boží transcendencí (právě v tom spočívá tragédie protestantismu), lidé ztratili smysl pro tajemství a pro liturgii. Duše ztratila spojení s tělem a Člověk se zdál být rozdělen ve dvě rznorodé enti- ty,_ jednu andělskou, druhou pokleslou v nepravost; ^ednu racionální, druhou stro- jovou.- Ponechán svému, osamění a střepm sebe sama prstal si rozumět.\" Redukcionismus je výslednicí snahy systemizovat při ztrátě schopnosti celost- ního: rozumění. Nedvěra v psobení intence vyššího řádu psobí vzápětí i slepotu vči jeho projevm. Proto jsou novodobí psychologové a sociologové raději etolo- gy a biology; nevidí v člověku to specificky lidské. Novodobí biologové jsou raději chemiky, ba fyziky: nevidí to specificky živé. Ti i oni vidět ani nechtějí. Snaha, která je opakem redukce, je totiž pokládána za naivní nebo pošetilou \"konstrukci\", \"spekulaci”. A ta platí za \"nevědeckou”. Redukce, tedy explanace jevu terminologií nižší úrovně jsoucna než je ta, která mu odpovídá, je drws ztotožňována s vědeckostí. Redukcionistických taktik je celá řada. Jednou z nich je zásadní popírání (a- nebo spíše zapírání) účelnosti v příro£^ě. Teoretik systém M. Iviessarovich ji charakterizoval drsně, ale výstižně; \"S teologií se dnes zachází jako se zapíranou 4 milenkou: nikdo se k ní nechce přiznat, rle málokdo se. odváží obejít se bez ní ...\\' Proto je v jakémkoli fencmón^..^\\'v.oje spatřováno nikoli -uskutečňování předem dané intence, nýbrž jen,-nahodilé rozrízn.c.éní.. Vývojově.-vyšší formace má být pouhou- 1. odvozeninou formace ranější a jednodušší, aniž \\'oy však”v ní byl. zahlédnut pod*:á.  statný přírstek bytí,  .-- ž .’ ; Celogtní jev lze ..též dukovat.ns, .jeho jedinou složím, která je sice nezastupitelná,’\\' ale je vlastně.pouhým je.ho předpokladem, byt nezbytným, na nižší úrovni. Takto je.duševní život již tradičné, redukován na fyziologii ústředního nervstva.w Takto .lze také redukovat člověka jako etickou bytost na. pouhého vykonavatele situačně specifických bebaviorálních ckč, ty nu neurofyziologické  stereotypy a ty možná dokonce na určité předivo nervových drah. A pak už stačí jen modelovat na kompjtru ... \\' ... I jako eticky odpovědná bytost má člověk svou ’nemryologii\\'\\\\ Prochází určitým vývojem, jehož každá další-etapa znamená gradient bytí« Je současně pre determinována ”& ťergo” (“zezad ?’’)’a probouzená f-!a fronte1\\' (’’zpředu”) anebo spíše \"shry”. Takto se-\\' u dítěte objevuje první úsměv, což nazval vnímavý psychoanalytik R.\\'Spitz zcela správně pravým zázrakem. Nedošlo by k němu. nebýt náležitého biologického optim,?, organismu dítěte, ale také nebýt probouzejícího úsměvu matčina. Vývoj k e- tické odpovědnosti (která jo integrální -součástí zralého lidství) má své. etapy, je jichž mezníky mohou být - a-pravděpodobně jsou - napřustavení \"superega\". Jsou nezbytnými předpoklady vzniku (plus probuzení) etické odpovědnosti v nezbytné, a- všák nižší vrstvě lidského bytí, tj. ve sféro, psychodynamil^. Superego jakožto psychodynamický předpoklad svědomí však je;ště není svědomím, stejně jako optimal« ní funkce zrakového \\' analýz át o rvi není ještě .viděním. Vidění totiž není jen percep- cí zrakových vjem; je také-, dovídán ím,: se, rozuměním, prohlé dáním, žasnutím atd. Pocity ’.-lny jsou pocity « inu práce víny, čehopak jiného? Jsou z téhož řádu . jako třeba zřejmost nepravdy. Jsou zýzvou svědomí. To probuzený člověk nazřel nějakou. svou nepravost,. Potence svědomí,má však své předchdce na nižších úrovních lidství ještě neprobuzeného. A možnost naší zpronevěřHosti, Zadluženosti, také. Jsou 30 úrovně dosud mimo dobro a zlo, i když mají svj prožiťkový rozměr. Když už jsme si zvykli nazývat obojí stejně, neměli bychom zapomínat: na podstatný roz*’ díl, A pokud chce někdo znevážit a zncplatnit souvislost celku a přitom to zakrývat péčí o jeho podřízenou .složku, měl. by ..vědět, co činí. . . - J an - A n a 1 ý z a \"p o c i t  v i n y\" a cíl psychoterapie Medard Boss Medard Boss patří spolu s Ludwigem Binswangerem k hlavním představitelm das-, einsanalytického pojetí, psychoterapie a psychopatologie. Svj přístup zakládá na výtěžcích filozofie Martina Heidegger a. vytočené v jeho díle ’’Bytí a čas” (Sein und Z eit;) ..-a v dalších pracích, věnovaných především otázkám ontologické struktury lidského života jakožto předpokladu veškeré ontické a empirické aktivity člověka. Stat, kterou zde předkládáme, tvoři dvě kapitoly anglické-\\'verze Bossovy knihy Psychoanalysis and laseinsanalysis. Br.sic. Books, Inc... Publishers, New York, London \\'1963. .-Anglická, verze r.ení pouhým překladem- svařší stejnojmenné německé práce, ale novým, podstatně rozsáhlejším dílem/ -jehož cílem bylo seznámit čtenáře anglosasUké ho světa, kteří nejsou dkladněji obeznámeni- s evropskou fenomenologicky, orientovanou filozofií, s. daseinsaňalyžibkýři postupy a orcblemat^kou. . . * Z daseineanalytických náhled vyplývá požadavek další podstatné, korekce, psychoterapie« To, cc. vyžaduje koiekci. je cíl psychoterapie Freud předpokládal, že. pvodní, přirozeností. člověka je \"libostní já\" (plěasúreego, Lust-Ich)\\', zaměřené ; výhradně na uspokojování sexuálního padá a zachovaní sébe sama. Věřil, že práči o- věk, primitiv a dítě představují více méně nezkaženou, prvotní, nevinnou ’’přirozenost” člověka - přirozenost vázanou pouze \"principem slasti”« Vnější svět nutí člověka tento princip modifikovat; tato modifikace nazvaná \"princip reality\" je však podle Freuda, druhotná» Objevuje se proto, že by jedinec jinak zahynul (a tak nemohl dosáhnout žádného uspokojení), kdyby nebral v úvahu dané skutečnosti vnějšího světa» Součástí tohoto přizpsobení vnější realitě je, že dítě přijímá morální požadavky, které na ně rodiče kladou» Převaha vnější skutečnosti má na-- konec za následek, že dítě internalizuje požadavky a zákazy, které pvodně přicházely zvnějšku. Koněčnýmproduktem je pak Freudovo \"superego\" neboli svědomí. Jakmile bylo jednou superego zformováno, stává se zdrojem pocit viny. Proto člověk zakouší pocity viny, když poruší nebo zamýšlí porušit některá z přikázání, která mu byla vštípena. Je příznačné, že Freud nikdy v žádném ze svých spis nehovoří ó vině jako takové, ale pouze o pocitech viny. V souhlase s touto teorií Freud očekává, že psychoanalýza pacienta osvobodí z područí jeho neurózy a umožní mu vrátit se k \"pvodní přirozenosti\". Pak by již člověk neměl být blokován pocity viny a měl by mít zaručenu schopnost požitku bez viny. Na rozdíl od Freuda uznává daseinsanalýza více než pocity viny, a jistě více než sekundární, vnějškově determinované pocity viny, které mohou být odstraněny pomocí psychoanalýzy. Z hlediska analýzy pobytu, analýzy Dasein, je člověk, primárně vinen. Primární vina začíná narozením. Tehdy totiž začíná jeho zadluženost vči jeho Dasein, pokud jde o uskutečňování veškerých životních možností.. Dokud nevydechne naposledy, zstává člověk v prběhu svého života v tomto smyslu vinen, tj. zadlužen vči všem požadavkm, které pron jeho budoucnost chová. Každý čin, každé rozhodnutí, každá volba totiž zahrnuje odmítnutí všech ostatních možností, které v dané chvíli k lidské bytosti také přináleží. V určitém okamžiku mže člo*- věk nasadit svou existenci pouze v jednom z myriad možných vztah. V tomto siqyslu musí vždy jaksi zstávat pozadu. Toto je právě :tak součástí základní lidské .podstaty jako ostatní existenciály.^ Existenciální vina člověka spočívá v jeho selhání vči příkazu naplnit všechny své možnosti» Existenciální vinu si člověk uvědomuje tehdy, když naslouchá nikdy neutichajícímu hlasu svědomí. Tato základní, nevyhnutelná zadluženost,-toto \"bytí-v-dluhu\", je vina, a ne pouze subjektivní pocit viny. Předchází všem psychologicky pochopitelným pocitm viny, bez ohledu na to, v jakém neurotickém převleku se mohou objevit. Z dvodu této existenciální zadluženosti (zakoušené jako vina) nemže ani nejdovedněji prováděná psychoanalýza zbavit člověka viny. Na celém světě nelze nalézt jediného pacienta, kterého by psychoanalytic ká léčba vskutku proměnila v bytost bez viny. To největší - a zároveň to nejhorší -čeho mže psychoanalýza v tomto ohledu dosáhnout je, že učiní pacienta hluchým vči výčitkám svědomí; a to mu ovšem není ku prospěchu. Ideálně nový člověk, osvobozený psychoanalýzou od viny, je zastaralý mýtus: okouzlující a krásný, avšak bohužel ne-, uskutečnitelný.  Psychoanalýza ovšem mže dosáhnout.něčeho jiného. Mže pacientovi osvětlit minulost, přítomnost a budoucnost jeho života až do té míry, že si plně uvědomí svou existenciální zadluženost, své bytí-v-dluhu. To mu umožní uznat zpětně svj dluh a vzít jej na sebe..Tím, že naslouchá svému svědomí, začíná si člověk uvědomovat své životní možnosti. Mže je odpovědné přebírat, být jim věrný a učinit je tak součástí sebe sama. . \\'  Jakmile byl člověk jednou osvobozen pro svou základní a existenciální zadluženost, pro své bytí-v-dluhu, nezakoší již neurotické pocity viny. Neurotické pocity viny nepramení z něho samého, mají svj pvod v cizí a pokřivující mentalitě, Existenciály - u M. Heideggera a M. Bosse základní charakteristiky lidské existence, lidského pobytu, jako např, bytí-na-světě, primární porozumění, úzkost-, starost (péče), Časovost aj. \"Existenciály\" je třeba odlišit od charakteristik jednotlivých jsoucen jiných než Dasein, pro které Heidegger ponechává pojem \"kategorie\". (Pozn. překl. ) 6 kterou mu vnutili jeho vychovatelé. Stal se obětí životních mod, které mu byly cizí, které však ze.. sebe nedovedl setřást. Takové, neurotické pocity také neustále zvětšují sxistencialriX\" .vinu\\', neboř z hlediska naplňování vlastní existence - vedou ke stále narstajícímu dluhu. To má za následek, že hlas svědomí se stává stále naléhavějším. Avšak pacient, uvězněný v získaných moralistických konceptech, chápe tento hlas mylně jako požadavek vést stále rigidněji\\'zpsob života, který je mu. v podstatě cizí. Vzniká začarovaný kruh. A pouze analýza mže zrušit jeho moc. Jestliže pacient dosáhne cíle daseinanalýzy, tj. přijme-li svobodně svj, dluh vči své. existenci, -dosáhne- současně cíle, který’měl na mysli Freud plné schopnosti pracovat a radovat? se. Ale’nebude již užívat těchto -schopností ve \"službách egotistických tendencí, které/směrují k získání\\'moci nebo slasti. Ponechá spíše všechny své. možnosti vztahování.’ke světu jako Osvětlenou oblast, v níž se všechno, s čím se setkává, mže plně vynořit ve svém ryžím bytí a ve svém odhaleném smyslu. Zdá sp., ýže právě možnost-volby\\' odpovědět nebo neodpovědět na tuto výzvu je pravým jádrem lidské svobody, Dosáhneme-li’jednou této základní švobody, zmizí dřívější břímě špatného svědomí.a pocit viny a uvolní nehlučně prostor pro štástnou poho^ tovošt být tak, jak žádají fenomény našeho svět.a...., Zároveň :s tím, jak toto daseinanalytické porozumění lidské existenci odhaluje její hlubokou, a nevyčerpatelnou smysluplnost, stává sé také schopnou vymezit\" základní mravnost člověka. Na bázi takovéhoto porozumění bytostnému určení člověka S3 stává zřejmou etika lidstva. Žádné tzv. etické hodnoty nemusí být přidává-? ny a posteriori«?. \" V následující části líčí jeden z našich pacient své z-rání k této základní lidské svobodě. Jeho výpověo mže mít pro psychqterapeuty a psychoanalytiky o to větší význam, že trpěl neurózou, kuerá se patrně vynořuje jako specifická. a nej- častější nemoc naší doby - \"moderní neurózou otupíělosti či nudy\". Náš pacient byl dvaatřicetiletý lékař z dobré měštanské rodiny, svobodný, bez určitého náboženského vyznání. Pokud se mohl rozpomenout, byl v,prběhu svého, života. neustále pronásledován silnými pocity viny, což vedlo k tomu, žo se jehoeř xistence stala nepřetržitým sleděm sebetrestajícího a sebepoškozu jícího. jednání. Již-dříve, mezi dvacátým-pátým a dvacátým osmým rokem, podstoupil analýzu v rozsahu 420 hodin, kterou se terapeut snažil- vést zcela v duchu Freudovy pvodní ortodoxní teorie. Volné asociace a sny v prběhu této první terapie vedly pacienta k stále samozřejmějšímu přesvědčení, že trpí oidipským Ckastračním komplexem. Zdálo se mu často o smyslných vztazích s mateřskou postavou, několikrát s vfat- ní matkou., Ve snu pokaždé následoval neprodleně trest, udílený otcovskou postavou, která se snažila,zcela svévolně zničit typické, výslovně falické symboly. Ani pacient, ani jeho analytik se nemohli zbavit přesvědčení, že pacientovo autódéstruk- tivní chování v bdělém stavu slouží pouze k zmírnění jeho pocit viny a kastrační úzkosti. Z celé řady rozmanitých.falických symbol se výběr stále více .zužoval na kostelní věže, obzvláště na.vysoké věže gotického stylu. Jednou se např«: snící o- citl v přízemi takovéto věže, kde starý muž se. zřetelnými rysy jeho bývalého učitelé\\' anatomie\\' zatínal jakýsi zvláštní, ohromný nožovitý nástroj do základ, ve snaze věž zbořit a pohřbít pacienta v jejích troskách. Nástroj připomínal neuvěřitelně mohutnou\\'-\\'zvětšeninu jednoho z pitevních skalpel, kterých pacient užíval během prvního semestru studia medicíny. Ačkoliv se pacient, vedený opatrnými náznaky analytiky, učil vidět v kostelních věžích svých sn falické symboŮý a v učiteli anatomie svého symbolicky převlečeného kastrujícího otce, neměnila se během tříleté analýzy ani úmorná monotonie jeho snového života, ani storeoptypní charakter jeho bdělého chování ani chronicky morózníi ladění jeho mysli. , . ..\\' ř..; \\'  \\' I !\\'   \\' Pocity v.jhy poněkud-..zrní milo jeho -rozhodnutí žměniVv prběhu čtvrtého t roku analytické .léčby terapeuta« V nové terapii se-cítil”mnohem jistější, protože již nemusel\\'.ležet na gauči, nýbrž mohl sedět naproti terapeutovi zahalen d.o družné atmosféry oblaku cigaretového kouře. Druhý analytik, na rozdíl od svého předchdce. viděl v kostelních věžích pacientových sn náboženské představy. V týdenních, mnohdy několikahodinových rozmluvách, hrál (opět v ostrém protikladu k Freudově- metodě) hlavní roli analytik, který pacienta vedl prostřednictvím nespočetných mytologických a etnologickýčh odkaz k přesvědčení, že náboženské myšlenky a pojmy obecně odpovídají primordiální psychické funkci» Pacient se učil vidět, že těmto náboženským obrazm přináleží právě tolik \"psychické reality” jako jeho sexuálním fantaziím. Pacient se až příliš horlivě chopil myšlenky, že jeho religiózní sny mají svj základní zdroj v obecně lidských archetypálních strukturách, v kolektivním nevědomí jeho psýché. Odtud vyplývalo uklidňující vědomí, že jeho myšlenky, kte-. ré mu často připadaly zvláštní a absurdní, ho již neizolují od ostatních lidí. Avšak nedlouho poté došlo u pacienta znovu ke stagnaci. Koncem druhého roku této psychoterapie mu analytik vysvětlil, že ho již naučil všemu, čemu ho mohl naučit a že další terapií by se již mnoho nezískalo. Pacient se tedy mže, jak dodal terapeut, spoléhat na svj zdravý rozum a nemusí se již považovat za nemocného nebo úchylného. Pacient dělal, co mohl. Pokoušel se oživit zájem o svou lékařskou činnost a současně se, s obdivuhodnou houževnatostí a trpělivostí, dkladně obez- namoval s psychologickou literaturou. Nevysvětlitelná nespokojenost se sebou sa- mým a s celým světem ho však neopouštěla. Rozhodl se proto, že bude pěstovat nějakého- koníčka a doufal, že tak dá svému životu více smyslu. Vrhl se na sbírání křištálového skla. Vzácné kusy skla ho však pouze sváděly k neustálému čištění a leštění třpytivých plošek. Během několika měsíc se tato záliba rozrostla v nezkrotnou obsesi fanatické čistoty. Rovněž jeho oblečení muselo být neustále bez poskvrny a za žádných okolností mu nesměl chybět sněhobílý kapesník. Sám si spílal výstředních estét, sebezatracování však nepomáhalo ani jemu ani jeho okolí, které trpělo jeho pedanterií. K tomu, že po dvouleté pauze vyhledal třetího terapeuta, hó vedl především . nedostatek vnitřního nasměrování a prázdnota cítění, která psobila, že na vše pohlížel posměšným a závistivým okem. .. , Hned na počátku nové-terapie dal pacient terapeutovi na srozuměnou, že se na dalšího psychotěrapeuta obrací jen \"faute de mieux\", z nedostatku něčeho lepšího; dosavadní zkušenosti ho dostatečně poučily o tom, že v psychologii se všechno odehrává v jakémsi uzavřeném kruhu. Rafinovaně dokazoval svému, novému analytickému partnerovi, že není v podstatě rozdíl mezi tím, když považujeme něco duchovního, např. náboženské pocity, za pouhou sublimaci nějaké infantilní libidinozní fixace nebo považujeme-li to za něco, co vytvořil a zformoval v psychickou funkci nějaký předpokládaný (hypotetický) \"archetyp\" v ’’kolektivním nevědomí\". Nebot jestliže postulujeme A jakožto odvoditelné z B či z C nebo z X, pak již jsme toto A jakožto A znehodnotili na něco odvozeného,-nevlastního, neautonomniho. Kde lze potom nalézt něco ryzího a skutečného, pro co by stálo za to žít? Kleist po přečtení Kantovy filozofie nepoznatelnosti věcí o sobě pocítil, že žije ve světě neskutečných přízrak - v tom, že si poté sáhl na život byl naprosto dsledný. Svět moderních psycholog, tvrdil pacient dále, je ještě o několik stupň, přízračnější, nebot jsme v něm odkázáni na pojem \"psychických realit\", aniž jsme předtím prokázali existenci jedné jediné \"psýché\". V této kritické chvíli poradil terapeut pacietnovi, aby to zkusil bez psychologie. At\\' se položí, tak jako v první analýze, a bez výhrad a jakýchkoli ohled k sobě nebo terapeutovi řekne vše, co mu přijde na mysl, at jsou to myšlenky, . představy, fantazie, sny, vzpomínky, pocity nebo, tělesné počitky, jakkoli bolestné, neslušné, nemístné či bezcenné se budou zdát. Pacient byl touto výzvou, objasňovat své bytí a nalézat sebe sama bez pomoci psychologie, vyveden poněkud z míry, byl však ochoten, vzdát se dalších vědeckých diskusí a přistoupit na nový návrh. První velká potíž třetí terapie se objevila asi šest měsíc po jejím zahájení. Pacientovi se začalo zdát téměř každou noc o zamčených záchodech, což bývá spolehlivou známkou toho, že člověk má ve svém nejhlubším nitru něco, co by rád vydal, ale ještě to nechce dát. Zpočátku se pacient pouze zlobil, protože měl dojem, že ho tyto sny vracejí zpátky do první, freudovské analýzy, pro kterou byly v určité době charakteristické podobné noční zážitky. Byl rovněž velmi rozladěn tím, 8 že se- u nového lékaře začal setkávat s oním starým známým mlčením« Analytik se v soule,du s moudrou Freudovou radou, vskutku omezil na to, že pacienta krátce, jednou či dvěma větami upozorňoval na odpor a uzamčehost záchodových dveří a zároveň zpochybňoval to, že tato sprostá, nečistá místa jsou pacientovi nepřístupná« Analytik byl připraven uspíšit u tohoto bolestně dobře vychovaného estéta a nadměrně čistotného sběratele křištálu bouřlivý odpor proti terapii tím, ze své dotazy zaměřil na cloumání zavřenými záchodovými dveřmi« Asi všade přecenil odolnost svého pacienta, nebot pacientv vztah k vnucující se sféře výkal a veškeré ’’nízké*1 tělesnosti vzal na sebe náhle podobu těžkých psychotických projev, k nimž došlo když pacient už nemohl dále čelit\\'náporm těchto oblastí kompulsivním sbíráním a leštěním ’’čistého“ křišťálového skla. Předehru k psychóze poskytl jeden sen. Pacient v něm stál opět před zamčenými záchodovými dveřmi. Tantokrát však bylo jeho puzení vyměšovat tak mocné, že se vší silou opřel do dveří a vyrazil je« Neocitl se však před/očekávanou toaletou, nýbrž uprostřed velikého kostela, přímo před křtitelnicí. Shora od stropní klenby, visel nad křtitelnicí silný provaz. Byl to-provaz, kterým kostelník občas rozhoupával největší zvon na věži« Pacient, téměř smysl zbavený, neměl jiné volby než se vyšvihnout s pomocí provazu nahoru do křtitelnice, kde si-začal ulevovat. stále svíraje lano v rukou. Jeho vyprazdňování však nebralo konce a brzy stál až po kolena ve svých výkalech« Pokusí], se uniknout stálé narstající, mase stolice po laně vzhru do věže, ale jeho nohy vězely pevně v lejnech. Jak se.však šíleně zmítal a škrábal vzhru, omotal se mu provaz od zvonu několikrát kolem krku, takže se z něho nemohl vyprostit« Kromě toho jeho zuřivé.úsilí vyšplhat se vzhru uvedlo mezitím do pohybu zvon ve věži. Ze všeho nejhorší však bylo, že při každém úderu zvonu se lano nějakým nevysvětlitelným zpsobem stále více namotávalo na otáčivou osu zvonu. Rván vzhru tahem zvonového lana a strháván.dol masou fekálií, které mu poutaly nohy, byl pa_cient prudce trhán ve dví. V agónii těchto hrozných tělesných muk se probudil. Od okamžiku procitnutí slyšel pacient \"hlasy“, které-na..něho volaly “posranče“, \"sraci\" a zahrnovaly ho sprdtými nadávkami, Ještě více než těmito “akustickými halucinacemi“ trpěl \"halucinacemi čichovými“. Kamkoliv přišel, všude to páchlo výkaly a mocvkon. Stěží se nechal pohnout k tomu, aby něco snědl« V následujících dnech zuřil na svého analytika, protože mu dal pocítit veškeré svinstvo jeho tě* ..losnosti a oloupil ho tak o jeho lidskou dstojnost. Ve vzteku roztříštil dvě velké květinové vázy, které stály v ordinaci^ jednou mrštil ó podlahu a druhou o stěnu, ininuv přitom těsně hlavu terapeuta. Celá místnost byla nakonec polita vodou a na koberci ležely zbytky květin a spousta střep. Když jeho vztek před terapeutovým klidem pohasl, běžel pacient s pláčem dom, vlezl do postele a upadl na dva dny do katatonního stavu. Z psychiatrického hlediska prozrazoval celý klinický obraz spíše typickou schizofrenní ataku než hysterickou epizodui Analityk stál teď při svém pacientovi více než kdykoli předtím« -Seděl u něho po celý den a větší část noci, krmil ho sondou a nedal se odradit od \\'toho, aby o něho sám, vlastníma rukama pečoval. Po čtyřiceti.hodinách se pacient probral z-e svého stuporu, objal bouřlivé lekaře, jako když se malé dítě přivine k matce, a-volal asi stokřát; “Maminko, maminko moje milá\". Potom otevřel široce oči, jako by se probouzel z hlubokého spánku. Koncem druhého dno so zotavil, byl při smyslech, avšak stéile ještě velice úzkostný. 0 několik týdn později se mohl terapeut vrátit ke klasické psychoanalyticko technice, při které pacient opět ležel. Pacient byl-terapeutovi vděčný především za to, že ho přijal se všemi jeho pozemskými potřebami a za to, že mu umožnil, doslova poprvé v životě, zakusit., že se člověk nempsí stydět za svou tělesnost, že nemusí vehementně popírat její existenci a zavírat před ní oči. Již y .úvodním snu, bezprostředně před vypuknutím ataky, pacienta zcela ovládla pozemská oblast nečistého. \\'To .se-- projevilo uváznutím v křtitelnici a panickým úsilím dosrat se ven. Behem následující bdělé psychotické epizody byla celá, pacientova existence pohlcena vztahem k této exkrementální sféře. Proto ovšem nebyl s to vztanovat se k ní jako svobodné a nezávislé “já“ (self)» jeho vztah k výkalm ho nakolik opanoval, žo celá, jeho bytost propadla této sféře- Tento stav - jeho\\' úplné propadnutí oblasti výkal, oblastí\" nečistého - pak zpsobil, že slyšel, chutnal a cítil pouze \"lejna a posranost\", že ve všem, s čím se setkával, nemohly vnímat než právě toto a že trpěl \"akustickými a olfaktorickými halucinacemi\"« J (Takovýmto smyslovým \"klamm\" nelze porozumět v opačném smyslu - tj, nelze je odvozovat od nějakého vnitřního afektu nebo od podnět v nějakém smyslovém orgánu či v některé oblasti mozku, odkud by byly projikovány navenek* Lze jim ovšem porozumět na základě stavu celé existence, která úplně- propadla sféře exkrementál- ního. ) Jedinou potřebnou věcí pak bylo poskytnout pacientovi možnost dočasného návratu před bod chybného zvratu v jeho životní historii, možnost, vrátit se na krátký Čas zpět do. chování malého dítěte. To byl vztah ke světu, který vskutku odpovídal aktuálnímu stavu jeho\\'existence. Zde .se proto mohl poměrně rychle zkonsoli- dovát do svého pravého \"já\" (self), mohl dosáhnout toho, co se mu doposud nepodařilo získat: schopnosti nezávisle přebírat a odpovědně si osvojovat všechny mož-, nosti vztahování, včetně vztahování k fekálním, pozemským oblastem lidského světa. Od té doby mohl nabývat svobodnějšího, otevřenějšího a láskyplnějšího vztahu ke stále širším okruhm bytí. Jednu věc si pacient ještě nedovedl odpustit. Znovu a znovu se ptal, jaký démon ho nechal spáchat takovou blasfémii, že kálel v kostele do křtitelnice. V této souvislosti mu pomohla jedna terapeutova otázka: nepatří k pravé povaze člověka, že se vždy musí smiřovat s tím, že k podstatě jeho bytí patří to, že je napjat mezi nebem a zemí? Možná, že právě toto napětí ho v jeho snu a. v následné psychotické krizi dohnalo k šílenství, protože ještě nikdy nepřipustil, aby a- ni to pozemsky-ne-čisté, ani to nebesky-pošvátné vstoupilo do jeho světa, a nikdy je také nepřijal jako to, čím opravdu jsou. Odmrštil obojí a vytvořil mezi sebou a jimi nesmiřitelnou vzdálenost protiklad. Proti této druhé části terapeutovy  - ‘domněnky * pacient prtidea ;p rotě st. oval. Tvrdil především, že si během své druhé analýzy dostatečně uvědomil psychickou reálnost archetypální božské představy v kolektivním nevědomí lidské psýché. Terapeut se poté zeptal, proč tedy docházelo ; k tomu, že se mu téměř každou noc zdálo o chrámových prostorách - a jak si vysvětlí podivné a neustálé střídání těchto sn se sny o výkalech a sexualitě? Chrámy jeho sn byly někdy temné, jindy světlé, projasněné népozemsky namodralým světlem, které pronikalo kopulí. V jednom nedávném snu. ;-se pacientovi zjevil sám Kristus ve své tělesné podobě a tiše, pln očekávání na něho hleděl. Jindy slyšel mocný Boží hlas, který zněl celou ohromnou katedrálou jako příboj zvon a který říkal: \"Já jsem ten, který jsem\". Od té .doby, co objal svého terapeuta po probuzení z katatonního stuporu, neměl pacient v bdělém- stavu žádné sluchové halucinace. Pacient nemohl popřít, že všechny jeho snové zážitky byly intenzívní, drtivě živé a někdy tak oblažující, že dor- kázaly ozářit i celý jeho bdělý život. Nakonec byl nucen připustit., že je se.vše- mi svými hlubinně psychologickými představami v podstatě zcela bezmocně polapen.; svými náboženskými zkušenostmi. Takto také mohl dospět k tomu, aby čelil otázce, proč se neodváží nechat tyto projevy nebesky-božského být bezprostředními skutečnostmi, které se- mu jako takové prezentují. Proč se vlastně neustále zaštituje před výzvou, kterou nabízejí, a obrací se k takovým psychologickým abstrakcím jako je nějaký hypotetický archetyp? Když byl stržen svým snem o výkalech a psychotickou zmateností, nepochyboval ani na okamžik o bezprostřední realitě své-tělesnost i. . ;   ; \\' Po dalších šesti měsících terapie, během které analytik pouze, musel \"být zde\", nic neříkat a být otevřen, neměl už pacient, zapotřebí chápat věci a lidi jako záhadné a klamné odrazy, jako pouhé psychické reality vržené něčím nepoznátelným do vědomí prostřednictvím smyslových orgán, které slouží jako nějaký, archetypální či jiný druh čoček a které-jsou částí komplexního psychického teleskopického systému. Nejevily se m ani jako něco čistě o sobě daného, něco bezprostředně nepřístupného a vybaveného významem pouze díky určitým, obrazm a rozvrhm světa (world molds, Weltentwürfe). Byl nyní schopen uvolnit prostor všemu, s čím se setkával, od toho nejpozemštejšího po to nejposvátnější, vzít to\\'vážně.jako bezprostřední ryzí skutečnosti, které se jeví v<- světle jeho Dasein, ve světle jeho pobytu zde. Tak získal svobodu a cítil se zdráv, celistvý a celý. Avšak ještě dlouho předtím ho soustavně trýznil onen sen o gotické chrámové 10 věži a učiteli anatomie, který mu byl v prběhu první analýzy srozumitelný pouze, jako symbolicky zahalené znázornění jeho kastrujícího otce. Tento sen ho přestal sužovat teprve poté, když se odvážil nechat být kostelní věž kostelní věží a onoho muže učitelem anatomie a připustil tak, aby k němu obojí přistoupilo jako takové a sdělilo mu svj pravý smysl a obsah. Došlo mu, že gotická kostelní věž je sama o sobě mohutným, k nebi směřujícím gestem. Jak sám řekl; \"Kostelní věž vede již z dálky lidské zraky k místu Božího domu.\" Na dlouhý čas, vlastně již od počátku studia medicíny, se pacient vybízejícímu volání kostelní věže uzavřel. Byl to právě jeho učitel anatomie, kterého tehdy ct.il a obdivoval, kdo svým osvícenstvím a cynismem přivodil zhroucení jeho víry v Boha. Pro pacienta tak byla pohřbena jedna z dležitých životních potencialit - jeho základní náboženský vztah. Nebot když se člověk uzavře a popře jakoukoli možnost svého chování, nemže získat své pravé já (self), svou celistvost a zstává dlužníkem vči tomu, co mu bylo pvodně svěřeno. Veškeré pocity viny hluboce koření v této zadluženosti navzdory všem rozmanitým podobám a převlekm, v nichž se vyskytují. Tato zadluženost ležela také v základech pocit viny našeho pacienta. Pvodní a konečnou příčinou jejich vynořování bylo to, že se vyhýbal jak plně tělesným, tak náboženským možnostem chování. Neprchal však pouze před setkáním s psychologickými symboly libidinózní či archetypální povahy. Uzavřel se přímo Samému odhalování pozemského a božského v jejich celé bezprostřednosti. Od hrozivé psychotické epizody, kterou prošel během konečné fáze své terapie, uplynulo asi jedenáct let. Pacient se mezitím oženil a stal se o.tce.m čtyř dětí. \\' Jeho manželství je neobyčejně životaplné a oběma partnerm přináší nesmírné lidské obohacení. Vé svém povolání je pacient znám jako mimořádně ochotný a pracovitý člověk., vyzařující vřelou srdečnost, veselost, poklid a dobrou pohodu. Je vděčný za každý nový den, protože i ten sebemenší vjem, sebemenší čin pro něho teď nabývá nového a bohatšího smysl. Nedávno se tento mimořádně, inteligentní a citově velice diferencovaný muž pokusil vysvětlit v jednom dopise svému třetímu terapeutovi, proč se mu nepodařilo pokročit dále ve dvou předchozích analýzách. Fekální sféra ho převelice zaměstnávala již v prběhu prvníanalýzy a o jeho prvním terapeutovi jistě nelze říci,- že by svého pacienta néupozornoval na analitu, převládající v jeho snech. \"Neodvážil jsem se,\" píše pacient, \"pustit se bez výhrad do této oblasti svinstva, protože jsem jaksi od počátku pocitová!, že duchovní, náboženská sféra nemá pro mého analytika žádnou nosnou sílu. Neustále se pokoušel redukovat kostely v mých snech na genitální symboly. Celá oblast posvátného se mu zdála být toliko jakýmsi sublimo- vaným oparem. To také vysvětluje, proč v psychickém prostoru této první analýzy neexistoval, žádný provaz, podobný tomu, který byl v mém snu o kostele a kálení připevněn ke stropu, provaz, kterého bych se mohl zachytit a pevně držet při svém propadání dp oblasti pozemského, fekálního. Nebezpečí, že nenávratně klesnu do svinstva a chaosu, bylo přespříliš hrozivé. Musím přiznat, že teprve nedávno jsem si to jasně uvědomil. Jsem však, přesvědčen, že právě toto bylo dvodem prvního neúspěchu.   Cas, kte-rý jsem strávil se svým druhým analytikem, mi připadá jako velice příjemný pobyt v úpravné zahradě na střeše amerického mrakodrapu, vyzdobené a obehnané květinami. Ani ten nejjemnější pach země nemohl proniknout asfaltem ulice a vystoupit ke mně nahoru. Ani jediný son o výkalech se neobjevil v prběhu oněch dvou let a při psychoterapeutických rozhovorech jsem byl na míle vzdálen onomu stavu malého dítěte, do něhož jsem byl stržen při oné zmatenosti, kterou jsem prožil, když jsem byl s Vámi. Avšak teprve skrze; něj jsem se mohl znovu narodit a dosáhnout počátečního.bodu na cestě ko zralosti. Dokud všechno dole zstávalo pevně uzavřelo, nemohl jsem se také opravdově vydat vzhru. Teprve teď plně rozumím neustálému proplétání sexuálních a exkrementálních témat s náboženskými zážitky, které mne hluboce zasahovaly během poslední fáze analýzy u Vás. Což neříká kdesi Nietzsche: \"čím více chce člověk vystoupit k nebesm, tím hlouběji musí nejprve zapustit kořeny do země, nemá-li být sražen prvním nárazem větru?\" Tento dopis odhaluje sice velice významné terapeutické souvztažnosti, nechává vsak stále ještě otevřenu otázku, proč se mnozí pacienti uzdravují, když, jsou 11 svými analytiky vedeni toliko k intelektuálnímu pochopení těch či oněch symbol. Za současného stavu našeho porozumění bychom snad mohli odpovědět, že plná a bezprostřední skutečnost fenomén proniká pro některé lidi i skrze všechny zakrývající vrstvy psychologického teoretizování takových interpretací« Pravděpodobnost něčeho takového vzrstá, je-li analytik sám (ne chtěně, ale skutečně) při svém setkání s pacientem podobným zpsobem otevřen pro nezkomolený obsah věcí, pro to, jak tyto věci jsou« Uzdrava je ovšem mnohem méně věcí náhody, jestliže se léčivý činitel lidského porozumění, daseinsanalyticky prohloubený a rozvinutý, projeví nejprve ve vědomé proměně psychotěrapeuta samotného« Freudova zkušenost nás naučila, že nezbytným předpokladem psychoanalytické terapie je \"očištění\" analytika, zprostředkované cvičnou analýzou« Jestliže se daseinsanalytikovi po letech vážného usilování, které překračuje pole psobnosti dosavadních psychologických teorií, podaří získat náhled bytostného určení člověka jakožto toho, co otevírá svět, bude mu odpovědnost, která mu je svěřena a dstojnost, která mu byla jakožto lidské bytosti propjčena, přinášet stále více štěstí« Zároveň bude o to více schopen pomoci mnohým svým pacientm, aby se nejen zbavili svých symptom, ale aby měli též podíl na lidské svobodě a otevřenosti - na dimenzích, které daleko přesahují takové koncepty jako je \"psýché\", \"subjektivita\" nebo \"osobnost\"« \\' Moralistická. sebeobrana. vyvolává u neurotika pocit viny tam; kde žádná vine nevzniká, nebo jen za velmi specifických okolností, /však vědomí skutečné viny a vědomí sebezetracení, jež jsou součástí existenciálního sebeodcizení člověka, zstávají potlačeny, nebot tu chybí odvaha, která by dokázala vzít vinu na sebe. (Paul Tillich, \"The Courage to Be\") Během posledních třiceti let se na mne obraceli lidé ze všech civilizovaných zemí světa. Ošetřoval jsem stovky pacient, z nichž bylá velká část protestant, malý počet žid a ne víc než pět či šest věřících katolík. Mezi všemi mými pa-  cienty v druhé polovině života - to znamená ve věku nad třicet pět let - nebyl jediný, jehož problém by v podstatě\\' nebyl spojen s hledáním náboženského pohledu na život. Mohu bezpečně prohlásit, že všichni onemocněli, protože ztratili\\' to, co živá, náboženství všech věk dávala svým stoupencm, a žádný z nich se skutečně neuzdravil, pokud nezískal znovu náboženský pohled na svět. (C.G,Jung, \"Modern Man in Search of a Soul\") Na psvchcanalytických gaučích dnes leží mnoho lidí, kterým by prospělo, kdyby přišli se svým svědomím do zpovědnice. Tisíce pacient dnes leží na zádech, zatímco by jim více prospělo, kdyby klečeli na kolenou. (FcJ.Sheěn, \"Peace of Soul\") 12 DISKUSE. Vina a zkušenost viny dnes Rozhovor s curyšským psychoterapeutem Martinem Odermattem Nezdá se. že by vina jako morální- událost v osobním smyslu byla dnes aktuálním tématem. Interpretace psycholog se obejdou bez ní, ba i církevní praxe ji pomíjí; a veřejné mínění ji přisuzuje převážně jen institucím a kolektivm. Je tomu tak? 0 těchto otázkách diskutuje jménem Herder-Korrespondenz D.A. Saebcr s M. Odermattem, pvodně teologem, nyní psychoterapeutem v Oberengstringen, a docentem Jungova institutu v Cuřychu-Kusnaehtu. S: Zdá se, pane Odermatte, že. dnes se mluví o vině především metaforicky nebo v striktně právnickém smyslu. Je to jen sémantický fenomén, anebo posun hlubšího významu, naznačující změnu zkušenosti a prožitku viny? 0: Domnívám se, že u dnešního člověka lze mluvit o skutečné změně prožitku a zkušenosti viny. Bylo by užitečné zkoumat problém napřed věcně a pak z hlediska řeči, Právě hlubinně psychologické školy o vině často mluví, a to o vině v pravém slova smyslu. Ale slovo i pojem jsou úzkostlivě obcházeny, protože jsou už předem zatíženy a zúženy náboženskými představami a církevní praxí. Psychologie mluví raději o odpovědnosti: např. o odpovědnosti vči sobě, vči okolí, v prostoru sociálním nebo politickém. Odpovědnost zahrnuje možnost selhání i provinění. Tím, že se pojem \"iny vytratil, vzniká neprávem dojem, jakoby zmizelo i ponětí o její existenci. S: Neměl jsem na mysli ani tak psychologii a její odbornou terminologii, jako spíše řeč každodenního života:: zda totiž právě ona neodráží změnu prožitku a zkušenosti ... 0: Myslím, že ani v každodenní řeči tomu není jinak. Právě vlivem psychologie byly v posledních desetiletích vina i pocity viny v tradičním pojetí kriticky zpro- blematizovány a také běžný jazyk se jim vyhýbá. Usuzovat, že prožitek viny tedy mizí, se mi zdá předčasné, Spíše jde o změnu v chápání viny a pocitu viny. Jsem ovšem přesvědčen i o potlačování prožitku viny.- Dosti k.tomu přispěly i církve a činí, tak dosud. ; S: Jak k tomu podle vás přispěla církev? Přílišným z dra z.ňo variím problému nebo jeho, opomíjením?  ’  0: V minulosti se vina nepochybně příliš zdrazňovala. Dokonce natolik, že pro mnoho křestan byl problém viny a snaha o odpuštění vlastním středem náboženského života ... S: Tím myslíte, že vina a pocit viny byly jakousi pars pro toto, částí, která nahrazovala celek náboženského života? 0: Ano., tak to myslím. Na základě své zkušenosti psychologa samozřejmě nepoklár dám církevní praxi pokání a opovědí za nějaký vysloveně chybný vývoj. Alespoň někdy a do jisté míry měla pravou dimenzi lidské zkušenosti se sebou samým. Kriticky posuzuji především kazuistiku viny, neodpovídající zkušenosti. Ta přispěla k tomu, že se dnes vina jaksi kompenzačně opomíjí. S; Nevzniklo toto přílišné zdrazňování také z tendence k moralizaci náboženství? Často se přece zdálo, že křestanství degenerovalo v pouhý morální systém ... 0: Ano, o moralizaci náboženství bych mluvil především proto, že vina, jak ji teologie tradičně chápala a jak s ní církevní praxe zacházela, byla sice středem náboženského živote, ale ze zkušenosti se vytratilo právě to, co je na .vině a jejím prožitku podstatné: odpovědnost člověka za utváření vlastního života; odpo- 13 věčnost fie jen vyhlašovaná, ale doopravdy přijímaná. Do značné míry se kryje se sebeurčením. Místo toho se prožitek.viny často vztahoval k morálnímu systému, kteiý člověka orientoval takřka výhradně zvenčí a. byl přitom zcela konkrétistic- ký. Vina\\'byla vlastně chápána jen jako přestupek proti normám uloženým zvenčí a jednoznačně předem daným. S: Chtěl jste tím říci, že vzhledem k možnosti viny nebyl člověk brán dosti vážně?^ Ze předivo norem bylo příliš\\'těsné, takže vlastní odpovědnost člověku plně neumožňovalo, případně ji z něho, snímalo? 0: Ano. Tradiční pojetí viny bylosvérázné \"schizofrenní”. Na jedné straně byla vina jednostranně, ne-li výlučně, problémem jednotlivce a jako společensy*év ňeby- ,1a. uznávána. Na druhé straně se však vztahovala jen ke kolektivně platným normám; tím byl člověk státem i církví zbavován podstatné části své schopnosti být odpovědnou bytostí. «  ;í’.\\' S: Když se tedy zkušenost viny redukovala na konkrétní chování podle norem, stanovených státem nebo církví/ znamenalo to vlastně přisuzovat lidskému subjektu mnohem méně odpovědnosti ... 0:  Jistě,, protože vnitřní dimenze zkušenosti viny se. v pozoruhodném rozsahu vytratily.. Nějak vymizelo vědomí, že stav viny postihuje člověka v mnoha jeho vztazích, v nichž má přece také osobní odpovědnost.\\' Tato dimenze byla sotva vnímána. S: Mluvíte tu speciálně o problematice katolictví, které na rozdíl od reformačního patosu svobody a odpovědnosti zstalo náboženstvím zákona, morálním systémem? 0: Pokud vycházím ze své terapeutické zkušenosti i z rozhovor s evangelickými- teology, neřekl bych, že tu jde o problematiku specificky katolickou. Je to spíše vývojová fáze kře st.anského zvěstování a teologie vbec. S: Měl jsem na mysli například ona velmi šn.blonovitá a přitom velice podrobná zpovědní zrcadla. V nich bylo přece stanoveno dosti přesně, jak má jednotlivec vidět své hříchy a svou odpovědnost. Nebylo právě toto potlačením nebo přinejmenším neutralizováním osobní dimenze viny? 0: To je pravda, ale podle mne je to jen jedna.strana věci. Právě tak se totiž domnívám, že zpovědní praxe byla, nebo alespoň mohla být, opravdovou možností, jak pochopit vinu ve výsostné osobním, smyslu a vzít ji na sebe. Při zpovědi byl přece člověk pokaždé konfrontován se skutečností, že musí vinu bez..vytáček přijmout za svou-a vzít ji ná sebe - bez ohledu, na nějaká, další hlediska rodinná, . sociální a politická. Jako psychotěrapéut bych tu kladl dokoncé velký otazník nad takovou církevní praxí pokání, v níž je prvek osobního vyznání viny se slaben, což potom ovlivňuje i jeho možné psobení. Nemusí tomu tak být, ale nebezpečí tu je. Ve větší skupině lidí se snadno řekneš \"Ano, všichni bereme všechny viny na sebe, já také.\" Je to skoro jako v pijácké písničce: \"Vždyt jsme všichni hříšníčkové ...\" S: Je-li to chybný vývoj, pak k němu v katolické oblasti došlo dosti zprudka: najednou se začala opomíjet praxe zpovědí, poklesla ochota ke \\'zpovídání. Odkud se vzal tento obrat? Není to také reakce na dřívější praxi? 0: Nesouhlasím s tím, že jde o chybný vývoj.. Spíše jde o oscilaci v rámci vývoje lidského vědomím Ten přece neprobíhá lineárně, ale kyvadlově, od teze k antitezi. Vzhledem k naší otázce by to znamenalo asi tolik, že po fázi, kdy byly morálka a vina vztahovány téměř výlučně k objektu, kdy byly normovány velmi konkrétně a staticky a v dimenzi individua se jevily velmi jednostranně, následoval výkyv k postoji, který na jedné straně vztahuje etické rozhodnutí a zkušenost viny k integrovanému dynamickému celku lidské bytosti a na druhé straně je současně zasazuje do rozmanitosti jejího vztahového pole. V .dějinách lze snadno vidět, že takovéto- změny postoj nastávají většinou zcela náhle. Tím spíše, čím jednostrannější byla předchá.zející situace. Dnes to platí zejména v oblasti zkušenosti viny. Církev chápala vinu krajně jednostranně - ale samu tuto krajní jednostrannost, bych z psychologické a dějinné perspektivy neoznačil jednoduše jako chybný vývoj. Obrat a změna dimenzí musela nutně nastat. S: Nezávisle na tomto vývoji vytýkají rzné směry hlubinné psychologie církvi, 14 že moralizuje tak říkajíc “psychickou surovinu\"^ tedy to, čemu freudov.ská terminologie říká \"id\"o Vedlo to například k přehnanému drazu na tzv. hříšné, myšlenky. Za hřích se prohlašovala už pudová hnutí a činnost fantazie. Není v tom podstatný moment mylného uchopení viny a tím i chybného vývoje v utváření svědomí? Ale zase už mluvím o chybném vývoji ... .0: A já bych vaši představu chybného vývoje znovu probÍematizoval ... Vycházím sice z jungovské psychologie, ale Freudovu kritiku církevního pojetí viny bych plně podpořil. S morálním hodnocením se začínalo už na rovině, která-podstatně patří ještě do předmorálního prostoru člověka. Člověk pak nemohl vnímat plnost, mnohotvárnost a dynamiku svého vnitřního psychického prostoru. Ze jména byl. na-..  prosté\\' neschopen poznávat sám sebe jako živý celek ducha a pudu, při jmout , se. tak, a pak se teprve rozhodovat, jak s těmito prvky zacházet. Toto předsunutí morálního hodnocení psobilo zvláště v oblasti sexuality a agresivity jako příčina nejnebezpečnějších vytěsnění. A vytěsnění je vždy patogenním omezením plnosti lidského bytí.  \\'   S: Vidíte v tom tedy nejen zneuznání vlastní váhy lidského duševna, ale i potlačení lidských možností? Oj Ano, tak bych to řekl. Připojil bych však, že tato amputace podstatných dimensí lidské psýché na jedné straně podnítila diferenciaci ostatních oblastí duše, a nakonec vedla jako ke své antitezi k Freudovu prlomu. S: \\' Ale bylo to přece zploštěním toho, čím vina lidsky vbec mže být? 0: Jistě. Teprve Freudv obrat k nevědomým oblastem duše, k elementárním psychickým silám, a Jungovy názory na kolektivní a tvořivé dimenze nevědomí otevřely celý vnitřní prostor člověka znovu ja.ko oblast zkušenosti se sebou samým, jako místo sebeuskutečnění lidské existence. Základní odpovědnost - a vina toho, kdo jí uhýbá - tkví podle hlubinně psychologického pojetí právě v nahlédnutí a uznání všech mnohotvárných duševních obsah, přání a možností. Takové nahlédnutí a uznání předpokládá skoro vždy dlouhé a poctivé snažení a nezřídka-i jistou odvahu. Teprve pohledem na totalitu lidské bytosti a na možnosti psychického vývoje i na jehc meze se dostáváme k druhému kroku - k etickému rozhodnutí, jak. s touto \"surovinou\" pud a možností zacházet. . 1, .... S: Není třeba církvi a teologii příležitostně vytknout ještě jiný zpsob jednostranného tematizování viny, totiž teologické zúžení? Církev a teologie mají sklon vidět vinu (hřích) převážně jako přestupek víry, jako pochybení proti Boží vli, vzpouru, proti zákonu Kristovu, tedy převážně jako, něco, co probíhá mezi Bohem a člověkem ... .;  -0: Chcete tím patrně říci, že vina, vztahujě-li še pouze k Bohu, ztrácí svou antropologickou dimenzi ... .. \" ... ; Sj Ano, chcete-li. .  _ Oj Mže tomu tak být, ale nemusí, ani z psychologického hlediska. V každém případě podle Jungovy psychologie vyjadřuje skutečnost, že vinu vztahujeme k Bohu, ten nejhlubší a nejpc&ednější význam lidského rozhodování a odpovědnosti. Právě to., žd- Boha vtahujeme do chápání viny,\\' ozřejmuje, že skutečná vina není podstatně’ přést-upek proti té či oné stanovené normě, ale že má co činit .s .tím, co-člověk dluží sám sobě vzhledem k absolutnímu nároku svého osobnostního středu, který přesahuje jeho vědomí. Jako juňgovský psycholog bych to formuloval taktoj to, co chápe věřící Člověk jako pochybení proti Bohu, je ná psychologické rovině zanedbáním ná- roku jeho JÄ. S: .Nechci to popírat. Ale- nepřichází při vědomé nebo faktické redukci vina jako lidský čin a stav příliš zkrátka? Albert Görres si v jednom rozhovoru, s teology \\' postěžoval, že: věřícímu je mnoho\\'měřítek .posuzování viny, mnoho přikázání a zákazu přístupno \"pouhou vírou\", aniž by dospěl k pravému mravnímu vědění o tom,’ že co se nařizuje, je dobré,-,a co se zakazuje, je zlé. A tak vinu jako kpnkrétní čin, např. ublížení bližnímu, věřící konkrétně nezakousl. ’1;” 0: <Nebezpečí, na něž poukazujete, bych .viděl především v tom, že teologie a cír- 15 .. kev vydávají mravní představy,-přikázání, zákazy a.normy v jejich konkrétní podobě za Boží vli, a tak je nejen odívají Boží numinozitou,\\'- ale absolutizují je a  tím je..«vyjímají z- oblasti dějinné-a psychologické zkušenosti, Prohlašovat obsaho- vě precizované normy za Boží vli je také podle mého názoru znamením neslýchané nadutosti lidského ducha a výrazem většinou zcela neuvědomělého, ale právě proto i destruktivního nároku moci jednotlivc\\' nebo církevních kolektiv. Postavit jednotlivé normy na roven Boží vli znamená projevit děsivou míru nedvěry a nedostatečný vhled -do lidské bytosti - jinak by přece bylo sotva nutné dovolávat se Boha tak zkratkovitě. .  S: Není to, že většina našich současník nevěří a že chápání viny pouze z hledis- ~ka víry pro ně není přijatelné, navíc i historickým faktem, kt.erý bychom měli mít na paměti i tenkrát, hovoříme-li o vině teologický? 0: Souhlasím. Ale myslím si, že skutečné chápání viny nebude u člověka věřícího křestansky a u nevěřícího tak docela rozdílné. Cba mají zkušenost--\\'nevyhnutelné o- sobní odpovědnosti,; at už jsou jejich sociální postavení i ostatní životní zkušenosti jakékoli. Uběžníkem této odpovědnosti bude- pro věřícího Bh, pro nevěřícího lidský život, lidská existence. Obě instance lze chápat případně nechápat jako o- sobní skutečnost i. nebo jako vágní bytí. Konkrétní- obsahy mravní povinnosti musí věřící i -nevěřící stále znovu -formulovat z co- nejobsáhle jšího ’poznání dějinné a osobní situace. I věřící, člověk uhýbá odpovědnosti,.’ když se odvolává na Boží vli, místo aby namáhavě a s rizikem omylu usiloval o vhled do vývojových ’zákonitostí lidstva a společnosti. S: Krátce řečeno: Boží vle se mu jeví -spíše v konkrétní osobní zkušenosti? 0: A v nutnosti uskutečňovat jedinečné osobní bytí co nejvíce ve všech dimenzích. To také znamená smysluplně se začlenit do\\' konkrétního společenského celku. S: Opakovaně jste hovořil o sociálním celku a o zřetelnějším’vědomí tohoto\\' celku při chápání viny. Neprožíváme však dnes jev v určitém smyslu opačný, totiž rozsáhlé exkulpování osoby, jednotlivce, e, přenášení viny na společnost? Tedy nejen vědomí společenského prostředí a odpovědnosti v. něm, což je třeba hodnotit kladně, ale - chcete-li - i negativní jev přesunutí viny z jedince na kolektiv? 0: ,. S. vaším názorem-souhlasím. Myslím však, že tato nová jednostrannost je nevyhnutelnou.historickou kompenzací«, Fo staletí církve zcela, jednostranně nakládaly - vi- _nu na jedince, aniž se v nejmenším ohlížely na.to, jak je společensky podmíněn a začleněn. ’ ý.  S-: : Nejde tu však ö něco podstatně závažnějšího, než je přiměřenější hodnocení faktor prostředí? Nejde tu o\\'minimalizaci, ne-li .o úplné vyřazení toho, co je individuální a osobní?  A    -  \\' 0: Taková tendence existuje. Posun tímto směrem začíná už u Rousseaua, který se domníval, že jedinec je pvodně dobrý a že zdrojem zla je společnost. Pak bylo možné vinu s jednotlivce sejmout a vysvětlit ji jako dsledek psobení společnosti. Freud dal této tendenci nový popud,, když empiricky ukázal, do jaké míry určuje, prostředí dítěte, jeho pozdější chování,, a to i tehdy, cítí-li se’’jedinec zcé- la svobodným a odpovědným. Musím však dodat, že Freud sám nikdy .nezašel tak daleko, aby při všem-..formativním psobení dětských zážitk a vlivu nevědomí upíral jedinci možnost osobní odpovědnosti a tím i možnost skutečné osobní viny, «í-když tohoto termínu neužíval. S: Ale vždyt právě freudovská psychologie je ye své podstatě deterministická a ve vztahu k problému viny přinejmenším ambivalentní! 0: Ano, Freudova psychologie je deterministická jako teorie i jako systém. Naštěstí však Freud není jen Systematik. Jako u každého tvrčího člověka js:ou i u něho četné protimluvy, které ostatně patří k podstatě života. Existuje také Freud, který ukládá jedinci odpovědnost za dospění ke -’’zralému JÁ”. Jako zralou popisuje Froud Osobnost, která má na- jedné, straně střízlivý vhled do. svých pudových potřeb a na druhé straně nahlíží nutnost zčásti pud sublimovat a také to dokáže. Jako jednotlivec s vlastní odpovědností stojí tedy člověk před obtížným úkolem najít 16 .. svou osobní, reálnou rovnováhu mezi bezprostředním uspokojením pudu-á jého. sublimací ve smyslu kulturním.;Přílišný posun na jednu stranu by změnil člověka v ne- kultivovanou pudovou bytost, zatímco posun v opačném směru by vytvořil inhibované- ho neurotika; . S:  Nepsobí tu.paralelně dva fáktory? Jednak rozpuštění/viny v psychologii, zejména té deterministické a behavioristické, která nedoceňuje svobodu jednotlivce, a jednak óběcná dobová tendence přesouvat odpovědnost na společnost? 0: Freud a Adler svými vývojově psychologickými tezemi nepochybně zproblematizo- vali prostor lidské svobody do té míry, že - především v popularizované podobě těchto- tezí - podpořili ty dobové tendénqe, které přesouvaly všechnu vinu a odpovědnost na kolektiv. Je nápadné, ,s jakou oblibou je psychoanalýza a individuální psychologie právě v nejnovější době užívána jako zbraň radikální společenské kritiky. Přitom tito kritikové v zaslepení téměř záměrném.přehlížejí, že společnosti .předhazují právě .to,- co po ní vehementně vyžadují. Stát a církve jsou “zlé matky\", jimž -se připisuje každé chybné jednání jednotlivce. Ano, vytýká se jim, že se chovají. jako matky, které nenechají jedince dospět a uplatnit se. Současně se od společností očekává, jako nikdy předtím v celých dějinách, že se bude starat o materiální existenci i o duchovní rozvoj každého jedince. Moderní pečovatelský stát má výrazné rysy zjevné kolektivní regrese k postojm dětského očekávání.- Mnozí za- istánci.novější psychologie mi připadají jako pubescenti, kteří hlasitě odmítají a-utoritu a \"péči\" a přitom očekávají od rodič všemožnou podporu. S: Nejsou symptomy vytěsnění posilovány ještě tím, jak psychoterapeutické metody, zejména v popularizované podobě, všeobecně směřují k likvidování viny, za niž je třeba osobně odpovídat? Pocity viny by údajně vbec neměly být., protože jsou chorobnými symptomy a sa.my chorobu psobí. Přitom se snadno...přehlíží-, že jsou i odrazem skutečné viny. A tady je, myslím, součinnost zpopularizované psychoanalýzy a ducha doby, pohybujícího se téměř v jakémsi bludu neviny, zvláště patrná. Os Ano, lze jen dodat, že u většiny současných psychologických směr je postoj k vině součástí postoje ještě dsažnějšího. Neposkytují místo nejen vině; i strach, utrpění, obět, pochybnost, smutek jsou tu pokládány za něco abnormního. Jsou odmítány jako něco, co nepatří k životu. Tento postoj se zračí ve většině současných publikací. S neuvěřitelnou naivitou je tu předkládán obraz člověka, který chce být přijímán jen jako štastná, extravertováná a \"kreativní\" bytost, snadno navazující kontakty. Zdá se,-, jako by mnohé psychologické směry se zpožděním několika desetiletí znovu zaváděly naivní víru v techniku, onen slepý optimismus, který byl na počátku tohoto století ještě všeobecný. Brání se přijmout člověka i s jeho mezemi, s joho problematičností. Kdo-bere člověku vinu, strach a smutek, bere mu i  předpoklady sebeporozumění a vlastní zkušenosti smyslu. A není tomu tak, že i církev - mluvili jsme tu přece o proměnách praxe .pokání - příliš\\'povrchně sleduje tento naivně optimistický trend a že,mu zčásti i podléhá? 0; Ovšemže, ano. V posledních letech se mi- tpnto dojem, zejména při rozhovorech sr mladšími teology,f .vnucuje znovu a znovu. Tomuto naivnímu \\'optimismu propadají především tzv. progresisté; ti nemají z kontaktu s psychologií strach, na rozdíl- od většiny jejich koleg, a často se stávají obětí naivního a povrchního optimismu. Psychologie v laciném populárním vydání zkracuje lidské bytí, o jeho \"temnou stránku\", ale- ta přece patří k jeho šíři a celku. Sí Platí to alespoň v omezeném rozsahu i o psychologii Jungově? Hugo Rahner so jednou v. rozhovoru s Jungem zmínil* že i on je jakýsi moderní exorcista ... - 0: Ne, to rozhodně ne. G.G. Jung od samého počátku přistupoval k problému viny zpsobem., který nepřipouští pochyb -o. tom/ že vina a zkušenost viny patří nutně a niterně k lidskému sebonalézání a sebeus kutěčnování. Na rozdíl od Freuda se Jung neostýchal užít termínu \"yina\", který zněl mnohým lidem zastarale. V poslední době zájem o Jungovu psychplogii na celém světě mimořádně vzrstá. Sám se domnívám, že právě z.tohoto dvodu. Jo to dnes jediné psychologické východisko, které bero vinu, naprosto vážně, ale na rozdíl od. církevní tradice ji nechápe jako něco pouze negativního, čemu se musíme snažit za všech okolností uniknout. Vina zstává u . 17 Junga vinou v plném smyslu a se vší závažností, ale dsledně se s ní počítá jako s motorem vývoje, s -ne-o domyslíte lnou částí -celku;- \"nrá\"svj’ smysl. S: To by byl velmi—zaj-ünavy obrat čelem vzad; -Ale~Tiad\\'hodím\\' jestě další aktuální problém: není subkultura mnoha skupin, pěstujících sebepoznání, zvláště silně ovlivněna oním jednostranně psychologizujícím naivním optimismem, resp. není v jeho zajetí? . .... ...- \\'0: . To je .nepochybně pravda« Většina skupinových zkušeností přece: slibuje v té či óné formě vysvobození od strachu-, pocit viny, zábran’, a slibuje cestu do ráje sebevědomého, volně . se .projevujícího a štastného člověka. Neplatí tosamozřejmé vždycky. Nejsem zásadně proti skupinám pěstujícím sebepoznání, proti skupinové terapii apod., pracují-li na základě otevřeného a fundovaného obrazu člověka. -.  .r S; Nemže, tento naivní optimismus, v který se chce osvobodit od strachu potlačováním viny, někdy vést k opaku kýženého štěstí? Není jeho dsledkem právě stoupající strach? /Nevidíte snad žádnou empiricky zjistíte lnouc souvislost mezi p% lač ování nj viny a rostoucím potenciálem individuálního i kolektivního strachu? ; 0: To tedy «vidím.-Rozhodující přínos hlubinně psychologické terapie spočívá přece především v tom, že v mnoha projevech vinu jako takovou teprve vbec rozpoznává. Potlačená nebo vytěsněná existenciální vina se neprojevuje jen strachem: velká část..psychosomatických neduh, depresí, pocit nesmyslnosti, a existenciální prázdnoty jsou nezřídka symptomy neuvědomělé viny,\\'U takovýchto manifestací viny zpravidla nejde o vytěsnění viny, kterou by člověk překračoval nějakou explicitní normu. Spíše jde o obtížněji vy st op ovate lnou vinu, která spočívá v tonr,\\' že určitému\\' věkovému období nebo speciální osobní či pracovní situaci zstal člověk dlužen něco, co bylo nezbytné k dalšímu vývoji jeho osobnosti jako celku. V mnoha případech je touto vinou dokonce nedostatek odvahy k tomu, aby se člověk provinil ve smyslu kolektivních norem. Psychoterapie nemže žádnou vinu odpustit a nečiní si nárok a- ni na to, aby od viny osvobozovala. Ale ze své praxe vím, že často dovede, člověka k dimenzím jeho vlastní viny, aby viděl, v čem je jeho dluh. Tím se mu teprve otevírá\\'smysluplný přístup k jeho vině. S: Není tomu dnes také taky že jedinci se sice ulehčí tím, že do pozadí ustoupí společenské normy i falešné pocity:!viny, ale že přitom člověk zstává velice osamělý ve.své odpovědnosti i ve ,:svém. $elháni, tedy se svou skutečnou vinou? 0: Zkušenost viny náš-\\'vždycky činí osamělými. Ale i \\'osamělost patří k individualitě člověka, právo tak jako vztah. Prohloubené chápání viny, jež se neorientuje jednostranně na stanovené normy, klade na- člověka trvale vysoké požadavky. Jedinec především nezíská od kolektivu onu štast.nou. jistotu, ^že. jeho názory a rozhodnutí jsou’ nade vší. pochybnost správné. A to je zátěž,: jíž se mnozí: cítí přetíženi. Přetížení je nebezpečné, je rizikem, že. se přetíženi, lidé, jednoho dne bezmyšlenkově podřídí autoritě, která jim řekne, co, je správné a co nesprávné, a tak se naráz osvobodí od.velkého psychického tlaku. Zde vidím velmi dležitý úkol církví a\" současně i seriozní psychologie: doprovázet člověka v jeho hledání osobního pochopení viny. Ani přeceňování, ani podceňování zkušenosti viny nepomže č.lověku v jeho antropologickém a náboženském sebeuskutéčňování.’Touto zkušeností mohou lidé buď zakmovat nebo zrát. y : ”... ” Herder-Korrespondenz 1979,8,š.393-399. (Pozn. překl.; je- třeba terminologicky rozlišovat \"vytěsnění\", něm. Verdrängung, angl._ repression, označující ‘nevědomý obranný mechanismus, který zabraňuje nevědomému obsahu vstoupit do vědomí, a \"potlačení\", něm. Unterdrückung, ang. suppression, označující vědoqiý volní akt, jímž JA aktivně odvrací svou pozornost od určitého subjektivně nepřijatelného obsahu, činíc jej předvědomým.) . 18 Kde jsou hr,a nice v i n y Jak lze spojit hlubinnou psychologii s teologií Rozhovor s mnichovským psychoterapeutem Albertem Görresem 651etý Görres byl sám velmi překvapen, když krátce po svém penzionování dostal pozvání dó Říma, aby se jako expert účastnil biskupského synodu» Když mu Hansjakob St.ehle položil jménem časopisu Die Zeit otázku, jak přistoupil k tomuto nezvyklému úkolu, odpověděl mu temperamentní a přemýšlivý psychotěrapeut, který se už dlou- -ho zná s teologem a nynějším kuriálním kardinálem Ratzingerem, \\'bez váhání: G: Už když jsem četl přípravný dokument tohoto synodu, všiml- jsem si, že tam by3- li ač .ne jmenováni - přítomni a takřka spolupodepsáni Sigmund Freud a mnoho jiných. koleg z oboru» To, čím jsem mohl sám přispět, je dnešní psychologické vědo- _mí svobody lidské vle a-jejích mezí, viny a hranice viny« To je nejdležitější přínos hlubinné psychologie křestanské nauce o člověku» Pro spolupráci na této problémové oblasti smíření a pokání (což bylo téma synodu 1983 - pozn. překl..) jsem měl ovšem docela dobrou pozici, protože klíčovým pojmem psychoanalýzy je vytěsnění» Je to biblický pojem» Vypracoval jej jeden velký Zid ještě před Freudem, totiž Pavel: psal o něm v listě Římanm (1,18)» Vytěsnění se tam vyjadřuje slovy ’’potlačovat pravdu”» Na biskupském synodu jsem tedy přišel ke slovu právě tehdy, když šlo o .problematiku vytěsnění» ... S: U věřících, kteří chodí ke zpovědi, nebo také u člen synodu, te.dy u biskup samotných? G: U všech» Vytěsnění je jedním ze základních lidských čin. Evangelium vytýká,;,  že vytěsňování ’’potlačuje“ pravdu vlastní viny, vlastní svobody, vhled člověka do- sebe sama. S: Jak jste to vnesl do diskuse německé jazykové skupiny na biskupském synodu? Ct í Především jsem se pokusil ukázat, jaké potíže má dnešní člověk s klíčovými termíny synodu» Takovým temným slovem je na,př. ’\\'pokání\". Nerado se slyší. Mj bývalý šéf, Alexander Mitscherlich, napsal knihu \"Neschopnost truchlit\". Byl to nesprávný název, měla se jmenovat \"Neschopnost litovat\", tedy truchlit nad vinou. To, nač analytik Často naráží, je neschopnost rozumně a pozitivně še vypořádat s vinou. \\'r ’ . Sí .? Protože má člověk sklon dávat vinu především tem \"druhým\"? G: Ano, přičítání viny je oblíbený, často i psychoanalytiky podporovaný \"sport\". Vzpomeňte jen knih Alice Millerové nebo Arthura Janova, které lže nesprávně chá- pat jako pokyn.k přenášení vlastní viny na rodičovskou generaci, i když to tak autoři\\'nemysleli. Determinismus, tedy\\'popírání svobodné vle, vede v psychoanalýze k \"umývání mouřenín\", k \"saponátové psychologii\", protože chce - jak vidno - vinu ze světa sprovodit. \\' - Sí Nevede-k témuž i katolická zpověď rozhřešením, které uděluje kněz? G: To je velký rozdíl. “Saponátová psychologie“ říká; vina neexistuje, člověk není odpovědný, nebot^není svobodný. Slovo \"vina“ má nějaký- smysl jen ve spojitosti se svobodou. V křestanském pojetí je člověk svobodný, zlu se lze vyhnout. Při pokání a smíření se vina uznává, nepopírá se a nevytěsnuje jako třeba komplex méně- cennosti. Člověk tu poznává: vinou jsem se znehodnotil. Pointou křestanství je, že tato vina mže být prominuta, že ji Bh chce odpustit. S: Velmi .často se však má za to, že v katolické.zpovědnici nejsou hříchy a vědomí viny ani tak překonány, jako spíše žo se často přímo vytvářejí komplexy viny. Mžete tu se svými zkušenostmi psychiatra poskytnout radu i duchovním pastýřm? G: Myslím, že ano. Mám např. dosti zkušeností s \"ekleziogenními neurózami\". Jde o lidi, jejichž psychický vývoj je těžce porušen katolickou výchovou. Nazývám to \"katolícistní\" výchovnou deformací. Jednotlivé zkušenosti psychoterapeut ukazují, jak určité chybné přístupy v křestanské výchově (nejen katolické; léčím řadu dětí 19 evangelických duchovních) vedou k určitým deformacím charakteru., S-: Mžete to ilustrovat příkladem? G: jistý mladý muž se chtěl stát františkánem, ale nebyl přijat. A tak své zcela dětinské, nezralé představy o františkánském křestanství se ted pokouší praktikovat ve vlastním manželství a rodině. Při svém temperamentu.vede i pomocí výprasku ženu a děti ke křestanským ctnostem, především k františkánské chudobě a posluš- nostij ale už ne tolik k františkánské radosti. Děti se mu nevyvedly. Jeden syn si z teto výchovy odnesl dokonce neuvěřitelnou nenávist k otci, která se projevuje výbuchy pomstychtivého hněvu. Stal se policistou, musel však službu opustit, protože své spoluobčany pseudofrantiškánsky mlátil. Když už tedy nemže toto povolání vykonávat, tyranizuje svou pětičlennou rodinu záchvaty vzteku. Je to výmluvný příklad disharmoniekého vývoje. -Sí ; Nevyskytuje se také opačná situace, když se třeba někdo vbec nechtěl stát knězem, ale musel, a pak se chová ... G: ... jako nepovedený policista. To je tím, že mnoho katolických matek touží, aby se jejich syn stal knězem. Vydatně překážejí Boží prozřetelnosti tím, že jí chtějí jakoby napomoci, ’\\'nasměrovat” tak, aby se jejich ubohý chlapec knězem stát musel. Nestane-li se jím, trpí pocity viny. S: Lze to napravit na psychoterapeutickém gauči nebo ve zpovědnici? G: V příznivém případě tomu lze předejít. Při rozumné seminární výchově (která přece také existuje) je možno takové lidi objevit a nechat odejít. Ukáže se jim, že toto pro ně není správná cesta. V kněžských seminářích i v řádových- noviciátech jsou ovšem i nerozumní lidé.. Pak to dopadá špatně. . S: Takové příklady ozřejmují to, .co jste na začátku nazval hranicí svobody vle a viny. Když si římský biskupský synod stěžoval na úpadek vědomí hříchu, uvědomil si také tyto meze? G; Vždy se vědělo, že svoboda trpí nátlakem, nesprávnou informací nebo nesprávnými postoji naučenými v dětství. Pastorace a teologie si to intenzívně uvědomila v tomto století. V dílech Josefa Ratzingera (dnešního kardinála a prefekta Kongregace pro víru) i Karla Rahnera je vliv hlubinné psychologie velmi patrný. Rahner razil ústřední pojem, který zní velmi akademicky: \"gnozeologická konkupis- cence”. Je to označení celku onoho předběžného zatížení, jehož se každému člověku dostává již s mateřským mlékem, psobením rodiny, společnosti, které deformuje jeho poznání i svědemí; nelze se mu vyhnout,, je tedy nezaviněné. Člověk za ně nemže nést odpovědnost./Pato zátěž je i překážkou křestanského vlivu. Morální teologie tu přejímá v plném rozsahu poznatky hlubinné psychologie. S: Proč se však dostala katolická církev se svou praxí pokání a zpovědi do krize, o níž se na synodu diskutovalo? G: Sama není zcela bez viny. Myslím, že úpadek zpovědní praxe souvisí s tím, ’že byla prováděna nezralou a pro dospělé lidi nedstojnou formou. Výchova ke zpytování svědomí a k překonávání viny končí prakticky dětstvím. Zdá. se však, že krize ušní zpovědi souvisí i s encyklikami o manželství. Především encyklice \"Humanae vitae\" katolický lid z valné části vlastně odepřel poslušnost. Přitom se vynořily pochybnosti o správnosti katolického učení o hříchu a pokání, které pak psobí zpětně a vedou k závěru: Je-li snad mylná manželská morálka, lze pák pochybovat o tom, zda církev nevydala zcela nebo zčásti nesprávné směrnice v oblasti morálky jako celku. Od prohlášení dogmatu o papežské neomylnosti (1870) se v tomto směru vyvinula určitá citlivost: má-li Část katolického pokladu víry pečet neomylnosti, pak vše, co. není neomylné, musí být omylné; to je logický závěr. Citlivost ohledně omylnosti církevních autorit tím mimořádně zesílila. S: Tedy i ohledně omylnosti encykliky, která prohlásila za hříšné všechny druhy chemické a, mechanické kontroly početí? .. ..   G: Ano, je třeba si jasně uvědomit, že v tomto bodě panuje mezi papežem a biskupy, teology a věřícími značné napětí. 20 Sí Bylo to možno pozorovat i v pracovních skupinách.tohoto synodu? G; Samozřejmě. Mžete sí však být jist, že takový synod nemže nikdy prohlásit, že tato encyklika je prostě nesprávná» To je i psychologicky nemožné. Mezi naukovými prohlášeními církve jsou mnohá, která jsou, jak teologové říkají, opravitel- ná,: .re formabilní» V prběhu dějin změnila církev velmi mnohé postoje; vzpomeňte si. třeba na její vztah k-náboženské svobodě ...  Sí Než se taková věc prosadila, trvalo to ovšem staletí. Nejsou některé příznaky krize, s nimiž se dnes katolická církev potýká, také dsledkem toho, že dnešní svět už nechce tak dlouho čekat? Jak se- proslýchá, bylo v německy mluvící pracovní skupině synodu toto vědomí znát». Mohl jste jako jediný psycholog, kteiý do toho směl mluvit, opravdu položit závaží svých argument na misku vah?. G: Bylo to zcela překvapující; veliká poctivost a věcnost diskuse i ochota přijmout s pochopením všechna hlediska. Skutečně jsme dokázali shodnout se jednomyslně na všech našich usneseních. o..:/ ‘ Die Zeit 1983 + + + Teologové uvažující právnicky pojímali po generace mravnost jako sféru zákona, čím byla propracovanější, tím více byla spiritualita izolována, až byla téměř zcela oddělena. Na základě lepšího poznání člověka, .který je svobodným nositelem osobního svědomí pouze tehdy,’ pracuje-li odvážně ňa své sebevládě a odříkavosti, se mravnost znovu stává uměním života, člověk, o němž mluví psychologové, je člověkem padlým a vykoupeným. Mravnost, kterou potřebuje, je etikou nikoli filozof, nýbrž jedinečného Učitele. Je to. pedagogika božská. (Jean Rimaud SJ) . -pbcit nejistoty, jehož jednou variantou mohou být i nevědomé pocity viny, nemá nic společného s vinou ve smyslu mravním,, ani s hříchem ve smyslu teologickém. Svými patologickými projevy dokonce brání vzniku mravního cítění. Právě zde je vidět rozdíl mezi pověrou a opravdovým náboženstvím\". To je proti pověře, protože jitpokládá za zbytek pohanství. Není, ostatně samo superego takovým pohanem? Jáský ideál, je tvrce, superego.\\'je plagiátor.  (Maryše Choisyová, \"Psychanalyse et catholicisme\") Říkáme-li, hovoříce.o Bohu, On nebo Ono, je to vždycky alegorie. Oslovujeme- -li hp však \"ty\", pak vkládá smrtelná mysl neporušenou pravdu světa do slova.  4   (Martin Buber, \"Já a Ty\") Řekl-li Freud, že kde bylo ONO, má být J/, platí stejnou měrou, že kde bylo NÍLJÁ, .má bý.t Jř.  . , ...  . -.u (Igor Caruso) 21 RECENZE Filozofova úvaha o vině jako, výzva k duchovní obnově Karl Jaspers: Obřízka viny (Příspěvek k německé otázce). Edice Váhy, Mladá fronta, Praha 1969. Úvahám o vině se v našich kracích povětšinou příliš nedaří. Ještě tak výčitkám a obvinování \"těch druhých\", nebot právě \"oni\" - at žijí od nás na východ či na západ anebo s námi sdílejí společné teritorium - jsou přece v převážné míře vinni naší dnešní osobní či národní situací. Ne vždy bývá dostatečně rozpoznáno, že tato situace je mnohdy situací naší duševní a duchovní nouze. Podobně nerozpoznán a opomenut bývá i náš podíl na této situaci, náš vlastní dluh jak vči ostatním, tak vči sobě samým - vči svému bytostnému určení, osobnímu i národnímu. Pokud náhodou zaslechneme slova apoštola Jana.: \"Říkáme-li, že jsme bez hříchu, klameme sami sebe a pravda v nás není.\" a necháme se jimi oslovit, či pokud se z nějakého jiného dvodu pokusíme vystoupit ze začarovaného kruhu sebeklamu a podrážděného, sebeuspokojení, stojíme leckdy v rozpacích a nejistotě před úkolem orientovat; se no- ’ vě ve své situaci, v situaci nás - konkrétních lidí, přináležejících v .tomto čase a na tomto místě k tomuto národu. S tím souvisí i úkol projasnit ono neurčité, ale přece jen patrné vědomí viny, kterou nám občas připomíná doposud tlumený hlas svědomí nebo právě \"ti druzí\". Málokde vystoupila otázka viny a situace celkové nouze tak výrazně jako v případě německého národa po druhé světové válce. 0 to poučnější mohou být’ pro nás pokusy o orientaci v tehdejší situaci a o projasnění vícevrstevné problematiky viny - jak kolektivní tak individuální - a její genezeJ Jaspersova útlá knížka. \"Otázka viny\", která vyšla krátce po porážce Německa, je - či mže-být - současně výzvou i vodítkem, jak vzít otázku viny vážně, -jak se v ní vyznat, jak hledat vlastní pravé cesty a rozpoznávat úskalí a svody cest falešných;.\\'’\\' , . - \\' ; . Záměr dílka nezapře autorovo celoživotní úsilí--o\\'pedagogické a terapeutické”v psobení filozofie. (Filozofie, obohacené u Jasperse předchozím studiem práv,’medicíny, psychiatrie a psychologie a předznamenané rozsáhlými pracemi \"Všeobecná psychopatologie\" a \"Psychologie světonázor\"; filozofie, která po těchto počátcích stále výrazněji směřuje k \"pro ja snování\" či \"osvětlování\" existence. Filozofie, která se podle Gerharda Krügera. na konci.moderního myšlení, tváří v tvář nihiliš- mu, vrací k metafyzické teologii, jejímž popřením bylo moderní myšlení zahájeno; činí to ovšem nikoli ve smyslu antické, ba ani křestanské filozofie, ale stále ještě na pdě moderního osvícenství. Jaspersova kritika suverénní soběstačnosti moderního myšlení, podle Krügera, pdu tohoto myšlení neopouští.)  Jaspersova řeč je od počátku jasná a zřetelná. -Abychom se uchránili plochého tlachání o .vině, které klade bez rozdílu všechno na-jedinou rovinu a posuzuje to J v hrubém záběru jako špatný soudce, rozlišuje Jaspers čtyři pojmy a jejich prostřednictvím se poté pokouší objasnit tehdejší německou situaci. Kriminální vina se týká zločin, které spočívají v objektivně prokazatelných činech. Instancí je soud, .který zjištuje skutkovou podstatu, aplikuje na ni zákony a stanoví případný trest. Politická vina leží v oblasti státník a příslušnosti k určitému státu, jehož moci jsme podřízeni a jehož řád umožňuje náš život. Všichni ’občané \"odpovídají zá to, jakou mají vládu; .každý v politickém smyslu odpovídá za viny, kterých se dopouští stát, k němuž přísluší. A Jaspers se dále dsledně ptái Máme být my Němci odpovědni za zločiny, které na nás spáchali ’Němci nebo jimž jsme ušli jakoby zázrakem? A odpovídá: Ano - pokud jsme strpěli, aby.u. nás vznikl takový režim. 22 Ne - pokud mnozí z nás byli svou nejvnitřnější podstatou nepřáteli tohoto zla a pokud nemusí uznat, že jsou v dsledku nějakého činu nebo nějaké motivace spolu- vinni. it někoho odpovědným však neznamená dávat mu morální vinu« Morální vina se týká čin, jichž se dopouštím jako určitý jedinec» Jsem zodpovědný morálně za všechny své činy, i za politické a vojenské činy (byt provedené na rozkaz), které vykonám. Instancí je zde vlastní svědomí a komunikace s milujícím člověkem, který má živý, zájem o mou .duši.. .Z morální viny--v-y-rstá-morální- náhled a tím i pokání a obnova. Metafyzická vina je nedostatek absolutní solidarity s člověkem jako Člověkem. Tato solidarita..^ustává trvalým--požadavkem i tam, kde už morálně smysluplný požadavek končí. Je porušena, přihlížím-li (jakkoli zdálky), jak dochází k bezpráví a zločinu. Instancí je zde jedině Bh. Z metafyzické viny vyplývá, pokud ji přijmeme, přeměna vědomí vlastního já před Bohem, jež mže vést k počátku nového vnitřního života. , Prizmatem tohoto rozlišovacího schématu pak Jaspers, analyzuje situaci Němc v dpbě Norimberského soudu. Opakovaně však upozorňuje na. to, že všechna tato rozlišení vedou k omylu, ne jsme-íi si stále vědomi,-. jak velice spolu zároveň všechny rozlišené druhy viny souvisejí., .  .Rozlišení neplatí absolutně - nakonec spočívá prvopočátek toho^ co nazýváme vinou, v tom, co vše obsahuje a přesahuje. ..Rozlišování však projásnuje a ukazuje na to přesažné. Rozlišování ruší totalitu, neosobnost, .a otevírá prostor spravedlnosti. Rozlišovat je třeba i při posuzování- jednotlivce a kolektivu. Nerozli- šující^ glajchšaltující myšlení, myšlení v pojmech kolektiv oproti tomu zastírá, znejasnuje a vposledku škrtá lidskou jedinečnost’ a nezastupitelnost. . : \" Nejen z těchto dvod je Jaspersoya práce aktuální i dnes. Nepromlouvají např. následující slova též k nám a do naší situace? ’’Morální prohřešky jsou základem poměr, z nichž politická vina a zločin teprve vyrstají. Dopouštět se nesčetných malých čin nedbalosti, pohodlného přizpsobení, laciného ospravedlňování bezpráví, nepozorované podpory bezpráví, podílet se na vzniku\\'veře jné atmosféry, která šířícejasnost a jako taková teprve umožňuje zlo, to vše má následky, které zčásti také-podminují politickou vinu na poměrech a dění. Do morální oblasti patří i nejasné ponětí o významu moci v lidském, soužití. Zastřít tento základní stav věcí je právě tak vinou jako falešně zabsolutnit moc jako jediného určujícího činitele událostí.” A mohli bychom pokračovat dále- - sledovat např. běžné-typické případy morální viny Němc v době nacistické diktatury; život v masce, falešném svědomí\\',  polovičatost, vnitřní připodobnění, sebeklam, pasivita, souputnictví. (Některé ú- vahy a postřehy nám připomenou knihu Maxe Picarda ’’Hitler v nás\", zabývající. se mj. předpoklady rozšíření a psychosociální strukturou.německého národního socialismu). Nebo tendence, které nás svádějí, abychom se vyhýbali očistě: vzájemné . obvinování - určitý druh přerušené komunikace a jako takové symptom nepravdy.; sobe z-avržení a vzdor jako následek otravy morálišmem; vyznání viny, které z něj případně; vyrstá, je falešné;\"uhýbání do jednotlivostí, které jsou samy o sobě správné, -ale pro otázku viny nepodstatné, anebo naopak uhýbání do nějakého druhu obecnosti. Zde všude mžeme nalézt podněty a, vodítka, které nám mohou .pomoci při stanovení vlastní.diagnózy a jí odpovídajícího zpsobu terapie -,v tomto případě často autoterapie či’vzájemné terapie lidí, kteří si v pravdě a lásce dovedou říci i tvrdá, vposledku však osvobodivá slova. Otevřeme-li se a připustíme-li si svou situaci současné duchovní nouze, otevírá se nám,, jak říká Jaspers již v úvodu své knížky, jedinečná možnost. \"Nebot právě v nouzi mžeme mít .0 to větší smysl pro nejnezbytnější: očistit se ve. vlastní duši, a pravdivě myslet a jednat, abychom mohli uchopit život z ryzího zdroje tvá£ ří v tvář nicotě.” Na jiném místě, jak víme, hovoří Jaspers v podobných souvislostech o Bohu.- Zdá se však, že Bh u Jasperse není Bohem Zjevení, .nýbrž sp-íše \"bohem metafyziky\" a casta., která k němu vede je ..spíše cestou \"filozofické víry\" a méně cestou, víry-dvěry-lásky. Proto snad Jaspers zstává stát mlčky’ před prahem naděje, kterou mže křestan čerpat z pokračování již citovaných slov Janových: \"Jestliže doznáváme své hříchy, on je tak věrný’a spravedlivý, že nám hříchy odpouští a očišjtuje nás.- od každé nepravosti.’’ Pravdivost, o níž Karl Jaspers celým svým dí- lem usiluje a - ke které vyzývá, je však i zde nutnou a nezbytnou podmínkou. - Pavel - 23 O zlu ajeho přemáhání A. Görres, K. Rahner: Das Böse» Wege zu seiner Bewältigung in Psychotherapie und Christentum, Herder, Freiburg 1982. V čase globálního ohrožení je slyšet stále naléhavější volání po větší odpovědnosti v.životě individuálním i .sociálním, ve vztazích nejintimnějších i mezinárodních á celosvětových. Zlo a vina se.stávají “velkými tématy”. Knížka, o které chceme referovat., je jednou..z mnoha sond do této problematiky, - Albert Görres, autor prvé, studie - Zlo a přemáhání zla v psychoterapii a křes- ta.n ství - je p.sychoterapeut. Proto se jeho * úvaha pohybuje v p sychologické a.,psychopat o logické rovině» Klade si trojí základní otázky: co je zlo, proč se z.lar dopouštíme a zda jsme vskutku tak beznadějně zlí, jak se to někdy podává. Všechny otázky pak ústí do otázky čtvrté: jak zlo přemáhat. Autor konfrontuje situaci V psychoterapii, psychoanalýze a v křestanství. \\' . . Nejprve tedy:  zlo v mravní rovině? Autor vychází z morální intuice, z bezprostředního nahlédnutí, že.my sami máme jistá práva, která nárokujeme a že tedy všichni.\\' lidé mají tatáž práva. Zlo je porušením těchto práv, zlo je bezpráví. Zní prý to poněkud ’juristicky, ale představuje1 to přece solidní základ pro lásku. Ostatně, spravedlnost je centrálním pojmem Starého i Nového zákona a bez tohoto základu se ocitáme ve vzduchoprázdnu. Právo a spravedlnost nelze ztotožňovat se zákonictvím, legalismem-. a. lpěním ..-na pravidlech. Ohled na druhé a jejich práva je primárnější. Ve všech náboženstvích pak nalézáme přesvědčení, že zlem je porušena Boží sféra, že Bh či bohové jsou-\"uraženi \"Ï Vina se netýká jen mezilidských vztah, ale\\' i kosmického řádu, je- kouskem metafyzického \"znečištění prostředí\". Vina má vždy co.dělat s Bohem-»\\'Bezpráví je hřích. Autor ještě cituje sv. Tomáše Akvin- ského: \"Bh-.-není ničím uražen tolik ƒ jako tím, co děláme proti svému vlastnímu blahu (bonm);\" A dodává: zde je blaho člověka mírou všech věcí. A zlé je všechno,- co míří .proti bláhu a spáse člověka, blahu, které je Boží vlí. \\'Druhá otázka: Proč jednáme zle, proč pácháme zlo, tedy otázka po motivech zla. Člověk\\'vlastně nechce’zlo. Chce jen špatné dobro. \"Zlo je dobro na nepravém místě\" (s.\\'M2). Každé zlo obsahuje nějaký falešný úsudek, omyl, přecenění nebo nedocenění \"nějaké hodnoty. Zlo má puvo.d ve dvojí rezignaci: je nevyhnutelné, jestliže není možné bezpečně poznat etickou pravdu..Dnešní obecně rozšířené přesvědčení o ilužívnosti veškeré pravdy a tedy i pravdy mravní je soumrakem morálního: člověk pouze hledá a nalézá sofistická ospravedlnění svých čin. To je rezignace na poznáte lnost mravní pravdy. Doplňme ještě, že autor nenalézá ve filozofické rovině žádné poslední zdvodnění závaznosti morálních norem. Vidí je pouze v onom \"nekonečném vhledu do všech smysluplných vazeb jsoucna a jeho svaté vli\" (s. 61). Pak je rezignace na možnost dobrého, když člověk cítí, že není s to splnit všecko, co od něho druzí očekávají, když je přemožen zlem z vlastní slabosti, ze slabosti vle. Nejvážnější zlo však vzniká z fascinace absurditou, z protestu, když je člověk \"zajat zlem\". To je zlo jako sebezbožnění, falešný sebeideál, z protestu. K tomu si jenom připomeňme naše starší i novější diskuse o titanismu. ; Ještě otázka třetí: Jsme zlí? Víme, že naše skutky bývají zlé. Ale tvrzení, že člověk je prostě bytost od základu zlá, tento morální pesimismus, nás děsí. Je známo, že u kořene mnoha ’duševních poruch je nevědomá nenávist, silnější než láska. Ale člověk je nadán i k lásce a dobruj je v této své dispozici k dobru i zlu bytostí ambivalentní. Takže nutno položit otázku čtvrtou, rozhodující: Jak přemáhat zlo? A nejprve: jaký návod podává psychoterapie? Se zlem se v ní setkáváme spíše nepřímo. Jejím cílem je především rozšířit akční prostor svobody, zúžený úzkostmi, nutkřivými tlaky a náruživostmi, aby se snadněji otevřel pro moudrost, právo a dobro. Psychoterapie umenšuje zlo tím, že odstraňuje překážky dobra. V mezních situacích neurózy a psychózy jde s pacientem jako ochranný doprovod až k samotným hranicím zla - autor nazývá tento postup \"principem tunelu\": \"Znovu se rozjasní, když člověk najde odvahu projít nejhlubší temnotou\" (s. 140). Předmětem analytického vysvětlení jsou 24 chybné výkony a chybné postoje, tedy i falešné pocity viny, pocity viny \"na^ne- správném místo a v nesprávné míře”, ale také iluze či bludy nevinnosti, Uvedme příklad: mučivé výčitky svědomí po zcela zanedbatelné chybě nebo ’’čisté”, klidné svědomí po podlém činu.  .  \" Avšak opravdová vina už vlastně překračuje hranice psychoterapie. A tak autor hledá odpověS v křesťanském výkladu zla a jeho přemáhání. x Nalézá ji v listu do Říma 12,21, v onom prostém a jediném receptu ‘-’nench se přemoci zlem, ale přemáhej zlo dobrem”. Zde není dobro nějaký abstraktní filozofický princip. it, -dobře a jednat spravedlivě\\' znamená vždycky být ve vztahu k druhým. A kdo vybízí k dobru - Konfucius,\\' Buddha, Sokrates nebo Ježíš - ten přikazuje lásku. Lze však lásku přikázat?. Stěží asi spontánní citovou lásku sympatickou či erotickou. Daleko spíš onu docela\\' střízlivou ochotu ostatní -.uznat, přát jim jejich práva, mít na ně ohled, přibližovat se k nim šetrně, blahovolně, nápomocně. Ochota pomoci v nouzi je\\'.první nezbytný předpoklad pro přemáhání  zla a .učení se lásce. A pak je tu druhý, předpoklad: ochota odpouštět bezpráví bez prošení. Každá zášť, která se uhnízdí v srdci, odpor vči druhému,, nedobrota, neláska .řuší-.přátelství s Bohem i lidmi. Mohli bychom nenávidět, chtěli bychom nenávidět, ale nesmíme nenávidět. V tom je\\'naše šance na dobrý, vždycky možný začátek (s.- 19Š). Prostředek jak zrušit‘dabeiský kruh zla, je modlitba. Jí vstupujeme do Boží blízkosti, v ní nalézáme světlo -a\\' sílu, které potřebujeme, jednotu porozumění, cítění a sražení, kterou sv. Augustin nazval prostě \"cor”: srdce.. ’’ ..  * Myšlenky, které první autor knížky rozvinul na rovině psychologické, završil druhý autor, Karl Rahner, úvahou teologickou: Vina, odpuštění a obrácení v křesťanské víře. Rahner patří nepochybně k nejhlubším-teologm našeho století. \\'I jeho studie o vině, odpuštění a obráčení*vyniká myšlenkovou sevřeností; je těžké pokoušet se. o ’’stručný obsah\", povězme pouze toto: Dnešní člověk se vidí jako autonomní aubjekt, jehož dějiny jsou objektivací jeho svobody. V těchto dějinách nelze chemicky čistě oddělit svobodu a nutnost,\\'ze jména ne u jednotlivých čin. Ale život právě není pouhým, sřetěžením jednotlivých čin,\\' nýbrž ..celistvým útvarem, existencí,*a\\' člověk prožívá svou odpovědnost za tuto celistvou-existenci i za její zpochybnění, zfalšování. V této hlubší životní dimenzi, ne na povrchu, se rozhoduje o vině, mohli bychom říci o existenciální vině, jež znamená \"ne” . vči Bohu.- Tato vina je lidsky neodpustitelná. Člověk se mže pouze v neoddělitelné, jednotě dobra a zla své existence bezpodmínečně odevzdat Bohu a jeho slitovné lásce v aktu pokání. Odpuštění je největší nepochopitelný zázrak Boží lás*- ky. A slovo Božího odpuštění se stalo časoprostorově konkrétním v Ježíši Kristu, ukřižovaném a vzkříšeném. Církev pák\\'; je -základní svátostí tohoto Slova Božího odpuštění i č  \\'   . : + + + - Vina je skutek-, který člověk dluží sobě nebo světu. Viník je dlužník. Je. tím kdo se onomu skutku vyhýbá. (H..Göppert, \"Schuld und Neurose\") Bh loví lidi nepokojem. (Sören Kierkegaard) 25 EXCERPTA A REPRINTY Věra Svobodová Naše současná civilizace se vyznačuje hypertrofií vnějšího, materiálně zprostředkovaného ovládání, které vyvolává atrofii vnitřního, duchovně podmíněného rozumění. Pouhá vnější, obrana proti mezním situacím (jednotlivc, skupin i lidstva jako celku)’ přitom spíše podporuje jejich nepřirozené zmnožování«» Přirozeně a účinně lze, mezním situacím čelit jen z vnitřních, bytostných zdroj«. 1» Jsoucna Pro každé jsoucno je existenčně výchozí vnitřní, z hloubky bytí .vycházející svébytnost. Situace vzniká, teprve vzájemným kontaktem jsoucen; jé souhrnem vnějších podmínek a okolností, za nichž něco existuje nebo se děje. Pro jednotlivé jsoucno’ je situace bud relativně příznivá, nebo relativně nepříznivá.- Vrcholnou nepřízní, kdy je ohrožena svébytnost jsoucna až k mezi jeho existenční odolnosti, se vyznačuje právě situace mezní.- Možnost překonání mezní situace vyplývá z toho, že jsoucno existuje z bytí. Mezní situace je pro jsoucno krajně ohrožující i krajně tvořivě podněcující. -r v.-.- 2. Člověk Specifickou mezní situací subhumánních živých jsoucen je situace ohrožení života. Postoj člověka k vlastnímu životu není instinktivní, není jednoznačný. To, čím bytostně je, neztotožňuje člověk s vlatní fyzickou existencí. Má zásadní vazbu k hodnotám. 0 ně je jeho život ’’opřen” a kvli nim je zachraňován nebo obětován. Specifickou mezní situací člověka je ta, která ohrožuje hodnotu pokládanou jím za nejvyšší. Svébytnost člověka tak prozrazuje ontologicky jedinečný duchovní. charakter. 3. Hodnoty V situaci lidského ohrožení je buď 1. ohrožena realizace hodnoty, nebo 2. ztracena realizace hodnoty, nebo 3. zpochybněna platnost hodnoty. Tuto hodnotu si člověk volí. Jednání člověka v mezní situaci prvého stupně je vedeno snahou zachránit situaci á prostředkem této snahy je. mobilizace odvahy. V situacích druhého stupně je to snaha vydržet situaci mobilizací naděje. V mezních situacích třetího stupně je to snaha porozumět situaci spolu s mobilizací moudrosti. . \\' 4. Smysl . . 7  Při\\' vědomé volbě, obraně případně vzdání se hodnoty se člověk neřídí situací, nýbrž tím, zda. určitá hodnota má čí. nemá pro něho smysl. Smysl hodnoty nemusí-být v souladu se situací. Smysl neodkazuje k situacím, nýbrž k bytí; je. jeho \"znamením\\'\\', .které se vynořuje jako podpora člověka Či jako výzva. Každý vědomý postoj člověka k hodnotě je řízen hlediskem smyslu. To, která hodnota je pro člověka- skutečně nejvýznamnější, mže vysvitnout teprve v situaci jejího ohrožení. Mezní situace ^většinou vyvolávají vědomé prověřování smysluplnosti životně dležitých hodnot. Člověk mže být v mezní situací i upozorněn, že zdánlivě nejvyšší hodnota pro něho ztratila smysl. Ověří-li si, že ohrožená či ztracená hodnota má smysl, je to pro něho zdrojem nevyčerpatelné vnitřní síly. V mezní situaci třetího stupně se člověk ocitá v situaci základní nezajiště- nosti, nejistoty; je prověřován, zda má dvěru v jednoznačný \"smysl vbec\". Vědomá otevřenost vči smyslu je vždy nadsituační. \"Žízeň\" po smyslu je vlastně \"zapomenutím na sebe\"; Člověk se tu dává smyslu k dispozici, místo aby ho pro vlastní potřebu hledal. To je podmínka otevření se absolutnímu horizontu. Klíčová osvobozující chvíle porozumění není tolik \"nalezení smyslu\", jako spíše \"nalezením sebe 26 Člověk v mezních situacích ve smyslu”: dostaví se, jde-li člověku o smysl ne kvli sobě, nýbrž kvli němu, kvli smyslu. Pak vyjde člověk z mezní situace proměněno 5. Bytí Vnějším aspektem své svébytnosti se člověk ocitá v situacích, zatímco jejím vnitřním aspektem vychází z bytí. Lidská svébytnost spočívá v existenčním vztahu k hodnotám, proto má člověk těžiště šebeurčení právě v něm, a to jak vzhledem k situacím, tak i vzhledem k bytí. Směrodatná jsou tu dvě základní kritéria: a) vzhledem k situaci - realizovatelnost hodnoty? b) vzhledem k bytí - smysluplnost hodnotyo Při volbě nebo obhajobě hodnoty mže člověk přihlížet jednou více k onomu, jindy více k tomuto, \\'a podle toho zvyšovat bud svou závislost na situ akcích, anebo svou-odpovědnost vči bytí.- To druhé znamená svobodný vztah‘k situacím, to prve je zotročením situacemi. Jinými slovy: bud. příklon k chaosu situací vbec (k univerzální ’relativitě všeho), anebo k řádu bytí vbec (k univerzálnímu absolutnu). Orientace. situační znamená vzdát se smysluplné-hodnoty, protože je nerealizo- vatelná, a .realizovat.hodnotu nesmyslnou, avšak dosažitelnou. Orientace bytostná naopak z name ná., vzdát se realizovatelné hodnoty,  je-li nesmyslná, a realizovat,’ byt obtížně, tu hodnotu, kte.rá je srny slupina - a tím vytrvat v lidsky naplněném souladu s bytím. ; ... . .  Situační řešení podřizuje smysluplnost realizovatelnost i-, bytostné řešení na- - opak: uchovává svobodný vztah k situacím i k vlastnímu životu ve jménu odpovědnosti vči smyslu a bytí. Situační řešení přisuzuje ontologickou dominanci situacím, a proto odmítá bytí \"připustit do hry\"; bytím označuje toliko souhrn všech situací. Bytí však ze sebe stále vydává, zatímco .situace stále, pohlcuje. V jejím víru ztrácí člověk sám sebea za odpovědnost vydává, přizpsobivost; skrze ni získanou situační moc pak oslavu je’ jako \"svobodu\". ?. .  Střetnutí, člověka sloužícího situacím a člověka sloužícího bytí je pro. .oba mezní situací... Navenek často- prohrává ten druhý; ten první mže zakusit pocit viny (poznání, jedná proti bytí, že jo zradil nebo od něj odpadl)\\'. Situační orientace vede k vnější prosperitě, ale lidská svébytnost je rozkládána relativitou této situačnosti; člověk je pak dezintegrován na prvočinitele ryze vnějších faktor svého života. Naproti, tomu zakořenění lidské-pareiality (tj. nenárokování si univerzálního situačního prospěchu a moci) v bytí jí přináší absolutní životní dimenzi. V mezní-situaci-se člověk vlastněn ocitá mezi bytím a nebytím. Aktualizuje se mu otázka,- zdá být’.či nebýt. Odmítání mezních situací, za - každou cenu- je proto ..ohrnitáním specifického lidského bytí. \\'6. Láska. Bytí je láska. Jen proto vbec něco je. Milovat znamená připojit se k bytí. Připojit se k němu, podporovat je ve yšem, co je, a to nezávisle na situaci, kvli němu samotnému.’Situace je vlastně úhrn\\' vnějších psobení-jsoucen na určité jsoucno, kterié je podmíněně vyčleněno jako \"střed\" situace. Zásadním východiskem z .mezní: situace je učinit jejím středem...niko li \"já\", nýbrž - samo bytí. Sub specie bytí se ohrožení již\\' jeví jinak. Příklonem k bytí není člověk zbaven mezních si-; -tuací,- ale. je zbaven fascinačé jimi. Je osvobozen k lásce. Mezní situace jsou, trvale: možnou součástí existence-\\'každého jsoucna. Je možno se. na. ně připravit. Nelze .se jim vyhnoüt. Lze jimi-pro jít do bytí nebo nebytí. Mezní’ situace je tak náročnou lekcí v \"umění být\". Ohroženému lze pomoci situačně (podporou ekonomickou, sociální, medicínskou, psychologickou, ideovou), ale i bytostně,.tj, spolubytím. Pouhá situační pomoc mže mezní situaci prohloubit. (Stručný.výtah z obsáhlejší, studie z r. 1984, kolující ve-strojopise. ) Mravní- p ř i’ č í t a t e l n o s t v i ny Johannes Gründel lo Subjektivní a objektivní povaha mravní viny Pojem viny..patří k-podstatě. morálky. Předpokládá se-, že člověk je povolán k svobodnému, odpovědnému a mravnímu sebéurčenl, že je schopen se rozhodovat a .přejímat odpovědnost; tedy, i uvědomit si vlastní odpovědnost za svá špatná rozhodnutí, V tom tkví vnitřní dvody výtky viny, nezachoval-li se pachatel správně a rozhodl-li s§;pro nesprávnost. Vina, je čímsi objektivním i subjektivním,. Je subjektivní, pokud lpí na-člověku jako na subjektu a pokud předpokládá minimum soudnosti a svobody rozhodování. Výtce viny odpovídá za normálních okolností vědomí viny, které je třeba odlišovat od pocit viny. Pocit viny mže totiž existovat i zcela bez viny, nebo mže přetrvávat i po jejím zahlazení. Opravdové vědomí viny by mělo za normálních okolností zmizet jejím zahlazením a usmířením, . Vina je objektivní z hlediska hodnoty, která nebyla uskutečněna; tedy z hlediska povinnosti, kterou člověk nesplnil. Mravně významnou a přičítáte lnou je však vina jen tehdy, jsou-li také dány subjektivní předpoklady: poznání a možnost svobodného rozhodnutí. Existuje též taková vina, která sice je, ale jíž si provinilec pre narušené svědomí není vědom nebo jíž si úž není vědom. Naopak se u neurotik setkáváme s přehnaným pocitem viny, který vbec neodpovídá skutečně vzniklému přestupku, Spíše je výrazem \"existenciální\" viny, kterou v sobě neurotik nese: je dlužen sobě i společnosti vlastní odpovědnost a zralost, jíž prozatím nedosáhl, at už z -jakýchkoli dvod. Přesnou míru osobní odpovědnosti a viny nemže přiměřeně postihnout ani subjekt sám, ani někdo jiný. Přesto se stále ukazuje, že je nutné poznávat míru osobního provinění alespoň přibližně, Z teologického hlediska je vina vždy také proviněním před Bohem,-\\' i když se . tento zřetel k Bohu uskutečňuje jen zprostředkovaně- a člověk si jej neuvědomuje přímo. Teologie označuje toto provinění před Bohem také slovem \"hřích”. Mluví-li \"bible o- \"hříchu” nebo o \"hříších”, naznačuje tím, že faktické provinění poukazu-  je na hlubší existenciální provinilost člověka i sv-ěta, . - i:-i: Osobně mravně pčičítatelná vina předpokládá minimální míru poznání hodnoty a svobodu. Přitom svobodu nelze-.chápat jako naprosto nevázanou volnost.; víme o hranicích své svobody, o rozmanitých pohnutkách vědomých-i nevědomých, které určují naše jednání. Jednání motivované však ještě neznamená jednání,-nesvobodné. I když se svoboda nedá pádně prokázat tak, aby .si jí mohl být člověk1 plně’jis.t, přesto ji nelze zásadně zcela zpochybnit. : 2. Transpersonální povaha viny Pojm vina a hřích je. možno užívat i v t ran sper sonálním smyslu. Z vlastní zkušenosti víme-, \\'že lidské selhání vychází jen zčásti ze z^é vle, za niž má člověk osobní odpovědnost; že se na skutku příčícím se normě nebo na trestném čin podílejí i jiné faktory. Mžeme mluvit přímo o dialektice zla ve světě. Bezpráví, zabíjení nevinných, vražd, nenávistných myšlenek a čin se lidé dopouštějí bud jako čin osobně zaviněných,.anebo jako skutk, do nichž se člověk zapletl v tísni, tedy jako zpsotP-chování, při nichž v určité situaci spolupsobí rzné faktory. Je nesporné, že se v. lidské společnosti stále znovu vynořují takové síly a struktury, které představují jakési ztělesnění či sedlinu runých projev lidské zloby. I když se nerozlišující tvrzení, že.\"jsme nuceni se provinovat\", nedá morálněteologicky udržet (nebot předpokladem viny je poznání-.hodnoty a odpovídající míra dobrovolnosti), přesto má taková:výpověď určité oprávnění, rozšíříme-li pojem viny i na ono zapletení člověka v tísni do zlého a nespravedlivého počínání, do něhož mže být jednotlivec stržen. Zlo a. bezpráví ve světě mají tedy povahu jak osobně zaviněného počínání, tak i transpersonálního dění, v němž světsky imanentní společenské \\'struktury uvádějí člověka do spletitých situací, zatahují ho do spolupachatel- ství bezpráví, zabíjení apod. Vymezit jasně oba tyto faktory se zdá být téměř 28 nemožné. Potud zstávají hranice mezi osobní vinou a společenskou spoluvinou plynulé« Za každým kriminálním činem stojí totiž jako odsouzeníhodný spoluviník i prostředí provinilce, jeho minulost, rodina, společenské.; struktury a,\\', snad i dědičné zatížení« Proto naprosto nestačí’ vidět pouze pachatele jediného a zkoumat joho odpovědnost. Musí se přihlížet i k transpersonálním faktorm\\'nespravedlivého skutku» Za personifikací zla v ďáblovi, s níž se setkáváme i v mimokřestanské oblasti, je zkušenost psobící moci zla, jež přesahuje zlo, za.něž člověk bezprostředně -odpovídá. --Poukazu je-li sé dnes na represivní struktury společnosti, mluvírli se o ’’zlých” systémech, stojí za tím zkušenost s neblahými silami, od nichž se jednotlivec nedokážezcela odpoutat a které jej přivádějí ke zpsobm jednání, sloužícím eskaláci zla ve světě. Presto by bylo nepsrávné, kdyby byla z hlediska tohoto třanspersonálního charakteru viny každá dsobní odpovědnost a vina-za nesprávné chování zásadně zpochybňována. :-,j <.’ 1\\'   (Strafen und Vergeben; v: Christlicher Glaube in moderner Gesellschaft, sv. 13, Freiburg im Breisgau 1981, str. 141-144) . - Vina a pocit viny Martin Buber V prběhu dějin se sice každá věda v procesu\\' svého odpoutávání od univerzálních\\' souvislostí a při-zajištování samostatnosti své sféry stále přísněji věcně i metodologicky vymezovala; žádný skutečný vědec si však nemže zachovat živý . vztah ke skutečnosti - vztah, při jehož ztrátě se celé jeho dílo stane pouhou hrou podle pravidel - jestliženebude vždy znovu\\'a znovu, kdykoli se-to ukáže nutné, vyhlížet 1\\' za meze -svého, oboru, do oblastí, které sice nespadají do jeho vlastní pracovní náplně, kterým však přesto musí věnovat plnou pozornost, má-li dostát\" svému vlastnímu vědeckému úkolu. Pro psychoterapeuta tvoří \"tuto oblast faktický prběh takzvaného vnějšího života pacienta a v něm především pacientovo jednání a postoje, zvláště pak aktivní podíl pacienta na mnohotvárných vztazích ke světu lidí. Na těchto- vztazích se podílí pacient nejen svými rozhodnutími,,riýbrž i svou neschopností učinit konkrétní rozhodnutí, pokud pro něho tato.nerozhodnost má-ppdpbné z jevné dsledky jako, rozhodnutí. \\'  \" . -.  Psychotě rapeut se\\' v rámci metodiky svého oboru zabývá jen vědomými a ’’nevědomými” pocity viny. (Již Freud si byl vědom rozporu\\', který obsahuje pojem \"nevědomé pocity\". ) V zájmu univerzálnějšího úsilí o poznání a pomoc člověku však bude muset čelit i vině samé, vině jako onticky charakterizovanému.- faktoru, : který- není zakotven v duši, nýbrž v bytí. Učiní tak ovšem s rizikem, že si nové poznat.ky eventuálně vyžádají zároveň modifikaci jeho povinné péče, takže.třeba bude muset sáhnout k neobvyklým metodám, či\\'dokonce se vzdát vyzkoušených pravidel své vědecké školye.Avšak skutečný \"lékař duše\", tj. člověk, který nepraktikuje pouze ruti- nérskou..léčbu, nýbrž vstupuje do léčebného procesu jako partner, musí nutně sám-.  riskovat «. \\'  Zažil jsem, jak tři významní a mně blízcí lidé na delší dobu onemocněli následkem - i když dočasného.- selhání ve dnech akutního kolektivního provinění, přičemž rozsah psychogenních faktor na. jejich onemocnění, bylo sice nesnadné vymezit, nicméně však byl nepopiratelný« Jedie.n z nich -odmítal, přiznat. si sám před sebou-, že se octl ve vnitřním rozporu; druhý se zdráhal uznat závažnost omyl, který považoval za nevýznamný, který ale tvořil článek jistého osudného řetězu; třetí zase nechtěl hledat u Boha odpuštění přečinu, kterého se ve slabé chvilce dopustil, protože si jej sám neodpustil. Zdá se mi, že všichni tři potřebovali kvalifikovanou pomoc a že se jim této pomoci nedostalo. Psychoterapeut,. do\\' jehož zorného pole vstoupí podobné projevy existenční viny s celou svou, naléhavostí, se nebude smět nadále- domnívat, že dostojí své léčebné 29 povinnosti timp že toliko zbaví provinilé jejich pocitu viny« Zde mají svě meze snahy odvozovat pocit viny např. z tabuizovaných norem prehistorických společností«, Psycholog, který má otevřené oči, musí nahlédnout, že vina nevzniká odepřením poslušnosti nějakému tabu, nýbrž naopak, že- tabu a tabuizáce mohly vzniknout jen proto,, že vdcové ryných společností poznali a respektovali základní antropologickou\\' skutečnost, že člověk se mže provinit a být si toho vědom. Existenční vina, to znamená v.ina, kterou na sebe uvalil jednotlivec v. konkrétní personální situaci, nemže být vystižena kategoriemi analytické psychologie-, jako je\" vytěsnění a naopak témaťizování ve vědomí. Takovému viníkovi se občas jeho-: vlna vybaví se značnou naléhavostí; nezřídka se jí ovšem snaží vyhnout - ani ne tak samotnému faktu viny, jak mu utkvěl v paměti, nýbrž jeho existenční hloubce - až na něho posléze dolehne celou vahou své existenční pravdy a čas se mu ny- ;rní náhle-zjeví jako propadání.  \\' ’ Lze namítnout, že existenční vina je spíše jen výjimkou, a že proto není třeba hned strašit beztak přetížené terapeuty představami těchto mezních případ. Go nazýváme existenční vinou, je však jen zesíleným projevem toho, co nacházíme v silnější či slabší míře všude, kde člověka hryže autentický pocit viny. Tento autentický pocit viny je ovšem velmi často k nerozeznání smíšen s problematickým, \"neurotickým”, ’\\'bezdvodným” pocitem viny. Psychoanalytici metody se přirozeně nerady zabývají autentickým pocitem viny, který má přísně personální charakter a nedá sesnadno zachytit obecně platnými poučkami.* Psychoterapeutické doktríně i praxi je proto bytostně bližší zabývat se zpětným psobením potlačených dětských přání či pobloudilých pubertálních tužeb než třeba duševními následky zrady na příteli či na vlastní věci. I pro pacienta je velkou úlevou, .když je jeho pozornost odvedena- od autentických pocit viny k pocitu jednoznačně neurotickému, který lže objevit\\' v mikrokosmu pacientových sn či v toku jeho volných asociací podle preferovaného hlediska lékařovy vědecké školy. Pravý lékař duše si naopak musí být vědom postulátu, že je třeba jednat zároveň v závislosti na daných metodách i zcela nezávisle. Nevzdá se sice nikdy svých metod, které jsou schopny přizpsobení, když ale zjistí, že se v psychice trpícího uplatňují vztahy mezi lidmi či mezi člověkem a světem, které jsou psychologickými kategoriemi nedostižitelné, -uvědomí si meze uložené své metodě a zároveň pozná, že se cíl léčby změnil, protože se změnila i souvislost, za níž k nemoci došlo, i místo, jež\\' v pacientově životě zaujímá. Jestliže si toto terapeut uvědomí, bude jeho úloha těžší, mnohem těžší - pjde však skutečně ke kořenm.  ƒ . Narážíme tu ovšem na závažný problém, který lze obecně formulovat asi takto: má člověk, který je povolánspecifickým zpsobem pomáhat jiným, poskytnout pouze pomoc, o kterou je požádán, anebo také jinou pomoc, o které je přesvědčen, že ji klient, objektivně potřebuje? .. - - Co tó však znamená: pomoc, kterou člověk objektivně potřebuje? Bezpochyby skutečnost, že bytostné určení člověka podléhá jiným zákonm než jeho vědomí. Ale také docela jiným než jeho \"nevědomí\", Nevědomí se- stará o bytostné určení člověka a jeho zdárný vývoj ještě mnohem méně než vědomí. Bytostným určením tu rozumíme  to, co tvoří nejvlastnější. základ osoby, to, k čemu má dorst. Vědomí se tím ve svém plánování a rozvažování zabývá-jen. příležitostně, nevědomí\\'ve svých tužbách- protichdných tendencích asi nikdy. Jsou to velké okamžiky lidského života, kdy člověk poznává či na základě vyššího stupně svého poznání nově poznává své bytostné \\'určení; kdy sě rozhoduje a znovurozhoduje stát se tím, čím vlastně je, a vytvořit si v tomto smyslu pravý vztah ke světu; kdy své poznání a rozhodnutí hrdinně háji vči svému všednímu vědomí i vči svému nevědomí. Má, mže či smí se za této situace terapeut přenést přes pacientovo vědomé i nevědomé přání a spojit se jakoby s tímto -jeho bytostným určením - za předpokladu, že potřeby pacientova bytostného určení opravdu bezpečně, poznal? Patří to vbec do jeho profese? Mž*e to do. ni vbec patřit, zvláště jde-li o povolání s tak pevně vytyčenými mezemi, jako je moderní psyche terapie? Nehrozí zde nebezpečí rádoby intuitivního diletantství, které\\' se nedrží žádných pevných norem? Významný soudobý psycholog á lékař Viktor von Weizsäcker vyslovuje v této sou-, v is lost-i přesně formulované varování. Zcela totiž vylučuje z psychoterapeutické 30 sféry ’’léčení vlastního jádra osoby\". \"Právě konečné určení smyslu člověka,\" říká,. \"nemže být nikdy předmětem terapie\"» A tomu musí dát za pravdu i mé laické chápání Zároveň však musí .dodat: kdykoli, zkoumavý pohled lékaře - -pohled, který jej činí lékařem a jemuž všechny:lékařská metody slouží - pronikne, do existenční sféry, kde z jistí\\'existenční pochybení a existenční potřebu, musí si sice odříci zasahování do \"vlastního jádra\" pacientovy osoby, avšak smí ho a má hó vést až k bodu, kde si již mže, pomoci sám dosud nechtěným ani netušeným .zpsobem. Ukazovat cestu, která vede z\" tohoto bodu dál, není, již psychoterapeutovi dáno ani dovoleno; a.však pacient\\' z tohoto místa, k. němuž byl. doveden, mže sám spatřit správnou a schdnou další cestu, kterou nemže vidět lékař, Nebot na tomto klminačním bodě\\'dostává všechno striktně osobní ráz, ..... . . . Psycho terapeut není- duchovním ani jej. nenahrazuje. Nepřísluší mu zprostředkovat spásu, nýbrž jen napomáhat uzdravení. Na druhé straně však se nesmí ujímat jén té sféry pacientovy nouze, která se projevila y symptomech jeho nemoci: přebírá odpovědnost i za. tu pacientovu nouzi, která se\\' teprve- projeví - a to i pak ještě mnohdy v zahalené podobě - když dojde mezi nemocným, který hledá pomoc, a lékařem, který usiluje o jeho záchranu, k přímému, partnerskému kontaktu. Jestliže se terapeutovi stane zřejmou existenční vina jeho pacienta, nemže mu, jak jsme viděli, ukázat cestu do světa,.nýbrž pacient!musí hledat a najít svj osobní přístup; terapeut ho mže vést jen k bodu, z něhož již dokáže spatřit svou osobní cestu či alespoň její začátek. Aby to však terapeut- dokázal, musí znát i obecné rysy takové cesty, které jsou společné všem závažným rozhodnutím svědomí, a rovněž souvislost-mez i charakterem existenční viny a charakterem této cesty. Nemáme-li se tu však dopustit omylu, musíme dbát toho, že existují tři rozličné sféry, v nichž mže dojít k usmíření viny, a že se mezi nimi leckdy vytvářejí\\' pozoruhodné relace; terapeuta, jak jej zde chápeme, se přímo týká jen jedna z těchto\\' sfér, kterou označme jako prostřední. První sférou je sféra práva. Počátek procesu je zde dán požadavkem - at již uskutečněným nebo latentním - který klade viníkovi společiíost na základě svých zákon; fáze, jimiž -se právo vykonává, se nazývají doznání, Odpykání trestu a náhrada škody. S touto sférou nemá přirozeně terapeut nic společného; jako lékaři mu dokonce ani nepřísluší posuzovat, zda je., tento-požadavek společnosti oprávněný či nikoli; jeho pacient, viník,, se mohl na společnosti provinit či nikoli, její’ soud nad ním mže být spravedlivý či nespravedlivý, jeho jakožto lékaře se to né-\\' týká, není zde kompetentní. Po jeho vztahu k pacientovi tato problematika vbec ani nesmí vstoupit, nanejvýš snad s výjimkou, někdy nevyhnutelného zájmu o pacientv st rach pře d společenskými, tresty, pokáráním nebo bo jkotem,  Avšak ani třetí a nejvyšší sféra, sféra víry, nemže být jeho věcí. Proces se zde rozvíjí mezi viníkem a jeho Bohem a v této sféře setrvává. Probíhá rovněž ve t-řdch .fázích, které odpovídají třem výše uvedeným fázím, ale jejichž- vzájemná sou«- viSlost je zcela jiná: jde tu o vyznání hřích, lítost át.smírné dostiučinění- v nejrozmanitějších formách. Terapeut jako takový nesmí do této sféry zasahovat ani tehdy,, když je stejného náboženského vyznání jako jeho pacient;\"zde nemá co mluvit žádný člověk, leda že\\'jde o osobu, kterou viník uznává-jako představitele či mluv-, čího transcendentní instance; v niž sám věří.. I když ve své analýze objeví .u :paci- entasstrach z Božích trast a tím narazí na problém víry, nesmí ani v -takovém případě.do těchto problém zasahovat, nemá.-li se dopustit i při sebevětších duševních schopnostech nebezpečného -diletantismu. _. Prostřední sféru - tu, na jejíž práh, a ne dále, terapeut smí svého\\' pacienta, vést, a o níž proto musí vědět - mžeme nazvat sférou svědomí - s jedinou výhradou, ó níž však hned pojednám. Rovněž proces probíhající ve svědomí se realizuje ve třech fázích, které lze označit jako sebevý^něaí, vytrvání a smíření a které\\' se ještě pokusím blíže, určit. -  \\' \\\\\\' ’ . Svědomí zde definujeme jako schopnost a tendenci Člověkp radikálně rozlišovat . ve svém minulém i budoucím chování mezi tím, co je třeba pokládat za správné, a mezi tím, co je nutno,odiuít^^^přičemž nesouhlas bývá zpravidla prožíván citově mnohem silněji, zatímco naopak, s minulým děním leckdy příliš snadno přechází\\'ve 31 značně problematické sebeuspokojení. (Takto ovšem lze, zvláště jde-li o minulost, rozlišovat a v případě nutnosti i zavrhovat nejen skutky, nýbrž i opomenutí, nejen rozhodnutí, nýbrž i nerozhodnost, a dokonce právě vzniklé nebo evokované představy a přání. ) Chceme-li této schopnosti a tendenci lépe rozumět, musíme si uvědomit, že mezi všemi nám známými živočichy je jediný člověk schopen vytvářet distanci, a to nejen vči svému okolí, nýbrž také vči sobě, takže se sám sobě stává odděleným předmětem, o kterém mže nejen ’’reflektovat”, nýbrž který mže rovněž v konkrétních případech akceptovat nebo zavrhnout. Svědomí je přitom sice obsahově rozmanitými zpsoby podminováno příkazy a zákazy společnosti, k níž dotyčný člověk, patří, anebo tradice, z níž vyrstá jeho víra; přesto však nemže být samo\\'-ö sobě vysvětleno jako introjekce jedné ani druhé, autority, a to ani ve . smyslu ontogenetickém; ani fylogenetickém. Desky zákona, pod nímž’člověk” vyrostl a žije, determinují pouze koncepce, které se uplatňují ve sféře svědomí, ne vsak existeňči‘svědomí vbec, která je založena právě na onom distancování a oddělování /f- jež tvoří základní charakteristiku lidského rodu. Více či méně\\' skrytá krité- ria, jež svědomí ;!up lat nu je vé svých\\'souhlasných i odmítavých aktech, se jenzříd-\" ka kryjí se standardem tradovaným ve skupině či celé společnosti. S tím pravě souvisí fakt, že sotva kdý lze pocit viny plně odvodit’ z porušení rodinného nebo společenského tabuó Celkový řád, za jehož skutečné či potenciální porušení se člověk cítí odpovědný, transc.enduje jistou měrou souhrn všech rodičovských a společenských tabu, jimiž je vázán. Nezřídka souvisí nejhlubší pocit provinění nikoli s tím, co jde’na vrub-.porušení nějakého tabu, nýbrž stexistenční vinou. Výhrada, o které jsem mluvil, má tedy na mysli skutečnost, že předmětem našeho zkoumání’je vztah svědomí k\"existenční vině. Jeho;vztah k porušením tabu?nás zde zajímá.-jen potud,  pokud je viník chápe jako, závažnější nebo lehčí,..než je skutečná existenční vina/ za niž mže přebzít odpovědnost, jen když zodpoví svj poměr k vlastnímu bytost-  nému určení. .? ... - Všední svědomí, které sice dovede člověka znamenitě potrápit, přitom však, není schopné dostat se na kořen vině, nás ovšem k této odpovědnosti vybídnout nedokáže. K tomu je zapotřebí hlubšího, zcela již personalizovaného svědomí, které se nevyhýbá pohledu do’hlubiny a které již svými varovnými pokyny naznačuje schdnou cestu. Nedomnívejme se však, -že toto personální svědomí je vyhrazeno nějakým ’’vznešenějším” lidem. Toto svědomí má každý prostý člověk, který se usebe-. re, aby prolomil hradby viny, do níž je uvězněn. Je velkým, dosud však nedoceněným úkolem výchovy pozvednout svědomí z jeho nižších běžných forem k samostatnému nazírání a odvážnému rozhodování. . (výtah ze stejnojmenné studie y “otištěné ve sborníku ’’Bolest a naděje” - deset esej o osobním zrání. Vyšehrad, Praha 1971) ; Před svým koncem převil rabbí Susjá: \"Na orioin světě se nemusím zodpovídat z ’toho, že jsem nebyl Mojžíšem, ale musím se zodpovídat z toho, že jsem nebyl Susjou.-\" ’ ’ \\' \\' ’ .  ’ ..... Rabbi Bunam řekl svým žákm: \"Každý z vás.má mít. dvě. kapsy., aby. mohl, podle- potřeby sáhnout do\\' jedné nebo do druhé. V pravé at leží slova,:. ’Kvli mně. byl stvořen svěť,- á v levé:\\' ’Jsem prach” a popel’.” ’ ........ . .. V hodině své smrti pravil Baélšem: \"Nyní vím, k čemu jsem byl stvořen.” (Martin Buber, z \"Chasidských povídek\") 32 MEDITACE O d p o u š t ě n í Romano Guard íni Předposlední prosba Otčenáše je vyjádřena slovy: \"Odpust nám naše viny, jako i my odpouštíme’.našim\\'viníkm. \" Odpuštění\\'Boží je tedy úzce spjato s tím, zda. odpustíme či;neodpustíme bližním, kteří se ná nás provinili. Tato myšlenka sé . pak rozvádí v Písmu na mnoha místech dále. Když Ježíš promluvil o.napomenutí provinilého bratra, čteme tato slova: \"Tu přistoupil Petr a řekl mu:. ’Pane, kolikrát mám odpustit svému bratru, když se proti mně prohřeší? Nanejvýš sedmkrát?’ Ježíš mu odpoví:. ’Nepravím ti nanejvýš sedmkrát, ale sedmdesát sedmkrát. \" - Odpuštění nemá tedy být pouze příležitostným, neobvyklým skutkem, nýbrž\\' se má stát pevnou součástí života, trvalým á účinným projevem ve vztazích mezi lidmi. To není lehký úkol, zvláště jde-li o někoho, kdo nám ukřivdil, ale. svou vinu nepoznává nebo se k ní nechce přiznat. Takovému člověku musíš vyjít vstříc sám, říká Ježíš. Křivdu, kterou ti zpsobil, nemášs pocitem hněvu a vlastní mravní převahy nechat přetrvávat, nýbrž máš jít za ním, učinit vše, aby svou chybu uznal . a věc se urovnala. Přijdeš-li ale ke svému, viníkovi jako ten, kdo stojí mravně výše a milostivě se k němu snižuješ, obrátíš-li se na něj s gestem učitele nebo\\' kazatele nebo dokonce j.ako uražený člověk domáhající se svého práva*\\'krátce je- -li v tobě onen \"kvas farize\", vycítí v tobě druhý jen tvoji povýšenost« Jeho” odpor proti tomu, co na něm požaduješ, se zaštítí křivdou, kterou mu svým postojem fakticky činíš, a konec bude horší než byl začátek. Chceš-li tedy učinit, co žádá Kristus,. musíš nejprve ve svém vlastním srdci překonat reakci na prožitou- křivdu, ovládnout svj hněv a touhu po satisfakcia zjednat si skutečně svobodný odstup.\\' Dokaž odpustit úplně á až do základ, a snaž se navázat vnitřní kontakt s druhým člověkem, jehož srdce se tomu zprvu vzpírá; teprve pak jsi vytvořil-podmínky toho, aby ti opravdu rozuměl. Podaří-li se. to a on se skutečně uvolní,, \"získal- jsi opět bratra svého\". Co musí člověk v sobě překonat, aby mohl skutečně odpouštět.? Na nejnižší životní úrovni je to především pocit, že druhý člověk, je naším nepřítelem. - \\'Ohrožení nepřítelem zná také zvíře, a tento pocit se\\'.vyskytuje, všude tam, kde je život zvenčí zasažitelný. Svět živých bytostí je utvářen tak, že’ zachování jedné bytosti znamená potenciální ohrožení druhé. Stejně je tomu i u člověka, který po pádu klesl hluboko na tuto rovinu existenčního boje. Kdo mi jakkoli ubližuje nebo mě připravuje o něco cenného, je mým nepřítelem. Cítím k němu nedvěru, strach a odpor. Chci se před ním zajistit, což učiním nejlépe tak, budu-li v sobě živit pocit hrozícího nebezpečí z jeho strany, instinktivně mu nedvěřovat a dbát toho, abych byl kdykoli připraven k odvetnému zásahu ... Na této zcela elementární úrovni znamená odpouštění schopnost vzdát\\' se zdánlivě tak jasného a-bezpečného postoje přirozené nenávisti. K tomu je\\'zapotřebí překonat\\'strach a odvážit se jisté ne chráněno st i, která se opře o vědomí, že to podstatné ve roně stejně nemže nepřítel zasáhnout. To ovšem nijak neznamená, že si mám dělat iluze o skutečném nebezpečí, které mi-hrozí od toho, kdo mně chce- škodit. Zařídím Samozřejmě všechno-potřebné ke své ochraně, zstanu bdělý a schopný rozhodného jednání. Jde tu však také o něco hlubšího, a tím je právě vle k odpouštění. Předpokládá zmužilost, která vyrstá, z pevné vnitřní jistoty. Takový postoj bude zpravidla i navenek úspěšnější: vždyt člověk schopný doopravdy odpouštět je silnější než ten, kdo propadl strachu či nenávisti. Na další, již specificky lidské úrovni se musíme vyrovnat s touhou po pomstě. - Tato potřeba není odezvou na přímé ohrožení života, nýbrž na ohrožení lidského postavení a cti. Mohl-li mi druhý člověk nějak ublížit nebo mě urazit, je to znám- 33 kou toho, že byl silnější než já. Kdybych byl býval takový, jaký j-sem měl být, nemohl by si’-\\'to\\' dovolit. Pomsta\\' je protor pokusem obnovit vlastní .sebevědomí ponížením a-pokořením druhého. Odpustili znamená tedy v tomto případě zbavit se t,ou- hy po pomstě; to však předpokládá, že učiním vlastní sebehodnocení dostatečně nezávislým na chování jiných lidí- a- ubezpečím- sď a nedotknutelnosti své osobní cti. - Také zde obvykle svědčí úspěch ;o tom,\\' že se i ve- vnějším obhájení své cti stávám jistější, nebot zbavuji urážku jejího ostnu a duševně odzbrojuji svého nepřítele. -. _  -...-  \\'   - ; Ještě blíže vlastní duchovní rovině je potřeba spravedlnosti. Spravedlnost-\\' je řád”, jehož smyslem není uvádět do přiměřených vztáhli pouhé věci nebo síly, nýbrž, lidské osoby. Záleží jí na tom,-aby se člověku-dostalo tohopnač má přirozený nárok, a aby\\' lidé se vším,., co k nim náleží, byli vči sobě\\'ve Správném poměru. Ukřivdí-li mi někdo, poruší se tento-řád právě tam-, kde se mne týká nejhlouběji,7 . v mé vlastní osobě. Proti tomu.protestuje cit pro spravedlnost. V této bezprostřední reakci je\\' uloženo jistě mnoho zcela obyčejného strachu, který jsme konstatoval\\' li již na nejelementárnější životní úrovni;, spravedlivý řád je totiž i ochranou života vbec. Další složkou této reakce j§ dražehé sebevědomí a touha- pó pomstě, která\\' se utiší teprve tehdy,. podaří-li se.; jí .získat spravedlnost do vlastních síu-. žeb. Skutečným jádrem je tu ale potřeba, aby se mi dostalo toho» co vyžaduje má lidská dstojnost. Nejjednodušším vyjádřením této: potřeby je prastarý zákon odplaty:“ ” Oko za oko, zub za zub” (jgxodus .21,24)» Co mi učinil druhý) má se \\'stát i je- \\' mu. Tím je křivda odčiněna a řád obnoveni V tomto případě bude odpuštění znamenat přédevším rezignaci na ne jprimitivnější‘projev touhy po spravedlnosti, \"totiž na potrestání viníka „vlastní rukou. Přirozený, cit pro spravedlnost »sě pročištujé právě tím, že postoupí obnovení řádu obecnější.-moci - státu, osudu, ;nebo v poslední \\'. instanci Bohu. V hlubším smyslu tu znamená odpuštění zřeknout sé potrestání dru-1- hého vbec. Tím již opouštíme’princip odplaty, kdy platí bolest za bolest, škoda za škodu, trest za vinu, a vstupujeme do sféry světa svobody. I v této sféře existuje řád, avšak nedosahuje se ho statickým měřením’a vážením, nýbrž tvořivýpí překonáváním. Lidské srdce Sé otévířá\\', stává se velkorvsvm a. štěn-rým - jovxuy ho zmocnila předtucha oné božské’moci, kterou nazýváme\\' milostí. Odpouštění zakládá nový řád; daruje-viníkovi svobodu a uvádí jej tak. do\" říše jiného, vyššího práva. Ale proč vlastně máme takto jednat? Tato.otázka je skutečně-oprávněná. Proč odpouštět, a ne prostě zjednávat spravedlnost.?. Není\\'spravedlnost přece jen-lepší? Na to se často odpovídá, že odpouštění je lidštější. Kdo trvá ná svém právu, vy-* členuje se z lidského společenství a. staví.se do soudcovské roíé. Spíše by měl myslet na to, že je. jedním mez.i mnoha jinými a- že náš. všechny po jí společný osud; . člověk má tedy především otevřít své srdce a netrvat na dostiučinění. K opravdovému \\'sdílení tohoto hlediska je však třeba mít již v povaze-jistý přirozený altruis-- mus. A kdo zná.lidi s touto: povahovou vlastností, ví, že rubem jejich dobroty bývají\\' často i velmi záporné, rysy.:, například, slabost, zříkání se vlastní osoby/ ochota přehlížet věci,, .které prostě nemáme pominout., bezděčné zrazování pravdy a práva a někdy dokonce -náhlá a nevypočitatelná pomstychtivost a záchvat krutosti . \\'. Někteří lidé zastávají zase názor, že touha po spravedlnosti vede- k vzájemnému zbt- ročování; naopak ten, kdo odpouští, zbavuje se závislosti na. křivdě, spáchané mu něký^Jiným^ Ztotožnění se š tímto\\' hlediskem je rovněž vázáno-na určitý; typ cítění a prožívání\\' a. předpokládá jakousi vyhraněnou neosobnost v,.poměru k sobě samému i k jiným lidem...A- stejně tak mívá-i .tato povaha své záporné, stránky, zejména sklon s lehkým srdcem přecházet to, co se úzce dotýká lidské dstojnosti a práv. \"Kristus ale neodvozuje svou..výzvu ze sociálních^ etických či jiných světských motiv, nýbrž spojuje odpouštění lidské s odpouštěním Božím. Bh je ten, kdo nejprve a n\\'ejvlástněji odpouští, a člověk je jeho synem. Odpouštění mezi lidmi má tedy svj zdroj v odpouštění nebeského Otce. f  - \\' \" \\' í-\"’: ? Prosíme Otce., aby nám odpustil, stejně jako my chceme odpouštět;-,.našim viníkm. A Ježíš drazně říká: Chystás-li se k modlitbě a vzpomeneš si, že máš něco proti někomu - nejprve mu odpustí Neučiníš-li to, postaví se neprominut á vina mez i’ tebe.-. a Otce a uzavře tvé prosbě přístup k němu. To neznamená, že Bh nám odpouští, protože jsme si to zasloužili svou laskavostí k bližnímu. Jeho odpuštění je milost, jež není vázána na to, je-li jí někdo hoden, nýbrž sama možnost jakékoliv zásluhy 34 teprve zakládá«» V. jejím prostoru je pak možné otevřít své srdce Boží velkomysl- nosti a tím i získat schopnost odpouštět bližním jejich křivdy<» Qdepřeme-li jim to.,; vylučujeme se sami z odpuštění Božího.» . V Novém zákoně však pierce dá^e: \"Ukřivdí-li ti tvj bratr, jdi a promluv s ním o tom mezi čtyřma očima» Dá-li si .od tebe, říci, získal, jsi opět bratra svého” (Mt\\'\\'í‘8,15 ) V tomto případě ten, kdo spáchal křivdu, netouží po žádném odpouštění. Neuznává svou vinu, nebo se v ní dokonce ještě zatvrzuje - velmi správně bylo kdysi řečeno, že nejzarytější zloba se rodí v člověku vči tomu, komu zstal něco podstatného dlužen. Přesvědčíš-li- se tedy, že se na tobě někdo provinil, ne-* máš. dopustit, aby všechno.zlo a zatvrzelost vyhloubily mezi vámi propast. Sám se vy\\'de\\'j za ním a pokus se’privést je j.k; poznání,- aby se obnovilo posvátné pouto darovaného a přijímaného odpouštění. A zde se konečně objasňuje, že odpouštění--je jednou stránkou čehosi obsáhlejšího. - a tím-je láska. Odpouštění je podobou, kterou\\'na\\'sebe bere láska, když jí bylo ukřivděno. Máme odpouštět, protože máme milovat.\\'Proto je odpuštění bytostně svobodným činem; Má Svj zdroj samo v sobě, lépe ře čeho\\'\"ve spoluúčasti na odpouštění Božím.. Kdo. odpouští - podobně jako ten, kdo miluje své nepřátele - je podoben Otci,--který ; \"dává vycházet svému slunci na zlé i’dobré’ á sesílá déšt na spravedlivé i nespravedlivé” (Mt 5^45). Budeš-li podle* toho jednat, přivedeš druhého k tomu, aby-uznal svou vinu; do.sáhneš-li s ním shody v odpuštění, \"získal jsi-opět bratra svého”. Lidské bratrství se obnoví. Tomu, kdo” takto Smýšlí,, jé druhý Člověk vzácný. Trpěl by, kdyby jej měl nechat v postavení viníka - podobně jako trpí Bh, odv-rátí-.li se od něho provinilý člověk. A\\' jako Bh touží znovu získat ztraceného člověka, ..‘což je možné jen tehdy, když se viník ve \\'svém nitru obrátil,., touží i člověk poučený Kristem, aby ten/ kdo mu ukřivdil,--poznal svou vinu a vrátil se dp společenství lásky. .. 1- Ryzí v^.pr takového chování hám.odhalil Kristus., jenž jé sám živé odpuštění. - Marně bychom, hledali v jeho jednání některý z motiv, které brání skutečnému odpouštění. Není v něm strach - jeho nitro je zakotveno v nevyčerpatelné hlubině- jistoty, a. sám se-vydává do nebezpečí s vědomím, že \"Otec je s ním\". - Není v.něm ani stopa pomstychtivosti. Okolí se \"k němu chová často nepochopitelně zle, nej- . hrubším zpsobem se dotýká jeho cti, což se vystupňuje až k rouhavému obvinění, žo se ve svém psobení spolčil s ďáblem. Tehdy sice vzplane jeho hněv, avšak to je posvátný hněv vyvolaný rouháním, nikoli pomstychtivost. Jeho 1 vztah k vlastní osobě není nijak ovlivňován chováním ostatních, také v tom jq dokonale svobodný. - A pokud jde o měření a vážení spravedlnosti, přišel Kristus právě proto, aby je překonal nesrovnatelně vyšším hlediskem milosti a rozvázal lidskou vinu odpuště- - ním.. Nepřinesl toliko zvěst o tom, že nebeský Otec odpouští\\', nýbrž celým svým osudem-toto odpuštění naplnil. Lidská vina vči Eohu se zhustila v hroznou- křivdu ha Ježíši. Všechno zl.o, které dříme v. člověku, procitlo, v* jeho;:přítomhosti a- obráti-r. lo se proti němu. Z-této situace se* však nepokusil=vyváznout, nýbrž zpečetil své poselství o Otcově odpuštění tak, že sám odpustil svým viníkm- a křivdu, kterou utrpěl, proměnil vp smírnou očistu za lidské hříchy. \"Otče, odpust jim/ nebpt- nevědí, *co činí\". (Lk 23^34to-bylo jedno z posledních jeho slov. ; ’ f  Zde jsme, dospěli.-k vlastnímu jádru: Boží odpuštění, nebylo \"pouhým prolinutím*,’ . nýbrž skutečným-odčiněním. Bh nevymazal jednoduše vinu, ale realizoval opravdovou . \"spravedlnost\". Přemohl všechno-nakupené hrozné\\' be zpraví tak, že.vzal na sebe,- co jinak náleží udělat viníkm. To\\'- je\\'smyslem kře stan ského spasení. \"Spása\", není ale  něčím, co se kdysi Odehrálo a připadlo náňi jednou provždy k dobru, nýbrž tvoří .základ a osnovu vší křestanské existence.- Žijeme ze spásného činu Kristova, avšak forma -tohoto činu vstoupila do našeho života jako, vzor a má se v něm také Uplatňovat. Nemžeme být spaseni, aniž bychom v sobě oživovali ducha spásy. Nemžeme- se těšit spáse, aniž bychom ji spoluuskutečňovali- - láskou k bližnímu. A tato láska přijme podobu odpouštění, kdykoliv se na nás dopustí bližní téhož, čeho jsme se na Bohu sami dopustili tolikrát: křivdy a bezpráví.- (Z knihy \"-Der Herr\"; přetištěno z časopisu Tvář 4/69) ? . .. ’ ... . - .. .- 35 POEZIE OOOOOOOOOOOOOOOOOOOOOOOOOOOOOOOOOOOOOOOOOOOOOOOOOOOOOOOOOOOOOOOOOOOOOOOOOOOOOOOOO Vladimír H o 1 a n POSLEDNÍ Poslední list se třese na platanu, nebot on dobře ví, že co je bez chvění, není pevné« Třesu se, Bože mj, nebot tuším, že brzy umřu a pevný měl bych být, Z každého stromu spadne i ten nejposlednější list, nebot on není bez dvěry k zemi« Z každého člověka spadne i ta poslední přetvářka, nebot prkno v márnici je docela prosté. List nemusí tě, Bože, prosit o nic, dal jsi mu rst a on to nepokazil« řle já ».. Báseň z cyklu Strach, který vznikal v letech 1949-1954. Později jej básník zařadil spolu s cykly Chor a Víno do sbírky Trialog, kterou věnoval /nně Masarykové. Vydalo ji Krajské nakladatelství v Brně v r. 1964. <3 a Václav Renč Rojí se zástup na starém náměstí, střeženém stráží zšeřelých dom a. zamčených věží. Den listopadový. Dech výkřik se v šedivé obláčky sráží. ƒ všechno je šedé. Chraptivý řečník úporně ždímá, myšlenky z mokrého šátku a velkými slovy účtuje navždy s přízrakem temného Říma. Kde myšlenka Čech kdy nedozrála, kde zbloudila s cesty, vinen je Řím. Kde bezbožnost bratří, kde zrada, kde závist osudná přivolávala obecné treaty, vinen je Řím. Kde vymkl se kdokoli zákonu stáda, kde neslibuje a nelichotí, kde káže, kde velí, kde žádá, vinen je Řím. / vinen je Bh. i\\' všichni jsou vinni! Ti druzí, ti jiní ... Sedmá báseň z cyklu \"Pražská legenda\", kterou napsal Václav RenČ v roce 1957 v leopoldovském vězení. Je ozvěnou pádu mariánského sloupu na Staroměstském náměstí, strženého dne 3. listopadu 1918 vlastenecky rozvášněným davem, který chtěl takto zúčtovat s Bílou horou. \"Pražskou legendu\"vydala Křesťanská akademie v Římě v roce 1974« 36',\n",
       " '[ 3 ] 0000000 0 ooooon 0 uo 0000000 0 0 0 o 0 00000 0 °0 o000n 0° °o 0 0 0 0 0 0 0 0 0 0 0000 0 pO 0000 0 o 0 0 0 0 0 00000\" 0 0 0 0 0 0000000 0 0 0 0 °r o° 0 0° 0 0 0 0 0 0000000 °000\\' 00000v 0 0 ooooon 0 0 ooooor oo 0 n 0 0 0 o°OOO°o 0 0 0 0 0°°°O 0J °o 0 0 0 0 0 0 0 0 0 o v (X OO000 0° 0 0 0 0 0 00000 00000\" v 0 0000000 0 0 0 0 r\\\\ O OuO 0 0 0G \\'\"000 0 0 0 0 G0 0° 000u „0 oooc^ 0 Jc 0 °r 0G0z 8 0J000 °0 0 0 0 0 0° 0 0 0000000 0 o000 0 °0 0 0  o 0 0 0 0 0 0 0 0 0 0 0 \\' oOg 0 0 0 0 0 0 0000000 0 0000000 0 000\\' 0 ooooooo 0 0 0 0 0 0 0 0 0 0 0 0 0 0 0 0 0 0000000 0 0000000 0 0 cc0 0 0 u0 0 0 0 o 0 c 0 u 00Gc\\'0c00 0 0 000*cic0000 0 0 0 0 0 0o o 1 987  Editorial 3 ČI á n k y Psychoanalýza - pokus o rozumění 4 A.Gorres: Psychoanalýza, klasická a křestanská antropologie 0 Recenze F.J.Sheen: Pokoj v duši J.Maritain: Freudianism and Psychoanalysis 20 P.C.Vitz: Freud’s Attraction to Christianity 25 Excerpta a reprinty H.a Y.Lowenfeldovi: Naše shovívavá společnost a Nadjá 29 P.C.Vitz - J.Gartner: Křestanství a psychoanalýza 33 Meditace Thomas Merton: Rozjímání v samotě 38 Modlitba 40 Poezie Rainer Maria Rilke + + + Vzejde-li z pravdy pohoršení, lépe jest, aby pohoršení vzešlo než aby se pravda utajovala. /sv.Jeroným/ Neměl by se stydět mluvit o tom, co se Bh nestyděl stvořit. /sv.Klement Alexandrijský/ Jakákoli myšlenka pro duši škodlivá škodí do té míry, nakolik je potlačována. A to proto, že se mysl více upíná na představu potlačenou, než kdyby této představě bylo dovoleno vynořit se na povrch a volně uniknout.* /sv.Tomáš Akvinský/ Vězme, že názory, které hlásám ve svém spise /\"Budoucnost iluze\" - pozn.ed./, nejsou součástí analytické nauky. Je to mj osobní postoj, který sdílím s mnoha neanalytiky a předchdci analýzy, ale který zajisté nesdílejí ani mnozí řádní analytikové. /Freud v dopise Oskaru Pfisterovi/ 2 EDITORIAL \"K vzájemným sympatiím mají křesťanství a psychoanalýza stále daleko,” praví se tu v jednom z text. Předkládaný sborník chce ukázat, že mezi oběma je možný dialog, ba spolupráce. Pomíjíme tu zcela psychoanalytické texty s jednoznačně protikřesťanským zaměřením. Jejich pointa neodpovídá vydavatelskému záměru a nadto je jich jen málo a nejsou ani z odborného hlediska zajímavé. Z FREUDOVÝCH výpovědí, z nichž dvě najde čtenář mezi drobnými \"výplňovými\" citáty, lze tužit, že sám Mistr nebyl v této věci prost ambivalence. Tu vel mi zdařile osvětlil Američan Paul VITZ, jehož freudovská biografická studie je tu recenzována. Z podobných dvod pomíjíme křestanské autory, kteří psychoanalýzu jednoznačně odsuzují. Uveřejňujeme však recenzi populárního dílka amerického kardinála F.J.SHEENA, abychom ukázali i křesťanskou ambivalenci vči psychoanalýze, ale zejména úskalí odborné nekompetence některých křesťanských kritik. - Recenzí úvahy zvěčnělého J.MARITAINA chceme naopak ukázat, jak podnětného přínosu je schopen kritik odborně kompetentní a nadto rytířský. Pokusem o zlidštění oboustranné animozity je první článek, jehož autorem je JAN. Druhý článek pochází od A..GOER- RESE, který v sobě spojuje psychoanalytickou erudici i křesťanskou víru. Tento autor byl dlouholetým spolupracovníkem předního západoněmeckého psychoanalytika A.MITSCHERLICHA a nadto psobil i jako odborný konzultant Svatého stolce. Jeho předkládaná úvaha je brilantní analýzoz nejednoznačnosti jednoho ze základních psychoanalytických pojm. O psychoanalýze v úzkých, lze-li tak říci, otevřeně pojednávají psychoanalytici, kteří nejsou křesťany; jsou to manželé LOWENFELBOVÍ z newyorského Institutu, který dodnes platí za směrodatné centrum psychoanalytického teoretizování. - Východiskem z této soutěsky mže být křesťansky pojatá psychoanalýza, zachovávající freudovský pojmový rámec. Její skicu nám předkládají Američané P.VITZ a J.GARTNER. Americký řeholník-trapista T.MERTON se nám v psychoanaly- tickém kontextu ocitl bez vlastního přičinění. Jeho \"Rozjímání\", z něhož uveřejňujeme zlomek, je však reflexí, která zachycuje život ve všech jeho dimenzích, s otevřeným hledím a bez neblahých vytěsnění. A že je možná ryze křestanská spiritualita, přijímající všechna neúprosná odhalení lidského nitra a jeho psychodynamiky, o tom nechť svědčí \"Modlitba\", jakou se modlí příslušníci hnutí charismatické obnovy. Také R.M.Rilke se tu objevuje bez vlastního přičinění. Neznáme bohužel nějakého \"psychoanalytického básníka\", který by byl navíc otevřen vertikále. Vybrali jsme RILKA prostě proto, že se v jeho čistých verších jako osnova a útek prolíná zážitek imanence i transcendence, hlubiny i výšiny. A tak by to mělo být na tomto světě u každého. 3 ČLÁNKY Psychoanalýza /pokus o rozumění/ Jako teorie vzniku některých duševních poruch a praktická metoda jejich léčby vznikla psychoanalýza bezmála před stoletím. V probojování nového pohledu do lidského nitra se zračila nejen genialita Freudova, ale i jeho vlastní meze. Zpsob, jímž se psychoanalýza uvedla, i odezvy, které vyvolala, byly významně poznamenány duchem doby. Reakce na ni představovala kontinuum od příkrého odmítnutí po nadšený souhlas. Vetší část tohoto spektra patřila reakcím negativním. Jejich pvodcem byl, lze-li tak říci, tehdejší \"establishment\", etablovaná věda a veřejné mínění. Tehdejší materialistická medicina i asocianistická psychologie sebevědomě odmítly psychoanalýzu pro její hypotézy, které, vycházejíce ze zkušenosti prožité, nerespektovaly zásady pozitivistické metodologie. A veřejné mínění onoho farizejského věku s jeho pseudomravností /’’viktoriánskou morálkou\"/ bylo pobouřeno, když psychoanalýza demaskovala pohnutky jeho údajných ctností. Pozitivní ohlas vyvolala psychoanalýza ve světě umění, především dramatu a románu /Max Reinhardt, Stefan Zweig, Thomas Mann aj./, pojímajícího člověka v jeho jedinečnosti a lidský život v jeho příběhovosti, tedy vlastně jinak než tehdejší i nynější etablovaná psychologie a medicina. Svět umění v ní tedy rozpoznal cosi, co ji staví do blízkosti \"antiscientistic- kých\" iniciativ, jakou byla nepř. Diltheyova rehabilitace du- chověd. Freud tak stanul na rozhraní dvou svět, dvou zpsob té- matizace \\'jsoucna, které indukovaly v jeho bytosti rozpor, příznačný pro nejednu významnou osobnost minulého i tohoto století. Je to rozpor mezi deskriptivně objektivizujícím a zvěcňu- jícím přístupem přírodovědy a subjektivizujícím, fenomenologicko hermeneutickým přístupem duchovědy. Toto napětí je vlastní i samotné psychoanalýze, dodnes kontroverzní a kritizovatel- né z protilehlých stanovisek. Např. H.J.Eysenck ji shledává málo vědeckou, zatímco M.Boss ji pokládá za příliš přírodovědeckou. Některé starší a četné novější úvahy poukazují na Freudovu poplatnost materialistické a mechanistccko-deterministické vědě 19-století a ilustrují to slovníkem i povahou některých hypotéz jeho teorie. Tato poplatnost je nepochybná, ne však rozhodující. Platí o Freudovi-hlasateli soukromého světonázoru, méně o Freudovi-konstruktéru psychologické teorie, ne však o Freudovi-objeviteli praktické metody, která ostatně není jen léčbou. Dnes se už jen málo uvažuje nahlas o Freudově židovství. V prvních dobách psychoanalýzy se na ně poukazovalo častěji, zejména na možnou souvislost interpretace snu a snové symboliky s židovskou kabbalou. Freud sice nebyl věřící2 ale zdědil vnímavost své rasy pro niterné skutečnosti. Vždyt kabbala je 4 vlastně sumou duchovní zkušenosti intelektuální elity dia- sporálního židovstva, výtvorem středověku. Historikové zjištují, že středověk neznal příliš subjekt-objektovou relaci, jeho myšlení nebylo kauzální, nýbrž fenomenalistické, hermeneutické. Tuto schopnost, v moderní vědě tolik postrádanou, si židovské myšlení uchovalo ve větší míře než křes- tanské. Je pravděpodobné, že Freud ji převzal a předal: psychoanalýza je nejen deterministickou vědou, ale i hermeneutickým věděním. Zťod psychoanalýzy se udál v době sociální emancipace evropského židovstva i \"árijské\" reakce na tento fakt; v době rozkvětu židovské kapitálové podnikavosti, rozmachu marxistické sociální demokracie, počátk Herzlova sionismu i po- gromistických nálad /viz německý a slovanský antisemitismus, ruské masakry, falzum \"protokolu siónských mudrc”, Luegero- vy vídeňské kampaně, naši hilsneriádu atd./. Plebejská přecitlivělost \"árijc\" /kteří se v této souvislosti neprávem nazývali křestany/ dokázala v každé iniciativě židovských intelektuál - nejen Freudově, ale i Bergsonově, Einsteinově, Husserlově stejně jako předtím v Marxově - tušit projevy magického destruktivního zla. I proto byla reakce na psychoanalýzu negativní a nemilosrdná. Ovšem i psychoanalýza byla nelítostná a nezapřela svj židovský pvod. \"Goj\" dokáže jen stěží porozumět pocitm rozptýleného, intelektuálně i prakticky zdatného, ale nepočetného a mnohá staletí ponižovaného, ba týraného národa. \"Křes- tanské zajetí\" pokládají židé za horší arabského, římského, babylonského i egyptského. Tento ressentiment Freud-žid patrně sdílel, i když to zakrýval. Hodně cestoval, byl v zámoří a toužil i do Ěíma, ale vypravoval se tam jaksi moc dlouho. Jako chlapci mu vyprávěl otec, jak mu opilý moravský venkovan, náš krajan, srazil na procházce novou čepici - a otec ani nehlesl. Freudovi kolegové z vídeňského kroužku, tedy skoro celá první psychoanalytická generace, většinou židé, měli nejspíše podobné vzpomínky. Nám dnes nezbývá než \"comprendre - - pardonner\", ba se i hanbit za své předky, a citlivě rozlišovat mezi pohnutkami a snahami prvních psychoanalytik. Snad tedy lépe porozumíme onomu provokativnímu \"entré\" psychoanalýzy, té korektnosti v projevu i skryté útočnosti v záměru. A také té pobouřené odezvě. Přinutila psychoanalytiky uspořádat další postup. Ti zvolili dosti neprozíravě strategii sektářskou. Neusilovali o pedagogický takt, vžitým termínm přiřazovali nezvyklé významy /\"sexualita\"/ a pěstovali rigidní dogmatismus, jaký ani dnes nepsobí sympaticky. Tehdy odradil řadu osvícenějších představitel klasické psychologie a mediciny /Bleuler, Bumke? Kretschmer aj./, kteří zprvu projevovali zdrženlivé sympatie. Vyvolal posléze i rozkoly ve vlastních řadách /Adler, Jung, později Horneyová, Peris aj./. Agresivní spodní tón tehdejší psychoanalýzy vycítili mili- tantní nonkonformisté rzného druhu /hlasatelé všelijakých emancipací, levicoví radikálové, avantgardní umělci, zejm. surrealisté/ a osvojili si z ní, co se jim právě hodilo. Populárně uzpsobené psychoanalytické hypotézy se staly hesly, která měla zdvodnit dobová přání, jejichž pvodcem však nebyla psychoanalýza, nýbrž chaotická mysl člověka 20.století /např. uvolnění mezigeneračních svazk, sexuální morálky apod./. Solidní diskuse byla v takovém ovzduší nemožná. Své první 5 teoretické koncepty proto psychoanalýza vytvořila v izolaci, kterou přijala a jíž dala podobu esoterické výlučnosti. Dodnes je znát, že její nejstarší základní pojmy neprošly zatěžkávací zkouškou dialogu. Teprve od třicátých let, tedy od nástupu své druhé generace, začíná psychoanalýza překonávat svou sektářskou uzavřenost. 0 určité překonání izolace se zasloužil i hromadný exodus evropských psychoanalytik před nacisty, do USA. Byli tam vlídně přijati a na oplátku se asimilovali, avšak v prostředí duchovně dosti povrchním. Přijali mnohé z tradičního amerického pragmatismu, což je znát dodnes. Americká psychoanalytická obec je nejpočetnější i nej- zámořiější, její literární produkce je nejhojnější, tedy i směrodatná, k duchovním zápasm dneška však přispívá skrovně. Období druhé generace /třicátá až padesátá léta/ je dobou rozšiřování kontakt i obzor. Mezi psychoanalytiky začaly klíčit zárodky sebekritičnosti a jejich dogmatismus se poněkud uvolňuje. Zkoumají strukturu své teorie podle obecných vědoslovných zásad /Rappaport aj./ a dokonce zkoušejí analý- zovat hlubiny osobnosti svého Mistra /Jones/. Neuzavírají se tolik dialogu, čímž umožňují vstřícné kroky představitelm jiných orientací, \"klasickým” psychologm /Piaget/, behavio- ristm /Dollard, Miller, Mowrer/. Z psychoanalýzy vzešla iniciativa, jejíž výsledky se stávají obecným majetkem vědy příp. lékařského umění. F.Alexander se stává otcem psychosomatiky, M.Bálint dává podnět k novému přístupu k nemocnému vbec, pe- dopsychologie vděčí za mnohé R.Spitzovi, kulturní antropologie R.Benedictové, A.Kardinerovi atd. Sociologicky vzato představuje dnes psychoanalytická obec diferencovanou oblast, v níž se střetávají i protikladné postoje a teoretické zájmy. Nekonformnost tam vede jen výjimečně ke kaceřování, tolerance k individuální odlišnosti je značná. Psychoanalýza jako obec se tedy dosti demokratizovala. Také sféra teoretických výboj psychoanalýzy, srovnáme-li ji s klasickou freudovskou podobou, se podstatně rozšířila. Nestranný zainteresovaný laický pozorovatel má dojem, jakoby mezi Freudovou a dnešní psychoanalýzou existoval vztah obdobný tomu, jaký je mezi klasickou a relativistickou fyzikou. Pozornost psychoanalýzy se přesunula od pudové determinova- nosti k otázkám lidské integrity a identity /Hartmann, Jacob- sonová, Erikson aj./. Pověstný oidipský komplex, zkušební kámen i kámen úrazu klasické psychoanalýzy, příznačný Freudv \"Kern der Neurose\", zaujal místo skromnější, neboť se stal epizodou, významnou sice, vedle jiných významných, snad i dokonce významnějších epizod. Od incestní oidipské triády /syn toužící po matce a rivalizující s otcem/ pokročil zájem k širším sociálním vztahm na jedné straně a k dyádě matka-dítě na straně druhé /Spitz, Mahlerová aj./. Zejména posléze uvedená konstelace nutí psychoanalýzu všímat si pozorněji vztahovosti vbec, což ji snad uschopní porozumět buberovskému \"já - ty\", odkud je pak jen krček k porozumění křesťansky pojatému vztahu \"já - TY\". Ptáme-li se po vztahu psychoanalýzy a křesťanství, nejsme dost přesní: vztah koho resp. čeho vči komu resp. čemu máme na mysli ? Sám Freud osobně nenechával nikoho na pochybách. Stavěl se odmítavě vči náboženství vbec a vči křesťanství, sdílel tehdejší židovský ressentiment, na jehož vysvětlení si tato úvaha nečiní nárok. V \"Totemu a tabu\", dílku stylisticky z nejlepších, ale teoreticky z nejproblematičtějších, zpochybnil tajemství Vykoupení v duchu velmi chvatného redukcionismu. V úvaze \"Mimo princip slasti\" zkonstruoval pochybnou dualis- 6 tickou metafyziku. Hypostazoval dynamiku rozkladu, zániku, přisoudiv jí pozitivní jsoucno, zvláštní pud, přičemž nezvá- žil možnost privace, nedostatkového modu, tedy nebytí jiného jsoucna. Navíc ji spojil s agresivitou, jejíž služebnost životu v této úvaze nedocenil. Tato konstrukce neobstála ani mezi samotnými psychoanalytiky. Nicméně vle vidět v bytí a dění střetávání dvou rovnomocných protikladných princip, Erotu a Thanatu? svědčí o nevíře ve smysluplnost. V ’’Budoucnosti iluze\" přiznal Freudzotevřeně: tou iluzí je víra, náboženství je kolektivní neurózou. Připomeňme si, že Freud sdílel i tehdy rozšířený mýtus Vědy, té vědy, o jejíchž konfliktech s náboženstvím psával vzrušeně Draper; vědy, která se cítila být nejpovolanější dědičkou slávy renesance a osvícenství a pro niž bylo náboženství - především křestanské a katolické zejména - synonymem tmářství. Tento protináboženský osten ztrácel později na ostrosti, ale ani dnes se mezi psychoanalytiky nevytratil zcela. Pokud jde o vztah křestan k psychoanalýze, je třeba rozlišovat širší veřejnost, vlivné jednotlivce a mluvčí učitelského úřadu. Vzdělanější křestanská veřejnost zprvu sdílela dobové odmítavé stanovisko. Řekli jsme si, že psychoanalýza vznikla uprostřed farizejského věku s jeho problematickou mravopočestností. Zpochybnila pohnutky ctností a ve svém prvotním dogmatismu dokonce i ctnosti samy. Nesnažila se předejít nedorozuměním, proto bylo její poselství chápáno takto: duševní poruchy jsou dsledkem pohlavní kázně, podmínkou zdraví je prostopášnost. Pak se ovšem hlasy na obranu ctností ozvaly právem. Nelze však přehlédnout, že toto nedorozumění bylo tak trochu i chtěné; že křestanstvo bylo psychoanalýzou zaskočeno a na její zkoušku plamenem nepřipraveno. Někdejší nevole sice polevila, ale ostražitost trvá dodnes. Mezi protestanty nebylo a není v tomto směru jednoty. Ti liberálnější zaujali pragmaticky smířlivé stanovisko. K psychoanalytikm první generace patřil např. curyšský pastor Oskar Pfister. Pastorský syn C.G.Jung - spíše gnostik a teosof než křestan - se měl dokonce stát Freudovým nástupcem, ale rozešel se s ním. Protestanté konzervativnějšího typu setrvali v odmítavém postoji /např. náš E.Rádl, jemuž byla psychoanalýza stejně jako Masarykovi \"směšnou psychologií’’/. Až na výjimky patří dnes protestantské sympatie spíše Jungovi než Freudovi. Katoličtí teologové a moralisté nikdy nepatřili k bezvýhradným odprcm psychoanalýzy, ale ani k jejím stoupencm. Např. náš Jar.Beneš v ní viděl ještě v dobách oboustranného neporozumění /1929/ \"zrnka pravdy uprostřed těžkých blud\". Papež Pius XII. rozlišoval: obvinil z pansexualismu \"určitý psychoanalytický směr\". Katolíci, zejména francouzští, začali s dkladným studiem psychoanalýzy až po 2.světové válce. Dominikán Albert Plé volil smířlivý styl srovnávacího studia a mezi učením psychoanalýzy a tomistickou antropologií shledal četné shody a mnohou vzájemnou nerozpornost. Také nejvýznamnější tomistický filozof nedávné doby Jacques Maritain dokázal rozlišit podstatné od nepodstatného a dospě? k závěru, že je třeba psychoanalýze \"posky.tnout úvěr\". Pařížské Informations catholiques internationales psaly v roce 1963: \"Není třeba odsuzovat hlubinnou psychologii, jestliže se zmocňuje obsahu zbožné psychiky, snaží se jej analýzovat a vtělit v soustavu vědy, a to i tehdy, je-li toto zkoumání nové a nesetkáváme-li se s jeho terminologií v minulosti. Je 7 však třeba respektovat duchovní hodnoty jak ze strany psychologa, tak pacienta... Revoluce v poznání člověka, vyvolaná objevy Freudovými, je skutečností.” Jistá mimoběžnost katolicismu a psychoanalýzy trvá v praktické sféře. Překrývá-li se oblast kompetence duchovního rádce resp. zpovědníka a psychoanalytického terapeuta v nitru téhož pacienta-penitenta, stále se obě strany ocitají v rozpacích. Pro obě je to zatěžkávací zkouška. Zpovědník se jen těžko smiřuje s dramatickými peripetiemi psychoanalytického procesu v obavách o spásu penitentovy duše. A psychoanalytik je stále v pokušení spatřovat v projevech zbožnosti neurotické reaktivní výtvory. Od těchto úzkostí jsou oproštěni katoličtí psychoterapeuti, praktikující psychoanalýzu, např. francouzská Maryse Choisy, německý Albert Görres, rakouský Igor Caruso aj. Odhlédněme od dobově podmíněných setkání psychoanalýzy s křestanstvím a pokusme se srovnat jedno i druhé pojetí člověka. Křestanství ho pojímá v širších souvislostech. V lidském životě vidí souvislý a smysluplný příběh, vrcholící zkouškou. Psychoanalýza též, ale jen od narození do dospělosti. Před faktem ’’životního odpoledne” a smrti se odmlčela, což jí právem vytýkal Jung. Teprve dílem E.Eriksona začíná tento dluh splácet. Křestanství zná člověka i jako účastníka světových dějin, které jsou koneckonc dějinami spásy. Psychoanalýze je tento pohled cizí, nebot v dějinách vidí jen sled situací, v krajním případě darwinovský evoluční proces. Křestanství vidí v člověku i jeho vertikálně transcendentní dimenzi. Ani psychoanalýza není vči ní zcela slepá, ale nahlíží ji imanentistic- ky, takříkajíc z žabí perspektivy. I ona vidí v lidském životě stoupání, ale jen jako gradaci v přirozeném řádu od infantility do plné dospělosti, tedy rozvíjení potencí biopsychic- ky daných, stimulovaných či frustrovaných prostředím. Nezavřela oči před možností vzestupu na kvalitativně vyšší úroveň než je ta pudová, tj. před faktem, který nazvala sublimací. Ale ze své žabí perspektivy v ní vidí především \"desexualiza- ci” a jen někdy, a to ještě zdráhavé, připustí, že je pro ni dležité i \"sociální hodnocení\". Nejsem si jist, zda je výtka determinismu na její adresu plně oprávněná. Psychoanalýza připouští rznočtení, je nejen deterministickou teorií, ale i hermeneutickým věděním. Ráda simplifikuje, ale praktické křestanství často také, zejména chce-li vidět v lidském životě plnění sledu předem daných úkol vykloubené z jedinečného existenciálního pole každého člověka. Psychoanalýza jistě není kompetentní vyslovovat se s konečnou platností o všech lidských věcech. Ale i ze své žabí perspektivy vidí mnohé a mže o tom poctivě vypovídat. Křestanm mže být užitečnou korekcí svým svědectvím nejen o \"sexualitě\", ale o lidské přirozenosti vbec. - Jan - Psychoanalýza, klasická a křestanská antropologie Albert Görres Vzpomeňme tří revolucí, které - jak praví Freud - pokořily novověkého člověka: první, Koperníkova, ho vypudila ze středu 8 vesmíru a učinila ho bezvýznamným obyvatelem jedné z provincií; druhá, Darwinova, degradovala obraz a podobenství Boží, tedy korunu tvorstva, na živočicha mezi živočichy; a třetí, Freudova, sice nepopřela ducha, ale skoncovala s jeho panstvím a učinila jej podomkem skutečně vládnoucích pud. Sám Freud se pokládal za revolucionáře, revoltujícího proti přetrvávající klasické antropologii antiky, židovství i křesťanství. Je tento Freudv sebevýklad skutečně výstižný ? Jde opravdu o radikální roztržku ? Existuje mezi Freudem a klasickou antropologií nesmiřitelný protiklad, anebo mají zjevné rozpory skrytou společnou pdu? Zkusme si ozřejmit vztahy mezi psychoanalýzou a klasickou antropologií tím, že se pokusíme psychoanalyticky i antropologický porozumět jistému nápadu jistého člověka. Přitom by mělo být vidět, že psychoanalytická praxe má neustále co činit s metafyzickými otázkami, a pokud si to neuvědomuje, že je slepá. Naše tázání zstane na psychologické pdě. Onen nápad nám nabízí Freud ve své nejhlubší, nejpravdivější i nejčtivější knize \"Vtip a jeho vztah k nevědomí\". Píše tam: \"Vtip přímo rouhavý udělal prý umírající Heine. Když mu jistý laskavý kněz připomenul Boží milost a probouzel naději, že u Boha lze dojít odpuštění hřích, odpověděl:’Bien sur, qu’il me pardonnera, c’est son métier - určitě mi odpustí, vždyť je to jeho povolání’.\" /I/ Tato pasáž je vysoce významná a dramatická ze tří dvod. Především proto, že hlavní osoba onoho krátkého příběhu tu zastupuje nepochybně samotného Freuda. Heine hovoří Freudovi od srdce; jedinou větou tu vyjadřuje jeho náboženskou filozofii, o níž jinak podrobně pojednává kniha \"Budoucnost iluze\". Druhý dvod významnosti oné anekdoty spočívá ve vlastní Freudově překvapivé interpretaci významu vtipu. Třetím dvodem je to, že v obou osobách tohoto krátkého dramatu se setkává klasická antropologie s psychoanalýzou, obě spolu hovoří a - co je nejdležitější - nějak si rozumějí. Přinejmenším jeden ví, co má ten druhý na mysli. Je toho dost, ale to společné sahá ještě dál a hlouběji. Je třeba se ptát, kde je ta společná pda, umožňující každý rozhovor a každé rozumění; v čem jsou oba, laskavý kněz a vtipkující Freudv dvojník Heine, zajedno. Existují takové názory na člověka, které mohou ve stejném smyslu sdílet představitelé klasické antropologie /Plaon, Písmo, Augustin, Leibnitz, Kant, Whitehead/ a Heine, Freud* Marx? V čem spočívá rozdílnost, rozpornost obou partner dialogu resp. klasické antropologie a psychoanalýzy ? Než přikročíme k Freudově psychoanalytická interpretaci vtipu, věnujme se na chvíli jeho teorii člověka. Podle Freuda je Člověk hormonálně řízenou pudovou bytostí. Lidský /i jiný/ organismus je fyzikálně chemický systém, který se v prběhu přeměny látek neustále mění. Tyto změny by posléze vedly až k rozpadu systému, pokud by nebyly odbourávané látky znovu vytvářeny a pak opět odbourávány, kdyby si tedy látková výměna neuchovávala určitou rovnováhu. Každý organismus disponuje tzv. regulačními mechanismy, které udržují výstavbu i odbourávání v prběhu látkové výměny v rovnováze, Čímž si on sám zachovává jednotu a celost, roste a množí se. Regulační mechanismy, jimiž se vyznačuje lidská bytost jako celek, nazývá Freud \"psychickým aparátem\". Zahrnuje veškerý duševní a du9 chovní život, prožívání i jednání, což vše má jeden a jediný smysl - zachování metabolické rovnováhy. Člověk je motivován metabolickými napětími. Člověk a jeho duch, to nejsou pastýři Bytí, jak je nazývá Heidegger, nýbrž pastýři látkové výměny. Životním úkolem člověka je věrně sloužit nárokm, které na něho vznáší látková výměna. Tyto \"nároky těla na psychický život\" nazývá Freud pudy. Co tedy koneckonc činí člověk vším svým myšlením a usilováním, prožíváním a chováním ?  tím aktuálně lepším stavem, jehož chce svým jednáním dosáhnout ? Je to stav metabolismu o nejmenším napětí. Přiblížení se k němu, tot slast a štěstí. Všechny tzv. hodnoty jsou pojaty do rozvrhu jednání jen proto, že obsahují buč moment slasti, anebo představují užitečné prostředky, sloužící jejímu vyhledávání. Konečným cílem člověka a přírody vbec není však slast, nýbrž překonání všech metabolických napětí, návrat do stavu bez napětí, do anorganična, tedy smrt, život je nesmyslnou odbočkou k smrti. Přírodě a člověku nezbývá než splétati nesmyslné předivo látkové výměny jako Penelopa své plátno, a pak je rozplétat. Toto je ve zkratce to, co lze nazvat pudovou fyzikou psychoanalýzy. Do rámce této pudové fyziky se Freud pokouší napnout veškerý duševní život, kulturu, umění, právo, etiku, náboženství. Z toho pak vyplývá i význam, jaký dává Freud Heinově odpovědi. Kromě náboženské filozofie, sdílené Freudem i Heinem, obsahuje tato odpověč i teorii motivace, a o tu zde právě jde. 0 významu vtipu Freud píše: \"Odpoveč umírajícího je zlehčujícím srovnáním, nebot métier, povolání, mže mít dejme tomu řemeslník nebo lékař. Síla vtipu spočívá v jeho tendenci. Neříká vlastně nic než: jistěže mi odpustí, proto přece existuje, k jinému účeli jsem si ho nevytvořil; podobně si člověk platí svého lékaře nebo advokáta. V bezmocně umírajícím tedy ještě žije vědomí, že si stvořil boha a vybavil ho mocí, aby si jím sám příležitostně posloužil. Údajný tvor se krátce před svým zánikem dává poznat jako tvrce.\" Potud Freud. Člověk si tedy vymyslel Boha, aby si jím příležitostně posloužil. Ideu Boha nutně nepotřebuje; je-li štasten, vystačí si sám a také svět mu postačuje. Bh však hraje v duševním hospodaření dležitou úlohu: vyrovnává pudovou bilanci, ocit- ne-li se člověk v situaci dítěte, je-li bezmocný, ohrožený, deprimovaný nebo provinilý. Pak ho pomyšlení na laskavého otce na nebesích potěší; vyhoví jeho infantilní potřebě ochrany, zmírní pocity viny nadějí na odpuštění a uspokojí jeho velikášské tužby příslibem magického zapojení všemohoucího spojence skrze modlitbu. Idea Boha je zkrátka znamenitým prostředkem k tišení trýznivých pudových napětí všeho druhu, jakýsi šperhák lidské fantazie k uzamčeným zdrojm slasti a útěchy. Bh je podle Freuda projekcí: do nekonečna člověk promítá sám sebe. Bh je projekt? je nárysem toho, Čím Člověk je nebo čím by rád byl. Projekt i projekce slouží koneckonc vyvolávání slasti, překonávání nebo redukování pudových ten- zí. Umírající Heine, který jako osvícenský Člověk netiší a nechce tišit své tenze či svou nouzi pomocí ideje Boha, nachází jiné východisko. Nahradil vztah k Bohu vlastní identifikací s ním. Zaměnil tím dva zdroje požitku. Vlastní pointa vtipu zní: DIEU, C’EST MOI - Bh jsem já. Nejsem Božím dítkem či tvorem, tím méně jeho dlužníkem potřebujícím odpuštění, nýbrž otcem a tvrcem Boha, který je živ z mého úvěru; já, člověk, jsem nejvyšší bytostí, nejvyšším intelektem kosmu. Pomocí sublimního narcistického sebeuspokojení, sebezbožnění, 10 utěšuje se umírající a s ním i sám Freud v nouzi, jíž je setkání s nicotou. To je bod, v němž se spojuje Heinova anekdota a Freudova teorie člověka a jeho motivace; alespoň se zdá tomu tak být. Křivdili bychom však Freudovi, kdybychom ho jednoduše pokládali za materialistu. Freud nepopírá ducha a nenamítá, je-li člověk definován aristotelovsky jako ANIMAL RATIONALE. Pro něho je však rozumné vědomí nástrojem, který si vytvořily pudy k uspokojování metabolicky podmíněných potřeb; potřeb, které by v přírodě dosáhly svých cíl i bez tohoto nástroje. Duch je tedy luxusním nástrojem animálního života. Tuto péči? již skýtá duch životu, Aristoteles a jeho následovníci nijak nepopírájí, pojímají však služebnou péči ducha podobně jako službu jezdce koni. Jezdec není pouhým podkoním, není tu kvli pouhému koni. Aristotelské dictum má kromě toho smyslu, k němuž se hlásí i Freud, ještě jiný. Duchovní vědomí není pouhým signálním zařízením, zpracovávajícím informace, jimiž se řídí chování.  vlastně duch a k čemu je ? Pro klasickou antropologii je duchovní vědomí především oním momentem lidské existence, jímž člověk klade své prožívání a chování před horizont veškeré skutečnosti, jsoucna i bytí. Duch je silou, jíž živoucí a myslící bytost v sobě pojímá jednotlivé souvislosti, vztahy i zákonitosti, jíž obsáhne smyslově uchopitelné i neuchopitelné v největší celistvosti, aby se uskutečnila. Je silou, jíž se člověk nechá motivovat a jíž jedná vzhledem k celku, k jednotlivým liniím jeho smyslu i k uchopitelnému celkovému řádu bytí. To nemže žádné zvíře. Protože tento horizont vědění o celku i samotná možnost tázat se po celku překračují jak meze smyslové zkušenosti, tak i předmětnost smyslově vitálních potřeb, hovoříme a musíme hovořit o duchu /2/. K čemu má tedy živoucí bytost duchovní vědomí? Co z toho má ? Freud odpovídá: informace řídící látkovou výměnu v podobě vjem vnějšího světa, stav slasti a /Častěji/ strasti, a ovšem zpracování těchto informací v myšlení. Freud a s ním většina \"moderních” antropolog a psycholog vidí jen tuto regulující funkci ducha. To je hlavním dvodem nadměrných očekávání, spojovaných s kybernetikou. Klasická antropologie skýtá jinou odpověd. Pro ni je sice duchovní vědomí také nástrojem vnějškového jednání; jeho pvodnějším a konečně platným určením je však být \"orgánem\" mání, držení \"objekt\", které zvířeti k mání nejsou /3/. Člověk je bytost, jíž stále cosi chybí, která stále cosi potřebuje. Je nehotovou, nedokonalou, nedostatkovou bytostí /Mangelwesen/; je temnou, prázdnou otevřeností, která si žádá naplnění odjinud; je fragmentem bytí, toužícím po svém doplnění. Je PTOCHOS HEN PNEUMATI, běd- ný nuzák na duchu, který stále potřebuje něco jiného než je sám, cosi poskytujícího, dávajícího se, aby byl docelen, doplněn, uzdraven. Je chudý a chce se stát bohatým. V posledku je duch intencionalitou. A intencionalita znamená být odkázán na něco jiného, na to, co se dává; teprve tímto jiným a skrze ně se stává návratem k sobě, vlastnictvím sebe samé. Základní myšlenky této tradice poznal Freud ostatně jako student u Brentana. Zanechaly v jeho učení stopu. Člověk je zbudován takřka na nicotě a fyzika ducha, tot HORROR VACUI, pnutí ve směru rostoucí držby bytí /Seinsbesitz/, žádostivost mít, přivlastňovat si, touha po úplnosti. Je to potřeba většího podílu na bytí - i kdyby to mělo b^t jen prostřednictvím televize. Je to ostatně to, čemu Platón říká Eros a co vytvá11 ří nejdležitější náplň toho, co Freud nazývá libidem. Člověk je štasten, když tuto chtivost ukojí, když má, co potřebuje a Čeho si žádá. \"Beatus est qui habet omnia quae vult - blažený, kdo má vše, co chce,\" praví Augustinus se svou nesrovnatelnou výmluvností, která dokáže vystihnout s odzbrojující prostotou podstatu věcí. Kdykoli se člověk aktivně snaží učinit sebe či svj svět lepším, vždy si přitom nějak představuje nový a obsažnější stav většího podílu na jiném bytí, konečném nebo nekonečném. Chce pro sebe i pro druhé více od života; chce si přivlastnit více látek, podnět, věcí i význam v těchto věcech inkarnovaných, více kontakt s druhým, al milostných, protektivních nebo posilujících, větší spjatost s přírodou, kulturou, tvorstvem, dějinami, více kontaktu s pvodem, základem a cílem všeho. Ponechán sobě samému, tedy bez ustavičného přísunu jiného bytí, je člověk nicotný, prázdný, bědný. Přesvědčivé doklady - pokud je jich vbec třeba - mže poskytnout experimentální výzkum deprivace. Co však a kolik toho vlastně potřebuje ? Kolik země potřebuje člověk? - ptá se v jedné přemýšlivé povídce Tolstoj. Kolik držby bytí? kolik podílu na něm si člověk mňže? má a musí brát ? Klasická antropologie odpovídá nekompromisně a radikálně: vše. Co člověk potřebuje a Čeho si žádá, toho nabývá pouze tehdy, když nějak dosáhne nekonečného bytí a jeho plnosti, když se nějak zmocní božství. S římskou jadrností to formuluje jasně Boethius: člověk nepotřebuje ke štěstí to Či ono, nýbrž prostě všechno; \"blaženost je pevné držení nej- vyššího a dokonalého dobra - beatitudo est stabilis possessio summi et perfecti boni.” Napětí potřebnosti odpovídá u člověka jeho kapacitě, tedy kapacitě konečného ducha, a ta je nekonečná. Člověk je konečnou bytostí o nekonečné vazebné síle: \"finitum capax infiniti\". Z toho vyplývá další určení fyziky ducha: je pudem konečného k sebeintegraci skrze podílení se na nekonečném celku. Duchovní vědomí je tedy orgánem, jímž se Člověk zmocňuje čehosi, jímž se podílí na čemsi, co smyslové orgány zvířete nemohou mít, čeho nemohou dosáhnout a na čem se ani chytrý elektronický mozek podílet nemže. Hoví-li si člověk v kvetoucí zahradě, kde si hrají jeho děti, a pomyslí-li si: \"Jak nádherná věc je taková zahrada, jak podivuhodná bytost je takové dítě, jak se mi dnes líbí na světě a jak jsem za tyto dary vděčný!\" - pak toto zjevné uvědomění si zahrady atd. není jen vstupem informativních signál regulujících chování, nýbrž je náběhem k podílení se na hodnotě, smyslu a významu světa a bytí. To je to, co Boethius nazývá štěstím /4/. Aristotelská formulace ANIMAL RATIONALE zachycuje člověka jako bytost dvojznačnou, která je neustále odkázána na fyzický svět, ale současně z něj neustále vykračuje /5/. Člověk je hraničářem, pohybujícím se mezi konečným a nekonečným; božského se mže zmocňovat a na něm se podílet pouze putováním světem a dějinami, jak učil Platón, Aristoteles i Písmo. Podle Freuda je člověk odkázán do mezí konečnosti a své beznadějné tužby po nekonečném musí oželet; v nejlepším případě se mu pomocí psychoterapie podaří \"změnit své hysterické trápení v obecnou mizérii, kterou sdílejí všichni\" /6/. Zdá se, že jsme právě narazili na nepřeklenutelný rozpor. Naštěstí Freud jako klinický psychoanalytik nebere svou vlastní pudovou fyziku příliš vážně. Kde se mu to hodí, tam 12 přeskakuje svj vlastní stín. Týž myslitel, pojímající člověka zcela a výlučně jako pudovou bytost, která putujíc za slastí snaží se uchovat své stádečko přeměny látek v kupě a v suchu, napíše příležitostně takovouto větu: \"Nikdo nepochybuje, že to byla pouze idea Boha, která umožnila národu izraelskému, aby přestál všechny rány osudu a vytrval při životě do dnešních dn\" /7/. Nebo: \"Jakého bezpráví na velkolepé rpzma- nitosti života se dopouští ten, kdo uznává pouze motivy pramenící v materiálních potřebách!\" /8/. Posléze uvedenou větu bychom mohli očekávat v nějakém antifreudiánském traktátu, pochází však od Freuda samého. Jak je to možné? I o tom nás mže poučit sám Freud interpretací vtipu, od něhož jsme vyšli. Podle všeho bychom měli očekávat, že Freud bude při jeho výkladu vycházet ze své teorie pud. Nic takového, spíše se nám tu objevuje zcela jiná pohnutka. Už to není tělesné pudové napětí, co tu má být pomocí vtipu zkonejšeno. Co se vlastně děje? Zopakujme si Freudv výklad: \"V bezmocně umírajícím tedy ještě žije vědomí, že si stvořil boha a vybavil ho mocí, aby si jí sám příležitostně posloužil. Údajný tvor se krátce před svým zánikem dává poznat jako tvrce.\" Kym je tu člověk? Nikoli služebníkem látkové přeměny, ani hledačem smyslově orgánové slasti, nýbrž - tvrcem Boha. Oč tu jde tomu, který mluví? Konkurovat Bohu, posadit se na jeho místo, obdařit se jeho predikáty. Je to Boží soupeř, rival, který hledá splnění prastarého slibu: ERITIS SICUT DEUS - budete jako Bh. Uspokojuje si tím jistou potřebu, kterou bychom také mohli nazvat pudem, avšak ve zcela novém smyslu. Umírajícímu tane na mysli a motivuje ho stav co největší podobnosti Bohu. Pojem pudu tajemně klíčí na dvojí pdě a trik podvojného účetnictví v záležitostech motivace dává život celé psychoanalýze jako teorii i jako terapeutické praxi. Tento dvojsmysl pojmu pudu či pohnutky je v psychoanalytické hře právě tím žolíkem, s jehož nezbytnou pomocí je psychoanalýza s to tak obsáhle rozumět Člověku a uchovat si trumfy pro každou partii. Při výkladu uvedeného vtipu, ale nejen tam, nýbrž i v mnoha jiných souvislostech je člověk pojat novým zpsobem: jako bytost, která by dle možnosti ráda existovala zpsobem co nejpodobnějším skutečnému nebo představovanému božstvu. Tento motiv je motivem všech motiv, je to pramotiv, v němž je prin-. cip slasti i reality, libido i agrese, pud života i pud smrti v trojím hegelovském smyslu překonán; je uchován, zrušen a povýšen na vlastní úroveň lidského ducha. Je nepochybné, že umírajícímu Heinovi s jeho poznámkou šlo o nějaký požitek. Těšil se představou sebe sama coby suverénního subjektu či intelektu, který už není závislý na starém Pánubohu. Očividně však tu nejde o smyslovou orgánovou slast toho typu, jaký vzniká při dotyku ústní sliznice s příjemně chutnající látkou. Zdrojem této libosti není stimulace orgánu, ale spíše pohled obsáhnuvší kosmický celek, v němž je vlastní osoba vyzdvižena na nejvyšší místo a mže se tedy těšit uznání a respektu, jaký dříve příslušel toliko Bohu, i kdyby dvodem toho respektu měla být jen touha po sebeoslavení. Duchovost tohoto procesu spočívá v tom, že tu jedinec nahlíží sebe a svou situaci s ohledem na celek a že se tím těší. Pro Freuda je idea Boha jakýmsi symbolem, cílem, archimedovským bodem, v němž se nakonec sbíhají všechna fantazijní přání a pudové potřeby Člověka. Člověk v ní vyjadřuje slovem a obrazem rozvrh svého bytí, tedy to, čím by sám rád byl nebo se stal: osobou nadřazenou světu, která je štastna požitkem ze své existence, ukoje13 ním všech svých potřeb a klidnou a jistou držbou svých slastí a svého štěstí. Nejzazším ideálem, který člověku v každém počínání tane na mysli, je podobnost Bohu; to v něm nacházejí ego-ideál i id-ideál společného jmenovatele, to on je vzorem jakéhokoli stavu, který se člověk snaží uskutečnist. Rozhodující moment spatřuji v tom, že Freud tu zcela bezelstně transponuje určitou teorii motivace ze své fyziky pudu do souvislostí ideální personality, jejíž duchovost mu však nebylo dáno myslet. Popisem Člověka jakožto napodobitele Božího nevyjadřuje Freud nic než ústřední a základní myšlenku klasické antropologie, v níž je zachycena fyzika konečného ducha. Její doslovná dynamická formulace je základním pilířem myšlení Platónova. V dialogu \"Theaitétos\" praví Sokrates, že snaže- nímt které je člověku vlastní a přiměřené, je HOMOIÓSIS THEO KATA TO DYNATON /1?6 B/, nápodoba božství v rozsahu a míře možného. Téměř týmiž slovy říká Pavel v listu Efezanm /5,1/: GINESTHE...MIMÉTAI TÚ THEÚ, napodobujte Boha! Nápodoba Boží jako skladebný princip všech duševních potencí, funkcí a akt je myšlenkovým nosníkem antropologie Augustinovy. Podle jeho učení člověk napodobitelem nejen má být, ale on jím ustavičně a neodvratně je, a to v každém svém počínání, dobrém či zlém: při každém vědomém jednání tane člověku netematicky a nepředmětně na mysli podoba štastnější a dokonalejší osoby v lepším světě. Tato Mspodoba s božstvím” je nejhlubším dvodem lidského bytí, hybnou silou vší lidské činnosti, osou, kolem níž se otáčí kolo života. V každé jednotlivé pohnutce je skrytým MOTIVŮM FASCINOSUM tato podobnost. Zapálí-li si kdo cigaretu nebo upustí-li od toho, rá- musí-li výrostek na mopedu kolem bloku, studuje-li někdo, žení-li se, lenoší-li, trápí-li jiné lidi, sprovodí-li se ze světa, činí-li cokoli nebo ne, je tím posledním a jednotícím kořenem jeho rozmanitých snažení, tím, co vposledku chce a oč mu jde, toto: vyrst z ponižující nepodobnosti Bohu, která ho ustavičně trápí jakožto nedostatkovou bytost, jako chudobného a potřebného, bezmocného a osamělého, vystaveného úzkosti, smrti, bolesti, ponižování, jako stvořeného z nicoty. Jde mu o to, aby se vymanil z existeneiálního stavu malodchodce, z kormutlivého a neutěšeného vyčkávání, a rozmnožil svou podobnost Bohu, KATA TO DYNATON, jak jen možno, třeba po troškách, nebo i se suverénní velkolepostí. K tomuto sebeporozumění člověka, které je jádrem klasické psychologie a jejího pojetí motivace, Freud přihlížel. Metafyzický smysltohoto tradičního učení o člověku odmítl, psychologický smysl však nezavrhl. Chtěl-li jej vyjádřit? vybíral právě z těchto myšlenek a leckdy se mu podařila i klasicky vytříbená a jadrná formulace. Píše tedy: ”Božský duch, který je vlastním ideálem etické dokonalosti, vštípil člověku vědomost o tomto ideálu a současně i puzení připodobnit se mu” /9/. Objevuje se tu ostatně opět náš žolík, pojem pudu. \"Puzení” /Drang/ je přece podle Freuda uvědoměním pudu, zde však nikoli v rámci fyziky pud, nikoli v souvislosti života kroužícího kolem osy lástkové výměny, nýbrž jako formulace fyziky konečného ducha, fyziky existence, v níž metabolická rovnováha není samoúčelem, nýbrž záležitostí hodnou sice pozoru a respektu, ale ve službách rozsáhlejšího plánu. Na citovaném místě Freud pokračuje: \"Lidé pocitují bezprostředně, co je vyšší a vznešenější a co nižší a profánnější. Jejich cítění je alespoň vzdáleně řízeno tímto ideálem. Přibližují-li se mu, zakoušejí znač14 né uspokojení; vzdalují-li se mu, jsou trestáni strastí.” I tuto myšlenku Freud vlastně odmítá, aniž by se jí zřekl. Opět se setkáváme s regulační instancí, která je jedním dechem nazývána principem slasti i jáským ideálem. Směrodatnou normou, jíž se tento regulátor řídí, však není metabo- lická rovnováha, nýbrž něco zcela jiného: blízkost či vzdálenost od vzoru božského ducha. Na to lze namítnout: jsou přece lidé, jimž podobnost Bohu nepřijde na mysl, buč že jsou skromní, malomyslní, zoufalí, anebo že jsou doopravdy pokorní. Znají své meze. Není snaha o podobnost Bohu stejně tak pyšná jako neurotická ? Není snad cílem psychoterapeutického procesu právě zřeknutí se fantazií o všemohoucnosti, vševědoucnosti a dokonalosti, tedy to, co Freud nazývá slevením z nárok a uskrovněním se? Neexistují snad lidé, kteří vyhledávají bolest, provinilost, smrt, tedy cosi po výtce nikoli božského? Odpověč na tyto námitky by ukázala, že se ve směru každého lidského snažení a jednání nalézá realizace nějaké hodnoty nebo odstranění nehodnoty; že každé rozmnožení hodnoty je u každého člověka identické s přiblížením se k ideálu co možná dokonalého osobního bytí, i kdyby člověk pro danou chvíli pokládal za možnou dokonalost třeba uspokojení zahrádkářovo, anebo nicotu, smrt, či cokoli, co právě pokládá za dobré. Podobnost Bohu u pokorného spočívá v tom, Že jeho sebepoznávání je srovnáváno s poznáním, které má o něm Bh. I poznávání vlastních mezí je vyrovnáváním se se záměrynTvrce, který meze stanovil. Rozumné \"uskrovnění se\" /Ermässigung/ skromného podle pojetí Freudovy či jiné školy znamená poznání a uznání mezí vlastního rstu. Není v žádném rozporu s předkládanou tezí. Jde tu o samozřejmost, že konečné bytí mže napodobit nekonečnou dokonalost pouze konečným zpsobem; popření této samozřejmosti nazývali staří HYBRIS. Co mají tedy společného klasická antropologie a psychoanalýza? Obě praví: nejzazším motivem lidským je tíhnutí k zpsobu existence podobné Bohu; anebo Freudovými slovy \"člověk je nenasytným hledačem štěstí\". Freud ovšem říká: štěstí a nápodoba Boží jsou fiktivními, iluzorními projekty, jsou lstí přírody a rozumu, jejíž pomocí člověk koná to, co fje užitečné ve službách regulace látkové přeměny; ta ovšem zstává sama o sobě nesmyslnou hrou směřující k smrti. Existují tedy základní rozdílnosti, ale i shody. Měli bychom se proto vypravit v duchu za Freudem a zeptat se ho, zda psychoanalýza stojí a padá s biologickým redukcionismem a jeho ateistickým předznamenáním, anebo zda je myslitelná psychoanalýza, která svým objevm a svému poznání toto předznamenání nedává. Jak na tuto otázku odpovídá Freud ? Skutečně odpovídá, nadto s logickou dsledností: psychoanalýza jakožto klinická teorie a praxe je na totalitním naturfilozofickém pokusu odvozovat každou motivaci od látkové výměny zcela nezávislá. Kdyby Sigmund Freud shledal jednoho dne, že je nucen přijmout klasickou antropologii, přežila by to jeho psychoanalýza v podstatě bez úhony. Nebot pojetí člověka jakožto sběratele štěstí, bažícího po bytí, a jako napodobitele Božího v řádu hmoty, psychoanalýze naprosto postačuje, pokud látkové přeměně ponecháme, co je látkového, a duchu, co je duchovního. Psychoanalýza pak zstane tím, čím je a čím dosud byla: pokusem odkrýt, jak se jednotlivý člověk podílí na jsoucnu a bytí, jak hledá své štěstí a jak napodobuje Boha, jakými prostředky a aranžovanými výtvory, jakými libidinózními ob15 sazeními a protiobsazeními se pokouší překonávat strast, úzkost, pocity viny a ponížení, jak se těší z existování na tomto světě, jak dosahuje moci, tvořivosti, lásky. Jinými slovy: psychoanalýza je zjasňování zpsobu, jímž je v jednotlivých stádiích životního běhu hledána a nalézána STABILIS POSSESSIO PERFECTI BONI, jímž je uskutečňována HOMOIÓSIS THEÓ KATA TO DYNATON, nanejvýš možná podobnost Bohu v radosti, moci i ctnosti. Toto je jediné nutné, ale též dostatečné vymezení psychoanalýzy. Není jen mou tezí, ale i tvrzením Freudovým. I Freuda spojovalo přátelství s jistým ’’laskavým knězem”, s evangelickým farářem Oskarem Pfisterem, který se pokusil uvádět psychoanalýzu do pedagogiky a duchovní pastorace, aniž by se přitom uchyloval k nějakým nemilým teologickým smiřovač- kám, v nichž se s vlky vyje a s ovcemi bečí a dál už nic. Freudova a Pfisterova vzájemná korespondence, dříve téměř nepřístupná, byla nedávno zveřejněna. Freud tam píše: “Zajisté nepochybujete, že se úspěch analýzy dostavuje u Vás stejně jako u nás, totiž prostřednictvím erotického přenosu na Vaši osobu. Vy jste však v štastném postavení, mžete jej vést dále k Bohu a tak nastolit z tohoto hlediska blažený stav dřívějších čas, v němž náboženská víra potře neurózu\" /1O/. A dále: \"psychoanalýza sama o sobě není ani náboženská, ani protináboženská. Je nestranným nástrojem, jehož mže užít duchovní stejně jako laik, bude-li to v zájmu osvobození trpících. Jsem velmi překvapen, že jsem sám nepomyslil, jak mimořádnou pomoc mže skýtat psychoanalytická metoda pastoraci. Stalo se tak zřejmě proto, že mně jakožto zlému kacíři zstává celý okruh takového uvažování dosti vzdálen\" /li/. Nuže, výkladem Heinova vtipu nás Freud poučil, že ani \"zlý kacíř\" se nemže vyhnout tomu, aby se stal napodobitelem Božím. S tím se chceme spokojit, nebot věc takto prostá nám dovoluje, abychom beze strachu a ostychu i na pdě klasické a křestanské antropologie pracovali empiricky psychoanalytickou metodou, aniž bychom se zříkali jediného solidního Freudova objevu. Je to naše povolání - C’EST NOTRE MÉTIER. Literární odkazy: 1. S.Freud, Ges.Werke VI, London 1940, str.126. 2. K.Rahner, Geist in Welt, München 1957, str. 405. 3. Srovn. J.Pieper, Gluck und Kontemplation, München 1957, str. 59 a násl. 4. Srovn. H.Krings, Meditation des Denkens, München 1956. 5. Viz pozn.2. 6. Poslední slova Freudovy knihy Studien über Hysterie. 7. Ges.Werke XVI, London 1940, str.152. 8. Tamtéž, str. 154. 9. Tamtéž, str. 230. 10. S.Freud - 0.Pfister, Briefe 1909-1939, Frankfurt 1963,s.12. 11. Tamtéž, str.13. /Nezkrácený překlad německého originálu \"Psychoanalyse, klassische und christliche Anthropologie\", vydaného v souboru autorových úvah, zabývajících se psychoterapií, antropologií a křestanstvím, pod názvem \"Kennt die Psychologie den Menschen?\", R.Piper, München 1978./ + + + Trocha psychoanalýzy od Boha vzdaluje. Dostatek psychoanalýzy nás k němu přivádí blíž. /Maryse Choisyová/ 16 RECENZE Cum ira et studio Fulton J. S h e e n : Pokoj v duši /Peace of Soul. Úplná citace originálu neuvedena./ Český překlad vydala Křestanská akademie, Řím 1978« 292 stran. Jde o soubor úvah o duši moderního člověka a jejím bloudění, o hříchu, vině, zpytování svědomí a odpuštění, o překážkách na cestě k Bohu i o obrácení. Autor, dnes již zemřelý, se teologicky a filozoficky vzdělal na katolických vysokých školách v Lovani a v Římě. Dlouhý čas byl biskupem v Roches- teru? stát N.York. Knihu napsal pro americké čtenáře. Protože si Američané už dávno zvykli svěřovat trampoty a strázně svých duší psychiatrm, střetává se pastorace v USA mnohem častěji s všelijakými racionálními i neracionálními postoji, které jsou chtěným i nechtěným dsledkem této odborné péče. Vypořádat se s nimi, to je jeden z úkol, které si F.J. Sheen vytkl. Moderní psychoterapie /či \"psychoanalýza”, jak jí říká/ je protivníkem, se kterým se výmluvný i horlivý autor utkává na stránkách knihy nejčastěji. Čtenář nabývá dojmu, jako by se o duchovní desorientaci dnešního člověka zasloužila významnou měrou právě psychoterapie. Recenzovaný překlad je jediným českým textem, který se v takovémto rozsahu zabývá vztahem psychoterapie a duchovního života z katolického hlediska. Čtenář proto mže mít navíc dojem, že kniha je cosi jako výrok učitelského úřadu církve ex cathedra. Oba dojmy jsou spíše nesprávné. Termínu \"psychoanalýza” užívá autor často a v nestejném smyslu. Jednou tím rozumí teorii a praxi vycházející z Freuda, jindy dynamickou psychoterapii vbec a někdy - když si výjimečně ukládá rezervu - názory a postupy některých nejmenovaných jednostranných stoupenc Freudových. K \"psychoanalýze\" v užším i širším smyslu je přinejmenším vysoce kritický, většinou dokonce odmítavý. Přisuzuje jí biologický determinismus a \"pansexualismus\", jak ostatně bývalo zvykem. Obzvláště pranýřuje některé filozoficko-antropologické výpovědi, které snad bývají z psychoanalýzy vyvozovány, ale nutně z ní nevyplývají; tak jí např. přisuzuje tezi, že člověk je interpretovatelný pouze terminologií \"instinkt\", nebot lidská osobnost se z jiných element údajně neskládá. Takto radikální biologický determinismus bychom v psychoanalytic- kých pojednáních posledních desetiletí hledali s obtížemi. Podobné sklony nelze upřít psychoanalytikm první generace. Je však záhodno činit rozdíl mezi psychoanalýzou jako vědou a metodou a světonázorovými postoji některých /třeba i mnohých/ jejích pěstitel. Je to rozdíl obdobný tomu, jaký shledáváme mezi přírodovědou a světonázorem přírodovědc /zejména v 19.století/. Z Freudových spis jmenuje Sheen pouze Úvod do psychoanalýzy, Tři úvahy o sexuální teorii a ovšem Budoucnost iluze. Lze se domnívat, že své skrovné informace o terapeutické praxi získával od penitent, kteří se předtím na čas podrobili psychoanalýze nebo jiné psychoterapii. Není v nejmen- 17 ším znát, že by měl s psychoanalýzou /psychoterapií/ nějakou osobní zkušenost; nezná ji ’’zevnitř”. Nevzal na vědomí pouhou podmíněnou platnost psychoanalytických hypotéz /kterou ostatně postuloval již Freud/. Nezná analytickou praxi ani vnitřní spory analytické teorie, nedovede proto oddělit zrno od.plev. Připomíná laika-nefyzika, který fyziku a fyziky učinil předmětem své úvahy, zaujímá k fyzice citový postoj, ale moc jí nerozumí. Sheen odmítá rozumět samotné skutečnosti psychodynamiky. Píše-li např. o pocitech viny a o jejich vysvětlování psobením nevědomých sil, uzavírá /str.116/: \"To by se však rovnalo tvrzení, že pacientv pocit viny nastal v takovém období života, kdy ještě nebyl zodpovědný za své skutky - - totiž v dětství. Takový názor mže dávat jistou útěchu, ale neslučuje se s obecnou zkušeností, že od sebe nelze oddělit vinu a svobodu.\" Ani on tedy nerozlišuje vinu od pocit viny a navíc uvažuje, jako kdyby jako zpovědník nikdy neměl co činit se skrupulantem. Nechce připustit, že porucha mže být zpsobena traumatem, které proběhlo z pacientova hlediska mimo prostor hříchu a viny. Duševním poruchám raději přisuzuje příčinu organickou nebo morální /str. 86/: \"Za mnoho psychologických poruch mže pocit viny, pocházející z nepřiznaných hřích.\" A dále /str.148/: \"Odpadnutí od ducha, který přebývá v Ježíši Kristu, je zdrojem všech abnormalit...\" Takovéto směšování hlediska přirozeného, jaké je vlastní empirickým vědám, a supranaturalis- tického, je pro Sheena příznačné. Psobí bohužel poněkud vy- děračským dojmem. Někdy vede k nehoráznostem /str.44/: \"Příčinou konflikt také není prostředí, protože zlatá uzda neudělá lepšího koně, a Jidáš, který měl v historii tu nejlepší společnost, zemřel v opovržení a hanbě.\" Zlatá uzda jistě neučiní koně lepším, k tomu by byl vhodnější opravdový faktor prostředí, totiž drezura. A Jidáš ? Zde stojíme před tajemstvím, s nímž se nesluší zacházet jako s houskou na krámě, zejména pokouší-li se autor o empirickovednou diskusi. Sheen často povrchně a nedbale zobecňuje a nepříjemně zjednodušuje, což navíc rád ilustruje přirovnáními, která jsou někdy humorná, častěji však neobratná. Má za to, že v psychoanalýze je pacientovi řečeno, že \"všechno je jen symptomem” a on že se tedy nemusí obviňovat ani soudit /str. 135/« Že terapeut \"povzbuzuje svého klienta, aby se vysmál pomyšlení, že by mravní zlo nebo pocit viny mohly být příčinou jeho potíží...\" /str. 201/. Není jisto, jak Sheen rozumí pojmu \"vytěsnění\" /český překlad užívá pouze výrazu \"potlačení\", a to i tam, kde kontext svědčí pro výraz prvý; je to častá laická překladatelská chyba/, ale zdá se, že nikoli. Nepoučil se u svého současníka Roberta Waeldera, proslulého psychoanalytika usedlého v USA, kteiý upozorňoval již před pětadvaceti lety: \"Vytěsnění není odmítáním sexuálních či jiných popud, ani zákazem jejich prožití, nýbrž útěkem před jejich uvědomením.\" To platí i pro pocity viny. - Právě tak odmítá Sheen rozumět pojmu \"sublimace\" /str.173/: \"Je chybou říkat, že hluboká duchovní láska svátých k Bohu je sublimací pohlavního pudu, jak někteří zvrácení jedinci skutečně nadhodili. To by bylo stejné jako říci, že láska k vlasti je odvozena od stádního pudu slon.\" Přitom sám na jiném místě vzpomene Magdalény i její \"nesmírné biologické vitality\", která byla odvrácena od lásky k neřesti k 18 lásce k ctnosti. Psychologická hypotéza sublimace zní zcela podobně, pouze výslovně nevypovídá o tom, co sublimaci činí sublimací, nebot to koneckonc přesahuje kompetenci ampi- rické vědy. Třebaže je Sheen držitelem Mercierovy ceny za filozofii, kteiý se navíc pokouší vyznat se v psychologii, nemá, jak se zdá, valného ponětí ,o biologii. Sotva by jinak mohl říci, že \"krávy nemají psychózy, vepři nemají neurózy a kuřata netrpí frustrací, pokud ji člověk u nich nevyvolá\" /str.26/. Psychózy a neurózy nemohou mít krávy ani vepři již ex definitions, poruchami ústředního nervstva mohou trpět i bez lidského přičinění a kuřatm k frustraci postačí, když jejich hejno sužuje dovádivý hafan. Maličkosti, zdálo by se, jenže ignorování biologie svědčí o nedostatečném respektování biologické stránky lidského bytí. Nedosti na tom, autor svévolně vyhrocuje napětí mezi tělesným a duševním např. takto: \"Materialistická psychologie věří v pasivní odevzdání se duše, přičemž vyšší část osobnosti povoluje otěže nižší složce a jejím spontánním choutkám. Mylně se domnívá, že bude-li osobnost žít podle animálního dědictví v sobě, získá od tajuplných živočišných sil tvrčí dary, které ztratila její neduživá duše\" /str.188/. Jde o subtilnější téma než by se z citovaného výroku zdálo. \"Tajuplné živočišné síly\" tu znějí záměrně pejorativně, snad aby bylo možno snáze sugerovat rovnici přirozené = zlé. Posadíme-li místov nich \"tajuplné životní síly\", budeme věci více právi, nebot i život je zázrakem Božím; a není specifikou pouze materialistické psychologie vážit si tvořivosti těchto sil. Lépe pochodíme, budeme-li Sheena pokládat nikoli za psychologa nebo filozofa, nýbrž za kazatele a jeho knihu za sbírku homilií. Sheen-kazatel je vehementní, vemlouvavý, a tam, kde je \"unfair\", je s odpuštěním i protivný. Tak nějak asi dráždil Savonarola, když přišel nezván mezi vybranou společnost v paláci Medicejských. Ale pozor: tento nepříjemně provokativní a mnohdy demagogický horlivec je často lapidárně výstižný a čtenář, at psycholog nebo laik, musí přiznat, že v tom nejpodstatnějším má pravdu ! Ano, nejzhoubnější frustrace pochází z odcizenosti člověka Bohu, sobě samému a bližnímu. Lidská úzkost je koneckonc atributem lidskosti, tj. stvořenosti, konečnosti, neúplnosti. Prapvodem všech konflikt je mystérium iniquita- tis a vysvobození přichází odjinud než z člověka samotného. Kromě pocit viny, symptomu, existuje i skutečná vina, hřích, i neochota slyšet a zpytovat svědomí. Sebeúspěšnější psychoterapie ještě není smířením s Bohem, tím je teprve zcela osobní čin. A ten není možný bez sebezáporu a odevzdání se. Pokud si toho všeho psychoterapie není vědoma, je \"vyléčení\" jen kosmetickou úpravou, z níž vycházejí tzv. slušní lidé, ani studení ani horcí - \"a proto vyvrhnu tě z úst svých\". Smrt není triumfem zániku, od kterého moderní člověk odvrací zrak, nýbrž, jak říká Sheen, triumfem smyslu ! Sheen chce člověka vyburcovat, probudit v něm život ducha, vyzývá k obrácení. V této snaze se pak dopouští i neomaleností. Pochopíme-li její směr, odpustíme mu je. Jeho kniha chce být rasantním popudem k rozpomenutí se na zapomenuté. Má-li však být její četba užitečnou, je zapotřebí notné dávky čtenářovy dobré vle. Riskantní, nebot nekompetentní polemika s empirickou vědou mže odradit. 19 Musím přiznat, že ani ta Sheenova \"psychoanalýza”, na níž on neshledává nitky dobré, není pouhopouhou konstrukcí. Je to jakási plebejsky zvulgarizováná verze psychoterapie, s jakou se sotva setkáme u významnějších teoretik nebo klinik. Nelze však popřít, že i mezi psychology, psychoterapeuty, psychiatry a psychoanalytiky se vyskytují hlupáci, domýšlivci a cynikové toho typu, jaký má na mušce Sheen. V USA jsou tyto obory mnohem populárnější, riziko jejich vulgarizace je proto větší než u nás. Mohou pak skýtat i obecně přijímané ideové zdvodnění konzumního životního stylu. Sheenovy homilie proto mohou být i odborníkovi užitečné tím, že v nich mže jako v křivém zrcadle zahlédnout karikaturu, jíž by se on sám i jeho obor mohl stát. Nepřispívají však k věcné srovnávací úvaze o zbožnosti a duševním zdraví, o životě duchovním a duševním. Neuvedou do této problematiky nepoučeného věřícího člověka. Vsugerují mu mnohé předsudky a především mu nezprostředkují ten užitek, který by mu mohly poznatky psychoterapie poskytnout. Přehorlivému F.J.Sheenovi např. nepřijde na mysl, že určité formy individuální zbožnosti mohou být neurotickými výtvory. Zná jen jednu stranu mince: \"únik, spočívající v tom, že se náboženství nazve - - ’únikem’\" /str.202/. 0 tom, že lze před skutečným životem unikat do soukromých mytologií, které sdílejí spoustu vnějškových znak s náboženskou pravověrností a leckdy se za ni vydávají, vědět asi nechce. Mýslím, že se vydáním českého překladu této knihy vydavateli zrovna nepoštěstilo. Chtěl-li nám přiblížit Sheeno- vu osobnost, měl sáhnout po textu, v němž se autor tak ne- štastně nezaplétá. A chtěl-li nám pomoci v orientaci ve spletitých vztazích psychologie a teologie, měl zvolit dílo kompetentnějšího autora. Toto téma si totiž žádá mysl sine ira et studio. -jrc- Novotomista o Freudovi a psy choanalýze Jacques Maritain : Freudianism and Psychoanalysis. In: Cross Currents of Psychiatry and Catholic Morality. Eds. W.Birmingham, J.Cunneen. Meridian Books, Cleveland 1966 /pvodní francouzský pramen neuveden/. Dvacetistránková úvaha z pera snad nejvšestrannějšího z novotomist byla promýšlena ještě v dobách, kdy psychoanalýza byla předmětem Živého laického zájmu i četných odborně nezcela fundovaných kontroverzí. Takováto popularita je v očích filozofa handicapem, nebot \"pro vědeckou teorii či to, co jí chce být, je nemilé* vděčí-li za svj věhlas lidem od pera a široké veřejnosti.\" Maritain však přistupuje k psychoanalýze prost jakéhokoli despektu a zkoumá ji ze tří hledisek, podle nichž Člení i text. Rozlišuje psycho- analytickou metodu, freudovskou psychologii a freudovskou filozofii čili freudismus. Užíváním adjektiv^\"psychoanaly- tický\" a \"freudovský\" naznačuje, že neztotožňuje psychoanalýzu jako celek s osobním vkladem Freudovým. Už na začátku 20 dává najevo, že pokládá Freuda za objevitele znamenité metody, za pronikavého psychologa, k jehož hypotézám však lze mít výhrady, který ale jako filozof neobstojí: je jednostranný, vágní, dokonce jaksi \"posedlý”. Psychoanalytická metoda a zkoumání nevědomí Fakt nevědomí Maritain akceptuje. Odmítá ztotožňovat psychické s vědomým, což přisuzuje karteziánské jednostrannosti. Idea nevědomí není v rozporu s antropologií Tomáše Akvinské- ho, podle něhož je \"lidská duše sama sobě temnáva nejasná\". I když Freud psobnost vědomí neignoruje, podceňuje racionální složku duše, tj. soudy intelektu a akty vle, a spatřuje posobnost vědomí vlastně jen v uvědomování. Dle Freuda je člověk svým nevědomím řízen. V tom s ním Mařitain nesouhlasí a přistihuje ho při nedslednosti: vždyt i psychoanalýza počítá v praxi s tím, že vytěsnění i automatismus nevědomých determinací jsou překonávány světlem rozumu, jemuž ona svými interpretacemi zjednává cestu. Těmto interpretacím lze vytknout přílišný schematismus, jejž možno ilustrovat psychoanalytickou symbolikou. Ta sice není tím nejdležitějším, její užití nicméně prozrazuje libovli a nedostatečnou snahu o objektivní ověřování. Naproti tomu jsou nevědomé mechanismy, jak se projevují např. v snové práci, \"objevem nejvyšší hodnoty\". Výsledky psychoanalýzy jakožto léčebné metody odpovídají dle Maritaina řádu pravděpodobnosti, nikoli řádu jistoty. Psychoanalýza totiž nedosáhla úrovně spekulativní vědy /\"spekulativní\" nezní Maritainovi hanlivě? znamená \"dsledně logicky uspořádaná\"/. Je věděním o jedinečném, náleží do domény medicíny, s níž sdílí-! její metodologické handicapy. Je to tedy potřeba léčit, co vyvolalo psychoanalýzu v život; proto je třeba posuzovat ji shovívavěji. Její postup je vlastně obdivuhodný: léčebným zásahem je dosažení vědomí, \"prise de conscience”, což potvrzuje, jak výsadní je tato mohutnost lidské duše. Naprotiztomu se Maritain obává, že psychoanalýza mže zpsobit neurózu tomu, kdo potíže nemá, ale \"neštastně se rozhodl začít s ní ze snobismu či z nemoudré zvědavosti\". Mže tedy být nebezpečná. A to nejen pro pacienta, ale i pro lékaře. Vede do zakázaného území. Mže přivodit zhroucení ustálených vztah mezi vědomím a nevědomím. Indukuje piý stav pasivity. \"Hranice je překračována na opačné straně než je ta, kde lze počítat s ochranou rozumu. Bude vbec možné ještě najít po takovém dobrodružství dveře do vlastního domu?\" Ještě povážlivější, domnívá se Maritain, je to, že se do hájemství pacientova nevědomí vydávají dva, pacient a lékař. Psychoanalýza tak \"transformuje ustálené vztahy mezi pacientem a lékařem\". Dosud lékař psobil jako reprezentant umění, sám osobně ustupoval do pozadí stejně jako např. duchovní rádce. Psychoanalýza je naproti tomu soubojem dvou osobností ”na pochodu do říše vnitřního pekla”. I lékař při tom riskuje svou dezintegraci. Ano, přenos je nezbytný - souhlasí Maritain podmíněně -, není však již pronikáním člověka do duše bližního ? Mezi řádky čteme obavu z přílišné opovážlivosti; obavu jistě dvodnou, platící psychoanalytikovi stejně jako chirurgovi. To, že se analytický proces stává meziosobním konfliktem /jak to vidí Maritain/? kde vládne jedinečné a nahodilé, zvyšuje autorovu starostlivost. Jak je to s respektováním vědecké objektivity ? Maritain cituje výrok pedopsychologa Clapa- 21 rèda, který pro svou osobitost stojí za uvedení: \"Psychoanalytici si v revíru psychologie počínají jako sovy. Povedou vidět jen potmě. Je to jistě velká výhoda, protože mnoho věcí existuje v hlubinách nevědomí... Objevili řadu skutečností a souvislostí, které pozornosti jiných unikly. Tato výhoda má však i svj rub. Psychoanalytici někdy nedokáží vyjít na světlo a vysvětlit své pojmy jasně a racionálně, aby tak přesvědčili ty, kdo nejsou na rozdíl od nich přesvědčeni předem.\" Přes všechny tyto obavy Maritain nechce, aby mu bylo špatně rozuměno. Nezavrhuje psychoanalýzu a nepokládá ji za morálně nepřípustnou. \"Pokud abnormní vztah mezi vědomím a^nevědomím vede k symptomu, který dělá ze života spoušt, pak není na místě o její indikaci pochybovat.\" Freudovská psychologie Maritain soudí, že již pro sám pojem psychodynamiky je. třeba poskytnout psychoanalýze kredit. Bergson aj. osvětlovali psychodynamiku filozoficky, ale Freud ji zpřístupnil empirickému zkoumání. Zašel však příliš daleko, nebol pudovost a afektivitu přecenil natolik, že nahlíží Člověka výlučně její optikou. Pžestovšak \"znovuobjevení dynamiky a účelnosti je z tomistického hlediska záslužné\". - Freudv jazyk je extrémně antropomorfistický a mytologický; je to \"dan za správné metodologické cítění\". Naneštěstí vytvořil Freud na takto svérázně vyjádřené empirické základné filozofii člověka, která vyústila v obecnou konfuzi. Z Freudových děl oceňuje Maritain nejvíce Psychopatolo- gii všedního života a Výklad sn. V ostatních zahlédá projev snahy vymanit se z vlastních vnitřních rozpor a sim- plifikací. Nedomnívá se, že by byl Freud nakloněn spiritua- lismu, jak mu předhazovali jeho mechanisticko-materialis- tičtí odprci. Není to Spiritualismus, ale spíše animismus. A dokonce \"dobře fundovaný\". Samotná spojitost psychického a somatického, kterou psychoanalýza znovu rehabilitovala, není v rozporu s aristotelským pojetím lidské bytosti jakožto \"substantia completa\". Freudovská psychologie však má kromě toho svj \"nokturnální aspekt\", vyjádřený zejména teorií libida, jehož dráždivost je vlastním dvodem její popularity. Freud je v tomto ohledu bohužel příliš nejednoznačný. Např. jeho \"libido\" znamená jednou metafyzický éros, jindy to, čemu teologie říká \"concupiscentia\", a ještě jindy /nejčastěji/ pohlavní touhu. K tomu Maritain poznamenává: \"Nedostatečná filozofická vytříbenost znemožnila Freudovi rozlišovat potencialitu a -aktualitu /možnost a skutečnost/. Potencialitu zaměňoval souhrnem vzájemně konfliktních aktualit. A neurčitost, směřující k normálnímu uskutečnění, ale schopnou mnohočetných aktuací, zaměnil konstelací protikladných aktualit, vzájemně konfliktních.\" Ve své údajné přemrštěnosti pokládá Freud normální za zvláštní případ abnormního a zdraví za zvláštní případ nemoci. Libovolně generalizuje bez ohledu na logický lapsus. Např. pokládá dítě za polymorfně perverzní, zatímco ono je toliko polymorfně pervertibilní. Freudova strukturální teorie je příkladem matení pojm schématu empirické psychologie a explanace psychologie filozofické. Stejnou konfuzi je jeho mytologie Érotu a Thana- tu. 0 pudech a tendencích uvažuje Freud výlučně z hlediska subjektu; specifikovat je podle jejich formálního objektu 22 je mu cizí. Pak se ovšem nevyhne jejich smísení v jeden jediný fundamentální pud, jehož jsou ony rozličnými převleky. V jeho popírání autonomie duchovního života lze tušit cosi jako pomstychtivost; odtud jeho redukcionismus. Je to dobře vidět na tom, jak ztroskotává Freudova explanace jevu jím objeveného, totiž sublimace, v níž on nevidí právě to, co je specificky odlišně\\' od pudu. Freudovská filozofie Psychoanalýza má naději stát se solidní empirickou psychologií. Freud ujištuje, že nemá filozofických ambicí. Přesto je psychoanalýza prosáklá nejvulgárnější pseudometa- fyzikou, v níž se kombinují všechny předsudky determinismu a mechanistického scientismu se všemi předsudky iracionalismu. Správně viděná pluralita antagonistických tendencí je absolutizována a takto pojatý člověk se nám rozpadá před očima. Freud odloučil nevědomí od života rozumu a ducha a pojal veškerý pudový život jako něco par excellence konfliktního, animálního, infantilního, nelogického a ovšem sexuálního. ’’Jako u Marxe lze i v omylech Freudovy filozofie zjistit prvek velikášství, jehož vlivem nabyl Freudv kriticismus absurdní podoby. Oba muži rozpoznali význam toho, čemu tomisté říkají materiální kauzalita. Učinili však z ní bohužel nejdležitější věc.” Některé závěrečné pasáže Maritainovy úvahy stojí za to uvést téměř doslova. ’’Nelze přehlédnout, že Freudovo dílo staví na pranýř aroganci pyšné, pokrytecké osobnosti; právě té, kterou postavil racionalismus na nejvyšší místo. Strhává jeden převlek za druhým, až se konečně objeví na denním světle obsah obíleného hrobu... Freud úspěšně demaskoval lži falešného vědomí, které zakrývalo nejen ekonomické a třídní zájmy, ale celý svět lačnosti a sebelásky, všechno to divošství a démonično, které se lidé snažili v sobě zapřít. Po Freudovi už nejsou určité typy pokrytectví možné.” \"Úzkostlivá snaha obnažit lidskou přirozenost a ukázat její ošklivost je provázena podivným soucitem s nemocným, s dítětem, jehož prvními zážitky jsou žal a stud, s člověkem, ktegý je kořistí démon a utápí se v bídě. Freud v něm vidí obět neúprosného osudu. Intelekt ovládnutý takovýmto soucitem vytvořil pomstychtivou filozofii, která za sebou zanechává spoušt.” \"Na samém dně freudovské metafyziky tuším to, co Max Scheler pojmenoval ressentimentem. Tuším tam pohoršení duše, sužované a pokořované\\' jižv od dětství; pohoršení samotnou lidskou přirozeností; zášt vči rozumovým, morálním a náboženským výtvorm a regulativm, které podle Freuda pouze předstírají, že si podrobují svět pudovosti ve jménu ideálu, ale zatím jen prohlubují lidskou mizérii a vedou k duševním poruchám. Acheronta movebo - vzbouřím božstva pod- světní. f^ylo již řečeno*, že tento hořký pesimismus nepostrádá jistou velikost. Stejně zoufalou útrpnost lze vytušit u Luthera.” ”Ve zvláštní nelibosti chová F^eud sexuální morálku dané kultury. Je třeba tu připomenout zaprvé, že lidská species je druhem, který nemže žít a vyvíjet se mimo kulturu. 23 A zadruhé, že morální kodex této kultury usiluje o zmírnění utrpení a zla, jemuž je lidský druh vystaven. Toho však nelze dosáhnout bez citelného omezení jedince. Tím se však stává pro lidstvo morálka jhem, stejně nesnesitelným jako nezbytným, pokud jeho tíži nezmírní láska. Moc Boží milosti je kompenzací tvrdosti zákona, jejž ona neruší, ale naplňuje . ” \"Freud je znamenitým příkladem obecnějšího pravidla, podle kterého si všechny velké objevy, zejména týkají-li se smyslového světa, žádají podnětu, jímž je mocná vášeň. Ta sice inspiruje zkoumání, ale současně svádí intelekt k omylu. Omyl však navzdory sobě samému slouží koneckonc pravdě...\" Po takovémto vskutku imponujícím závěru je nesnadné cokoli dodávat, zejména byl-li recenzent již předtím odzbrojen opravdovou Maritainovou velkorysostí a cítí-li 3e nucen charakteristiku Freudovy \"pseudometafyziky\" přijmout. Freud však nám není především filozofem, nýbrž objevitelem a vykladačem významného rozměru lidské bytosti. Ěekněme tedy s Maritainem, že je empirickým psychologem. Vči objevm empirické psychologie by neměla zstat netečná ani \"psychologie filozofická\", tedy filozofie, byt by se cítila zaštítěna autoritou takového ducha, jakým byl Tomáš Akvinský. Pokud bychom měli odpovědět na všetečnou otázku, zda by Freud učinil své objevy, kdyby byl vyzbrojen pouze filozofií novotomismu, rozpačitě bychom se zarazili, ale nejspíše bychom cítili, že - asi ne. Recenzent rád přiznává svou vděčnost novotomismu, jehož filozofování má nezastupitelnou pedagogickou resp. didaktickou hodnotu. Vždyt jdevo obnovu oné školy myšlení, jíž prošla celá vzdělaná křestanská západní Evropa. Proto je i recenzent jejím příznivcem, ne však bezvýhradným stoupencem. V tomto filozofování lze totiž často tušit až přílišný draz na vnitřní koherenci úvahy na úkor otevřenosti v přijímání onoho poselství, jež nám - mnohdy tajemně, někdy neopakovatelně - sděluje skutečnost. Novotomisté zpravidla nebývají příjemci těchto sdělení; jsou jejich komentátory, kteří o nich ex post uvažují. Jejich RATIO si občas počíná - omlouvám se za neobratný novověký neologismus - jako RATIO- NALISATIO. Novotomistický rozum - mívám takový pocit - nazírá svj předmět distancovanéji, a proto nevnímá to, co lze poznat z angažované blízkosti. Je pozorovatelem, často mistrem, méně již učněm věci. Nebere vždy v úvahu svou vlastní angažovanost nebo naopak neangažovanost. Novotomisté mi připadají příliš netrpěliví: nejasnost věci je jim nedokonalostí, kterou chtějí překonat, a proto spěchají, aby vnesli své CLARE ET DISTINCTE /které není pokušením pouze karteziánským/ do výsledku poznávacího aktu; ten pak psobí často příliš schematicky. Lze namítnout: vždyt takto si má rozum počínat, toto je jeho nejvlastnější přirozenost ! Ano, novotomista snad nejedná CONTRA RATIONEM. Maritain však hovořil o vášni, která je podnětem objevu. Rozumu jistě sluší určitý odstup od tohoto naladění. Netroufám si přít se o míru tohoto odstupu. Není však novotomista poněkud podezřelý chvatem, s jakým dává stopám vášně vyblednout ? Neztrácí tím jeho poznání cosi cenného ? Leč k věci. Není vždy snadné určit formální objekt nějaké tendence lidské duše, která je přece \"sama sobě temná a nejasná, a to nejen v dětství, ale vždy. Postulování jediné24 ho fundamentálního pudu, jak je rozpoznal Maritain, je LAPSUS RATIONIS. Předpoklad jednotného pudového základu je však při vší vágnosti hypotézou CUM FUNLAMENTO IN RE. Sám pojem psychodynamiky, jehož si Maritain cení? je jí zavázán mnohým, možná vším. Myslím, že by tu filozofickému psychologovi prospěla bezprostřední zkušenost, totiž zážitek /nejen introspekce jakožto pokus o jeho exposteriorní reflexi/, jak jej umožňuje psychoterapeutický proces. Že tato zkušenost Maritainovi chybí, o tom svědčí ty pasáže jeho úvahy, které jsou poznamenány obavami. - Mezi ’’nemocí” a “zdravím” není pokaždé takový vztah jako mezi abnormitou a normou. “Nemoc“ je mnohdy výslednicí interakce okolností a stavu, který by bylo možno za jiných okolností právem nazvat “zdravím”. Přirovnání psychoanalýzy k souboji na cestě do vnitřního pekla je aforismem, jehož výstižnost má velmi, velmi omezený rozsah. Přes tyto a podobné výhrady i přesto, že recenzovaná úvaha má na mysli psychoanalýzu třicátých let, je nutno jí přiznat nejen podnětnost, ale i směrodatnost. A to i tam, kde se pohybuje na metateoretické úrovni, kde se tedy obrací k psychoanalýze jako k psychologické teorii; tím spíše tam, kde pojednává o filozofii, jaká bývá v psychoanalytickém myšlení implicitně obsažena. Tady, myslím, nastavuje Maritain psychoanalýze SPECULUM RATIONIS, které by nemělo být přehlédnuto. -jrc- Zakladatel psychoanalýzy v gravitačním poli křestanství Paul C. V i t z : Sigmund Freud’s Attraction to Christianity: Biographical Evidence /Freud přitahovaný křestanstvím: životopisný dkaz/. - Psychoanalysis and Contemporary Thought, 1983, 6, str. 73-183- Autor je vyznáním křestan a profesí teoretický psycholog na newyorské univerzitě. Je orientován psychoanalyticky, i když výcvik neprodělal. Touto studií se zařadil mezi Freudo- vy životopisce. Na rozdíl od většiny z nich není spoután obvyklým tabu religiozity. Proto i Freudovi dovede rozumět v širších souvislostech a objevuje to, co jeho kolegové-živo- topisci často přehlížejí. Má k dispozici neobyčejně bohatý pramenný materiál. Postupuje chronologicky, vzhledem k zvolenému hledisku ovšem výběrově, obdařen bystrozrakém a kombinační schopností až detektivní. Všímá si vlivu, jaký měla na malého Sigmunda do jeho tří let chva, zbožná Moravanka Terezie Vítková /Resi Wittek/, která chlapci zprostředkovala křestanskokatolickou katechezi zpsobem přiměřeným jeho vnímavosti /ta byla zjevně větší nez by odpovídalo věku/. Vodívala ho do kostela, spolu zdobili květinami mariánskou kapličku, poučovala ho o Bohu, o nebi a pekle atd. Liturgie na chlapce psobila tak, že si pak doma hrával na kněze, zkoušel kázat apod. Tím zřejmě chva budila nelibost rodič, žid typu reformního, nikoli ortodoxního, vlažných, ale respektujících židovské rituální tradice. Pozadím těchto zkušeností byla pravděpodobně krize vzájemného 25 vztahu rodič, otřeseného matčiným milostným poměrem k Sig- mundovu zpola nevlastnímu bratru Filipovi, o hodně staršímu /pocházel z otcova prvního manželství/. Byla to asi tato prozrazená aféra, která přiměla Freudovy rodiče k náhlému odchodu z Příbora. Dsledkem odchodu byla pro Sigmunda ztráta chvy, což bylo asi velmi bolestné trauma. Vlastní matka se více než rok věnovala chlapci jen málo: byla zaneprázdněna dalšími dvěma těhotenstvími a porody a sklíčena nemocí a smrtí jednoho z mladších Sigmundových sourozenc. Mateřské role se proto fakticky ujala chva. Její ztrátu lze tedy přirovnat ke ztrátě matky. Bylo to hluboké separaČní trauma, což vysvětluje některé Freudovy dispozice a sklony, patrné po celý život /např. určitý nutkavý i melancholický rys/ a projevující se i v obsahu psychoanalytických hypotéz /význam ambivalence, incestu, zřeknutí se milovaného objektu, pojetí úlohy EGA, práce truchlení atd./. Za povšimnutí stojí i to, že Freud věnoval mimořádnou pozornost osudu muž, kteří měli dvě matky: Oidipo- vi, Mojžíšovi a Leonardovi. Zběžnému pohledu se zdá, že první tři Freudova léta byla formována židovským rodinným prostředím, ^jemuž byl katolický moravský venkov pouhým pozadím. Prostřednictvím chviným se však Freudově dětské imaginaci a zejména jeho nevědomí dostalo mocného \"imprintu\", který měl tradiční katolickou podobu. Fakt katolicky ovlivněného emočního prožívání a vědomé racionality, profilované zprvu vlažností vlažného židovství a posléze scientistickým skepticismem až agnosticismem, zakládá pozdější Freudovu příkrou ambivalenci vči křestanskému, zejména katolickému náboženství. Ambivalentnosti byla jeho rysem, vynuceným i jinými okolnostmi: existencí dvou matek /biologické a náhradní/, niternou kolizí sympatií vči otci /nota bene příliš starému a \"slabému”/ a staršímu zpola nevlastnímu bratru Filipovi. V chlapeckých letech se u Sigmunda střetává obdiv k semitskému protivníku Říma Hannibalovi na jedné a Scipiovi a Alexandru Makedonskému /jehož otec se jmenoval Filip/ na druhé straně atd, atd. Zatímco se dospělý Freud od orthodoxního židovství distancoval /svou nechut prosadil i proti sklonm své ženy, pocházející z pravověrné židovské rodiny/, v čemž Vitz spatřuje projev zklamání \"slabým\" otcem, vči křestanství není tak vyrovnaně jednoznačný. Slovně, zejména veřejně, je opakovaně odsoudil jako výtvor po výtce infantilní. Naproti tomu ve snech, v soukromých hovorech, dopisech i jen v chování se u něho projevuje - zpsobem příznačným spíše pro chybné výkony - relevantnost celé řady typicky křestanských témat, která se znovu a znovu takřka nutkavě vracejí: obnova, zmrtvýchvstání, vzkříšení, svatodušní svátky aj. Freud nachází slova obdivu, zaujetí, dojetí ba devoce pro Holbeinovu a Raffaelovu Madonu, Tizianova Krista i četná zpodobení Svaté rodiny. Niterné usebrání prožívá hluboce v pařížské Notre Dame, Charcot mu imponuje \"kněžským\" dstojenstvím atd, atd. Freud nikdy nenašel podobná slova a podobné city pro elementy a monumenty židovské zbožnosti. Nápadným^jevem ve Freudově životě je jeho \"římský komplex\", zprvu nechut, pak ale vytrvalá příchylnost k Římu /v jehož vnějškové tvářnosti v té době vysoce převládal \"klerikální\" ráz nad profánním/. Freud se dlouho zdráhal město navštívit. 0 své první návštěvě se rozepisuje příteli Fliessovi /ten byl jakýmsi supervizorem Freudovy autoanalýzy/: vyznává, jak veli26 ce se na město těšil a jak ho zklamalo; skoro prý nemže vystát tu pyšnou \"lež o spasení”. Tím vše ale nekončí. Řím se mu nato objevuje ve snech, často ve spojitosti s tématem velikonoc. Freud posléze navštěvuje město opakovaně a stane se jeho ctitelem. Obdivuje Itálii, italské výtvarné umění i jeho křestanská témata /především kristovské a mariánské/. - Vitz přesvědčivě dokládá, že podtextem Freudo- va vědomého protikřesťanského postoje je zklamání, že však Freud byl přesto křestanstvím nevědomě přitahován. Těsně před první světovou válkou hovořil Freud a jeho žák a pozdější životopisec Ernest Jones o psychoanalýze. Freuda zaujal určitý \"mysteriózní\" aspekt právě probíraných kázuis- tik. Na Jonesovy námitky zarecitoval z Hamleta: \"Jsou věci mezi nebem a zemí...\" a svou řeč - byly tři hodiny ráno - zakončil slovy: \"Přesně tak, dokonce i ’der liebe Gott’...\" Bylo to prý řečeno jakoby žertovně, ale Jones se zarazil, protože postřehl vážný spodní tón... V roce 1926, v době sílícího antisemitismu, odpověděl Freud židm ze zednářské lóže B’nai B’rith, že i on byl židem, byt nevěřícím, a že mu bylo pošetilé to zapírat; k židovství ho prý nepoutala víra ani národní hrdost, ale dvě židovské ctnosti: vidět nepředsudečně a umět oponovat většině. Je pozoruhodné, že psal v minulém čase: \"I já jsem byl žid,\" nikoli \"jsem žid\". Podobnou distancovanost projevil v téže době Marii Bonapartové: \"Židé mě oslavovali jako národního hrdinu, třebaže jsem židovské věci prospěl pouze tím, že jsem své židovství nezapíral.\" Freudovo poslední velké dílo \"Mojžíš a monoteismus\" /1939/ má více pozoruhodných point. Mojžíš prý nebyl žid, nýbrž Egyptan a byl prý dokonce židy zabit. Dvody pro toto tvrzení jsou méně než slabé, nicméně takovýto soud v době vybičo- vaného antisemitismu pravověrné židovstvo spíše poškodil. Jinou zajímavou, nadto zjevně prokřestanskou pointou je Freudova interpretace antisemitismu. Očekávali bychom, že právě v oné době tento starý, z domova vyhnaný a zdánlivě naprosto skeptický žid, umírající na rakovinu, obrátí svou hořkou kritičnost právě proti \"křestanské kultuře\", která onu monstrózní nenávist vyprodukovala. On však soudí jinak: \"Nesmíme zapomenout, že všechny tyto národy, vyznačující se dne3 protižidovskou nenávistí, se staly křestanskými teprve v posledním dějinném období, nezřídka z donucení násilím. Lze říci, že všechny byly ’špatně pokřtěny’ /schlecht getauft/. Pod tenkou slupkou křestanství zstaly tím, čím byli jejich předkové, uctívající barbarský polyteismus. Nepřekonaly nevraživost vči novému náboženství, které jim bylo vnuceno, ale přesunuly ji na zdroj, z něhož k nim křestanství přišlo. To, že evangelia podávají příběh, v němž vystupují židé, a který vlastně jedná pouze o židech, jim tento přesun usnadnilo. V hloubi nenávisti vči židm je nenávist ke křestanství, Nepřekvapuje proto, že německá nacionál- ně-socialistická revoluce zjednává výraz intimnímu vztahu obou těchto monoteistických náboženství tím, že je nepřátelská k oběma zároveň.\" Freudova slova tu připomínají výrok Maritainv /\"Křestan- ský pohled na židovskou otázku\",1939/: \"Nenávist k židm i ke křestanm má společný zdroj.\" Papež Pius XI. prohlásil v téže době: \"Pamatujme, že i my nazýváme Abrahama praotcem... Antisemitismus je nepřijatelný. Duchovně jsme semité.\" V závěru Vitz opakuje: Freudv vztah ke křestanství je 27 ambivalentní. V duchu samotného Freudova pojetí ambivalence musíme u něho vedle protikřesťanských postoj předpokládat neméně silnou prokřesťanskou složku. Tato ambivalence má opakovači, obsedantní ráž. Freudova interpretace náboženství, zejména jeho ztotožnění s \"univerzální obsedantní neurózou” je tudíž nikoli nestranným konstatováním, nýbrž přímým výrazem jeho vlastní psychologie, jeho celoživotní obsese. Dsledkem ambivalence bývá přesun, transformace pvodního přání v jiné. I proto se stal Freud jedním z největších teoretik metonymie, posunu význam... Potud v kostce a leckdy jen namátkou obsah studie, která se čte jako napínavý román; též díky bohatství zajímavých detail a nástin možných spojitostí. Vitz pracuje metodami? v psychoanalytických zkoumáních běžnými: interpretuje. Protinábožensky smýšlející analytik by mu možná vytýkal, že vychází z fakt nezcela ověřených, že konstruuje souvislosti na základě pouhých hypotetických předpoklad, že leckdy spíše hádá a tuší než vysuzuje, že jeho vývody jsou pravděpodobné, nikoli jisté. Takto ovšem pracuje interpretující analytik vždycky. U pacienta si svá tušení ověřuje v prběhu analytického procesu. Jako životopisci je mu tato možnost samozřejmě upřena. Vitz nezakrývá hypotetičnost svých závěr. Umožňuje plně čtenáři, aby ho při interpretační práci zblízka sledoval. Pokud mohu soudit, pracuje s veškerým dostupným materiálem, týkajícím se Freudovy Q3oby a jeho života. Stále se konfrontuje s jinými životopisci /Cassirer-Bernfieldová, Eis- sler, Gedo, Jones, Krull, Schur aj./. Moravské reálie Freudova života si ověřuje i u českého autora /J.Sajnera z Brna/ a dokonce se na ně doptává u informovaných Američan českého pvodu. Vitz nepředkládá žádný převratný objev v obecné psychologické resp. psychoanalytické teorii. Jeho studie je však přesto objevná. Vrhá světlo na zaslepenost mnohých analytik ve věcech víry a ukazuje, že i ona je analýzovatelná jako jiné neurotické výtvory. Odstraňuje nánosy z obrazu účelově glorifikovaného Freuda a ukazuje nám ho jako člověka, jemuž lze lidsky rozumět, aniž by to snižovalo vážnost, v jaké ho chováme. Je známo, že Freud nebyl osobností nerozpornou. Bývá např. poukazováno na rozpor jeho \"scientistické” teorie a \"antropologické’ praxe. Sám Freud si byl některých svých neurotických rys vědom a na rozdíl od svých pokračovatel je neváhal podle potřeby přiznat. Jak vidno, některých si vědom nebyl, zejména týkaly-li se náboženské víry. V hloubi duše bylo tomu u něho jinak než ve sféře vědomé racionality, Proto mohl prohlásit náboženství za cosi \"žalostně infantilního”. Jinou religiozitu než žalostně infantilní totiž u sebe neznal. Onu \"žalostnost\" konstatuje dospělý rozum, který odpírá víře, protože by se - jak se jemu samotnému zdá - musel sebeobětováním, sebevzdáním popřít. Věc je však prostší a jí- mavější: první dětskou náboženskou zkušenost měl Freud spojenu se ztrátou milované osoby, o náklonnosti k níž možná později už nevěděl a z jejíž ztráty se zřejmě přesto nikdy plně nezotavil. Žalostná tedy není dětinskost víry, žalostné bylo dítě, které ani později nenahlédlo, že čehosi neoželelo. I takováto traumata mohou a mají být předmětem f r e u d o - v s k é psychoanalýzy, pokud ovšem budou mít její pěstitelé odvahu analýzovat svj vlastní \"horror fidei\". 28 -jrc- EXCERPTA A REPRINT! Naše shovívavá společnost a N a d j á Henry a Yela Lowenfeldovi Psychoanalýza byla zprvu léčebnou metodou, pak psychologickým systémem. Nato se Freud obrátil k problémm kultury. Jeho závčry z této oblasti však ani jeho stoupenci ne při jímají bez výhrad. Nelze je totiž ověřit v analytické praxi. Lze je nanejvýš konfrontovat se skutečným vývojem naší kultury a civilizace. Poznatky o individuální neuróze extrapoluje Freud na kulturu vbec. Týká se to zejména konfliktu mezi rznými instancemi téže psychiky. Při porozumění civilizaci a kultuře vychází tedy Freud především z konfliktu pudových sil s požadavky této civilizace a kultury. Její současná\" situace volá po revizi jeho hledisek. Býval pokládán za pesimistu. Jedna z jeho předpovědí se splnila do písmene. V r.1929 psal o událostech v Rusku: \"Jsem zvědav, co budou Sověti dělat, až vymýtí svou buržoazii.” Klinický obraz neuróz i struktura a dynamika společnosti prodělaly od dob, kdy Freud tvořil své teorie, značné’ pro né - ny. V r.1910 předvídal Freud možnost vymizení některých symptom, vzniklých vytěsněním pudových přání. Obecná represe sexuality mezitím značně polevila. Změnil se obraz hysterické neurózy, která se stala archaismem a místo ní se objevují jiné obrazy /zejm. charakterové neurózy a psychosomatické poruchy/. Optimistické předpovědi /které mimochodem Freud nehlásal a nesdílel/, že totiž s liberalizací v oblasti sexu vymizí neurózy, se nepotvrdily. Freudv pesimismus spočíval v prohlédnutí dvojího nebezpečí současně: nebezpečí vytěsnění pudových sil a nebezpečí jejich uvolnění. Vývoj civilizace psobí nutně restrikci. Ta vede u jedněch k neuróze, u druhých k nemožnosti plného ži- cotního uspokojení. Možnost sublimace totiž není dána všem. Restrikce pud vyvolává nepřátelství vči kultuře a civilizaci, ale jejich uvolnění rovněž. Domestikované pudy jsou neustále pohotový k vzpouře a kultura a civilizace je tak trvale ohrožena. Každý jedonec je jejím potenciálním nepřítelem. Freudovo pojímání pudové síly nebylo přijato jednoznačně a vyvolávalo v psycho análytickem hnutí názorovou diferenciaci. Právem se lze ptát, zda liberalistický postoj k pudm, jak se projevil ve výchovné praxi v posledních desetiletích /mj. i popularizací psychoanalytických pojm/, není vlastně projevem podcenění pudové síly. Zdá se, že jak někdejší popírání dětské sexuality, tak i dnešní shovívavost neberou pudovou sílu vážně. Freud se domníval, že usmíření s kulturou a civilizací by bylo možné, kdyby bylo vytěsňování pud nahraženo ”vý29 sledky racionální činnosti intelektu\"; domníval se, že nemáme jiného prostředku než svou ratio. Náboženské výchově nebyl příliš nakloněn pro její iracionální povahu. I když viděl permanentní riziko dezintegrace civilizované společnosti, nepředvídal, jak daleko mže společnost zajít v uvolňování pudových sil. - Je snad zbytečno dodávat, že změna kulturního klimatu nebyla zpsobena pouhým vlivem psychoanalýzy; nejvýznamnějším faktorem byl pokrok přírodovědy, technologie a sdělování, jakož i výsledný úpadek náboženství. Freud také nemohl předvídat, v jak obtížné pozici se ocitnou rodiče, pokud akceptují dětskou sexualitu, aniž by podlehli pokušení stát se jejími participanty. Tabu incestu ztratilo svj pevný základ. Polevila disciplina, pokud jde o pregenitální /zejm.orální/ pudy a agresivitu. Polevuje odpovědnost za sadistické impulsy. Odtud stále více regresivních trend v adolescenci i v dospělosti. x/ Dalším dsldkem je i to, že mizí období latence , že je stále méně vyznačeno, přičemž právě Freud zdrazňoval jeho význam pro kultivaci individua a tedy i pro společnost /v primitivních společnostech není vyznačeno vbec/. Svízele kultury narstají zejména v posledních čtyřech desetiletích. Freud se domníval, že jsou dílem represe pud a že větší svoboda pudového života i zvýšení uspokojování lidských potřeb rozvinutou technikou pomže usmířit člověka s kulturou a civilizací. Zvýšená liberalizace však nevedla k jejímu akceptování. Zvýšená shovívavost rodičovské generace nezmírnila generační konflikt, naopak, zostřila jej. Sexuální liberalismus a usnadněná dosažitelnost sexuálního uspokojení nevedla ke snížení agresivity. Pudová výbava se v prběhu Času nemění. Já a Nadjá však vlivm prostředí podléhají. Není pochyb, že právě Nadjá se v posledních desetiletích významně mění. Jeho proměnlivost výmluvně dokumentují např. dějiny nacismu /Goring: \"Mým svědomím je Adolf Hitler!\"/. Nadjá čerpá svou sílu z energie infantilních pud, proti nimž se zaměřuje. Ustavení Nadjá je dílem úspěšné identifikace s rodičovskou autoritou. Je-li přemostění oidipského komplexu neúplné, pak Nadjá co do síly zakrňuje. Zdá se, že všechna morální pravidla odvozují sílu své psobnosti od pvodního tabu incestu. Ztrácí-li toto tabu na síle, ztrácejí svou psobivost i’ ona pravidla. Dsledky neřešeného oidipského komplexu jsou však dnes jiné než za Freudových čas. Permisivita čili shovívavost redukovala roli otce. Ve své analytické praxi jsme si pok’a£dé~ ověřili, §e mírný nezakazující otec nenapomáhá tvorbě tolerantnějšího Nadjá; napomáhá spíše fantaziím a projekcím. Pokud jde o tvorbu Nadjá, existovala vždy diskrepance mezi rodičovským \"imágem\" a reálným rodičem. Sociální proměny naší kultury tuto diskrepanci dalekosáhle zvětšily. Dětská představa reprezentant autority stále více kontrastuje s reálnou povahou těchto osob a stále více se jim vzdaluje. Jádro Nadjá je determinováno nejranějšími rodičovskými \"imágy\" dítěte. Pozdější vliv rodič se totiž obrací spíše k Já než k Nadjá. V současné době selhává inhibující, kontrolní a řídící funkce Nadjá. Selhává slabostí rodič, nedsledností výchovy a vše- x/ Období dětství předcházející vlastnímu dospívání. 30 obecným ovzduším shovívavosti. Ono strohé Nadjá raného dětství však stále přetrvává a dává vznikat neklidu, nespokojenosti a depresi i tužbám po náhradním uspokojení. Freud se domníval, že Nadjá, přenašeč tradice, se mění jen zvolna. To ale platí jen o stabilních společnostech. Kontrolní a řídící funkce Nadjá /která má takto chránit jedince před pocity viny/ funguje u dnešního člověka špatně; jeho trestná a autodestruktivní síla však trvá. Shledáváme nejen pozvolné mizení letence, ale i změny v období puberty a adolescence, kdy se dovršuje genitální fáze vývoje libida, kdy padne rozhodnutí \"buď zdraví,anebo neuróza” a kdy se v podstatě dotváří charakter a dozrává Nadjá. Pokud jde o vývoj Nadjá, je dnešní mladá generace ponechána rodiči na holičkách. Samotné Já - které je navíc poměrně slabé - nezvládne problém sebevlády a sublimace. Abdikují nejen rodiče, ale všichni reprezentanti autority. Mladým tedy nezbývá než hledat vzájemnou podporu ve vytváření skupin. Odtud přitažlivost organizující moci a ideologie: jsou vytvářena náhradní pravidla a náhradní ideály. Ideje a ideály však příliš podléhají nevědomým infantilním konfliktm svých vyznavač. Noví hrdinové vyhovují psychologickým potřebám, které vyvolalo zklamání slabým otcem. Jde o osobnosti, které se zdají být \"silnými, které však také vyhovují infantilním sadistickým fantaziím /Che Guevara , Mao Tse-tung/. Vytvářenívskupin se objevuje ve stále nižších věkových vrstvách, nebot i rodičovská autorita zaniká stále časněji. Zklamání rodiči, kteří neposkytli to, co mladí potřebovali, vede u mladých k despektu vči civilizaci, kulturní tradici a dějinám. Současní revolucionáři se nezabývají svými dřívějšími předchdci, \"nemají se čemu učit\". V souvislosti s tímto despektem k dějinám spatřujeme vzrstající přitažlivost primitivního animismu, infantilních teorií a perzonifi- kace sociálních sil. Úpadek otcovské role a monoteismu vede k primitivní idolatrii. Tuto situaci odrážejí i neurózy a jejich analýza. Rozhodující represe již nepostihuje Ono? nýbrž Nadjá. Neustálá ver- balizace pudových impuls /tedy impuls z oblasti Ono/, v soudobé kultuře zcela běžná, činí jejich represi méně naléhavou; jejich analýza je také snazší. Analýza vytěsněného Nadjá, je však obtížnější, nebot tato instance je obecně považována za zbytečný přívěšek. Tento vývoj je stále častěji odhalován i v analytické léčbě současných pacient. V r.1965 jsme podrobili souhrnnému zkoumání činnost Psychoanalytického institutu v New Yorku. Pacienti si většinou stýskali na nespokojenost, napětí, nenávist sebe sama, depresi, nedostatek motivace, pocit prázdnoty, neschopnost lásky i na neuspokojení civilizací a kulturou. Jejich individuální vývoj měl společné jmenovatele: oi- dipský kompex nebyl náležitě vyřešen, nezralé Nadjá nedokázat lo podpořit slabé Já; též sociální Nadjá bylo dysfunkční; Já nedokázalo integrovat jednotlivé složky psychiky. Takový jedinec nemá náležité narcistické uspokojení ze svého jáského ideálu. Jeho afekty jsou determinovány nevědomými pocity viny /resp. nevědomou potřebou trestu/. Jeden z pacient považoval za samozřejmé, že \"přece každý nenávidí svou matku\". Takové obranné mechanismy, široce podporované současným prostředím, slouží jako účinné popření oidipské situace, brání nezbytné separaci od rodič a jsou významnou příčinou neschop31 nosti lásky. I sexuální uspokojení ztratilo u valné části mládeže svou hodnotu /na tento neblahý vliv sexuální volnosti upozornil Freud již v r.1912/. Proto mnozí hledají štěstí v intoxikaci drogou. Zajímavá kasuistika ilustruje neblahý vliv otcovské slabosti. Jistý mladík v adolescentním věku demonstroval své \"nepřátelství vči společnosti\" tím, že nosil na klopě knoflík s výrazně napsaným revolučním heslem. Když si toho povšiml jeho otec, inteligentní a tolerantní gentleman, chápavě se pousmál a podotkl, že i on choval v mládí sympatie k politické levici. Syn si pak už onen knoflík nevzal. il jiný s provokujícím obscénním nápisem. Dalším rysem diskutovaným jen zřídka, je skutečnost, že i agresivní pudy raného dětství jsou dnes zvládány mnohem méně nez drive. Nevyhnutelným dsledkem je pak rostoucí ambivalence rodič a dospělých vbec vči dětem, což pak vede u dětí ke ztrátě dvěry v rodičovskou lásku. Rodiče se také vyhýbají otevřené konfrontaci s dětmi v době jejich dospívání, která dříve bývala obvyklá. Naopak se v mnohém snaží mladé imitovat, napodobují jejich módu, slang, manýry. Agresivita mladých, která se nesetkává s rezistencí dospělých, vede k frustraci. I v oblasti sexuality zstává mužská agresivita neuspokojena snadnou dosažitelností žádaného /znásilnění jako ultimum refugium!/, je tedy zbytečná. Pudy tak ztrácejí možnost fúze a vzrstá s ničím nesmíšená čirá agresivita \"in statu nascendi\". Charismatickou roli získávají v očích mladých filozofové, kteří oslavují ryzí agresi a destrukci. Dochází k celospolečenskému schvalování pregenitality /te dy nezralých úrovní pudovosti: orální, anální a falícké/, a to i v kultuře, což potencuje regrese a fixace, tedy zpětné sesuvy na tuto méně zralou úroveň nebo ustrnutí na ní. Mnoho mladých selhává v dosažení plné genitality. Disociace něžného a smyslného, erotu a sexu, se stává obecným \"světonázorem\" . Zdá se, že nejvýznamnější okolností proměn vývoje Nadjá je otázka religiozity. Generace otc, která odvozovala své normy z náb ožens tv £, hov oř íe ve jménu zákon Božích, dispono vala zcela jinou výchovnou silou. Tvorba nábožensky fundovaného Nadjá byla mnohem snazší: otec předkládal své požadavky nejen jménem svým, ale i jménem autority, vči níž submito- val sám tak jako má dítě submitovat vči němu. I v dnešní době je to znát. Tehdy mohl Freud prohlásit, že \"morálka je samozřejmou věcí\". Dnes tento výrok svou validitu ztrácí. Dříve rodiče považovali za svj úkol přibližovat dětem morální hodnoty. I když byla dětská sexualita ignorována, měla výchova pozitivní cíl: civilizovat dítě-divocha. V posledních desetiletích ztrácejí rodiče a vychovatelé ve svém poslání jistotu. Naopak, bojí se ubližovat mladé generaci a riskovat ztrátu její lásky. Dilema kultury, tj. svoboda pud versus jejich restrikce, na kterd upozornil Freud, je dalekosáhle potvrzováno změnou kulturního klimatu poslední doby. Sexuální volnost sice změnila obraz neuróz, nevedla však k vyššímu duševnímu zdraví, ale pouze k novým neurotickým konstelacím. Snížení represe dětské sexuality vede k sníženému ovládání agresivity. I když represe vcelku ubývá, nepřátelství ke kultuře a civili- 32 zaci vzrstá. Usmíření jedince s kulturou a civilizací nebylo usnadněno. V dobách kulturní a sociální stability byly v analytickém procesu zpracovávány konflikty mezi infantilním a zralým Nadjá, přičemž sociální prostředí podporovalo Nadjá v jeho kontrolní a ochranné funkci. Současný chaos staví psychoanalýzu před nevídané úkoly. Kultura spočívá vždy na rovnováze psychických sil, a ta je ohrožena vždy, když je některá z těchto sil oslabována. A úpadek Nadjá už ohrožuje tuto rovnováhu nebezpečnou měrou. /Výtah z rozsáhlejší studie ”Our Permissive Society and Superego”, uveřejněné v čtvrtletníku The Psychoanalytic Quarterly , XXXIX, 1970. Autoři jsou pracovníky Psychoanalytického institutu v New Yorku a reprezentují psychoanalýzu v její klasické freudovské podobě./ Křestanství a psychoanalýza Paul Vitz - John Gartner 1. Ježíš jako Antioidipos K vzájemným sympatiím mají křestanství i psychoanalýza stále daleko. Uvědomělí křestané, kteří by mezi oběma ne- shledávali zásadní rozpor - jako např. 0.Pfister nebo G. Zilboorg - byli dlouho výjimkami. Freud sice jednou Pfiste- rovi napsal, že psychoanalýza není ani náboženská, ani protináboženská, ale veřejně se vyjadřoval mnohem zaujatěji: náboženství mu bylo záležitostí \"žalostně infantilní\". Proto je křestanská interpretace psychoanalýzy dosud přijímána oběma stranami spíše skepticky. Jde totiž o odlišné domény života, třebas existuje styčný bod, a to na místě, kde se stýká zážitek psychologický a spirituální. Adresátem psychoanalýzy je padlý,vhříšný /dnes mžeme říci: obyčejný/ Člověk, zatímco křestanství se obrací k Člověku vykoupenému a předkládá mu nadpřirozenou skutečnost. Základním interpretačním klíčem klasické psychoanalýzy je oidipský komplex. I když není nutno jeho univerzální výkladovou hodnotu akceptovat, zstává faktem, že oidipská motivace je vlastní mnoha lidem, zejména v moderní západní společnosti. 0 tom existuje bezpočet klinických dkaz. Nadto nelze přehlédnout podobnost oidipského příběhu a prvotního hříchu. Už proto lze přisoudit teorii oidipského komplexu značnou validitu. Podle Freuda, řečeno stručně, dítě mužského pohlaví zatouží sexuálně po matce a po odstranění otce; strach z tre- stu /z kastrace/ ho přiměje k zřeknutí se matky, k identifikaci s otcem, výsledkem čehož je pak nová instance - Nadjá /superego/. V díle \"Totem a tabu\" Freud předkládá hypotézu o oidipském vzniku náboženství /v primitivní totemistické podobě/: rivalizující synovská horda zabije žárlivého otce, který si usurpoval všechny ženy, kanibalsky ho pozře, aby se podílela na jeho síle, ale vytěsněná náklonnost k otci probudí v synech pocity viny? čímž podnítí apoteózu mrtvého otce, zřeknutí se endogamie a organizaci společnosti; mrtvý otec se ukazuje silnějším než kdysi živý. - Řešení 33 však není příliš uspokojivé. Zatímco se dítě obávalo kastrujícího otce, bojí se dospělý otce internalizováného, tj. svědomí. \"Jizvou*\\' zhojeného oidipského komplexu se tedy stává permanentní pohotovost k úzkosti a k autoagresi, třebas ve zmírněné podobě, ale překonat ji nelze. Však se Freud stran lidské povahy nikdy nezbavil určitého pesimismu: z pohřbené oidipské tragédie prostě není úniku, dokonce ani v teorii. Na oidipskou noční múru dává odpověS Kristus jako dokonalý Antioidipos, nebot jeho vztah k Otci\\' \"je pravým opakem vzpoury. Freudova koncepce univerzálního oidipského komplexu je psobivým psychologickým dkazem univerzální lidské tendence \"být jako Bh\", zhřešit vzpourou /jako jí zhřešil Satan/. Naproti tomu je Ježíš dokonalým modelem popření vzpoury, radikální poslušnosti /včetně zřeknutí se sexuální motivace/, tedy identifikace s vlí otce. Je zabit, ale nikoli Otcem, nýbrž hordou nenávistných bratří. Výsledkem /\"řešením\"/ je tu však vkříšení, radost a sjednocení jak s Otcem, tak i s následovníky, \"bratřími v Kristu\", jehož výrazem je nikoli totemistická hostina, nýbrž přijímání Těla a Krve Syne, /tedy nikoli Otce/. Středobodem křestanského života je následování, \"imita- tio Christi\". Adam, tot starý, oidipský člověk. Kristus je nový člověk. Pvodní psychologická bohovražda v životě každého člověka, přežívající v podobě touhy dospělého po moci, po autonomii, mže být překonána jedině konfrontací s rebelujícím vrahem v každém z nás. Tento příběh /nikoli již oidipský/ lze dovršit nikoli pomocí psychoanalýzy /která vede k rezignujícímu akceptování/, nýbrž jedině s přispěním milosti. Jeho vyústění je láska k Ježíši, přijetí kříže, odpuštění nepřátelm i sobě /nebot oidipské Self nenávidí se- be sama/. To vše míří proti fundamentální přirozenosti oidipského člověka. Je to transformace, znovuzrození. Ježíš je víc než vzor dokonalé poslušnosti. Je i zprostředkovatelem zahlazení oidipské viny. Je tím, kdo přináší skutečné vyléčení. V \"Totemu a tabu\" Freud sice byl na stopě této logiky, nepochopil však, že v křestanství Syn nenahrazuje Otce, nýbrž že oba - \"jedno jsou\". Svrchovanost Otce je přece v křestanství uznána: nové náboženství vytváří integrální harmonii tam, kde byla vzpoura. V knize \"Mojžíš a monoteismus\" to už Freud vytušil, nebot nazval nové náboženství \"pokrokem\". Pokusme se srovnat charakteristiky člověka starého /Oi- dipa resp. Adama/ a nového /Ježíše/: 1. nenávist k otci - láska k Otci; 2. vzpoura - radikální poslušnost; 3. touha po matce resp. po všech ženách klanu - zřeknutí se žen; 4. otcovražda - smrt Syna; 5. vrahem je syn ev. synovská horda - vraždí bratrská horda; 6. následuje neúspěšné zmrtvýchvstání totemu, odcizení, pocity viny - následuje vzkříšení, radost a sjednocení Syna s Otcem; 7. po smrti otce se s ním syn identifikuje inkorporací - - po zmrtvýchvstání vzniká nové společenství Syna; 8. totemistická hostina, kdy je pojídán otec - přijímání Těla a Krve Syna; 9. zřeknutí se žen a endogamie, přechod k exogamii - ženy nejsouz nového společenství vylučovány, jméno Syna /\"křestané\" - \"kristovci\"/ přijímají všichni; 34 10. nenávist a vzpoura přináší prvotní hřích - láska a poslušnost přináší vykoupení, vysvobození z hříchu. Freudova interpretace křestanství jakožto \"náboženství Syna7* příliš nézapsobila \\'pravděpodobné pro svou neade- kvátnost, tudíž vyvratitelnost. Není ostatně vyloučeno, že psychoanalytici jsou s to pochopit logiku křestanského antioidipovství, ale že je nevědomě nebo záměrně obcházejí. Větší vliv měly Freudovy argumenty proti víře v Boha. Taje údajně pro svj psychologický pvod něčím nespolehlivým, nevěrohodným. Bh je Freudovi výtvorem projekce, splněním nevědomých přání ochrany a bezpečí. Protože jsou nevědomá, je jejich popírání nevěrohodným. Jak zřejmo, Freud sází v takovém případě na argumentum ad hominem. V \"Budoucnosti iluze\" prohlašuje, že náboženská iluze, stejně jako ostatní civilizační vymoženosti, vznikla v nezbytné sebeobraně proti drtivým silám přírody. Pokud by tomu tak ale opravdu bylo, byla by zpochybněna skutečná hodnota všech civilizačních výtvor včetně psychoanalýzy samotné. Na jiném místě citované knihy tvrdí Freud, že náboženství je iluzorním splněním nejstarších, nejsilnějších a nejnaléhavějších lidských přání: děsivý pocit dětské bezmoci totiž vyvolal potřebu láskyplné otcovské ochrany. Jenže před- křestanská náboženství nevědí o milující otcovské povaze božství, s tím přichází teprve křestanství. Interpretace náboženství teorií projekce není pvodně počinem psychoanalytik, ale Ludwiga Feuerbacha, jehož spisy Freud rád čítával. I z modifikované psychoanalytické verze, vysvětlující božskost jako projekci jáského ideálu, zní pořád ještě příliš feuerbachovská nota. V psychoanaly- tickém kontextu se projekční teorie vyjímá poněkud cizorodě: analytické zkušenosti nepotvrzují jednoznačně směrodatný význam dětské bezmoci či touhy po otci, protože u dítěte lze spíše najít pocity omnipotence a touhu po matce. Však také Freud Pfisterovi přiznal, že \"Budoucnost iluze\" netlumočí psychoanalytické pojetí, nýbrž jeho osobní názor. Současná psychoanalýza neskýtá teoretickou bázi pro jednoznačnou charakteristiku náboženství jakožto neurotického výtvoru. Zato skýtá možnost interpretovat ateismus jako splnění oidipského přání. Víra sice mže být někdy iluzí, ale právě tak mže být ateismus neurotickým výtvorem. A pokud má oidipský komplex vskutku univerzální platnost, je neurotický pvod ateismu pravděpodobnější než neurotický pvod náboženství. Ateismus je totiž iluzorním splněním přání člověka nahradit otce - - sebou samým. Moderní ateismus je v tomto směru dsledný: zdrojem moci a hodnot v širém kosmu není Bh, ale - humanita. Člověk se snaží uspět i tam, kde selhal Satan, totiž v usurpování Božího trnu. Je to vlastně ironie, ale Freud usnadnil pochopit neurotičnost, nespolehlivost a nevěrohodnost - náboženské nevěry /všimněmě si ,jak je dnes často spojena s narcistickým sebeobdivem a sexuální exploatací!/. Tak jako je Ježíš Antioidipem, je oidipská motivace sa- tanistickým vzdorem vči Bohu, hluboce zakořeněným v porušené lidské přirozenosti. Oidipos, tot Antikrist v našem nitru. Už staří teologové upozorňovali, že naše neschopnost akceprovat Boha spočívá nikoli v slabosti dkaz, ale v padlé lidské přirozenosti. A Freud nám nabídl pojmový rámec 35 pro porozumění tvrdošíjné zlobě a pyšné aroganci, která ovládá mnohé. Je známo, že jeho vlastní oidipská motivace byla značná; proto tuto přímočarou interpretaci náboženské nevěry nedokázal objevit. 2. Ježíš jako ten, kdo přetváří superego Freudovské superego je výslednicí přirozené identifikace s otcem. Křestanská víra, zakládají c í novou\\'identitu,~ je identifikací nadpřirozenou, dílem božího Ducha. Existují podobnosti, opravňující v obou případech mluvit o identifikaci: 1. Obojí zahrnuje inkorporaci či in- trojekci jedné osoby do mysli druhé osoby. - 2. Obojí řeší ’’rodinnou krizi”. - 3« Obojí zahajuje nové životní stádium. - 4. Obojí je zásadním charakterotvorným činitelem. - 5. Obojí niterně určuje morální systém jedince. Existují však velké rozdíly, svědčící o transformující a transcendující síle nadpřirozené identifikace: 1. Křestan se identifikuje nikoli s Otcem, ale s jeho Synem Ježíšem; Bh Otec je příliš vzdálený a odlišný, ale Ježíš, který s ním \"jedno jest\", umožňuje i člověku být s Bohem zajedno. 2. Přirozená identifikace je výsledkem separace, ztráty objektu; dokonce i samo EGO je precipitátem ztraceného ob- jektního obsazení a jeho základní emocí je truchlení. Naproti tomu nadpřirozená identifikace se zakládá na smíru s nadpřirozeným objektem lásky, s Bohem, skrze Syna, který je s ním zajedno; emočním dsledkem je pak radost. 3. Přirozená identifikace je instalací mentální reprezentace reálného objektu, jeho imága; tedy nikoli instalací reálného objektu samotného. Naproti tomu nadpřirozená identifikace je introjekcí objektu jako takového. Sám Duch Boží přebývá ve věřícícm, nikoli jeho idea. Toto je nejvýznamnější rozdíl. 4. Křestanská identifikace je spojena s akceptováním SELF, zatímco nejtragiČtějším aspektem SUPEREGA je hněv vči SELF /otec byl totiž dítětem percipován jako rozhněvaný, nadto má SUPEREGO velmi blízko k ID a destruktivní energie je lidské psýché vlastní/. Pohonem nadpřirozené identifikace není ani eros, ani thanatos, nýbrž energie, o níž Freud asi nevěděl, totiž agapé, nekonečná a nesobecká láska Boží, jejíž infúzi poskytuje Ježíš. Ve Freudově pojetí je všechna láska derivátem sebelásky, zatímco nadpřirozená intro jekce nevytváří žádný sekundární narcismus. Obrácení člověka k Bohu znamená obdržení nadpřirozené kathexe božské lásky, vlití agapé, čímž je umožněn pravý altruismus. Dítě s rodičovskou reprezentací introjikuje i rodičovské postoje k sobě /včetně hněvu/. Introjikovaný Ježíš je však radikálně neambivalentní. \"Bh je láska.\" - Zdrojem nadpřirozené identifikace není žádná psychická instance, nýbrž plnost Ey- tí. Introjekce Boží lásky má obrovský účinek; ruší autoagre- sivitu a modifikuje všechny psychické struktury, SUPEREGO především; odstraňuje všechny charakteristiky, které jsou v rozporu s Božím záměrem. Umožňuje chování, jakého by člověk vlastními silami nebyl schopen. 5. Křestanská identifikace se neváže k dětství, je možná v kterémkoli věku. 6. Křestanská identifikace dospívá k přesvědčení, ne k 36 odsouzení. Jedním z hlavních produkt SUPEREGA je morálka, prosazující se autoagresivně /nebot vychází z převzetí rodičovských norem včetně rodičovské ambivalence vči dítěti/. Křestanská mravnost také zahrnuje internalizaci jejího autora, Ježíše Krista, jejím motivem je však milující zájem; odsouzení ze strany nadpřirozeného introjektu je tu nemožné. Věřící netrpí pocity odsouzení. Výčitky svědomí a pokání jsou spíše provázeny přesvědčením o pravdě, kterou odhaluje benevolentní moc. Hřích je něco jako útok kladivem na Michelangelovu Pietu. - Lze namítnout, že křesňanská výchova spoluvytváří klientelu psychoanalytik. Zde však nejde o dílo křestanské mravnosti, ale o dsledky neurotické morálky freudovského SUPEREGA, jímž bylo křestanské téma zneužito: bylo přijato jako odsouzení, ne jako radostná zvěst. 7. Křestanská identifikace ruší spojení s neurotickou minulostí; ta už nemá nad člověkem moc. Pravý křestan je zaměřen do budoucna, je poutníkem. Proto je příprava člověka na smrt dležitější než to, jak ho rodiče připravili ke startu. Závěr Tuto úvahu lze shrnout postulováním tří základních dilemat psychoanalýzy, která freudovská teorie principiálně nemže překonat} 1. Dilema oidipského komplexu, od jehož nevědomých destruktivních motiv se člověk nemže osvobodit. Mže sice náhledem získat určitou úlevu od oidipských handicap, ty jsou však zjištovány i po letech téměř každodenních sessí. 2. Dilema smutku: tvorba EGA je odezvou na ztrátu milován ého objektu a jeHo nejzákladnějšími emocemi jsou truchlení, deprese a separační úzkost. EGO nadto ví, že jednou ztratí sebe sama, nebot zemře. Jakkoli úspěšné hledání štěstí nás nemže zbavit bazálního smutku, prostupujícího přirozený emoční život. 3. Dilema narcismu: všechna láska je vlastně sebeláska, jáský Ideál je projekcí potřeb EGA, milovat někoho znamená milovat reflex vlastního SELF. Jakkoli je kultivování či maskování narcismu zdařilé, v psychoanalýze od něho není úniku. Ukázali jsme, jak řeší každé z těchto dilemat křestan- ství* V prvním případě psobí Ježíš jako Antioidipos. V druhém poskytuje Ježíš spojení s Bohem a dává tak radostnou odpověd na freudovský smutek EGA. A v třetím je křestan prostřednictvím nekonečné Boží lásky schopen milovat bližní bez narcismu. - Touto úvahou jsme chtěli naznačit, že je možné plně křestanské pojetí psychoanalýzy. /Stručný výtah ze studie \"Christianity and Psychoanalysis” uveřejněné v 1. a 2.čísle Journal of Psychology and Theology 1984, str. 4-14 a 82-90. Paula Vitze známe z jeho životopisné studie o Freudovi. John Gartner je klinickým psychologem v Departmentu psychologie, University of Massachusetts./ + + + Obhájci náboženství mají nicméně stejné právo užít psychoanalýzy k tomu, aby prokázali a zhodnotili citový význam náboženského učení. /S.Freud, Budoucnost iluze/ 37 MEDITACE Rozjímání v samotě Thomas Merton Není větší pohroma v duchovním životě než zabřednout do neskutečnosti, nebot život se v nás udržuje a živí našimi vztahy ke skutečnostem mimo nás a nad námi. Živí-li se náš život neskutečností, musí živořit. Musí proto zemřít. Není větší neštěstí než zaměnit tuto neplodnou smrt za skutečnou a obětní ’’smrt”, jíž vcházíme do života. Smrt, jíž vcházíme do života, není útěk ze skutečnosti, nýbrž bezvýhradný dar sebe samého, který v sobě zahrnuje dokonalé odevzdání se skutečnosti. Začíná tím, že se zřekneme zdánlivé podstaty, jíž nabývají stvořené věci, jsou-li nazírány pouze v jejich vztahu k našim sobeckým zájmm. Ještě dříve než mžeme vidět, že stvořené věci /obzvláště hmotné/ jsou neskutečné, musíme jasně vidět, že jsou skutečné. Nebot \"neskutečnost\" hmotných věcí je jen relativní ve srovnání s vyšší skutečností věcí duchovních. Začínáme se odříkat stvořených věcí teprve z odstupu a poznáním, jaké skutečně jsou. Tak pronikneme jejich podstatu, jejich pravou existenci, jejich pravdu, kterou není možno odhalit, dokud nevyjdeme sami ze sebe a nepohlédneme na ně z perspektivy. Nemžeme pohlížet na věci z odstupu, dokud jsme jimi plně zaujati. Teprve když se od nich vzdálíme, začínáme si uvědomovat jejich skutečnou hodnotu. Tehdy v nich objevujeme Boha. Dokud Ho v nich nenacházíme, nemžeme se vydat na cestu hledání, na jejímž konci bychom mohli spatřit Jeho v nich... Nacházíme Boha ve své vlastní bytosti, jež je Božím zrcadlem. Jak však najít svou bytost ? Skutky jsou branou a okny bytosti. Dokud se neprojevíme činy, nevíme jací jsme. A zkušenost naší existence je nemožná bez jakési zkušenosti poznávat nebo nějaké zkušenosti ze zkušenosti. Nemžeme proto najít hloubku své bytosti, zřekneme-li se vší činnosti... ^ylo by velmi pošetilé se domnívat, že cit nepatří do duchovního života proto, že někdy ovlivňuje rozum. Křestanství není stoicismus. Kříž nás neposvěcuje ničením lidského citu. Odstup není bezcitnost. Mnoha asketm se nepodařilo stát se velkými světci právě proto, že svými pravidly a asketickými zvyklostmi svou lidskost pouze umrtvili, místo aby jí poskytli volnost k bohatému rozvinutí všech schopností psobením milosti... Bez lidského citu nemžeme Boha milovat tak, jak bychom Ho milovat měli - jako lidé. Neodpovídáme-li na lidské projevy náklonnosti, nemže nás Bh milovat tak, jak nás milovat chtěl - srdcem člověka, Ježíše, Boha, Božího a Pomazaného Krista... 38 Musíme trpět. Ale nápor umrtvování má obohatit a očistit naše smysly - vnímavost, představivost, úsudek a vli. Našich pět smysl je otupeno nezřízenou radostí. Pokání je zbystřuje, vrací jim jejich přirozenou životnost, ba víc. Pokání zjasňuje zrak svědomí a rozumu. Pomáhá nám jasně myslet a zdravě usuzovat. Posiluje činnost naší vle. Pokání také ladí ton citu; nedostatek sebezapření vysvětluje, proč tolik náboženského umění, zbožných spis, citových modliteb a nábožných život se pohybuje na úrovni běžné prměrnosti. Někteří lidé se odvracejí od všech těch laciných cit s jakousi hrdinnou beznadějností a hledají Boha na poušti, kde jejich citový život postrádá jakýchkoli jiných zdroj. I to však mže být zmýlený krok. Zahynou-li naše city, pak s nimi zahyne i naše lidství. Musíme se z pouště vrátit jako Ježíš nebo jako svátý Jan s rozšířeným a prohloubeným citovým životem, posíleným proti náporm nepravd, posíleným proti pokušení velkou, ušlechtilou čistotou. Duchovní život neznamená jen neustále setrvávat v přemítání. Není to pouhé myšlení. Není to přirozeně jenom život smyslový nebo jenom život citový - “cítění\" a vychutnávání věcí duchovních a Božích. Duchovní život však nevylučuje ani myšlení, ani cit. Potřebuje obojí. Není to jen a jen život soustředěný kolem \"nejvyššího bodu\" duše, život vylučující rozum, představivost a tělo. Kdyby tomu bylo skutečně tak, jak málo lidí by jím mohlo žít ! A opět? kdyby mělo být duchovním životem pouze to, pak by to ani žádný život nebyl. Má-li člověk žít, musí žít vším: tělem, duší, myslí, srdcem, duchem. Vše musí být pozdviženo a přetvořeno Božím psobením v lásce a víře... Čistě rozumový život mže být zhoubný, chce-li nahradit život přemítáním a skutky myšlenkami. Člověk nemže popřít svoje tělo tím, že se oddává výlučně rozumové činnosti. Naším posláním je uvádět v život to, o čem přemýšlíme, poněvadž nežijeme-li podle toho, co jsme poznali, nepoznali jsme vbec nic. Pouze tehdy, když poznané věci se stávají částí nás samých, vstupujeme ve skutečnost charakterizovanou našimi pojmy. Žít jako rozumový tvor neznamená myslet jako člověk a žít jako zvíře. Musíme nejen myslet, ale i jednat jako lidé. Představme si, že bychom se pokusili žít tak, jako by dvě abstraktní části naší bytosti /rozumovost a živočišnost/ byly ve skutečnosti rozdělené na dvě konkrétní skutečnosti. Jsme jeden celek, tělo a duše; ne- žijeme-li jako jeden celek, musíme zahynout. Žít neznamená jen myslet. Myšlenka se vytváří a je vedena objektivní skutečností mimo nás. Naše existence je neustálé přizpsobování se životu a života k myšlení, takže neustále rosteme, neustále získáváme nové zkušenosti s věcmi starými a staré s novými. Tak se život neustále obměňuje, je stále něčím novým. /Vybráno ze stejnojmenné knihy vydané Křestanskou akademií v Římě v r.1970; přeložil J.V.Pole./ 39 Mj Pane a mj Bože, prosím Tě, abys mi dal víru plnou dvěry v Tebe, abys nyní ve mně začal nebo dále konal své dílo uzdravení. Ty jsi Pán nad příběhem mého života. Vzešel jsem z lásky Tvého srdce. Děkuji Ti, Pane Ježíši Kriste, že jsi na kříži jenom nezemřel za mé hřích, ale že jsi se za mě nechal i zranit, abych byl Tvými ranami uzdraven. Prosím Tě, uzdrav mé bolestné vzpomínky a vstup nyní se mnou do těch životních situací se svou láskou, svým světlem a svým pokojem. Mj Pane a mj Bože, Tys věděl o mně všechno ještě dřív než jsem byl zrozen. Děkuji Ti, žes byl přítomen svou stvořitelskou silou, když se počal mj život. Chci Ti nyní svěřit znovu prvních devět měsíc mého života. Ty znáš všecky okolnosti života mých rodič, které mě zatěžují a které mi brání najít plně cestu k Tobě. Pokud už vnikly do mého nevědomí strach a jiné záporné vlivy, když jsem ještě byl v těle své matky, prosím Tě, osvoboa mě od nich. Mj Pane a mj Bože, Tys byl přítomen, když jsem se narodil. Děkuji Ti, žes mě už tehdy miloval. 0 svých prvních letech vím málo, ale dnes vím, že matka a otec mi měli být osobami, od nichž jsem očekával náklonnost. Ty víš, zda jsem postrádal mateřskou lásku, zda jsem vyrstal v přehnané péči nebo zda bych byl býval potřeboval víc otcovské náklonnosti, která by mi dala pevnost a sebedvěru. Pane Ježíši Kriste, Ty jsi víc než otec a než matka, Ty jsi mj vlastní pvod. Z Tvé lásky jsem vzešel, po Tobě žízním, dej, abych zakusil Tvou náklonnost... Vyplň ve mně všekcu prázdnotu a dej mi tečí tu lásku, kterou jsem tehdy nedostal. Odpouštím matce, že mě chtěla k sobě vázat, i otci, že měl pro mě tak málo času. Odpouštím rodičm hádky, které jsem musel vyslechnout. Očist mi srdce od výčitek a skloň se i k mým rodičm. Odevzdávám je Tvému milosrdenství. Odejmi ode mne všechen strach z temnot jakéhokoli druhu, z pád už zažitých i těch, které mohou přijít, strach, že se ztratím... Děkuji Ti, že mě uzdravíš, mj Pane. Předkládám před Tebe i mj vztah k sourozencm. Pokud byly mezi námi spory o prvenství, závist, odmítání nebo odstrkování, při ja, prosím, se svou uzdravovací silou a obnov naše rozbité společenství. Dej vyrst mezi námi odpouštějící lásce. Odpouštím.jim, co bylo, a prosím Tě, abys Ty odpustil mně, co jsem jim zpsobil. Prosím, Pane, projdi se mnou školními léty. Býval jsem úzkostlivý a plachý a netroufal si čelit novým situacím. Zraňovalo mě často počínání ostatních, kteří se prosazovali. Býval jsem vysmíván a odstrkován. Byly doby, kdy jsem si připadal jako někdo, kdo absolutně selhal. Odpouštím spolužákm vše, co mi prováděli. Prosím Tě, Pane, uzdrav všecky tyto vzpomínky a děkuji Ti za to. Pane Ježíši Kriste, předkládám Ti čas mého dospívání. Ty víš, do jakých okolností jsem vrstal a jaké představy o životě tehdy převládaly; ctižádost, chtivost majetku, autori- tativnost, konzumní postoje, snaha se uplatnit. Vzpomínám na první ztrátu mé dvěry i na zklamání s tím spojené, na 40 MODLITBA vzniklou nedověru k lidem, ale i k Tobě, který jsi často jednal jinak než jak jsem si přál a který jsi v mém životě dopustil mnohou bolestnou situaci. Mj Pane a mj Bože, odříkám se vší mé nedvěry k Tobě. Myslím nyní na svou neuzdravenou sexuální zkušenost, která mě pak učinila nejistým a plným zábran i vči všemu ostatnímu. Mj Bože, dej, at dovedu na to všechno pomyslit bez výčitek vči Tobě. Dej mi sílu připustit si před Tebou všechny pocity, které ještě ve mně vyvstanou. Pane Ježíši Kriste, osamostatnil jsem se už od rodič? Prosím Tě o uzdravení všech ran a bolestí z doby mého zrání a o sílu odpustit těm, kdo je zpsobili. Děkuji Ti, Pane Ježíši Kriste, žes byl přítomen, když začalo naše manželství. Zahrň, prosím, i mou ženu /mého muže/ svou láskou a zhoj všechny rány, které tu vznikly. Éí- kám jí /mu/ ano, říkám ano tomu, jaká /jaký/ je a odpouštím. Dej, prosím, at od ní /od něho/ nečekám nic, co mi dát nemže. Ty jediný jsi celé mé štěstí na zemi. Amen. + + + Dvakrát o mlčení: Psychoanalýza duchovní faktory výslovně nepopírá. Ve svých úvahách na toto téma je však rezervovaná. Podobně i joginský guru se zpravidla o své funkci duchovního vdce šíří co nejméně; spíše ji relativizuje slovy: \"Vybral jsi sobě učitele nehodného.\" Staroindická literatura obsahuje ostatně jen málo didaktických text: mlčení bylo vždy nej- lepsí cestou k porozumění. Mlčení psychoanalýzy v antropologické diskusi neznamená zneuznání, ale spíše opatrnost, svědčící o jisté dávce životní moudrosti v zacházení se sebou samým. /Švýcarský psychoanalytik Ulrich Moser v diskusním příspěvku ve sborníku \"Heilwege der Tiefenpsychologie\", Bern 1956/ + Mlčení jest velice podobno tichu, které jest proto vznešené, poněvadž jest dokonáním díla... Mlčení má již svou tisíciletou praxi... Jest možno shledati jeho základní pravidla a zákony... První podmínkou tedy jest, že ten,kdo chce mlčeti, musí něco míti, o čem by mohl mlčeti... /Jaroslav Durych, Prakse mlčení 1917/ + + + Je osudnou chybou mluvit o nezbytí seberealizace a nevě novat ani myšlenku tomu, kterou část sebe sama chce člo- věk realizovat. /L.S.Thornton/ Nejpádnější námitkou, jakou lze z autenticky křestan- ského, ba vbec z náboženského hlediska adresovat součas né západní psychologii, je to, že posiluje tendenci k narcismu. /Donald Evans/ 41 POEZIE Všichni, kdož hledat tě zkoušejí, pokoušejí tě jen. A kdož tě nalézt doufají, tebe jen poutají na obraz, p03un, jenž tápe. Však já kéž tě pochopit smím tak, jak tě chápe zem tvá; i zráním mým zrá tvoje Ěíše. Nechci od tebe marnivě schválný hlas, jenž tebe dokazuje. Nebot vím, že čas jinak sluje než ty. Nečiň mi zázraku pro libost mou. Doslova naplň svých zákon znění, jež od pokolení do pokolení stále zřejmější jsou. + + + + + V hlubokých nocích kopu tebe, Poklade. Co jsou přebytky všecky, jimiž země překypovala, než chudobou a bědnou náhražkou tvé krásy, jež se skutečností dosud nestala. Však cesta k tobě strašně daleká je cizotou a zavátá? neb dlouho nikdo nešel směrem tím. Ó, ty jsi samoten. Jsi Samotou, ty Srdce putující k dálným údolím. Já ruce svoje, zkrvavené již tím vyhrabáváním, tečí otevřené zdvíhám výš do větru, by se rozvětvily jako strom. Tak jimi saji tebe v rozevření tom z prostoru, jak bys byl kdys roztříštil se tam v netrpělivém jakéms posunu své tváře a nyní, rozprášený svět, zpět padal k nám z hvězd dalekých zasána zem v jemné páře něžně, jak jarní déšt se snáší k úrodám. /Z \"Knihy hodinek\" přeložil Josef Tkadlec vydal F.Borový 1944/ 42 Rainer Maria Rilke',\n",
       " 'oooo o 0 0 0 o o o O O O 00000 o 1988 o uo° ..,00g.. 0 0 0 oOOgoOu r0 0., 0 u 0 0 0 0 0 0 0 0 0 °ď. u 0 0 J 0°\" OOvO 0 0 U (J. G 0 o 0 0 0 U0 0 0 0 0 0 0 0 0 0 °0 0° 000 0 OgUOOOO C v 0 Uo J GuGvUUG OGOGu . O °G G O o co OGOGO . O ^0 G O O O o 00 o OoO OOO u-. O u O O O J o o OOCvUÚu O G O O O O O ú o. 0 0000 00 Q0 0 0 0 0 A 0 o 0 0 0 o 0 ooooooooo o o 0 0 0 OGGOGGG G 0 0 y 0 / G G OgOC . G G 0 0 0 0 0 0 G OGOGGG</ 0 oooooooo o o o o o o o o o o o o o o 1988 - rok blahoslavené Anežky O O OOOOOÓO O O O 0 0 U <J O 0 0 O O O O O 0 0 O O O o O 0 0 u O O C C u O u O O O g 0 0 qU o O O 0 0 0 .0 0 0 O 0 0 0 0^ O . .0 o o, o .. U G . U . G . O K jC~ o u u g  Z velikonočního poselství kard. Tomáška 1 Editorial 2 Články Ch. Lubichová; Především jde o život 4 A.Gorres: Smysl a nesmyslnost nemoci: Job a Freud 8 Recenze Ontologická trojrozměrnost člověka a psychologie 14 Excerpta a repri nt y Erich Fromm, o biofilii a nekrofilii 17 H. U. Von Balthasar: Zdraví mezi vědou a moudrostí 17 J. Vanier: Věda nestačí 18 Medi tace J. Vanier: Kněz, levita a Samařan 20 Modli tba 22 Z veli konočního poselství k a r d . Tomáška Vědomí křesťanské odpovědnosti za celkový, zejména pak duchovní a mravní stav našeho národa a celé naší společnosti vzbudilo mezi našimi věřícími myšlenku DESETILETÍ DUCHOVNÍ OBNOVY. Tato duchovní iniciativa má přispět k uzdravování a prohlubování našeho života,k pokání, smíření? zhojení jizev naší minulosti, ale především k poctivému hledání pravdy? vnitřnímu obrácení a čerpání nové mravní síly. Toto desetiletí má být naší přípravou na vstup do třetího tisíciletí křesťanských dějin. Chceme se v něm učit novému zpsobu života, opřenému o trvalé hodnoty, na nichž by bylo možno budovat civilizaci lásky a úcty k životu, zejména respektu k hodnotě a právm lidské osoby - nikoliv civilizaci smrti, násilí, konzumu a bezohledné manipulace s přírodou i lidmi. Věříme, že obranu života před jeho současným ohrožením nelze uskutečnit bez hluboké proměny myslí a srdcí, bez trvalé péče o duchovní a mravní rovinu života. Je proto přirozené, že v tomto úsilí nelze pominout křesťanství, které po staletí zdrazňuje vertikální rozměr lidského života a celé skutečnosti a které je i obhájcem přirozených hodnot. Bez křesťanství nelze plně porozumět duchovnímu dědictví naší minulosti, které chceme vědomě rozvíjet. Hodnoty křesťanské víry však nelze zanedbávat ani při vytváření kultury budoucnosti, pokud má tato kultura vyjadřovat vskutku celostní chápání člověka a světa. Desetiletí duchovní obnovy je výzvou inspirovanou evangeliem. Tato výzva se však neobrací pouze na církevní společenství nebo jen na lidi věřící. Tato cesta je otevřená spolupráci a přínosu všech lidí, kteří si uvědomují, že naději v dobrou budoucnost národa nelze oddělit od toho, co tradice nazývala \"péče o duši”. My věřící jsme přece mnohými svazky přátelství, příbuzenství, sousedství a spolupráce spojeni s bližními, kteří nesdílejí plně naši křesťanskou víru. Právě z tohoto společenství života s nimi víme, nakolik hodnoty, o něž jde v tomto obnovném díle, vyjadřují hlubokou touhu i jejich srdcí. ’ Letošní vstupní rok Desetiletí má téma SLUŽBA ŽIVOTU. Chceme v něm hlouběji pochopit přikázání \"Nezabiješ\" a Kristovu výzvu \"Milujte se navzájem, jako jsem já miloval vás\". Chceme se zaměřit na rozvíjení Božího života v duších lidí i na službu životu lidskému od početí až do posledního dechu. Křesťanské integrální pojetí života vede k úctě a odpovědnosti vči všem formám života; víra dává inspiraci a mravní sílu k obraně vči všemu, co dnes život a jeho zdravý rozvoj ohrožuje. Se zvláštním drazem se chceme v tomto roce služby životu postavit po bok všech, kdo se věnují službě nemocným a trpícím - ať už jsou to lékaři a ostatní zdravotníci, profesionální či dobrovolní nositelé pečovatelské a sociální služby, anebo ti, kteří se obětavě věnují starým, nemocným či postiženým ve svých rodinách a ve svém okolí. Víme, že je mezi nimi mnoho věřících lidí, a uvědomujeme si, že i ti, kteří se ke Kristu nehlásí, přesto jsou mu právě prostřednictvím této služby nesmírně blízko (\"cokoli jste učinili jednomu z těchto mých nepatrných bratří, mně jste učinili\" Mt 25,40). Praha, velikonoce 1938 EDITORIAL 00000000000c ooooooooooooooooooooooooooooooooooooooooooooooooooooooocooooooooooo Anežka - křestní jméno, které u nás nepatří zrovna k oblíbeným. A jeho urozená nositelka také není z populárních protagonist našich dějin. Donedávna se o ní vědělo je1\\' málo. Snad jen pár pozorných návštěvník nejrušnějsího pražského náměstí si všimlo sličné tváře jedné z postav 1yslbekova sousoší. V Desetiletí duchovní obnovy jí byla přisouzena úloha reprezentantky služby ži votu. V době pětiletek, aranžovaných oslavných kemp ani a uměle nafukovaných jubilejí pocítí kdekdo apriorní nedvěru i k této římskokatolické dekádě a k nenápadné Anežce zvlášt. Budiž, nenutme-se do pocit úcty, pokud-v nás opravdově neuzrála, abychom nerozmnožovali pokrytectví, jehož je naše země už mnoho let víc než plna. Když už jsme ale byli upozorněni na určité téma (a tím je česká duchovní obnova, služba životu a. osobnost Anežky Přemyslovny), zkusme je ohledat po svém, abychom zjisti li , zda nám něco říká. , v níž Anežka žila, nebyla idylická. Byla to doba problematického vzestupu české moci a prestiže, zaplacené občanskou válkou a následované pokořením země5 nechyběl ani vpád cizák, dokonce také na čísi pozvání, jejichž vláda (tehdy jen pětiletá) prohloubila národní strádání i obecnou demoralizaci. Cosi nám to možná připomíná. Česká politika byla předtím ambiciózní a prestižní. Pozadí jejího provozu tvořily takové problémy jako česko-německý vztah, integrace evropského stře- dovýchodu atd. Toto všechno nám vlastně zdaleka nemusí být cizí. Snad lze říci, že dobový rámec Anežčir.a psobení tvořilo to, co bychom mohli nazvat specifickou aktualizací konstant českých dějin. Už proto by bylo přinejmenším zajímavé, ne-li podnětné, sledovat, jak na to všechno reagoval jedinec, který byl nepochybně vnímavý a jemuž šlo o víc než o adaptaci v zájmu vlastního přežití. Tím jedincem byla královská dcera Anežka. Její znamenitý kádrový pvod - tehdy to brali jinak, ale bylo to ještě dležitější než dnes - jí život neusnadnil. Naopak. V době svého mládí byla co chvíli hluboce pokořena. Podstrkovali jí toho a hned zas onoho ženicha, z každého ujednání vzápětí sešlo. Vlastně byla, objektem manipulace mocenské politiky, aniž měla možnost běh svého života ovlivnit a aniž by někoho zajímalo, jal: to ona prožívá. Jak podivuhodná spřízněnost s námi, příslušník;/’ jejího národa, na sklonku dvacátého století, sužovanými podobnou \"samozřejmostí”. Ano, vím, že je tu asi spousta nesrovnatelných okolností, ale stejně; odborná věda shledává, že dnešního člověka poškozuje neduživost meziosobních vztah (zejména v dětství) a pak to, co brání jeho spontaneitě a podrývá jeho sebevědomí 5 říká tomu \"narcistická traumata\", z nichž pak vyplývají \"narcistické poruchy\", a těch dres očividně přibývá. Kdybychom měli možnost pátrat v dálavách vrcholného středověku, snad bychom našli due v tomto ohledu spřízněné. Těžko říci, kolik by jich bylo, pátrání je nemožné. Zstala nám ale docela tenounká vzpomínka právě na tuto ženu. Jaké východisko ze své mizérie si našla ona, která nám, jal; se ukazuje, přece jen není zcela nepodobná? Našla je ve františkánské řeholi, jinak řečeno; v duchovní obnově (kdo trochu zná setbu svátého Františka, nebude proti tomuto \"krátkému spojení\" namítat) a- v službě ži votu. Ve službě právě tam, kde je život nejzranitelnější, kde je nejvíce ohrožen. 2 Navyklá neskut k piánováným. oslava-1 nám nijak nebrání toto přijmout. Služba životu, toí projev \"b_ofj.il/\\', která je-protikladem odpuaivé lhostejnosti, ba \"nekrcfilie\", nu niž upozornil např. Erich Fromm. V době vzrstajícího terorismu, potratovosŤi, dětské deprivaue, množících se ekologických katastrof, toxikomanické autoagresivity, imunitních selhání, stude//, války generací a pohlaví, redukcionis- tické v v y i au tede strake-? národního společenství, které se pro chiméru zachování \"životni úrovně” vzdalo duchovních hodící a tím i své identity, v takové době zbývá tomu, kdo její neblahé trendy odmítl, jediné: služba životu’, který je dnes totálně ohrožen Kde začít? Kdekoli, každý jak umí a jak je povolán, ohrožení je totální. V oblasti antropologických věd, k níž.se chceme znát, je řada příležitostí. Je dobré 0-4 světlovat pokušení redukcionismu a jeho dsledky, to návykové popírání vyšších forem života ve jménu nižších, které v posledku není než službou nicotě, což prakticky dokazuje totalitarismus, neustále se dovolávající redukcionistické vědy, \"vědeckého světového názoru”. - Je dobré osvětlc-vat meze vědy, onen práh, za nímž její kompetence končí a měla by panovat moudrost, která se nevyhýbá riziku víry. - Je dobré si připomínat, že sebeskvělejsí odbor.í erudovanost je k ničemu, není-li stvrzována vztahem k člověku in concrete, totiž u tomu, kterého právě potkáváme (\"Kdybych mluvil jazyky lidskými a andělskými, ale lásky kdybych neměl ...\"). Je-li mořské pobřeží otráveno obrovskou naftovou skvrnou, je leckdy tím rozhodujícím bojem zdánlivě bezvýzr-mné zápolení o záchranu posledního trsu trávy?- Tak nějak si počínala naše dávná předchdkyně, íc/tú byla čirou náhodou královskou dcerou. - Jan - Elementární\\', feky který si v každém okamžiku své existence uvědomujeme, jest: jsem život, který chce žít uprostřed života, jenž chce žít. Tajuplnost mé vle k životu je v tom, že pociíuji nutkání chovat se s účastí ke každé vli k životu, kteří existuje vedle mé. Podstatou dobra jest: udržet život, podporovat život, dovést život k jeho výšin l.u Podstatou zla jest: ničit život, škodit životu, bránit životu ve vývoji. Základním principem etiky je tedy úcta k životu. Vše dobré, co prokáži nějakému živému tvoru, je v nejzazší podstatě pomocí, kterou jsem mu poskytl k zachování jeho existence. . V podstatě přikazuje ústa k životu totéž, co etický princip lásky. Avšak úcta k životu v sobě zahrnuje i opodstatnění příkazu lásky a požaduje soucit se vším stvořením. (Albert Schweitzer) ČLÁNKY OOOOOOOOOOOOOOOOOOOCOOCOOOOOOOOOOOOOOOOOOOOCOOOOOOOOOOCOOOOOOOOOOCOCOOOGGcOOOO ’o Především jde o ži vot Chiara Lubichová \"Za život člověka budu volat k odpovědnosti kc.ždóho jeho bratru, ..., nebot člověka Bh učinil, aby byl obrazem Božím.\" (Gn 9,5-6). Pro lidi Starého zákona je život nesporně největším dobrem. Jako odměna z. plnění Božích přikázání je jim přislíben dlouhý život; \"Cti svého otce i matku . .., abys byl dlouho živ a dobře se ti vedlo na zemi, kterou ti dává Hospodin, tvj Bh.\" (Pt 5,16) /l/ Je všeobecným přesvědčením, že délku fyzického života až do \"krásného stáří\", kdy člověk mže nakonec zemřít \"přesycen délkou dní\", je nutno považovat za projev mimořádné Boží přízně. To proto, že Hospodinovo požehnání spočívá v daru života. Potvrzuje to kniha Moudrosti; \"Bh smrt neučinil, ani se netěší ze zahynutí živýchj stvořil totiž všechno, aby to bylo.\" (Mdr 1,13-14) Zde nacházíme podstatu zvěsti Starého zákona o lidském životě; člověk, každý člověk, byl stvořen k Božímu obrc.zu; nejenom duch (jal: bychom řekli dnes), ale také tělo nese v sobě odraz tohoto obrazu. Kdo tedy ubližuje lidskému tělu, poškozuje Boží obraz. Závažným dsledkem božského pvodu životu, té skutečnosti, že člověk byl Bohem stvořen k jeho obrazu, je to, že člověk nemže se svým životem nakládat podle svého. Člověk nemže sán sebou disponovat podle své libosti. Pánem života je Bh. Člověk ted\\'\\'1’ má svj život jakoby zapjčen. Starý zákon pak n tohoto předpokladu vyvozuje závěr v jednom přikázání desatera; \"Nezabiješ\\' \" (Dt 5,17) Také Nový zákon je jediným chvalozpěvem života. Ježíš je v Apokalypse nazýván \"Živý\"; Já jsem První i Poslední, ten Živý.\" (Zj 1,17-13) Takový přívlastek je dáván Bohu. \"Ty jsi Mesiáš, Syn Boha živého.\" (Zít 16,16) Celé Ježíšovo poslání spočívá v darování života - nadpřirozeného i přirozeného. On o sobě říká; \"Já jsem vzkříšení a život\" (Jan 14,6) a; \"Jí jsem cesta, pravda a život.\" (Jan 14,6) Ježíš pak naprosto jasně prokazuje svou lásku k životu, když křísí mrtvé a uzdravuje nemocné všeho druhu. Radostná zvěst nekončí smrtí na kříži, nýbrž zmrtvýchvstáním. První křestané, ještě plno proniknutí Ježíšovým učením, který krátce předtím chodil po zemi, uskutečňovali jeho přikázání daná pro život ve všech souvislostech a ve všech okamžicích lidského života. V Didaché, Učění dvanácti apoštol, dležité příručce křestanské výchovy prvního století, je možno číst; Ti, kdo kráčejí po cestě smrti, mezi mnoha jinými vinami také \"zabíjejí své děti a potratem nechávají zahynout Boží tvory\". /2/ Tertul- lianova myšlenka, vyslovená na přelomu 2. a 3. století, je jasná; \"Nám křestanm, kteří máme jednou provždy zakázáno zabít člověku, není ani dovoleno zahubit bytost počatou v lně ...\" /3/ Všichni církevní Otcové, řečtí i latinští, považují nenarozené dítě za posvátné, nebot; je chtěné Bohem. Kusí proto být chráněno. Pro křes- tana. 1 život narozený mimo rádné manželství pochází od Boha, a má právo, aby se svobod—ně rozvíjel \"Zdá se, že současná sociální situace\", prohlásil Jan Povel II., \"vyžaduje od každého člověka dobré vle obzvlášt rozhodný závazek chránit život, a to cd samého počátku v mateřském lně až k poslednímu tepu před nevyhnutelným odchodem. \" /4/ Nenarozené dítě, jak víme, je lidskou bytostí od svého početí. Nemže tedy být považováno za jakési prodloužení matic,’, je to jiný člověk. Dítě také není vlastnictvím matky, proto nad ním matka remá právo, jakmile počalo existovat, Z.Zá však 4 naopak: základní povinnost učinit vše) aby je přivedla na svět. A právě v tom spočívá velikost ženy a její rozvoj: být příčinou života, ne zahubit dítě ve vlastním lně. Mateřství však nepřináší do srdcí matek vždycky jen radost a naději. Leckdy mateřství něco stojí. Stojí bolesti a oběti. Je třeba o dítě pečovat, vychovávat je, podporovat jeho rst, sledovat je. Mateřství přijiáší úzkosti a starosti , probdělé noci a zklamané naděje, stojí peníze. Úkon početí se někdy neděje z lásky, je spojen s násilím muže vči ženě, aí už v manželství anebo mimo ně. Jindy zas nepříznivé hospodářské podmínky znesnadňují přijetí nové bytosti. Při nepevném tělesném zdraví těhotenství někdy pro ženu představuje vážnou zátěž. Zaměstnaná žena, která zároveň pečuje o domácnost, se mže cítit tak přetížena, že to oslabuje její touhu mít dětí. Často v prostředí konzumní společnosti usilující o blahobyt bývá porozumění okolí tak nedostatečné, že žena, ve své snaze oddat pokušení potratu prožívá úzkost a samotu. Leckdy je dítě plodem nezralých vztah mezi partnery nepřipravenými k jeho přijetí. Přes- \\' to Bh opakuje: \"Nezabiješ, nezabiješ!” Bh však není tyran. IQade-li nároky.,. pak také ukázal zpsob a dal prostředky, jež umožňují snáze uskutečňovat jeho přikázání i za pbtj.žných podmínek. Jaký zpsob? Jaké prostředky?  Staví na lásce, která žije v lidském srdci, a bežsky ji umocňuje. Narouboval na ni lásku, která přichází od Nejvyššího. Ve světě se dnes setkáváme s kulturou smrti. Mohutný proud křešíanské lásky rozlité do naší společnosti by byl nejlepší prevencí tohote moderního zla a mohl by být zdrojem síly k jeho odstranění anebo alespoň emezení, nakolik je to jen možné. Láska je jádrem evangelia, je zvláštním povfláním následovník Kristových. Je tedy třeba roznítit v srdcích božskou lásku; ona je totiž tím ohněm, který Ježíš přinesl na zemi, a chce, aby se rozhořel. Jestliže se taková láska probudí v.srdcích křesíap, nebude btížné žádat ta-’ ké po mužích, aby i oni náležitě sdíleli obtíže mateřství. Děti přece nenáleží jen matce, nýbrž oběma rodičm. Dnes je tendence považovat mateřství za záležitost týkající se toliko ženy. Ale talc tomu není. Právě láska dovede tím nejlepším zpsobem vzbudit v srdcích muž vědomí odpovědnosti za život, jemuž i oni dali vznik. Ztrácí—li se ze zřetele tato společná odpovědnost, ničí se tím přímo smysl rodiny. Láska k bratřím a láska k Bthu, se navzájem pn-silujít čím hlouběji rostlina zapouští své kořeny do země, tím výše se zvedá vzhru; tak také křasían^.pím více rozmnožuje svou lásku k bližnímu, tím více posiluje svou jednotu s. Bfhem. Nestačí však mít lásku k dítěti ještě nenarozenému. Lidská bytost potřebuje lásku ve všech obdobích své existence a v každé situaci. Také každé dítě,, které se již narodilo, potřebuje lásku. V prostředí lásky, dítě získává, třebaže je zatím středem pozornosti, takový vnitřní postoj, který v něm rozvíjí touhu po sdílení - základ správného zpsobu, jak se setkávat s bližními. Když pak dítě vyroste, je tu dospívající člověk. I on potřebuje lásku. Jak víme, rychlé zrání sexuální složky, jež je charakteristické pro děti v tomto věku, staví je před nové skutečnosti : uvědomují si svou vlastní tělesnost, probouzejí se v nich city dosud nezažité, cítí nový zájem o druhé pohlaví ... Je to nesnadné období, v němž se dospívající mže ocitnout v nebezpečných situacích, zvláště když okolní prostředí dnes nabízí lacinou volnost a pomýlenou představu o sexualitě jen jako o zdroji potěšení. Tento úsek života mže být dospívajícím člověkem považován za počátek určité osobní nezávislosti. Zároveň však je to i doba, kdy jeho touha po lásce, třebaže skrývaná, je velice silná. Je tu třeba lásky rodič i těch, kdo se o dítě starají, aby pochopili, jak namáhavým obdobím dítě prochází, aby se vší delikátností usilovali o dialog, přestože se možná stal obtížným, aby postihli to dobré, co je i v této etapě rstu. Jestliže tu rodiče mnohdy zakoušejí chvíle obrovských starostí a utrpení, v nichž snad až jakoby pokračovaly porodní bolesti, bude jejich láska, poznamenaná bolestmi, psobit v dětech, připomínat jim velikost darování sama sebe druhým, hodnotu 5 oběti a povede je k respektu vči kamarádm ve škole i v práci. I snoubenci potřebují lásku. Jako manželé se stanou spolupracovník?/- Stvořitele při povolávání nového života na zemi. A tak se už snoubenci musí naučit pečovat o rozvoj tohoto život\\'\\'; musí se učit lásce. Ne vždycky se však v životě všechno odvíjí tak, jak by mělo. Člověk je svobodný a někdy této své svobody těžce zneužívá, i ke škodě druhých. A tu se ocitáme v bolestných situacích; dítě nechtěné či nemanželské, nebo dokonce jako plod násilí, dítě opuštěné. Je to jedno z největších tajemství života - utrpení, nevinného. Jaká je tady odpovědnost lásky? Ježíš, který umírá a vstává z mrtvých pro každého člověka, nám mže dát \"nové oči\", abychom poznali, že i v těchto případech má každý život nesmírnou hodnotu. V. některé rodině nebo společenství, kde kvete křesťanská láska, rnže najít útočiště i osamělá těhotná maminka, která se ocitla ve velkých nesnázích, protože ji její vlastní rodina odmítla. Nezřídka je to právě pohotová otevřenost jiné rodiny nebo společenství, jež mnoha maminkám umožní souhlasit se životem, i když jsou svírané úzkostí a jsou bez perspektivy. Typickou formou, jíž rodinř prokáže svj nenahraditelný přínos, je adopce anebo převzetí opuštěných dětí do“pěstounské péče. Opuštěné děti, i když jsou docela maličké, mají za sebou skoro vždycky zážitky protkané utrpením a traumaty. Jejich osobnost bývá výrazně poznamenánu citovým strádáním. Láska je v těchto případech prvním a jediným lékem. Vytváří podmiňte/ k plnému zotavení dítěte, k jeho začlenění, k překonání obtíží, Joy i ono bylo s to dosáh- nouťoprevdu plné lidské dstojnosti Božího dítěte. V prběhu života se mohou vyskytnout dal\"í rozličné obtížné situe.ee. Ve všech těchto chvílíqh musí být vždy respektován život. Jestliže za základ zákon a soci álních iniciativ vezmeme mentalitu neúcty k trpícímu, postiženému a starému člověku. vytváříme pozvolna falešnou společnost, protože klademe draz jen na některé hodnoty, joko je tělesné zdraví, síle., vystupňovaná výkonnost či moc. Deformujeme tak čýl, ‘který je vlastní státu a který spočívá v dobru člověka a společnosti. Zdraví, jak víme, je vzácný dar,_který musíme chránit. Dojde-li však k narušení tělesné dokonalosti, musíme mít na paměti, že existuje život, který není podmíněn naším zdravotním stavem, ale\\' nadpřirozenou láskou, která plane v našem srdci.. A právě- tento vyšší život dívá.smysl tělesnému životu i ve stavu nemoci. Díváme-li se na nemocni, jen lidskýma očima, pel; nemžeme než potvrdit, že jsou neštěstím. Pohlédneme-1<£ však na ně jako křesťané, vidíme, že to^sou zkoušky, v nichž se máme cvičit pro velň*l<hu zkouším, která nás všechrv čeká ve chvíli, kdy budeme přecházet do druhého života. Z hlediska asketického a mystického hovoří církev c nenocech nejen jako o předmětu, který náleží ďo oblasti medicíny, ale jako o očišťování, které sesílá Bh, jako o stupíncích k jednotě s Bohem. Ve víru práce a všedního života jsme někdy v pokušení vidět v trpících lidech jedině okrajové případv, kterým je třeba, pomoci, aby svou nemoc urychleně překona- li^mohli se vrátit ke své činnosti, Nemyslíme na to, z-? právě tito trpící lidé mohou více vykorat, mohou účinněji psobit. Nemocní jsou však schopni dobře prožít svou nemoc ve prospěch lidstva jen tehdy, jsou-li chápáni a milováni. Skrze lásku je jim možno pomoci a dít jejich stavu smysl, aby si byli vědomi toho, co představují. Totéž, co platí o nemocných, platí i o lidech postižených r invalidních. I člověk postižený a invalidní potřebuje lásku. Potřebuje být uznáván pro hodnotu, kterou jeho život má; je posvátný jako každý jiný život, se vší dstojností, která z toho vyplývá. Touží být považován zr člověka, kt.rý má žít co nejvíce v normálním soužití s ostatními lidmi. A co říci o starých lidech? .íaždý život si ž-ě.dá lásku. Také staří lidé potřebují lásku. Dnes představují staří lidé skutečný problém, protože v této věkové skupin\", v dsledku prodloužení života, dochází k silnému nárstu^ Ve společnosti zaznamenáváme tendenci vyřadit staré občany na okraj a protože už nejsou produktivní, považovat je za sociální přítěž. Mluví se o starých lidech jako o zvláštní kategorii, jako by se už ani nejednalo o lidi. U starých lidí samotných pal: se k úbytku jejich tělesných sil druží vážný psychologický problém - cítí se odepsáni. Stáří je však jen třetím obdobím lidského života. Život, který se rodí, život, který roste, a život, který se chýlí k západu - to jsou tři aspekty tajemství bytí, které dospívá až k Bohu Lásce. V některých asijských a afrických zemích si starých lidí váží, neboť je pro jejich moudrost považují za učitele života. Stařec je totiž člověkem, který ukazuje to, co je podstatné, co je nejdležitější. Vzpomeňme, co se říká o sv. Janu Evangelistovi. Jako osmdesátiletý navštěvoval křesťanská společenství u, když se ho ptali, co bylo Ježíšovým poselstvím, tu vždycky odpovídal; \"Milujte se navzájem\", jako by ani neměl co jiného více říci. Touto větou však skutečně vystihl myšlenky Kristovy. Zbavovat se starých lidí je zbavovat se pokladu. Je třeba jim dát jejich hodnotu a milovat je. Vážit si jich i tehdy, když jsou nemocní, i tehdy, když onemocní těžce, takže už není lidské naděje, a kdy požadavek pomoci je nej naléhavější <. Před Bohem není život, ríení část života, která by nestála za to, abychom ji prožili. Protože náš život je přípravou na život příští, který bude bez konce, nevíme, jaké má Bh záměry s těmito svými bytostmi třeba i v posledních okamžicích jejich života.. Euthanasie je pro nás tedy naprostou absurditou. Milovat tedy, milovat, milovat, milovat. Vždyť život, každý život, každé období života touží po lásce. Proti kultuře smrti musíme postavit kulturu života. Ano, svět, který dnes často skomírá strachem ze života, který se nasazuje, aby život potlačil, potřebuje lásku, naléhavě a nezbytně potřebuje invazi lásky: mezi všemi křesťany, inez::. těmi, kdo věří, mezi lidmi dobré vle, všude - v úřadech, v nemocnicích, ve školách, v továrnách, mezi maličkými, mezi mladými i dospělými. Když Bh přišel na zem, přinesl lásku. On, Stvořitel života a dárce života nového, ještě dležitějšího, věděl, co je nutné, aby byl život uchován - je zapotřebí lásky? A na konci života nás bude soudit výlučně podle lásky. Láska je tedy to nejdležitější. (Projev na setkání \"Za život\", Florencie, 17.5.1986. Chiara Lubichová je zakladatelka a prezidentka duchovního hnutí Focolare, rozšířeného v mnoha zemích světa. - Zkrácený text.) Poznámky: /!/ Srov. K.H. Sijhelkle, Teologie Nového zákona. I. Stvoření: vesmír-čas-člověk, Bologna 1969. /2/ Didaché V, 2. /3/ Tertullian: Apologeticum 9, 8. /4/ Jan Pavel II. K duchovenstvu a pracovníkm v duchovní správě, 12. května 1985. 7 Smysl a nesmyslnost nemoci ; Job a Freud Albert Görres Zestárlý Freud, který se v životě tolik nepřemýšlel o smyslu nemoci, nám právem připomíná Joba, Neusedl sice nikdy do popeliště, aby si tam škrábal vředy, a jeho žena nu nikdy neřekla to, co pravila nemocnému Jobovi jeho manželka; \"Stále ještě lpíš na své bezúhonnosti? Zlořeč Bohu o. zemři1\" Přesto trpělivost tohoto starce v sobě skrývá nezvyklou zkušenost utrpení. Po dvacet let snášel Freud tělesnou bolest, jakou j.e stižen málokdo. Patro i horní čelist mu zničil zhoubný nádor; bylo třeba třiadvaceti operací-; strop ústní dutiny mu tvořila protéza, která pro nové jizvy velice bolela a do krajnosti omezovala schopnost mluvit. Freud byl velkým trpitelem. Upíral objektivní smysl životu, tedy i své nemoci. Jediným jeho komentá-’ řem byl občasný povzdech; \"Hóchst berflssig - nanejvýš zbytečné ...\" Zkušenost smrti, prostupující nezadržitelně jeho tělo, ho však zřejme utvrdila v jeho pojetí Thanatu jakožto niterného momentu života. Výrok \"nanejvýš zbytečné\" ale u Freuda neplatil pro poruchy typu neuróz. Ty podle něho \"smysl\" mají, nejsou zbytečné. Otázku smyslu či nesmyslnosti psychické poruchy Freud nastolil a zodpověděl ve čtverém ohledu; jako otázku naturfilozofickou, biologickou, psychologickou a metafyzicko- exist encíál ní. Formuloval ji pro naši dobu natolik pregnantně, že nepochybíme, vyjdeme-li právě od mho. Výraz \"smysl\" má u něho trojí význam; symptomy především mají smysl, vyplývají- -li srozumitelně z událostí dosavadního života; \"smysluplný\" je totéž co \"psychogenní\". Symptomy mají dále smysl, lze-li dešifrovat jejich význam. A konečně mají smysl, vyplývají-li z vědomého či nevědomého záměru, tj. vznika- jí-li a udržují-li se kvli nějaké hodnotě. JTei oc je smysluplná, je-íi v kontextu jedinečného života, nebo rozvrhu světa 1: něčemu dobrá. Nadále pojednám především o tomto finálním sryšlu. Jaký jo tedy finální psychologický smysl a účel nemoci? Psychoanalýza nahlíží psychiku v dvojí souvislosti. Vědomé i nevědomé dění slouží především zachování jedince a druhu; \"psychické ústrojí\" je vlastně regulátorem látkové výměny. Druhý smysl psychily pivně z Freudovy teze; \"Hlavním účelem psychického ústrojí je dosahování slast?.\" Člověk chce tedy nejen žít, ale i něco z toho mít; radost, veselí, napětí, sympatie, uznání, lásku, štěstí, zkrátka to, čeho si srdce žádá. To kvli okamžiku, na nějž volá \"prodli jen\", zakouší člověk své bytí jako smysluplné. Štastný se neptá po smyslu štěstí. A štěstí, tot prvořadý účel psychického ústrojí. Nemoc má potud smysl, pokud je nějak pozitivně začleněna do této dvojí souvislosti, pokud tedy zlepšuje něčí schopnost žít a bilanci slasti a strasti, nebo pokud aspoň jakožto menší zlo brání zlu většímu. Pokud se tedy osvědčí v nepříznivých podmínkách jako lest duše v zájmu záchovy života a jeho slastného optimismu. Toto.je vskutku pointou Freudovy teorie neuróz a psychogenních psychóz. Neurotické symptomy jsou dílem nevědomých záměr. Slouží jim jako prostředky i nástroje zlepšení vlastní situace, rozmnožení štěstí a zmírnění neštěstí. U inhibičních symptom hysterických je to vlastně očividné. kurotická bolest je dílem preference; raději dstojnost mučedníka než se vystavovat hrozbě zapovězených nebo dokonce perverzních fantazií. Podobně i neurotická deprese se svý;\" propastným strádáním říká; lépe obrátit agresi, pr. ti sobě sa ému,než být potenciálním trapičem, sadistou nebo vrahem druhých; raději se sám potrestat než riskovat pomstu nebes. Tyto zjednodušené formulky svědčí o další výhodě, kterou nabízí nemoc; skutečně či domněle nedovoleným tíhnutím je dopřáno uspokojení, které je zakukleno talc obratně, že svědomí i sebeúcta. zstávají nedotčeny. Freud zjistil, že neurotik ’-lade úzdravě nevědomý odpor, jako kdyby chtěl svou poruchu zachovat za každou cenu. Zřejmě z ní má nějaký prospěch. Freud mluví o vnitřním a vnějším zisku z nemoci, o útěku do nemoci, o náhradním uspokojení neurózou. Vnější zisk je snadno srozumitelný, viz např. rentovou či válečnou neurózu, školní fóbie apod. 8 Dležitější je vnitřní zisk z nemoci, Freud nalézá v neurotickém symptomu šifrovaně symbolizovaný výraz fantuzijních přání a jejich splnění. Smyslem symptomu je vytlouci z nepřízně života existenční optimum slasti a štěstí. Neurotická bída je nebo se zdá být stále ještě přijatelnější a uspokojivější než normální mizérie, kterou by musel nemocný snášet, nebýt neurózy. (Freud připustil, že za zvláště nepříznivých okolností mže být neuróza optimálním řešením.) Školním příkladem budiž hysterie, kdy splnění sexuálního přání je nemožné, protože je příliš spojeno z úzkostí, hnusem, studem, pocity viny, ale zřeknout se ho také nelze, protože pro hysterika je zřeknutí, zejména erotické, spojeno s anihilační úzkostí. Vyvolává-li splnění panickou hrzu stejně jako nesplnění, pak je neuróza nanejvýš smysluplným kompromisem, který chrání život před přemírou zoufání a úzkosti. Psychosomatická njpdicína rozšířila otázku po smyslu symptomu jakožto hledání štěstí a slasti a snížení strasti z neuróz na nemoci vbec. Nemoc je interpretována jako lest psychiky, která dosahuje nevědomých cíl, která ztělesňuje to, co není prožíváno, a která řeší nepoznané konflikty. Člověk ’’nemá\" svou nemoc, on si ji \"dělá\" a má pro to své dvody. Někdy přichází tělesná nemoc jako na zavolanou. Ve- gel a Weizsácker popsali pacientku s vysoce ambivalentním erotickým vztahem; když dostala horečnatou tonsilitidu, vydechla ulehčené: \"Raději anginu než dítě.\" Jiní zjišťovali statisticky významnou korelaci výskytu tuberkulózního infiltrátu nedlouho před chystanou svatbou a nerozhodnosti snoubenc; podobně tomu prý bylo u některých novic před řeholními sliby (správnost výpočt jsem si nemohl ověřit). Četné psychosomatické nemoci jsou vykládány jako odmítnutí požadavk, které klade život; některé nazval Herbert Marcuse \"velkým odmítnutím\", tj. protestem proti světu, proti výzvě ze strany společnosti, rodiny, povolání. Je to jakási generální stávka proti životu, jeho podmínkám, determinantám a křivdám. -Freud byl vči psychosomatice rezervovaný. Jistě by se zdráhal pokládat svj karcinom za výslednici nevědomých tendencí. Slovy \"nanejvýš zbytečné\" označil svou nemoc za cosi po výtce nesmyslného. Tím, jak ji trpělivě snášel, ale upozornil na významnou souvislost: mnozí nemocní zvládají dlouholeté utrpení, i když nevytěžili žádný jeho smysl. Trpí protestujíce proti nesmyslnosti, trápení, aniž zoufají. Vědomí dstojného vzdoru asi skýtá jakousi hořkou satisfakci a potvrzení sebc sama. I stoická hrdost je nástrojem štěstí. Jinak je tomu u jiného typu stoicismu, který není hrdým sebetvrzením oproti bezedné nesmyslnosti, nýbrž jakousi filozofickou zbožností. Stoik typu llarca Aurelia nebo anglického básníka Charlese Morgana nahlíží přírodu, svět, dějiny jako božský řád, v němž není smysluprázdného místa. Jeho odpovědí je přitakání veškeré skutečnosti, \"acceptance\" (Ch. Morgan) či \"amor fati\" (M. Aurelius). Fátum však nebylo Římanovi slepou -náhodou. FÁTUM pochází od FARI, což je to, co je řečeno, předloženo, co je po mně žádáno a čemu mohu přitakat, i když smysl toho zrovna neprohlédám. Starý stoik spatřoval v utrpení a nemoci psobení nutných sil, které přivádějí člověka k jeho určení: k božské svobodě, nezávislosti, dstojné převaze nad světem. I dnes jsou nemocní, kteří přijímají skutečnost vcelku jako jakousi smysluplnou skladbu, aniž by slyšeli o \"amor fati\". Ti prostší z nich často vyjadřují své porozumění smyslu nemoci větou stejně prostoduchou jako moudrou: však ono tó bude k něčemu dobré. Na sublimnější úrovni dosvědčuje tento postoj Rilke, když píše hraběnce Sizzové: \"Kdo aspoň, někdy nepřitaká, ba nevyjde vstříc úděsným stránkám života nějakým definitivním rozhodnutím, ten se nikdy nebude podílet na nevýslovném splno- mocnění, které nám skýtá naše bytí; bude je míjet. A když se nějak přeci rozhodne, nebude to ani. k životu, ani k smrti.\" Mže však člověk přitakat úděsnostem života, netuší-li přitom jejich oprávněnost, jejich nezbytnost, jejich smysl? Negativní postoj, který shledává nemoc nanejvýš zbytečnou, je nejpvodnější a je nejvíce na dosah. Nemoc se nehodí do přirozeného životního programu člověka. Medicína ji pohlídá za nepřítele, kterého je třeba energicky potírat, a právem. Některé nemoci mají nám se příčící smysl, ne však pro pacienta, ale pro svého pvodce. Pro virus vztekliny je docela smysluplné, když se nemocný jedinec vrhá zuřivě na ji né tvory, protože tím rozšiřuje jeho životní prostor. Onemocnění je pro virus podmínkou života a má pro něj týž smysl jako smrt jehněte pro vlka apod. I Freudova 9 choroba byla výrazem bezohledné životnosti rakovinných buněk, které pokládaly svého hostitele za zbytečného stejně jako on je. Nemoc je především právě tak smysluplná či nesmyslná jako sama příroda, v níž panuje boj o život, o bezohledné sebe- prosazení,a s nám souvisí narušování i rozrušování všeho, co se staví proti. Nemoc je nutným dsledkem úděsnosti přírody, v níž platí nejen rajský biologický princip řádu a harmonie, vzájemnosti atd. , ale i princip neřádu, boje a destfukce; nejen pud života, ale i pud smrti. V nemoci lze tedy vidět výraz vířivé absurdity bytí. Spolu s C.G. Jungem v ní mžeme zahlédnout tvář božství v sobě .samém roztrženého, rozpolceného, které obsahuje všechny ontologické kvality, a proto musí být zároveň nekonečně dobré i nekonečně zlé. Kdo umí věřit v toto úděsné božské monstrum, nechť si je uctívá jako Babyloňané svého Baala. Nemoc by tu pak byla proto, že i samo božství by °bá*bužel bylo ubohé. První pacientova reakce typu \"nanejvýš zbytečné\" bývá a zstává často jedinou. Kdo se na \\'smysl života neptá, mže být k tomuto tázáni přiveden nemocí, ale nemusí. Kčfekdo se spokojí s tím, že ji pokládá z? epizodu, za poruchu, kterou jé třeba co nejrychleji napravit. Zasažení .jádra naší bytosti lze vytěsnit.. Člověk mže přestát nejen chřipku, ale i těžkou nemoc jako metafyzický playboy. Nemoc nás naléhavě nabádá k překonání odcizenosti sobě, našemu bytostnému určení, ale není nám žádným brainwashingem. Existuje zajisté jakési rozumění smyslu, jakési přeladění, které nemocný nedokáže vyjádřit slovy ani sobě, ani lékaři, duchovnímu či výzkumnému pracovníku. Ludwig Wittgenstein nám to příliš usnad.nuje a zároveň příliš ztěžuje, když radí, abychom smysl života zakoušeli, ale neprali se a nepřemýšleli o něm. Snad má pravdu v tom, že reflektující \"přemýšlení\" a jeho vyjádření není pro každého, a proto ani není každému člověku úkolem v běžném smyslu. Ale i pro racionální přemýšlení (byt nejen pro ně) je nemoc argumentem. Je na čase pojednat o křesťanském chápání smyslu nemoci. Není to záležitost odborných teolog, nýbrž cosi, co se týká především nemocného, pak lékaře a posléze nás všech. Už proto by mělo jít o cosi prostého a pochopitelného. Přitom se a- le v křesťanství hovoři o smyslu nemoci poměrně málo, i když ono samo se pojímá jako obdobu lékařství. Jahve je v Bibli nazýván léčitelem svého lidu a Ježíš Kristus se představuje jako lékař a uzdravuje nemocné. Patrističtí Otcové mluví o \"gratia sanans\" a \"gratia medicinalis\". Tělo Páně nazývají \"farmakon athanasias\", lékem nesmrtelnosti. Augustinus nazývá lidský život \"ha.ee longa aegritudo\", dlouhou nemocí. Co bychom mohli nazvat teorií smyslu nemoci, k níž novodobá teologie ostatně nepřispěla ničím podstatně novým, lze snad shrnout tUcto s Dějiny světa jsou nejen dějinami přírody, ale též dějinami lidí, osob, tedy i dějinami svobody. Podle tradovaných výklad biblických text se v nich udály dvě katastrofy, jimiž byl pvodní řád kosmické harmonie rozbit. První ještě dříve, než byl svět, čili rozhodně dříve, než byl člověk - \"pád anděl\"; a druhá pradčjinná - \"pád člověka\". Podle -svědectví Písma obě proměnily ty, kdo se postavili proti Stvořiteli (anděly v démony, pvodního integrovaného člověka v člověka padlého); proměnily jejich přirozenost, ale i celou přírodu. Zda jsou nemoc, bolest a jiná zla následkem prvé neboa5ruhé katastrofv, to nevíme. Paleontologie’ nás poučuje, že v ži vočišné říši byla nemoc a smrt součástí přírody ještě před příchodem člověka. Přesta- neme-li však s antropomorfiz ováním, je nám smrt, nemoc a bolest zvířete čímsi neprhledným, takže se musíme ptát, jde-li c \"zlo\" ve vlastním slova smyslu. Pozorováním výrazu a analogickým úsudkem docházíme k tomu, že zvíře bolest vnímá; zdali ji cítí \"tak jako ty nebo já\", nevíme. Zvířecí vědomí je jiné; vždyť i lidská zkušenost zná bolest prostou trápení. Ve smrti, nemoci a utrpení člověka vidí Zjevení následek viny a trest za ni, ne však jako přesné zúčtování s jednotlivcem .za jeho osobní hříchy. Říká o nich, že \"přišly na svčt skrze hřícfy\", jako projev Boží mstivosti, ale jako dsledek oné 10 nekonečné pevnosti, s níž svátý Bh zavrhuje zlobu a neposlušnost. Radostná zvěst není talc radostná, jak bychom si přáli. Fantazie věřícího\\' nemocného si nejednou pohrává s představou velkorysejšího, dokonalejšího vykoupení} okamžitého odpuštění viny a prominutí trestu i proměny skrze milost, kdy bychom byli ušetřeni bídy tohoto světa, krve a slz. Bh, který trvá na krvavém usmíření po Golgotě stejně jako před ní, nám připadá malicherný a skoupý. Uchopí nás, sužuje a posléze praví: zaplač, cos dluženi - Když už nemusíme sníst všechno, co jsme si nadrobili, přesto nám zbývá řádná hořká porce. Mnoho trpících si myslí a ještě víc jich cítí: kdybych byl Pánembohem, určitě bych lidi talc strašlivě nesoužil, jak se to přes dokonalou smírnou Kristovu oběí děje dnes a denně. Přitom zpravidla pocitujeme, jako kdyby u- ložené pokání nemělo vztah k míře našich vin, takže si připadáme nikoli jako omilostnění, ale naopak jako příliš tvrdě odsouzení. V této souvislosti totiž utrpení světa obsahuje informaci, že jeho Pán smýšlí jinak než myj tedy informaci o nás a o našem falešném vědomí. Ta není zrovna potěšující. ’ Tento snysl nemoci, její nezbytí i správnost smíření, to je cosi, co přesahuje náš horizont a není už přístupno našemu náhledu. Otevřít se mu to mže jen tehdy, obrátíme-li se k Tomu, kdo jediný prehlédá lidské nitro, abychom pomocí víry převzali trochu z jeho vědění, či abychom se - osvíceni jeho Duchem - i svým cítěním a prožíváním podíleli na jeho náhledu. To druhé, tedy přesáhnutí z pouhé intelektuální sféry ke skutečnému přijetí v hloubi duše, to je možné jedině skrze vlastní zkušenost s utrpením. Pro křesíana příroda není pouhou smysluprostou fakticitou ani materializací neurčitého božství, nýbrž - stvořením. Tento pojem tu nemá polemický význam (např. jako opak evoluce). Chci tím říci pouze to, že každé konečné jsoucno má svj poslední dvod v nekonečném Bytí. Proto se od nás žádá, abychom s veškerým úsilím mysli a navzdory všemu očividnému neladu porozuměli utrpení a vbec všemu zlu, s nímž se ve světě setkáváme, včetně takových mrzutostí jako štěnice, senná rýma nebo přecpané tramvaje, jako koneckonc smysluplný- ustanovením nebo dopuštěním ryzí Dobrotivosti a dokonalé Moci - pokud se ovšem nechceme mermomocí přidržovat onoho právem zemřelého \"pámbíčka”, který pokaždé spráskne bezradně ruce nad nadělením,\\'* jež sám zpsobil, a který musí bezmocně přihlížet, jak příboj nesmyslná co chvíli zaplavuje jeho dílo. Odvahu dvěřovat, o niž nás Bh v této věci žádá, pokládá on sám za velmi dležitou pro naplnění našeho určení za natolik dležitou,že\\'nám to ve sféře poznání příliš neusnadňuje. Zjevení nás poučuje o mnohém, ale na otázku po Smyslu zla a nemoci nám neodpovídá žádným osvětlením, které by uspokojilo naši zvídavost. Říká jen, že toto vše není nesmyslné, ale smysl neodhalujej ’tato úvaha si tedy vlastně vytkla nesplnitelný úkol. V procesu, který smí proti Bohu vést, vmetá Job do Boží tváře svá obvinění. Jahve se nemíní obhajovat, svými argumenty však osvětluje nikoli zlo, nýbrž sám sebe: Má moudrost a moc se tvému, duchu a rozumu ukázala natolik zřetelně,-že od tebe dvodně očekávám zálohu dvěry i tam, kde ti jednotlivosti smyslu mých úradk zatím zstávají skryty. Fásleduj mě nejen ve světle mé přítomnosti,ale i v temnotách mé skrytosti, která však není nepřítomností! Je užitečné srovnat křestanské učení o smyslu »emoci s Freudovým, nebot sama psychoanalýza podává výstižný.výklad některých základních “novozákonnícli pojm: empiricky rozvíjí větu apoštola Jana: \"Vše, co je ve světě, (je) žádost těla, žádost očí a pýcha života..\" Psychoanalýza je jeden velký komentář jedr.oho z podstatných význam biblického pojmu tělesnosti, SARX (maso), Praví-li “ Freud, že hlavním účelem psychického ústrojí je dosahování slasti, ozvali by se proti tomu bibličtí autoři pouze tam, kde on sám svj výrok rozšiřuje a koriguje. TentoFreudv přírodní zákon se v hrubých rysech nápadně podobá \"zákony těla\", jalo jej formuloval apoštol Pavel. Popisuje, kterak člověk fakticky existuje ze sebe a skrze sebe vztažen opět jer k sobě samému. Je to cosi jako zákon volného pádu newtonovské fyziky lidského srdce. - Evangelium zná ještě jiný základní pojem: změna smýšlení, obrácení, proměna, METANOIA. Obrácení, které evangelium žádá a umožňuje, spočíváš tom, že hlavním účelem psychického ústrojí už není dosahování slasti, nýbrž - věc Boží: Boží čest, 11 Boží vle, služba Bohu, láska k němu a k bližnímu či jak tento nový ústřední motiv popsat. Do hry ale vstupují i prosté lidské věci. Člověk sebou nedisponuje natolik, aby se nějakým vlastním aktem stal tím, čí; by rád byl. Nemže o sobě říci, že od této chvíle prostě bude obrácený (i když má o to stále usilovat). Nemže .změnit fungování psychického ústrojí jakoby stislce a páky. A přesto se musí jednou stát obráceným, když ne totálně, tedy radikálně. Dosahování slasti či štěstí smí a má i nadále zstat účelem psychického ústrojí, ale nikoli už tím hlavním. Tato proměna psychického ústrojí, toto vymanění se z vlády principu slasti je takřka operací, která obrací srdce v těle. Je to rozryvné vykročení \"jenseits des Lustjprinzips\", mimo princip slasti. Odehrává se pomocí toho, co je jeho obsahem? pomocí bolesti, selhání, ztroskotání, zřeknutí se, trpění zlem a bezprávím, a posléze přijetí smrti i jejího běžného zakoušení v malých dávkách, které Nový zákon nazývá odumíráním. Freud razil pro podobné procesy pojem \"práce truchlení\" (Trauerarbeit). Obracení, tot práce truchlení. Zdravý člověk má chuť žít. Přijímá tedy život a opírá se o jeho podmínky, Má rád dobrý spánek, pocit zdraví, nějaké peníze, ubrání, lásku a podminuje tím ono přijetí života i vděk. Obrácení je vsak nepodmíněný;\\' přijetím existence, která je k dispozici, tj. k službám. Je nepodmiňovaným srozuměním s Pánem všech věcí. K takovému přitakání však člověk dospívá, až když je oněch podprných podmíněností zbaven. Teprve ve své chudobě, nemoci, opuštěnosti a zbytečnosti se stává Job svědkem Jahvovým, který slouží svému Pánu \"bezdvodně\", \"darmo\", tedy nepodmíněně. Nemoc je jedním ze zpsob onoho tlaku, bez něhož by člověk nebyl radikální proměny schopen. Ona ho tříbí jako oheň zlato ještě dřív, než on smí Bohu pohledět tváří v tvář. Kniha Jobova začíná velice psychoanalyticky? rozborem motivace spravedlivého. To satan analyzuje člověka. Zatímco Jahve vydává o Jobovi svědectví (\"byl to muž bezúhonný a přímý, bál se Boha a vystříhal se zlého\"), satan pochybuje o ryzosti Jobových pohnutek a podezírá ho, že má ze služby Bohu přílišný prospěch, že jeho zbožnost je výnosná. Kdyby prý byla jeho ctnost méně odměřována, byl., by ta tam. \"Satan však Hospodinu odpověděl? Cožpak se Job bojí Boha bezdvodně? Vždyť jsi ho ze všech stran ohradil, rovněž jeho dm a všechno, co má. Dílu jeho rukou žehnáš a jeho stáda se na zemi rozmohla. Ale jen vztáhni ruku a zasáhni všechno, co má, hned ti bude do očí zlořečit.\" Jahve otázku připustí. Očekává, že mu Job slouží bezdvodně, pro nic a za nic, jen kvli němu, Bohu. Zkouška, která to má prokázat, není žádným archaickým testováním. Diagnostik par excellence, který prohlédá každé lidské srdce, to nepotřebuje. Zkouška spíše už předem vyjeví to, co má prokazovat. Nemoc zjevuje pravdu. Patří k těm znamením skutečnosti, která nás vyzývají ke korekci našich spontánních a naivních hypotéz, jimiž se pokoušíme rozumět sobě a světu. Naléhavě protiřečí oné takřka vrozené lidské egocentrické teorii života, která hlásá? Bh a svět jsou tu proto, aby se mi líbili, a já jsem tu proto, abych jich užil; mým posláním je upravit si svět tak, aby mi byl poživatelným požitkem; a mým cílem je stát se vládcem mého královstvíčka. - 0 této nozdolné potřebě člověka prohlásit se aspoň na čas za božstvo opatřené protézami hovoří Freud ironicky a moudře. Smrt, nemoc i všechno protivenství mže přesvědčit toho, kdo chce slyšet, že falcové naivní rozumění životu je falešné. Je to energické probuzení a osvícení, jaké člověk-snílek potřebuje k tomu, aby slyšel hlas Ducha, který jediný nás dovede poučit o nás a o skutečnosti. \"Štěstí lže, neštěstí má vždycky pravdu,\" napsal Boethius před popravou. Nemoc, neštěstí nás odhaluje nám samotným. Mnozí křestané zjišťují teprve v takových mezních situacích, že si vystavěli křesťanství bez kříže, že uzavřeli separátní úmluvu s jakýmsi božstvím, jemuž nadiktovali své podmínky u- znání a služby. Dlouhá ne..oc vyzývá k analýze existence a lžko nemocného předstihuje analytický gauč, protože tato analýza míří nikoli k předběžným a předposledním dvodm chybných výken, ale k nejhlubším zdrojm falešného vědomí člověka. Smrt, nemoc a utrpení si nevynucují správné vědo: í, neboť nejnitornější lidskou svobodu nelze zzmšit. Fic nezabrání člověku rozbíjet si hlavu o zed, když se k tomu 12 ve své osobivosti rozhodl. Smrt, nemoc a utrpení však nabízejí šanci i možnost proměny falešného vědomí v porozumění smyslu a ve srozuměnost s ním. Ve srozumění s tím, že jsme disponovatelní ještě dřív, než mžeme sami sebou disponovat. V pochopení skrze náhled i víru, že Ten, kdo námi disponuje, nezamýšlí s námi nic nesmyslného. Přijetí toho, co je v nemoci nezměnitelné, je velkodušným odevzdáním se nepochopitelné, nekonečné disponující cizí vli. Křestanství zstává i dnes náboženstvím autoritativním. Trvá na tom, že Autor dramatu světa si ponechává právo na svj text a na poslední slovo, i když mu nemžeme nahlížet do konceptu. Nejpřesněji a nej stručněji vyjádřil křestanskou filozofii života Ignác z Loyo- ly: ve všech věcech nalézat Boha. V každé situaci, v každé danosti od vezdejšího chleba po vnitřní hnutí duše lze vidět sdělení darujícího, volajícího, vedoucího, pomáhajícího, utěšujícího a oživujícího Boha. Též v každé nemoci a v každé frustraci se ohlašuje Pán našeho života i smrti, aby skrze slzy, pot a krev oprostil lidskou existenci od propadnutí sobě samé. Nikde v evangeliích se nepíše  tom, že by byl Kristus nemocen. Naopak je líčen jako zdravý a odolný. Zato se tam píše, že se s němčenými identifikoval\\'natolik, že se nemocný člověk stává jakýmsi vyvýšeným místem Boží přítomnosti ve světě. \"Byl jsein nemocný a navštívili jste mě. - Byl jser. nemocný a nenavštívili jste mě. \" I I Talmud připomíná, že kde je nemocný, je i Boží jas. Chování křesíana k nemocnému, jeho ochota být mu nablízku, je jedním z podstatných kritérií, podle nichž bude souzen. Nemocný bližní je nám příležitostí přiučit se zralé lásce. Mimo jiné i proto se ho hledíme zbavit, čímž promrháváme svou vlastní šanci. Tu odvrácenou stranu života, která se ztrácí ve stínu smrti, Kristus jako smysluplné a nutné dějiště spásy nejen strpěl, ale dobrovolně vyhledal. Kdo ho chce následovat, musí být ochoten ho doprovázet, až bude zavolán. Blízkost ve stínu smrti j$ osvědčením a prohloubením přátelství Spasitele a těch, kdo mají být spaseni. Přijetím noci dochází k porozumění jejímu smyslu. Odvaha a vle k dobrovolné blízkosti v této noci pair často přesáhne to, co je jen disponované. Existuje přání být chudým s chudými, snášet bolest, smutek, ponížení i nenávist spolu s Mužem bolesti a jeho druhy v utrpení, protože právě on vyvolil práci truchlení jako nejmocnější prostředek spásy světa. Křešían si smí zvolit chudobu, pst i ponižující závislost dobrovolné poslušnosti, ne však nemoc. Přesto existují lidé, kteří si ze stojných dvod, tedy pro porozumění smyslu, zamilují dokonce i nemoc, protože cítí, že ulehčujíce slabým berou na sebe kříž našeho světa, který musí být nesen společně. I pro celou společnost je přijetí a pochopení nemoci a nemocného, případně odvracení se od nich, měřítkem jejího zdraví, případně úpadku. Má-li společnost pro své nemocné, zejména pro ty \"zbytečné”, jimž není pomoci, dostatek spravedlnosti, lásky, péče, ochoty pracovat a financovat, anebo je naopak odklízí do ústraní a u- pírá smysl jejich životu, protože sama vyznává blahobyt a právo silnějšího, to také rozhoduje o její hodnotě a o její budoucnosti. (Nepatrně zkrácený překlad originálu \"Sinr und Unsinn der Krankheit: Hiob und Freud\" uveřejněného ve sborníku, redigovaném autorem: \"Der Kranke - Árgernis der Leistungs- gesellschaft\", Patmos Verlag, Dusseldorf 1972.) 13 RECENZE oooooooooooooooooooooooooooooooooooooooooooooooooocooooocooooooooooooooooooooooo Ontalogi cká trojrozměrnost člověka a psychologi e Elisabeth Lucasová : Von der Tiefen- zur Hohenspycholegie. Logotherapie in der Beratungspraxis (Od psychologie hlubinné k výšinné. Logoterapie v poraderb- ské praxi). Herder, Freiburg 1983, 430 stran. Název knihy poněkud klame: není to filozofické nebo vědoslovné pojednání o psychologii současné či příští. Podtitul upřesňuje: je to vademecum poradenství, psané z pozic franícíovské logoterapie. Knížka obsažná, instruktivní a čtivá. Vbec by nebylo chybou, kdyby se stala v postgraduálním vzdělání příslušných profesionál povinnou četbou. Text je rozvržen do dvou oddíl. První se týká pacienta (klienta), druhý terapeuta (poradce). Zdařile přibližuje franklovské pojetí člověka, který není \"trieb- determiniert und lustsuchend\" (determinovaný pudy a vyhledávající slast), nýbrž \"sinnorientiert und wertstrebend\" (orientovaný k smyslu a usilující o hodnoty). Je to aspekt po výtce antiredukcionistický, postihující to, co ostatní \"školy” (snad s výjimkou Jungovy a Bossovy) poiníjejí mlčením. Tím vykazují toto téma ze svého zřetele; záleží pak na libovli jednotlivých terapeut, jaký k němu zaujmou postoj. Kapitoly prvého oddílu pojednávají o tom, co je to sociabilita, psychohygiena, hledání sebe, mravnost, zrání identity, láska, rodina. V druhé části jsou úvahy o osobním naplnění smyslu jakožto kritériu lidské existence, o jeho ohrožení jakožto kritériu terapeutického zásahu, o konfliktu jakožto možnosti volby v rámci hodnotové hierarchie, o existenciálním vakuu, o jeho vztahu k závislostem, o odpovědnosti, o možnostech skupinové psychoterapie a v neposlední řadě o indikacích a mezích logoterapie.. Recenzenta samozřejmě svádí příležitost konfrontovat logoterapii s jinými psychoterapeutickými školami, protože autorka k tomu sama provokuje. Je výmluvná a ví o tom, o přednostech svého métier píše trochu chlubivě a s jemně polemickým zakročením proti \"konkurenčním\" terapeutickým strategiím. Říká jim \"hlubinné\" a myslí především na psychoanalýzu a od ní odvozené \"dynamické\" postupy (vči behaviorálněj- ším je mnohem shovívavější, protože je sama adjuvantně užívá). Z ryze odborného (tedy nefilozofického) stanoviska by bylo možno se ptát, k čemu všemu v osobnosti svého protějšku, k jaké její výseči se logoterapeut obrací. Zdá se, že pouze k vědomému EGO, nadto dosti zralému EGO, které si mže dovolit takové věci jako je paradoxní intence nebo dereflexe, protože má k tomu dost síly. Psychoanalytik by možná poznamenal trochu spatra, že je při tom zcela opomíjeno hledisko topografické, ekonomické a genetické; že je nedostatečně a jednostranně dbáno dynamického, strukturálního a psychosexuálního a že snad jedině hledisku adaptivnímu je tu učiněno zadost. Ze logoternpie je zkrátka pouhou psychagogikou, užívající velmi direktivních behaviorálních praktik, a terapeut se nabízí jako \"pomocné já\", na kterém záleží především. Toto všechno je možná pravda, ale logoterapie tím není vystižena plně. Svým non- reduktivním pojetím člověka, u něhož kromě biologické a psychologické dimenze shledává ještě třetí, duchovní, získává potenciál, který bez všech těch subtilních teoretických konstrukt a \"metapsychologií\", juké si ostatní školy pracně vytvářejí. U nás neznáme logoterapeutickou práci zblízka a dojmy z četby, kdy každý autor předkládá především své úspěchy, jsme si zvykli brát s rezervou. Přesto se zdá podobným pravdě, že respekt k duchovní dimenzi lidství (u Lukášové tato dimenze zahr14 nu je vědomí smyslu, hodnoty, přijetí možnosti volby a odpovědnosti) terapeutovo\\'-pole rozšiřuje. Přitom jde o respekt k něčemu, co je člověku vlastní, i když se to mnohé terapeutické školy zdráhají pojmenovat. Pokládají to za privatissimum jednotlivého Člověka, které je radno nanejvýš motivačně analyzovat, ale jinak nekomentovat a zejména nehodnotit. Tato prudérie má zřejmě pvod v redukcionistickém poblouzení novověké vědy, která je ochotna zkoumat člověka pouze depersonalizováného (nejdále v tomto směru zašel asi behaviorista Skinner, který vyloučil z oblasti psychologické vědy \"private events\", tedy prožívání vbec). Autorka \"hlubinným\" školám přesto poněkud křivdí. Nejsou v tomto ohledu všechny stejné a ani uvnitř nejsou jednotné. To platí i o psychoanalýze, vči níž má ona asi nejvíce ressentiment. Ano, takový Otto Fenichel, klasik \"triebpsychologie\",\\' uvádí ve svém chef ďoeuvre doslova: \"Vědecká psychologie vysvětluje mentální jevy jako výslednici souhry primitivních přírodních potřeb, tkvících v biologické struktuře člověka a vyvíjejících se v prběhu biologických dějin (tudíž i v dalším jejich prběhu změnitelných) - a vlivu prostředí na tyto potřeby. Pro nějaký třetí faktor tu není místa.\" Redukcionismus mnohých analytik nelze vyjádřit výstižněji a asi ani groteskněji, leda že by Fenichel vydal počet z toho, co všechno rozumí \"vlivem\" a \"prostředím\". On však nevydal. Naproti tomu je takový Erik Erikson mnohem větším realistou, protože nezaujal žádný ideologický postoj, který by zrušil jeho vnímavost k \"třetímu faktoru\", jímž je právě duchovní dimenze. Tradiční psychoanalýza pojala EGO jako aparát koneckonc mechanický, jako computer na zjednávání kompromis. Naproti tomu logoterapie. neváhá uznat \"die Trotzmacht des Geistes\", \"vzdornou sílu\" ducha, který se nepoddává diktátu biologických a psychických sil. Toto je realističtější vidění věcí. Ta \"vzdorná\" a současně tvořivá síla ducha je totiž přirozenou mohutností lidského \"já\", mohutností dnes zamlčovanou, ba zapíranou, proto i neprobuzenou a zakrnující. Je docela možné, že to nekonečné piplání se s všelijakými \"mechanismy\" pudovými, přenosovými, odporovými, jaké lze někdy vídat ve zdlouhavých individuálních i skupinových terapiích, bývá neúspěšné právě pro zneuznání \"třetího faktoru\". Připomíná to nezdárné tápání ve tmách, kdy by stačilo jediné - rozsvítit. K tomuhle má právě logoterapie odvahu. Klade klidně na pacienta své nároky - a otevírá mu tím další obzor. Jedním z předpoklad např. psychické dospělosti je to, že začneme na mladíka klást nároky jako nu dospělého - a on pak kupodivu dospívá. Kdybychom tak neučinili, k dospělosti bychom mu nepomohli. Podobně si počíná logoterapie, a počíná si přirozeně. Její dikce má blíže ke common sense, její texty netřeba \"překládat\" a její strategie se přibližuje přirozenému výchovnému procesu. Potud zatím k logoterapii. Vratme se k námětu, který slibně zazněl z letmého přečtení titulu knihy: hlubiny versus výšiny. Měli bychom oba pojmy trochu očistit. Řekne-li se \"hlubina\", shodnou se na jejím významu, aspoň přibližně, skoro všichni. Míní -se tím oblast duševního života, která se neprezentuje bezprostřednímu názoru, není očividná, protože se vztahuje k nevědomí, snad i k samotným biologickým základm lidského bytí. V tom, co \\'je protipólem \"hlubiny\", všichni zajedno už asi nebudou. Pro behavioristy to bude to bezprostředně pozorovatelné (tedy i to jediné spolehlivě poznatelné), pro analytiky a \"dynamiky\" to bude vědomé, tedy jakýsi \"povrch\", a pro logoterapeuty (a snad i pro jungiány a daseinsanalytiky) to bude \"výšina\" ducha. Behaviorální a dynamické teorie (včetně psychoanalýzy) tedy nepokládají za nutné pojmově určit onu skutečnost, kterou logoterapie (aj.) vnímá jako vyšší. Čemu odpovídá diference \"nižší - vyšší\" ? Toto není otázka psychologická, psychoterapeutická, nýbrž filozoficko-antropologická resp. ontologická. Je politování- - hodné, že mnohým teoretizujícím psychologm a psychoterapeutm toto stále není Jasné; přitom se tato a limine filozofická otázka. stává vysoce aktuální v té oblasti lidské praxe, v níž dochází k radikální konfrontaci člověka s člověkem, napi. v psychoterapii. Jde o touž prudérii, o níž již byla zmínka. Jako kdyby nějaký zlomyslný protivítr zavíral člověku oči a činil ho ontologicky slepým. Doje se talc i těm, kdo se pokládají za filozofy. Mám pocit, že nejen pozitivistm, ale i mnohým fenomenologiím. A samozřejmě marxistm, kteří rozšafně uznávají \"nižší\" a \"vyšší\" zpsob \"organizace hmoty\", ale raději už nezveřejňují, odkud se tyto rozličné modality hmoty 15 berou, Museli by totiž vážit, zela toj co je ustavuje, je vzhledem k hmotě imanent- ní, nebo - nedejbh - transcendentní. Tato prudérie je v jisté, skoro nepatrné míře vlastní i logoterapii, která nejvíce operuje s pojmem \"smysl”, ale zatím jej nevyložila. \"Smysl” čehokoli je odkazem k čemusi jinému než je právě to, \"smysl” čehož máme zrovna na mysli. Toto \"ji né” ari logoter.pie neosvětlujo, jakkoli je svou vnímavostí vči samotnému \"smyslu\" sympatická a jakkoli je nespokojená s tím, žc ti druzí jsou vči němu nevnímaví. Ona sice tuší, že \"smysl” má vztah k dvojici \"nižší - vyšší\", že odkrytí smyslu je odkrytím relace nižšího k vyššímu, např. psychického k duchovnímu. Proč je ale duchovní \"vyšší\"? Inuj každá otázka po smyslu a po vertikále je otázkou koneckonc teologickou, náboženskou. Myslím, že nyní mžeme oné moderní prudérii rozumět lépe. Jak by mělo vypadat \"výšinná psychologie” in spe, to se od Elisabeth Lukášové nedovídáme. Ona za ni jednoduše pokládá logoterapii. Jenže tato údajně (a někdy jistě i skutečně) zdatnější protihráčka psychologie hlubinné není talc mohovitá,pokud jde o rozsah empirického poznání psychiky. S troškou hnidopišství mžeme pokračovat: přidržujeme-li se dsledně Frc-.nklových prolegomen, jeho \"dimenzionální onto- logie\", pak nějaká systematická výšinná psychologie je vlastně - contradictio in adjectn, robot \"výšina\" souvisí s duchovní dimenzí člověka, a ta je jako taková až \"třetí\", zatímco psychologická dimenze, tvořící předmětnou oblast psychologie, je \"druhá\"; jakápak tedy \"výšinná psychologie\", je-li psychologii souzeno přebývat v nižším podlaží? Bezmála před sto lety vznikla hlubinná psychologie jako pendant tehdejší psychologie asociaristické a objevila zcela nový a dotud neznámý svět. Myslím ale, že nějaká systematická výšinná psychologie, která by tvořila pendant k té hlubinné, aniž by se s ní kryla či překrývala, nevznikne. Že depozitum té hlubinné psychologie zstane zachováno. Možné a žádoucí je však něco jiného. Je žádoucí, aby každý psycholog, pedagog, psychoterapeut apod., pokud teoreti- zuje, přestal být ontologicky slepím \"fachidiotem\" a st il se aspoň trochu filozofem. Dospěl by pak k náhledu (nebo aspoň k tušení), že každý pojem (termín), každí hypotéza či teorém jeho vědy odráží v sobě jako kapka vody souvislý celek veškerenstva, který jeho věda samotná ^ení schopna obsáhnout. Prk by se nemohlo stát, že by věci znalý odborník jako Fenichel napsal tukový nonsens. Ontologicky nezaslepený psycholog by prostě věděl o vertikále - a přestal by být narcistickým středem svého malého a kusého světa. Je žádoucí, aby každý takový odborník si byl ve své praxi vědom, že se setkává s člověkem, tedy nejen \"objektem\", ale bližním, v němž se také zračí celý vesmír a který v sobě nese onu vertikálu přinejmenším jako potencialitu. Hans Kunz, filozof kritizující psychoanalýzu, napsal již v roce 1930: \"Psychoanalytici nejsou s to u- nést fakt, že se v každé analýze otevírá a dává do pohybu celá lidská, existence.\" Toto platí o nejednom profesionálovi, pedagogovi, lékaři, psvchcterapeutovi, poradci atd. - \"Výšinná psychologie\" je podle mého názoru tu, která ví, že lenost (a redukce jako její dsledek) je jedním ze smrtelných hřích; která se nebojí rozsvítit. Která tedy ví o \"ertikále a každou včtou i každý\\' činem ji respektuje. Viktor Frankl a jeho žačka takto \"povyšují\" psychagogiku s adjuvantním užitím behaviorálních technik. -jrc- 16 EXCERPTA A REPRINTY ooooooooooooooooooooooooooooooooooooooooooooooooooooooooooooooooooooocooooooooo Eri ch Fromm o bi nfi li i a nekrofi li i Než ukončíme diskusi o nekrofilii, bude užitečné zmínit se stručně o vztahu tohoto pojmu k Freudově pojetí Erotu a Thanatu. Eros chce spojovat organické substance ve stále rozsáhlejší jednotky, zatímco pud smrti separuje živoucí struktury a dezintegruje je. Vztah nekrofilie k Thanatu již nepotřebuje další vysvětlení., K objasnění vztahu mezi pudem a biovilií je však záhodno biofilii stručně vyložit. Biofilie je vášnivou láskou k životu a všemu živému. Je to touha rst^už ji shledáváme v rostlině, člověku, v ideji nebo ve společenské skupině. Biofilní člověk raději buduje než schraňuje. Je schopen údivu a dává přednost vidění stále nového před stvrzováním starého. Dobrodružství života miluje víc než jistotu. Vidí spíše celek než pouhé části, spíše strukturu než pouhou sumaci. Chce utvářet, ovlivňovat láskou, rozumem, příkladem; nikoli silou, izolováním věcí, byrokratickým ovládáním lidí, jako kdyby byli pouhými věcmi. Protože má radost ze života a všech jeho projev, není náruživým konzumentem všelijakých ’’vzrušení\" vždy v novém balení. Biofilní etika pojímá svým zpsobem princip dobra a zla. Dobré je vše, co slouží životu; zlé je vše, co slouží smrti. Dobro je úcta k životu, vše, co podporuje život, rst, rozvoj (úcta k životu je hlavní tezí Alberta Schweitzera, velikého představitele lásky k životu nejen perem, ale celým svým dílem). Zlo je vše, co život dusí, zužuje, ponižuje nebo trhá na lousy. Rozdíl mezi pojetím Freudovým a mý není v samotných pojmech, ale v tom, že podle Freuda jde o dvě tendence stejného řádu, jako kdyby obě byly biologicky dány. Biofilie se však podle mého názoru vztahuje k tendenci biologicky normální, zatímco nekrofilie je fenomén psychopatologický. Objevuje se jako dsledek zakrnělého rstu, jako duševní \"zmrzačenost\". Je výslednicí života nežitého, výslednicí nezdaru v dosahování toho vývojového stupně, na němž je překonáván narcismus a lhostejnost. Destruktivita není paralelou, nýbrž alternativou biofilie. Lásku k životu a láska k smrti je fundamentální alternativou, s níž je konfrontována každá lidská bytost. Nekrofilie vyvstává tam, kde se nevyvíjí biofilie. člověk má biofilní kapacitu jako biologickou danost, psychologicky má však i potenciál nekrofilie jakožto alternativní řešení. Psychické nezbytí vývoje k nekrofilii jakožto dsledku zmrzačení musíme chápat v souvislostech existenciální situace jedince. Nemže-li člověk nic vytvořit, ničím pohnout, uniká nesnesitelnému pocitu životní nemohoucnosti a nicotnosti talc, že utvrzuje sám sebe aktem ničení života, který není schopen vytvářet. Nemá chut usilovat, pečovat, být trpělivý; k destrukci postačí pádná pěst, nž nebo puška. (Výňatek z knihy \"The Anatomy of Human Destructiveness\" /Anatomie lidské ničivosti/, Holt, Rinehart and Winston, New Yrrk 1974, 365-366.) Zdraví mezi vědou a moudrostí Hans Urs von Balthasar Když jsme mluvili o Platonovi, viděli jsme, že se prostě nezastavil u všeobecné tělesně-duševní harmonie, nýbrž že nakonec položil hlavní draz na dobrý duchovní stav duše: správný poměr jejích jednotlivých sil, které by měly být moudré, statečné a umírněné, a tím odpovídat ideálu filozofie, tj. lásce k moudrosti (sofia). 17 Teprve v tomto umístění tělesně-duševní harmonie nebo .zdraví ve středu celolidské moudrosti by člověk získal zdraví v nejvyšší rovině a v celé obsáhlosti. Zdá se, že lékařská psychoterapie dnes z velké části převzala úlohu řecké, pedagogicky zaměřené filozofie. Aby však mohla tuto roli opravdu plnit, musela by si také být vědoma toho nástupnictví a tím uložené odpovědnosti. Převzetí úlohy se mže uskutečnit jen tehdy, jestliže se tato terapie naprosto vědomě zaměří na to, aby dopomohla člověku získat koncept smyslu jeho existence, který by ho naplňoval, a podle tohoto konceptu také žít.  K tomu ale naprosto nestačí nazpět obrácená analýza jeho minulosti třeba až do dětského a kojeneckého věku, ani pouhé řešení problém a komplex, protože takové řešení mže mít úspěch jen tehdy, jestliže se člověku otevře nová budoucnost, smysluplné nasazení v rámci světa a prostředí, jež celkově pokládá také za smysluplné. V tomto ohledu se mi zdá být slovo \"logoterapie\", jímž Viktor Frankl označuje svou terapeutickou metodu, šíastné a v podstatě nezbytné pro každou terapii, která chce mít skutečný úspěch, aí už se jednotlivé léčebné metody od sebe jakkoli odchylují. Proteze neexistuje smysl života bez lidské svobody, musí s ní terapie nejen počítat, nýbrž musí ji v pacientovi uvolnit tak, aby byla posílena k volbě svých nejvvšších možností. To znamená, že terapeut musí znát rozměry moudrosti a otvírat je a pacient musí jimi být aspoň do jisté míry oslovitelný. Tato moudrost bude muset být osobní a uskutečňovat se v mezilidském dialogu; rozhodně nestačí krmit pacienta nějakými schematickými, abstraktními všeobecnostmi o nutnosti společenského postoje apod. (Alfred Adler tu jistě má určité meze). Společenský rozměr, rozhodně dležitý pro postižené neurotiky, není přece jediný: do hry je nutno uvést ještě rozměr vztahu k Bohu, k Věčnu a k Absolutnu; jedině v tom vztahu se nakonec všechno lidské stává smysluplným. C.G. Jung, jak známo, se neostýchal dotknout se této poslední sféry, aí už měli jeho pacienti jakékoli náboženské postoje. Jer ták mže být moderní psychoterapie dstojnou nástupkyní staré, vždy pedagogické, vlastně psychagogické filozofie, jak ji měli na mysli Sokratés, Platon a Epiktétos. (Výňatek z přednášky při mezinárodním kongresu pro doškolování, lékař ve švýcarském Davosu 18.3.1979« Celý text vyšel v Renovatio 1979, 64-74 a v Arzt und Christ 1986, 165-173; náš výňatek str. 171-172. Autor, teolog světového jména, zemřel 26.6.1988.) Věda nestačí Jean Vanier Bruno Bettelheim napsal knihu s názvem \"LJ amour ne suffit pas” (Láska nestačí). (Paris, Fleurus 1970.) To, co říká, je správné, navzdory tomu, že klade příliš velký draz na psychoanalytické hledisko. Z té knihy je třeba si zapamatovat především to, že aby se pomohlo odvrženému člověku, trpícímu úzkostí a vnitřní rozbitostí, je potřebná, určitá kompetence. Je třeba umět mu pomoci bojovat s úzkostí i s agresí. a zkoumat, co se skrývá pod depresí nebo apatií. Je třeba být s to rozluštit pravý význam jeho občasného komického chování a reagovat na jeho skutečné potřeby. Je také zapotřebí znát určité zákonitosti vývoje člověka a vědět, co je nezbytné, aby dosáhl vnitřního uzdravení. Především je však zapotřebí ovládat umění, jak navázat opravdový kontakt s druhým člověkem. To nevyžaduje, aby někdo byl psychiatrem nebo psychoanalytikem. Zajisté, občas je nutné využít odbornou pomoc lékaře nebo psychoterapeuta. Především je však dle-- žitá naše zkušenost a citlivost vči nejhlubším potřebám druhých lidí. Mezi tím, co pochází z víry, a mezi přínosem lékařské vědy neexistuje konflikt. Ten vzniká jen mezi lidmi, kteří uznávají pouze jednu z těch dimenzí a zpochybňují hodnotu druhé. To ovšem neznamená, že se snadno odliší to, co je .duchovní, a to, co poskytuje věda. Ve společenstvích Archy zkoušíme objevit svou vlastní terapii, zcela jinou, než je ta, která je běžná v nemocnicích a opírá se jen o farmakologické léčení a psy18 choanalýzu. Základem naší terapie jsou pravdivé a upřímně vzájemné kontakty, které ravracejí přijetí sebe a chut k životu a činnosti. Odvržený člověk ponenáhlu objevuje, že je členem rodiny, která je společenstvím. Krestanské společenství, které přijímá slabé a odvržené, potřebuje odbornou pomoc psycholog a psychiatr. Především je však povinno prohlubovat svou vlastní terapii. Osoby udílející odbornou ..pomoc jsou povinny uznat ji a pomáhat při její realizaci. Krestanské společenství se opírá o odpuštění a jeho projevy. Úloha kněze zachovávajícího zpovědní tajemství a osvobozujícího od tíže pocitu viny, možnost objevit skrze něho Ježíšovo odpuštění, to vše mže mít základní význam pro vedení zhbucené- ho člověka k vnitřnímu uzdravením Když člověk vírou objeví, že Ježíš miluje všechny lidi, a zvláší nejvíce odvržené, pomže mu to objevit svou dstojnost Božího dítěte. Zpsob, jak společenství přistupuje k smrti jednoho ze svých člen, pomáhá některým přemoci strach ze smrti. Piovněž eucharistie a společná modlitba pomáhají pochopit, že všichni jsme bratři a sestry v Kristu a že neexistuje dělení na zdravé a nemocné. Před Bohem jsou všechna naše srdce nemocná, všichni jsme vězni svého egoismu. Ale Ježíš přišel proto, aby nám přinesl spásu, vnitřní uzdravení a vyvolení skrze svého Ducha. To je Dobrá zvěst, která hlásá chudým; nejsme opuštěni ve svém smutku, úzkosti, v temnotách své osamělosti, v potřebě lásky a tepla, On nás miluje a je s námi; ’’Neboj se, jsem s tebou\". (Přeloženo z polského výboru z Vanierových prací ’T/spolnota\", líichalineum, Kraków, Varszawa-Struga, 19855 originál tohoto výňatku je z knihy ”La communauté, lieu du pardon et de la féte”, Paris 1970. - Autor založil r. 1964 hnutí Archa, spolubydlení mentálně postižených a zdravých, a r. 1971 hnutí Víra a světlo, které sdružuje postižené, jejich rodiče a přátele. Obě hnutí jsou rozšířena v Evropě i jiných světadílech. ) To nejlidštější, totiž vle k smyslu, se promítá takzvaným humanitním vědám do jejich \"slepé skvrny\". / V v v o\\'** v Utrpení zjasňuje člověka a zpruhlednuje svět. Idea \"vle k smyslu\" neznamená nějaký apel na vli, ale cosi více: nechat vysvitnout smysl - a ponechat na vli, aby ho chtěla. Jsou to často trosky, co teprve odkryje pohledu nebesa. Ftozlišujme mezi utrpením a zoufáním; utrpení mže být někdy i nevyléčitelné, ale pacient si zoufá teprve tehdy, když už nemže najít smysl utrpení. Psychoterapie se zrodila, když člověk za somatickými symptomy zahlédl psychické příčiny a objevil psychogenezu. Je třeba dalšího kroku a vidět za psychogenezou duchovní nouzi člověka - a pomáhat mu v ní. (Viktor Frankl) 19 MEDI TACE oooooooooooooooooooooooooooooooooooooóoooooooooooooooooooocooooooooooooooooooocoo Kněz, levi ta a Samařan (Lk 10,29-37) Jean Vanier (.. o) Na otázku., kdo je náš bližní, většina lidí by odpověděla, že bližní je blízký, ten, kdo je blízko. Ježíšova odpověď mladému zákoníkoví se- zdá být nejasná. Ježíš neodpovídá přímo, neříká \"Tvj bližní je ten, kdo stojí vedle tebe\", neboí to je samozřejmé. Ježíš především otevírá nové perspektivy. Proč se kněz a levita nezastavili? Spěchali do Jeruzaléma na smluvené setkání. Byli strašně zaneprázdněni. Museli se přesně dostavit na setkání, které považovali za velice dležité - stejně jako my. Všichni jsme velice zaneprázdněni. Nakupujeme a spěcháme dom připravit pohoštění pro očekávané hosty. Málokdy nám zbývá čas na tc, co je nejdležitější5 náš život mže klidně ubíhat nezávisle na tom, zdali jej prožíváme. Jsme tak pohlceni plány a organizačními záležitostmi, že když narazíme na člověka ležícího na zemi, už nám pro něho nezbývá čas. My, zaneprázdnění lidé, si musíme dát otázku, zdali naše práce není útěkem před druhým člověkem. Noříme se do práce možná proto, že se nechceme setkávat s lidmi, že se jich bojíme. Bojíme se, že nás vyšine z rovnováhy něco neočekávaného, čím promluví sám Bh? Jsou dva. druhy potřeb, které vyžadují odezvu. Velmi snadno lze někomu pjčit peníze nebo odvézt ho někam jinam. Je to potřeba přesně vymezená, má začátek a konec. Mnohem více zneklidní jiný druh potřeb. Někdo tě poprosí o jídlo, a ty tu prosbu splníš, ale on bude za pár hodin znovu hladový. Kdyby tak existovala magická pilulka, která zpsobí, že nebude hladový dnes, zítra ani pozítříí Takové prosby navozují nepředvídatelné množství setkání a nikdy nevíme, čím to skončí. (...) Rezhodneš se jednou měsíčně navštívit vězení, ale tam. vyslechneš hluboce zra- něrého člověka a začneš žít jeho utrpením. Slyšíš, co ti říká o své žení\\' a svých dětech, zasáhne tě to a začneš chodit každý týden. Ten člověk pak vyjde z vězení a chce tě vidět. Ty jsi měl na mysli jiná pravidla hry, ale z jeho stí any je to logické: ty ses s ním setkal, a to pro něho něco znamená, rěco se v jeho srdci zrodilo. Je přirozené a pochopitelné, že tě ted chce vidět. Ukáže se možná, že to je obtížné. Začneš se bát. (...) Každé setkání s jiným člověkem otevírá před námi nekonečně mnoho možností: nevíme, kam nás dovedou. Každý z nás stojí před situacemi, o nichž nevíme, co z nich vyplyne. Navštívíš nemocného, a on se tě zeptá, kdy zase přijdeš. Hovoříš s někým, kdo je v depresi, a cítíš, že to tím hovorem nekončí5 když mu jednou zavoláš, najednou dnes večer nebo zítra on vytočí tvoje číslo. Tolik zraněných lidí potřebuje společníka, přítele, bratra, někoho, kdo dodá naději, pomže, vyposlechne. Zakoušíme to, když se blížíme k lidem a jejich potřebám. Boříme bariéry, které máme v sobě. Co bude dál? Co se stane s naším zpsobem života, s našimi dětmi, s naší rodinou nebo se závazky, které už máme? Začínáme chápat, že na tu prosbu už nebudeme moci odpovědět. Nejednou je ta přirozená obrana zdravý reflex vycházející ze srn;, slu pro reali tu. Máme svoje závazky, děti, možná i slabé zdraví. To vše nás nutí, abychom odpověděli záporně. Ale musíme si uvědoi it, jakého druhu jsou bariéry, které vyvolávají tu přirozenou reakci. Koho a co bráníme? Většina z nás brání nejspíš svj životní styl. (...) Proč ten životní styl bráníme? Při pohledu do vlastního nitra shledáme, že hodnoty uznávané společností jsou v nás zakořeněny hlouběji než hodnoty evangelia. Většině z nás je bližší naoř. člověk západní kultury nehřešte-n, než náš bratr 20 v Kristu z Indie nebo Afriky. Mnohem více věci nás spojuje s obyvatelem západní Evropy. To svědčí o tom, že jsme silněji svázáni s naším západním stylem života než se světem blahoslavenství. Proto bráníme svj životní styl. Kdo ho rozviklává, ohrožuje nás: přikazuje nám opustit ten styl, a nám je líto vzdát sc zajímavých televizních program, milovaných knih nebo vydatné stravy. Ráz našeho života je nějak spojen s funkcí, kterou plníme. Kněz, ředitel banky, profesor - každý má svou příčku na. žebříčku společenské hierarchie. (...) Proč se kněz a levita nezastavili? Raněnýčlověk ležící na cestě mezi Jeruzalémem a Jerichem představuje ohrožení. Když se u něho zdrží, co se stane s nimi? Dobrý Samařan si klade otázku, co se stane s .tím zraněným, když se on u něho nezastaví. (...) Někteří se zastaví, ale nechtějí vidět. Proto je následující krok: podívat se člověku do očí bez strachu. Někteří dají peníze. Někteří přijíždějí do Archy a říkají nám, že se obětujeme těm \"ubohým, slabým, postiženým\". Říkají to, nebot si představují, že žít s někým jako Rafael znamená být někým výjimečným, když takoví lidé jako on se k ničemu nehodí. To je nejhorší potupa, jaká se dá vyslovit, ačkoliv si to ti lidé neuvědomují. Nevědí, co říkají! Jiní nám stavějí pomníky. Říkají, jak velmi nás obdivují. Hlečlte a obdivujte! To je past. Všichni jsme povoláni do života v téže realitě: to znamená naslouchat, chápat a milovat. Další nás obdarovávají. Ovšem darováním mžeme člověka zranit. Je třeba dobře uvážit, co dáme, a nevyužívat to pro utvrzení pocitu vlastní nadřazenosti. Někteří přinesou pokažené televizory, ale poškození potřebují piístroje nejlepší jakosti, když hře vidí a slyší. Jiní přinesou cukroví pro \"moje děti\", které jsou často starší než já. Nechtějí ranit, ale projevují nedostatek jemnocitu. Nesluší se něco dávat dříve, než se uvidí a uslyší5 teprve tehdy se dar stane nástrojem jednoty a poutem porozumění. (...) (Z knihy \"Ne crains pas\", Paris 1978; Wspolnota s. 11-15.) Lékař, zejména terapeut, zde musí překonat poslední úskalí, totiž nebezpečí, že vztah člověka k Bohu, jeho náboženský vztah, vztah k modlitbě, použije jako prostředek k cíli, k uzdravení. C.G. Jung a křestanský lékař Paul Tournier a tím více \"Christian Science\" patrně neunikli zcela tomtuto nebezpečí: modlitba jako prostředek k uzdravení. Velmi dobře to pochopíme, jestliže terapeut pokládá uzdravení svého pacienta za svj nejvyšší cíl, na nějž se z profesionálních dvod omezuje. Ale jeho nejvyšší cíl není ten nejvyšší cíl. Vztah pacienta k Bohu mže být ryzí jen tehdy, není-li Bh degradován na prostředek člověka a jeho zdraví, nýbrž je-li Tím absolutním, jemuž se člověk bezpodmínečně oddá, at už je zdráv nebo nemocen. Lékař pak rovněž musí umět toto plné sebeodevzdání se člověka Bohu s úctou uznat za dosažitelně nejvyšší zdraví, nebo spíše za jeho dokonalou zdravost. (Hans Urs von Balthasar) 21 MODLITBA ocoooooccoooooooooooooooooooooooooooooooooOooooooooooooooocooooooooooooooooooooo Pane, at tě dnes a každý den vidím ve tvých nemocných a aí při jejich ošetřování sloužím tobě. I když se skrýváš v nenápadném přestrojení za popudlivého, náročného, neuznalého, at tě poznám a řeknu: \"Ježíši, mj paciente, jak. je dobré ti sloužit.\" Pane, dej mi tuto vidoucí víru, a moje práce nebude nikdy jednotvárná. Vždycky najdu radost ve snášení nálad a v plnění přání všech ubohých nemocných. \"ilovaní nemocní, jak jste mi dvojnásobně drazí, když ztělesňujete Krista, a jaké je to pro mne vyznamenání, že vám smím sloužit. Pane, učiň.mě citlivou pro dstojnost mého vysokého povolání a pro jeho vysokou odpovědnost. Pepřipust, abych se kdy ukázala, že jsem ho nehodná, tím, že bych upadla, do tvrdosti srdce, nelaskavosti a netrpělivosti. A potom, Bože, neboí. ty jsi Ježíš Kristus, mj, pacient, poniž se a buď i mně trpělivým Ježíšem. Ukaž shovívavost s mými chybami a dívej se jen na mé předsevzetí milovat tě a sloužit ti v osobě každého z tvých nemocných. Pane, rozmnož mou víru, žehnej mému údilí a mé práci, nyní i vždycky. Amen Učiň nás, Pane, hodnými sloužit našim bližním na celém světě, kteří žijí a umírají v chudobě a hladu. Dej jim dnes našima rukama jejich denní chléb a naší chápající láskou jim dej pokoj a radost \\'odlitby matky Terezy Kalkatské Otče, děkuji ti za zdraví, z něhož se smím těšit. Za nemoc, v níž se mohu učit trpělivosti. Za radost, kterou mohu sdílet s druhými. Za utrpení, v němž mohu projevovat dvěru v tebe. Z modliteb mladých německých křestan: Du und wir. 1380 22']"
      ]
     },
     "execution_count": 7,
     "metadata": {},
     "output_type": "execute_result"
    }
   ],
   "source": [
    "texts = list(scriptum_df['cleaned_text'])\n",
    "texts[:3]"
   ]
  },
  {
   "cell_type": "markdown",
   "metadata": {},
   "source": [
    "## Preprocessing text (final)"
   ]
  },
  {
   "cell_type": "code",
   "execution_count": 8,
   "metadata": {},
   "outputs": [],
   "source": [
    "def preprocess(doc):\n",
    "    # Included in data\\ cleaning.py\n",
    "    doc = re.sub(r'[°\\[\\]\\\\\\(\\)\\\"\\'\\<\\>\\+\\-\\=_\\^„]', '', doc)\n",
    "    doc = re.sub(r'\\s{2,}', '', doc)\n",
    "    doc = doc.strip().lower()\n",
    "    return doc\n"
   ]
  },
  {
   "cell_type": "code",
   "execution_count": 9,
   "metadata": {},
   "outputs": [],
   "source": [
    "texts_clean = [preprocess(text) for text in texts]"
   ]
  },
  {
   "cell_type": "markdown",
   "metadata": {},
   "source": [
    "## Encoder"
   ]
  },
  {
   "cell_type": "code",
   "execution_count": 95,
   "metadata": {},
   "outputs": [
    {
     "name": "stderr",
     "output_type": "stream",
     "text": [
      "Fetching 30 files: 100%|██████████| 30/30 [00:00<00:00, 370085.65it/s]\n"
     ]
    }
   ],
   "source": [
    "# model = BGEM3FlagModel('BAAI/bge-m3', use_fp16=True)"
   ]
  },
  {
   "cell_type": "code",
   "execution_count": 98,
   "metadata": {},
   "outputs": [
    {
     "name": "stderr",
     "output_type": "stream",
     "text": [
      "pre tokenize: 100%|██████████| 4/4 [00:24<00:00,  6.22s/it]\n",
      "Inference Embeddings: 100%|██████████| 4/4 [03:21<00:00, 50.35s/it]\n"
     ]
    }
   ],
   "source": [
    "# outputs = model.encode(texts, max_length=8192, batch_size=12,\n",
    "#                        return_dense=True, return_sparse=True, return_colbert_vecs=True)"
   ]
  },
  {
   "cell_type": "code",
   "execution_count": 123,
   "metadata": {},
   "outputs": [],
   "source": [
    "# # save numpy array outputs to directory\n",
    "# np.save('dense_vecs.npy', outputs['dense_vecs'], allow_pickle=True) \n",
    "# np.save('lexical_weights.npy', outputs['lexical_weights'], allow_pickle=True) \n",
    "# # np.save('colbert_vecs.npy', outputs['colbert_vecs'], allow_pickle=True) \n",
    "# # open the numpy array\n",
    "# dense_embeddings = np.load('dense_vecs.npy', allow_pickle=True)\n",
    "# lexical_weights = np.load('lexical_weights.npy', allow_pickle=True)\n",
    "# # colbert_embeddings = np.load('colbert_vecs.npy', allow_pickle=True)\n",
    "\n",
    "\n",
    "# # pickle model\n",
    "# with open('model.pkl', 'wb') as f:\n",
    "#     pickle.dump(model, f)\n",
    "# # load the model\n",
    "# with open('model.pkl', 'rb') as f:\n",
    "#     model = pickle.load(f)"
   ]
  },
  {
   "cell_type": "code",
   "execution_count": null,
   "metadata": {},
   "outputs": [],
   "source": [
    "# from sklearn.cluster import KMeans\n",
    "\n",
    "# # Apply KMeans clustering as a simple topic model surrogate\n",
    "# num_topics = 10\n",
    "# kmeans = KMeans(n_clusters=num_topics, random_state=42)\n",
    "# clusters = kmeans.fit_predict(dense_embeddings)\n",
    "\n",
    "# # Inspect clusters (topics)\n",
    "# for topic_id in range(num_topics):\n",
    "#     print(f\"Topic {topic_id}:\")\n",
    "#     for i, doc in enumerate(texts[:1000]):\n"
   ]
  },
  {
   "cell_type": "markdown",
   "metadata": {},
   "source": [
    "## Topic modeling"
   ]
  },
  {
   "cell_type": "code",
   "execution_count": 10,
   "metadata": {},
   "outputs": [],
   "source": [
    "with open('stop-words-czech2.txt', 'r') as f:\n",
    "    stop_words = f.read().splitlines()\n",
    "\n",
    "stop_words = [re.sub('\\\\ufeff', '', word) for word in stop_words]\n",
    "\n",
    "# Word frequency and lemmatization ???"
   ]
  },
  {
   "cell_type": "code",
   "execution_count": 11,
   "metadata": {},
   "outputs": [],
   "source": [
    "ts = [datetime(year=year_str, month=1, day=1) for year_str in scriptum_df['year'].astype(int)]"
   ]
  },
  {
   "cell_type": "code",
   "execution_count": 12,
   "metadata": {},
   "outputs": [],
   "source": [
    "N = scriptum_df.shape[0]"
   ]
  },
  {
   "cell_type": "code",
   "execution_count": 13,
   "metadata": {},
   "outputs": [],
   "source": [
    "n_topics = 200"
   ]
  },
  {
   "cell_type": "markdown",
   "metadata": {},
   "source": [
    "### KeyNMF"
   ]
  },
  {
   "cell_type": "markdown",
   "metadata": {},
   "source": [
    "**NOTE**: lemmatization should be done  \n",
    "Maybe reduce amount of texts  \n",
    "Maybe set hyperparameters like vocabulary  \n",
    "**For feminism topic:**  \n",
    "seed_phrase\tOptional[str]\tDescribes an aspect of the corpus that the model should explore. It can be a free-text query, such as \"Christian Denominations: Protestantism and Catholicism\"\tNone"
   ]
  },
  {
   "cell_type": "code",
   "execution_count": 29,
   "metadata": {},
   "outputs": [
    {
     "data": {
      "text/plain": [
       "(3, 5274, 5552)"
      ]
     },
     "execution_count": 29,
     "metadata": {},
     "output_type": "execute_result"
    }
   ],
   "source": [
    "min_df, max_df = int(0.0007*N), int(0.95*N)\n",
    "min_df, max_df, N"
   ]
  },
  {
   "cell_type": "code",
   "execution_count": 30,
   "metadata": {},
   "outputs": [],
   "source": [
    "model_keynmf = KeyNMF(n_topics, top_n=40, encoder=\"paraphrase-multilingual-mpnet-base-v2\", \n",
    "                      vectorizer=CountVectorizer(min_df=int(0.0001*N), \n",
    "                                                 max_df=int(0.99*N),\n",
    "                                                 stop_words=stop_words),\n",
    "                      random_state = 42)"
   ]
  },
  {
   "cell_type": "code",
   "execution_count": 31,
   "metadata": {},
   "outputs": [
    {
     "ename": "InvalidParameterError",
     "evalue": "The 'min_df' parameter of CountVectorizer must be a float in the range [0.0, 1.0] or an int in the range [1, inf). Got 0 instead.",
     "output_type": "error",
     "traceback": [
      "\u001b[0;31m---------------------------------------------------------------------------\u001b[0m",
      "\u001b[0;31mInvalidParameterError\u001b[0m                     Traceback (most recent call last)",
      "Cell \u001b[0;32mIn[31], line 1\u001b[0m\n\u001b[0;32m----> 1\u001b[0m document_topic_matrix \u001b[38;5;241m=\u001b[39m \u001b[43mmodel_keynmf\u001b[49m\u001b[38;5;241;43m.\u001b[39;49m\u001b[43mfit_transform_dynamic\u001b[49m\u001b[43m(\u001b[49m\n\u001b[1;32m      2\u001b[0m \u001b[43m    \u001b[49m\u001b[43mtexts_clean\u001b[49m\u001b[43m[\u001b[49m\u001b[43m:\u001b[49m\u001b[43mN\u001b[49m\u001b[43m]\u001b[49m\u001b[43m,\u001b[49m\u001b[43m \u001b[49m\u001b[43mtimestamps\u001b[49m\u001b[38;5;241;43m=\u001b[39;49m\u001b[43mts\u001b[49m\u001b[43m[\u001b[49m\u001b[43m:\u001b[49m\u001b[43mN\u001b[49m\u001b[43m]\u001b[49m\u001b[43m,\u001b[49m\u001b[43m \u001b[49m\u001b[43mbins\u001b[49m\u001b[38;5;241;43m=\u001b[39;49m\u001b[38;5;241;43m20\u001b[39;49m\n\u001b[1;32m      3\u001b[0m \u001b[43m)\u001b[49m\n\u001b[1;32m      5\u001b[0m \u001b[38;5;66;03m# 100=N 20sec=time paraphrase-MiniLM-L3-v2\u001b[39;00m\n\u001b[1;32m      6\u001b[0m \u001b[38;5;66;03m# 100=N 35sec=time paraphrase-multilingual-mpnet-base-v2\u001b[39;00m\n",
      "File \u001b[0;32m~/Documents/UniMarburg/Hackathon/SCRIPTUM/venv/lib/python3.9/site-packages/turftopic/models/keynmf.py:547\u001b[0m, in \u001b[0;36mKeyNMF.fit_transform_dynamic\u001b[0;34m(self, raw_documents, timestamps, embeddings, keywords, bins)\u001b[0m\n\u001b[1;32m    543\u001b[0m     \u001b[38;5;28;01mraise\u001b[39;00m \u001b[38;5;167;01mValueError\u001b[39;00m(\n\u001b[1;32m    544\u001b[0m         \u001b[38;5;124m\"\u001b[39m\u001b[38;5;124mYou have to pass either keywords or raw_documents.\u001b[39m\u001b[38;5;124m\"\u001b[39m\n\u001b[1;32m    545\u001b[0m     )\n\u001b[1;32m    546\u001b[0m \u001b[38;5;28;01mif\u001b[39;00m keywords \u001b[38;5;129;01mis\u001b[39;00m \u001b[38;5;28;01mNone\u001b[39;00m:\n\u001b[0;32m--> 547\u001b[0m     keywords \u001b[38;5;241m=\u001b[39m \u001b[38;5;28;43mself\u001b[39;49m\u001b[38;5;241;43m.\u001b[39;49m\u001b[43mextract_keywords\u001b[49m\u001b[43m(\u001b[49m\n\u001b[1;32m    548\u001b[0m \u001b[43m        \u001b[49m\u001b[43mraw_documents\u001b[49m\u001b[43m,\u001b[49m\u001b[43m \u001b[49m\u001b[43membeddings\u001b[49m\u001b[38;5;241;43m=\u001b[39;49m\u001b[43membeddings\u001b[49m\n\u001b[1;32m    549\u001b[0m \u001b[43m    \u001b[49m\u001b[43m)\u001b[49m\n\u001b[1;32m    550\u001b[0m time_labels, \u001b[38;5;28mself\u001b[39m\u001b[38;5;241m.\u001b[39mtime_bin_edges \u001b[38;5;241m=\u001b[39m \u001b[38;5;28mself\u001b[39m\u001b[38;5;241m.\u001b[39mbin_timestamps(\n\u001b[1;32m    551\u001b[0m     timestamps, bins\n\u001b[1;32m    552\u001b[0m )\n\u001b[1;32m    553\u001b[0m doc_topic_matrix \u001b[38;5;241m=\u001b[39m \u001b[38;5;28mself\u001b[39m\u001b[38;5;241m.\u001b[39mmodel\u001b[38;5;241m.\u001b[39mfit_transform_dynamic(\n\u001b[1;32m    554\u001b[0m     keywords, time_labels, \u001b[38;5;28mself\u001b[39m\u001b[38;5;241m.\u001b[39mtime_bin_edges\n\u001b[1;32m    555\u001b[0m )\n",
      "File \u001b[0;32m~/Documents/UniMarburg/Hackathon/SCRIPTUM/venv/lib/python3.9/site-packages/turftopic/models/keynmf.py:136\u001b[0m, in \u001b[0;36mKeyNMF.extract_keywords\u001b[0;34m(self, batch_or_document, embeddings, fitting)\u001b[0m\n\u001b[1;32m    134\u001b[0m \u001b[38;5;28;01mif\u001b[39;00m \u001b[38;5;28misinstance\u001b[39m(batch_or_document, \u001b[38;5;28mstr\u001b[39m):\n\u001b[1;32m    135\u001b[0m     batch_or_document \u001b[38;5;241m=\u001b[39m [batch_or_document]\n\u001b[0;32m--> 136\u001b[0m keywords \u001b[38;5;241m=\u001b[39m \u001b[38;5;28;43mself\u001b[39;49m\u001b[38;5;241;43m.\u001b[39;49m\u001b[43mextractor\u001b[49m\u001b[38;5;241;43m.\u001b[39;49m\u001b[43mbatch_extract_keywords\u001b[49m\u001b[43m(\u001b[49m\n\u001b[1;32m    137\u001b[0m \u001b[43m    \u001b[49m\u001b[43mbatch_or_document\u001b[49m\u001b[43m,\u001b[49m\n\u001b[1;32m    138\u001b[0m \u001b[43m    \u001b[49m\u001b[43membeddings\u001b[49m\u001b[38;5;241;43m=\u001b[39;49m\u001b[43membeddings\u001b[49m\u001b[43m,\u001b[49m\n\u001b[1;32m    139\u001b[0m \u001b[43m    \u001b[49m\u001b[43mseed_embedding\u001b[49m\u001b[38;5;241;43m=\u001b[39;49m\u001b[38;5;28;43mself\u001b[39;49m\u001b[38;5;241;43m.\u001b[39;49m\u001b[43mseed_embedding\u001b[49m\u001b[43m,\u001b[49m\n\u001b[1;32m    140\u001b[0m \u001b[43m    \u001b[49m\u001b[43mfitting\u001b[49m\u001b[38;5;241;43m=\u001b[39;49m\u001b[43mfitting\u001b[49m\u001b[43m,\u001b[49m\n\u001b[1;32m    141\u001b[0m \u001b[43m\u001b[49m\u001b[43m)\u001b[49m\n\u001b[1;32m    142\u001b[0m \u001b[38;5;28;01mif\u001b[39;00m \u001b[38;5;28mself\u001b[39m\u001b[38;5;241m.\u001b[39mcross_lingual:\n\u001b[1;32m    143\u001b[0m     keywords \u001b[38;5;241m=\u001b[39m \u001b[38;5;28mself\u001b[39m\u001b[38;5;241m.\u001b[39mextractor\u001b[38;5;241m.\u001b[39mmatch_terms(\n\u001b[1;32m    144\u001b[0m         keywords, threshold\u001b[38;5;241m=\u001b[39m\u001b[38;5;28mself\u001b[39m\u001b[38;5;241m.\u001b[39mterm_match_threshold\n\u001b[1;32m    145\u001b[0m     )\n",
      "File \u001b[0;32m~/Documents/UniMarburg/Hackathon/SCRIPTUM/venv/lib/python3.9/site-packages/turftopic/models/_keynmf.py:184\u001b[0m, in \u001b[0;36mSBertKeywordExtractor.batch_extract_keywords\u001b[0;34m(self, documents, embeddings, seed_embedding, fitting)\u001b[0m\n\u001b[1;32m    182\u001b[0m keywords \u001b[38;5;241m=\u001b[39m []\n\u001b[1;32m    183\u001b[0m \u001b[38;5;28;01mif\u001b[39;00m fitting:\n\u001b[0;32m--> 184\u001b[0m     document_term_matrix \u001b[38;5;241m=\u001b[39m \u001b[38;5;28;43mself\u001b[39;49m\u001b[38;5;241;43m.\u001b[39;49m\u001b[43mvectorizer\u001b[49m\u001b[38;5;241;43m.\u001b[39;49m\u001b[43mfit_transform\u001b[49m\u001b[43m(\u001b[49m\u001b[43mdocuments\u001b[49m\u001b[43m)\u001b[49m\n\u001b[1;32m    185\u001b[0m \u001b[38;5;28;01melse\u001b[39;00m:\n\u001b[1;32m    186\u001b[0m     document_term_matrix \u001b[38;5;241m=\u001b[39m \u001b[38;5;28mself\u001b[39m\u001b[38;5;241m.\u001b[39mvectorizer\u001b[38;5;241m.\u001b[39mtransform(documents)\n",
      "File \u001b[0;32m~/Documents/UniMarburg/Hackathon/SCRIPTUM/venv/lib/python3.9/site-packages/sklearn/base.py:1382\u001b[0m, in \u001b[0;36m_fit_context.<locals>.decorator.<locals>.wrapper\u001b[0;34m(estimator, *args, **kwargs)\u001b[0m\n\u001b[1;32m   1377\u001b[0m partial_fit_and_fitted \u001b[38;5;241m=\u001b[39m (\n\u001b[1;32m   1378\u001b[0m     fit_method\u001b[38;5;241m.\u001b[39m\u001b[38;5;18m__name__\u001b[39m \u001b[38;5;241m==\u001b[39m \u001b[38;5;124m\"\u001b[39m\u001b[38;5;124mpartial_fit\u001b[39m\u001b[38;5;124m\"\u001b[39m \u001b[38;5;129;01mand\u001b[39;00m _is_fitted(estimator)\n\u001b[1;32m   1379\u001b[0m )\n\u001b[1;32m   1381\u001b[0m \u001b[38;5;28;01mif\u001b[39;00m \u001b[38;5;129;01mnot\u001b[39;00m global_skip_validation \u001b[38;5;129;01mand\u001b[39;00m \u001b[38;5;129;01mnot\u001b[39;00m partial_fit_and_fitted:\n\u001b[0;32m-> 1382\u001b[0m     \u001b[43mestimator\u001b[49m\u001b[38;5;241;43m.\u001b[39;49m\u001b[43m_validate_params\u001b[49m\u001b[43m(\u001b[49m\u001b[43m)\u001b[49m\n\u001b[1;32m   1384\u001b[0m \u001b[38;5;28;01mwith\u001b[39;00m config_context(\n\u001b[1;32m   1385\u001b[0m     skip_parameter_validation\u001b[38;5;241m=\u001b[39m(\n\u001b[1;32m   1386\u001b[0m         prefer_skip_nested_validation \u001b[38;5;129;01mor\u001b[39;00m global_skip_validation\n\u001b[1;32m   1387\u001b[0m     )\n\u001b[1;32m   1388\u001b[0m ):\n\u001b[1;32m   1389\u001b[0m     \u001b[38;5;28;01mreturn\u001b[39;00m fit_method(estimator, \u001b[38;5;241m*\u001b[39margs, \u001b[38;5;241m*\u001b[39m\u001b[38;5;241m*\u001b[39mkwargs)\n",
      "File \u001b[0;32m~/Documents/UniMarburg/Hackathon/SCRIPTUM/venv/lib/python3.9/site-packages/sklearn/base.py:436\u001b[0m, in \u001b[0;36mBaseEstimator._validate_params\u001b[0;34m(self)\u001b[0m\n\u001b[1;32m    428\u001b[0m \u001b[38;5;28;01mdef\u001b[39;00m\u001b[38;5;250m \u001b[39m\u001b[38;5;21m_validate_params\u001b[39m(\u001b[38;5;28mself\u001b[39m):\n\u001b[1;32m    429\u001b[0m \u001b[38;5;250m    \u001b[39m\u001b[38;5;124;03m\"\"\"Validate types and values of constructor parameters\u001b[39;00m\n\u001b[1;32m    430\u001b[0m \n\u001b[1;32m    431\u001b[0m \u001b[38;5;124;03m    The expected type and values must be defined in the `_parameter_constraints`\u001b[39;00m\n\u001b[0;32m   (...)\u001b[0m\n\u001b[1;32m    434\u001b[0m \u001b[38;5;124;03m    accepted constraints.\u001b[39;00m\n\u001b[1;32m    435\u001b[0m \u001b[38;5;124;03m    \"\"\"\u001b[39;00m\n\u001b[0;32m--> 436\u001b[0m     \u001b[43mvalidate_parameter_constraints\u001b[49m\u001b[43m(\u001b[49m\n\u001b[1;32m    437\u001b[0m \u001b[43m        \u001b[49m\u001b[38;5;28;43mself\u001b[39;49m\u001b[38;5;241;43m.\u001b[39;49m\u001b[43m_parameter_constraints\u001b[49m\u001b[43m,\u001b[49m\n\u001b[1;32m    438\u001b[0m \u001b[43m        \u001b[49m\u001b[38;5;28;43mself\u001b[39;49m\u001b[38;5;241;43m.\u001b[39;49m\u001b[43mget_params\u001b[49m\u001b[43m(\u001b[49m\u001b[43mdeep\u001b[49m\u001b[38;5;241;43m=\u001b[39;49m\u001b[38;5;28;43;01mFalse\u001b[39;49;00m\u001b[43m)\u001b[49m\u001b[43m,\u001b[49m\n\u001b[1;32m    439\u001b[0m \u001b[43m        \u001b[49m\u001b[43mcaller_name\u001b[49m\u001b[38;5;241;43m=\u001b[39;49m\u001b[38;5;28;43mself\u001b[39;49m\u001b[38;5;241;43m.\u001b[39;49m\u001b[38;5;18;43m__class__\u001b[39;49m\u001b[38;5;241;43m.\u001b[39;49m\u001b[38;5;18;43m__name__\u001b[39;49m\u001b[43m,\u001b[49m\n\u001b[1;32m    440\u001b[0m \u001b[43m    \u001b[49m\u001b[43m)\u001b[49m\n",
      "File \u001b[0;32m~/Documents/UniMarburg/Hackathon/SCRIPTUM/venv/lib/python3.9/site-packages/sklearn/utils/_param_validation.py:98\u001b[0m, in \u001b[0;36mvalidate_parameter_constraints\u001b[0;34m(parameter_constraints, params, caller_name)\u001b[0m\n\u001b[1;32m     92\u001b[0m \u001b[38;5;28;01melse\u001b[39;00m:\n\u001b[1;32m     93\u001b[0m     constraints_str \u001b[38;5;241m=\u001b[39m (\n\u001b[1;32m     94\u001b[0m         \u001b[38;5;124mf\u001b[39m\u001b[38;5;124m\"\u001b[39m\u001b[38;5;132;01m{\u001b[39;00m\u001b[38;5;124m'\u001b[39m\u001b[38;5;124m, \u001b[39m\u001b[38;5;124m'\u001b[39m\u001b[38;5;241m.\u001b[39mjoin([\u001b[38;5;28mstr\u001b[39m(c)\u001b[38;5;250m \u001b[39m\u001b[38;5;28;01mfor\u001b[39;00m\u001b[38;5;250m \u001b[39mc\u001b[38;5;250m \u001b[39m\u001b[38;5;129;01min\u001b[39;00m\u001b[38;5;250m \u001b[39mconstraints[:\u001b[38;5;241m-\u001b[39m\u001b[38;5;241m1\u001b[39m]])\u001b[38;5;132;01m}\u001b[39;00m\u001b[38;5;124m or\u001b[39m\u001b[38;5;124m\"\u001b[39m\n\u001b[1;32m     95\u001b[0m         \u001b[38;5;124mf\u001b[39m\u001b[38;5;124m\"\u001b[39m\u001b[38;5;124m \u001b[39m\u001b[38;5;132;01m{\u001b[39;00mconstraints[\u001b[38;5;241m-\u001b[39m\u001b[38;5;241m1\u001b[39m]\u001b[38;5;132;01m}\u001b[39;00m\u001b[38;5;124m\"\u001b[39m\n\u001b[1;32m     96\u001b[0m     )\n\u001b[0;32m---> 98\u001b[0m \u001b[38;5;28;01mraise\u001b[39;00m InvalidParameterError(\n\u001b[1;32m     99\u001b[0m     \u001b[38;5;124mf\u001b[39m\u001b[38;5;124m\"\u001b[39m\u001b[38;5;124mThe \u001b[39m\u001b[38;5;132;01m{\u001b[39;00mparam_name\u001b[38;5;132;01m!r}\u001b[39;00m\u001b[38;5;124m parameter of \u001b[39m\u001b[38;5;132;01m{\u001b[39;00mcaller_name\u001b[38;5;132;01m}\u001b[39;00m\u001b[38;5;124m must be\u001b[39m\u001b[38;5;124m\"\u001b[39m\n\u001b[1;32m    100\u001b[0m     \u001b[38;5;124mf\u001b[39m\u001b[38;5;124m\"\u001b[39m\u001b[38;5;124m \u001b[39m\u001b[38;5;132;01m{\u001b[39;00mconstraints_str\u001b[38;5;132;01m}\u001b[39;00m\u001b[38;5;124m. Got \u001b[39m\u001b[38;5;132;01m{\u001b[39;00mparam_val\u001b[38;5;132;01m!r}\u001b[39;00m\u001b[38;5;124m instead.\u001b[39m\u001b[38;5;124m\"\u001b[39m\n\u001b[1;32m    101\u001b[0m )\n",
      "\u001b[0;31mInvalidParameterError\u001b[0m: The 'min_df' parameter of CountVectorizer must be a float in the range [0.0, 1.0] or an int in the range [1, inf). Got 0 instead."
     ]
    }
   ],
   "source": [
    "document_topic_matrix = model_keynmf.fit_transform_dynamic(\n",
    "    texts_clean[:N], timestamps=ts[:N], bins=20\n",
    ")\n",
    "\n",
    "# 100=N 20sec=time paraphrase-MiniLM-L3-v2\n",
    "# 100=N 35sec=time paraphrase-multilingual-mpnet-base-v2"
   ]
  },
  {
   "cell_type": "code",
   "execution_count": 282,
   "metadata": {},
   "outputs": [
    {
     "data": {
      "application/vnd.plotly.v1+json": {
       "config": {
        "plotlyServerURL": "https://plot.ly"
       },
       "data": [
        {
         "hovertemplate": "<b>%{text}</b>",
         "line": {
          "width": 3
         },
         "marker": {
          "color": "#2E91E5",
          "line": {
           "color": "black",
           "width": 2
          },
          "size": 14
         },
         "mode": "markers+lines",
         "name": "0_československý_československá_československo_československa",
         "text": [
          "československý, československo, československá, československých, československa, československé",
          "československý, československá, československo, československých, československa, československu",
          "československo, československá, československý, československých, československé, československa",
          "československo, československá, československý, československých, československa, československé",
          "československo, československá, československý, československých, československa, československé",
          "československá, československo, československý, československých, československa, československé",
          "československý, československá, československo, československých, československa, československu",
          "československo, československá, československý, československých, československa, československé",
          "československo, československá, československý, československých, československa, československé",
          "československá, československo, československý, československých, československa, československé"
         ],
         "type": "scatter",
         "x": [
          "1968-01-01T00:00:00",
          "1970-02-06T02:24:00",
          "1972-03-14T04:48:00",
          "1974-04-20T07:12:00",
          "1976-05-26T09:36:00",
          "1978-07-02T12:00:00",
          "1980-08-07T15:24:00",
          "1982-09-13T17:48:00",
          "1984-10-19T19:12:00",
          "1986-11-25T21:36:00"
         ],
         "y": {
          "bdata": "hz6+b5dTtD8697oIJYuwP5+aWN6DIKI/SEws7MvtrT+cEC2ZREiyP8zkXXwbKak/0Jx7VzhLqD/lKcSrBYGkPzGS6CLjkqM/joKdX+RppT8=",
          "dtype": "f8"
         }
        },
        {
         "hovertemplate": "<b>%{text}</b>",
         "line": {
          "width": 3
         },
         "marker": {
          "color": "#E15F99",
          "line": {
           "color": "black",
           "width": 2
          },
          "size": 14
         },
         "mode": "markers+lines",
         "name": "1_týdeníkczechoslovak_nybratislavany_osmdesát_československazvaní",
         "text": [
          "plzeňského, americkočeskoslovenský, leningradě, českoslovenku, osmdesát, výstavka",
          "americkému, ceskoslovenskoamericky, leningradě, celostátním, sovětském, americkosovětských",
          "týdeníkczechoslovak, českobratrsky, protisovětskou, tehdejších, presidentovi, czechoslovakamerican",
          "týdeníkczechoslovak, sovětská, americkému, protisovětskou, novinách, novinek",
          "týdeníkczechoslovak, sovětská, prosovětské, sovětskou, sovětském, ceskosloven",
          "týdeníkczechoslovak, nybratislavany, nypopradny, americkému, nakladatelství, sovětská",
          "týdeníkczechoslovak, československazvaní, týdeník, koslovenska, týdenníku, litevská",
          "týdeníkczechoslovak, týdeník, nacismu, gestapa, časopisu, ceskoslovenska",
          "týdeníkczechoslovak, týdeník, sovětském, bratislavy, americkočeskoslovenský, polsku",
          "týdeníkczechoslovak, slovakia, novinám, zpravodajství, listytýdeník, novinkách"
         ],
         "type": "scatter",
         "x": [
          "1968-01-01T00:00:00",
          "1970-02-06T02:24:00",
          "1972-03-14T04:48:00",
          "1974-04-20T07:12:00",
          "1976-05-26T09:36:00",
          "1978-07-02T12:00:00",
          "1980-08-07T15:24:00",
          "1982-09-13T17:48:00",
          "1984-10-19T19:12:00",
          "1986-11-25T21:36:00"
         ],
         "y": {
          "bdata": "IY0TRbbNGj9/l1RxJckYP2kf1IfdqpM/yWG+plJxlz/PoulsD1eaPwKeZeGaLpU/PSqFaDSzlT/76OtnaVCUP7h9bq5u3ZI/9SnxHOaWZj8=",
          "dtype": "f8"
         }
        },
        {
         "hovertemplate": "<b>%{text}</b>",
         "line": {
          "width": 3
         },
         "marker": {
          "color": "#1CA71C",
          "line": {
           "color": "black",
           "width": 2
          },
          "size": 14
         },
         "mode": "markers+lines",
         "name": "2_slováci_tschecho_czcchoslovak_plzeňského",
         "text": [
          "slováci, švýcarska, švýcarští, švábenského, czcchoslovak, švýcarská",
          "slováci, švýcarský, němčiny, mimopražských, tschechoslo, švýcarským",
          "slováci, německému, nacismem, národm, češi, rakouskouhersko",
          "slováci, serjožu, ustláno, zradou, discours, zvěst",
          "slováci, slovákom, bratislavskej, výstavě, výstavu, výstava",
          "slováci, benediktovi, vlastenecký, pavlv, plzeňského, zahraničněpoli",
          "slováci, východoevropským, slovenskému, vrtbovské, československav, východoevropských",
          "slováci, apoštolské, jiříeichenstrasse, staroslověnském, pravoslavného, českobratrskou",
          "slováci, starými, vcházel, zdaru, tují, napomíná",
          "slováci, svazech, perestrojky, filozofovy, filozofují, preložil"
         ],
         "type": "scatter",
         "x": [
          "1968-01-01T00:00:00",
          "1970-02-06T02:24:00",
          "1972-03-14T04:48:00",
          "1974-04-20T07:12:00",
          "1976-05-26T09:36:00",
          "1978-07-02T12:00:00",
          "1980-08-07T15:24:00",
          "1982-09-13T17:48:00",
          "1984-10-19T19:12:00",
          "1986-11-25T21:36:00"
         ],
         "y": {
          "bdata": "36h80JG5hT8VVeP8o5h+P8ZNwhvtlXw/Oh8hWhlNeT+gGdssgGd4P1OuzqPNRH0/CCUs4I0rgT+Lp3cKWWKEP2v5FWNx3X8/M+sewswZfT8=",
          "dtype": "f8"
         }
        },
        {
         "hovertemplate": "<b>%{text}</b>",
         "line": {
          "width": 3
         },
         "marker": {
          "color": "#FB0D0D",
          "line": {
           "color": "black",
           "width": 2
          },
          "size": 14
         },
         "mode": "markers+lines",
         "name": "3_slovenskí_slovenskej_slovensku_slovacche",
         "text": [
          "slovákom, mnichovská, úřadem, štátnej, slovenkou, režimních",
          "slovákom, slovenska, bratislavského, kroměřížském, tchécoslovaqucs, wyszyňski",
          "slovákom, slovenskej, přednesl, slovákmi, francouzskočeskoslovenské, vlastencem",
          "slovenských, popularczechoslovak, slovenském, slovenskú, svatováclavské, slovákmi",
          "slovenskej, slovenskými, slowakischen, slovakians, slovakische, slovaca",
          "slovensky, slovensku, slovenskému, slovacche, slovenskom, slovenskú",
          "slovenskí, slovensku, slovacche, slovenským, slovensky, slovenska",
          "slovenskí, slovensku, slovenskú, slovenskej, slovacche, slovenskom",
          "slovenskej, slovensky, slovenskí, slovensku, slovenskú, slovenským",
          "slovenska, slovenskí, slovenskej, slovensku, slovacche, slovacco"
         ],
         "type": "scatter",
         "x": [
          "1968-01-01T00:00:00",
          "1970-02-06T02:24:00",
          "1972-03-14T04:48:00",
          "1974-04-20T07:12:00",
          "1976-05-26T09:36:00",
          "1978-07-02T12:00:00",
          "1980-08-07T15:24:00",
          "1982-09-13T17:48:00",
          "1984-10-19T19:12:00",
          "1986-11-25T21:36:00"
         ],
         "y": {
          "bdata": "paXE3A68QD8adC/VYqRSP5Jgj3m64UM/zqdcZvqRWT+HEloZcuBjP3PPDV5GRIU/8wmQZ/y2iz+ArtLdYdCaP11CbgKgh3s/mTRi0lbzjz8=",
          "dtype": "f8"
         }
        },
        {
         "hovertemplate": "<b>%{text}</b>",
         "line": {
          "width": 3
         },
         "marker": {
          "color": "#DA16FF",
          "line": {
           "color": "black",
           "width": 2
          },
          "size": 14
         },
         "mode": "markers+lines",
         "name": "4_sovětského_sovětské_sovětský_sovětských",
         "text": [
          "sovětské, sovětského, sovětských, sovětský, sovětským, sovětskou",
          "sovětské, sovětského, sovětským, sovětských, sovětský, sovětském",
          "sovětské, sovětských, sovětského, sovětský, sovětským, sovětská",
          "sovětského, sovětské, sovětský, sovětským, sovětských, sovětskou",
          "sovětského, sovětské, sovětský, sovětských, sovětským, sovětskou",
          "sovětského, sovětský, sovětské, sovětskou, sovětským, sovětská",
          "sovětského, sovětské, sovětských, sovětský, sovětskou, sovětským",
          "sovětské, sovětského, sovětských, sovětský, sovětským, sovětskou",
          "sovětského, sovětské, sovětský, sovětskou, sovětských, sovětském",
          "sovětského, sovětské, sovětských, sovětský, sovětským, sovětském"
         ],
         "type": "scatter",
         "x": [
          "1968-01-01T00:00:00",
          "1970-02-06T02:24:00",
          "1972-03-14T04:48:00",
          "1974-04-20T07:12:00",
          "1976-05-26T09:36:00",
          "1978-07-02T12:00:00",
          "1980-08-07T15:24:00",
          "1982-09-13T17:48:00",
          "1984-10-19T19:12:00",
          "1986-11-25T21:36:00"
         ],
         "y": {
          "bdata": "EaNjN1evkz9ecL6wOseiPyjNfwknrqI/Rv5QtqUloz9s8CP4m1qcP1uVpyIvH50/hB6C+10Imz9VG6vjz86SP3rGe+HkiJM/M2xVg0O2kj8=",
          "dtype": "f8"
         }
        },
        {
         "hovertemplate": "<b>%{text}</b>",
         "line": {
          "width": 3
         },
         "marker": {
          "color": "#222A2A",
          "line": {
           "color": "black",
           "width": 2
          },
          "size": 14
         },
         "mode": "markers+lines",
         "name": "5_češtiny_češtinou_slovenštiny_vyšehrad",
         "text": [
          "češtiny, kroměřížského, vydával, czcchoslovak, pravoslavném, českobudějovický",
          "češtiny, středočeském, vydávání, zbrojovka, vydány, varhany",
          "češtiny, měsíčník, češkou, papežských, vatikánský, papežovým",
          "češtiny, češtinou, register, zurzach, zaznamenává, vládnych",
          "češtiny, bělehradské, brněnské, publikoval, svatováclavských, dokladem",
          "češtiny, vyšehradském, slovákmi, slovenštině, zváni, svést",
          "češtiny, bürgerhausu, slovenštiny, vkladatelům, czeslava, chvalozpěv",
          "češtiny, vítězslav, západoněmeckého, wittkoppel, zavedl, zazní",
          "češtiny, čtenářsky, slovenštiny, slovenskej, kreuzplatz, itali",
          "češtiny, češtinou, vyšehrad, brněnského, slováka, slovenštiny"
         ],
         "type": "scatter",
         "x": [
          "1968-01-01T00:00:00",
          "1970-02-06T02:24:00",
          "1972-03-14T04:48:00",
          "1974-04-20T07:12:00",
          "1976-05-26T09:36:00",
          "1978-07-02T12:00:00",
          "1980-08-07T15:24:00",
          "1982-09-13T17:48:00",
          "1984-10-19T19:12:00",
          "1986-11-25T21:36:00"
         ],
         "y": {
          "bdata": "Og+BlVS4oD/2z8FADGWmP5Iv/vUVsKY/iBGrFTTDoT+S0ZfBCbmdP/qYqfwhTZw/8mIMxlmmoj+v2KVrH7WiPztrZvcZUKk/alSOi8KJoD8=",
          "dtype": "f8"
         }
        },
        {
         "hovertemplate": "<b>%{text}</b>",
         "line": {
          "width": 3
         },
         "marker": {
          "color": "#B68100",
          "line": {
           "color": "black",
           "width": 2
          },
          "size": 14
         },
         "mode": "markers+lines",
         "name": "6_kristem_kristově_kristovým_farností",
         "text": [
          "kristem, světských, kristovým, weltwoche, zasvětí, děkanovi",
          "kristem, zasvěcen, svatému, spásu, bohoslovce, svatořečen",
          "kristem, eucharistií, světcovým, adventního, vatikánskému, eucharistického",
          "kristem, kristovým, vatikáně, evangelíci, vysvěceni, evangeliu",
          "kristem, zbožnost, svátost, svátostnou, ježíšovi, zbožným",
          "kristem, vyznání, svatost, kristv, světcem, eucharistii",
          "kristem, farností, svatí, kristově, vysvěcen, zbožnost",
          "kristem, vírou, kristově, pobožnost, bohoslužbu, svaté",
          "kristem, svatí, kristově, kristových, kristovým, vírou",
          "kristem, křestanství, svatosti, kristově, kristových, vírou"
         ],
         "type": "scatter",
         "x": [
          "1968-01-01T00:00:00",
          "1970-02-06T02:24:00",
          "1972-03-14T04:48:00",
          "1974-04-20T07:12:00",
          "1976-05-26T09:36:00",
          "1978-07-02T12:00:00",
          "1980-08-07T15:24:00",
          "1982-09-13T17:48:00",
          "1984-10-19T19:12:00",
          "1986-11-25T21:36:00"
         ],
         "y": {
          "bdata": "J8ho+QfeNT+vrmZflvJAPx/k6RD6ZkY/s6+SY0bjWT/CMecBI7tkP/wMEusgoWI/LsPN0qsmZz9HPvAPqfZkP6Ui06FRM2k/NvXAziGRZD8=",
          "dtype": "f8"
         }
        },
        {
         "hovertemplate": "<b>%{text}</b>",
         "line": {
          "width": 3
         },
         "marker": {
          "color": "#750D86",
          "line": {
           "color": "black",
           "width": 2
          },
          "size": 14
         },
         "mode": "markers+lines",
         "name": "7_slovák_slováka_vyšehrad_jubilejním",
         "text": [
          "slovák, kroměřížského, velekněžské, projevu, projevy, vyhlásilo",
          "slovák, kolínského, bohuslava, brněnského, bohoslovc, staročeskou",
          "slovák, naardenské, zradou, švejka, beethovena, pěvecký",
          "slovák, češtinou, udivenému, slezska, bělehradský, hostitelské",
          "slovák, zaslal, zakládal, zvou, ľudovítovi, bečela",
          "slovák, slováku, vyslovil, zavedli, pěvecký, ježišovi",
          "slovák, vojtěchem, zval, vzat, vojtěchova, nazvat",
          "slovák, slováka, zasvětil, vyšehrad, poukázal, vyhlásil",
          "slovák, slováku, kdyz, básníka, básník, básníci",
          "slovák, slováka, zajistil, vlaatně, budějovicích, zváni"
         ],
         "type": "scatter",
         "x": [
          "1968-01-01T00:00:00",
          "1970-02-06T02:24:00",
          "1972-03-14T04:48:00",
          "1974-04-20T07:12:00",
          "1976-05-26T09:36:00",
          "1978-07-02T12:00:00",
          "1980-08-07T15:24:00",
          "1982-09-13T17:48:00",
          "1984-10-19T19:12:00",
          "1986-11-25T21:36:00"
         ],
         "y": {
          "bdata": "zsfgZ5cvlz+YJx3VsrWaP2UnK96bkJM/5yc8JlEzmT8XQNsXZG6XP/duWiu0b5E/sIJggRoEjz9ZZuanlBiYP8jqok8oc5A/t62EnyYwkz8=",
          "dtype": "f8"
         }
        },
        {
         "hovertemplate": "<b>%{text}</b>",
         "line": {
          "width": 3
         },
         "marker": {
          "color": "#EB663B",
          "line": {
           "color": "black",
           "width": 2
          },
          "size": 14
         },
         "mode": "markers+lines",
         "name": "8_vlasti_vlast_státníci_předložili",
         "text": [
          "vlasti, a3československo, vlast, pořádala, vládního, novin",
          "vlasti, vládám, vládního, národu, novin, novinka",
          "vlasti, ukrajinc, sdružení, vydáni, československoamerický, režimem",
          "vlasti, předložili, vládnych, vlast, státníky, vyšehradským",
          "vlasti, článk, státem, režimní, vlasta, novinka",
          "vlasti, vládními, parlamentu, stíhaných, persekvováni, vládám",
          "vlasti, správy, nařídili, amerikou, stát, informovali",
          "vlasti, zákonnosti, sovětů, amerika, státnost, dokladem",
          "vlasti, zpravodajské, hlásíme, vlast, soudruh, poválečném",
          "vlasti, občanského, povstání, uvádíme, režimních, vlast"
         ],
         "type": "scatter",
         "x": [
          "1968-01-01T00:00:00",
          "1970-02-06T02:24:00",
          "1972-03-14T04:48:00",
          "1974-04-20T07:12:00",
          "1976-05-26T09:36:00",
          "1978-07-02T12:00:00",
          "1980-08-07T15:24:00",
          "1982-09-13T17:48:00",
          "1984-10-19T19:12:00",
          "1986-11-25T21:36:00"
         ],
         "y": {
          "bdata": "8+6RE+jXoz/wx8oCLX2rPyBE5JwXmKw/vG/XJtMopT9i2jJ2NFSoP2Du7AgDa6Y/cqGCJhYSmj/6AlEYGpWeP9sur9VA/6A/Snt1oEpsnD8=",
          "dtype": "f8"
         }
        },
        {
         "hovertemplate": "<b>%{text}</b>",
         "line": {
          "width": 3
         },
         "marker": {
          "color": "#511CFB",
          "line": {
           "color": "black",
           "width": 2
          },
          "size": 14
         },
         "mode": "markers+lines",
         "name": "9_německo_německa_německu_nemecku",
         "text": [
          "německa, rakouskem, metzgerei, švýcarm, německu, habsburskému",
          "německo, německa, německu, západoněmecké, německým, rakouským",
          "německo, německa, německu, německem, nemecku, němečtí",
          "německo, österreich, nemecku, německu, deutschland, rakouském",
          "německo, německa, nemecku, nemecko, západoněmeckých, západoněmeckým",
          "německo, německu, německa, nemecku, bundesrepublik, deutschland",
          "německo, nemecku, bundesrepublik, německa, německu, bürgerhausu",
          "německo, německa, nemecku, německu, západoněmeckých, bundesrepublik",
          "německo, německa, bundesrepublik, německu, brněnské, scharfreiterplatz",
          "německo, německa, německu, západoněmeckého, němci, scharfreiterplatz"
         ],
         "type": "scatter",
         "x": [
          "1968-01-01T00:00:00",
          "1970-02-06T02:24:00",
          "1972-03-14T04:48:00",
          "1974-04-20T07:12:00",
          "1976-05-26T09:36:00",
          "1978-07-02T12:00:00",
          "1980-08-07T15:24:00",
          "1982-09-13T17:48:00",
          "1984-10-19T19:12:00",
          "1986-11-25T21:36:00"
         ],
         "y": {
          "bdata": "1KSjtf6HIT8vsH23WetCP+TfA+qqXkQ/mtUV+fqVPT8MyFg5mrY5P82UeJPuPz8/TPe8rXXRNz8ShkOzF4Q5P74R894baz8/dielOna8ND8=",
          "dtype": "f8"
         }
        },
        {
         "hovertemplate": "<b>%{text}</b>",
         "line": {
          "width": 3
         },
         "marker": {
          "color": "#00A08B",
          "line": {
           "color": "black",
           "width": 2
          },
          "size": 14
         },
         "mode": "markers+lines",
         "name": "10_českoslovenští_východoslovenského_demokracii_republikou",
         "text": [
          "českoslovenští, republiku, tschecho, českí, švýcarskem, češke",
          "českoslovenští, československosovětské, švýcarskému, švýcary, východoslovenském, švýcarm",
          "českoslovenští, slezsko, brněnském, socialisté, protistátní, ceskoslovenskoamerický",
          "českoslovenští, americkočeskosloven, politickému, československosovětské, politickou, antikomunistickou",
          "českoslovenští, francotchécoslovaque, zveřejněna, americkým, komunistickou, týdeníky",
          "českoslovenští, brněnskou, republikou, nemeckými, zámeckého, poštovného",
          "českoslovenští, plzeňského, sovětsky, odborářskou, odborově, odborovém",
          "českoslovenští, zváni, bratislavou, svatovítské, slovanskému, československomj",
          "českoslovenští, americkému, zrad, umlčí, svěřit, projevoval",
          "českoslovenští, eskoslovensku, komunističtí, demokracii, vězeňského, brněnských"
         ],
         "type": "scatter",
         "x": [
          "1968-01-01T00:00:00",
          "1970-02-06T02:24:00",
          "1972-03-14T04:48:00",
          "1974-04-20T07:12:00",
          "1976-05-26T09:36:00",
          "1978-07-02T12:00:00",
          "1980-08-07T15:24:00",
          "1982-09-13T17:48:00",
          "1984-10-19T19:12:00",
          "1986-11-25T21:36:00"
         ],
         "y": {
          "bdata": "w+v6CEE7bz8OpqKFBMVqP8gIFhaE418/nwhOACgEZj/zubC8XaRmP7uxPQYq0WY/MfkE5ATcZz/qgcJ/D3lnPyGCZExO+GM/KJoUErxJYj8=",
          "dtype": "f8"
         }
        },
        {
         "hovertemplate": "<b>%{text}</b>",
         "line": {
          "width": 3
         },
         "marker": {
          "color": "#FB00D1",
          "line": {
           "color": "black",
           "width": 2
          },
          "size": 14
         },
         "mode": "markers+lines",
         "name": "11_rakousku_rakouské_rakouska_rakouského",
         "text": [
          "rakousku, rakouska, rakouských, rakouské, rakouského, švýcarskými",
          "rakousku, rakouské, rakouska, západoněmeckém, rakouských, dortmundu",
          "rakouský, rakousku, schweizerische, uetlibergstrasse, německy, rakouské",
          "rakousku, rakouská, rakouska, rakouské, rakouském, rakouského",
          "rakousku, rakouska, rakouský, rakouském, rakouská, československí",
          "rakousku, rakouské, rakouského, rakouska, rakouských, německu",
          "rakouské, rakouského, rakouský, rakousku, rakouska, německu",
          "rakouské, rakousku, německu, rakouskou, rakouska, rakouskem",
          "rakousku, rakouska, rakouských, rakouský, rakouském, němeček",
          "rakouské, rakouského, rakouská, rakouskou, rakouském, němcová"
         ],
         "type": "scatter",
         "x": [
          "1968-01-01T00:00:00",
          "1970-02-06T02:24:00",
          "1972-03-14T04:48:00",
          "1974-04-20T07:12:00",
          "1976-05-26T09:36:00",
          "1978-07-02T12:00:00",
          "1980-08-07T15:24:00",
          "1982-09-13T17:48:00",
          "1984-10-19T19:12:00",
          "1986-11-25T21:36:00"
         ],
         "y": {
          "bdata": "3lBDyBZRgT+EHQYrhaWVP95OR4DG2IM/GDg7rzxNlz/M19cfQkx9P7lfKpKXNok/PaQytNi2cT+ZAcuwcXt9Pw9qtgXXRXs/BbWHjhrxaD8=",
          "dtype": "f8"
         }
        },
        {
         "hovertemplate": "<b>%{text}</b>",
         "line": {
          "width": 3
         },
         "marker": {
          "color": "#FC0080",
          "line": {
           "color": "black",
           "width": 2
          },
          "size": 14
         },
         "mode": "markers+lines",
         "name": "12_tomu_těm_kterém_zas",
         "text": [
          "tomu, učinili, rozpomněl, rokmi, vyzývali, hádám",
          "tomu, považovat, informacekulturapolitikalist, vlastenčení, státovek, vlastenecké",
          "tomu, prozradili, zas, zavání, odehrávalo, vyvalil",
          "tomu, poznamenal, krajané, projevil, uvádí, těmito",
          "tomu, měly, zas, vydali, poznamenal, svorně",
          "tomu, kterém, těm, zas, rá, kterých",
          "tomu, kterém, během, píší, odehrává, hodinou",
          "tomu, měli, považovat, reformě, těm, svazu",
          "tomu, tvrdí, année, psali, kterého, mínění",
          "tomu, těm, kterém, kterému, měli, mínění"
         ],
         "type": "scatter",
         "x": [
          "1968-01-01T00:00:00",
          "1970-02-06T02:24:00",
          "1972-03-14T04:48:00",
          "1974-04-20T07:12:00",
          "1976-05-26T09:36:00",
          "1978-07-02T12:00:00",
          "1980-08-07T15:24:00",
          "1982-09-13T17:48:00",
          "1984-10-19T19:12:00",
          "1986-11-25T21:36:00"
         ],
         "y": {
          "bdata": "gFy1dWWAEj/iGj2axzUlP7LMlNbUHkQ/jK7YSDpiRz9oJUObEZ5IP8Si5u8lh0s/8uCktGhoPD9rb0FQWcROP27+hCVZv0k/7RbG2hSYTD8=",
          "dtype": "f8"
         }
        },
        {
         "hovertemplate": "<b>%{text}</b>",
         "line": {
          "width": 3
         },
         "marker": {
          "color": "#B2828D",
          "line": {
           "color": "black",
           "width": 2
          },
          "size": 14
         },
         "mode": "markers+lines",
         "name": "13_římě_říma_itálii_italia",
         "text": [
          "itálii, římě, říma, vatikánského, romaitaliařídí, řím",
          "češtinou, říma, vládního, římského, římský, římským",
          "římě, říma, roma, italia, vatikánské, itálii",
          "itálii, italia, římě, řím, říma, roma",
          "itálie, itálii, italové, italská, italského, říma",
          "itálii, itálie, italský, italštiny, italských, italové",
          "papežských, christiana, římskému, kanonizovaného, evangeliích, římského",
          "říma, římě, křestanská, křestanský, křestanského, křestanské",
          "itálii, římě, říma, roma, vatikánské, římské",
          "říma, římě, řadě, vatikánským, upozorňujeme, katholische"
         ],
         "type": "scatter",
         "x": [
          "1968-01-01T00:00:00",
          "1970-02-06T02:24:00",
          "1972-03-14T04:48:00",
          "1974-04-20T07:12:00",
          "1976-05-26T09:36:00",
          "1978-07-02T12:00:00",
          "1980-08-07T15:24:00",
          "1982-09-13T17:48:00",
          "1984-10-19T19:12:00",
          "1986-11-25T21:36:00"
         ],
         "y": {
          "bdata": "DBjVNAQmmD8rb9Zu2ZxdP/3VbpUXfKQ/FEHKi6nmoT/Jf+lT0iJvPxY5fAc1t2w/DdYzt+g6TD+BR+hwRSJdP4HocH2px5U/127JDwmZVz8=",
          "dtype": "f8"
         }
        },
        {
         "hovertemplate": "<b>%{text}</b>",
         "line": {
          "width": 3
         },
         "marker": {
          "color": "#6C7C32",
          "line": {
           "color": "black",
           "width": 2
          },
          "size": 14
         },
         "mode": "markers+lines",
         "name": "14_československém_češkou_listyweekly_mimopražských",
         "text": [
          "československém, komunismus, suisse, svatováclavským, antikomunismu, tisovětská",
          "československém, čechu, východoevropského, politbyru, východoněmeckém, západoberlín",
          "československém, nemecku, československoamerický, německými, novinové, zemím",
          "československém, češkou, czcchoslovak, východoněmeckou, ceskoslovensku, hessenského",
          "československém, svatováclavských, plzeňského, češtinou, češkou, češku",
          "československém, plzeňského, rakouský, amerikou, češkou, slovákom",
          "československém, české, poštovného, mnichovského, protisovětský, maďar",
          "československém, novinách, komunistickému, prosovětské, svatováclavská, slovanském",
          "československém, češku, mnichovskému, rakouskému, krajana, českoslovsenska",
          "československém, listyweekly, východoslovenského, západoněmecké, němcová, československopolské"
         ],
         "type": "scatter",
         "x": [
          "1968-01-01T00:00:00",
          "1970-02-06T02:24:00",
          "1972-03-14T04:48:00",
          "1974-04-20T07:12:00",
          "1976-05-26T09:36:00",
          "1978-07-02T12:00:00",
          "1980-08-07T15:24:00",
          "1982-09-13T17:48:00",
          "1984-10-19T19:12:00",
          "1986-11-25T21:36:00"
         ],
         "y": {
          "bdata": "B8BmBMx6rT9GxkZdJwCmP3ReWTG5RJ0/uPbKYOV8pT8RSy7uOkSkP2kTr0far6M/xTNQxtheoz8fQaYdIR6jPyDSGidHSac/LNzqIZc+oD8=",
          "dtype": "f8"
         }
        },
        {
         "hovertemplate": "<b>%{text}</b>",
         "line": {
          "width": 3
         },
         "marker": {
          "color": "#778AAE",
          "line": {
           "color": "black",
           "width": 2
          },
          "size": 14
         },
         "mode": "markers+lines",
         "name": "15_československým_czcchoslovak_východoevropské_českoněmecký",
         "text": [
          "československým, československosovět, komunismus, czcchoslovak, komunistického, koslovenskosovětského",
          "československým, republikou, ministerstvo, švýcary, úřední, czcchoslovak",
          "československým, americkoevropských, mnichovském, rakouském, gothajského, ceskoslovenská",
          "československým, tchccoslovaques, vydáních, leningradě, zemím, mezinárodnímu",
          "československým, sovětší, vídeňského, východoněmeckým, brněnským, německém",
          "československým, slováka, československopol, československosovětského, letovisku, sletovém",
          "československým, vladimírem, yorské, východoněmecké, czechamerican, slovákom",
          "československým, českýho, vladimíre, československoněmeckou, vkladatelům, czcchoslovak",
          "československým, publikovány, čechošvýcarka, českobudějovické, nemcami, týdne",
          "československým, sovětském, slezsko, polský, sociálnodemokratickej, sociálnodemokratická"
         ],
         "type": "scatter",
         "x": [
          "1968-01-01T00:00:00",
          "1970-02-06T02:24:00",
          "1972-03-14T04:48:00",
          "1974-04-20T07:12:00",
          "1976-05-26T09:36:00",
          "1978-07-02T12:00:00",
          "1980-08-07T15:24:00",
          "1982-09-13T17:48:00",
          "1984-10-19T19:12:00",
          "1986-11-25T21:36:00"
         ],
         "y": {
          "bdata": "Gt153NediD+/AdShTVaGP8KHVDg2t3s/yP3NQPafdz/6Zbc0G+SCP4HuDsSKv3s/FNfE9Uc0gj/W7P0rnQ6AP7ua0A+FgIA/JTyeQPftfj8=",
          "dtype": "f8"
         }
        },
        {
         "hovertemplate": "<b>%{text}</b>",
         "line": {
          "width": 3
         },
         "marker": {
          "color": "#862A16",
          "line": {
           "color": "black",
           "width": 2
          },
          "size": 14
         },
         "mode": "markers+lines",
         "name": "16_československo_koslovenské_československu_sovětské",
         "text": [
          "československo, helvetotchécoslovaques, ceskoslovenskoamcrický, choslovakia, sovětskému, jugoslávské",
          "československo, socialismu, sovětském, antikomunismu, sovětskoame, protisocialistické",
          "československo, ústav, letovisko, američtí, amerikou, ameriky",
          "československo, 1945, republikou, hitlerem, kongresu, sovětskoamerických",
          "československo, vládám, jugoslávským, komunistickému, eurokomunizmu, eurokomunizmus",
          "československo, mezistátním, polsko, čssrmaďarsko, mezinárodní, zahraničněpolitické",
          "československo, československazvaní, československu, československa, koslovenského, americkém",
          "československo, celospolečensky, vdcovským, novosibirský, zaslavské, dubčekovo",
          "československo, koslovenské, osvobozenecké, bratislavy, německosovětského, východoevropanm",
          "československo, maďarský, polskočeskoslovenská, maďarskí, sovětské, koslovenské"
         ],
         "type": "scatter",
         "x": [
          "1968-01-01T00:00:00",
          "1970-02-06T02:24:00",
          "1972-03-14T04:48:00",
          "1974-04-20T07:12:00",
          "1976-05-26T09:36:00",
          "1978-07-02T12:00:00",
          "1980-08-07T15:24:00",
          "1982-09-13T17:48:00",
          "1984-10-19T19:12:00",
          "1986-11-25T21:36:00"
         ],
         "y": {
          "bdata": "0lL2WmgGOT+TXLgGMXo0Px19SWnSkTA/MJuLtyLoMT9IykO8fBwvP1/HybKGZzM/9i5ovsH2Nj8dkgzryKo0P6LeBVXpzzI/jucu7uAvMj8=",
          "dtype": "f8"
         }
        },
        {
         "hovertemplate": "<b>%{text}</b>",
         "line": {
          "width": 3
         },
         "marker": {
          "color": "#A777F1",
          "line": {
           "color": "black",
           "width": 2
          },
          "size": 14
         },
         "mode": "markers+lines",
         "name": "17_komunistické_komunisté_komunistického_komunistických",
         "text": [
          "komunistické, komunistických, komunistického, komunistická, komunisté, komunistický",
          "komunistické, komunisté, komunistického, komunistickou, komunisty, komunistických",
          "komunisté, komunistického, komunistické, komunistická, komunistických, komunisty",
          "komunisté, komunistické, komunistická, komunistický, komunistických, komunistického",
          "komunistické, komunistického, komunistických, komunistickým, komunistickou, komunisté",
          "komunistické, komunistického, komunisté, komunistickém, komunistický, komunistická",
          "komunistického, komunistické, komunisté, komunistických, komunisty, komunistickým",
          "komunisté, komunistické, komunistickou, komunistického, komunistických, komunistická",
          "komunisté, komunistického, komunistické, komunistických, komunismu, komunistický",
          "komunistické, komunistických, komunisté, komunistická, komunisty, komunismu"
         ],
         "type": "scatter",
         "x": [
          "1968-01-01T00:00:00",
          "1970-02-06T02:24:00",
          "1972-03-14T04:48:00",
          "1974-04-20T07:12:00",
          "1976-05-26T09:36:00",
          "1978-07-02T12:00:00",
          "1980-08-07T15:24:00",
          "1982-09-13T17:48:00",
          "1984-10-19T19:12:00",
          "1986-11-25T21:36:00"
         ],
         "y": {
          "bdata": "IBbPJ2MamT9k6lIju0CcP95tX6KiYJE/RGnq3j0okD8ohQc4gSCEP2Nqq73Ve5A/RQzM+kpDgz9PbRfh6LiEPyIS3St9aIQ/OEobJdZKgD8=",
          "dtype": "f8"
         }
        },
        {
         "hovertemplate": "<b>%{text}</b>",
         "line": {
          "width": 3
         },
         "marker": {
          "color": "#620042",
          "line": {
           "color": "black",
           "width": 2
          },
          "size": 14
         },
         "mode": "markers+lines",
         "name": "18_čechách_česka_češích_čechové",
         "text": [
          "čechách, tchèques, tchecoslovaques, slováku, česka, čechoslovákovi",
          "čechách, czcchoslovak, tschechoslowakische, tchécoslovaqucs, chechoslovakia, ceskoslovenskoamerický",
          "čechách, čechu, slezsku, přednesl, eskoslovenských, eskoslovenský",
          "čechách, jihoslovanského, protisovětskou, češkou, jihoslovanských, leningradské",
          "čechách, slovenské, českoamerické, ceskosloven, československosovět, čechové",
          "čechách, češku, zdvodňoval, kazateli, kterém, zýval",
          "čechách, československosovětského, občané, koslovenska, vyšehradském, slezsku",
          "čechách, češích, vídeňská, novomeským, shromáždění, stanislav",
          "čechách, kristova, československú, vídeňská, čechové, evropa",
          "čechách, čechové, češkou, tschechoslowakische, tjeckoslovakien, czechoslova"
         ],
         "type": "scatter",
         "x": [
          "1968-01-01T00:00:00",
          "1970-02-06T02:24:00",
          "1972-03-14T04:48:00",
          "1974-04-20T07:12:00",
          "1976-05-26T09:36:00",
          "1978-07-02T12:00:00",
          "1980-08-07T15:24:00",
          "1982-09-13T17:48:00",
          "1984-10-19T19:12:00",
          "1986-11-25T21:36:00"
         ],
         "y": {
          "bdata": "p15kVNaUjD/+kewXjp5/P9DGNwWz+3g/BCu2wcHOgD++0x7j4neDP8XULgnkYIM/nhzofivAjz+qC0Cp2r6QP9p4YgRlSo4/u3sFYhtigz8=",
          "dtype": "f8"
         }
        },
        {
         "hovertemplate": "<b>%{text}</b>",
         "line": {
          "width": 3
         },
         "marker": {
          "color": "#1616A7",
          "line": {
           "color": "black",
           "width": 2
          },
          "size": 14
         },
         "mode": "markers+lines",
         "name": "19_slováky_plzeňském_mimopražských_koslovenské",
         "text": [
          "slováky, švýcarskému, východoslovenských, překládal, slovákovi, zastavárny",
          "slováky, novočeskými, konstruktéra, pojišťovny, inženýrská, rakouskouherské",
          "slováky, klagenfurterstr, západoněmeckým, vlastech, clevelandské, vydaly",
          "slováky, ludwigsburg, revue, považovali, hoferstraße, vydávali",
          "slováky, slovácko, prešovské, svatováclavskou, kristovu, slovákom",
          "slováky, hifitelevizorykrajanskě, českoslo, slovenštině, koslovenska, brněnského",
          "slováky, koslovenské, západoněmeckým, slovenském, brněnský, mnichovská",
          "slováky, uherský, slováku, václavském, češtinou, západoněmecké",
          "slováky, německými, západoněmeckém, verši, západoněmeckou, českoslovenksu",
          "slováky, čáslavská, budapešťského, koslovenské, mnichovskou, mimopražských"
         ],
         "type": "scatter",
         "x": [
          "1968-01-01T00:00:00",
          "1970-02-06T02:24:00",
          "1972-03-14T04:48:00",
          "1974-04-20T07:12:00",
          "1976-05-26T09:36:00",
          "1978-07-02T12:00:00",
          "1980-08-07T15:24:00",
          "1982-09-13T17:48:00",
          "1984-10-19T19:12:00",
          "1986-11-25T21:36:00"
         ],
         "y": {
          "bdata": "dtSdAdX3lz+V7crYkTyQP93kivCOjIM/052EAEwcfj/cpnnJEeOEP6wISKb5lYU/4U7KLe4Ohz96JCi0sdqKP7AJRhMtTYk/PqA7/so0gj8=",
          "dtype": "f8"
         }
        },
        {
         "hovertemplate": "<b>%{text}</b>",
         "line": {
          "width": 3
         },
         "marker": {
          "color": "#DA60CA",
          "line": {
           "color": "black",
           "width": 2
          },
          "size": 14
         },
         "mode": "markers+lines",
         "name": "20_československem_novoroční_osvobozenecké_československosovětského",
         "text": [
          "československem, sdělení, skoslovenské, sovětskočeskoslovenské, štátnej, současnou",
          "československem, mimopražských, prešovské, chorvat, přeložen, zurzachu",
          "československem, studiích, vydáním, středočeském, uveřejnily, vydáváme",
          "československem, scharfreiterplatz, zemích, středoevropských, antikomunismus, vládní",
          "československem, štrasburku, evropským, evropané, evropany, prednášala",
          "československem, novinové, tchécoslovaqucs, ceskoslovenskoněmecká, československoněmecká, komunistického",
          "československem, vydán, marxistickoleninskou, československosovětské, východoněmeckým, čáslavské",
          "československem, tschechoslowakischcn, newyorský, českoněmeckého, časopisem, prešovská",
          "československem, češku, českoněmecké, bratislavského, předcházejícímu, slezska",
          "československem, západoněmeckým, novoroční, polsko, kdejakou, občanm"
         ],
         "type": "scatter",
         "x": [
          "1968-01-01T00:00:00",
          "1970-02-06T02:24:00",
          "1972-03-14T04:48:00",
          "1974-04-20T07:12:00",
          "1976-05-26T09:36:00",
          "1978-07-02T12:00:00",
          "1980-08-07T15:24:00",
          "1982-09-13T17:48:00",
          "1984-10-19T19:12:00",
          "1986-11-25T21:36:00"
         ],
         "y": {
          "bdata": "rBklCm9YgD9s9ItiQl1+P9+UIYs5eHg/hPeabrPagD9bMfE4J7uEP3v8FEHsPnc/TBa63NyPej+oky7Qs+h8PwEEJDv6Vnc/xl3t0MH3cz8=",
          "dtype": "f8"
         }
        },
        {
         "hovertemplate": "<b>%{text}</b>",
         "line": {
          "width": 3
         },
         "marker": {
          "color": "#6C4516",
          "line": {
           "color": "black",
           "width": 2
          },
          "size": 14
         },
         "mode": "markers+lines",
         "name": "21_pražskými_plzeňského_bratislavském_staropražské",
         "text": [
          "pražskými, československoamericky, plzeňského, českoslov, čssršvédsko, dělnického",
          "pražskými, ceskostovenskoamerický, leningradě, novočeskými, vydávat, verlagsanstalt",
          "pražskými, českoněmeckém, tsjekkoslovakisk, jihlavskými, staročeského, uherském",
          "pražskými, českéko, protičeskoslovenskej, rakúskouhorskej, rakúšanku, rakouští",
          "pražskými, rakouském, sovětská, československosovětskou, plzeňského, antarctica",
          "pražskými, čechoslovác, československosovětské, československopolskou, bratislavském, václavském",
          "pražskými, plzeňského, protičeskoslovenskou, slovaks, československopolského, osvobozeneckému",
          "pražskými, bohoslovecká, slezskou, americkými, protičeskoslovenská, staropražské",
          "pražskými, polskému, scharfreiterplatz, poláci, rakouskému, uherskou",
          "pražskými, koslovensku, eskoslovensku, českoslovenku, koslovenský, bratislavském"
         ],
         "type": "scatter",
         "x": [
          "1968-01-01T00:00:00",
          "1970-02-06T02:24:00",
          "1972-03-14T04:48:00",
          "1974-04-20T07:12:00",
          "1976-05-26T09:36:00",
          "1978-07-02T12:00:00",
          "1980-08-07T15:24:00",
          "1982-09-13T17:48:00",
          "1984-10-19T19:12:00",
          "1986-11-25T21:36:00"
         ],
         "y": {
          "bdata": "l/BCdKSSbj+t4/E4H5lxP6o9MYeB42g/zUoZ7TYXcD+7Ilcs6kxvPwe/jbqASWg/qBkg9QygZj9wYW3UwrBuPydE6KmDU2Q/XFnfOJZnbz8=",
          "dtype": "f8"
         }
        },
        {
         "hovertemplate": "<b>%{text}</b>",
         "line": {
          "width": 3
         },
         "marker": {
          "color": "#0D2A63",
          "line": {
           "color": "black",
           "width": 2
          },
          "size": 14
         },
         "mode": "markers+lines",
         "name": "22_zahraničíczechoslovak_jubilejního_jubilejním_sletové",
         "text": [
          "jubilejním, jugoslávského, jugoslávské, jihoslovan, francouzskočeskoslovenského, jihoslovany",
          "pobytu, austrálii, austrálie, poštovním, melbourne, uveřejněny",
          "jubilejním, jubilejní, pobytu, kongresu, ujednání, posrpnové",
          "zahraničíczechoslovak, sletový, sletové, sletového, sletových, jubilejním",
          "zahraničíczechoslovak, sokolskému, letovisku, sokolském, slovensko, sokolská",
          "zahraničíczechoslovak, jubilejní, jubilejního, slavnostním, kanadě, kanady",
          "sletové, sletových, sletový, sletovým, sletového, sletová",
          "zahraničíczechoslovak, jubilejním, kanadě, kanadských, lety, kanadské",
          "zahraničíczechoslovak, sokolskému, zahraničí1986, letzigrund, pobytu, jubilejním",
          "zahraničíczechoslovak, kanadě, jubilejní, jihoslovanských, kanady, kanadských"
         ],
         "type": "scatter",
         "x": [
          "1968-01-01T00:00:00",
          "1970-02-06T02:24:00",
          "1972-03-14T04:48:00",
          "1974-04-20T07:12:00",
          "1976-05-26T09:36:00",
          "1978-07-02T12:00:00",
          "1980-08-07T15:24:00",
          "1982-09-13T17:48:00",
          "1984-10-19T19:12:00",
          "1986-11-25T21:36:00"
         ],
         "y": {
          "bdata": "Ui+Zr30EVz/gYiCMIvNBPynvZIDKFlM/4zIPzdabdT+geYiqi/h1P135rU4NIHE/5wPgZLycaT/P079CEVltPyD9ez8D92w/5iUGbDXxXz8=",
          "dtype": "f8"
         }
        },
        {
         "hovertemplate": "<b>%{text}</b>",
         "line": {
          "width": 3
         },
         "marker": {
          "color": "#AF0038",
          "line": {
           "color": "black",
           "width": 2
          },
          "size": 14
         },
         "mode": "markers+lines",
         "name": "23_československou_osvobozeneckou_názvosloví_delegáti",
         "text": [
          "československou, internacionály, světovým, velvyslanectví, světové, století",
          "československou, prosovětských, sovětskij, vlastě, světem, polii",
          "československou, sovětskému, zemích, noviny, cvičenc, bálové",
          "československou, kongresov, štátu, ústavov, národním, americkej",
          "československou, osvobozeneckou, leningradě, evropská, vládám, přednášel",
          "československou, americká, leningradě, vyšehradském, americkém, německými",
          "československou, československosovětské, novin, protikomunistická, koslovensku, osmdesátá",
          "československou, uváděl, vladivostoku, československosovět, slovesné, zámeckého",
          "československou, českom, slovenští, západoněmeckém, československošvédsko, československorakouské",
          "československou, rakouskočeskoslovenské, kreuzplatz, republiku, polskočeskoslovenská, rožňavský"
         ],
         "type": "scatter",
         "x": [
          "1968-01-01T00:00:00",
          "1970-02-06T02:24:00",
          "1972-03-14T04:48:00",
          "1974-04-20T07:12:00",
          "1976-05-26T09:36:00",
          "1978-07-02T12:00:00",
          "1980-08-07T15:24:00",
          "1982-09-13T17:48:00",
          "1984-10-19T19:12:00",
          "1986-11-25T21:36:00"
         ],
         "y": {
          "bdata": "p57fJk9mej9rk3oIURB0P1PNqvoCW3A/mu9c/3UScT9esy8eHl91PzcG2cLLSGw/luC7gEmdcj+EG3ft4rJxP7VyIII1+2s/FLsF/b7Taz8=",
          "dtype": "f8"
         }
        },
        {
         "hovertemplate": "<b>%{text}</b>",
         "line": {
          "width": 3
         },
         "marker": {
          "color": "#2E91E5",
          "line": {
           "color": "black",
           "width": 2
          },
          "size": 14
         },
         "mode": "markers+lines",
         "name": "24_češtině_czcchoslovak_češtinou_vyšehradském",
         "text": [
          "češtině, czcchoslovak, čáslavské, slovácká, bratislavských, československosovětského",
          "češtině, czcchoslovak, pražsky, svatováclavské, církevněslovanského, svatováclavského",
          "češtině, vyšehradském, václavův, bratislavská, státníky, západoněmeckého",
          "češtině, staroslavné, zprávou, ženevském, ceskoslovenskoamcrický, vydáno",
          "češtině, koslovenského, češkou, tchécoslovaqucs, prosovětské, českoslovesnkého",
          "češtině, češtinou, svatovítský, českoslovenksu, protisovětskou, středočeského",
          "češtině, česku, čechu, ceskoslovenskoněmecká, czechoslova, czech",
          "češtině, slovákem, bohuslava, brežnevom, české, tschechoslo",
          "češtině, jaroslavu, čtenářsky, slovenštiny, jaroslava, českoslovenksu",
          "češtině, vyšehrad, kdejakou, perestrojka, bratislavskej, pobaltských"
         ],
         "type": "scatter",
         "x": [
          "1968-01-01T00:00:00",
          "1970-02-06T02:24:00",
          "1972-03-14T04:48:00",
          "1974-04-20T07:12:00",
          "1976-05-26T09:36:00",
          "1978-07-02T12:00:00",
          "1980-08-07T15:24:00",
          "1982-09-13T17:48:00",
          "1984-10-19T19:12:00",
          "1986-11-25T21:36:00"
         ],
         "y": {
          "bdata": "4kaTWkr5ej+1nlkYEVR+P0QQmzocJXs/zQKJMIgydD9qQCLiBvF7Pxq8R8kqCXw/5to1ogwZhD8bUs/5kNeBPzYm/LBpSYE/0Jn9LIt3fT8=",
          "dtype": "f8"
         }
        },
        {
         "hovertemplate": "<b>%{text}</b>",
         "line": {
          "width": 3
         },
         "marker": {
          "color": "#E15F99",
          "line": {
           "color": "black",
           "width": 2
          },
          "size": 14
         },
         "mode": "markers+lines",
         "name": "25_polsku_polské_polska_polského",
         "text": [
          "polská, východoevropských, aneboczechoslovak, východoevropští, východoevropské, vyšehradský",
          "východoevropského, polskem, dohodu, dohodnout, dohodlo, varšavské",
          "plzeňském, polské, fremdrentengesetz, vydávaly, polského, pojednáno",
          "polsku, polští, státčeskoslovenský, prosovětských, prosovětským, varšavské",
          "polsku, polského, polských, polský, polské, polská",
          "polsku, polské, polska, polského, polských, polsko",
          "polsku, polské, polsko, polského, poláci, polská",
          "polské, polsku, polských, polsko, polskému, polska",
          "polsku, polska, polská, polských, polský, polsko",
          "polsku, polské, polska, polsko, polský, polského"
         ],
         "type": "scatter",
         "x": [
          "1968-01-01T00:00:00",
          "1970-02-06T02:24:00",
          "1972-03-14T04:48:00",
          "1974-04-20T07:12:00",
          "1976-05-26T09:36:00",
          "1978-07-02T12:00:00",
          "1980-08-07T15:24:00",
          "1982-09-13T17:48:00",
          "1984-10-19T19:12:00",
          "1986-11-25T21:36:00"
         ],
         "y": {
          "bdata": "7NZOzctnLz9Pt+pydRA5P1VjIYmzBjs/Pq2FGOkSQj9SFq7GjHtcP6mZaUAP/HY/aIAiJr85ez9nMeLX2cxkP9O4TS8KWGw/DZkGUpGpaD8=",
          "dtype": "f8"
         }
        },
        {
         "hovertemplate": "<b>%{text}</b>",
         "line": {
          "width": 3
         },
         "marker": {
          "color": "#1CA71C",
          "line": {
           "color": "black",
           "width": 2
          },
          "size": 14
         },
         "mode": "markers+lines",
         "name": "26_československému_československosovětské_československosovět_tisovětské",
         "text": [
          "československému, tchccoslovaqucs, východoslovenskou, vnitropolitického, republiku, protisovětskou",
          "československému, ceskoslovenskoamericky, venskosovětské, presidentaosvoboditele, sovětské, ostpolitik",
          "československému, exilových, exilovými, exilové, exilového, czechoslova",
          "československému, komunistickými, czcchoslovak, prosovětské, německému, osvobozenecké",
          "československému, protisovět, soviet, československosovětských, státech, antisovětského",
          "československému, československoněmecká, tchécoslovaqucs, slovákem, protičeskoslovenské, mezinárodní",
          "československému, českoslovenka, kolínském, slezských, bratislavská, češtinou",
          "československému, československom, západoněmeckém, osvobozeneckou, českoněmecký, slovákmi",
          "československému, bürgerhausu, uherský, československopolské, bratislavském, verkehrsverein",
          "československému, letošní, slovácichápali, čechoslovácích, československosoučást, rakouskouherské"
         ],
         "type": "scatter",
         "x": [
          "1968-01-01T00:00:00",
          "1970-02-06T02:24:00",
          "1972-03-14T04:48:00",
          "1974-04-20T07:12:00",
          "1976-05-26T09:36:00",
          "1978-07-02T12:00:00",
          "1980-08-07T15:24:00",
          "1982-09-13T17:48:00",
          "1984-10-19T19:12:00",
          "1986-11-25T21:36:00"
         ],
         "y": {
          "bdata": "vxf1p2QRjD/YE2rgY1N7P2VClYglIXs/FSDdLQlOgT9xVLjNlneFP8hHiN/GMoE/C6pzwZ4Ygz+FKWpKi+l+PxK77EcQvH0/6xsFd7Oofj8=",
          "dtype": "f8"
         }
        },
        {
         "hovertemplate": "<b>%{text}</b>",
         "line": {
          "width": 3
         },
         "marker": {
          "color": "#FB0D0D",
          "line": {
           "color": "black",
           "width": 2
          },
          "size": 14
         },
         "mode": "markers+lines",
         "name": "27_švýcarsku_schweiz_švýcarska_švýcarského",
         "text": [
          "švýcarského, švýcarsku, švýcarských, schweiz, švýcarský, švýcarské",
          "schweizerische, švajčiarsku, schweiz, švýcarsku, švýcarského, svizzera",
          "švýcarska, švýcarských, schweiz, švýcarské, švýcarská, švajčiarsku",
          "švýcarsku, schweiz, švajčiarsku, švýcarský, švýcarského, švýcarska",
          "švajčiarsku, švýcarská, švýcarska, schweiz, švýcarsku, svizzera",
          "švýcarského, švýcarský, švýcarské, švýcarská, schweiz, švýcarska",
          "švýcarská, švýcarských, švýcarsku, švýcarský, švýcarska, švýcarskými",
          "švýcarská, švýcarské, švýcarm, švýcarského, švýcarskému, švýcarštiny",
          "švýcarských, švýcarské, švajčiarsku, schweizerische, rakouské, švýcarsku",
          "nynějšími, švýcarském, přijetých, vydávejme, švýcarsku, scházíme"
         ],
         "type": "scatter",
         "x": [
          "1968-01-01T00:00:00",
          "1970-02-06T02:24:00",
          "1972-03-14T04:48:00",
          "1974-04-20T07:12:00",
          "1976-05-26T09:36:00",
          "1978-07-02T12:00:00",
          "1980-08-07T15:24:00",
          "1982-09-13T17:48:00",
          "1984-10-19T19:12:00",
          "1986-11-25T21:36:00"
         ],
         "y": {
          "bdata": "4TbT1kFRhj9uskloYHmFP/kQAkmdpXs/CbfJS8Gdcz9cs42R7kFbP+vGFGOJMVo/GLVL6zkyRD8wrC5oc8REP0EF+FSq+VI/VMGkzRRLGz8=",
          "dtype": "f8"
         }
        },
        {
         "hovertemplate": "<b>%{text}</b>",
         "line": {
          "width": 3
         },
         "marker": {
          "color": "#DA16FF",
          "line": {
           "color": "black",
           "width": 2
          },
          "size": 14
         },
         "mode": "markers+lines",
         "name": "28_čechoslováku_češkou_czechoslowak_tschechoslo",
         "text": [
          "čechoslováku, czechoslowak, češkou, vyšeslavy, jihoslovanské, češke",
          "čechoslováku, tschechoslo, čechoslováků, koslovensku, americkočeskoslovenské, čechoslovakizmom",
          "čechoslováku, tschechoslo, čechu, francotchécoslovaque, jihoslovan, českoamerický",
          "čechoslováku, čechoslováků, čechoslovačka, ceskoslovenské, československoamerických, tchécoslovaqucs",
          "čechoslováku, českoněmecké, českoslovesnké, rakouští, viedenským, měnové",
          "čechoslováku, plzeňskou, českoslovesnké, mlýnským, salcburského, protičeskoslovenskou",
          "čechoslováku, češky, rakúskouhorskej, rakouském, pražskú, slovákom",
          "čechoslováku, československua, čechoslovákům, uherský, československošvédsko, usurpátor",
          "čechoslováku, jihoslovanské, jihoslovan, jihoslovanský, jihoslovanských, jihoslovanská",
          "čechoslováku, českošvýcarského, uherský, vyšehradském, plzeňská, předválečných"
         ],
         "type": "scatter",
         "x": [
          "1968-01-01T00:00:00",
          "1970-02-06T02:24:00",
          "1972-03-14T04:48:00",
          "1974-04-20T07:12:00",
          "1976-05-26T09:36:00",
          "1978-07-02T12:00:00",
          "1980-08-07T15:24:00",
          "1982-09-13T17:48:00",
          "1984-10-19T19:12:00",
          "1986-11-25T21:36:00"
         ],
         "y": {
          "bdata": "Rq51pWWTbj9lcsnAx69ZP/+WvqcVNlk/OKSld+0gSz+d2dPKERxKPxYkGAmp4Eo/1nac/v8SQz8MDUd4vxdRP6OHt9yFNEg/8dIVib7YQD8=",
          "dtype": "f8"
         }
        },
        {
         "hovertemplate": "<b>%{text}</b>",
         "line": {
          "width": 3
         },
         "marker": {
          "color": "#222A2A",
          "line": {
           "color": "black",
           "width": 2
          },
          "size": 14
         },
         "mode": "markers+lines",
         "name": "29_zemích_národa_národ_národu",
         "text": [
          "zemích, národa, národě, národu, zemím, světových",
          "zemích, národ, národa, světového, národu, světové",
          "národa, národ, vlastenectví, zemích, národu, národě",
          "zemích, zemím, národa, národ, národu, národm",
          "národa, zemích, národ, národu, národem, zahraničního",
          "zemích, národa, národy, palestinské, palestinských, národ",
          "národ, národem, nestejným, národa, národy, považované",
          "národ, národa, národm, národu, zemích, národních",
          "zemích, světových, americe, zemím, zahraničním, zahraničních",
          "národa, národ, národu, národě, národních, vlastenecké"
         ],
         "type": "scatter",
         "x": [
          "1968-01-01T00:00:00",
          "1970-02-06T02:24:00",
          "1972-03-14T04:48:00",
          "1974-04-20T07:12:00",
          "1976-05-26T09:36:00",
          "1978-07-02T12:00:00",
          "1980-08-07T15:24:00",
          "1982-09-13T17:48:00",
          "1984-10-19T19:12:00",
          "1986-11-25T21:36:00"
         ],
         "y": {
          "bdata": "hqndAWWkcD+L7uGQpyFsPxiAG3hoplk/1wf4SvWraD/sdU8UGKVjPyszt5oUBWA/NcHs/WtmQT8ZMTvqwBhVPz2RI+oO2To/Po1mfH9bSj8=",
          "dtype": "f8"
         }
        },
        {
         "hovertemplate": "<b>%{text}</b>",
         "line": {
          "width": 3
         },
         "marker": {
          "color": "#B68100",
          "line": {
           "color": "black",
           "width": 2
          },
          "size": 14
         },
         "mode": "markers+lines",
         "name": "30_československého_odborářskou_hofbauerovi_hofbauer",
         "text": [
          "československého, vdcem, znojemských, jugoslávskými, jugoslávských, zhotovili",
          "československého, československé, vládo, poznamenán, špionážního, oficielně",
          "československého, protisovětského, čínskosovětská, stalinistický, stalinistickou, americanczechoslovakclub",
          "československého, československý, zpravodajskou, špiónské, úradmi, vládo",
          "československého, československý, špionážního, poznamenán, vládo, poukazu",
          "československého, československé, československý, prezidentské, prezidentského, debatním",
          "československého, československé, odborářských, socialisté, odborářskou, odborově",
          "československého, americkočeskoslovenský, stredoslovenské, staroslovenský, křestanská, prešovskej",
          "československého, československý, hofbauerovi, hofbauer, hofbauera, horákova",
          "československého, československé, občanskou, rozpravě, současná, výrazu"
         ],
         "type": "scatter",
         "x": [
          "1968-01-01T00:00:00",
          "1970-02-06T02:24:00",
          "1972-03-14T04:48:00",
          "1974-04-20T07:12:00",
          "1976-05-26T09:36:00",
          "1978-07-02T12:00:00",
          "1980-08-07T15:24:00",
          "1982-09-13T17:48:00",
          "1984-10-19T19:12:00",
          "1986-11-25T21:36:00"
         ],
         "y": {
          "bdata": "U75DHvQUoj96afKjVFWfP3BFEEvuLZY/M2lvHgxOnD/nhbt9h5SdP3hwz8Ecipo/UMH0sVronT/LpbZlE86cP6Ee8y0axJo/93ZupnARlz8=",
          "dtype": "f8"
         }
        },
        {
         "hovertemplate": "<b>%{text}</b>",
         "line": {
          "width": 3
         },
         "marker": {
          "color": "#750D86",
          "line": {
           "color": "black",
           "width": 2
          },
          "size": 14
         },
         "mode": "markers+lines",
         "name": "31_československými_americkočeskoslovenský_listytýdeník_nyprahabratislavany",
         "text": [
          "československými, vlasteneckému, zeměmi, americkočeskoslovenský, českoslovenku, protisovětských",
          "československými, vlastislav, tschecho, vydávání, jihoslovanské, americanczechoslovak",
          "československými, tschechischen, tschechoslo, čechu, státník, ceskoslovenskoamerickf",
          "československými, zpravodajské, včerejškem, tchécoslovaqucs, israeli, slezska",
          "československými, osvobozenecké, vladimírem, amerikou, bělošských, slezsko",
          "československými, osvobozenecké, papeže, úřady, sovětského, varšavské",
          "československými, československí, českoslovenka, vyšehradské, českoslovenké, českýchlistin",
          "československými, novinový, americkočeskoslovenský, uhorsku, čechoslováků, dopisovateli",
          "československými, slovákom, bečvou, všeslovanského, českošvýcarského, československí",
          "československými, české, nyprahabratislavany, československoamerické, vlastenecky, skoslovensku"
         ],
         "type": "scatter",
         "x": [
          "1968-01-01T00:00:00",
          "1970-02-06T02:24:00",
          "1972-03-14T04:48:00",
          "1974-04-20T07:12:00",
          "1976-05-26T09:36:00",
          "1978-07-02T12:00:00",
          "1980-08-07T15:24:00",
          "1982-09-13T17:48:00",
          "1984-10-19T19:12:00",
          "1986-11-25T21:36:00"
         ],
         "y": {
          "bdata": "9YT4oAcFgD+4ROzQ7QV8Pwn15PNiVnA/qHF79VqFaT+6i+xQNPmBP+SVA14WZHc/OnDKkRSEdT8mdRMLGxaAP/SzgTr/RH0/F1poJlPZfT8=",
          "dtype": "f8"
         }
        },
        {
         "hovertemplate": "<b>%{text}</b>",
         "line": {
          "width": 3
         },
         "marker": {
          "color": "#EB663B",
          "line": {
           "color": "black",
           "width": 2
          },
          "size": 14
         },
         "mode": "markers+lines",
         "name": "32_český_české_tschecho_polický",
         "text": [
          "český, české, česki, polický, českoslov, tschecho",
          "český, české, slezska, francouzskočeskoslovenského, čechoslováků, českomoravská",
          "český, české, tschecho, českú, čáslavskou, československom",
          "český, české, slovenský, zvolen, skaut, rozdílu",
          "český, české, czech, slovanském, republika, popularczechoslovak",
          "český, české, slovenský, skautská, europskeho, skautského",
          "český, české, sovětskočeskoslovenské, česka, československoso, czechs",
          "český, czechs, české, slovenského, československí, českýho",
          "český, české, spolková, svatá, jaroslav, vpolsku",
          "český, české, czechs, letovisku, češku, bečvou"
         ],
         "type": "scatter",
         "x": [
          "1968-01-01T00:00:00",
          "1970-02-06T02:24:00",
          "1972-03-14T04:48:00",
          "1974-04-20T07:12:00",
          "1976-05-26T09:36:00",
          "1978-07-02T12:00:00",
          "1980-08-07T15:24:00",
          "1982-09-13T17:48:00",
          "1984-10-19T19:12:00",
          "1986-11-25T21:36:00"
         ],
         "y": {
          "bdata": "o2iTJckelz/AnM3bHkGFP3vnWUy36YA/3LoV57kPiD/YNOWpQU+BP8xerqwFBoY/IBKA1Is/kz/iAR4hosqSP0oaqqxwnpE/8XjIRGlXiT8=",
          "dtype": "f8"
         }
        },
        {
         "hovertemplate": "<b>%{text}</b>",
         "line": {
          "width": 3
         },
         "marker": {
          "color": "#511CFB",
          "line": {
           "color": "black",
           "width": 2
          },
          "size": 14
         },
         "mode": "markers+lines",
         "name": "33_plzeňské_západoněmeckém_plzeňského_uherský",
         "text": [
          "plzeňské, plzeňského, znějí, zveřejněn, vyšehradským, česku",
          "plzeňské, vyšehradském, čáslavské, turnovského, mnichovská, husovujeronýmovu",
          "plzeňské, svatováclavské, nam, veroničina, slováku, svatovítských",
          "plzeňské, zúčastnili, pobytu, slezských, vítězslav, provádíme",
          "plzeňské, pražskej, švýcarskočeskoslovenské, cimburkova, tschechoslowakische, českoněmecká",
          "plzeňské, české, ceskoslovenskoněmecká, tchccoslovaqucs, českobratrského, plzeňskou",
          "plzeňské, plzeňská, brněnským, uherský, plzeňském, bürgerhausu",
          "plzeňské, českoslovenksu, slovákem, vlašských, sokolském, radovaly",
          "plzeňské, překladatelských, plzeňského, jubilejního, rakouském, zahraničí1986",
          "plzeňské, uherský, václavském, perestrojkou, západoněmeckém, mnichovská"
         ],
         "type": "scatter",
         "x": [
          "1968-01-01T00:00:00",
          "1970-02-06T02:24:00",
          "1972-03-14T04:48:00",
          "1974-04-20T07:12:00",
          "1976-05-26T09:36:00",
          "1978-07-02T12:00:00",
          "1980-08-07T15:24:00",
          "1982-09-13T17:48:00",
          "1984-10-19T19:12:00",
          "1986-11-25T21:36:00"
         ],
         "y": {
          "bdata": "8p9BY9/Cbj8GW4ECjJhmP6SFHqAjNHE/m99Y+TY+dT9OT8SBZi1mP13Xrl8NfGc/YG8DSp4Ocj/8HlSWr715PybQUFEYrWE/WO8V7p/AdD8=",
          "dtype": "f8"
         }
        },
        {
         "hovertemplate": "<b>%{text}</b>",
         "line": {
          "width": 3
         },
         "marker": {
          "color": "#00A08B",
          "line": {
           "color": "black",
           "width": 2
          },
          "size": 14
         },
         "mode": "markers+lines",
         "name": "34_slovácích_češích_koslovensku_českeho",
         "text": [
          "slovácích, češích, češstvím, českeho, česku, čechové",
          "slovácích, mnichovského, süddeutsche, padoněmecký, varhanní, slowakische",
          "slovácích, vratislav, zemřel, zdeněk, češích, konzervatoře",
          "slovácích, slováku, zařizoval, češích, rakúskouhorsku, zítřek",
          "slovácích, češích, českem, československopolských, tchécoslovaqucs, českoslovesnku",
          "slovácích, češích, brněnském, valdštejnském, vlaštovka, zürichu",
          "slovácích, češích, koslovenského, slovácku, československuv, čechoslovačka",
          "češích, slovácích, znějí, českeho, česka, kroměřížského",
          "slovácích, češích, budapešťského, včerejškem, werdhölzlistr, českomoravském",
          "češích, slovácích, koslovensku, československýamerický, koslovenska, soviets"
         ],
         "type": "scatter",
         "x": [
          "1968-01-01T00:00:00",
          "1970-02-06T02:24:00",
          "1972-03-14T04:48:00",
          "1974-04-20T07:12:00",
          "1976-05-26T09:36:00",
          "1978-07-02T12:00:00",
          "1980-08-07T15:24:00",
          "1982-09-13T17:48:00",
          "1984-10-19T19:12:00",
          "1986-11-25T21:36:00"
         ],
         "y": {
          "bdata": "eNiJlAbVUj9f52aRiRdTP2jnhxan4lA/DtmrnATtTj/kh1PrzYhVPzs8J35hbFA/P+gK80OLXD+BEgPygdpTP/6ck+TWEFw/F+MvIBTbWz8=",
          "dtype": "f8"
         }
        },
        {
         "hovertemplate": "<b>%{text}</b>",
         "line": {
          "width": 3
         },
         "marker": {
          "color": "#FB00D1",
          "line": {
           "color": "black",
           "width": 2
          },
          "size": 14
         },
         "mode": "markers+lines",
         "name": "35_sokolský_sokola_sokol_gymnastic",
         "text": [
          "stan, předali, úředním, bratislavským, znárodněný, vysílal",
          "vlastislav, skouherské, mnichovských, výtvarných, kratochvílových, vídeňský",
          "sokolský, sokola, sokolskou, sokol, sokolské, sokols",
          "sokolský, sokola, sokolskou, sokolské, sokolovny, sokol",
          "sokola, sokolský, sokolské, sokol, ročníkvol, gymnastic",
          "sokolský, sokol, sokola, gymnastic, stan, los",
          "sokola, sál, gymnastic, stan, ročníkvolume, sokol",
          "sokolský, sokol, sokols, gymnastic, mateo, san",
          "sokol, gymnastic, sokola, sokolský, sokolsky, ročníkvol",
          "sokola, sokol, gymnastic, sokolsky, sokols, sokolské"
         ],
         "type": "scatter",
         "x": [
          "1968-01-01T00:00:00",
          "1970-02-06T02:24:00",
          "1972-03-14T04:48:00",
          "1974-04-20T07:12:00",
          "1976-05-26T09:36:00",
          "1978-07-02T12:00:00",
          "1980-08-07T15:24:00",
          "1982-09-13T17:48:00",
          "1984-10-19T19:12:00",
          "1986-11-25T21:36:00"
         ],
         "y": {
          "bdata": "dRyEZ8dDRD/+Hc2NshVWP2AdJKrwzY0/6tXDzy0NjT+jxuvu6E6ZP5pt0O2Iepg/8ExsytHFlT+wuthDgYyEP4aZchtDb4A/G8ibZj5ffD8=",
          "dtype": "f8"
         }
        },
        {
         "hovertemplate": "<b>%{text}</b>",
         "line": {
          "width": 3
         },
         "marker": {
          "color": "#FC0080",
          "line": {
           "color": "black",
           "width": 2
          },
          "size": 14
         },
         "mode": "markers+lines",
         "name": "36_československej_pražskej_slovákom_komunistickému",
         "text": [
          "československej, ceskoslovenské, czechoslova, stalinismu, 1968, československuv",
          "československej, brněnská, slovákom, bělského, czcchoslovak, československí",
          "československej, československom, výstavní, americanczechoslovak, brněnskému, schlosstalstrasse",
          "československej, nekomunist, rakúskouhorska, koslovenské, vladimíra, komunistickým",
          "československej, zemím, československosovětské, vyslanectví, ceskoslovenku, koslovenska",
          "československej, československom, slovákom, republike, nacizmu, slovákmi",
          "československej, protičeskoslovenskej, československí, československosovětské, scharfreiterplatz, mitteilungsblatt",
          "československej, pražskej, osvětimských, protičeskoslovenské, slovákmi, bratislavského",
          "československej, československom, českoněmeckých, západoněmecký, slovenšti, pražskej",
          "československej, čechoslovakizmu, pražskej, bratislavskej, slovenčinu, čechoslovakizmus"
         ],
         "type": "scatter",
         "x": [
          "1968-01-01T00:00:00",
          "1970-02-06T02:24:00",
          "1972-03-14T04:48:00",
          "1974-04-20T07:12:00",
          "1976-05-26T09:36:00",
          "1978-07-02T12:00:00",
          "1980-08-07T15:24:00",
          "1982-09-13T17:48:00",
          "1984-10-19T19:12:00",
          "1986-11-25T21:36:00"
         ],
         "y": {
          "bdata": "eo9K0OGIaj8a38mCLzlxP0jZOrojvmg/eUzsYsEqcD/eW5pQqsd3P2BlAhWjgnE/iJeuEb5Wdz94TLr3kB17Pwn4sXWXInM/n4CbY3q3cz8=",
          "dtype": "f8"
         }
        },
        {
         "hovertemplate": "<b>%{text}</b>",
         "line": {
          "width": 3
         },
         "marker": {
          "color": "#B2828D",
          "line": {
           "color": "black",
           "width": 2
          },
          "size": 14
         },
         "mode": "markers+lines",
         "name": "37_českomoravské_brněnský_slováka_svatováclavské",
         "text": [
          "českomoravské, brněnský, svatováclavské, vyšehradský, vratislavským, zbraslavské",
          "českomoravské, tschechoslo, pražskú, neslovanskými, českoněmecký, zeitgeschichte",
          "českomoravské, češkami, češke, češtine, plzeňském, koslovenska",
          "českomoravské, svatováclavským, wyszyňskim, slováka, staroslověnské, zdvodnil",
          "českomoravské, soběslavovi, vyšehradská, vyšehradský, svatovítská, valdenským",
          "českomoravské, brněnský, svatováclavské, brněnském, slováka, svatováclavskou",
          "českomoravské, východoslovenské, staroslověnštině, slovácké, staroslověnský, naardenské",
          "českomoravské, českoněmeckého, českobudějovického, skoslovensku, koslovenské, česku",
          "českomoravské, slovenští, českom, východoslovenské, plzeňská, svatováclavským",
          "českomoravské, tšechno, československú, jaroslava, svatováclavskou, václavském"
         ],
         "type": "scatter",
         "x": [
          "1968-01-01T00:00:00",
          "1970-02-06T02:24:00",
          "1972-03-14T04:48:00",
          "1974-04-20T07:12:00",
          "1976-05-26T09:36:00",
          "1978-07-02T12:00:00",
          "1980-08-07T15:24:00",
          "1982-09-13T17:48:00",
          "1984-10-19T19:12:00",
          "1986-11-25T21:36:00"
         ],
         "y": {
          "bdata": "D7ZDF0sdJj8xgY9wA5gvP5t8bVqY9iE/WG6MSjgfIz/3/MJh0QIkPxrAF60aDSQ/MHISx5wqGT+RzUqMU2IwP7M/OQ4i4TQ/GdDlsgkBHj8=",
          "dtype": "f8"
         }
        },
        {
         "hovertemplate": "<b>%{text}</b>",
         "line": {
          "width": 3
         },
         "marker": {
          "color": "#6C7C32",
          "line": {
           "color": "black",
           "width": 2
          },
          "size": 14
         },
         "mode": "markers+lines",
         "name": "38_slováků_čechů_czechs_slovaks",
         "text": [
          "slováků, tchèques, čechů, slováku, helvetočeskoslovenského, čechu",
          "slováků, slovákú, čechů, tscheche, rakousku, schauspielhaus",
          "slováků, slovákům, slováku, zurzach, rakouských, čechů",
          "slováků, vídeňského, slezských, padoněmeckým, osvětimských, novomeského",
          "slováků, čechovovi, pražskej, pražsku, czecho, československí",
          "slováků, čechů, czechs, brněnským, čechu, brněnská",
          "slováků, čechů, czechs, českých, čechové, češkou",
          "slováků, čechů, czechs, slováku, československomj, tschechoslowakischer",
          "slováků, čechů, czechs, slovaks, příplatek, církevněslovanské",
          "slováků, čechů, czechs, slovaks, českykrajan0m, čechč"
         ],
         "type": "scatter",
         "x": [
          "1968-01-01T00:00:00",
          "1970-02-06T02:24:00",
          "1972-03-14T04:48:00",
          "1974-04-20T07:12:00",
          "1976-05-26T09:36:00",
          "1978-07-02T12:00:00",
          "1980-08-07T15:24:00",
          "1982-09-13T17:48:00",
          "1984-10-19T19:12:00",
          "1986-11-25T21:36:00"
         ],
         "y": {
          "bdata": "bScV4NG2ej9C8uJ5bXZwP3NBy29bUGo/Mci97BbPSj/R1lGH4x5lPwbKpVf9y3I/qOzi7ygijj+wbvavIQOKP2UuevDgkH4/p3mRWfgKdz8=",
          "dtype": "f8"
         }
        },
        {
         "hovertemplate": "<b>%{text}</b>",
         "line": {
          "width": 3
         },
         "marker": {
          "color": "#778AAE",
          "line": {
           "color": "black",
           "width": 2
          },
          "size": 14
         },
         "mode": "markers+lines",
         "name": "39_doby_dobách_kdysi_století",
         "text": [
          "doby, století, současné, dobách, tehdejších, historie",
          "doby, tehdejších, protisovětská, stalinismem, kdysi, stalinismus",
          "doby, století, období, dobách, kdysi, tehdejšího",
          "doby, tehdejšího, dobách, uplynulých, éra, století",
          "doby, minulém, kdysi, období, minulého, století",
          "doby, období, kdysi, dobách, tehdejšího, obdobím",
          "doby, jubilejní, dobách, letech, sjížděli, zimě",
          "doby, léta, dobách, minulého, kdysi, století",
          "doby, tehdejší, dobách, roky, kdysi, minulý",
          "doby, dobách, doba, kdysi, období, tehdejším"
         ],
         "type": "scatter",
         "x": [
          "1968-01-01T00:00:00",
          "1970-02-06T02:24:00",
          "1972-03-14T04:48:00",
          "1974-04-20T07:12:00",
          "1976-05-26T09:36:00",
          "1978-07-02T12:00:00",
          "1980-08-07T15:24:00",
          "1982-09-13T17:48:00",
          "1984-10-19T19:12:00",
          "1986-11-25T21:36:00"
         ],
         "y": {
          "bdata": "vTLXkpFmeD+Vjm753p9hPxOaSHiE3n4/GNDeKKYfgT+xneeTYB11P6O6ZuWgFXw/SR+gNHlsaj/QEFEDmH1zP2oJZdGTPIE/mq9NI1G5dz8=",
          "dtype": "f8"
         }
        },
        {
         "hovertemplate": "<b>%{text}</b>",
         "line": {
          "width": 3
         },
         "marker": {
          "color": "#862A16",
          "line": {
           "color": "black",
           "width": 2
          },
          "size": 14
         },
         "mode": "markers+lines",
         "name": "40_slowakische_tchèque_slovaque_czech",
         "text": [
          "tschechische, slowakische, češkou, čechové, schriftstellerverbandes, zürichu",
          "tschechische, czech, slováku, nacismem, protisovětská, bratislavští",
          "slovak, tschechische, exilu, exilového, emigrační, exilovými",
          "slovenský, czech, skautská, slowakische, slovaque, tchèque",
          "slowakische, slovaque, tchèque, slovak, czech, scoutisme",
          "slowakische, skautských, slovaque, slovak, tchèque, czech",
          "slowakische, tchèque, slovak, slovaque, tschechische, evropská",
          "tschechische, slowakische, tchèque, scoutisme, tsjechische, czech",
          "slowakische, tchèque, slovaque, europe, tschechische, slovenský",
          "skautskou, skautské, skautského, skautských, tschechische, slovenský"
         ],
         "type": "scatter",
         "x": [
          "1968-01-01T00:00:00",
          "1970-02-06T02:24:00",
          "1972-03-14T04:48:00",
          "1974-04-20T07:12:00",
          "1976-05-26T09:36:00",
          "1978-07-02T12:00:00",
          "1980-08-07T15:24:00",
          "1982-09-13T17:48:00",
          "1984-10-19T19:12:00",
          "1986-11-25T21:36:00"
         ],
         "y": {
          "bdata": "fRk0Bg+9Tz8YTKxKJ2hRP+q+5DIMe1c/Ha6YLOvlgT/f03atR0V+P0dStQjUc4I/gj33odJ6dD/BVAZTQQF2PyyIricCHnQ/z9AwFpTqYT8=",
          "dtype": "f8"
         }
        },
        {
         "hovertemplate": "<b>%{text}</b>",
         "line": {
          "width": 3
         },
         "marker": {
          "color": "#A777F1",
          "line": {
           "color": "black",
           "width": 2
          },
          "size": 14
         },
         "mode": "markers+lines",
         "name": "41_čechoslováci_češkou_czcchoslovak_tschechoslowakischcn",
         "text": [
          "čechoslováci, czcchoslovak, a3československo, švajčiarska, československé, internacionály",
          "čechoslováci, vnitropolitických, československé, východoslovenské, českobratrství, sovětsko",
          "čechoslováci, koslovensku, staročeského, občanm, republika, czechoslovaks",
          "čechoslováci, kremelské, tchécoslovaqucs, helsinkách, současné, sovětského",
          "čechoslováci, americkočeskoslovenský, brněnský, bürgerhausu, německočeská, staroslovanského",
          "čechoslováci, evropou, tchécoslovaqucs, nekomunisté, východoberlínské, zemím",
          "čechoslováci, novinek, vydána, americká, jihoslovanské, leningradu",
          "čechoslováci, tschechoslowakischcn, chécoslovaques, antikomunismus, novinové, novinek",
          "čechoslováci, němčinu, čechošvýcar, tschechoslowakischcn, koslovenské, rundschau",
          "čechoslováci, tschechischer, protesty, československosoučást, českoněmecký, vypráví"
         ],
         "type": "scatter",
         "x": [
          "1968-01-01T00:00:00",
          "1970-02-06T02:24:00",
          "1972-03-14T04:48:00",
          "1974-04-20T07:12:00",
          "1976-05-26T09:36:00",
          "1978-07-02T12:00:00",
          "1980-08-07T15:24:00",
          "1982-09-13T17:48:00",
          "1984-10-19T19:12:00",
          "1986-11-25T21:36:00"
         ],
         "y": {
          "bdata": "UEea5JIvlD+jaftIop+JPwreVg44XHw/CBP4hey4gT+BLm/eRkCBP7CZlztXQns/D3+AR3pTgz+YXjB2tmaBPxe+yXhjqoA/Etmea5Pqfj8=",
          "dtype": "f8"
         }
        },
        {
         "hovertemplate": "<b>%{text}</b>",
         "line": {
          "width": 3
         },
         "marker": {
          "color": "#620042",
          "line": {
           "color": "black",
           "width": 2
          },
          "size": 14
         },
         "mode": "markers+lines",
         "name": "42_kněží_kněze_knězi_knězem",
         "text": [
          "zemřel, smrti, zemřeli, smrtí, smrt, umřel",
          "vatikánských, biskup, papež, kristus, svaté, vlad",
          "knězi, kardinálem, katolické, vatikánem, kardinálovi, biskupství",
          "kněžský, kněžím, knězi, křesťanova, katolíkm, pokřesťanění",
          "knězem, knězi, kněží, kněze, kněžství, kněžských",
          "kněží, knězi, kněze, knězem, kněžské, vysvěcen",
          "kněží, knězem, katolík, kněze, knězi, papežem",
          "kněze, knězi, novokněží, kněžský, kněží, biskupským",
          "kněze, kněží, kněz, katolického, knězi, biskupovi",
          "kněze, kněží, kněžím, biskupský, kněz, katolického"
         ],
         "type": "scatter",
         "x": [
          "1968-01-01T00:00:00",
          "1970-02-06T02:24:00",
          "1972-03-14T04:48:00",
          "1974-04-20T07:12:00",
          "1976-05-26T09:36:00",
          "1978-07-02T12:00:00",
          "1980-08-07T15:24:00",
          "1982-09-13T17:48:00",
          "1984-10-19T19:12:00",
          "1986-11-25T21:36:00"
         ],
         "y": {
          "bdata": "evewEylbFj+M+N1rhMdFP6CxmS7TZVs/0EFtxWihVD+wZGqcEbF5P33TGa0N8XI/RMMdf5lgXj8jh3LMv0FQPzvuJyZnE2s/FxK88SnfZj8=",
          "dtype": "f8"
         }
        },
        {
         "hovertemplate": "<b>%{text}</b>",
         "line": {
          "width": 3
         },
         "marker": {
          "color": "#1616A7",
          "line": {
           "color": "black",
           "width": 2
          },
          "size": 14
         },
         "mode": "markers+lines",
         "name": "43_češství_českobratrství_tschechische_nacistické",
         "text": [
          "tschcchoslowakischen, ceskoslovenský, vyšehradské, koslovenské, češství, českém",
          "češství, českobratrství, sovětskoamerická, jihlavskými, jihlavský, vlasteneckou",
          "češství, českobratrství, nacistické, českoněmeckým, východoněmeckém, nemec",
          "varhany, včerejškem, newyorskej, kterém, německem, zvolených",
          "češství, osvobozeneckou, tehdejšího, pamětníkm, tehdejší, kyjevem",
          "češství, českoslo, československua, popularczechoslovak, vlastislav, čechoslovakismus",
          "češství, českýma, češtinou, ceskoslovensko, polském, polským",
          "češství, koslovenské, slezsko, nacistické, čechů, československaa",
          "češství, českošvýcarského, pravoslavné, čechem, slovaks, českoruské",
          "češství, včerejškem, vladislava, slovácko, čechoslovakismus, choslovak"
         ],
         "type": "scatter",
         "x": [
          "1968-01-01T00:00:00",
          "1970-02-06T02:24:00",
          "1972-03-14T04:48:00",
          "1974-04-20T07:12:00",
          "1976-05-26T09:36:00",
          "1978-07-02T12:00:00",
          "1980-08-07T15:24:00",
          "1982-09-13T17:48:00",
          "1984-10-19T19:12:00",
          "1986-11-25T21:36:00"
         ],
         "y": {
          "bdata": "kdisopP8Sz/z+m01w+N2PyGnM7fhF2o/VMulWEtMMj/1YUZfFihpP8oopW+MX20/Sn2wMHSOcz9+DvaotOZ/P6K5c1CW328/VduXAvt8dz8=",
          "dtype": "f8"
         }
        },
        {
         "hovertemplate": "<b>%{text}</b>",
         "line": {
          "width": 3
         },
         "marker": {
          "color": "#DA60CA",
          "line": {
           "color": "black",
           "width": 2
          },
          "size": 14
         },
         "mode": "markers+lines",
         "name": "44_čechoslovák_tchécoslovaqucs_czcchoslovakia_československosovětské",
         "text": [
          "čechoslovák, czcchoslovakia, české, národním, národního, jihlavským",
          "čechoslovák, sovětském, východoněmeckým, československé, západoněmeckém, protičeskoslovenské",
          "čechoslovák, sovětskaja, slováka, kongres, československý, vnitropolitické",
          "čechoslovák, tschecho, helvetotchécoslovaques, češkou, abychom, zvolen",
          "čechoslovák, badenwürttembersku, českoslovesnkého, rumunsku, tchécoslovaqucs, novomeského",
          "čechoslovák, východoevropskou, východoberlínské, češku, jihoslovanský, jihoslovanských",
          "čechoslovák, československé, schopen, památky, leningrad, americkému",
          "čechoslovák, slovenském, americkočeskoslovenských, československoamerických, týdeníkem, československoso",
          "čechoslovák, západoněmeckého, slovenští, českoněmeckých, vladivostoku, církevněslovanské",
          "čechoslovák, slovácká, československosovětské, plzeňského, československua, varšavského"
         ],
         "type": "scatter",
         "x": [
          "1968-01-01T00:00:00",
          "1970-02-06T02:24:00",
          "1972-03-14T04:48:00",
          "1974-04-20T07:12:00",
          "1976-05-26T09:36:00",
          "1978-07-02T12:00:00",
          "1980-08-07T15:24:00",
          "1982-09-13T17:48:00",
          "1984-10-19T19:12:00",
          "1986-11-25T21:36:00"
         ],
         "y": {
          "bdata": "5ao8I6k/hz9T0OlqwGyDP2mmtWDq/3Y/gZOgc2ufcz/+3JHadf11P8wCpr7Ja3A/3HBFk3a7ej+60U6LDqt2P3K5sEB/PHI/Z9aBWwFzcT8=",
          "dtype": "f8"
         }
        },
        {
         "hovertemplate": "<b>%{text}</b>",
         "line": {
          "width": 3
         },
         "marker": {
          "color": "#6C4516",
          "line": {
           "color": "black",
           "width": 2
          },
          "size": 14
         },
         "mode": "markers+lines",
         "name": "45_československý_letovisku_popularczechoslovak_sokolskému",
         "text": [
          "československý, československé, bratislavská, světového, americkým, komunistických",
          "československý, československé, protisovětský, sovietskeho, antikomunismu, uherský",
          "československý, československé, sovětského, protikomunistickou, evropěo, americkým",
          "československý, československé, evropskě, státnickém, fašistickou, spojeneckých",
          "československý, novinách, vládními, utrecht, týchto, krúžkov",
          "československý, československé, berlína, výročí, varšavě, nacistického",
          "československý, československé, jubilejní, bolševika, mnichovským, svatováclavskou",
          "československý, československé, nacisté, plzeňském, nacistickém, nacisty",
          "československý, československé, německému, americkém, delegátm, uprchlických",
          "československý, československé, stredoslovenského, poznanou, bratislavský, diskusního"
         ],
         "type": "scatter",
         "x": [
          "1968-01-01T00:00:00",
          "1970-02-06T02:24:00",
          "1972-03-14T04:48:00",
          "1974-04-20T07:12:00",
          "1976-05-26T09:36:00",
          "1978-07-02T12:00:00",
          "1980-08-07T15:24:00",
          "1982-09-13T17:48:00",
          "1984-10-19T19:12:00",
          "1986-11-25T21:36:00"
         ],
         "y": {
          "bdata": "IqDM8kW+LD+gxc2eTbwnPz6DAdrhGSc/6tqdcvgJKz9qf19g4gYqPwRMoWosLyc/TLV5K+ZHKT9p1Y5pzrosP8nM/9rhWio/kWjwuLJfIz8=",
          "dtype": "f8"
         }
        },
        {
         "hovertemplate": "<b>%{text}</b>",
         "line": {
          "width": 3
         },
         "marker": {
          "color": "#0D2A63",
          "line": {
           "color": "black",
           "width": 2
          },
          "size": 14
         },
         "mode": "markers+lines",
         "name": "46_politického_politické_politických_politickou",
         "text": [
          "politického, politické, politický, politických, politická, politickém",
          "politický, politické, politickou, politického, politickým, politických",
          "politických, politického, politické, politice, politickou, političtí",
          "politického, politických, politice, političtí, politické, politika",
          "politice, politickou, politického, politickém, protistátním, protisocialistickým",
          "politického, politickými, politickým, politickou, politické, politickej",
          "politického, politickou, politická, politice, politiku, politika",
          "politických, politické, politického, politickou, politickým, politik",
          "politického, politický, politických, politickou, politickém, politické",
          "politických, politické, politického, politickým, politický, politika"
         ],
         "type": "scatter",
         "x": [
          "1968-01-01T00:00:00",
          "1970-02-06T02:24:00",
          "1972-03-14T04:48:00",
          "1974-04-20T07:12:00",
          "1976-05-26T09:36:00",
          "1978-07-02T12:00:00",
          "1980-08-07T15:24:00",
          "1982-09-13T17:48:00",
          "1984-10-19T19:12:00",
          "1986-11-25T21:36:00"
         ],
         "y": {
          "bdata": "X9c7gTT3hD/Uejh2aFWOPwR0TFegU28/9cYJgQ40eD+vj61vdQNbP84yqSp02mA/13azqjadYD+w22HRp79mP5PenScwwWg/7agIlTCAcD8=",
          "dtype": "f8"
         }
        },
        {
         "hovertemplate": "<b>%{text}</b>",
         "line": {
          "width": 3
         },
         "marker": {
          "color": "#AF0038",
          "line": {
           "color": "black",
           "width": 2
          },
          "size": 14
         },
         "mode": "markers+lines",
         "name": "47_republiky_republiku_republika_bundesrepublik",
         "text": [
          "republiky, ceskoslovenskoamericky, zemích, republiku, americkému, československoamericky",
          "republiky, internacionály, ostpolitik, republikách, česka, zahraničnímu",
          "republiky, republika, republiku, občanm, vlastenecké, národních",
          "republiky, republika, republikou, novinám, republikách, republiku",
          "republiky, vnitropolitické, národnímu, zahraničněpolitického, sovětské, zemím",
          "republiky, republika, republiku, americkými, republikou, republike",
          "republiky, úřadm, štátnej, občany, úřady, vmanévrováni",
          "republiky, republik, republikou, československosovětské, antikomunistické, bürgerhausu",
          "republiky, protisovětským, vlasta, komunistickému, vyslanectví, sovětského",
          "republiky, republiku, republike, výročí, vlast, občané"
         ],
         "type": "scatter",
         "x": [
          "1968-01-01T00:00:00",
          "1970-02-06T02:24:00",
          "1972-03-14T04:48:00",
          "1974-04-20T07:12:00",
          "1976-05-26T09:36:00",
          "1978-07-02T12:00:00",
          "1980-08-07T15:24:00",
          "1982-09-13T17:48:00",
          "1984-10-19T19:12:00",
          "1986-11-25T21:36:00"
         ],
         "y": {
          "bdata": "4FoB5daDcD9fb+Lmmg1lPwvg6g/YtmA/8TgKQ9LpYD/WSkG0upZgPw/HjTaRQGM/yn2Cxma+WD8q1kaA8k9TPz1/5r8t9Ek/7mgkjuhgUz8=",
          "dtype": "f8"
         }
        },
        {
         "hovertemplate": "<b>%{text}</b>",
         "line": {
          "width": 3
         },
         "marker": {
          "color": "#2E91E5",
          "line": {
           "color": "black",
           "width": 2
          },
          "size": 14
         },
         "mode": "markers+lines",
         "name": "48_českému_slovenskému_češkou_češku",
         "text": [
          "českému, češke, čáslavské, svatováclavském, letovisku, slezska",
          "českému, brněnských, švýcarkou, švýcarka, češstvím, süddeutsche",
          "českému, knihovnického, tschechoslowakischer, knižním, knižní, knihovníky",
          "českému, brněnský, češke, rakouský, plzeňském, českošvýcarská",
          "českému, leningradě, československosovětská, rakouskočeskoslovenské, zdislavě, schauspielhaus",
          "českému, brněnských, pěveckého, svatovítském, uherský, brněnském",
          "českému, slovenskému, českobudějovické, czechoslovakias, česko, zlotých",
          "českému, jindřichově, českoněmecké, slovenští, slovanskému, českoněmeckou",
          "českému, češky, českoněmecké, čechošvýcarka, příplatek, československosovětské",
          "českému, češkou, křestanského, slovenskému, wyszynského, českom"
         ],
         "type": "scatter",
         "x": [
          "1968-01-01T00:00:00",
          "1970-02-06T02:24:00",
          "1972-03-14T04:48:00",
          "1974-04-20T07:12:00",
          "1976-05-26T09:36:00",
          "1978-07-02T12:00:00",
          "1980-08-07T15:24:00",
          "1982-09-13T17:48:00",
          "1984-10-19T19:12:00",
          "1986-11-25T21:36:00"
         ],
         "y": {
          "bdata": "rfMAOtSfdD8pLQhRoi5vP/xhlCZVUlg/O/lOkBiuYj/vwZQdYXhxP2vTWZpq52o/7OcWlBB1dj+lV44nB01zP4XHmkFFAnQ/iSBybSHobj8=",
          "dtype": "f8"
         }
        },
        {
         "hovertemplate": "<b>%{text}</b>",
         "line": {
          "width": 3
         },
         "marker": {
          "color": "#E15F99",
          "line": {
           "color": "black",
           "width": 2
          },
          "size": 14
         },
         "mode": "markers+lines",
         "name": "49_českobratrské_brněnské_plzeňského_vítězslav",
         "text": [
          "českobratrské, zazněl, brněnského, českobudějovického, svazech, českobratrském",
          "českobratrské, vítězslav, českobudějovického, čáslavskáodložilová, českobudějovická, staroslověnštině",
          "českobratrské, czechosloväk, czcchoslovak, středočeského, pražskem, slowakischcn",
          "českobratrské, rakouský, německa, lllnauerstrasse, süddeutsche, slovácká",
          "českobratrské, brněnské, českobratrský, brněnskou, wyszyňskim, svatováclavským",
          "českobratrské, brněnské, němečtí, ivropě, celospolečensky, bohoslovec",
          "českobratrské, hostitelm, vyhrazuje, zpracoval, ceník, pojednával",
          "českobratrské, schweizerische, západoněmeckými, rakouskému, brněnském, západoněmecké",
          "českobratrské, českobratrskou, plzeňského, českoněmeckého, všeslovanského, všeslovanské",
          "českobratrské, jaroslavský, vratislavi, vojtěchovy, slovanský, sťanskou"
         ],
         "type": "scatter",
         "x": [
          "1968-01-01T00:00:00",
          "1970-02-06T02:24:00",
          "1972-03-14T04:48:00",
          "1974-04-20T07:12:00",
          "1976-05-26T09:36:00",
          "1978-07-02T12:00:00",
          "1980-08-07T15:24:00",
          "1982-09-13T17:48:00",
          "1984-10-19T19:12:00",
          "1986-11-25T21:36:00"
         ],
         "y": {
          "bdata": "aHukdxyyez+R5v5UANJxP4skWbcMbGc/aUkdT9pQVz+iM49B8pF3P8tym4qGA24/mQ7+WokQYz+ia39Do3l1P99Vt2yPRXc/ocqfAuPzaj8=",
          "dtype": "f8"
         }
        },
        {
         "hovertemplate": "<b>%{text}</b>",
         "line": {
          "width": 3
         },
         "marker": {
          "color": "#1CA71C",
          "line": {
           "color": "black",
           "width": 2
          },
          "size": 14
         },
         "mode": "markers+lines",
         "name": "50_čechoslovákem_československosovětského_tschecho_hostitelské",
         "text": [
          "čechoslovákem, východoslovenském, čechoslovákovi, vlašských, czechoslova, českobudějovického",
          "čechoslovákem, tschecho, čechových, čechoslovákovi, českom, tchécoslovaquie",
          "čechoslovákem, uherský, koslovenské, schauspielhausu, úřadu, tchécoslovaqucs",
          "čechoslovákem, rakouskouher, viedenskej, němečkova, mníchovskom, nemcom",
          "čechoslovákem, česku, czeehoslovak, československopolského, czeciioslovak, ceskoslovenská",
          "čechoslovákem, tschecho, češku, čechoslovác, československopolskou, československosovětského",
          "čechoslovákem, slovenštiny, českýchlistin, tschecho, východoslovenském, tschechisch",
          "čechoslovákem, československua, českoamerických, bratislavskí, československosovětského, švajčiarom",
          "čechoslovákem, hostitelské, československosovětské, českolipské, slovákem, čáslavský",
          "čechoslovákem, češkou, československosovětské, západoslovanských, středoslovenském, tsjekkoslovakisk"
         ],
         "type": "scatter",
         "x": [
          "1968-01-01T00:00:00",
          "1970-02-06T02:24:00",
          "1972-03-14T04:48:00",
          "1974-04-20T07:12:00",
          "1976-05-26T09:36:00",
          "1978-07-02T12:00:00",
          "1980-08-07T15:24:00",
          "1982-09-13T17:48:00",
          "1984-10-19T19:12:00",
          "1986-11-25T21:36:00"
         ],
         "y": {
          "bdata": "MvVmLysANT8HeH8svrNNP6TR/TvbkEw/CKULTBBuQj+yAgLYtUhAP1JZpuL7AEE/GbCl3xOiRz8atjlY/MM6P4qN+tyrBT4/F0JqUI4yQz8=",
          "dtype": "f8"
         }
        },
        {
         "hovertemplate": "<b>%{text}</b>",
         "line": {
          "width": 3
         },
         "marker": {
          "color": "#FB0D0D",
          "line": {
           "color": "black",
           "width": 2
          },
          "size": 14
         },
         "mode": "markers+lines",
         "name": "51_czechoslovakia_ceskoslovenskoamericky_czechoslovaks_americanczechoslovak",
         "text": [
          "czechoslovakia, czechoslovakamerican, ceskoslovenskoamericky, československé, světového, režim",
          "czechoslovakia, czechoslovakamerican, československé, sovětském, ceskoslovenskoamericky, východoevropských",
          "czechoslovakia, vyšehradském, jugoslávský, jugoslávie, protisovětskou, protisovět",
          "czechoslovakia, sovětském, sovětská, československoamerický, protisovětským, americkém",
          "czechoslovakia, tschecho, sovětskou, americanczechoslovak, češkou, polsko",
          "czechoslovakia, československua, osvětimském, czcchoslovak, sovietmi, freedom",
          "czechoslovakia, czech, československí, sovětskočeskoslovenské, českoslovenké, vyšehradském",
          "czechoslovakia, slovakia, československí, czechoslovaks, tschechoslowakischcn, varšavského",
          "czechoslovakia, československajfk, slovakia, československoso, prvomájovom, varšavském",
          "czechoslovakia, sovětském, československé, západoslovenského, komunistickému, varšavské"
         ],
         "type": "scatter",
         "x": [
          "1968-01-01T00:00:00",
          "1970-02-06T02:24:00",
          "1972-03-14T04:48:00",
          "1974-04-20T07:12:00",
          "1976-05-26T09:36:00",
          "1978-07-02T12:00:00",
          "1980-08-07T15:24:00",
          "1982-09-13T17:48:00",
          "1984-10-19T19:12:00",
          "1986-11-25T21:36:00"
         ],
         "y": {
          "bdata": "fRVjLMrqYj9KCxRk+m1hP4cAG+4wA00/ydJ0kc4jUD+BVV4/bJ9SP5LOxiP1HUw/pLsfPMrRUT/4D3vfr+1MP1yRDdZl3EM/JGgsXndtTD8=",
          "dtype": "f8"
         }
        },
        {
         "hovertemplate": "<b>%{text}</b>",
         "line": {
          "width": 3
         },
         "marker": {
          "color": "#DA16FF",
          "line": {
           "color": "black",
           "width": 2
          },
          "size": 14
         },
         "mode": "markers+lines",
         "name": "52_česká_česka_česku_češku",
         "text": [
          "česká, česka, ženevský, němčiny, czechoslovaks, ccskoslovenskoamerický",
          "česká, československoamerický, česka, československé, antisovětské, politbyra",
          "česká, sokolskou, sokolský, zúčastnili, zastupovali, přísluší",
          "česká, vlasta, protičeskoslovenské, vnitropolitickým, národ, mezinárodně",
          "česká, nybratislavany, sovětská, minulém, czech, stan",
          "česká, czechs, československú, slavnostnímu, zas, obřady",
          "česká, československé, koslovenského, osmdesát, reynek, pozdržel",
          "česká, česka, koslovenského, koslovensku, čechu, českoslo",
          "česká, čechů, blahoslavenou, koslovensku, bohoslovcom, hrušovskému",
          "česká, české, čechoslovácích, republiku, československé, zařazen"
         ],
         "type": "scatter",
         "x": [
          "1968-01-01T00:00:00",
          "1970-02-06T02:24:00",
          "1972-03-14T04:48:00",
          "1974-04-20T07:12:00",
          "1976-05-26T09:36:00",
          "1978-07-02T12:00:00",
          "1980-08-07T15:24:00",
          "1982-09-13T17:48:00",
          "1984-10-19T19:12:00",
          "1986-11-25T21:36:00"
         ],
         "y": {
          "bdata": "N3oGWDI9Sj+MLpk+oZFJP4Js1B/Asz0/EQAo7XW+RD88IKSp9gZIP62pAOhyN0I/dl383ajfTj/pGnhHc0ZMPwSuJ7qjWkc/iPPDgyU5ST8=",
          "dtype": "f8"
         }
        },
        {
         "hovertemplate": "<b>%{text}</b>",
         "line": {
          "width": 3
         },
         "marker": {
          "color": "#222A2A",
          "line": {
           "color": "black",
           "width": 2
          },
          "size": 14
         },
         "mode": "markers+lines",
         "name": "53_vánoční_vánoce_vánoc_vánočních",
         "text": [
          "vánočním, vánoc, novoroční, poslat, vzkaz, blahoslavení",
          "vánoční, vánočních, vánoc, vánoce, novoroční, svátky",
          "vánoční, vánočním, prosinec, vánoce, dne, svátky",
          "vánoční, vánoce, vánoc, vánočních, vánocích, vánočního",
          "vánoční, vánoc, vánoce, vánočních, svátky, vánocích",
          "vánoc, vánoční, vánočních, vánoce, vánočním, vánocích",
          "vánoční, svátky, vánoce, vánočních, vánoc, vánocemi",
          "vánoc, vánoční, vánoce, svátky, svátek, předvánoční",
          "vánoční, vánočních, vánoce, vánoc, svátky, vánocích",
          "vánoční, vánoce, prosince, prosinec, svátky, vánoc"
         ],
         "type": "scatter",
         "x": [
          "1968-01-01T00:00:00",
          "1970-02-06T02:24:00",
          "1972-03-14T04:48:00",
          "1974-04-20T07:12:00",
          "1976-05-26T09:36:00",
          "1978-07-02T12:00:00",
          "1980-08-07T15:24:00",
          "1982-09-13T17:48:00",
          "1984-10-19T19:12:00",
          "1986-11-25T21:36:00"
         ],
         "y": {
          "bdata": "dUJUsdfySj/jPGWQ/YtdP0PdOINhzGE/3rNRZr1Tcz9D1YI8jlZpP6M7KM5RvmA/pDQ0iPZiZD+JGRNTgD1oP6e9GIunpWs/pZOwNBI9Vj8=",
          "dtype": "f8"
         }
        },
        {
         "hovertemplate": "<b>%{text}</b>",
         "line": {
          "width": 3
         },
         "marker": {
          "color": "#B68100",
          "line": {
           "color": "black",
           "width": 2
          },
          "size": 14
         },
         "mode": "markers+lines",
         "name": "54_českosloven_koslovensku_koslovenska_koslovenské",
         "text": [
          "českosloven, čechoslováků, koslovensku, československoso, koslovenska, prahaslovan",
          "českosloven, východoněmeckém, vlastenecky, vlasteneckou, národního, vyšehradský",
          "českosloven, koslovensku, pražskej, varhany, novomeskému, komunistkou",
          "českosloven, ceskoslovenskoamcrický, varhany, moravskoslovenské, slovenské, bratislavakošice",
          "českosloven, koslovenska, koslovensku, koslovensko, koslovenského, czechoslovaklan",
          "českosloven, koslovensku, koslovenska, českoslo, česko, tschechei",
          "českosloven, koslovensku, koslovenské, českoslo, publikací, koslovenska",
          "českosloven, koslovensku, českoslo, koslovenska, koslovenský, koslovenských",
          "českosloven, koslovensku, koslovenska, koslovenské, koslovenských, českoslo",
          "českosloven, koslovensku, koslovenska, koslovenské, koslovenského, koslovensko"
         ],
         "type": "scatter",
         "x": [
          "1968-01-01T00:00:00",
          "1970-02-06T02:24:00",
          "1972-03-14T04:48:00",
          "1974-04-20T07:12:00",
          "1976-05-26T09:36:00",
          "1978-07-02T12:00:00",
          "1980-08-07T15:24:00",
          "1982-09-13T17:48:00",
          "1984-10-19T19:12:00",
          "1986-11-25T21:36:00"
         ],
         "y": {
          "bdata": "k27oMeZAVT/6ETUb3M9DPz3PylL7xFI/SADk1w80UD8SLwY1umlkP2i0P7jNg1U/sJatPVdfVz9q+87A18hbP4Ct8FdZWFo/MycRKAf9WD8=",
          "dtype": "f8"
         }
        },
        {
         "hovertemplate": "<b>%{text}</b>",
         "line": {
          "width": 3
         },
         "marker": {
          "color": "#750D86",
          "line": {
           "color": "black",
           "width": 2
          },
          "size": 14
         },
         "mode": "markers+lines",
         "name": "55_pražských_varhany_československopolské_československú",
         "text": [
          "pražských, czechoslovakamerican, česka, československé, letovisku, českoslovenku",
          "pražských, československé, republikách, berlíně, americanczechoslovak, zürcherstrasse",
          "pražských, češku, českoněmeckém, přísluší, tsjekkoslovakisk, jihlavskými",
          "pražských, slovenské, novinách, czechoslova, rakouského, českošvýcarská",
          "pražských, českoamerické, varhany, československé, československosovět, českoslovenství",
          "pražských, slovenští, slovenka, slovenskou, popularczechoslovak, vládními",
          "pražských, československú, nakladatelství, československé, mnichovském, publikoval",
          "pražských, československom, brněnském, týdenník, jaruzelského, pražskem",
          "pražských, koslovenska, novomeského, chécoslovaques, češkou, středoslovenském",
          "pražských, československopolské, vladivostoku, protičeskoslovenské, uherském, polskočeskoslovenské"
         ],
         "type": "scatter",
         "x": [
          "1968-01-01T00:00:00",
          "1970-02-06T02:24:00",
          "1972-03-14T04:48:00",
          "1974-04-20T07:12:00",
          "1976-05-26T09:36:00",
          "1978-07-02T12:00:00",
          "1980-08-07T15:24:00",
          "1982-09-13T17:48:00",
          "1984-10-19T19:12:00",
          "1986-11-25T21:36:00"
         ],
         "y": {
          "bdata": "3QzZPtnafD9duvF6+KB6P1NrQcyO4Wk/9parf80Zbj9CgKdxR112P8cW+dvSGWs/msxmjoEbbT9eWcJMd6RvPx+Z7W4RI2k/shxYu4UvbD8=",
          "dtype": "f8"
         }
        },
        {
         "hovertemplate": "<b>%{text}</b>",
         "line": {
          "width": 3
         },
         "marker": {
          "color": "#EB663B",
          "line": {
           "color": "black",
           "width": 2
          },
          "size": 14
         },
         "mode": "markers+lines",
         "name": "56_výročí_kdy_období_historie",
         "text": [
          "období, kdy, minulých, výročí, současné, dějin",
          "historického, zeitgeschichte, jahrhunderts, dortmundwickede, jahrhundert, staročeský",
          "výročí, kdy, období, minulém, připomínáme, událostí",
          "výročí, historie, dějin, historické, dosavadních, období",
          "výročí, období, kdysi, někdejší, kdy, minulého",
          "výročí, kdy, období, minulých, 1939, historické",
          "kdy, výročí, období, year, letos, slavnost",
          "výročí, kdy, současné, oltářem, svatyni, klášter",
          "výročí, období, kdy, jubileum, historii, osvoboditele",
          "výročí, kdy, historie, době, minulosti, dějin"
         ],
         "type": "scatter",
         "x": [
          "1968-01-01T00:00:00",
          "1970-02-06T02:24:00",
          "1972-03-14T04:48:00",
          "1974-04-20T07:12:00",
          "1976-05-26T09:36:00",
          "1978-07-02T12:00:00",
          "1980-08-07T15:24:00",
          "1982-09-13T17:48:00",
          "1984-10-19T19:12:00",
          "1986-11-25T21:36:00"
         ],
         "y": {
          "bdata": "11R1ALJfej8/EDxjdbJiP2Q21BteLIY/Mm8GBu2NiD+eQRJ6saR/P4wOAiiQSYE/Cn3Ct2Jsdz9g8C9E7odzP7KbCQh7aoE/2mmZpowxiD8=",
          "dtype": "f8"
         }
        },
        {
         "hovertemplate": "<b>%{text}</b>",
         "line": {
          "width": 3
         },
         "marker": {
          "color": "#511CFB",
          "line": {
           "color": "black",
           "width": 2
          },
          "size": 14
         },
         "mode": "markers+lines",
         "name": "57_čechov_československú_plzeňského_československosovětského",
         "text": [
          "čechov, českeho, tschechoslovakischen, ceskoslovenskoamericky, čssršvédsko, plzeňského",
          "čechov, českých, čechové, československopolské, československosovětské, sovietskí",
          "čechov, československosovětského, vyšehradský, čechošvýcarka, češce, vyšehradského",
          "čechov, letovisku, československosovětského, tsjechische, slovenskou, európskom",
          "čechov, československú, voj, čechoslovakizmu, neslovenských, slezských",
          "čechov, čechové, slovenské, českých, čechoslovákov, českoslovenksu",
          "čechov, slovácku, protičeskoslovenskej, českoslovenko, českýma, prešovským",
          "čechov, československéj, komunistickom, slovákom, czechs, americkoslovenský",
          "čechov, těžkoslovensku, stredoslovenské, koslovenských, českošvýcarského, plzeňského",
          "čechov, ceskoslovenskej, československosovětského, choslovakia, československú, tchécoslovaqucs"
         ],
         "type": "scatter",
         "x": [
          "1968-01-01T00:00:00",
          "1970-02-06T02:24:00",
          "1972-03-14T04:48:00",
          "1974-04-20T07:12:00",
          "1976-05-26T09:36:00",
          "1978-07-02T12:00:00",
          "1980-08-07T15:24:00",
          "1982-09-13T17:48:00",
          "1984-10-19T19:12:00",
          "1986-11-25T21:36:00"
         ],
         "y": {
          "bdata": "zEAtfJIyUz/aMik+nhlhP1gWvvXMKT0/NLiLS8UcRT9j/tGY3rhSP6ulRrab8Es/2s1FoelMUz8zzS9oGmdPP32I4EemDEw/RaTpUmDDUT8=",
          "dtype": "f8"
         }
        },
        {
         "hovertemplate": "<b>%{text}</b>",
         "line": {
          "width": 3
         },
         "marker": {
          "color": "#00A08B",
          "line": {
           "color": "black",
           "width": 2
          },
          "size": 14
         },
         "mode": "markers+lines",
         "name": "58_tschechen_cechi_české_bratislavská",
         "text": [
          "tschechen, čechů, české, tchèques, slováku, švýcarskočeskoslovenské",
          "tschechen, cechi, uherský, slovákú, schweizerische, rakousku",
          "tschechen, cechi, česku, helvetočeskoslovenského, jihoslovanské, francouzskočeskoslovenské",
          "tschechen, cechi, češích, rakúskouhorsku, rakúsku, rakouští",
          "tschechen, cechi, češkou, čechů, českoslovenkých, tschechoslo",
          "tschechen, cechi, slovaques, slovenských, zlatnictví, ateliér",
          "tschechen, českýchlistin, plzeňského, československú, české, pražskej",
          "tschechen, české, tschechische, mlékárenském, cechi, tschechoslo",
          "tschechen, české, rakouskočeskoslovenské, vyšehradská, stredoslovenské, českoslovsensku",
          "tschechen, cechi, české, bratislavská, slovenských, slovaques"
         ],
         "type": "scatter",
         "x": [
          "1968-01-01T00:00:00",
          "1970-02-06T02:24:00",
          "1972-03-14T04:48:00",
          "1974-04-20T07:12:00",
          "1976-05-26T09:36:00",
          "1978-07-02T12:00:00",
          "1980-08-07T15:24:00",
          "1982-09-13T17:48:00",
          "1984-10-19T19:12:00",
          "1986-11-25T21:36:00"
         ],
         "y": {
          "bdata": "7tAwO/FqZD8GXdgdV9xxPwiDLAWozVM/KiKvBRX/Qj+SFi1XdYpQPzzA/BhluU4/4hKuEx+dUz8V3eBNXc9JPy9cF84J50U/jQce1JddWz8=",
          "dtype": "f8"
         }
        },
        {
         "hovertemplate": "<b>%{text}</b>",
         "line": {
          "width": 3
         },
         "marker": {
          "color": "#FB00D1",
          "line": {
           "color": "black",
           "width": 2
          },
          "size": 14
         },
         "mode": "markers+lines",
         "name": "59_čechoslováky_čechu_čechoslovácích_polický",
         "text": [
          "čechoslováky, československé, polický, švýcarskočeskoslovenské, stalinisty, čechu",
          "čechoslováky, východoslovenské, cechi, československoamericky, zahraniční, zahraničního",
          "čechoslováky, češkou, československom, tschecho, velvyslanectví, českoněmeckém",
          "čechoslováky, vydaných, uherském, varhany, protičeskoslovenských, kremelští",
          "čechoslováky, vlasta, čechošvýcarka, varšavském, českoslovanské, čechu",
          "čechoslováky, ceskoslovenskoněmecká, czcchoslovak, týdenníku, čechoslovác, československopolskou",
          "čechoslováky, češke, vyšehradském, češku, českýma, leningradě",
          "čechoslováky, čechu, mimopražské, letovisku, uherským, češtinou",
          "čechoslováky, čechoslovácích, novinek, czechs, koslovenskými, slovenskému",
          "čechoslováky, slovaks, čechoslovácích, bratislavských, ukrajinci, skočeskoslovenské"
         ],
         "type": "scatter",
         "x": [
          "1968-01-01T00:00:00",
          "1970-02-06T02:24:00",
          "1972-03-14T04:48:00",
          "1974-04-20T07:12:00",
          "1976-05-26T09:36:00",
          "1978-07-02T12:00:00",
          "1980-08-07T15:24:00",
          "1982-09-13T17:48:00",
          "1984-10-19T19:12:00",
          "1986-11-25T21:36:00"
         ],
         "y": {
          "bdata": "52Q6tX/dkz+O5HB81oSLP7SxLVrIPXY/0hMwoK40gz/yGlVRip9+P7k7JoSCD3E/Jo88enh0fj90Gqc6SeWAP3iCXKMming/Vnrs6GLvdD8=",
          "dtype": "f8"
         }
        },
        {
         "hovertemplate": "<b>%{text}</b>",
         "line": {
          "width": 3
         },
         "marker": {
          "color": "#FC0080",
          "line": {
           "color": "black",
           "width": 2
          },
          "size": 14
         },
         "mode": "markers+lines",
         "name": "60_roku_letech_svazu_roce",
         "text": [
          "roku, kazatelé, vojtěcha, václav, sborníku, zdeněk",
          "roku, evžena, nebeské, rého, štovní, dívali",
          "roku, hodin, češi, líbila, natolik, líbil",
          "roku, rok, rádi, pořadu, letošních, nevánoční",
          "roku, los, stan, ročníkvol, předjel, vokolo",
          "roku, roce, letech, los, zúčastnil, zastávat",
          "roku, jichž, pořad, roce, letech, 4156614898",
          "roku, letech, volit, převedl, vydá, kdyi",
          "roku, epizodou, komu, los, revue, kdyř",
          "roku, letech, svazu, rok, natolik, petici"
         ],
         "type": "scatter",
         "x": [
          "1968-01-01T00:00:00",
          "1970-02-06T02:24:00",
          "1972-03-14T04:48:00",
          "1974-04-20T07:12:00",
          "1976-05-26T09:36:00",
          "1978-07-02T12:00:00",
          "1980-08-07T15:24:00",
          "1982-09-13T17:48:00",
          "1984-10-19T19:12:00",
          "1986-11-25T21:36:00"
         ],
         "y": {
          "bdata": "N8vtyVzBdT/+yjYIVgNpP4jK4iKzWIA/90XuHxa8cT9yGkL+XBCLP9ziHxHPG5E/qw1Y054hiD8ny5ucS0F+PywfaBEUy4U/RQ/9FS5kkT8=",
          "dtype": "f8"
         }
        },
        {
         "hovertemplate": "<b>%{text}</b>",
         "line": {
          "width": 3
         },
         "marker": {
          "color": "#B2828D",
          "line": {
           "color": "black",
           "width": 2
          },
          "size": 14
         },
         "mode": "markers+lines",
         "name": "61_svatý_svaté_svatého_svatosti",
         "text": [
          "bohoslovce, svatosti, zapojena, kazateli, novosvěcenec, mší",
          "svatého, svatou, svatá, svatý, božímu, stvořitel",
          "svatý, svatého, svaté, svatých, papeže, papež",
          "svatý, zbožnosti, kněžských, laik, apoštolského, heiligkreuzkir",
          "svaté, kněžského, svatého, farních, svatý, svatém",
          "svatý, svatá, svaté, svatého, apoštolově, zbožný",
          "svatý, svaté, svatého, světce, svatosti, svatí",
          "svatý, svaté, svatému, svatosti, svatého, svatém",
          "svatý, svaté, svatí, svatého, svatou, svatých",
          "svatý, svaté, svatého, svatosti, svatí, svatému"
         ],
         "type": "scatter",
         "x": [
          "1968-01-01T00:00:00",
          "1970-02-06T02:24:00",
          "1972-03-14T04:48:00",
          "1974-04-20T07:12:00",
          "1976-05-26T09:36:00",
          "1978-07-02T12:00:00",
          "1980-08-07T15:24:00",
          "1982-09-13T17:48:00",
          "1984-10-19T19:12:00",
          "1986-11-25T21:36:00"
         ],
         "y": {
          "bdata": "sNWTwBaeNT+HlfAM001XPwiwTmwAslw/UjGFP8t6RT8kgcNMmJlUPyupyrWbPWY/EqpvD3xadz8NoVynS05xP4/1qe1BWHg/0USnZRkNcD8=",
          "dtype": "f8"
         }
        },
        {
         "hovertemplate": "<b>%{text}</b>",
         "line": {
          "width": 3
         },
         "marker": {
          "color": "#6C7C32",
          "line": {
           "color": "black",
           "width": 2
          },
          "size": 14
         },
         "mode": "markers+lines",
         "name": "62_sovětm_nov_východoevropskými_protisovětské",
         "text": [
          "sovětm, komunistických, czechoslovakamerican, prahaslovan, protisovětských, sovětskočínských",
          "sovětm, sovětském, východoevropskými, ceskoslovcnskoamerický, ostpolitik, leftist",
          "sovětm, sovětských, komunismus, sovětského, sovětském, moskvy",
          "sovětm, sovětském, sovětskými, komunistická, stalinismu, komunisté",
          "sovětm, amerikou, sovětskou, leningradské, dohodnout, antisovětského",
          "sovětm, východoevropský, protiamerické, československopol, východoevropská, protisovětské",
          "sovětm, sovětská, státčeskoslovenský, sovětsko, nov, vyslanectví",
          "sovětm, nov, sovietskemu, novinka, českobratrských, československopol",
          "sovětm, novinka, komunistickým, sovětsko, komunistickému, bundesrepublik",
          "sovětm, nyprahabratislavany, sovětskaja, soviet, komunistickém, protisovětské"
         ],
         "type": "scatter",
         "x": [
          "1968-01-01T00:00:00",
          "1970-02-06T02:24:00",
          "1972-03-14T04:48:00",
          "1974-04-20T07:12:00",
          "1976-05-26T09:36:00",
          "1978-07-02T12:00:00",
          "1980-08-07T15:24:00",
          "1982-09-13T17:48:00",
          "1984-10-19T19:12:00",
          "1986-11-25T21:36:00"
         ],
         "y": {
          "bdata": "fFEZozw/cT8azUcHGTxpPxGVfbovP2w/BVzfMIPvZT9YHh7X1c1iPwUEw+kCa2M/rdmnC4fCYT+iyGpCXipYP39xzP1CKlM/jCncPZvbST8=",
          "dtype": "f8"
         }
        },
        {
         "hovertemplate": "<b>%{text}</b>",
         "line": {
          "width": 3
         },
         "marker": {
          "color": "#778AAE",
          "line": {
           "color": "black",
           "width": 2
          },
          "size": 14
         },
         "mode": "markers+lines",
         "name": "63_usa_americkému_americká_zemích",
         "text": [
          "usa, americká, světové, americkému, světových, zemím",
          "usa, zemích, americkému, světových, amerikou, amerika",
          "usa, americká, americe, amerika, národně, los",
          "usa, zemích, námět, americkému, america, mezistátním",
          "usa, amerického, americkými, americkému, odbor, ústav",
          "usa, americkému, americkými, americká, velvyslanectví, novinové",
          "usa, americkému, velvyslanectví, americká, vyslanectví, washington",
          "usa, americká, ny, americkému, režim, zpráv",
          "usa, americkému, amerického, zpravodajskou, president, velvyslanectví",
          "usa, uss, novinami, americkému, sovětskou, poštovních"
         ],
         "type": "scatter",
         "x": [
          "1968-01-01T00:00:00",
          "1970-02-06T02:24:00",
          "1972-03-14T04:48:00",
          "1974-04-20T07:12:00",
          "1976-05-26T09:36:00",
          "1978-07-02T12:00:00",
          "1980-08-07T15:24:00",
          "1982-09-13T17:48:00",
          "1984-10-19T19:12:00",
          "1986-11-25T21:36:00"
         ],
         "y": {
          "bdata": "2l7Pmat3dD+zqEXWznVyPyWiiMwYIXE/B7J3ONRkaT9LMXI8oXhmP5siLaK1BHc/FDRpCuP/cj+Mtjq9WpBuPxx9XhGJZGc/AZHGB9T5UT8=",
          "dtype": "f8"
         }
        },
        {
         "hovertemplate": "<b>%{text}</b>",
         "line": {
          "width": 3
         },
         "marker": {
          "color": "#862A16",
          "line": {
           "color": "black",
           "width": 2
          },
          "size": 14
         },
         "mode": "markers+lines",
         "name": "64_novin_novinách_novinám_novinami",
         "text": [
          "novin, novinách, okresu, znění, znějí, vydávali",
          "novin, novinách, vydány, novinami, státe, vlad",
          "novin, novinách, novinám, vydána, vydávají, novinek",
          "novin, novinách, novinám, novinami, czeehoslovak, přednesl",
          "novin, novinách, novinám, novinových, bělošských, dokumentu",
          "novin, novinách, novinám, nypopradny, noviny, novinami",
          "novin, novinách, novinám, nov, zveřejněno, novinek",
          "novin, novinách, novinka, novinám, vydavatel, zpravodajská",
          "novin, novinách, zpráv, koslovenska, správy, týdenníku",
          "novin, novinách, novinám, novinami, novinka, vydávání"
         ],
         "type": "scatter",
         "x": [
          "1968-01-01T00:00:00",
          "1970-02-06T02:24:00",
          "1972-03-14T04:48:00",
          "1974-04-20T07:12:00",
          "1976-05-26T09:36:00",
          "1978-07-02T12:00:00",
          "1980-08-07T15:24:00",
          "1982-09-13T17:48:00",
          "1984-10-19T19:12:00",
          "1986-11-25T21:36:00"
         ],
         "y": {
          "bdata": "BD5NpAb6bD8ar/giY1GBP0O9/CyJcIU/anRl8JudjT+bU4LcQb2APwlQb9CUP3s/NK7DtHjvdD9+xnPpnCx5P13Ca+U1Dng/rsORAy8ubT8=",
          "dtype": "f8"
         }
        },
        {
         "hovertemplate": "<b>%{text}</b>",
         "line": {
          "width": 3
         },
         "marker": {
          "color": "#A777F1",
          "line": {
           "color": "black",
           "width": 2
          },
          "size": 14
         },
         "mode": "markers+lines",
         "name": "65_socialistická_socialistické_socialistického_socialisté",
         "text": [
          "socialismu, socialistické, socialismus, socialistického, komunistickým, socializmu",
          "socialistického, socialisté, socialistické, socialistický, socialistická, socialistických",
          "socialistické, socialistická, socialistický, socialistických, socialismus, socialisté",
          "socialisté, socialistická, socialistických, socialistickou, socialistické, socialista",
          "socialistický, socialismu, socialistické, socialistickou, socialistic, proletariátu",
          "socialistickém, socialisté, socialistické, socialistického, polskému, socialistou",
          "socialismu, socialisté, protisocialistickou, socialismem, socializmu, socializmus",
          "socialisté, socialistickému, socialistického, socialistický, socialisty, socialistickém",
          "socialistická, socialismu, socialistické, socialismus, socialistickým, socialistických",
          "socialistického, socialistická, socialistickou, socialismu, socialistickém, socialismem"
         ],
         "type": "scatter",
         "x": [
          "1968-01-01T00:00:00",
          "1970-02-06T02:24:00",
          "1972-03-14T04:48:00",
          "1974-04-20T07:12:00",
          "1976-05-26T09:36:00",
          "1978-07-02T12:00:00",
          "1980-08-07T15:24:00",
          "1982-09-13T17:48:00",
          "1984-10-19T19:12:00",
          "1986-11-25T21:36:00"
         ],
         "y": {
          "bdata": "YhrUoWEDcD8aSbUc7TCUP5wkwX+iVpc/mZzjjisTgj9sKI/f5T+BPyKyRsZRp30/2/UW+YDdcD/eWt2Tc+13P3YbgueTwoI//l+ZBuM1gz8=",
          "dtype": "f8"
         }
        },
        {
         "hovertemplate": "<b>%{text}</b>",
         "line": {
          "width": 3
         },
         "marker": {
          "color": "#620042",
          "line": {
           "color": "black",
           "width": 2
          },
          "size": 14
         },
         "mode": "markers+lines",
         "name": "66_biskup_biskupov_kňazov_kňaz",
         "text": [
          "vatikánští, italský, novomeským, vatikán, fundaci, římským",
          "biskupských, episkopát, synod, biskupská, katolických, kněžství",
          "biskup, arcibiskup, biskupa, kardinála, arcibiskupe, arcibiskupský",
          "farář, biskupv, knězími, knězím, kňazom, kázal",
          "biskup, biskupa, biskupem, biskupové, farář, faráře",
          "pope, persecution, persecuted, papal, vatican, catholics",
          "farnosť, biskupovi, kostola, diocesan, diocese, biskupskú",
          "pápežskej, vatikánsky, pápežovi, bratislavská, slovenky, pravoslávnej",
          "biskup, pápež, kňaz, kňaza, kňazom, bohoslužby",
          "biskup, biskupov, kňazov, papal, kňaz, biskupa"
         ],
         "type": "scatter",
         "x": [
          "1968-01-01T00:00:00",
          "1970-02-06T02:24:00",
          "1972-03-14T04:48:00",
          "1974-04-20T07:12:00",
          "1976-05-26T09:36:00",
          "1978-07-02T12:00:00",
          "1980-08-07T15:24:00",
          "1982-09-13T17:48:00",
          "1984-10-19T19:12:00",
          "1986-11-25T21:36:00"
         ],
         "y": {
          "bdata": "mER9axufET/OavjpI2wzPwW+1qeO7ks/PMHpYfsVMz+KWUIRpZk6P0dYadtzb0U/Y8bVumeyUj/0bKtpeQ1HP9tnyAPh0mA//vSkUl2ugD8=",
          "dtype": "f8"
         }
        },
        {
         "hovertemplate": "<b>%{text}</b>",
         "line": {
          "width": 3
         },
         "marker": {
          "color": "#1616A7",
          "line": {
           "color": "black",
           "width": 2
          },
          "size": 14
         },
         "mode": "markers+lines",
         "name": "67_cirkevní_katolíckej_cirkevných_katolíkov",
         "text": [
          "vatikáně, svatému, teologických, světácké, ekumenismu, teologické",
          "kongres, štátnej, protisocialistických, zastupitelským, poštou, úřadem",
          "liturgii, liturgickou, liturgickém, svatojánské, jezuitský, světcích",
          "liturgických, synovskou, synoda, hostitelské, sbory, slovenštinu",
          "antologií, revue, krista, laikm, vatikánskeho, 1977",
          "cirkev, církevního, katolík, katolíky, katolíci, ekumenický",
          "cirkevných, cirkevní, katolíkov, cirkevné, katolíckej, katolícka",
          "vatikánskeho, kristovom, kristovi, teológiu, zasvätenia, teológia",
          "cirkevné, cirkvi, cirkvou, cirkevných, cirkev, vatikáne",
          "katolíckej, cirkevní, katolíkov, cirkevných, katolícku, katolíckych"
         ],
         "type": "scatter",
         "x": [
          "1968-01-01T00:00:00",
          "1970-02-06T02:24:00",
          "1972-03-14T04:48:00",
          "1974-04-20T07:12:00",
          "1976-05-26T09:36:00",
          "1978-07-02T12:00:00",
          "1980-08-07T15:24:00",
          "1982-09-13T17:48:00",
          "1984-10-19T19:12:00",
          "1986-11-25T21:36:00"
         ],
         "y": {
          "bdata": "whwfWskZJz9eju84QMcSP8shsIoDx1A/PSs//2k1QT9gKzTHCCpGP2vuD8F1QFE/Qfphs+jMmz9/3jBowAFfP2dmTDNx6W8/6QCFgYWElz8=",
          "dtype": "f8"
         }
        },
        {
         "hovertemplate": "<b>%{text}</b>",
         "line": {
          "width": 3
         },
         "marker": {
          "color": "#DA60CA",
          "line": {
           "color": "black",
           "width": 2
          },
          "size": 14
         },
         "mode": "markers+lines",
         "name": "68_československé_uhorským_lánského_tesařová",
         "text": [
          "československé, vědu, vědce, štúdia, studijní, vědecké",
          "československé, czechoslovak, špiónské, oficielně, vládo, špionážního",
          "československé, czechoslovak, špiónské, oficielně, vládo, špionážního",
          "československé, zpravodajskou, vzpomenuto, minulosti, někdejší, minulost",
          "československé, americká, prednášala, přednášková, prednáškovej, prednášateľov",
          "československé, czechoslovak, špiónské, oficielně, vládo, špionážního",
          "československé, slovenky, neslovanských, uhorským, uhorsko, bohoslovcov",
          "československé, československa, pravoslávnej, pápežovu, ježišovom, kňazskej",
          "československé, religiozitě, religiozity, náboženský, katolicismus, diskutuje",
          "československé, tesařová, vlastimila, vlastimile, zhodnotili, lánského"
         ],
         "type": "scatter",
         "x": [
          "1968-01-01T00:00:00",
          "1970-02-06T02:24:00",
          "1972-03-14T04:48:00",
          "1974-04-20T07:12:00",
          "1976-05-26T09:36:00",
          "1978-07-02T12:00:00",
          "1980-08-07T15:24:00",
          "1982-09-13T17:48:00",
          "1984-10-19T19:12:00",
          "1986-11-25T21:36:00"
         ],
         "y": {
          "bdata": "lM9fUaULVz/W8u+PuRRWP1YUo8QypE8/aslV3R42Uj8E+0ElQnlSP/zJl6POOVA/+uGo2r4NVT9H/YatId5UPxXlyXSP3FI/waWDFvIPUD8=",
          "dtype": "f8"
         }
        },
        {
         "hovertemplate": "<b>%{text}</b>",
         "line": {
          "width": 3
         },
         "marker": {
          "color": "#6C4516",
          "line": {
           "color": "black",
           "width": 2
          },
          "size": 14
         },
         "mode": "markers+lines",
         "name": "69_plzeňský_ceskoslovenskoamericky_leningradě_bratislavský",
         "text": [
          "plzeňský, leningradě, českobratrský, sovětského, prosovětských, sovětskočeskoslovenské",
          "plzeňský, východoevropských, ceskoslovenskoamericky, východoevropské, czechoslovakamerican, novinám",
          "plzeňský, bratislavský, vydávají, zařídili, václavův, dokumenty",
          "plzeňský, českobratrsky, článkem, ceskoslovenskoamcrický, slovákom, vydával",
          "plzeňský, slezsko, osvobozenecké, vladivostoku, slovenské, polsku",
          "plzeňský, bratislavská, wyszyňského, krakovské, polskými, polštině",
          "plzeňský, brněnského, brněnskému, brněnské, plzeňského, polštiny",
          "plzeňský, nemcom, nemcoch, českopolské, němeček, východoněmecký",
          "plzeňský, plzeňského, krakonošova, katze, zazněla, koutk",
          "plzeňský, vojtěchem, vítězslav, budapešťského, václavském, tschechoslowakischer"
         ],
         "type": "scatter",
         "x": [
          "1968-01-01T00:00:00",
          "1970-02-06T02:24:00",
          "1972-03-14T04:48:00",
          "1974-04-20T07:12:00",
          "1976-05-26T09:36:00",
          "1978-07-02T12:00:00",
          "1980-08-07T15:24:00",
          "1982-09-13T17:48:00",
          "1984-10-19T19:12:00",
          "1986-11-25T21:36:00"
         ],
         "y": {
          "bdata": "I8woWdxVdj8oEExbl5uAP8XOG2Ieom0/W+9Pr1TXYj+3f10rz7tZP+3zelH17kU/qN5DK3MMST8ON/tW0KgzP19/trMq9D4/nzwEEXkYOj8=",
          "dtype": "f8"
         }
        },
        {
         "hovertemplate": "<b>%{text}</b>",
         "line": {
          "width": 3
         },
         "marker": {
          "color": "#0D2A63",
          "line": {
           "color": "black",
           "width": 2
          },
          "size": 14
         },
         "mode": "markers+lines",
         "name": "70_pražským_tschechoslowakischer_leningradě_středoslovenském",
         "text": [
          "pražským, pražsky, čechu, světových, češkou, československosovětské",
          "pražským, čechu, tschechoslo, ceskoslovcnskoamerický, ceskoslovenskoamericky, mnichovské",
          "pražským, czechosloväk, leningradě, koslovenska, brežnev, československú",
          "pražským, osvobozenecké, zájezd, antikomunistické, moravskoslezskou, novinám",
          "pražským, tschechoslowakischer, čechošvýcarka, velvyslanectví, osvobozenecké, slezsku",
          "pražským, slovenskému, tschechoslowakische, československoněmecká, československopolské, varhany",
          "pražským, slovenska, československuv, československosovětská, vojtěchova, vídeňáci",
          "pražským, slovanského, tschechoslowakischer, českobudějovického, protisovět, jaroslavu",
          "pražským, uherské, středoslovenském, českoněmecký, czechs, ny",
          "pražským, czechs, českoslovens, včeskoslovensku, ceskoslovensku, prahamoskva"
         ],
         "type": "scatter",
         "x": [
          "1968-01-01T00:00:00",
          "1970-02-06T02:24:00",
          "1972-03-14T04:48:00",
          "1974-04-20T07:12:00",
          "1976-05-26T09:36:00",
          "1978-07-02T12:00:00",
          "1980-08-07T15:24:00",
          "1982-09-13T17:48:00",
          "1984-10-19T19:12:00",
          "1986-11-25T21:36:00"
         ],
         "y": {
          "bdata": "ymfs3FbGej+I3ZmWXJN8P1fLBx5BlXY/alS1qFXGdz9WuIcr4zJ2P29Et/btOHQ/w+RvaVdoej8+u61/w0p1P2gvQuI9wWw/dfhfFRzqcz8=",
          "dtype": "f8"
         }
        },
        {
         "hovertemplate": "<b>%{text}</b>",
         "line": {
          "width": 3
         },
         "marker": {
          "color": "#AF0038",
          "line": {
           "color": "black",
           "width": 2
          },
          "size": 14
         },
         "mode": "markers+lines",
         "name": "71_čeští_čechů_českí_české",
         "text": [
          "čeští, tschechoslowakischcn, východoslovenskou, czechoslowak, tchécoslovaqucs, česka",
          "čeští, varhany, čáslavská, vratislav, tchécoslovaqucs, pražskú",
          "čeští, češku, slovenští, czecoslovakia, vyšehradském, bečvou",
          "čeští, slovenska, tschechoslowakische, svatovojtěšské, wyszyňského, pěveckých",
          "čeští, slovenští, tchccoslovaques, česka, čechovovi, čechu",
          "čeští, československú, pobělohorském, skoslovenských, cecoslovacca, skoslovenska",
          "čeští, čechové, čechů, czechs, koslovenského, českých",
          "čeští, čechů, češích, letovisku, koslovensko, československua",
          "čeští, slovenskému, koslovensku, čechů, tschechische, české",
          "čeští, české, česku, slovenští, polsku, češku"
         ],
         "type": "scatter",
         "x": [
          "1968-01-01T00:00:00",
          "1970-02-06T02:24:00",
          "1972-03-14T04:48:00",
          "1974-04-20T07:12:00",
          "1976-05-26T09:36:00",
          "1978-07-02T12:00:00",
          "1980-08-07T15:24:00",
          "1982-09-13T17:48:00",
          "1984-10-19T19:12:00",
          "1986-11-25T21:36:00"
         ],
         "y": {
          "bdata": "C3If/eifaj/P9+QD5T5eP7L4BH6kO1g/SYT2dzlQWz/Nu99zQGVjPz7DyPiNsFk/RHgoAVjUaT/wxjnGqX9mP39tGBMgwGI/LGJ8N3z8ZT8=",
          "dtype": "f8"
         }
        },
        {
         "hovertemplate": "<b>%{text}</b>",
         "line": {
          "width": 3
         },
         "marker": {
          "color": "#2E91E5",
          "line": {
           "color": "black",
           "width": 2
          },
          "size": 14
         },
         "mode": "markers+lines",
         "name": "72_češka_tschecho_koslovenska_češkou",
         "text": [
          "češka, ceskoslovenskoamericky, polický, čechu, rakúšanka, koslovenskosovětského",
          "češka, tschecho, čechu, češkou, češke, tchccoslovaques",
          "češka, tschecho, československosovětského, češku, české, čechu",
          "češka, czcchoslovak, češkou, czeciioslovak, tschecho, zahraničíczechoslovak",
          "češka, tschecho, slovácko, čechoslováků, tchccoslovaques, česku",
          "češka, czcchoslovak, češku, slovenska, tschecho, jihoslovanský",
          "češka, československošvédsko, češkou, protičeskoslovenských, stredoslovenských, českeho",
          "češka, slováku, východoslovenských, českýchlistin, slovácké, vyšehradská",
          "češka, pěveckého, letzigrund, vídeňskou, českoslovsenska, koslovensko",
          "češka, československuzákonného, slovácká, koslovenska, letovisku, koslovensko"
         ],
         "type": "scatter",
         "x": [
          "1968-01-01T00:00:00",
          "1970-02-06T02:24:00",
          "1972-03-14T04:48:00",
          "1974-04-20T07:12:00",
          "1976-05-26T09:36:00",
          "1978-07-02T12:00:00",
          "1980-08-07T15:24:00",
          "1982-09-13T17:48:00",
          "1984-10-19T19:12:00",
          "1986-11-25T21:36:00"
         ],
         "y": {
          "bdata": "t5iU9Ne/WD/JraujzkJnP5F84wiqH2M/pUwg2LN7Yz8Qe8Zimh9xP38t1iVSCWU/C/7dFnJfYD9cne8PcvxVP6B+ntWTlGM/qaZr47KvZD8=",
          "dtype": "f8"
         }
        },
        {
         "hovertemplate": "<b>%{text}</b>",
         "line": {
          "width": 3
         },
         "marker": {
          "color": "#E15F99",
          "line": {
           "color": "black",
           "width": 2
          },
          "size": 14
         },
         "mode": "markers+lines",
         "name": "73_bohoslovci_bohoslovc_bohoslovec_bohoslovcm",
         "text": [
          "bohoslovci, bohoslovc, naardenské, českobudějovického, zazněl, svazech",
          "bohoslovci, bohoslovc, zasvěceného, ježíšovi, zbožností, zasvěcený",
          "letopočtu, verši, velekněžské, pravověmým, vojtěchovi, bohoslovc",
          "bohoslovc, svatováclavským, novosvěcenci, vyšehradského, novověký, svatováclavských",
          "bohoslovci, kazatel, bohoslovc, kazatele, vojtěchem, bohoslovcm",
          "bohoslovci, bohoslovc, svatopetrském, svatovítské, světcovým, světcovu",
          "bohoslovci, bohoslovc, pravoslavného, wyszyňského, bohoslovce, českobudějovické",
          "bohoslovci, bohoslovc, wyszyňského, bohoslovec, českobudějovického, svatopetrské",
          "bohoslovci, bohoslovc, diecézí, herezí, svatokrádeže, papežovým",
          "bohoslovci, bohoslovc, bohoslovce, bohoslovcm, bohoslovec, sťanského"
         ],
         "type": "scatter",
         "x": [
          "1968-01-01T00:00:00",
          "1970-02-06T02:24:00",
          "1972-03-14T04:48:00",
          "1974-04-20T07:12:00",
          "1976-05-26T09:36:00",
          "1978-07-02T12:00:00",
          "1980-08-07T15:24:00",
          "1982-09-13T17:48:00",
          "1984-10-19T19:12:00",
          "1986-11-25T21:36:00"
         ],
         "y": {
          "bdata": "PCWIOWr+fT/ETdIMPhN9PwH6s9I79VM/YyZCfIdMYD/abQMvseRzP4Kr0G5o9IE/an02WljTfj8e3SzSriWAPyf+NN90bnA/BMGmErZjfD8=",
          "dtype": "f8"
         }
        },
        {
         "hovertemplate": "<b>%{text}</b>",
         "line": {
          "width": 3
         },
         "marker": {
          "color": "#1CA71C",
          "line": {
           "color": "black",
           "width": 2
          },
          "size": 14
         },
         "mode": "markers+lines",
         "name": "74_svátého_svátý_svátých_svátému",
         "text": [
          "svátého, veroničina, svatovítský, zasvěcený, spásu, svaté",
          "svátých, svátého, svátý, svátost, založily, ježíšových",
          "svátého, zbožné, diecéze, svátý, svatá, biskupskou",
          "svátého, svátý, svátému, jubilejních, dobách, svátost",
          "svátého, svátý, svátých, svátost, minulém, kostela",
          "svátého, svátý, svátých, světcem, svátému, ježíše",
          "svátého, svátý, svátému, svátost, svátých, vzkříšení",
          "svátého, svátý, svátých, novoročních, svatyně, novoročných",
          "svátého, svátému, svatá, svátý, svátých, spásu",
          "svátého, svátý, svátých, svátost, svaté, krista"
         ],
         "type": "scatter",
         "x": [
          "1968-01-01T00:00:00",
          "1970-02-06T02:24:00",
          "1972-03-14T04:48:00",
          "1974-04-20T07:12:00",
          "1976-05-26T09:36:00",
          "1978-07-02T12:00:00",
          "1980-08-07T15:24:00",
          "1982-09-13T17:48:00",
          "1984-10-19T19:12:00",
          "1986-11-25T21:36:00"
         ],
         "y": {
          "bdata": "4sZxgittTD/BU34FNnFVP1z28Aci7Uk/7siWG7BxUz/TOZ7GW9RZPwZIIZgYAl4/lABHm4fmXj9nm63JFG5TP63zhkmBFmM/viRypr45Yj8=",
          "dtype": "f8"
         }
        },
        {
         "hovertemplate": "<b>%{text}</b>",
         "line": {
          "width": 3
         },
         "marker": {
          "color": "#FB0D0D",
          "line": {
           "color": "black",
           "width": 2
          },
          "size": 14
         },
         "mode": "markers+lines",
         "name": "75_vj_li_ri_lni",
         "text": [
          "var, vi, li, ptám, tzv, vj",
          "vj, dvod, dnem, řm, rz, ii",
          "lv, li, rg, rk, rš, rer",
          "vz, eskoslovenský, včerejšku, eskoslovensku, zakládal, koslovensko",
          "li, vj, ri, ai, vi, vo",
          "vj, lni, vť, vz, uf, li",
          "vj, ri, li, ai, jř, rti",
          "vj, iru, ai, vfei, fö, iuí",
          "vj, lni, li, vni, ri, ťi",
          "vj, ri, ži, lni, lv, př"
         ],
         "type": "scatter",
         "x": [
          "1968-01-01T00:00:00",
          "1970-02-06T02:24:00",
          "1972-03-14T04:48:00",
          "1974-04-20T07:12:00",
          "1976-05-26T09:36:00",
          "1978-07-02T12:00:00",
          "1980-08-07T15:24:00",
          "1982-09-13T17:48:00",
          "1984-10-19T19:12:00",
          "1986-11-25T21:36:00"
         ],
         "y": {
          "bdata": "A60D74NLSj8hUwWwQlUvPxjkIjabHzg/ivIXNAYyND8ycOUBLeZbP3wRcR30iXE/Y9w896z6XT8tDw0QDOxIPye7lBkVv14/lXsZRg07Yj8=",
          "dtype": "f8"
         }
        },
        {
         "hovertemplate": "<b>%{text}</b>",
         "line": {
          "width": 3
         },
         "marker": {
          "color": "#DA16FF",
          "line": {
           "color": "black",
           "width": 2
          },
          "size": 14
         },
         "mode": "markers+lines",
         "name": "76_tschechoslowakischen_bundesrepublik_ceskoslovenskoněmecká_rakouském",
         "text": [
          "tschechoslowakischen, českomoravská, vnitropolitické, česki, českoslov, českolovensku",
          "tschechoslowakischen, východoněmeckými, sovětskočeskoslovenské, jihoslovanský, zatýkací, zatýkání",
          "tschechoslowakischen, tschechischer, českoněmecké, mnichovském, německými, slezsku",
          "tschechoslowakischen, tschechoslowakische, němoty, evropskou, sovětská, evropy",
          "tschechoslowakischen, československí, českosloven, rakouští, stredoslovenskom, sverige",
          "tschechoslowakischen, ceskoslovenskoněmecká, nacistickým, komunismu, slovákovi, evrokomunismus",
          "tschechoslowakischen, českýchlistin, rakouském, západoněmeckém, bürgerhausu, východoslovenský",
          "tschechoslowakischen, českýchlistin, slováků, rakouskému, režimní, českoslovenksu",
          "tschechoslowakischen, čechošvýcarka, bundesrepublik, slovenští, východoslovenské, rakouském",
          "tschechoslowakischen, czechoslova, zurzach, choslovakia, včerejškem, choslovak"
         ],
         "type": "scatter",
         "x": [
          "1968-01-01T00:00:00",
          "1970-02-06T02:24:00",
          "1972-03-14T04:48:00",
          "1974-04-20T07:12:00",
          "1976-05-26T09:36:00",
          "1978-07-02T12:00:00",
          "1980-08-07T15:24:00",
          "1982-09-13T17:48:00",
          "1984-10-19T19:12:00",
          "1986-11-25T21:36:00"
         ],
         "y": {
          "bdata": "+dDuYU3ZUT+DTeK6QMJWP1iupV05pFM/pzoZ46VcXD+je31CKqVgPyBU74BuDmM/vqUP+McyZT/06mPdR7BgP34/mrBQGWU/dSa5HSklXj8=",
          "dtype": "f8"
         }
        },
        {
         "hovertemplate": "<b>%{text}</b>",
         "line": {
          "width": 3
         },
         "marker": {
          "color": "#222A2A",
          "line": {
           "color": "black",
           "width": 2
          },
          "size": 14
         },
         "mode": "markers+lines",
         "name": "77_čechoslovákm_czcchoslovak_tschechoslo_čáslavská",
         "text": [
          "čechoslovákm, švýcarskočeskoslovenské, vladivostoku, czcchoslovak, švajčiarskemu, václavském",
          "čechoslovákm, čáslavská, vlastislav, zürich, hostitelské, litvinovpardubice",
          "čechoslovákm, czcchoslovak, jihoslovan, pobělohorského, francotchécoslovaque, badenwiirttembersku",
          "čechoslovákm, tschechoslo, czeciioslovak, češtinou, komunistickému, sovětskoamerických",
          "čechoslovákm, českoslovanské, komunistickému, tchécoslovaqucs, protikomunistickým, protinacistickém",
          "čechoslovákm, mimopražská, východoslovenského, středoslovenském, tchécoslovaqucs, slovaques",
          "čechoslovákm, čechů, čechoslovakismus, čechové, slezsku, českí",
          "čechoslovákm, tschechoslowakischcn, koslovenských, česka, protičeskoslovenská, slovákom",
          "čechoslovákm, vánocemi, české, czecho, poštovné, československosovět",
          "čechoslovákm, tchécoslovaqucs, slovenští, všeslovanskou, českolipském, češce"
         ],
         "type": "scatter",
         "x": [
          "1968-01-01T00:00:00",
          "1970-02-06T02:24:00",
          "1972-03-14T04:48:00",
          "1974-04-20T07:12:00",
          "1976-05-26T09:36:00",
          "1978-07-02T12:00:00",
          "1980-08-07T15:24:00",
          "1982-09-13T17:48:00",
          "1984-10-19T19:12:00",
          "1986-11-25T21:36:00"
         ],
         "y": {
          "bdata": "ZnEYJZGRbD8gIc7WbI9zP4HZ61T0FFY/dtWp+YijUT9lN7eCErtQP895Or87I0M/ij82jaJHYT9PZ3PSECJSP0HS401P+kA/JlGL+1YLSj8=",
          "dtype": "f8"
         }
        },
        {
         "hovertemplate": "<b>%{text}</b>",
         "line": {
          "width": 3
         },
         "marker": {
          "color": "#B68100",
          "line": {
           "color": "black",
           "width": 2
          },
          "size": 14
         },
         "mode": "markers+lines",
         "name": "78_diskuse_teoretickopolitický_občasník_diskusi",
         "text": [
          "otázkách, současné, cížkovský, naardenského, považujeme, zdeněk",
          "názoru, názor, mínění, informacekulturapolitikalist, názory, vládními",
          "mínění, diskuse, filosofie, úvahy, hlediska, ideologické",
          "diskuse, mínění, současnosti, stanovisko, kritizujú, kritikou",
          "diskuse, diskusi, kritikou, debatních, rozpravou, polemika",
          "diskuse, neúplatnost, tématm, výroku, článkem, polemik",
          "strategickej, strategických, strategická, náboženství, strategické, vyslanectva",
          "diskuse, teoretickopolitický, poznámky, občasník, hlediska, projev",
          "diskuse, teoretickopolitický, občasník, diskusi, názor, názoru",
          "diskuse, teoretickopolitický, občasník, diskusi, vlastimila, názor"
         ],
         "type": "scatter",
         "x": [
          "1968-01-01T00:00:00",
          "1970-02-06T02:24:00",
          "1972-03-14T04:48:00",
          "1974-04-20T07:12:00",
          "1976-05-26T09:36:00",
          "1978-07-02T12:00:00",
          "1980-08-07T15:24:00",
          "1982-09-13T17:48:00",
          "1984-10-19T19:12:00",
          "1986-11-25T21:36:00"
         ],
         "y": {
          "bdata": "taLr9G9hID8XSiyeWrVCP/94a55PN0c/WQ69khuMRj8wJ24puTU7P0SMEGhp1zw/8uhtvnxEIz/tkImxGk1kP2ARIGomBXE/Pr7ORqwRZz8=",
          "dtype": "f8"
         }
        },
        {
         "hovertemplate": "<b>%{text}</b>",
         "line": {
          "width": 3
         },
         "marker": {
          "color": "#750D86",
          "line": {
           "color": "black",
           "width": 2
          },
          "size": 14
         },
         "mode": "markers+lines",
         "name": "79_českými_slovenskými_koslovenské_plzeňského",
         "text": [
          "českými, českomoravská, čechoslovácích, pražsky, československosovětské, svatováclavském",
          "českými, czcchoslovak, tschechoslo, tschechoslowa, vlastislav, cechi",
          "českými, uherském, českoněmecké, slovenští, krajanskou, uvidíteli",
          "českými, bratislavských, rakúskouhorskej, rakúšanku, seuzacherstrasse, weltsch",
          "českými, tschechische, slovenskými, protičeskoslovenské, prosovětská, bratislavskými",
          "českými, češtinou, koslovensko, koslovenský, českoslo, slovenskými",
          "českými, czechs, blahoslavenou, češke, svatováclavské, jaroslava",
          "českými, koslovenska, vojtěchovi, koslovensko, koslovenských, slováka",
          "českými, tschechischen, boleslavi, tschechoslowakischcn, tschechoslowakischer, slováckých",
          "českými, plzeňského, svatováclavské, slovácku, tšechny, česka"
         ],
         "type": "scatter",
         "x": [
          "1968-01-01T00:00:00",
          "1970-02-06T02:24:00",
          "1972-03-14T04:48:00",
          "1974-04-20T07:12:00",
          "1976-05-26T09:36:00",
          "1978-07-02T12:00:00",
          "1980-08-07T15:24:00",
          "1982-09-13T17:48:00",
          "1984-10-19T19:12:00",
          "1986-11-25T21:36:00"
         ],
         "y": {
          "bdata": "LLH/HvAOZD/LAV/LgJ1lP065MxxTGDc/NhPTx+BRRD9UL9ydr1VVP7tRXDpG21M/N54p+BeWXD+jcItTxUdaP7Tah2XfR1s/a0YrxjViXj8=",
          "dtype": "f8"
         }
        },
        {
         "hovertemplate": "<b>%{text}</b>",
         "line": {
          "width": 3
         },
         "marker": {
          "color": "#EB663B",
          "line": {
           "color": "black",
           "width": 2
          },
          "size": 14
         },
         "mode": "markers+lines",
         "name": "80_výboru_kongresu_shromáždění_výbor",
         "text": [
          "shromáždění, sjezdové, sjezdem, kongresu, zúčastnili, odboru",
          "kongresu, výboru, komisí, výroční, disertaci, komisi",
          "zástupci, výbor, setkání, sdružení, shromáždění, delegáti",
          "kongresu, shromáždění, symposium, zasedání, výboru, shromážděním",
          "shromáždění, výboru, zástupci, výbor, kongresu, odboru",
          "konferenci, výboru, kongresu, kongres, shromáždění, konference",
          "výboru, kongresu, výbor, kongres, schůze, členské",
          "kongresu, výboru, shromáždění, výbor, kongres, sdružení",
          "shromáždění, výboru, výbor, výroční, výborem, kongresu",
          "výboru, shromáždění, zástupci, výbor, setkání, zúčastnili"
         ],
         "type": "scatter",
         "x": [
          "1968-01-01T00:00:00",
          "1970-02-06T02:24:00",
          "1972-03-14T04:48:00",
          "1974-04-20T07:12:00",
          "1976-05-26T09:36:00",
          "1978-07-02T12:00:00",
          "1980-08-07T15:24:00",
          "1982-09-13T17:48:00",
          "1984-10-19T19:12:00",
          "1986-11-25T21:36:00"
         ],
         "y": {
          "bdata": "1iJfZZpLFz/4KrGExEMlP539CdU0TDA/+F+64NCsOD/HZco/UPY3P+jd7mLT3DI/ZWg7DBUrMD9RzFLl7hwzP/bwD9GfljE/mlfPOqVJOD8=",
          "dtype": "f8"
         }
        },
        {
         "hovertemplate": "<b>%{text}</b>",
         "line": {
          "width": 3
         },
         "marker": {
          "color": "#511CFB",
          "line": {
           "color": "black",
           "width": 2
          },
          "size": 14
         },
         "mode": "markers+lines",
         "name": "81_českého_české_czech_slovenského",
         "text": [
          "českého, české, němčiny, tschechoslowakischcn, čáslavskáodložilová, východoslovenských",
          "českého, české, publikace, slováku, news, spisovatelského",
          "českého, czcchoslovak, českých, sokola, ceskoslovenská, českeho",
          "českého, vládám, zúčastnili, české, los, pobytu",
          "českého, slovenského, czeehoslovak, oblast, skauting, slovensky",
          "českého, czech, jugoslávského, českých, czechoslo, slovanské",
          "českého, čechů, slovenské, czech, slovaks, plzeňských",
          "českého, české, československa, slováček, slovanskými, czech",
          "českého, české, předchdce, evropskému, evropský, evropským",
          "českého, české, českoslo, ladislava, spíšková, michajlovič"
         ],
         "type": "scatter",
         "x": [
          "1968-01-01T00:00:00",
          "1970-02-06T02:24:00",
          "1972-03-14T04:48:00",
          "1974-04-20T07:12:00",
          "1976-05-26T09:36:00",
          "1978-07-02T12:00:00",
          "1980-08-07T15:24:00",
          "1982-09-13T17:48:00",
          "1984-10-19T19:12:00",
          "1986-11-25T21:36:00"
         ],
         "y": {
          "bdata": "WAinC8oqcD/Hc3FcXiFsP+P0QC628mM/TbsNlyY2ZD9CDPqO0r1rP26+M+Mflms/qwh36KJ2dD+qkfR5n4hzPykaGkeZ6HA/g+gq6k4rcz8=",
          "dtype": "f8"
         }
        },
        {
         "hovertemplate": "<b>%{text}</b>",
         "line": {
          "width": 3
         },
         "marker": {
          "color": "#00A08B",
          "line": {
           "color": "black",
           "width": 2
          },
          "size": 14
         },
         "mode": "markers+lines",
         "name": "82_pražští_slovenští_vyšehradském_bratislavským",
         "text": [
          "pražští, čáslavské, pokladny, tschechoslowakischcn, českoslovens, presidentaosvoboditele",
          "pražští, vyšeslavy, pěveckého, hradčanském, čechu, jindřichově",
          "pražští, pražska, češku, koslovensku, československí, valdštejnského",
          "pražští, tchccoslovaques, bratislavská, českoně, českobratrsky, vyšehradském",
          "pražští, bělehradské, slováku, bělehradská, zváni, brzezinski",
          "pražští, československopolské, vídeňské, rakouským, rakouský, celoslovenský",
          "pražští, leningradě, padoněmeckého, československosovětská, bratislavští, západoněmeckým",
          "pražští, rakouském, sezónu, koslovenský, rakúskouhorskom, padoněmeckými",
          "pražští, varhany, bečvou, pražska, českobratrský, českobratrství",
          "pražští, václavském, českoněmeckého, krakovský, českoslovenku, vojtěchv"
         ],
         "type": "scatter",
         "x": [
          "1968-01-01T00:00:00",
          "1970-02-06T02:24:00",
          "1972-03-14T04:48:00",
          "1974-04-20T07:12:00",
          "1976-05-26T09:36:00",
          "1978-07-02T12:00:00",
          "1980-08-07T15:24:00",
          "1982-09-13T17:48:00",
          "1984-10-19T19:12:00",
          "1986-11-25T21:36:00"
         ],
         "y": {
          "bdata": "eeEEAdzQaD9qyrYazv9jPxEgfkyUiFo/vU1Y4tZYXj92WouJiFdYPxJXIBnV6VM/17ijULNhWT8bG5BgHT9hP1kdALTqaGM/R1WiOZx2Xz8=",
          "dtype": "f8"
         }
        },
        {
         "hovertemplate": "<b>%{text}</b>",
         "line": {
          "width": 3
         },
         "marker": {
          "color": "#FB00D1",
          "line": {
           "color": "black",
           "width": 2
          },
          "size": 14
         },
         "mode": "markers+lines",
         "name": "83_týdeníku_vydávají_nov_novinách",
         "text": [
          "týdeníku, čáslavské, včeskoslovensku, vydávají, zaručili, uctila",
          "týdeníku, západoněmeckém, východoněmeckými, východoněmeckém, východoslovenském, západoberlín",
          "týdeníku, novinách, americkém, časopisu, socialistického, protistátním",
          "týdeníku, vydáno, sionismus, devadesát, měsíčník, jubilejním",
          "týdeníku, svatováclavským, zveřejněn, vydáno, bohoslovci, zasvětili",
          "týdeníku, novinové, kázáních, novín, vyšehradském, soběslavi",
          "týdeníku, nov, americkosovětských, osmdesátá, vydáni, novinka",
          "týdeníku, vydaly, nacházel, uherský, yorkbratislava, týdenníku",
          "týdeníku, bratislavypiešťan, koslovenska, dopisovateli, novinách, baťovi",
          "týdeníku, uvádí, leningradě, listytýdeník, ukrajince, článkem"
         ],
         "type": "scatter",
         "x": [
          "1968-01-01T00:00:00",
          "1970-02-06T02:24:00",
          "1972-03-14T04:48:00",
          "1974-04-20T07:12:00",
          "1976-05-26T09:36:00",
          "1978-07-02T12:00:00",
          "1980-08-07T15:24:00",
          "1982-09-13T17:48:00",
          "1984-10-19T19:12:00",
          "1986-11-25T21:36:00"
         ],
         "y": {
          "bdata": "VcHQT3dkWz/Ixs1KvyxuPzxs+hXh1Wk/LbWyfTOzaj+tTfdD6nBfP3hTCnHxAmE/yCC/5+oAYj8CxBcZVAFkP1Y0EWe5bGM/PivDVGb+Vj8=",
          "dtype": "f8"
         }
        },
        {
         "hovertemplate": "<b>%{text}</b>",
         "line": {
          "width": 3
         },
         "marker": {
          "color": "#FC0080",
          "line": {
           "color": "black",
           "width": 2
          },
          "size": 14
         },
         "mode": "markers+lines",
         "name": "84_czechoslovak_rakouskouherské_tchécoslovaqucs_jihoslovan",
         "text": [
          "czechoslovak, československa, československá, vlastizrádci, antikomunistic, provokativním",
          "czechoslovak, československa, československé, vratislav, rakouskouherské, československá",
          "czechoslovak, československa, československá, československu, československý, sovětského",
          "czechoslovak, československý, československu, československa, československé, československá",
          "czechoslovak, československa, československé, československá, československý, českoněmec",
          "czechoslovak, československa, týdeník, špiónské, špionážního, vládo",
          "czechoslovak, československa, československu, pobytu, švédem, bayerischer",
          "czechoslovak, československa, nacistické, sovětským, týdeník, jihoslovanským",
          "czechoslovak, československa, západoberlínská, čechoslovakismus, rakouskouherské, tschechoslowakischer",
          "czechoslovak, listyweekly, československa, východoslovenské, nacismu, stíhaných"
         ],
         "type": "scatter",
         "x": [
          "1968-01-01T00:00:00",
          "1970-02-06T02:24:00",
          "1972-03-14T04:48:00",
          "1974-04-20T07:12:00",
          "1976-05-26T09:36:00",
          "1978-07-02T12:00:00",
          "1980-08-07T15:24:00",
          "1982-09-13T17:48:00",
          "1984-10-19T19:12:00",
          "1986-11-25T21:36:00"
         ],
         "y": {
          "bdata": "qipKaxKXYz/ZOIVPCjhiP3VQR94RtVs/ytI0C2VeYD/Sh2IIxf1gPx6nBgHJH2I/v93Q3b5eYz+RqwRT6X5XPyl9d46PrVQ/UtyBqomYUz8=",
          "dtype": "f8"
         }
        },
        {
         "hovertemplate": "<b>%{text}</b>",
         "line": {
          "width": 3
         },
         "marker": {
          "color": "#B2828D",
          "line": {
           "color": "black",
           "width": 2
          },
          "size": 14
         },
         "mode": "markers+lines",
         "name": "85_nábytek_magazin_möbel_výstavní",
         "text": [
          "výstava, výstavy, dílně, schauspielhaus, instalatérské, továrny",
          "nábytku, nábytek, nábytkem, čechů, tschechoslowakische, česku",
          "nábytkem, nábytek, möbel, magazin, rathausplatz, výstavní",
          "magazin, ferrari, möbel, rathausplatz, nábytek, výstavní",
          "nábytkem, bytové, vernisáž, byt, nábytek, vernisáže",
          "magazin, pobytu, časopise, nashromáždil, magazín, vydavatel",
          "magazin, zeitschrift, revue, rubriku, žurnálem, žurnál",
          "chodbičkou, pokojíku, místností, místnost, chodbě, pokoje",
          "uměleckého, sochařské, estetickou, skulptur, sochařský, výstavě",
          "výstavní, výstav, výstavě, galeriemi, výstavou, výstavu"
         ],
         "type": "scatter",
         "x": [
          "1968-01-01T00:00:00",
          "1970-02-06T02:24:00",
          "1972-03-14T04:48:00",
          "1974-04-20T07:12:00",
          "1976-05-26T09:36:00",
          "1978-07-02T12:00:00",
          "1980-08-07T15:24:00",
          "1982-09-13T17:48:00",
          "1984-10-19T19:12:00",
          "1986-11-25T21:36:00"
         ],
         "y": {
          "bdata": "2Joeki7HZD9Sf+850v9sP4hxBf+w9Zk/nms4DYn3nj+pA4srQ8aAP2yvH1A8vlM/YRitKhQpWz9stzliA0FTP0aXLkN2MFA/uEWYYxjWVD8=",
          "dtype": "f8"
         }
        },
        {
         "hovertemplate": "<b>%{text}</b>",
         "line": {
          "width": 3
         },
         "marker": {
          "color": "#6C7C32",
          "line": {
           "color": "black",
           "width": 2
          },
          "size": 14
         },
         "mode": "markers+lines",
         "name": "86_českém_česku_čechu_český",
         "text": [
          "českém, čechu, čechové, helvetočeskoslovenského, českých, český",
          "českém, slovenských, bohuslava, vlastislav, čáslavská, tschechoslowa",
          "miroslavem, miroslava, miroslav, mikulášská, čelakovského, českém",
          "českém, poolski, zahraničíczechoslovak, sokolská, sokolského, vyšehradském",
          "českém, slovenska, slovenských, čechu, prešovské, slovácko",
          "českém, czechs, českých, čechů, československí, český",
          "českém, česku, česka, slovákú, češtinou, český",
          "českém, české, slovenska, stanislav, slovenské, slovanských",
          "českém, slovenského, czechs, čechu, česku, koslovensko",
          "českém, česka, pěveckého, českých, jaroslava, slovácko"
         ],
         "type": "scatter",
         "x": [
          "1968-01-01T00:00:00",
          "1970-02-06T02:24:00",
          "1972-03-14T04:48:00",
          "1974-04-20T07:12:00",
          "1976-05-26T09:36:00",
          "1978-07-02T12:00:00",
          "1980-08-07T15:24:00",
          "1982-09-13T17:48:00",
          "1984-10-19T19:12:00",
          "1986-11-25T21:36:00"
         ],
         "y": {
          "bdata": "tenpHDN4aD8c01vic+ZWP3Ge8N6iNjE/8NwHk6g7YD/vnjE43O9WP1dxlXscXVQ/ROdAYSFYbz8o5xDta7JrPxnDee+UiF0/URJvBqokXT8=",
          "dtype": "f8"
         }
        },
        {
         "hovertemplate": "<b>%{text}</b>",
         "line": {
          "width": 3
         },
         "marker": {
          "color": "#778AAE",
          "line": {
           "color": "black",
           "width": 2
          },
          "size": 14
         },
         "mode": "markers+lines",
         "name": "87_režimu_režim_režimem_protistátní",
         "text": [
          "režimu, režim, komunistického, republiku, komunistickému, předcházející",
          "režimu, režim, režimem, protistátní, politbyra, komunismem",
          "režimu, režim, režimem, komunistickej, presidentský, československosovětského",
          "režimu, režim, czcchoslovak, vnitropolitickým, hodinou, správou",
          "režimu, režim, režimem, vnitropolitické, vlastu, vládními",
          "režimu, režim, režimem, režimm, socialisté, vlastenecky",
          "režimu, režim, vládními, režimem, protistátní, nukleární",
          "režimu, režim, režimem, exilových, protikomunistických, diktátora",
          "režimu, režimní, režimem, režim, vládního, státníkem",
          "režimu, režimem, režim, vězň, vězeň, sovětskoamerické"
         ],
         "type": "scatter",
         "x": [
          "1968-01-01T00:00:00",
          "1970-02-06T02:24:00",
          "1972-03-14T04:48:00",
          "1974-04-20T07:12:00",
          "1976-05-26T09:36:00",
          "1978-07-02T12:00:00",
          "1980-08-07T15:24:00",
          "1982-09-13T17:48:00",
          "1984-10-19T19:12:00",
          "1986-11-25T21:36:00"
         ],
         "y": {
          "bdata": "Sp4w46ZRcT9JylW76BZ2PwFlXl0OsGc/Z611LqBpXD81LfDQgjNlP1R9V6kRT2g/dk1Lp38HWz9mq0TMP3VlP+9t9ofT+mM/KhVIZzjPYz8=",
          "dtype": "f8"
         }
        },
        {
         "hovertemplate": "<b>%{text}</b>",
         "line": {
          "width": 3
         },
         "marker": {
          "color": "#862A16",
          "line": {
           "color": "black",
           "width": 2
          },
          "size": 14
         },
         "mode": "markers+lines",
         "name": "88_československá_osvobozenecké_slovenskou_československoamerické",
         "text": [
          "československá, československa, novinové, protisovětská, komunistických, sjezdu",
          "československá, československa, brněnský, vydaly, nekomunistický, zastupitelskými",
          "československá, československa, americkému, neschvalovali, vyhnanství, ballingschap",
          "československá, sokolského, slovensky, rozdílu, rozdíl, porovnání",
          "československá, americanczechoslovak, tkalcovských, polsko, zemích, československýamerický",
          "československá, československa, oběžnou, vesmírným, vesmírnou, varovná",
          "československá, západoněmeckém, polsku, sokolským, československa, varšavě",
          "československá, novinka, československa, koslovenské, slovenčinu, liptovskej",
          "československá, československa, filozofické, filozofie, výroku, československujfk",
          "československá, komunismus, komunisté, předávala, maďarsko, celoslovenská"
         ],
         "type": "scatter",
         "x": [
          "1968-01-01T00:00:00",
          "1970-02-06T02:24:00",
          "1972-03-14T04:48:00",
          "1974-04-20T07:12:00",
          "1976-05-26T09:36:00",
          "1978-07-02T12:00:00",
          "1980-08-07T15:24:00",
          "1982-09-13T17:48:00",
          "1984-10-19T19:12:00",
          "1986-11-25T21:36:00"
         ],
         "y": {
          "bdata": "VN8L+GvjUT/mIZL8BxNPP3HO5EbDTEc/orngTboWRj+ZSSrTDENKPyjQFJjiwEU/GQOFq2s6Sj9U9cI8RoxKPzSMtcRxVkc/weQP0fQiRD8=",
          "dtype": "f8"
         }
        },
        {
         "hovertemplate": "<b>%{text}</b>",
         "line": {
          "width": 3
         },
         "marker": {
          "color": "#A777F1",
          "line": {
           "color": "black",
           "width": 2
          },
          "size": 14
         },
         "mode": "markers+lines",
         "name": "89_slovaks_slovak_slovakia_czechs",
         "text": [
          "slovak, czechs, sovětskočeskosloven, slovaks, slovenčině, vratislav",
          "šumpersku, ostpolitik, vlašským, slovak, českobratrsky, slovakia",
          "slovak, slovaks, czechs, goteborgu, czech, vrchnostenský",
          "slovak, slovakia, czechs, slovaks, czecho, pres",
          "slovaks, slovak, slovakia, czechs, slowakischen, československí",
          "slovaks, czechs, slovak, slovakia, republic, czechoslovaks",
          "slovaks, slovak, slovakia, czechs, slavic, czechoslovaks",
          "slovaks, slovakia, czechs, slovak, republic, editorzdenka",
          "slovaks, slovak, slovakia, czechs, republic, czechoslovaks",
          "slovaks, slovak, slovakia, czechs, slovenskej, slovakias"
         ],
         "type": "scatter",
         "x": [
          "1968-01-01T00:00:00",
          "1970-02-06T02:24:00",
          "1972-03-14T04:48:00",
          "1974-04-20T07:12:00",
          "1976-05-26T09:36:00",
          "1978-07-02T12:00:00",
          "1980-08-07T15:24:00",
          "1982-09-13T17:48:00",
          "1984-10-19T19:12:00",
          "1986-11-25T21:36:00"
         ],
         "y": {
          "bdata": "8HNRcobkMz8v/vJrU80zP6GcxcLlq0I/LMqt5wICTT+7ihXeGWxVP1KMKVfBq2I/DRrRolekbz8NnANbYQxhP3fOezNuZF4/dd/XQvC0Yj8=",
          "dtype": "f8"
         }
        },
        {
         "hovertemplate": "<b>%{text}</b>",
         "line": {
          "width": 3
         },
         "marker": {
          "color": "#620042",
          "line": {
           "color": "black",
           "width": 2
          },
          "size": 14
         },
         "mode": "markers+lines",
         "name": "90_švýcar_švýcary_švýcarech_rakouských",
         "text": [
          "švýcar, švýcary, švýcarm, zurich, švýcarskou, švýcarská",
          "švýcar, švýcary, schweizerische, švýcarm, švýcarech, rakouských",
          "švýcar, lllnauerstrasse, rakouských, švýcarech, německa, zurzach",
          "švýcar, zurich, rakouské, švýcarského, českoněm, haarlemský",
          "švýcar, zeitschrift, výstavní, švýcary, švýcarka, hleděl",
          "švýcar, rakouském, štrasburku, švýcarkou, rakouského, europarat",
          "švýcar, švýcary, nietzsche, zeitschrift, knedlíky, slezských",
          "švýcar, jiříeichenstrasse, švýcary, západoněmeckém, fusspflegestudio, zacházelo",
          "švýcar, slováku, zpovědi, zurzach, slavnostní, bavorském",
          "švýcar, švýcary, svatováclavskými, staročesky, svazech, zbrojovce"
         ],
         "type": "scatter",
         "x": [
          "1968-01-01T00:00:00",
          "1970-02-06T02:24:00",
          "1972-03-14T04:48:00",
          "1974-04-20T07:12:00",
          "1976-05-26T09:36:00",
          "1978-07-02T12:00:00",
          "1980-08-07T15:24:00",
          "1982-09-13T17:48:00",
          "1984-10-19T19:12:00",
          "1986-11-25T21:36:00"
         ],
         "y": {
          "bdata": "+3tS2KaYUj9hPZxKccRUP8G1JAm3rUg/+oeBdLiePj+5hoEcuT02P7KHP98zPjs/ghw+RJ73OT+VRzkpQWQ0P2q3YPIDrDE/9dLsTDgFHz8=",
          "dtype": "f8"
         }
        },
        {
         "hovertemplate": "<b>%{text}</b>",
         "line": {
          "width": 3
         },
         "marker": {
          "color": "#1616A7",
          "line": {
           "color": "black",
           "width": 2
          },
          "size": 14
         },
         "mode": "markers+lines",
         "name": "91_pražská_pražskej_čáslavské_pražskú",
         "text": [
          "pražská, tchccoslovaqucs, schweiter, česki, rakouskou, českomoravského",
          "pražská, americanczechoslovakclub, sovětskou, československú, čechové, bělského",
          "pražská, československa, uveřejnilo, vladimírem, československu, středoslovenském",
          "pražská, pražskú, novomeského, česka, haberová, švýcarm",
          "pražská, leningradě, tschechischen, československosovětská, rakouskočeskoslovenské, vlad",
          "pražská, ceskoslovenskoněmecká, czechoslova, polskému, bohuslava, polská",
          "pražská, svatováclavskou, vyšehradskou, bratislavská, poláci, slovenského",
          "pražská, čechu, tschechoslowakischer, československorakouské, koslovenska, skoslovensku",
          "pražská, mnichovská, českomoravských, eeskoslovensku, československoso, pražskej",
          "pražská, slezsko, pražskej, eskoslovensko, varhany, eskoslovenska"
         ],
         "type": "scatter",
         "x": [
          "1968-01-01T00:00:00",
          "1970-02-06T02:24:00",
          "1972-03-14T04:48:00",
          "1974-04-20T07:12:00",
          "1976-05-26T09:36:00",
          "1978-07-02T12:00:00",
          "1980-08-07T15:24:00",
          "1982-09-13T17:48:00",
          "1984-10-19T19:12:00",
          "1986-11-25T21:36:00"
         ],
         "y": {
          "bdata": "oVWmpYaZKj/F+sMc7mojP7EzREeC8iA/X/PVqHiCFz9UPwaL9SwfP67bj+eEvhU/gQ+K6VvwGj8Ax/AFtkEePx8NC5GreR0/CmGi+jT1HD8=",
          "dtype": "f8"
         }
        },
        {
         "hovertemplate": "<b>%{text}</b>",
         "line": {
          "width": 3
         },
         "marker": {
          "color": "#DA60CA",
          "line": {
           "color": "black",
           "width": 2
          },
          "size": 14
         },
         "mode": "markers+lines",
         "name": "92_práva_práv_občanských_občanm",
         "text": [
          "protistátní, občanských, morálněpolitické, protikomunistickém, právu, práv",
          "informacekulturapolitika, kulturněpolitického, vnitropolitickém, světoobčanství, světoobčanem, občanech",
          "právm, práv, práva, výbor, právech, rights",
          "občané, ústavy, mezistátních, ústav, ústavu, občanem",
          "práva, ústava, práv, občanm, občanských, ústavou",
          "práva, právu, práv, právo, ústavy, občanem",
          "ústavy, občané, ústavou, občany, občanm, práv",
          "práva, práv, občanská, občané, občanské, právo",
          "ústavou, ústava, ústavu, samosprávného, předpis, ústavního",
          "práva, práv, občanských, občanm, občané, občanskou"
         ],
         "type": "scatter",
         "x": [
          "1968-01-01T00:00:00",
          "1970-02-06T02:24:00",
          "1972-03-14T04:48:00",
          "1974-04-20T07:12:00",
          "1976-05-26T09:36:00",
          "1978-07-02T12:00:00",
          "1980-08-07T15:24:00",
          "1982-09-13T17:48:00",
          "1984-10-19T19:12:00",
          "1986-11-25T21:36:00"
         ],
         "y": {
          "bdata": "brKWXOwtIT8uV3SIgdMTP4zrjDcyfiE/A7QybrIcJz/ZYybKIXJFP3RZU2PsqzQ/fGSpzHN1KD/IdhNqRzcvP/Ibg1ISviM/qfDDJPpiSD8=",
          "dtype": "f8"
         }
        },
        {
         "hovertemplate": "<b>%{text}</b>",
         "line": {
          "width": 3
         },
         "marker": {
          "color": "#6C4516",
          "line": {
           "color": "black",
           "width": 2
          },
          "size": 14
         },
         "mode": "markers+lines",
         "name": "93_pražského_jihoslovanského_vratislav_východoslovenských",
         "text": [
          "pražského, bratislavského, uherské, protisovětských, ceskoslovenskoamerický, novinám",
          "pražského, mnichovského, staročeské, süddeutsche, čechové, předmnichovské",
          "pražského, vydávat, vratislav, bratislave, jeptiška, varhanního",
          "pražského, slezsko, americkém, koslovenského, pražskú, varhany",
          "pražského, bratislavském, americkosovět, švýcarskočeskoslovenské, cimburkova, českoněmecká",
          "pražského, východoevropské, parlamentu, jihoslovanského, jihoslovanské, jugoslávského",
          "pražského, polskému, čechu, československapředplácení, vydány, slovaks",
          "pražského, vídeňské, pittsburghské, sovětském, pittsburgh, pittsburghu",
          "pražského, bratislavském, svatováclavské, letzigrund, letovisku, slovenských",
          "pražského, slovenskému, včeskoslovensku, slovácká, uherský, sokolskému"
         ],
         "type": "scatter",
         "x": [
          "1968-01-01T00:00:00",
          "1970-02-06T02:24:00",
          "1972-03-14T04:48:00",
          "1974-04-20T07:12:00",
          "1976-05-26T09:36:00",
          "1978-07-02T12:00:00",
          "1980-08-07T15:24:00",
          "1982-09-13T17:48:00",
          "1984-10-19T19:12:00",
          "1986-11-25T21:36:00"
         ],
         "y": {
          "bdata": "RxLiduAMdD9VRtBOYt1+P0+bjbIVW3M/TWQrflHJcT8E0z/t7Ah5P7vQ0yQyK20/ZTMyXfSoZT8rna2ccLRwP2jBEVng4m8/thW9dvsFcj8=",
          "dtype": "f8"
         }
        },
        {
         "hovertemplate": "<b>%{text}</b>",
         "line": {
          "width": 3
         },
         "marker": {
          "color": "#0D2A63",
          "line": {
           "color": "black",
           "width": 2
          },
          "size": 14
         },
         "mode": "markers+lines",
         "name": "94_předseda_předsedy_předsedou_předsednictva",
         "text": [
          "předsedy, předseda, předsednictvu, presidenta, předsedou, předsednictvo",
          "nixon, vnitropolitickými, demagogii, demagogie, nixona, apolitickými",
          "předseda, předsedy, předsedou, předsednictva, president, presidenta",
          "předsedou, předseda, předsednictva, předsedy, předsedovi, předsedu",
          "předsedy, předsednictvu, předsednictva, předsedou, předseda, předsednictvem",
          "předsednictva, prezidentovým, předsednictvu, prezidentské, předsedou, prezidentem",
          "předsedy, předseda, předsednictva, předsedou, prezidenta, předsednictvo",
          "předsedy, předseda, předsedou, prezidenta, předsednictva, předsedu",
          "prezidenta, předsedou, presidenta, předsedy, předsednictvo, presidentem",
          "předsedou, předseda, prezident, předsedy, předsed, předsedkyně"
         ],
         "type": "scatter",
         "x": [
          "1968-01-01T00:00:00",
          "1970-02-06T02:24:00",
          "1972-03-14T04:48:00",
          "1974-04-20T07:12:00",
          "1976-05-26T09:36:00",
          "1978-07-02T12:00:00",
          "1980-08-07T15:24:00",
          "1982-09-13T17:48:00",
          "1984-10-19T19:12:00",
          "1986-11-25T21:36:00"
         ],
         "y": {
          "bdata": "sLhCPoIEYD/RNLTJG5g7P/Hvax+JN28/Pl9qbKgMcT8J2BJCFc1jP7RrldtOIlI/AzR7zKkQaT8NtWLbEdhdPy4nuxm9SFs/yLs0cUmRTT8=",
          "dtype": "f8"
         }
        },
        {
         "hovertemplate": "<b>%{text}</b>",
         "line": {
          "width": 3
         },
         "marker": {
          "color": "#AF0038",
          "line": {
           "color": "black",
           "width": 2
          },
          "size": 14
         },
         "mode": "markers+lines",
         "name": "95_bratislavy_bratislavská_jaroslava_bratislave",
         "text": [
          "bratislavy, bratislavská, bratislavském, bratislavského, slováka, vladimíra",
          "bratislavy, vídeňská, svábenský, plzeňskou, zurlch, vyšehradském",
          "bratislavy, vratislav, brněnského, mnichovská, vítězslav, bratislave",
          "bratislavy, slovenskom, vítězslav, českobratrsky, vladimíra, mlýnském",
          "bratislavy, wyszyňski, václavském, leningradě, bratislavskej, staroboleslavské",
          "bratislavy, slováka, československosovětské, bratislavském, václavském, mimopražském",
          "bratislavy, bratislavská, wyszyňského, hnězdenským, wyszyňski, mnichovští",
          "bratislavy, bratislave, jaroslava, slovanského, václavském, docházku",
          "bratislavy, jaroslava, bratislavská, bratislave, jaroslavu, bratislavského",
          "bratislavy, bratislave, václavském, bratislavských, bratislavská, jaroslava"
         ],
         "type": "scatter",
         "x": [
          "1968-01-01T00:00:00",
          "1970-02-06T02:24:00",
          "1972-03-14T04:48:00",
          "1974-04-20T07:12:00",
          "1976-05-26T09:36:00",
          "1978-07-02T12:00:00",
          "1980-08-07T15:24:00",
          "1982-09-13T17:48:00",
          "1984-10-19T19:12:00",
          "1986-11-25T21:36:00"
         ],
         "y": {
          "bdata": "t9upG0euVj/JyyMYfZxNP9t3XxqoP0I/ZPUezUO+Tj+QgCV0r+BUP5tIT7DLIU4/jYqfiQOUUj8lY4mVkhRfPyeGG8QZSms/4zI/OupVZz8=",
          "dtype": "f8"
         }
        },
        {
         "hovertemplate": "<b>%{text}</b>",
         "line": {
          "width": 3
         },
         "marker": {
          "color": "#2E91E5",
          "line": {
           "color": "black",
           "width": 2
          },
          "size": 14
         },
         "mode": "markers+lines",
         "name": "96_czech_soviet_communist_poland",
         "text": [
          "czech, plzeňského, americanczechoslovak, česka, prahastřed, tchécoslovaquie",
          "czech, soviet, soviets, communist, češtinou, stalinismu",
          "soviet, czech, soviets, communist, sovětské, českem",
          "czech, soviet, europe, russia, republic, czechoslovaks",
          "czech, hungary, czechs, soviet, soviets, news",
          "czech, soviet, communist, europe, republic, regime",
          "czech, soviet, poland, communist, czechs, republic",
          "czech, soviet, viii, newsletter, regime, communist",
          "czech, czechs, česku, soviet, tschechoslowakischcn, tschechische",
          "czech, czechs, slovak, soviet, czechoslovakias, czechoslovaks"
         ],
         "type": "scatter",
         "x": [
          "1968-01-01T00:00:00",
          "1970-02-06T02:24:00",
          "1972-03-14T04:48:00",
          "1974-04-20T07:12:00",
          "1976-05-26T09:36:00",
          "1978-07-02T12:00:00",
          "1980-08-07T15:24:00",
          "1982-09-13T17:48:00",
          "1984-10-19T19:12:00",
          "1986-11-25T21:36:00"
         ],
         "y": {
          "bdata": "nEHrxRxdUj/5vhulDtVkP9uZgRuSkGA/C3u94okpYT8d1zzIC1ljPyTTeLv3nHc/I3UrCEV1fT8jIcmNqRNuP4FHcazIN1w/WvnNmh59WD8=",
          "dtype": "f8"
         }
        },
        {
         "hovertemplate": "<b>%{text}</b>",
         "line": {
          "width": 3
         },
         "marker": {
          "color": "#E15F99",
          "line": {
           "color": "black",
           "width": 2
          },
          "size": 14
         },
         "mode": "markers+lines",
         "name": "97_pražském_plzeňská_vladivostoku_východoslovenském",
         "text": [
          "pražském, a3československo, česka, českoslovenku, československoamericky, francouzskočeskoslovenského",
          "pražském, česka, proletárskou, protikomunistické, slovákovi, východoevropské",
          "pražském, beethovena, vydán, konzervatoře, sovětskými, ceskoslovenskoamerický",
          "pražském, koslovenského, tschecho, československú, americkosovětských, budapešťském",
          "pražském, bratislavská, středoevropském, české, československosovět, skočeskoslovenského",
          "pražském, miroslavem, nybratislavany, jaroslava, bulvárního, bratislavských",
          "pražském, týdenníku, čechu, slovenským, vyslanectví, češku",
          "pražském, varhany, rakouském, jaruzelského, sokolském, slovenskou",
          "pražském, jugoslávského, americkočeskoslovenský, československajfk, východoslovenské, slováku",
          "pražském, nyprahabratislavany, východoslovenském, plzeňská, stan, pěveckého"
         ],
         "type": "scatter",
         "x": [
          "1968-01-01T00:00:00",
          "1970-02-06T02:24:00",
          "1972-03-14T04:48:00",
          "1974-04-20T07:12:00",
          "1976-05-26T09:36:00",
          "1978-07-02T12:00:00",
          "1980-08-07T15:24:00",
          "1982-09-13T17:48:00",
          "1984-10-19T19:12:00",
          "1986-11-25T21:36:00"
         ],
         "y": {
          "bdata": "n2ffnz5lWD/SCsrtdSlePwrbI5h4U2E/s8oktOZKYT8+ybYIoDpnP6aLCkikd1c/vnuroUmeWD98YmBAgfdaP2b9M4ihnlI/Hv36r9M6YD8=",
          "dtype": "f8"
         }
        },
        {
         "hovertemplate": "<b>%{text}</b>",
         "line": {
          "width": 3
         },
         "marker": {
          "color": "#1CA71C",
          "line": {
           "color": "black",
           "width": 2
          },
          "size": 14
         },
         "mode": "markers+lines",
         "name": "98_českých_české_czechs_czech",
         "text": [
          "českých, české, mimopražských, českolipském, československa, všeslovanské",
          "českých, české, češtinou, sovětskočeskoslovenské, vánočními, vánočnímu",
          "českých, české, československa, masaryka, masaryk, cvičenc",
          "českých, české, czechosloväk, krajanskou, czeciioslovak, farářovi",
          "českých, české, československú, slovanský, státníky, rusku",
          "českých, české, czechs, československú, eskoslovenska, naším",
          "českých, české, československa, slovenských, českoslo, verneovky",
          "českých, české, czechs, czech, rytířských, dokumentem",
          "českých, české, czechs, zlatňanský, československa, réunionu",
          "českých, české, czechs, choslovak, oznámil, voříškova"
         ],
         "type": "scatter",
         "x": [
          "1968-01-01T00:00:00",
          "1970-02-06T02:24:00",
          "1972-03-14T04:48:00",
          "1974-04-20T07:12:00",
          "1976-05-26T09:36:00",
          "1978-07-02T12:00:00",
          "1980-08-07T15:24:00",
          "1982-09-13T17:48:00",
          "1984-10-19T19:12:00",
          "1986-11-25T21:36:00"
         ],
         "y": {
          "bdata": "twTtYb20cj+218K634BjPwv1blGucmI/Z5puyzepZD9PlVFoDHdlP1QGHCohGWg/C+/7wuPBcz/sLXjgWzh0PxsUXXABG3A/pc+dqfZocT8=",
          "dtype": "f8"
         }
        },
        {
         "hovertemplate": "<b>%{text}</b>",
         "line": {
          "width": 3
         },
         "marker": {
          "color": "#FB0D0D",
          "line": {
           "color": "black",
           "width": 2
          },
          "size": 14
         },
         "mode": "markers+lines",
         "name": "99_včerejška_docházel_vlámského_středočeského",
         "text": [
          "včerejška, prosovětských, českomoravského, skoslovenského, czechoslovaks, skoslovensko",
          "včerejška, zhodnotil, československosovětského, středočeského, zbrojovka, vydat",
          "včerejška, vydávají, současné, námětem, súčasného, nynějšího",
          "včerejška, státník, svatováclavské, mnichovském, tschechischen, svatovojtěšské",
          "včerejška, českoslovenkého, vladimírem, socialistu, socialistická, nekomunistických",
          "včerejška, slova, bratislavského, staletími, obcházel, hodina",
          "včerejška, vojtěchově, vlámských, ukonejšil, dvořákova, zařizuje",
          "včerejška, vydávaly, lidech, švejkovi, slezsku, nizozemím",
          "včerejška, pocházel, vlámského, západoněmeckým, všeslovanské, slovenskej",
          "včerejška, docházel, brněnském, vydávám, vcházel, slovanského"
         ],
         "type": "scatter",
         "x": [
          "1968-01-01T00:00:00",
          "1970-02-06T02:24:00",
          "1972-03-14T04:48:00",
          "1974-04-20T07:12:00",
          "1976-05-26T09:36:00",
          "1978-07-02T12:00:00",
          "1980-08-07T15:24:00",
          "1982-09-13T17:48:00",
          "1984-10-19T19:12:00",
          "1986-11-25T21:36:00"
         ],
         "y": {
          "bdata": "dXnVsVi1Jj9HELyrfxoaP9BmhK2nzRo/63dITW1oJj/YkCCGc84APzMaFLFv1Sg/SbUHDbAsHj/pLCtdUgswP74Q8njwDyc/8YCULA+8Lj8=",
          "dtype": "f8"
         }
        },
        {
         "hovertemplate": "<b>%{text}</b>",
         "line": {
          "width": 3
         },
         "marker": {
          "color": "#DA16FF",
          "line": {
           "color": "black",
           "width": 2
          },
          "size": 14
         },
         "mode": "markers+lines",
         "name": "100_krajany_krajané_pobytu_vyšehrad",
         "text": [
          "krajany, vydali, přednesl, uveřejnění, vlasta, zaznamenal",
          "krajany, pobytu, místo, hospodě, návštěvu, ciziny",
          "krajany, krajané, pobytu, zabýval, minulém, zpracoval",
          "krajany, vlastenecké, přednesl, zúčastnili, krajané, jubilejní",
          "krajany, krajané, pobytu, vlasta, vyšehrad, pořádá",
          "krajany, krajané, zúčastnili, zúčastnil, ježíškovi, farní",
          "krajany, los, vlasta, promítán, divadelních, divadlo",
          "krajany, vlastenecké, protestním, povstání, poválečného, přízeň",
          "krajany, krajané, češi, navštívil, komu, kterém",
          "krajany, krajané, navštívil, vyšehrad, vlastenecký, letech"
         ],
         "type": "scatter",
         "x": [
          "1968-01-01T00:00:00",
          "1970-02-06T02:24:00",
          "1972-03-14T04:48:00",
          "1974-04-20T07:12:00",
          "1976-05-26T09:36:00",
          "1978-07-02T12:00:00",
          "1980-08-07T15:24:00",
          "1982-09-13T17:48:00",
          "1984-10-19T19:12:00",
          "1986-11-25T21:36:00"
         ],
         "y": {
          "bdata": "CwdDUaASJz/yp4gaTLcmP63PpYlF8i8/W593ZvQBOT/vd8E0bic4P8XKqcM8tSE/aLSbKVEtET9kPgQH6jAXPw5P+psF5Co/AhQyLMWoHj8=",
          "dtype": "f8"
         }
        },
        {
         "hovertemplate": "<b>%{text}</b>",
         "line": {
          "width": 3
         },
         "marker": {
          "color": "#222A2A",
          "line": {
           "color": "black",
           "width": 2
          },
          "size": 14
         },
         "mode": "markers+lines",
         "name": "101_českej_slovenskej_slovenskému_slovákom",
         "text": [
          "českej, slovenskej, českí, ustanovizne, slovenčinu, mnichovského",
          "českej, češtinou, výboručeskoslovensko, lékárna, včeskoslovensku, letoviska",
          "česka, českej, slovenskí, slovenským, slovanská, bratislavu",
          "českej, slovenských, slovenský, slovenskej, češkou, slovak",
          "českej, slovenskej, výročích, československoamerických, výročie, českáho",
          "českej, popularczechoslovak, slovenskej, skoslovenské, koslovenských, bratislavský",
          "českej, čechu, českem, československopol, slovenskému, jindřichově",
          "českej, slovenskej, českí, skoslovensku, pražskej, češky",
          "českej, slovenskej, slovákom, bratislavským, slovenčinu, československú",
          "českej, slovenskej, slovenskému, bratislavská, českú, československosovětské"
         ],
         "type": "scatter",
         "x": [
          "1968-01-01T00:00:00",
          "1970-02-06T02:24:00",
          "1972-03-14T04:48:00",
          "1974-04-20T07:12:00",
          "1976-05-26T09:36:00",
          "1978-07-02T12:00:00",
          "1980-08-07T15:24:00",
          "1982-09-13T17:48:00",
          "1984-10-19T19:12:00",
          "1986-11-25T21:36:00"
         ],
         "y": {
          "bdata": "5g7HFU5jJj8dumD7Q6ogP9aGL26HGwU/apXN6gaODz+YUcFcPdIYP04fRA+9NRY/2+SeAav/ID8QQDwTAicuP43Bb+rLfCU/RpLG9DopKT8=",
          "dtype": "f8"
         }
        },
        {
         "hovertemplate": "<b>%{text}</b>",
         "line": {
          "width": 3
         },
         "marker": {
          "color": "#B68100",
          "line": {
           "color": "black",
           "width": 2
          },
          "size": 14
         },
         "mode": "markers+lines",
         "name": "102_teologie_teologii_teologické_teologických",
         "text": [
          "teologii, teologie, světské, vyznání, teologická, ekumenismus",
          "národem, vnitropolitických, vlast, vládním, vyznání, režimní",
          "teologie, apoštolské, teologii, světských, zbožný, apoštolský",
          "teologie, zbožné, věřícím, vyznání, theologickým, ateismu",
          "vyznání, bohoslužba, teologii, teologie, liturgii, duchovní",
          "duchovní, teologie, svatodušní, křesťan, křesťanskou, křesťanská",
          "teologie, teologických, teologického, teologická, teologii, teologickými",
          "teologii, vírou, vyznání, teologie, teologických, teologický",
          "křestanství, teologii, teologická, teologií, teologické, teologové",
          "teologie, teologii, teologií, teologické, teologických, teologického"
         ],
         "type": "scatter",
         "x": [
          "1968-01-01T00:00:00",
          "1970-02-06T02:24:00",
          "1972-03-14T04:48:00",
          "1974-04-20T07:12:00",
          "1976-05-26T09:36:00",
          "1978-07-02T12:00:00",
          "1980-08-07T15:24:00",
          "1982-09-13T17:48:00",
          "1984-10-19T19:12:00",
          "1986-11-25T21:36:00"
         ],
         "y": {
          "bdata": "NPp0NTarQD90yCSm2BYKP+8Bl+81hDw/fGT+6GH2Mj9vqATlJKNAP4YG1UZsIDA/VPIU3V5rRz/ASwLoQC48P6m6a5fLbEQ/ki/vrOhlRz8=",
          "dtype": "f8"
         }
        },
        {
         "hovertemplate": "<b>%{text}</b>",
         "line": {
          "width": 3
         },
         "marker": {
          "color": "#750D86",
          "line": {
           "color": "black",
           "width": 2
          },
          "size": 14
         },
         "mode": "markers+lines",
         "name": "103_svatým_svatému_svatosti_svatá",
         "text": [
          "zbožný, bohosloví, farářovy, svátostným, kazatel, bohosloveckém",
          "svatým, pravoslavným, mučedníkovo, pravoslavnému, svátost, pravoslavného",
          "apoštolským, apoštolskému, liturgický, svatému, liturgická, svatosti",
          "svatému, farského, starokatolický, svátému, starokřesťanské, kirchschläger",
          "svatým, laik, kněžských, kněžské, kněze, bohosloví",
          "svatým, svátost, vyznání, božského, kazatele, zasvětí",
          "svatým, svátost, vyznával, svatosti, kázat, hlásáni",
          "svatým, svatá, svatému, modli, svatořečil, svatém",
          "svatým, svatému, svatosti, svátost, apoštolských, svatost",
          "svatým, svatému, svatosti, svatá, apoštolských, uctívá"
         ],
         "type": "scatter",
         "x": [
          "1968-01-01T00:00:00",
          "1970-02-06T02:24:00",
          "1972-03-14T04:48:00",
          "1974-04-20T07:12:00",
          "1976-05-26T09:36:00",
          "1978-07-02T12:00:00",
          "1980-08-07T15:24:00",
          "1982-09-13T17:48:00",
          "1984-10-19T19:12:00",
          "1986-11-25T21:36:00"
         ],
         "y": {
          "bdata": "nzRW5LXXPT9bSCwFCpBiP++UjUbYCEo/REfLaNEvVj9a9rC5X6ZgP7g5in9VOnA/4yTF6I1igz/BFcldPKOGP237J9P9sIY/ADlUgmopjT8=",
          "dtype": "f8"
         }
        },
        {
         "hovertemplate": "<b>%{text}</b>",
         "line": {
          "width": 3
         },
         "marker": {
          "color": "#EB663B",
          "line": {
           "color": "black",
           "width": 2
          },
          "size": 14
         },
         "mode": "markers+lines",
         "name": "104_čechy_čechu_česka_čechů",
         "text": [
          "čechy, čechu, česka, české, skoslovenské, frankfurtský",
          "čechy, dvořákovu, čechů, varhany, výtvarných, helvetočeskoslovenského",
          "čechy, česka, cechi, československa, východoevropskou, vydávají",
          "čechy, czecoslovakia, východoslovenských, češtinou, koslovenské, česka",
          "čechy, czechoslovakias, francotchécoslovaque, manifestovat, americkočeskoslovenská, křestanských",
          "čechy, čechu, czech, weltwoche, čechů, slovenských",
          "čechy, čechů, českoslo, czechs, českoslovenka, tschecho",
          "čechy, czechs, czech, čechu, česka, uherský",
          "čechy, čechoslovácích, velehradská, svatosti, czech, réunionu",
          "čechy, bratislavští, česka, československí, československa, čechu"
         ],
         "type": "scatter",
         "x": [
          "1968-01-01T00:00:00",
          "1970-02-06T02:24:00",
          "1972-03-14T04:48:00",
          "1974-04-20T07:12:00",
          "1976-05-26T09:36:00",
          "1978-07-02T12:00:00",
          "1980-08-07T15:24:00",
          "1982-09-13T17:48:00",
          "1984-10-19T19:12:00",
          "1986-11-25T21:36:00"
         ],
         "y": {
          "bdata": "NRorTsEoZD910m3owVdZP9XKF3RvQks/7n7eVVyeVD8PrZFMzRtYP9UZlKoIhFk/12oLGZr1Zj/TX4MooxNnP/SL8jFvCVw/InAMNKrcWz8=",
          "dtype": "f8"
         }
        },
        {
         "hovertemplate": "<b>%{text}</b>",
         "line": {
          "width": 3
         },
         "marker": {
          "color": "#511CFB",
          "line": {
           "color": "black",
           "width": 2
          },
          "size": 14
         },
         "mode": "markers+lines",
         "name": "105_slovenské_slovenského_slovenských_slovenský",
         "text": [
          "slovenské, slovenského, slovenských, vermittlungsstelle, čáslavská, českoslovanských",
          "slovenské, slovenského, slovenských, svatováclavských, brněnskému, slovenský",
          "slovenského, slovenských, slovenské, slovenský, slovaques, slovacchi",
          "slovenské, slovenského, slovenských, slovak, skautského, skautskej",
          "slovenské, slovenského, slovenský, slovenských, slovenští, českoamerické",
          "slovenské, slovenského, slovenských, slovenský, slovenskej, slováka",
          "slovenské, slovenského, slovenský, slovenských, slovenskej, slovenským",
          "slovenské, slovenského, slovenských, slovenský, slovenska, slovanská",
          "slovenské, slovenských, slovenského, slovenský, slovensky, slovenska",
          "slovenské, slovenského, slovenských, slovenský, bratislavských, slovanské"
         ],
         "type": "scatter",
         "x": [
          "1968-01-01T00:00:00",
          "1970-02-06T02:24:00",
          "1972-03-14T04:48:00",
          "1974-04-20T07:12:00",
          "1976-05-26T09:36:00",
          "1978-07-02T12:00:00",
          "1980-08-07T15:24:00",
          "1982-09-13T17:48:00",
          "1984-10-19T19:12:00",
          "1986-11-25T21:36:00"
         ],
         "y": {
          "bdata": "XMZ9xL6oUz+0jaWwiDlLP1chCpxD+1E/E0TftgY0ZT/DGdegRaVnP/A5ha/4BGg/U+5AiojJcD9g5lQPtQF7P1zUvvkp8G0/4IoGG11FdT8=",
          "dtype": "f8"
         }
        },
        {
         "hovertemplate": "<b>%{text}</b>",
         "line": {
          "width": 3
         },
         "marker": {
          "color": "#00A08B",
          "line": {
           "color": "black",
           "width": 2
          },
          "size": 14
         },
         "mode": "markers+lines",
         "name": "106_pražské_slezsko_tschechische_česka",
         "text": [
          "pražské, koslovensku, a3československo, americanczechoslovakclub, plzeňská, spisovatelm",
          "pražské, yorského, východoněmeckými, chechoslovakia, československoamericky, výtvarných",
          "pražské, americkému, shromáždění, ženevské, českých, východoevropští",
          "pražské, jubilejní, krásnohorská, vlastenka, miroslava, založila",
          "pražské, sovětském, českoamerické, slovenska, slovenskou, československa",
          "pražské, parlamentě, novinek, československosovětská, česke, koslovenska",
          "pražské, redakcích, pobaltských, výroční, protisovětský, československa",
          "pražské, vratislav, stanislav, dagbladet, novinek, českolipském",
          "pražské, novinka, sovětskoamerická, československozápado, leningradské, koslovenskými",
          "pražské, československa, tzv, moskvě, tygodnik, čechovou"
         ],
         "type": "scatter",
         "x": [
          "1968-01-01T00:00:00",
          "1970-02-06T02:24:00",
          "1972-03-14T04:48:00",
          "1974-04-20T07:12:00",
          "1976-05-26T09:36:00",
          "1978-07-02T12:00:00",
          "1980-08-07T15:24:00",
          "1982-09-13T17:48:00",
          "1984-10-19T19:12:00",
          "1986-11-25T21:36:00"
         ],
         "y": {
          "bdata": "/ybi1s0MSj/y7dxwwgVNPweDD51rHEE/FF+OCEaLSj+KYTmaFPpKP+PXr7CmQTY/er/CWX39Oz9+VTmxKItDPyRXxLSYlUA/3jsbLRGpRD8=",
          "dtype": "f8"
         }
        },
        {
         "hovertemplate": "<b>%{text}</b>",
         "line": {
          "width": 3
         },
         "marker": {
          "color": "#FB00D1",
          "line": {
           "color": "black",
           "width": 2
          },
          "size": 14
         },
         "mode": "markers+lines",
         "name": "107_námi_abychom_našim_našeho",
         "text": [
          "námi, abychom, našim, bychom, našeho, našich",
          "těší, králové, těšili, sedláka, naší, našem",
          "námi, abychom, podáváme, všední, našem, životem",
          "námi, abychom, našeho, naší, věnujeme, bychom",
          "námi, našim, našeho, bychom, považujeme, naším",
          "námi, našeho, abychom, našim, našem, bychom",
          "námi, abychom, našem, považujeme, věrni, věrnost",
          "námi, našim, našich, našeho, považujeme, naší",
          "námi, abychom, našim, našem, naší, naším",
          "námi, abychom, našeho, našim, považujeme, naším"
         ],
         "type": "scatter",
         "x": [
          "1968-01-01T00:00:00",
          "1970-02-06T02:24:00",
          "1972-03-14T04:48:00",
          "1974-04-20T07:12:00",
          "1976-05-26T09:36:00",
          "1978-07-02T12:00:00",
          "1980-08-07T15:24:00",
          "1982-09-13T17:48:00",
          "1984-10-19T19:12:00",
          "1986-11-25T21:36:00"
         ],
         "y": {
          "bdata": "XcdBzvw5TD+VQZ4Z9QUnP4QB2bn6w0M/B0bDzIgdUj8myCkIS6xJP0VsYZuLZEU/VU31IFxEQj8xLimsBKNOP/RAvu4O5FQ/96WO7KF/Vj8=",
          "dtype": "f8"
         }
        },
        {
         "hovertemplate": "<b>%{text}</b>",
         "line": {
          "width": 3
         },
         "marker": {
          "color": "#FC0080",
          "line": {
           "color": "black",
           "width": 2
          },
          "size": 14
         },
         "mode": "markers+lines",
         "name": "108_ročník_ročníku_année_letošní",
         "text": [
          "ročník, ročníku, vydávali, spisovatelm, vědeckých, vědy",
          "ročník, vydalo, ročníku, vratislav, pořádala, období",
          "ročník, ročníku, sborníku, vydala, studiích, vydalo",
          "ročník, výzkum, 1977, publikací, vědy, premiéře",
          "ročník, čtvrtletníku, ročníku, září, 1977, vydáno",
          "ročník, ročníku, zaslány, zúčastnil, úřední, jihoslovanského",
          "ročník, uvádím, dokumentuje, dávné, vědcm, vládního",
          "ročník, ročníku, měli, fouet, kanadské, kanady",
          "ročník, letošní, année, zúčastnil, hlásíme, ročníku",
          "ročník, ročníku, vydali, uvedených, année, pořádá"
         ],
         "type": "scatter",
         "x": [
          "1968-01-01T00:00:00",
          "1970-02-06T02:24:00",
          "1972-03-14T04:48:00",
          "1974-04-20T07:12:00",
          "1976-05-26T09:36:00",
          "1978-07-02T12:00:00",
          "1980-08-07T15:24:00",
          "1982-09-13T17:48:00",
          "1984-10-19T19:12:00",
          "1986-11-25T21:36:00"
         ],
         "y": {
          "bdata": "fzRkhDaDUT+qBWngLp5RP+A3+LS8j1A/ZpbohrSuRz+htUrAa2dGPxoGUOjLfkU/ldE0jPMaOD8JdXyxt9k6P1LpRTttZFI/BiL8kUW5Sj8=",
          "dtype": "f8"
         }
        },
        {
         "hovertemplate": "<b>%{text}</b>",
         "line": {
          "width": 3
         },
         "marker": {
          "color": "#B2828D",
          "line": {
           "color": "black",
           "width": 2
          },
          "size": 14
         },
         "mode": "markers+lines",
         "name": "109_československa_jugoslávie_jugoslávského_švýcarska",
         "text": [
          "československa, československu, vladimír, politickým, špiónské, vládo",
          "československa, československu, československých, místodržitel, vládu, místopředsedy",
          "československa, československu, nizozemí, nederland, holandsko, holandska",
          "československa, československu, delegát, vyslanectví, československokanadský, sdělení",
          "československa, ministerstvo, občanm, novinovém, novinového, východoevropskou",
          "československa, československu, xiv, československých, vlastimila, sverige",
          "československa, československu, 4156614898, československých, svobody, tsjechoslowaakse",
          "československa, československu, západoslovenských, maďarčiny, maďarčine, slovenskému",
          "československa, československu, varšavskými, varšavy, onyszkiewicz, krakow",
          "československa, československu, setkání, politického, socialist, zaslali"
         ],
         "type": "scatter",
         "x": [
          "1968-01-01T00:00:00",
          "1970-02-06T02:24:00",
          "1972-03-14T04:48:00",
          "1974-04-20T07:12:00",
          "1976-05-26T09:36:00",
          "1978-07-02T12:00:00",
          "1980-08-07T15:24:00",
          "1982-09-13T17:48:00",
          "1984-10-19T19:12:00",
          "1986-11-25T21:36:00"
         ],
         "y": {
          "bdata": "j2UVudYZVD9zpatQxpZSP54G5gn1ZUs/5ISEj2pxTD9ydelXlHtNP50ACU20E00/50tREiWEUT/nYPO6h9ZRPxRbvzzc8k0/N82c2wFJSz8=",
          "dtype": "f8"
         }
        },
        {
         "hovertemplate": "<b>%{text}</b>",
         "line": {
          "width": 3
         },
         "marker": {
          "color": "#6C7C32",
          "line": {
           "color": "black",
           "width": 2
          },
          "size": 14
         },
         "mode": "markers+lines",
         "name": "110_slovákov_slovákom_slovákmi_bratislavskej",
         "text": [
          "slovákov, továrny, jihoslovan, rakouska, švajčiarského, montážních",
          "slovákov, tchécoslovaqucs, slovákom, tschechoslowa, švábenský, zpracoval",
          "slovákov, pražskej, varhany, mnichovskou, jubilejní, živnostenského",
          "slovákov, slovákom, rakouských, rakouské, uherských, vídeňská",
          "slovákov, zúčastnil, češtinou, slovákom, leningradu, českoslovesnké",
          "slovákov, slovákmi, hifitelevizorykrajanskě, brněnskou, plzeňském, vladimírem",
          "slovákov, českýchlistin, slovenčiny, slovákom, západoslovenské, slovákú",
          "slovákov, bratislavskej, slovákmi, bohoslovcov, slovákom, uherský",
          "slovákov, slovákom, českoslovsensku, českoslovenksu, slovákmi, slovenští",
          "slovákov, slovákom, pražskej, slovákmi, slovákovi, slovenčinu"
         ],
         "type": "scatter",
         "x": [
          "1968-01-01T00:00:00",
          "1970-02-06T02:24:00",
          "1972-03-14T04:48:00",
          "1974-04-20T07:12:00",
          "1976-05-26T09:36:00",
          "1978-07-02T12:00:00",
          "1980-08-07T15:24:00",
          "1982-09-13T17:48:00",
          "1984-10-19T19:12:00",
          "1986-11-25T21:36:00"
         ],
         "y": {
          "bdata": "BoznfdygVT/49IbJ0bVcP/SoD1PHLEg/J5ShKSALUj/gXBjsOe5SP1LHqsW7j1c/8kozAq9uWD8AbgfTeHNjP6kq8BrwbFc/6RSXPk71VD8=",
          "dtype": "f8"
         }
        },
        {
         "hovertemplate": "<b>%{text}</b>",
         "line": {
          "width": 3
         },
         "marker": {
          "color": "#778AAE",
          "line": {
           "color": "black",
           "width": 2
          },
          "size": 14
         },
         "mode": "markers+lines",
         "name": "111_přeložil_zavedl_natolik_vítězslav",
         "text": [
          "přeložil, ústředním, zažili, jubilejní, zakládal, vydat",
          "přeložil, hradní, vojtěcha, zavedl, středočeském, královéhradeckého",
          "přeložil, římském, řím, italové, vatikánský, překládal",
          "přeložil, římskou, letech, osobuje, odehrávalo, římané",
          "přeložil, vlasty, kazatele, ježíšv, vlasta, kterému",
          "přeložil, natolik, kra, svatovítského, vítězslav, přeložených",
          "přeložil, komu, natolik, hleděl, kdyi, kra",
          "přeložil, jubilejním, hleděl, bělohradský, zazněla, valdštejna",
          "přeložil, bělohradský, hěmecku, vítězslav, zdeňkovi, ztotožnil",
          "přeložil, zavedl, překladem, zchátralého, farnímu, pocházel"
         ],
         "type": "scatter",
         "x": [
          "1968-01-01T00:00:00",
          "1970-02-06T02:24:00",
          "1972-03-14T04:48:00",
          "1974-04-20T07:12:00",
          "1976-05-26T09:36:00",
          "1978-07-02T12:00:00",
          "1980-08-07T15:24:00",
          "1982-09-13T17:48:00",
          "1984-10-19T19:12:00",
          "1986-11-25T21:36:00"
         ],
         "y": {
          "bdata": "3pjmSxYSMj/x8nK6y2oqPykusAzuwyQ/jv34nG+fMz9SO5L4+xIuP97eLS34Liw//vTvimoPNj9QFjtO75owPx2CVtFfNjY/15dMCXUyND8=",
          "dtype": "f8"
         }
        },
        {
         "hovertemplate": "<b>%{text}</b>",
         "line": {
          "width": 3
         },
         "marker": {
          "color": "#862A16",
          "line": {
           "color": "black",
           "width": 2
          },
          "size": 14
         },
         "mode": "markers+lines",
         "name": "112_sovět_sovětském_sovětská_sovětskou",
         "text": [
          "sovět, sovětském, sovětská, sovětskou, českoslovenku, prosovětská",
          "sovět, sovětská, sovětském, východoevropské, sovětskou, sovětského",
          "sovět, sovětském, sovětská, sovětského, stalin, diplomacie",
          "sovět, sovětském, sovětské, sovětského, sovětská, leningradské",
          "sovět, sovětská, sovětském, sovětskou, nybratislavany, prosovětských",
          "sovět, sovětském, sovětská, sovětské, sovětskou, východoevropští",
          "sovět, sovětském, sovětská, sovětských, sovětskou, prosovětské",
          "sovět, sovětském, sovětskou, sovětská, komunistickými, stalinismu",
          "sovět, sovětském, sovětská, sovětskou, sovětským, sovětského",
          "sovět, sovětská, sovětskou, sovětském, jaderných, jaderné"
         ],
         "type": "scatter",
         "x": [
          "1968-01-01T00:00:00",
          "1970-02-06T02:24:00",
          "1972-03-14T04:48:00",
          "1974-04-20T07:12:00",
          "1976-05-26T09:36:00",
          "1978-07-02T12:00:00",
          "1980-08-07T15:24:00",
          "1982-09-13T17:48:00",
          "1984-10-19T19:12:00",
          "1986-11-25T21:36:00"
         ],
         "y": {
          "bdata": "i31esLXCYz/ParpmCJtwP72PX9yfR2Y/tjmoGU7zZD9pr3ofhfhhPwkVVgIe/V0/l25jBRTiYj/8mrh72e1YP8H/RT1uIlo/4Qcv8DHsUz8=",
          "dtype": "f8"
         }
        },
        {
         "hovertemplate": "<b>%{text}</b>",
         "line": {
          "width": 3
         },
         "marker": {
          "color": "#A777F1",
          "line": {
           "color": "black",
           "width": 2
          },
          "size": 14
         },
         "mode": "markers+lines",
         "name": "113_týdeník_novinka_týdeníkem_novinám",
         "text": [
          "týdeník, uherský, československoamerický, czechoslovakamerican, českoslovenku, východoevropských",
          "týdeník, socialismu, východoevropští, americanczechoslovakclub, americanczechoslovak, vydáni",
          "týdeník, vydáni, východoevropských, americkém, postihl, americkým",
          "týdeník, newyorskej, novinek, yorského, vydávali, vydával",
          "týdeník, novinka, ústav, americkosovět, novinových, sovětskoamerickou",
          "týdeník, nypopradny, novinám, týdenníku, palestinské, palestinských",
          "týdeník, československapředplácení, osmdesát, plzeňského, vydávají, týdeníkem",
          "týdeník, novinka, vydávat, poláci, sovětském, koslovenskými",
          "týdeník, umělec, kreslíř, písařem, esejist, spisovatelské",
          "týdeník, listyweekly, listytýdeník, nyprahabratislavany, slovakia, časopisem"
         ],
         "type": "scatter",
         "x": [
          "1968-01-01T00:00:00",
          "1970-02-06T02:24:00",
          "1972-03-14T04:48:00",
          "1974-04-20T07:12:00",
          "1976-05-26T09:36:00",
          "1978-07-02T12:00:00",
          "1980-08-07T15:24:00",
          "1982-09-13T17:48:00",
          "1984-10-19T19:12:00",
          "1986-11-25T21:36:00"
         ],
         "y": {
          "bdata": "5RM3rnAgWD95PoooljtYP/5cSzcvQGU/k1isch2vZD+wYIwQ+kRiP+hSFz8x2WE/yfDR51ulYj8jeiGeszBiP4/QKFcBg2E/2+z21VkoSD8=",
          "dtype": "f8"
         }
        },
        {
         "hovertemplate": "<b>%{text}</b>",
         "line": {
          "width": 3
         },
         "marker": {
          "color": "#620042",
          "line": {
           "color": "black",
           "width": 2
          },
          "size": 14
         },
         "mode": "markers+lines",
         "name": "114_apoštolátu_apoštolskou_apoštolát_apoštolské",
         "text": [
          "apoštolátu, apoštolově, apoštolským, přeložila, apoštolská, apoštolskou",
          "svátému, duchcova, svatopostní, zdvodněných, benediktinek, slovesné",
          "apoštolát, liturgii, apoštolátu, apoštolská, laik, teologický",
          "apoštolátu, svatém, kristovým, svatosti, kázáním, světec",
          "apoštolátu, apoštolská, apoštolské, bohosloví, apoštolských, kristově",
          "apoštolské, apoštolátu, presvätej, slovenčiny, slovenskoamerické, ježišovom",
          "apoštolátu, apoštolskou, kázal, apoštolský, svatost, bibli",
          "apoštolátu, apoštolskou, boženské, spásou, světské, apoštolská",
          "apoštolátu, apoštolský, apoštolskou, apoštolského, apoštolské, křestanství",
          "apoštolátu, apoštolát, apoštolskou, apoštolské, bohoslužby, laik"
         ],
         "type": "scatter",
         "x": [
          "1968-01-01T00:00:00",
          "1970-02-06T02:24:00",
          "1972-03-14T04:48:00",
          "1974-04-20T07:12:00",
          "1976-05-26T09:36:00",
          "1978-07-02T12:00:00",
          "1980-08-07T15:24:00",
          "1982-09-13T17:48:00",
          "1984-10-19T19:12:00",
          "1986-11-25T21:36:00"
         ],
         "y": {
          "bdata": "Q++nirh6Qj9zQVZ1C7AAP+7bfvFOuUU/IxnfesBqNz81bl5aAZ5HP+Vfd6vNc0U/IywlVdhlTz/Ux5qGKwZOPy9NthUqPmA/OTocqYmGbD8=",
          "dtype": "f8"
         }
        },
        {
         "hovertemplate": "<b>%{text}</b>",
         "line": {
          "width": 3
         },
         "marker": {
          "color": "#1616A7",
          "line": {
           "color": "black",
           "width": 2
          },
          "size": 14
         },
         "mode": "markers+lines",
         "name": "115_pražskému_sovětském_sovětskoamerické_českem",
         "text": [
          "pražskému, protisovětských, tisovětskou, protisovětském, českobudějovičtí, východoevropské",
          "pražskému, ceskoslovenskoamericky, prosovětské, vratislav, východoevropských, americkočeskoslovenský",
          "pražskému, václavův, bratislavská, sovětskoamerické, aneboczechoslovak, gazeta",
          "pražskému, volkshaus, vídeňskému, winterthuru, winterthur, rathausplatz",
          "pražskému, bratislavská, sovětském, americanczechoslovak, protičeskoslovenskou, americkočeskoslovenského",
          "pražskému, plzeňského, tschechoslowakischer, českoslovanské, novinám, protičeskoslovenským",
          "pražskému, bürgerhausu, mnichovském, západoslovenského, slovaks, štátnom",
          "pražskému, tschechoslowakischcn, chécoslovaques, čechu, bratislavatatrykošice, novinový",
          "pražskému, procházková, slováka, jaroslav, bratislavskej, slovenska",
          "pražskému, československoa, poláci, leningradě, polskému, protičeskoslovenské"
         ],
         "type": "scatter",
         "x": [
          "1968-01-01T00:00:00",
          "1970-02-06T02:24:00",
          "1972-03-14T04:48:00",
          "1974-04-20T07:12:00",
          "1976-05-26T09:36:00",
          "1978-07-02T12:00:00",
          "1980-08-07T15:24:00",
          "1982-09-13T17:48:00",
          "1984-10-19T19:12:00",
          "1986-11-25T21:36:00"
         ],
         "y": {
          "bdata": "q8fa+gD2VD8EM/yxWhhiPwR1Ov4ShUg/XNTq57I/VD+kRcUtDR1bP2k5T704XFU/uIR0juo7XD8uSdXxp9RgP8UPrXfLDlc/Hu98sSkTXT8=",
          "dtype": "f8"
         }
        },
        {
         "hovertemplate": "<b>%{text}</b>",
         "line": {
          "width": 3
         },
         "marker": {
          "color": "#DA60CA",
          "line": {
           "color": "black",
           "width": 2
          },
          "size": 14
         },
         "mode": "markers+lines",
         "name": "116_ny_yorské_osmdesát_nov",
         "text": [
          "ny, yorské, týdenní, novinách, uherský, yorkprahanew",
          "ny, yorské, novočeskými, poplatku, československoamerický, poštovného",
          "ny, yorské, weekly, nov, 1874, novinek",
          "ny, yorské, časopis, zpravodajské, zpravodajská, století",
          "yorské, ny, tehdejších, článk, týdeníky, americkému",
          "ny, osmdesát, yorské, týdenní, prosovětský, americe",
          "ny, yorské, osmdesát, československapředpláceni, týdenní, roční",
          "ny, yorské, newyorském, novinovém, novinový, newyorský",
          "ny, yorské, vyhrazena, aug11sept, zpravodajství, správy",
          "ny, yorské, státních, demonstroval, stávkovalo, manifestace"
         ],
         "type": "scatter",
         "x": [
          "1968-01-01T00:00:00",
          "1970-02-06T02:24:00",
          "1972-03-14T04:48:00",
          "1974-04-20T07:12:00",
          "1976-05-26T09:36:00",
          "1978-07-02T12:00:00",
          "1980-08-07T15:24:00",
          "1982-09-13T17:48:00",
          "1984-10-19T19:12:00",
          "1986-11-25T21:36:00"
         ],
         "y": {
          "bdata": "wGdIz5EXQj8Zr5Zvx0JHP6SfvG1xr2w/Sc0HbOrkWz8oHt5wPQRXP79uC9NEb18/NEUuDoq3YD9w9BHC6yJjPw96So/DeWs/VlhzWfKLRD8=",
          "dtype": "f8"
         }
        },
        {
         "hovertemplate": "<b>%{text}</b>",
         "line": {
          "width": 3
         },
         "marker": {
          "color": "#6C4516",
          "line": {
           "color": "black",
           "width": 2
          },
          "size": 14
         },
         "mode": "markers+lines",
         "name": "117_byly_kterém_měla_měly",
         "text": [
          "byly, vyslovilo, kazatelem, zavítá, jichž, hojném",
          "dne, měla, taková, norimberku, zazněla, namáhala",
          "byly, kterém, měla, měly, vypráví, dne",
          "byly, měli, zavedla, měla, kdysi, hospodyňka",
          "byly, dne, kterém, les, maine, année",
          "byly, kterého, kterém, kterému, měla, jisto",
          "byly, kterého, měla, kterém, měli, zdál",
          "byly, kterém, měli, měly, měla, dne",
          "byly, měly, měla, kterém, kterého, vyslovilo",
          "byly, měla, kterém, měly, měli, kterému"
         ],
         "type": "scatter",
         "x": [
          "1968-01-01T00:00:00",
          "1970-02-06T02:24:00",
          "1972-03-14T04:48:00",
          "1974-04-20T07:12:00",
          "1976-05-26T09:36:00",
          "1978-07-02T12:00:00",
          "1980-08-07T15:24:00",
          "1982-09-13T17:48:00",
          "1984-10-19T19:12:00",
          "1986-11-25T21:36:00"
         ],
         "y": {
          "bdata": "28WsTa2NXj9QVK9r/iVmP7yskilZg4M/PJ9zXXENfT8rIXcXPSeGP/hkRLzVUoQ/rU0qyv1nfz9tCo6QqJKAP6IHlZ/K2Yc/4HvB6CkJgz8=",
          "dtype": "f8"
         }
        },
        {
         "hovertemplate": "<b>%{text}</b>",
         "line": {
          "width": 3
         },
         "marker": {
          "color": "#0D2A63",
          "line": {
           "color": "black",
           "width": 2
          },
          "size": 14
         },
         "mode": "markers+lines",
         "name": "118_československých_plzeňského_leningradě_komunismus",
         "text": [
          "československých, češke, protisovětským, švajčiar, internacionalisté, východoevropský",
          "československých, švýcarkami, osvobozeneckou, heimplatz, československu, redakční",
          "československých, demonstrantu, uvádějí, náměstí, vyjadřují, kterem",
          "československých, republiku, dávných, popularczechoslovak, napjaté, velikonoční",
          "československých, ústav, československoně, československý, vydány, novinách",
          "československých, německá, novodvorskou, švajčiarska, švýcarští, švýcarskou",
          "československých, slovenčinou, staroslovanských, československu, slovanských, bratislave",
          "československých, československu, leningradského, slovenčinu, liptovskej, slovenčině",
          "československých, západoněmeckém, bulváru, evropu, západoněmeckou, jeameriky",
          "československých, československu, jaroslavu, komunistom, ceskoslovenska, východoslovenské"
         ],
         "type": "scatter",
         "x": [
          "1968-01-01T00:00:00",
          "1970-02-06T02:24:00",
          "1972-03-14T04:48:00",
          "1974-04-20T07:12:00",
          "1976-05-26T09:36:00",
          "1978-07-02T12:00:00",
          "1980-08-07T15:24:00",
          "1982-09-13T17:48:00",
          "1984-10-19T19:12:00",
          "1986-11-25T21:36:00"
         ],
         "y": {
          "bdata": "TDqptDs3Yz/gUlMImYliP9NT87OyJ1s/erglYHrIWz9PMB788F5hP0Gb5rH8YF4/XGo91P/hZD9lZDNjQ9hjP49Ex6JUEGA/Jw7vnru2XD8=",
          "dtype": "f8"
         }
        },
        {
         "hovertemplate": "<b>%{text}</b>",
         "line": {
          "width": 3
         },
         "marker": {
          "color": "#AF0038",
          "line": {
           "color": "black",
           "width": 2
          },
          "size": 14
         },
         "mode": "markers+lines",
         "name": "119_pražský_kristova_varšavského_češkou",
         "text": [
          "pražský, czcchoslovakia, vydával, tschechoslowakische, stredoslovenské, manifestaci",
          "pražský, novočeskými, slovákovi, protikomunistické, czechoslovaks, polskem",
          "pražský, slovákovi, czechoslovakamerican, jeviště, komik, zahrál",
          "pražský, rakouského, tschechoslowakische, volkshaus, vídeňskému, vyšehradský",
          "pražský, sokolského, novinám, celoslovenský, sovětské, ceskosloven",
          "pražský, češkou, bratislavského, tschechischen, varhany, česke",
          "pražský, polsko, sovětskými, polští, slovákom, tjeckoslovakien",
          "pražský, polská, česku, protičeskoslovenské, varšavy, ny",
          "pražský, všeslovanského, diskusí, východoslovenského, slovakia, zveřejnily",
          "pražský, české, uherské, kristova, blahoslavenou, bánskobystrický"
         ],
         "type": "scatter",
         "x": [
          "1968-01-01T00:00:00",
          "1970-02-06T02:24:00",
          "1972-03-14T04:48:00",
          "1974-04-20T07:12:00",
          "1976-05-26T09:36:00",
          "1978-07-02T12:00:00",
          "1980-08-07T15:24:00",
          "1982-09-13T17:48:00",
          "1984-10-19T19:12:00",
          "1986-11-25T21:36:00"
         ],
         "y": {
          "bdata": "eOaHrFHibD/8o4q3wFZyPyw6DXhgrGU/6UJJYgVhZj8NLFKyfpxoP/Uyo6PeaGQ/QV59mNpvZz/UCPktG9NmPw8fPqqU9GA/RPISfT8tcD8=",
          "dtype": "f8"
         }
        },
        {
         "hovertemplate": "<b>%{text}</b>",
         "line": {
          "width": 3
         },
         "marker": {
          "color": "#2E91E5",
          "line": {
           "color": "black",
           "width": 2
          },
          "size": 14
         },
         "mode": "markers+lines",
         "name": "120_pražskou_ceskoslovenskoamericky_francotchécoslovaque_bratislavského",
         "text": [
          "pražskou, ceskoslovenskoamericky, světových, czcchoslovakia, plzeňském, bratislavský",
          "pražskou, ceskoslovenskoamericky, americanczechoslovakclub, česka, sovětskoněmeckou, československoa",
          "pražskou, brněnské, schulhausstrasse, tschechoslowakische, svatováclavským, ceskostovenskoamerický",
          "pražskou, newyorskej, poľsku, poľska, poľsko, polskému",
          "pražskou, bolševické, prosovětské, czeciioslovak, americkočeskoslovenská, vyslanci",
          "pražskou, brněnská, rakouskouherska, czechoslovakias, papež, česka",
          "pražskou, polští, vydaných, českoněmeckého, slovákem, pobaltské",
          "pražskou, rakouskouherské, bratislavského, brněnský, bělohradský, valdštejnské",
          "pražskou, připomínky, mínění, diskusi, stanovisko, československopolské",
          "pražskou, bratislavského, československuzákonného, štrasburku, slovakia, tschechischen"
         ],
         "type": "scatter",
         "x": [
          "1968-01-01T00:00:00",
          "1970-02-06T02:24:00",
          "1972-03-14T04:48:00",
          "1974-04-20T07:12:00",
          "1976-05-26T09:36:00",
          "1978-07-02T12:00:00",
          "1980-08-07T15:24:00",
          "1982-09-13T17:48:00",
          "1984-10-19T19:12:00",
          "1986-11-25T21:36:00"
         ],
         "y": {
          "bdata": "zJKLoSrEUj+HPKakcLxUPyuDUYfgnFE/PI370r3fQj8nN1QwbcpRPx95yd1f4ko/kf3EnvZTTD9VJ/ZX7fw5Pz/c0hIgTkc/s6Bjucj6QT8=",
          "dtype": "f8"
         }
        },
        {
         "hovertemplate": "<b>%{text}</b>",
         "line": {
          "width": 3
         },
         "marker": {
          "color": "#E15F99",
          "line": {
           "color": "black",
           "width": 2
          },
          "size": 14
         },
         "mode": "markers+lines",
         "name": "121_vládní_státních_státního_vládních",
         "text": [
          "vládní, vlády, vládních, vlast, vládu, vládou",
          "vládní, vládne, vládních, vlast, ústav, vlády",
          "vládní, státního, vládě, vládne, ústav, státních",
          "vládní, vládne, státních, státního, vládou, vládě",
          "vládní, státních, vládám, vlast, ústav, vládne",
          "vládní, státního, státních, vlády, vládním, vláda",
          "vládní, vládne, státních, sovětskopolské, ústavu, vnitropolitický",
          "vládní, vládne, vládou, úřady, státního, vládu",
          "vládní, vládou, vládních, vládě, státních, výroční",
          "vládní, ústav, státním, státního, státních, vládním"
         ],
         "type": "scatter",
         "x": [
          "1968-01-01T00:00:00",
          "1970-02-06T02:24:00",
          "1972-03-14T04:48:00",
          "1974-04-20T07:12:00",
          "1976-05-26T09:36:00",
          "1978-07-02T12:00:00",
          "1980-08-07T15:24:00",
          "1982-09-13T17:48:00",
          "1984-10-19T19:12:00",
          "1986-11-25T21:36:00"
         ],
         "y": {
          "bdata": "Vma6kGy2TD8l+JyuWF5XP2Yr3206I1o/GxUcRfWVUD8ZbdAufTpWP3Fz5TSfb1A/RV7BWwi0NT+g+uMB13VAP3M2b7H+oD8/zjmXTKC5Rj8=",
          "dtype": "f8"
         }
        },
        {
         "hovertemplate": "<b>%{text}</b>",
         "line": {
          "width": 3
         },
         "marker": {
          "color": "#1CA71C",
          "line": {
           "color": "black",
           "width": 2
          },
          "size": 14
         },
         "mode": "markers+lines",
         "name": "122_německého_německých_němci_němčiny",
         "text": [
          "němčiny, německých, německého, němec, německý, německy",
          "německého, německy, německé, němčiny, němci, německých",
          "německých, němci, němc, německého, německu, německý",
          "německého, německých, německu, německým, mnichovském, německé",
          "německem, německého, němci, německu, němce, němc",
          "německého, německých, němcové, němci, západoněmecké, němčiny",
          "němci, německého, německý, německých, východoněmecký, překladatelské",
          "německého, německých, němčině, němčiny, němec, němci",
          "němci, německu, německa, německého, němečtí, němčiny",
          "německého, němčiny, němci, západoněmecké, německu, německa"
         ],
         "type": "scatter",
         "x": [
          "1968-01-01T00:00:00",
          "1970-02-06T02:24:00",
          "1972-03-14T04:48:00",
          "1974-04-20T07:12:00",
          "1976-05-26T09:36:00",
          "1978-07-02T12:00:00",
          "1980-08-07T15:24:00",
          "1982-09-13T17:48:00",
          "1984-10-19T19:12:00",
          "1986-11-25T21:36:00"
         ],
         "y": {
          "bdata": "EUrxsoScWj8eYCmkVqZrPx8A1Pf2WWI/JuC+OCcgRD85wprziJFFP99rDP8qJVQ/HZBAZ9fKPj9tn2ynFQVJP22T1lb6cEE/J0c9PjYcUj8=",
          "dtype": "f8"
         }
        },
        {
         "hovertemplate": "<b>%{text}</b>",
         "line": {
          "width": 3
         },
         "marker": {
          "color": "#FB0D0D",
          "line": {
           "color": "black",
           "width": 2
          },
          "size": 14
         },
         "mode": "markers+lines",
         "name": "123_yorkbratislava_novinový_americkočeskoslovenský_novinka",
         "text": [
          "novinový, americkočeskoslovenský, československosovětské, bratislavských, bratislavském, novosvětské",
          "yorkbratislava, ceskoslovenskoamericky, prosovětských, leningradě, americanczechoslovak, západoberlínské",
          "novinový, zveřejnění, ministerstvo, básníka, básnika, básník",
          "novinový, vydalo, novinka, americkočeskoslovenský, vládními, zámeckém",
          "novinový, novinka, pozemk, zveřejněn, americkočeskoslovenský, vydat",
          "novinka, nypopradny, nybratislavany, nacistické, časopisu, českobratrství",
          "yorkbratislava, novinovém, americkočeskoslovenský, sovětskočínských, sovětským, novinj",
          "yorkbratislava, novinový, americkočeskoslovenský, novinka, weekly, varšavského",
          "americkočeskoslovenský, novinový, novinách, vatikánskými, papežských, italským",
          "novinka, novinový, nyprahabratislavany, ukrajina, nov, říšského"
         ],
         "type": "scatter",
         "x": [
          "1968-01-01T00:00:00",
          "1970-02-06T02:24:00",
          "1972-03-14T04:48:00",
          "1974-04-20T07:12:00",
          "1976-05-26T09:36:00",
          "1978-07-02T12:00:00",
          "1980-08-07T15:24:00",
          "1982-09-13T17:48:00",
          "1984-10-19T19:12:00",
          "1986-11-25T21:36:00"
         ],
         "y": {
          "bdata": "2TX43+ntHj8zHcMmwyc/PwqyTjDaNRY/J1rUkcduEz+YWGppvIIdP1KePtRkfBE/lsIw/pqMIz+mTw1qfstaP3+NEaeuexY/gb7KxL2cBD8=",
          "dtype": "f8"
         }
        },
        {
         "hovertemplate": "<b>%{text}</b>",
         "line": {
          "width": 3
         },
         "marker": {
          "color": "#DA16FF",
          "line": {
           "color": "black",
           "width": 2
          },
          "size": 14
         },
         "mode": "markers+lines",
         "name": "124_bratislava_slovenska_slovakia_české",
         "text": [
          "bratislava, czechoslova, ceskoslovenské, československoamerický, ceskoslovenskoamerický, českoslovenku",
          "bratislava, východoevropských, litvinovpardubice, dubčekovské, českobudějovického, prahaslovan",
          "bratislava, rusku, soviets, moskvě, americkočeskoslovenského, czechoslova",
          "bratislava, ceskoslovenskoamerický, slovak, newyorskej, slovenskoamerické, vyšehradských",
          "bratislava, bělehradské, čechoslovákovi, čechovovi, dálnopisu, redakcím",
          "bratislava, poland, slovakia, warsaw, newsletter, europe",
          "bratislava, slovak, slovenčine, austrian, republic, poland",
          "bratislava, slovensky, bratislavatatrykošice, rodisko, slovakia, novinový",
          "bratislava, slovakia, slovenska, bratislavskej, slováku, jaroslavem",
          "bratislava, slovenska, slovensko, české, slovanských, perestrojka"
         ],
         "type": "scatter",
         "x": [
          "1968-01-01T00:00:00",
          "1970-02-06T02:24:00",
          "1972-03-14T04:48:00",
          "1974-04-20T07:12:00",
          "1976-05-26T09:36:00",
          "1978-07-02T12:00:00",
          "1980-08-07T15:24:00",
          "1982-09-13T17:48:00",
          "1984-10-19T19:12:00",
          "1986-11-25T21:36:00"
         ],
         "y": {
          "bdata": "CtbsNmbNJT9KfxWx0FwzPyyxbkgP+yo/fSNBOrybNz83q7hkmrssP3J2xc7hRUM/KCB/96NvSD/cuPAJPklDP/0iOCau9EY/owBdecdnQj8=",
          "dtype": "f8"
         }
        },
        {
         "hovertemplate": "<b>%{text}</b>",
         "line": {
          "width": 3
         },
         "marker": {
          "color": "#222A2A",
          "line": {
           "color": "black",
           "width": 2
          },
          "size": 14
         },
         "mode": "markers+lines",
         "name": "125_mnichovské_mnichovském_mnichovského_mnichovskou",
         "text": [
          "vratislav, mnichovské, mnichovském, bohuslava, vlastislav, vydával",
          "mnichovské, mnichovském, staročeského, mnichovského, brněnském, svatováclavské",
          "mnichovské, mnichovském, brněnských, hosťovský, slováka, scharfreiterplatz",
          "mnichovské, bürgerhaus, mnichovském, varhany, brněnské, scharfreiterplatz",
          "mnichovské, mnichovském, brněnský, mnichovského, bürgerhaus, brněnské",
          "mnichovské, mnichovského, mnichovském, bürgerhaus, brněnského, slováku",
          "mnichovské, mnichovském, mnichovskou, bratislavský, brněnský, bürgerhausu",
          "mnichovském, mnichovské, českoněmeckých, scharfreiterplatz, brněnské, západoněmeckém",
          "mnichovské, mnichovském, mnichovská, nemcami, německými, němcové",
          "mnichovské, mnichovském, mnichovského, scharfreiterplatz, mnichovskou, měsíčníkinformacekulturapolitika1883"
         ],
         "type": "scatter",
         "x": [
          "1968-01-01T00:00:00",
          "1970-02-06T02:24:00",
          "1972-03-14T04:48:00",
          "1974-04-20T07:12:00",
          "1976-05-26T09:36:00",
          "1978-07-02T12:00:00",
          "1980-08-07T15:24:00",
          "1982-09-13T17:48:00",
          "1984-10-19T19:12:00",
          "1986-11-25T21:36:00"
         ],
         "y": {
          "bdata": "XoIbHm+7ND/xzogGa7ZVP+IylZDa4VY/a/HGbz49Sj/ytQF6Bd9JP9pMyf3wBVU/HFcB6d9GVT+yLZfcpo1KP5+GHduX91U/7tLUZ8YhVz8=",
          "dtype": "f8"
         }
        },
        {
         "hovertemplate": "<b>%{text}</b>",
         "line": {
          "width": 3
         },
         "marker": {
          "color": "#B68100",
          "line": {
           "color": "black",
           "width": 2
          },
          "size": 14
         },
         "mode": "markers+lines",
         "name": "126_sociologického_sociologie_sociologické_sociologický",
         "text": [
          "vyšehrad, bohoslovecká, svatováclavském, bratislavského, českomoravského, zažili",
          "vyšehrad, stan, svatováclavském, rumunsko, plzeňská, rumunskému",
          "vyšehrad, vydala, vydával, článkem, zabýval, zacházel",
          "vyšehrad, tématu, témata, vydával, témat, novinám",
          "vyšehrad, tématu, námětem, námětu, témata, západoněmeckém",
          "vydával, vyšehrad, vydány, časopisom, vydávalo, zpravodajský",
          "uherskou, vyšehrad, václavskému, vyšehradskou, vyšehradských, vydala",
          "námět, témata, vyšehrad, úvahu, témat, téma",
          "vyšehrad, stanoviska, mínění, stanovisko, stanovisek, chartovního",
          "sociologického, sociologie, sociologické, sociologický, sociologickém, sociologickou"
         ],
         "type": "scatter",
         "x": [
          "1968-01-01T00:00:00",
          "1970-02-06T02:24:00",
          "1972-03-14T04:48:00",
          "1974-04-20T07:12:00",
          "1976-05-26T09:36:00",
          "1978-07-02T12:00:00",
          "1980-08-07T15:24:00",
          "1982-09-13T17:48:00",
          "1984-10-19T19:12:00",
          "1986-11-25T21:36:00"
         ],
         "y": {
          "bdata": "z0NNfcD+ST/hZf16ymtUP7ZR39Xos1c/XE9xoxfhVD8UC4NuiiVUP65vs88UNEs/GyIlgqcbQz8qUbHr0oBWP3QVpLoHzFQ/dRpCsYwjhj8=",
          "dtype": "f8"
         }
        },
        {
         "hovertemplate": "<b>%{text}</b>",
         "line": {
          "width": 3
         },
         "marker": {
          "color": "#750D86",
          "line": {
           "color": "black",
           "width": 2
          },
          "size": 14
         },
         "mode": "markers+lines",
         "name": "127_ježíšova_ježíše_ježíšovy_ježíšovu",
         "text": [
          "ježíšova, pobělohorské, ježíšovi, ježíšovy, západoněmeckém, světských",
          "ježíšova, svátost, zasvěcen, zasvěceného, ježíšovi, zbožností",
          "ježíše, spočívala, měsíčníku, starali, námitkách, traduje",
          "svátost, ježíšovy, zazněl, vzatými, ježíšovými, přednáší",
          "ježíšova, ježíšovy, ježíšovu, ježíšově, ježíše, svatosti",
          "ježíšova, ježíšovu, ježíšovi, ježíše, ježíšovo, kázáních",
          "ježíšova, ježíše, ježíšovo, ježíšově, ježíšem, ježíšovu",
          "ježíšova, ježíšovy, ježíšových, ježíšovým, ježíše, ježíšem",
          "ježíšova, ježíše, ježíšovým, svatosti, ježíšovu, ježíšovo",
          "ježíšova, ježíše, ježíšovu, ježíšovo, svatosti, ježíšovi"
         ],
         "type": "scatter",
         "x": [
          "1968-01-01T00:00:00",
          "1970-02-06T02:24:00",
          "1972-03-14T04:48:00",
          "1974-04-20T07:12:00",
          "1976-05-26T09:36:00",
          "1978-07-02T12:00:00",
          "1980-08-07T15:24:00",
          "1982-09-13T17:48:00",
          "1984-10-19T19:12:00",
          "1986-11-25T21:36:00"
         ],
         "y": {
          "bdata": "48kzQPBvVz/HYgU7nxtgP3qEBQdmGzs/nIb6hK04Tz+p96wKzGZsP5sKBaG/VG0/7jqgvBRHcj8iI20+dO90P+jiDb7/MG4/AyMbGdsmbz8=",
          "dtype": "f8"
         }
        },
        {
         "hovertemplate": "<b>%{text}</b>",
         "line": {
          "width": 3
         },
         "marker": {
          "color": "#EB663B",
          "line": {
           "color": "black",
           "width": 2
          },
          "size": 14
         },
         "mode": "markers+lines",
         "name": "128_vydává_časopis_vydávají_vydán",
         "text": [
          "vydává, vydán, zpracoval, sborník, publikačnímu, publikačního",
          "vydává, vydávají, zbrojovka, mezinárodních, novv, správy",
          "vydává, sdělí, časopis, zpravodajství, zbrojovka, tehdejších",
          "vydává, časopis, nakladatelství, vydávali, článk, vydávaných",
          "vydává, vydáno, vydána, vydávat, vydalo, úřadm",
          "vydává, vydávají, koslovenské, novinka, yorské, koslovenska",
          "vydává, vydán, publikoval, časopisu, vydáno, nakladatelství",
          "vydává, časopis, vydávat, týdenník, vydáni, novinové",
          "vydává, zpráv, yorské, novin, vydávají, českoslo",
          "vydává, vydán, čtenářm, uherský, vydá, spisova"
         ],
         "type": "scatter",
         "x": [
          "1968-01-01T00:00:00",
          "1970-02-06T02:24:00",
          "1972-03-14T04:48:00",
          "1974-04-20T07:12:00",
          "1976-05-26T09:36:00",
          "1978-07-02T12:00:00",
          "1980-08-07T15:24:00",
          "1982-09-13T17:48:00",
          "1984-10-19T19:12:00",
          "1986-11-25T21:36:00"
         ],
         "y": {
          "bdata": "RykFSLwMYj9NlDHHwShzPwJA9DrEhn4/zmOO5oarcj9xs4qYO2F4P5fZKjrH0nE/tGdDiBO8bD/hocivQxF1Pw5eYra1PXg/lPZuxy2DYT8=",
          "dtype": "f8"
         }
        },
        {
         "hovertemplate": "<b>%{text}</b>",
         "line": {
          "width": 3
         },
         "marker": {
          "color": "#511CFB",
          "line": {
           "color": "black",
           "width": 2
          },
          "size": 14
         },
         "mode": "markers+lines",
         "name": "129_československy_zahraničíczechoslovak_plzeňského_vyšehradském",
         "text": [
          "československy, českomoravských, německosovětských, německosovětské, osvětimského, tschechoslowaki",
          "československy, jihoslovanského, jihoslovanské, vídeňskými, dějinách, českomoravská",
          "československy, vyšehradském, československí, ceskoslovenská, valdštejnského, republika",
          "československy, novinách, czechoslovakamerican, sokolském, hostitelské, češku",
          "československy, českoamerického, češku, prosovětské, mníchovská, českoslo",
          "československy, plzeňského, češkou, jaroslav, smíchovského, češtinu",
          "československy, plzeňského, novinek, československopolských, českyslovensky, československosovětského",
          "československy, zahraničíczechoslovak, slovenskou, brněnského, východoevropské, osmdesát",
          "československy, čechu, zahraničíczechoslovak, československajfk, polských, sokolskému",
          "československy, slovensky, jihoslovanský, slovácká, vyšehradským, katolí"
         ],
         "type": "scatter",
         "x": [
          "1968-01-01T00:00:00",
          "1970-02-06T02:24:00",
          "1972-03-14T04:48:00",
          "1974-04-20T07:12:00",
          "1976-05-26T09:36:00",
          "1978-07-02T12:00:00",
          "1980-08-07T15:24:00",
          "1982-09-13T17:48:00",
          "1984-10-19T19:12:00",
          "1986-11-25T21:36:00"
         ],
         "y": {
          "bdata": "/bUiqPcPRD8xAEwKLVE0P4fiDX+pjVk/DYJZ8jJhUj8N0UvkCUFUP+XCUbHicVY/8EKcuu9pTD8RR/dszUFbP7dprc07VWA/JIHD/hdORD8=",
          "dtype": "f8"
         }
        },
        {
         "hovertemplate": "<b>%{text}</b>",
         "line": {
          "width": 3
         },
         "marker": {
          "color": "#00A08B",
          "line": {
           "color": "black",
           "width": 2
          },
          "size": 14
         },
         "mode": "markers+lines",
         "name": "130_evropě_evropského_evropy_evropské",
         "text": [
          "evropy, evropského, evropě, zemích, evropou, evropskou",
          "evropě, východoevropských, evropa, zeměmi, západoevropských, mezinárodních",
          "vyslanectví, výboručeskoslovensko, protikomunistickou, evropěo, czechoslovaks, evropě",
          "evropě, evropské, evropa, evropu, evropy, evropskou",
          "evropě, evropského, evropy, evropské, evropským, evropská",
          "evropě, evropského, evropa, evropu, evropy, evropské",
          "evropě, evropa, evropské, evropu, evropy, evropského",
          "evropě, evropy, evropu, evropské, evropském, evropského",
          "evropě, evropského, evropa, evropské, evropy, european",
          "evropského, evropě, evropy, evropu, evropské, evropa"
         ],
         "type": "scatter",
         "x": [
          "1968-01-01T00:00:00",
          "1970-02-06T02:24:00",
          "1972-03-14T04:48:00",
          "1974-04-20T07:12:00",
          "1976-05-26T09:36:00",
          "1978-07-02T12:00:00",
          "1980-08-07T15:24:00",
          "1982-09-13T17:48:00",
          "1984-10-19T19:12:00",
          "1986-11-25T21:36:00"
         ],
         "y": {
          "bdata": "mpHkDNbsSD/b2WVf3PpRP4p0XR1ixjA/+pdUp4I+Yj/q8iTYpF9XP/55BqzXUmE/z+CbG9C1VD+kBbcUAoRLPxInhA6KCVo/6fKFq1UgTD8=",
          "dtype": "f8"
         }
        },
        {
         "hovertemplate": "<b>%{text}</b>",
         "line": {
          "width": 3
         },
         "marker": {
          "color": "#FB00D1",
          "line": {
           "color": "black",
           "width": 2
          },
          "size": 14
         },
         "mode": "markers+lines",
         "name": "131_soud_soudu_soudní_rozsudku",
         "text": [
          "ústavě, ústavy, ústave, předpisují, uplatňovalo, předmluvu",
          "demonstrovali, obžalovaných, otužilci, obžalovaní, obžalované, obžalovaná",
          "právo, soudné, soudcovské, soudně, statutu, poledňák",
          "špionáží, přihlásilo, vládního, špionážního, špionážní, špiónské",
          "výslech, soudní, soudu, výslechu, zákon, rozsudku",
          "rozsudek, soud, obžalobě, prokuratury, soudní, soudně",
          "soud, soudní, právo, soudem, soudu, soudc",
          "zákon, zákona, právo, soud, rozsudek, zákonem",
          "referovali, doktrináře, pravomocemi, stanoviscích, pořádali, předložili",
          "soud, soudu, odsouzen, právní, rozsudku, soudní"
         ],
         "type": "scatter",
         "x": [
          "1968-01-01T00:00:00",
          "1970-02-06T02:24:00",
          "1972-03-14T04:48:00",
          "1974-04-20T07:12:00",
          "1976-05-26T09:36:00",
          "1978-07-02T12:00:00",
          "1980-08-07T15:24:00",
          "1982-09-13T17:48:00",
          "1984-10-19T19:12:00",
          "1986-11-25T21:36:00"
         ],
         "y": {
          "bdata": "oSBAG/K/BT8XnQauge4iPy74vC4DYCM/pitUDTb/DD94rPxwkdk8P5+4h289g0Y/kRm5jmaMNT9/wyVOFns1P+kHCMht1xI/z+uZezlmUj8=",
          "dtype": "f8"
         }
        },
        {
         "hovertemplate": "<b>%{text}</b>",
         "line": {
          "width": 3
         },
         "marker": {
          "color": "#FC0080",
          "line": {
           "color": "black",
           "width": 2
          },
          "size": 14
         },
         "mode": "markers+lines",
         "name": "132_česky_czechs_čechů_česku",
         "text": [
          "česky, čechů, českoslovanských, výboručeskoslovensko, cechi, českem",
          "česky, české, tschechi, hospodě, čechu, návštěvu",
          "česky, české, sokolská, slováku, sokolskou, jeviště",
          "česky, slovenský, skautská, skauting, staša, zollikerberg",
          "česky, slovenskej, prmyslovku, bratislavskej, jesenského, kořínková",
          "česky, czechs, čechů, czech, sovětském, evropské",
          "česky, czechs, čechů, česku, czech, česka",
          "česky, czechs, čechů, česku, slovaks, českých",
          "česky, czechs, čechů, slovaks, slovenský, českých",
          "česky, čechů, czechs, česku, slovenské, česko"
         ],
         "type": "scatter",
         "x": [
          "1968-01-01T00:00:00",
          "1970-02-06T02:24:00",
          "1972-03-14T04:48:00",
          "1974-04-20T07:12:00",
          "1976-05-26T09:36:00",
          "1978-07-02T12:00:00",
          "1980-08-07T15:24:00",
          "1982-09-13T17:48:00",
          "1984-10-19T19:12:00",
          "1986-11-25T21:36:00"
         ],
         "y": {
          "bdata": "hYzckLR7Pj+J3EZFR7RCPxRTBdHxoC0/PnTSyZ2ZNj8jEVfHZe0mP3OS8LUsqUQ/DZ300iGRUT+8jVhekVxQP3iU2ftqvEQ/xicKJjMQRT8=",
          "dtype": "f8"
         }
        },
        {
         "hovertemplate": "<b>%{text}</b>",
         "line": {
          "width": 3
         },
         "marker": {
          "color": "#B2828D",
          "line": {
           "color": "black",
           "width": 2
          },
          "size": 14
         },
         "mode": "markers+lines",
         "name": "133_czechoslovakian_češtinou_vyšehradském_wien",
         "text": [
          "češtinou, vyšehradského, vyšehradském, deutschland, vlasta, církevněslovanského",
          "czechoslovakian, sovětském, czechoslovakamerican, ceskoslovenskoamcrický, sovětského, českoslovenku",
          "czechoslovakian, koslovensko, úřadovny, zastupitelského, vydával, czechs",
          "czechoslovakian, češtinou, plzeňském, bratislavským, československosovětského, letovisku",
          "czechoslovakian, czechoslova, režimních, zveřejněná, vlasta, austrálii",
          "czechoslovakian, vyšehradském, česka, ročníkvol, češtinou, czechoslovakias",
          "czechoslovakian, protičeskoslovenskej, fest, auschwitz, nachrichten, deutschen",
          "czechoslovakian, czechamerican, vlasta, československaa, československomj, czechoslovaks",
          "czechoslovakian, wien, koslovenský, českýma, českomoravském, praží",
          "czechoslovakian, zámeckým, czechoslovakias, pobělohorskou, valdštejnského, českoněmec"
         ],
         "type": "scatter",
         "x": [
          "1968-01-01T00:00:00",
          "1970-02-06T02:24:00",
          "1972-03-14T04:48:00",
          "1974-04-20T07:12:00",
          "1976-05-26T09:36:00",
          "1978-07-02T12:00:00",
          "1980-08-07T15:24:00",
          "1982-09-13T17:48:00",
          "1984-10-19T19:12:00",
          "1986-11-25T21:36:00"
         ],
         "y": {
          "bdata": "2H5c6DhSFz+9OZxyPaVBPxGT98XqvjE/HKxsTpWKRz/EM8fct5JBP/X0k/9NZU8/7V7RU2F7ST9a/uIoyUlFPyTALURZvzE/zrFvMlPGND8=",
          "dtype": "f8"
         }
        },
        {
         "hovertemplate": "<b>%{text}</b>",
         "line": {
          "width": 3
         },
         "marker": {
          "color": "#6C7C32",
          "line": {
           "color": "black",
           "width": 2
          },
          "size": 14
         },
         "mode": "markers+lines",
         "name": "134_tehdy_kdysi_minulém_minulé",
         "text": [
          "tehdy, minulém, kdysi, vládnou, vlastenecké, považovali",
          "tehdy, našské, jubilejné, vydána, vyskytly, tohoročnej",
          "tehdy, měly, římě, roma, líbil, letech",
          "tehdy, 1976, kdysi, loňského, letošní, rok",
          "tehdy, vydá, kdysi, považovali, minulém, připomíná",
          "tehdy, kdysi, kterému, navštívil, tehdejších, dával",
          "tehdy, kdysi, minulé, spočívalo, pololetí, kterých",
          "tehdy, kdysi, považovali, minulém, navštívil, léta",
          "tehdy, kdysi, minulém, minulé, považovali, vydávali",
          "tehdy, kdysi, minulé, minulém, kterému, kdy"
         ],
         "type": "scatter",
         "x": [
          "1968-01-01T00:00:00",
          "1970-02-06T02:24:00",
          "1972-03-14T04:48:00",
          "1974-04-20T07:12:00",
          "1976-05-26T09:36:00",
          "1978-07-02T12:00:00",
          "1980-08-07T15:24:00",
          "1982-09-13T17:48:00",
          "1984-10-19T19:12:00",
          "1986-11-25T21:36:00"
         ],
         "y": {
          "bdata": "0JFSVaE/PT/qDpyyaNUiPzuAribOh0c/9NeMdOueRD/QV7hyS+hJPx/Iw4C0bkc/Qnz5XXC1RD+WFDyacn5LP9iRwP4OBlQ/HvwqTxiWTj8=",
          "dtype": "f8"
         }
        },
        {
         "hovertemplate": "<b>%{text}</b>",
         "line": {
          "width": 3
         },
         "marker": {
          "color": "#778AAE",
          "line": {
           "color": "black",
           "width": 2
          },
          "size": 14
         },
         "mode": "markers+lines",
         "name": "135_sovětskému_sovětském_sovětskou_stalinismu",
         "text": [
          "sovětskému, sovětském, sovětskou, antisovětského, komunistickému, protisovětská",
          "sovětskému, sovětském, sovětskou, komunistickém, sovětskočínských, socialistickou",
          "sovětskému, sovětském, czechoslovaks, sovětskou, bolševického, válečných",
          "sovětskému, sovětském, vydáni, leningradě, prosovětské, komunistickém",
          "sovětskému, sovětském, nybratislavany, bolševické, sovětskoamerické, československosovět",
          "sovětskému, sovětském, bolševické, hitlerem, nacistické, nypopradny",
          "sovětskému, sovětském, československazvaní, sovětskou, stalinismu, leningrad",
          "sovětskému, sovětském, novinová, koslovenskými, novin, antisovětská",
          "sovětskému, sovětském, sovětského, komunismu, rezim, velmocenská",
          "sovětskému, sovětském, stalinismu, stalinových, bolševického, stalinské"
         ],
         "type": "scatter",
         "x": [
          "1968-01-01T00:00:00",
          "1970-02-06T02:24:00",
          "1972-03-14T04:48:00",
          "1974-04-20T07:12:00",
          "1976-05-26T09:36:00",
          "1978-07-02T12:00:00",
          "1980-08-07T15:24:00",
          "1982-09-13T17:48:00",
          "1984-10-19T19:12:00",
          "1986-11-25T21:36:00"
         ],
         "y": {
          "bdata": "VneR9M37dz94S19e6beFP/ppoQHYc3s/tyY7xgSBez9+VvljuAJ5PxV5Swf1zXY/cMxNYw6ldD/Cm+WPAndvP6liXAVd9HE/SRsShGsqaz8=",
          "dtype": "f8"
         }
        },
        {
         "hovertemplate": "<b>%{text}</b>",
         "line": {
          "width": 3
         },
         "marker": {
          "color": "#862A16",
          "line": {
           "color": "black",
           "width": 2
          },
          "size": 14
         },
         "mode": "markers+lines",
         "name": "136_demokratischen_sozialistischen_regierung_politischen",
         "text": [
          "bundesrepublik, jihoslovanské, vlastech, skoslovenské, státnosti, vlastenectví",
          "bundesrepublik, národa, tchécoslovaque, národní, národ, němečku",
          "bundesrepublik, brněnských, státních, uherském, národnímu, informacekulturapolitikalist",
          "českoslovenku, protikomunistické, protisocialistickými, volksrepublik, tschechoslo, protisocialistických",
          "povstání, opomněli, kedysi, manifestací, vyzvědačství, volksrepublik",
          "bundesrepublik, evropskému, deutschland, protikomunisticky, czechosloväk, tschechoslowakischcn",
          "bundesrepublik, polnischer, volkswirtschaft, österreich, wien, österreicher",
          "demokratischen, sozialistischen, oppositionsgruppen, regierung, opposition, politischen",
          "antisowjetischer, überparteilich, demokratischer, leninistische, weltöffentlichkeit, tageszeitung",
          "protinacistického, předchdce, socialistickými, političtí, politickými, politiques"
         ],
         "type": "scatter",
         "x": [
          "1968-01-01T00:00:00",
          "1970-02-06T02:24:00",
          "1972-03-14T04:48:00",
          "1974-04-20T07:12:00",
          "1976-05-26T09:36:00",
          "1978-07-02T12:00:00",
          "1980-08-07T15:24:00",
          "1982-09-13T17:48:00",
          "1984-10-19T19:12:00",
          "1986-11-25T21:36:00"
         ],
         "y": {
          "bdata": "/NMYdHfrDz/pfAAlgZkiPxSrBzsBAB8/BegDuzmCJj9PbSoI/BYeP3S1bJn6Ph4/G5Vbu7i+HD+Kkge0de5yP5SLGOgZGlA/yAmohkgABz8=",
          "dtype": "f8"
         }
        },
        {
         "hovertemplate": "<b>%{text}</b>",
         "line": {
          "width": 3
         },
         "marker": {
          "color": "#A777F1",
          "line": {
           "color": "black",
           "width": 2
          },
          "size": 14
         },
         "mode": "markers+lines",
         "name": "137_němcm_brněnský_brněnské_rakouském",
         "text": [
          "němcm, němce, němci, nemecká, německem, deutschen",
          "němcm, německem, západoněmecký, rakouský, rakouských, německým",
          "němcm, němcové, oněmecká, zürichschweiz, německým, zámecký",
          "němcm, vlastenecké, krajanov, mitteilungsblatt, názorové, jubilejním",
          "němcm, ročníku, erscheint, scharfreiterplatz, tématu, bělehradské",
          "němcm, nizozemí, nizozemských, brněnským, českoholandský, nemecku",
          "němcm, brněnské, scharfreiterplatz, slováku, německému, zámeckých",
          "němcm, francotchécoslovaque, jindřichově, osvětimských, západoněmeckém, valdštejnských",
          "němcm, brněnský, nietzsche, brněnského, zeitgeschichte, němcích",
          "němcm, němcích, německem, mnichovského, slovákom, brněnské"
         ],
         "type": "scatter",
         "x": [
          "1968-01-01T00:00:00",
          "1970-02-06T02:24:00",
          "1972-03-14T04:48:00",
          "1974-04-20T07:12:00",
          "1976-05-26T09:36:00",
          "1978-07-02T12:00:00",
          "1980-08-07T15:24:00",
          "1982-09-13T17:48:00",
          "1984-10-19T19:12:00",
          "1986-11-25T21:36:00"
         ],
         "y": {
          "bdata": "HGbxgrXDOT8pRhB+8axJPxBn17zaM1A/43MhegNBUz+ms2fpY7VQP6qqkYl2BVE/zCST3JEuUT+y1JkkLrtEPyROU8MPD1k/QSU1AXufUD8=",
          "dtype": "f8"
         }
        },
        {
         "hovertemplate": "<b>%{text}</b>",
         "line": {
          "width": 3
         },
         "marker": {
          "color": "#620042",
          "line": {
           "color": "black",
           "width": 2
          },
          "size": 14
         },
         "mode": "markers+lines",
         "name": "138_tschechischer_bundesrepublik_tschechischen_bürgerhaus",
         "text": [
          "tschechischen, tschechoslovakischen, slovákům, čechům, tschechischer, českosi",
          "tschechischer, tschechischen, novočeskými, bundesrepublik, poláků, tschechische",
          "tschechischer, tschechischen, tschechische, bundesrepublik, slezsko, scharfreiterplatz",
          "tschechischer, bürgerhaus, slováku, tschechischen, bundesrepublik, bratislavský",
          "tschechischer, tschechischen, bundesrepublik, bürgerhaus, venskosovětské, czechoslovakias",
          "tschechischer, bürgerhaus, bundesrepublik, tschechischen, československosovětská, protisovětskou",
          "tschechischer, tschechischen, bundesrepublik, bürgerhausu, mnichovském, českoněmeckého",
          "tschechischer, bundesrepublik, bürgerhausu, tschechischen, osvětimských, čechoslovakismu",
          "tschechischer, tschechischen, západoněmeckém, bürgerhaus, předmnichovské, bürgerhausu",
          "tschechischer, tschechischen, tschechische, českoslovenství, tjeckoslovakien, brněnské"
         ],
         "type": "scatter",
         "x": [
          "1968-01-01T00:00:00",
          "1970-02-06T02:24:00",
          "1972-03-14T04:48:00",
          "1974-04-20T07:12:00",
          "1976-05-26T09:36:00",
          "1978-07-02T12:00:00",
          "1980-08-07T15:24:00",
          "1982-09-13T17:48:00",
          "1984-10-19T19:12:00",
          "1986-11-25T21:36:00"
         ],
         "y": {
          "bdata": "BspfSF6OPz/3a+WeVmdQP1p0cLTmJ2E/Iot0pzXHVD8LCubrn5BcP3bs1kUXXVo/GFrqcUFhUj/T4WOXP7dUPxOJkehaVE8/o8N2jtj+SD8=",
          "dtype": "f8"
         }
        },
        {
         "hovertemplate": "<b>%{text}</b>",
         "line": {
          "width": 3
         },
         "marker": {
          "color": "#1616A7",
          "line": {
           "color": "black",
           "width": 2
          },
          "size": 14
         },
         "mode": "markers+lines",
         "name": "139_kteří_kterému_těm_považovali",
         "text": [
          "kteří, abychom, kterému, přednesl, ozývají, věstník",
          "kteří, krajanov, čtenářům, zabývalo, propagandisté, postihl",
          "kteří, povstání, kterém, zaostalé, vyvolávaly, lide",
          "kteří, václav, hosté, kterému, krajana, měla",
          "kteří, kterému, maine, zaujala, vydali, hodin",
          "kteří, měli, těm, častuje, ri, kterých",
          "kteří, kterému, svěřil, kterých, kterého, vyznání",
          "kteří, proslýchá, zdvodnění, kterému, těm, příslušníci",
          "kteří, kterému, kterého, vypovídá, považovalo, vás",
          "kteří, během, manifestaci, vydali, náměstí, zúčastnili"
         ],
         "type": "scatter",
         "x": [
          "1968-01-01T00:00:00",
          "1970-02-06T02:24:00",
          "1972-03-14T04:48:00",
          "1974-04-20T07:12:00",
          "1976-05-26T09:36:00",
          "1978-07-02T12:00:00",
          "1980-08-07T15:24:00",
          "1982-09-13T17:48:00",
          "1984-10-19T19:12:00",
          "1986-11-25T21:36:00"
         ],
         "y": {
          "bdata": "sWKDhCNcQz/LryoUKaU8P55glaOnblU/KNwSSDCbZT+VoXsbWu9nP052k0W0NWQ/WdrNPF6fWz9BU59UWT9cP4r6+Vvce2M/9As/3zbJaT8=",
          "dtype": "f8"
         }
        },
        {
         "hovertemplate": "<b>%{text}</b>",
         "line": {
          "width": 3
         },
         "marker": {
          "color": "#DA60CA",
          "line": {
           "color": "black",
           "width": 2
          },
          "size": 14
         },
         "mode": "markers+lines",
         "name": "140_czechoslovakamerican_ceskoslovenskoamerický_československoamerický_ceskoslovenskoamericky",
         "text": [
          "czechoslovakamerican, československoamerický, ceskoslovenskoamerický, zemích, czcchoslovakia, ceskoslovenskoamericky",
          "czechoslovakamerican, ceskoslovenskoamerický, československoamerický, ceskoslovenskoamericky, zemích, mezinárodního",
          "czechoslovakamerican, ceskoslovenskoamerický, sovětském, československoamerický, americkosovět, vydán",
          "czechoslovakamerican, ceskoslovenskoamerický, czechoslova, československoamerický, slovak, americkosovětskou",
          "sokolského, czechoslovakamerican, sokolhall, slavnostní, sokolská, caslava",
          "czechoslovakamerican, czechoslova, chechoslovakia, budapest, bolshevism, ukraine",
          "czechoslovakamerican, československoamerický, slovakia, česke, anticommunism, komunistický",
          "czechoslovakamerican, sovětském, novin, českoslovanské, tchécoslovaque, českoamerické",
          "amnestii, amnestie, československoamerický, osvobození, svobody, svobodě",
          "czechoslovakamerican, pragueslovakiabudapest13, leningradských, praguebratislava, leningradě, bělehradskou"
         ],
         "type": "scatter",
         "x": [
          "1968-01-01T00:00:00",
          "1970-02-06T02:24:00",
          "1972-03-14T04:48:00",
          "1974-04-20T07:12:00",
          "1976-05-26T09:36:00",
          "1978-07-02T12:00:00",
          "1980-08-07T15:24:00",
          "1982-09-13T17:48:00",
          "1984-10-19T19:12:00",
          "1986-11-25T21:36:00"
         ],
         "y": {
          "bdata": "u37fIPuWkz9ztWzV2H2UP6r9dccKCIc/dV1W+50Qdj+zoaoyiG4rP4L6xcN2mzs/eX0eI0GbOT/oCFyda2xKPzdK113ULRw/2TKkXQH8MD8=",
          "dtype": "f8"
         }
        },
        {
         "hovertemplate": "<b>%{text}</b>",
         "line": {
          "width": 3
         },
         "marker": {
          "color": "#6C4516",
          "line": {
           "color": "black",
           "width": 2
          },
          "size": 14
         },
         "mode": "markers+lines",
         "name": "141_českou_koslovensku_českoslo_češtinou",
         "text": [
          "českou, czcchoslovak, českomoravského, československosovětské, pravoslavím, svatováclavské",
          "českou, slovenku, českotěšínský, valdštejnském, norskočeskoslovenský, veršm",
          "českou, koslovensku, tschecho, koslovenska, vydávají, hostitelské",
          "českou, názvosloví, vydávat, české, bratislavských, jubilejních",
          "českou, sokolskému, slovenskou, slovanské, kristova, jaroslava",
          "českou, popularczechoslovak, svátost, klerikální, svatovítském, jihoslovan",
          "českou, uherská, básníkově, koslovenské, jiříkova, hradní",
          "českou, české, polském, ševické, rýnským, sovétského",
          "českou, koslovenských, rakouska, slováku, václavském, uherském",
          "českou, československu, blahoslavenou, československí, slovanský, čechč"
         ],
         "type": "scatter",
         "x": [
          "1968-01-01T00:00:00",
          "1970-02-06T02:24:00",
          "1972-03-14T04:48:00",
          "1974-04-20T07:12:00",
          "1976-05-26T09:36:00",
          "1978-07-02T12:00:00",
          "1980-08-07T15:24:00",
          "1982-09-13T17:48:00",
          "1984-10-19T19:12:00",
          "1986-11-25T21:36:00"
         ],
         "y": {
          "bdata": "W6gOMmP5Zz/g3zm1x+piPwDSxAMMvVI/cYmmieOEVT8rU0txMoxYPz6Lxjxc6V0/jDGRjR5KYz8roy5HOA5lPx0EnMqukWE/dNMB0ltkYD8=",
          "dtype": "f8"
         }
        },
        {
         "hovertemplate": "<b>%{text}</b>",
         "line": {
          "width": 3
         },
         "marker": {
          "color": "#0D2A63",
          "line": {
           "color": "black",
           "width": 2
          },
          "size": 14
         },
         "mode": "markers+lines",
         "name": "142_bundesrepublik_osteuropa_sowjetunion_osteuropas",
         "text": [
          "bundesrepublik, národnímu, socializmu, socializme, socializmus, socialistickému",
          "bundesrepublik, leningrad, sovětsko, sovietskou, protikomunismu, leningradská",
          "bundesrepublik, úřady, deutschland, refugees, vízových, viza",
          "bundesrepublik, národem, krajanov, názorové, informacekulturapolitikalist, czecoslovakia",
          "bundesrepublik, státních, státními, mitteilungsblatt, státního, tématem",
          "rakouská, bundesrepublik, státním, mnichovském, státního, osvobozenecké",
          "osteuropanachrichten, rußland, osteuropäischen, osteuropäischer, österreichs, tageszeitung",
          "osteuropa, osteuropäischer, osteuropas, sowjetunion, sowjetischen, sowjetischer",
          "bundesrepublik, osteuropa, ostmitteleuropas, osteuropas, volksrepublik, lettlands",
          "sowjetischen, sowjetische, antisowjetischen, leninistische, sowjetbürger, sowjetmacht"
         ],
         "type": "scatter",
         "x": [
          "1968-01-01T00:00:00",
          "1970-02-06T02:24:00",
          "1972-03-14T04:48:00",
          "1974-04-20T07:12:00",
          "1976-05-26T09:36:00",
          "1978-07-02T12:00:00",
          "1980-08-07T15:24:00",
          "1982-09-13T17:48:00",
          "1984-10-19T19:12:00",
          "1986-11-25T21:36:00"
         ],
         "y": {
          "bdata": "hn7hhsXDRz8kgXgeoi5aPz21k4E40FU/8OcoH6OzXT+f9DAbf69TP8sXXmE3jlc/JoAaE8K9az8ERugytyl8P/1j/sym1XU/FpXM92FSSD8=",
          "dtype": "f8"
         }
        },
        {
         "hovertemplate": "<b>%{text}</b>",
         "line": {
          "width": 3
         },
         "marker": {
          "color": "#AF0038",
          "line": {
           "color": "black",
           "width": 2
          },
          "size": 14
         },
         "mode": "markers+lines",
         "name": "143_vladimír_vladimíra_vladimírem_vladimíru",
         "text": [
          "vladimíra, vladimír, leningradě, stalinského, rožňavský, stalinismem",
          "vladimír, vladimíra, stalinem, komunismu, vladimíru, presidentv",
          "vladimír, vladimíra, bolševického, vladimírem, vyšehradský, sovietsky",
          "vladimír, vladimíra, ženevská, sovětském, vítězslav, kremlu",
          "vladimír, vladimíra, václavském, vyšehradském, vladimírem, protisovětskými",
          "vladimír, vladimíra, vladimírem, vladimíru, vladimírovi, vladimírku",
          "vladimír, vladimírem, vladimíru, jaroslava, vladimíra, vrchlického",
          "vladimír, vladimíra, vladimíru, vladimírovi, jaroslava, vladimírem",
          "vladimíra, vladimír, stalinova, stalinovým, stalinského, stalinovy",
          "vladimír, vladimíra, vladimírem, vladimíru, leningradě, jaroslav"
         ],
         "type": "scatter",
         "x": [
          "1968-01-01T00:00:00",
          "1970-02-06T02:24:00",
          "1972-03-14T04:48:00",
          "1974-04-20T07:12:00",
          "1976-05-26T09:36:00",
          "1978-07-02T12:00:00",
          "1980-08-07T15:24:00",
          "1982-09-13T17:48:00",
          "1984-10-19T19:12:00",
          "1986-11-25T21:36:00"
         ],
         "y": {
          "bdata": "SD4S2p2hVj9VTBCtShVUP8PuJs34I1U/r+6vVIYBUT9PyR0BAKpVP04wc5WCwFc/J8gdBEbQWj/fLzu9uslfP0jcaRAnzmI/2iu1yzobYz8=",
          "dtype": "f8"
         }
        },
        {
         "hovertemplate": "<b>%{text}</b>",
         "line": {
          "width": 3
         },
         "marker": {
          "color": "#2E91E5",
          "line": {
           "color": "black",
           "width": 2
          },
          "size": 14
         },
         "mode": "markers+lines",
         "name": "144_amerických_amerického_americké_americká",
         "text": [
          "amerického, amerických, americké, americká, americkým, americe",
          "amerického, amerických, americkou, americkým, amerikou, československoamerický",
          "amerických, americké, amerického, americkým, americký, americkou",
          "amerických, amerického, americká, americké, americkou, amerika",
          "americká, amerických, amerického, ameriku, americké, americkém",
          "americká, amerika, amerického, americké, americkým, amerických",
          "amerických, amerického, amerikou, americká, americkým, týdenníku",
          "amerických, amerického, americkým, americké, americká, americkou",
          "amerických, americká, amerického, americké, americký, americkým",
          "americkými, americká, amerického, americkosovětská, nyprahabratislavany, legislation"
         ],
         "type": "scatter",
         "x": [
          "1968-01-01T00:00:00",
          "1970-02-06T02:24:00",
          "1972-03-14T04:48:00",
          "1974-04-20T07:12:00",
          "1976-05-26T09:36:00",
          "1978-07-02T12:00:00",
          "1980-08-07T15:24:00",
          "1982-09-13T17:48:00",
          "1984-10-19T19:12:00",
          "1986-11-25T21:36:00"
         ],
         "y": {
          "bdata": "6yHbSWY/aT/ThDrNtr1jP0dn7k3nE3w/kmBUMTqAbD8mkhxFEsNjP7fz94Fu3mE//Xy1nTSrVT/0DzHCAqpiP/6wJAHlcGE/x/FDQuRoLz8=",
          "dtype": "f8"
         }
        },
        {
         "hovertemplate": "<b>%{text}</b>",
         "line": {
          "width": 3
         },
         "marker": {
          "color": "#E15F99",
          "line": {
           "color": "black",
           "width": 2
          },
          "size": 14
         },
         "mode": "markers+lines",
         "name": "145_frankfurtský_frankfurtské_frankfurtského_frankfurtu",
         "text": [
          "frankfurtský, frankfurtu, frankfurtské, frankfurt, frankfurtská, frankfurtského",
          "frankfurtský, frankfurtského, frankfurtu, frankfurter, frankfurtské, frankfurt",
          "frankfurtského, frankfurtské, frankfurtský, frankfurter, němčině, deutschland",
          "rakouska, berlína, německé, brněnské, fremdrentengesetz, bavoráci",
          "německé, rakouské, rakouského, skautkám, německa, gestapákm",
          "němec, němčině, německu, němeček, němcova, tschechoslowakischer",
          "němec, západoněmeckých, nacista, hitler, hitlerv, západoněmeckého",
          "německé, vídeňskému, vídeňském, vídeňský, rakouští, rakouským",
          "deutscher, deutschen, deutsche, weltkrieges, fest, deutschlands",
          "němec, německé, rakouským, němčíka, vídeňské, frankfurtském"
         ],
         "type": "scatter",
         "x": [
          "1968-01-01T00:00:00",
          "1970-02-06T02:24:00",
          "1972-03-14T04:48:00",
          "1974-04-20T07:12:00",
          "1976-05-26T09:36:00",
          "1978-07-02T12:00:00",
          "1980-08-07T15:24:00",
          "1982-09-13T17:48:00",
          "1984-10-19T19:12:00",
          "1986-11-25T21:36:00"
         ],
         "y": {
          "bdata": "gE8Kkw3BWT9o9RIp/FB0P6R3jWqeDFM/nUeOKyU7HD/eKs2RSEwVPzGTHzGvsB4/Cool4S8cIz+EBhrR/lcbP0kgPAr9fBs/EX3jTUhXFD8=",
          "dtype": "f8"
         }
        },
        {
         "hovertemplate": "<b>%{text}</b>",
         "line": {
          "width": 3
         },
         "marker": {
          "color": "#1CA71C",
          "line": {
           "color": "black",
           "width": 2
          },
          "size": 14
         },
         "mode": "markers+lines",
         "name": "146_vé_uvádí_petici_př",
         "text": [
          "vé, přednesl, jubilejní, soldatesky, předchdc, dějepisec",
          "vé, uvádí, kučerovéhofmanové, čtenářv, opravňoval, témž",
          "vé, uvádí, zbrojovka, novinových, zváni, zazpívám",
          "vé, 1975, ročníku, zpozoroval, vie, zlostně",
          "vé, uvádí, měli, rtu, ré, znění",
          "vé, uvádí, til, ri, runu, íte",
          "vé, ri, formuloval, uvádí, zdraznil, zavazuje",
          "vé, uvádí, dopisu, dopis, dopisy, uvedených",
          "vé, uvádí, ré, psali, akta, zařídil",
          "vé, uvádí, petici, př, vydá, referovali"
         ],
         "type": "scatter",
         "x": [
          "1968-01-01T00:00:00",
          "1970-02-06T02:24:00",
          "1972-03-14T04:48:00",
          "1974-04-20T07:12:00",
          "1976-05-26T09:36:00",
          "1978-07-02T12:00:00",
          "1980-08-07T15:24:00",
          "1982-09-13T17:48:00",
          "1984-10-19T19:12:00",
          "1986-11-25T21:36:00"
         ],
         "y": {
          "bdata": "cDYkyU+cOj+PuByMUC9NP1iTXz/tbFQ/sYjAuXdeST8i3QrMaXVdP7iRN5dIBGY/P+7MHQkIXj9z8hGo/0tmP7uynD2LZmY/CjJLWcjpdj8=",
          "dtype": "f8"
         }
        },
        {
         "hovertemplate": "<b>%{text}</b>",
         "line": {
          "width": 3
         },
         "marker": {
          "color": "#FB0D0D",
          "line": {
           "color": "black",
           "width": 2
          },
          "size": 14
         },
         "mode": "markers+lines",
         "name": "147_noviny_časopis_zpravodajské_správy",
         "text": [
          "noviny, redakci, časopis, vládnych, nashromáždila, pronajmutí",
          "noviny, časopis, novinový, uveřejnily, vládnych, redakci",
          "noviny, časopis, novinách, správy, zpravodajské, článkem",
          "noviny, časopis, článk, vydávají, zpravodajského, národě",
          "noviny, časopis, novinka, zveřejnění, zveřejněny, melbourne",
          "noviny, časopis, yorské, prosovětské, vydával, zpravodajství",
          "noviny, časopis, osmdesát, poštovného, rozhlasové, avis",
          "noviny, časopis, yorské, vydáno, osmdesát, vydána",
          "noviny, časopis, yorské, zpravodajské, vydávají, zveřejnily",
          "noviny, časopis, správy, novinám, zpravodajství, časopisu"
         ],
         "type": "scatter",
         "x": [
          "1968-01-01T00:00:00",
          "1970-02-06T02:24:00",
          "1972-03-14T04:48:00",
          "1974-04-20T07:12:00",
          "1976-05-26T09:36:00",
          "1978-07-02T12:00:00",
          "1980-08-07T15:24:00",
          "1982-09-13T17:48:00",
          "1984-10-19T19:12:00",
          "1986-11-25T21:36:00"
         ],
         "y": {
          "bdata": "8xxVQcH4SD/aTprRFaVhP7T1EAnIhHE/pi8BSzLkdD9MNbUvYDFzP5SO+28fJW4/av/kLkgSbT/avyCGdqBwPyrimyvlemo/QOLLyI15Vz8=",
          "dtype": "f8"
         }
        },
        {
         "hovertemplate": "<b>%{text}</b>",
         "line": {
          "width": 3
         },
         "marker": {
          "color": "#DA16FF",
          "line": {
           "color": "black",
           "width": 2
          },
          "size": 14
         },
         "mode": "markers+lines",
         "name": "148_vojtěch_svatováclavské_bohuslava_vojtěcha",
         "text": [
          "vojtěch, sborník, brněnské, sborníku, pěveckého, prmyslových",
          "vojtěch, svatováclavské, vratislava, mnichovští, svatovítského, svatováclavském",
          "vojtěch, yorských, verši, němec, sjezdový, vratislav",
          "vojtěch, uherské, vydávat, jubilejní, zavedl, krásnohorská",
          "vojtěch, ježíšovo, uherském, světcích, klerika, vyšehradské",
          "vojtěch, bohoslovce, wyszyňského, betlémská, kázáních, bohuslava",
          "vojtěch, bohoslovec, kristova, křestanská, boleslava, svatováclavské",
          "vojtěch, wyszyňského, svatováclavské, vojtěchovi, blahoslavenou, vojtěchem",
          "vojtěch, brněnského, václavském, slováčku, vídeňského, vojtěcha",
          "vojtěch, blahoslavenou, vojtěcha, sťanské, václavském, svatováclavské"
         ],
         "type": "scatter",
         "x": [
          "1968-01-01T00:00:00",
          "1970-02-06T02:24:00",
          "1972-03-14T04:48:00",
          "1974-04-20T07:12:00",
          "1976-05-26T09:36:00",
          "1978-07-02T12:00:00",
          "1980-08-07T15:24:00",
          "1982-09-13T17:48:00",
          "1984-10-19T19:12:00",
          "1986-11-25T21:36:00"
         ],
         "y": {
          "bdata": "Zwl6QE/4Zj9rxNzIJCRzP+gBbbLjSmU/3GsfVrbIYT/zRpy03ZdkP24tKlDc4WI/0ST4MokxVz9cHpu1r8BlP3LuFroy6Vw/IiiXBv7zaT8=",
          "dtype": "f8"
         }
        },
        {
         "hovertemplate": "<b>%{text}</b>",
         "line": {
          "width": 3
         },
         "marker": {
          "color": "#222A2A",
          "line": {
           "color": "black",
           "width": 2
          },
          "size": 14
         },
         "mode": "markers+lines",
         "name": "149_tschechoslowakei_tschechoslowakische_tschechoslowakischer_tschechische",
         "text": [
          "tschechoslowakei, švýcarskočeskoslovenské, helvetotchécoslovaques, českoslov, tschechoslowakischcn, czeehoslovak",
          "tschechoslowakei, českobratrského, bratislavskej, tschechoslowaken, slovenskočeské, vratislava",
          "tschechoslowakei, tschechoslowakische, koslovensku, slezsko, tschechischen, knihovnického",
          "tschechoslowakei, komunistickému, komunistickém, americanczechoslovak, německému, sovětskaja",
          "tschechoslowakei, česka, českoněmec, českoněmecké, západoněmeckém, slováku",
          "tschechoslowakei, čechoslovakismus, čechoslovakismu, západoslovanských, českoněmeckých, čechové",
          "tschechoslowakei, tschechoslowakischer, rakouském, tschechoslowakische, scharfreiterplatz, brněnský",
          "tschechoslowakei, tschechoslowakische, tschechische, osteuropäischen, západoněmeckých, československopolského",
          "tschechoslowakei, slowakische, polnischen, polnische, tschechoslowakischer, tschechoslowakische",
          "tschechoslowakei, česka, tschechoslowakische, czechoslovakias, českoněmeckých, čechoslovakizmu"
         ],
         "type": "scatter",
         "x": [
          "1968-01-01T00:00:00",
          "1970-02-06T02:24:00",
          "1972-03-14T04:48:00",
          "1974-04-20T07:12:00",
          "1976-05-26T09:36:00",
          "1978-07-02T12:00:00",
          "1980-08-07T15:24:00",
          "1982-09-13T17:48:00",
          "1984-10-19T19:12:00",
          "1986-11-25T21:36:00"
         ],
         "y": {
          "bdata": "7bmtjKmyUT9Amw2LwdtMP6A3fYNzQVI/8NlKTxfwSz+TGC2JTE1JPwXENeNA0kk/xU7HtYdJTT/mGotlFQJRP65VOjBD7k8/KFn5KYrXUT8=",
          "dtype": "f8"
         }
        },
        {
         "hovertemplate": "<b>%{text}</b>",
         "line": {
          "width": 3
         },
         "marker": {
          "color": "#B68100",
          "line": {
           "color": "black",
           "width": 2
          },
          "size": 14
         },
         "mode": "markers+lines",
         "name": "150_spásy_duchovních_farností_bohoslužeb",
         "text": [
          "svatostánkem, oltářní, svátému, zapojena, kazateli, novosvěcenec",
          "hříšníci, hříšník, hříšný, benediktova, piedestalu, spása",
          "duchovních, mnichově, deutschtschechischen, theologii, stuttgartské, farním",
          "bohoslužeb, duchovních, spásu, bohoslužba, farností, spásy",
          "spásy, bohoslužby, bohoslužeb, teologická, bohoslužbách, bohoslužbě",
          "bohoslužby, duchovních, bohoslužbách, kristovým, křestanství, mnichově",
          "duchovních, farností, spásu, spásy, zbožný, duchovní",
          "křestanství, bohoslužbu, farností, spásy, farním, vzkříšení",
          "spásy, duchovních, spásu, bohoslužbu, farností, apoštolského",
          "spásy, duchovní, duchovních, spáse, bohoslužby, bohoslužbách"
         ],
         "type": "scatter",
         "x": [
          "1968-01-01T00:00:00",
          "1970-02-06T02:24:00",
          "1972-03-14T04:48:00",
          "1974-04-20T07:12:00",
          "1976-05-26T09:36:00",
          "1978-07-02T12:00:00",
          "1980-08-07T15:24:00",
          "1982-09-13T17:48:00",
          "1984-10-19T19:12:00",
          "1986-11-25T21:36:00"
         ],
         "y": {
          "bdata": "aQypcsEaPT9sr+Y3640iPw3aPBpOvVI/P8lZpSMDaD/Zw2+Nq7lkP3Oa9KQDbWU/pAnzrIKLaT/ZvYZis1FRP6btQkV1QV0/x0WY6Nvkaj8=",
          "dtype": "f8"
         }
        },
        {
         "hovertemplate": "<b>%{text}</b>",
         "line": {
          "width": 3
         },
         "marker": {
          "color": "#750D86",
          "line": {
           "color": "black",
           "width": 2
          },
          "size": 14
         },
         "mode": "markers+lines",
         "name": "151_československu_československa_delegáti_jugoslávský",
         "text": [
          "československu, zájezd, švýcarsku, československa, schweiz, špiónské",
          "československu, československa, zváni, vídeňského, vydání, vratislav",
          "československu, velínského, schzce, stavovských, svatováclavský, vyšehradu",
          "československu, zvolen, československa, československo, kongresov, štátu",
          "československu, československa, skautským, sloven, skautskými, skautskú",
          "československu, zimě, zimou, mrazy, mrazivé, lednové",
          "československu, západoněmeckých, československo, letech, sjížděli, během",
          "československu, holocaust, newyorská, nacismem, nacistická, nacistickou",
          "československu, berlína, mezinárodní, helsinskou, konference, milánská",
          "československu, manifestacím, polsku, odsouzených, sovětizaci, odsouzeného"
         ],
         "type": "scatter",
         "x": [
          "1968-01-01T00:00:00",
          "1970-02-06T02:24:00",
          "1972-03-14T04:48:00",
          "1974-04-20T07:12:00",
          "1976-05-26T09:36:00",
          "1978-07-02T12:00:00",
          "1980-08-07T15:24:00",
          "1982-09-13T17:48:00",
          "1984-10-19T19:12:00",
          "1986-11-25T21:36:00"
         ],
         "y": {
          "bdata": "EsH9WwDRdD/+SmOMl0ZyP4GsJeAXWWk/wzZf91gWbz9oyU/0TEJuP3LFF9e0h28/pIjZEGfYcD8elg12yUpwP20chZTlnmw/nx0A/ov2bD8=",
          "dtype": "f8"
         }
        },
        {
         "hovertemplate": "<b>%{text}</b>",
         "line": {
          "width": 3
         },
         "marker": {
          "color": "#EB663B",
          "line": {
           "color": "black",
           "width": 2
          },
          "size": 14
         },
         "mode": "markers+lines",
         "name": "152_čeština_slovenštiny_zváni_slováka",
         "text": [
          "čeština, češtinou, koslovenskému, slováka, uherskou, tchécoslovaqucs",
          "čeština, tschecho, tschechoslo, czcchoslovak, čechových, českom",
          "čeština, jugoslávský, jugoslávie, jugoslávským, pražskom, plzeňském",
          "čeština, zahraničíczechoslovak, haberová, slovenských, krásnohorská, plzeňského",
          "čeština, svatováclavským, zváni, československom, vyšehradského, koslovenskou",
          "čeština, slovácku, slovenskému, protičeskoslovenské, koslovenské, humoristických",
          "čeština, čechu, bělehradských, velehradkřesťanská, slovácku, svatovítský",
          "čeština, slovenštiny, ukrajinci, plzeňskou, majakovského, spisovateiov",
          "čeština, slovenštiny, češtinou, zváni, slovenština, poznamenat",
          "čeština, češstvím, slovanská, českoněmeckého, slovenštiny, slovensky"
         ],
         "type": "scatter",
         "x": [
          "1968-01-01T00:00:00",
          "1970-02-06T02:24:00",
          "1972-03-14T04:48:00",
          "1974-04-20T07:12:00",
          "1976-05-26T09:36:00",
          "1978-07-02T12:00:00",
          "1980-08-07T15:24:00",
          "1982-09-13T17:48:00",
          "1984-10-19T19:12:00",
          "1986-11-25T21:36:00"
         ],
         "y": {
          "bdata": "J4FinfK2YD+/eonivDhdP6Mli2pk+VU/mEC/SEQiWD8oh8R4zdtPP1y9+yk3O2M/HjdzlxiIYT9LUeTRmNRkP22sy3gKh2k/5+D7JjgpYD8=",
          "dtype": "f8"
         }
        },
        {
         "hovertemplate": "<b>%{text}</b>",
         "line": {
          "width": 3
         },
         "marker": {
          "color": "#511CFB",
          "line": {
           "color": "black",
           "width": 2
          },
          "size": 14
         },
         "mode": "markers+lines",
         "name": "153_voleb_volby_volbách_volební",
         "text": [
          "volby, předvolební, voleb, americkočeskoslovenské, referendu, referenda",
          "předvolební, volební, voleb, volby, zastupitelských, politbyra",
          "volebního, volbách, voleb, volby, novinou, parlamentní",
          "voleb, volbách, volební, volby, politickým, zvolen",
          "sovětskoamerické, národněsocialistické, vládní, socialistickým, socialističtí, volbách",
          "voleb, volby, volbách, volební, volič, zvolen",
          "senátu, senát, senátě, senátora, zákonodárství, odhlasoval",
          "vládních, názorem, socialistické, opozičním, opozičního, spor",
          "vládních, voleb, volebním, volebního, koncilu, předvolebními",
          "volbách, volby, voleb, voličm, volič, volebním"
         ],
         "type": "scatter",
         "x": [
          "1968-01-01T00:00:00",
          "1970-02-06T02:24:00",
          "1972-03-14T04:48:00",
          "1974-04-20T07:12:00",
          "1976-05-26T09:36:00",
          "1978-07-02T12:00:00",
          "1980-08-07T15:24:00",
          "1982-09-13T17:48:00",
          "1984-10-19T19:12:00",
          "1986-11-25T21:36:00"
         ],
         "y": {
          "bdata": "dIKwHi8AVD8V9owrhBJtPzbGeVmodF8/Ax01mNAWfj+DGiWeWrJBP87q5cAHHnc/PRPIcrlIPT829fqE/Nw6P5IDloo921U/zhNKgXzgWz8=",
          "dtype": "f8"
         }
        },
        {
         "hovertemplate": "<b>%{text}</b>",
         "line": {
          "width": 3
         },
         "marker": {
          "color": "#00A08B",
          "line": {
           "color": "black",
           "width": 2
          },
          "size": 14
         },
         "mode": "markers+lines",
         "name": "154_kr_kter_komu_kra",
         "text": [
          "komu, odvetném, sdělí, okresním, předal, novinové",
          "kra, kralevic, uherských, uherské, otakar, zazelenala",
          "napjatá, kr, šestadvaceti, soumrakem, seneca, kdys",
          "kr, slovensky, kra, natolik, odehrávaly, skautík",
          "kr, zvou, zpáteční, zdit, komu, zpe",
          "kr, kter, komu, kra, jř, vnr",
          "kr, kter, kterém, věoi, zně, zapojeno",
          "kr, kristova, kdyt, kra, jaroslava, němcová",
          "kr, kdyi, komu, natolik, zie, iiř",
          "kr, kter, kv, vž, komu, natolik"
         ],
         "type": "scatter",
         "x": [
          "1968-01-01T00:00:00",
          "1970-02-06T02:24:00",
          "1972-03-14T04:48:00",
          "1974-04-20T07:12:00",
          "1976-05-26T09:36:00",
          "1978-07-02T12:00:00",
          "1980-08-07T15:24:00",
          "1982-09-13T17:48:00",
          "1984-10-19T19:12:00",
          "1986-11-25T21:36:00"
         ],
         "y": {
          "bdata": "hxf9NKEWHz+bEXm852gFPxSRiDtUEys/S/j/FjGDOD+Im8kno/5HPyrev1+opls/+XYyFzn3WT/hsD2aWfJKP1+ezo8D4GA/MZi9jA5qaT8=",
          "dtype": "f8"
         }
        },
        {
         "hovertemplate": "<b>%{text}</b>",
         "line": {
          "width": 3
         },
         "marker": {
          "color": "#FB00D1",
          "line": {
           "color": "black",
           "width": 2
          },
          "size": 14
         },
         "mode": "markers+lines",
         "name": "155_sovětští_sovětskými_sovětská_sovětských",
         "text": [
          "sovětští, sovětskými, sovětském, sovětská, sovětských, sovětský",
          "sovětští, sovětskými, sovětská, sovětskou, sovětský, sovětských",
          "sovětskými, sovětští, sovětskou, sovětská, sovětský, sovětských",
          "sovětští, sovětskými, sovětská, sovětských, sovětský, moskvy",
          "sovětští, sovětskými, sovětských, sovětská, sovětský, sovětské",
          "sovětští, sovětskými, sovětských, sovětská, sovětskou, sovětským",
          "sovětští, sovětskými, sovětská, sovětsko, sovětský, československapředplácení",
          "sovětští, sovětskými, sovětských, sovětská, sovětským, sovětského",
          "sovětští, sovětskými, sovětských, sovětská, moskvě, sovětský",
          "sovětští, sovětskými, sovětská, sovětskou, sovětsko, sovětských"
         ],
         "type": "scatter",
         "x": [
          "1968-01-01T00:00:00",
          "1970-02-06T02:24:00",
          "1972-03-14T04:48:00",
          "1974-04-20T07:12:00",
          "1976-05-26T09:36:00",
          "1978-07-02T12:00:00",
          "1980-08-07T15:24:00",
          "1982-09-13T17:48:00",
          "1984-10-19T19:12:00",
          "1986-11-25T21:36:00"
         ],
         "y": {
          "bdata": "7GlllD26WD98Zi5tPgtpP753ladV9WM/awBwbyA5Xz9kvsE7zmxdP+3thGm1bmM/n91cqs0BYT+hLxdRKI9SPxqw7U6Xilc/xG4jD0wGTj8=",
          "dtype": "f8"
         }
        },
        {
         "hovertemplate": "<b>%{text}</b>",
         "line": {
          "width": 3
         },
         "marker": {
          "color": "#FC0080",
          "line": {
           "color": "black",
           "width": 2
          },
          "size": 14
         },
         "mode": "markers+lines",
         "name": "156_slovenská_slovenskej_slovenska_slovenskí",
         "text": [
          "slovenská, češtinou, jugoslávská, jugoslávského, česki, jugoslávií",
          "slovenská, brněnského, slovenska, českobudějovické, slovanského, kroměřížského",
          "slovenská, václavův, staročeského, jihlavské, čáslavskou, slovenštině",
          "slovenská, západoněmeckému, vlad, novinách, slovenských, jihoslovanské",
          "slovenská, slovenských, svatováclavské, svatováclavskému, staroboleslavské, staroboleslavský",
          "slovenská, slovenska, českoslo, koslovenské, slovenského, koslovenska",
          "slovenská, slovenska, slovenskému, slovenského, všeslovanské, slovanského",
          "slovenská, slovenskej, slovákom, slovenskí, slovenska, slovenského",
          "slovenská, slovenskej, jaroslava, slovenska, jaroslavu, pražsky",
          "slovenská, slovenskej, slovenského, slovenskú, slovenskými, slovenskému"
         ],
         "type": "scatter",
         "x": [
          "1968-01-01T00:00:00",
          "1970-02-06T02:24:00",
          "1972-03-14T04:48:00",
          "1974-04-20T07:12:00",
          "1976-05-26T09:36:00",
          "1978-07-02T12:00:00",
          "1980-08-07T15:24:00",
          "1982-09-13T17:48:00",
          "1984-10-19T19:12:00",
          "1986-11-25T21:36:00"
         ],
         "y": {
          "bdata": "ECXsO/BGUT+G87C7usNLPyMl7x4261I/WwzFKIrgWz/sM2y9U/FcP4i4qvCAtHI/P/33SH9Baj/3DZnhtA92PwAQIOVDEXE//lhaTRbRcD8=",
          "dtype": "f8"
         }
        },
        {
         "hovertemplate": "<b>%{text}</b>",
         "line": {
          "width": 3
         },
         "marker": {
          "color": "#B2828D",
          "line": {
           "color": "black",
           "width": 2
          },
          "size": 14
         },
         "mode": "markers+lines",
         "name": "157_sjezdu_sjezd_výstava_výstavy",
         "text": [
          "sjezdu, sjezd, sjazdu, výstava, 1968, výstavy",
          "sjezdu, sjezd, usporiadala, spolky, sborníku, vydala",
          "sjezdu, sjezd, sjezdech, sjezdových, zúčastnil, yorskej",
          "sjezdu, sjezd, výstavy, výstava, přednáškách, výzkum",
          "sjezdu, sjezd, pořádat, zjazdovej, výstavu, zjazd",
          "sjezdu, sjezd, kongresu, příspěvek, zprávu, dne",
          "sjezd, sjezdu, pořádány, pozvána, vyzvání, zahraničíczechoslovak",
          "sjezd, symposium, shromážděním, 1984, sjezdu, výborem",
          "sjezd, sjezdu, jubilejní, řízen, prohlašuje, nastanou",
          "sjezdu, zúčastnilo, zúčastnili, zúčastnila, předali, stíháni"
         ],
         "type": "scatter",
         "x": [
          "1968-01-01T00:00:00",
          "1970-02-06T02:24:00",
          "1972-03-14T04:48:00",
          "1974-04-20T07:12:00",
          "1976-05-26T09:36:00",
          "1978-07-02T12:00:00",
          "1980-08-07T15:24:00",
          "1982-09-13T17:48:00",
          "1984-10-19T19:12:00",
          "1986-11-25T21:36:00"
         ],
         "y": {
          "bdata": "Af/ywrNyfj9W9lnFuflwP/TmUK1h7mg/wRqHu/aDdD8rCKXSmyx0PxRRyLV3im4//ahbBoZ3Uz+vjpn2NxhKP6P67j76KmY/CN7AOm3OVz8=",
          "dtype": "f8"
         }
        },
        {
         "hovertemplate": "<b>%{text}</b>",
         "line": {
          "width": 3
         },
         "marker": {
          "color": "#6C7C32",
          "line": {
           "color": "black",
           "width": 2
          },
          "size": 14
         },
         "mode": "markers+lines",
         "name": "158_vydávat_vydávání_publikací_publikoval",
         "text": [
          "redakci, vydávat, publikačním, publikační, publikací, publikacích",
          "vydávat, publikací, redakci, vydán, vydávají, článk",
          "vydávat, publikací, ročníku, vydával, publikační, vydávání",
          "vydávat, redakční, publikací, publikační, publikoval, vydávají",
          "vydávání, vydávají, vydána, vydávat, nakladatelství, redakci",
          "vydávat, vydávání, vydával, vydávali, článkem, nakladatelstvím",
          "vydávat, vydávání, vydavatele, vydány, publikovány, vydávají",
          "vydávat, nakladatelství, vydána, revue, publikoval, vydával",
          "vydávat, revue, vydávají, redakční, publikoval, nakladatelství",
          "vydávat, revue, redakční, vydávání, vydána, vydával"
         ],
         "type": "scatter",
         "x": [
          "1968-01-01T00:00:00",
          "1970-02-06T02:24:00",
          "1972-03-14T04:48:00",
          "1974-04-20T07:12:00",
          "1976-05-26T09:36:00",
          "1978-07-02T12:00:00",
          "1980-08-07T15:24:00",
          "1982-09-13T17:48:00",
          "1984-10-19T19:12:00",
          "1986-11-25T21:36:00"
         ],
         "y": {
          "bdata": "sKSDVb3QXj/8lJny8gViP3lcbNW+Mmo/b2hldt9KZz8cgFI6/rFvPwlf7hyWa14/PA/uFuruWz/OkKMmNL9jP/x2VUsp6l4/JDqAXyy6Vz8=",
          "dtype": "f8"
         }
        },
        {
         "hovertemplate": "<b>%{text}</b>",
         "line": {
          "width": 3
         },
         "marker": {
          "color": "#778AAE",
          "line": {
           "color": "black",
           "width": 2
          },
          "size": 14
         },
         "mode": "markers+lines",
         "name": "159_zbyněk_uváděl_výtvarných_vratislav",
         "text": [
          "zbyněk, uváděl, náměstkem, jubilejním, dubčekově, svazech",
          "zbyněk, češtinou, svazech, starostova, zřídil, zařízených",
          "uváděl, vládny, zbyněk, zbrojovka, vratislav, konzervatoře",
          "uváděl, natolik, zařízen, vnějškem, vrchnostenské, vcházel",
          "uváděl, vydá, výstavní, němoty, zhodnotil, uměleckého",
          "uváděl, vratislav, kdyí, saai, koslovenských, hradílková",
          "zbyněk, uváděl, zařídil, hleděl, zavedl, slovenska",
          "zbyněk, uváděl, výtvarných, vratislav, teljährlich, hradní",
          "zbyněk, zazněl, zvednu, zítřek, jindřich, teljährlich",
          "zbyněk, uváděl, václavském, výtvarných, zazněl, brněnském"
         ],
         "type": "scatter",
         "x": [
          "1968-01-01T00:00:00",
          "1970-02-06T02:24:00",
          "1972-03-14T04:48:00",
          "1974-04-20T07:12:00",
          "1976-05-26T09:36:00",
          "1978-07-02T12:00:00",
          "1980-08-07T15:24:00",
          "1982-09-13T17:48:00",
          "1984-10-19T19:12:00",
          "1986-11-25T21:36:00"
         ],
         "y": {
          "bdata": "ZYbGUfbNST8hOd8k7GRVP6Ni1zeYQlE/GFT3HKdxST/dDzSR+DhKP57F4RiOgUg/DyyOm0ytVj9sPudw0oNpP4YXZ4F/2Vo/4f5Qp0CfZT8=",
          "dtype": "f8"
         }
        },
        {
         "hovertemplate": "<b>%{text}</b>",
         "line": {
          "width": 3
         },
         "marker": {
          "color": "#862A16",
          "line": {
           "color": "black",
           "width": 2
          },
          "size": 14
         },
         "mode": "markers+lines",
         "name": "160_čech_česko_polický_czech",
         "text": [
          "čech, polický, česko, ženevská, švajčiari, čáslavská",
          "čech, schweizerische, rakousku, švýcarském, czech, zürich",
          "čech, czech, uherskou, pittsburská, slovenska, plzeňského",
          "čech, slovenského, švýcarech, jugoslávského, českých, vlad",
          "čech, česko, republika, slovanském, výročí, vském",
          "čech, zahraničíczechoslovak, slovenského, czech, češkou, kcyz",
          "čech, česko, česku, jugoslávského, češtinou, slovenských",
          "čech, čechové, komunismus, zahraničíczechoslovak, českoslo, vánočního",
          "čech, čechové, tschechische, kristova, československýv, slováček",
          "čech, svatováclavská, václavském, čes, česko, dopis"
         ],
         "type": "scatter",
         "x": [
          "1968-01-01T00:00:00",
          "1970-02-06T02:24:00",
          "1972-03-14T04:48:00",
          "1974-04-20T07:12:00",
          "1976-05-26T09:36:00",
          "1978-07-02T12:00:00",
          "1980-08-07T15:24:00",
          "1982-09-13T17:48:00",
          "1984-10-19T19:12:00",
          "1986-11-25T21:36:00"
         ],
         "y": {
          "bdata": "RzByxpilbz8DodqC6+JsP/4VEG83vUw/7uKQ5QOYXj9BhNNluYxcP0S+4Kjck2Q/IOqskCGcZz+P8xM2y21oPzl2WaincGA/3/UYbce7Yj8=",
          "dtype": "f8"
         }
        },
        {
         "hovertemplate": "<b>%{text}</b>",
         "line": {
          "width": 3
         },
         "marker": {
          "color": "#A777F1",
          "line": {
           "color": "black",
           "width": 2
          },
          "size": 14
         },
         "mode": "markers+lines",
         "name": "161_ekologické_prostředí_ekologická_ekologických",
         "text": [
          "zváni, informoval, světovým, plzeňskou, zemím, současnou",
          "palma, palme, palmu, púšťou, púšte, púšť",
          "zváni, tábořišti, táborových, táborech, táboráku, táboření",
          "zváni, kra, východoslovenských, svést, eskoslovenska, uherský",
          "zváni, informoval, zveřejnění, signatáři, krajích, kraje",
          "táborový, táboření, pobytu, divočina, lesích, trávu",
          "sahara, pouštěmi, pouští, pouště, krajinami, země",
          "prostředím, socialistické, dokumentuje, emisemi, občanskou, 1984",
          "informoval, petici, východoslovenské, jabloně, jablíček, správou",
          "ekologické, prostředí, ekologická, ekologických, ekologie, ekologického"
         ],
         "type": "scatter",
         "x": [
          "1968-01-01T00:00:00",
          "1970-02-06T02:24:00",
          "1972-03-14T04:48:00",
          "1974-04-20T07:12:00",
          "1976-05-26T09:36:00",
          "1978-07-02T12:00:00",
          "1980-08-07T15:24:00",
          "1982-09-13T17:48:00",
          "1984-10-19T19:12:00",
          "1986-11-25T21:36:00"
         ],
         "y": {
          "bdata": "BtUIEyK4Oz/xUtrbcMxHPzm98WEnjUM/FTNvPGJpOT9pvStD8DZHP43TsFTQd0Y/fL+v0PFjQz/OcftahRpaP8RSaBddHUQ/kQ2HNmJrhD8=",
          "dtype": "f8"
         }
        },
        {
         "hovertemplate": "<b>%{text}</b>",
         "line": {
          "width": 3
         },
         "marker": {
          "color": "#620042",
          "line": {
           "color": "black",
           "width": 2
          },
          "size": 14
         },
         "mode": "markers+lines",
         "name": "162_československom_československú_československí_pražskom",
         "text": [
          "československú, československom, československí, českeho, ceskoslovenské, východoslovenských",
          "československú, československí, tschechoslo, zemích, osvobozeneckém, sovětskoněmecké",
          "československú, československom, ceskosloven, czechosloväk, západoslovenských, republike",
          "československú, československom, československí, vnitrních, češtine, voíbách",
          "československom, československú, československí, českoslovenství, slovače, československopol",
          "československom, československú, československí, čechoslovakizmu, čechoslovakizmus, americkočeskoslovenské",
          "československom, československí, češke, československú, československýv, západoslovenského",
          "československí, československom, československú, juhoslovanskom, tschechoslowakischer, západoněmeckého",
          "československú, československom, československí, slovak, českú, celoslovenské",
          "československom, československí, československú, bratislavskom, pražskom, sovietskemu"
         ],
         "type": "scatter",
         "x": [
          "1968-01-01T00:00:00",
          "1970-02-06T02:24:00",
          "1972-03-14T04:48:00",
          "1974-04-20T07:12:00",
          "1976-05-26T09:36:00",
          "1978-07-02T12:00:00",
          "1980-08-07T15:24:00",
          "1982-09-13T17:48:00",
          "1984-10-19T19:12:00",
          "1986-11-25T21:36:00"
         ],
         "y": {
          "bdata": "IbD5xlIvWz9435D/UXlRP1ali49nzVM/rPQuYDP2Sj/jjVs+mSBdP4mpnBAMfFw/7U9YztX3Wj9IjL5PVBtfP8r6GWwRmFk/8CC9rnt3YD8=",
          "dtype": "f8"
         }
        },
        {
         "hovertemplate": "<b>%{text}</b>",
         "line": {
          "width": 3
         },
         "marker": {
          "color": "#1616A7",
          "line": {
           "color": "black",
           "width": 2
          },
          "size": 14
         },
         "mode": "markers+lines",
         "name": "163_diecézi_kněžské_kněžského_farností",
         "text": [
          "diecézi, diecéze, kostela, jubilejním, zbožná, vatikánskou",
          "svátostmi, diecézi, kazatel, bohoslovce, svatořečen, kazatelskou",
          "kněžských, ježíšovi, kněžské, diecézi, farností, vatikáne",
          "kněžské, diecézi, biskupově, svátost, kněžského, kněžském",
          "diecézi, kněžské, vatikáně, kněžského, spásu, církevního",
          "diecézi, kněžského, farností, kněžské, svatodušního, jesuité",
          "diecézi, kněžské, vatikáně, svatosti, světici, diecézí",
          "diecézi, kněžské, kazatel, diecézí, zbožných, kněžská",
          "diecézi, kněžské, kněžského, diecéze, klerik, vatikáně",
          "diecézi, farností, diecéze, kněžskou, diecézí, kněžské"
         ],
         "type": "scatter",
         "x": [
          "1968-01-01T00:00:00",
          "1970-02-06T02:24:00",
          "1972-03-14T04:48:00",
          "1974-04-20T07:12:00",
          "1976-05-26T09:36:00",
          "1978-07-02T12:00:00",
          "1980-08-07T15:24:00",
          "1982-09-13T17:48:00",
          "1984-10-19T19:12:00",
          "1986-11-25T21:36:00"
         ],
         "y": {
          "bdata": "4fYmO3SoSz+oclI/JzJQP9dilgVX2XA/7OsfLz4jXz/B2sSDuptnP3OiNlyEYGA/giDcKITUYz/v7w/ZZJBXPzjBLcUYo2w/B2VAYfYCbz8=",
          "dtype": "f8"
         }
        },
        {
         "hovertemplate": "<b>%{text}</b>",
         "line": {
          "width": 3
         },
         "marker": {
          "color": "#DA60CA",
          "line": {
           "color": "black",
           "width": 2
          },
          "size": 14
         },
         "mode": "markers+lines",
         "name": "164_úřad_úřadu_úřady_úřadm",
         "text": [
          "úřad, úřadu, ministerstvo, úřední, vládnou, úřady",
          "úřad, ministerstvo, úřadem, úřadu, úřady, fakult",
          "úřad, úřadu, úřady, úřední, vládního, vydávají",
          "úřad, úřadu, novinám, úředního, státních, úřadem",
          "úřad, úřadm, statutu, občané, občanm, dokumenty",
          "úřad, úřadm, úřadu, dokladem, státnímu, ústavy",
          "úřad, úřadu, ministerstvo, vládního, uvádím, právech",
          "úřad, úřadm, úřady, úředním, ústava, ministerstvo",
          "úřad, úřady, úřadu, úřadm, zprávu, informuje",
          "úřad, úřady, úřadu, úřadm, odboru, úřední"
         ],
         "type": "scatter",
         "x": [
          "1968-01-01T00:00:00",
          "1970-02-06T02:24:00",
          "1972-03-14T04:48:00",
          "1974-04-20T07:12:00",
          "1976-05-26T09:36:00",
          "1978-07-02T12:00:00",
          "1980-08-07T15:24:00",
          "1982-09-13T17:48:00",
          "1984-10-19T19:12:00",
          "1986-11-25T21:36:00"
         ],
         "y": {
          "bdata": "G79NR8GyZD9at7A+AzZvPyNwR1oe/3g/3ExjWPV+cD/RwXLXFVxxP4W2hENuxnI/4X1cfG6rYT81qs8QbNdpP+W0BxUcoHE/kMuxRaOxaD8=",
          "dtype": "f8"
         }
        },
        {
         "hovertemplate": "<b>%{text}</b>",
         "line": {
          "width": 3
         },
         "marker": {
          "color": "#6C4516",
          "line": {
           "color": "black",
           "width": 2
          },
          "size": 14
         },
         "mode": "markers+lines",
         "name": "165_slezsku_slezska_slezsko_slezských",
         "text": [
          "slezsku, slezska, vlastislav, čechu, choslovakia, českobudějovický",
          "slezska, slezsku, českobudějovický, václavově, mnichovská, čáslavi",
          "slezsku, slezska, slezských, slezsko, svatováclavské, milíčově",
          "slezsku, slezska, vlasta, krajané, vladimírem, czechoslova",
          "slezsku, slezska, vratislavské, wyszyňski, slovácká, slovácké",
          "slezska, slezsku, východoslovenském, choslovakia, juhoslovanského, juhoslovanský",
          "slezsku, slezska, slezsko, mladočeského, českýchzemích, českoněmecké",
          "slezsku, slezska, české, slezsko, vladislava, bratislavského",
          "slezsku, slezska, slezsko, polskému, bratislavských, českoněmecké",
          "slezska, slezsku, českoněmeckého, slezských, jaroslava, československuje"
         ],
         "type": "scatter",
         "x": [
          "1968-01-01T00:00:00",
          "1970-02-06T02:24:00",
          "1972-03-14T04:48:00",
          "1974-04-20T07:12:00",
          "1976-05-26T09:36:00",
          "1978-07-02T12:00:00",
          "1980-08-07T15:24:00",
          "1982-09-13T17:48:00",
          "1984-10-19T19:12:00",
          "1986-11-25T21:36:00"
         ],
         "y": {
          "bdata": "GtU0smVQaj/OpsKcJI9qPw7M32a1hmM/vgFXrxAiYD+x7+Yt2pVTP4hjGPUcI2A/wx0215VMcD+xID9vnH9tP1UeHxHlWWY/3Eg5TvE5Yz8=",
          "dtype": "f8"
         }
        },
        {
         "hovertemplate": "<b>%{text}</b>",
         "line": {
          "width": 3
         },
         "marker": {
          "color": "#0D2A63",
          "line": {
           "color": "black",
           "width": 2
          },
          "size": 14
         },
         "mode": "markers+lines",
         "name": "166_českým_české_českýchlistin_václavském",
         "text": [
          "českým, českobratrský, české, slovenským, czcchoslovak, cizinecké",
          "českým, českobratrského, bratislavskej, tschechoslowaken, slovenskočeské, tschechische",
          "českým, východoslovenský, vyšehradském, tschecho, české, čechoslováka",
          "českým, východoslovenských, svatovojtěšské, pěveckých, hostitelská, prostějova",
          "českým, bohoslovce, vídeňská, čechoslovakizmu, neslovenských, české",
          "českým, popularczechoslovak, všeslovanského, jugoslávským, jihoslovan, slovanskými",
          "českým, českýchlistin, tschechische, slovenštiny, vojtěchv, východoslovenský",
          "českým, českýchlistin, krakovský, blahoslavenou, slovanského, svatováclavské",
          "českým, českoslovsenska, českoslovsensku, českoslo, čechošvýcar, hradčanského",
          "českým, české, václavském, slovenska, jaroslav, východoslovenské"
         ],
         "type": "scatter",
         "x": [
          "1968-01-01T00:00:00",
          "1970-02-06T02:24:00",
          "1972-03-14T04:48:00",
          "1974-04-20T07:12:00",
          "1976-05-26T09:36:00",
          "1978-07-02T12:00:00",
          "1980-08-07T15:24:00",
          "1982-09-13T17:48:00",
          "1984-10-19T19:12:00",
          "1986-11-25T21:36:00"
         ],
         "y": {
          "bdata": "d/CxGRDnez/Xl/f6k9ZkPxJGdlBd800/HGDlWVCdWz8aO0ddpH5gP4IbtCWNpGA//5hS8LbScz/qwwUE19B7P1AHtpg/c28/4eMPnZS+aj8=",
          "dtype": "f8"
         }
        },
        {
         "hovertemplate": "<b>%{text}</b>",
         "line": {
          "width": 3
         },
         "marker": {
          "color": "#AF0038",
          "line": {
           "color": "black",
           "width": 2
          },
          "size": 14
         },
         "mode": "markers+lines",
         "name": "167_vydání_vydalo_vydáni_zbrojovka",
         "text": [
          "vydání, vydalo, vydáni, posrpnové, úřední, vystaven",
          "vydání, ceník, československosovětského, bratislavští, bratislavských, cen",
          "vydání, vydalo, vydán, vydáním, vydáni, jubilejní",
          "vydání, vydalo, redakci, vydáni, vydáno, vydávaných",
          "vydání, zbrojovka, vydalo, dokument, dokumenty, koslovensku",
          "vydání, vydáni, vyšehradském, redakci, vydalo, vydaná",
          "vydání, osmdesát, nakladatelství, weekly, poštovného, mitteilungsblatt",
          "vydání, vydán, publikací, poštovného, žánr, považovány",
          "vydání, vydalo, vydávala, vydán, vydaly, charta",
          "vydání, vydával, měsíčníkinformacekulturapolitika1883, vydalo, vydaly, zakázána1969"
         ],
         "type": "scatter",
         "x": [
          "1968-01-01T00:00:00",
          "1970-02-06T02:24:00",
          "1972-03-14T04:48:00",
          "1974-04-20T07:12:00",
          "1976-05-26T09:36:00",
          "1978-07-02T12:00:00",
          "1980-08-07T15:24:00",
          "1982-09-13T17:48:00",
          "1984-10-19T19:12:00",
          "1986-11-25T21:36:00"
         ],
         "y": {
          "bdata": "J7glVrsThT/B8QQY0F2PP2QVd19fIow/YU9PesqXfT/fp65JYveLP0O3dRTmCYM/2yDv8KTkgz+ahB6gm9l2P1sCRjr1IHw//hlXZb/qbj8=",
          "dtype": "f8"
         }
        },
        {
         "hovertemplate": "<b>%{text}</b>",
         "line": {
          "width": 3
         },
         "marker": {
          "color": "#2E91E5",
          "line": {
           "color": "black",
           "width": 2
          },
          "size": 14
         },
         "mode": "markers+lines",
         "name": "168_slovensku_slovenští_jaroslava_slovenska",
         "text": [
          "slovensku, slovenští, ženevská, bratislavským, czechoslowak, slezském",
          "slovensku, bohuslava, svatováclavské, dvořákovu, oswiečimském, čáslavi",
          "slovensku, plzeňského, pražskem, slowakischcn, czechosloväk, slovácku",
          "slovensku, svatováclavské, slezsku, vladimírem, krajané, moravskoslovenské",
          "slovensku, slovenskou, sovětskou, slovenskému, bürgerhaus, celoslovenský",
          "slovensku, slovenští, slovenka, mnichovského, vítězslav, českých",
          "slovensku, slovaks, slovenští, kristova, slovenskému, uherských",
          "slovensku, slovenští, slováku, českoněmeckého, českoněmeckou, slovenskej",
          "slovensku, slovenští, českoslovsensku, václavským, slovenských, čáslavi",
          "slovensku, slovenští, jaroslava, slovenska, zdislavu, krakovský"
         ],
         "type": "scatter",
         "x": [
          "1968-01-01T00:00:00",
          "1970-02-06T02:24:00",
          "1972-03-14T04:48:00",
          "1974-04-20T07:12:00",
          "1976-05-26T09:36:00",
          "1978-07-02T12:00:00",
          "1980-08-07T15:24:00",
          "1982-09-13T17:48:00",
          "1984-10-19T19:12:00",
          "1986-11-25T21:36:00"
         ],
         "y": {
          "bdata": "DscLgHMUYj/3u0nBGYdgP6q4b+CluFQ//62AenPKXj8HkalFmHpjPwTGIAR7M2w/nTM2zLs9bj8pPFD72At0P2IdHpibUnM/OzyTaAaocz8=",
          "dtype": "f8"
         }
        },
        {
         "hovertemplate": "<b>%{text}</b>",
         "line": {
          "width": 3
         },
         "marker": {
          "color": "#E15F99",
          "line": {
           "color": "black",
           "width": 2
          },
          "size": 14
         },
         "mode": "markers+lines",
         "name": "169_tchécoslovaques_tschecho_češku_ceskoslovenskoněmecká",
         "text": [
          "tchécoslovaques, czechoslowak, tschecho, východoslovenský, východoslovenském, slowakischen",
          "tchécoslovaques, tschechoslo, československosovětské, drážďansky, češke, československí",
          "tchécoslovaques, tschecho, tschechoslo, koslovenska, čechu, tchécoslovaquie",
          "tchécoslovaques, tschecho, komunistickému, češke, czcchoslovak, czech",
          "tchécoslovaques, tschecho, francotchécoslovaque, czcchoslovak, staatsstreichs, češku",
          "tchécoslovaques, ceskoslovenskoněmecká, češkou, tschecho, czcchoslovak, sovietskemu",
          "tchécoslovaques, ceskoslovenskoněmecká, tschecho, vyšehradském, východoslovenském, tchécoslovaque",
          "tchécoslovaques, tschcchoslowakischen, protikomunistické, protikomunistických, tchécoslovaquie, československoněmeckou",
          "tchécoslovaques, češku, tschecho, českobavorské, československopolské, uprchlíky",
          "tchécoslovaques, tschecho, československuzákonného, československosovětské, česka, československoamerických"
         ],
         "type": "scatter",
         "x": [
          "1968-01-01T00:00:00",
          "1970-02-06T02:24:00",
          "1972-03-14T04:48:00",
          "1974-04-20T07:12:00",
          "1976-05-26T09:36:00",
          "1978-07-02T12:00:00",
          "1980-08-07T15:24:00",
          "1982-09-13T17:48:00",
          "1984-10-19T19:12:00",
          "1986-11-25T21:36:00"
         ],
         "y": {
          "bdata": "ToKMtkMyZT/evqC35L5zP8/3ErnZbnM/DVIyP/iScD9DsGWqP8l1P0NtGTi0E2k/ur9JeFPPcz8+zuGYJlhdP3C84CI5+WA/scm4rUskVj8=",
          "dtype": "f8"
         }
        },
        {
         "hovertemplate": "<b>%{text}</b>",
         "line": {
          "width": 3
         },
         "marker": {
          "color": "#1CA71C",
          "line": {
           "color": "black",
           "width": 2
          },
          "size": 14
         },
         "mode": "markers+lines",
         "name": "170_vídeň_vídeňská_vídeňského_vídeňských",
         "text": [
          "vídeň, vídeňská, rakouské, měsíčníku, švýcary, salzburské",
          "vídeň, vídeňská, vídeňských, vídeňského, sokolskému, wiener",
          "vídeň, vídeňská, výstava, zúčastnilo, soutěžících, rathausplatz",
          "vídeň, svatováclavské, vídeňských, vídeňské, vídeňskou, německém",
          "vídeň, letovisku, vídeňská, vídeňského, letecky, uherské",
          "vídeň, vídeňského, brněnského, brněnská, vídeňském, vídeňských",
          "vídeň, vídeňském, vídeňská, vídeňské, vídeňáci, vídeňskou",
          "vídeň, vídeňské, slavnostní, vídeňského, vídeňských, lidech",
          "vídeň, vídeňská, vídeňských, letovisku, verkehrsverein, letzigrund",
          "vídeň, vídeňského, vídeňská, vídeňském, brněnská, vídeňáci"
         ],
         "type": "scatter",
         "x": [
          "1968-01-01T00:00:00",
          "1970-02-06T02:24:00",
          "1972-03-14T04:48:00",
          "1974-04-20T07:12:00",
          "1976-05-26T09:36:00",
          "1978-07-02T12:00:00",
          "1980-08-07T15:24:00",
          "1982-09-13T17:48:00",
          "1984-10-19T19:12:00",
          "1986-11-25T21:36:00"
         ],
         "y": {
          "bdata": "AbfjOmKZQD/dG0tal7FjPzO1uiZ5ilQ/oQV9mAOtYT8jkY/PCPtSPyHeQ2zHelg/F1OZeUI8VD/NgtWJGBNSP0Xoyh6TOVY/50JyC5l/Tj8=",
          "dtype": "f8"
         }
        },
        {
         "hovertemplate": "<b>%{text}</b>",
         "line": {
          "width": 3
         },
         "marker": {
          "color": "#FB0D0D",
          "line": {
           "color": "black",
           "width": 2
          },
          "size": 14
         },
         "mode": "markers+lines",
         "name": "171_čechoslováka_slováku_slovaks_československú",
         "text": [
          "čechoslováka, češkou, czechoslowak, češke, čechoslovákovi, slezska",
          "čechoslováka, tschechischen, schweizer, pojišťovny, slovákoch, slovákmi",
          "čechoslováka, czcchoslovak, němeček, českoněmecká, němcích, československýv",
          "čechoslováka, vyšehradském, pralské, dagbladet, novince, zveřejnily",
          "čechoslováka, francotchécoslovaque, československí, slovácko, českem, češích",
          "čechoslováka, letovisku, slováka, czechosloväk, tschechoslowakischcn, vládními",
          "čechoslováka, slovaks, československazvaní, československú, slováku, bratislavčan",
          "čechoslováka, slováku, čechoslovákovi, českosovětské, slovaks, pánev",
          "čechoslováka, slováku, slovaks, vlašskou, slovákú, slovenštině",
          "čechoslováka, bratislavských, tschechoslowakischer, českoslo, československoa, vyšehradský"
         ],
         "type": "scatter",
         "x": [
          "1968-01-01T00:00:00",
          "1970-02-06T02:24:00",
          "1972-03-14T04:48:00",
          "1974-04-20T07:12:00",
          "1976-05-26T09:36:00",
          "1978-07-02T12:00:00",
          "1980-08-07T15:24:00",
          "1982-09-13T17:48:00",
          "1984-10-19T19:12:00",
          "1986-11-25T21:36:00"
         ],
         "y": {
          "bdata": "tI83AEBWcj+SHUo44B5mP4AmxNtvCWM/YCg03F3lYD8mAYnkNr5RP4jP+7dadFk/m5tGLdivYD8dFOtv6EJkP31Skpufs2U/Si2P9Gi8Yz8=",
          "dtype": "f8"
         }
        },
        {
         "hovertemplate": "<b>%{text}</b>",
         "line": {
          "width": 3
         },
         "marker": {
          "color": "#DA16FF",
          "line": {
           "color": "black",
           "width": 2
          },
          "size": 14
         },
         "mode": "markers+lines",
         "name": "172_vedou_traduje_básně_hleděl",
         "text": [
          "vedou, velekněžské, vojtěchovi, varhanní, valdštejnské, vyhrazuje",
          "vedou, češtinou, hradní, královéhradeckého, vojevdcové, vyšehradském",
          "vedou, uváděl, četných, svazu, spočívala, plzeňským",
          "vedou, pocházel, bretonv, krejčího, kýchal, chatrnou",
          "vedou, zasvěcenc, zasvěcenec, zlostně, pánve, zdrazňoval",
          "vedou, hradní, bohoslovcm, dkazem, verši, přednesl",
          "vedou, psal, básně, zvá, zažil, prózy",
          "vedou, báseň, zříká, epizod, četné, zavedl",
          "vedou, odehrálo, zatroubil, slovní, báseň, básně",
          "vedou, natolik, psali, ježíšovo, traduje, námitkám"
         ],
         "type": "scatter",
         "x": [
          "1968-01-01T00:00:00",
          "1970-02-06T02:24:00",
          "1972-03-14T04:48:00",
          "1974-04-20T07:12:00",
          "1976-05-26T09:36:00",
          "1978-07-02T12:00:00",
          "1980-08-07T15:24:00",
          "1982-09-13T17:48:00",
          "1984-10-19T19:12:00",
          "1986-11-25T21:36:00"
         ],
         "y": {
          "bdata": "KZNKNZDrWz/076VYtVFYP/m83fzLym8/KOwQbSOtZD8QXmtySM9iP3OpXNGSEnE/qqMwtUCwZz+LEAjwBCZuP+D8zsg68Hk/k6AUvqrzbz8=",
          "dtype": "f8"
         }
        },
        {
         "hovertemplate": "<b>%{text}</b>",
         "line": {
          "width": 3
         },
         "marker": {
          "color": "#222A2A",
          "line": {
           "color": "black",
           "width": 2
          },
          "size": 14
         },
         "mode": "markers+lines",
         "name": "173_bratislavské_bratislavská_svatováclavské_wyszyňského",
         "text": [
          "bratislavské, bratislavským, plzeňského, českobudějovický, 3československo, bratislavský",
          "bratislavské, svatováclavské, plzeňská, bohuslava, bratislavský, prešovského",
          "bratislavské, jihoněmeckém, pobělohorského, badenwiirttembersku, českoně, klagenfurterstr",
          "bratislavské, svatováclavským, brněnském, brněnského, slovenští, vyšehradský",
          "bratislavské, koslovenska, pražskom, koslovenská, slovače, československopol",
          "bratislavské, slovenskýc, slovaca, bohoslovci, plzeňského, bratislavská",
          "bratislavské, staroslověnštině, svatováclavské, krakovský, wyszyňského, vratislavi",
          "bratislavské, praží, bratislavskej, sloveniek, koslovenské, budapešťského",
          "bratislavské, jaroslavu, bratislavská, slovenskou, jaroslavem, slezsko",
          "bratislavské, bratislavskom, bratislavská, perestrojky, slovenka, jaroslavský"
         ],
         "type": "scatter",
         "x": [
          "1968-01-01T00:00:00",
          "1970-02-06T02:24:00",
          "1972-03-14T04:48:00",
          "1974-04-20T07:12:00",
          "1976-05-26T09:36:00",
          "1978-07-02T12:00:00",
          "1980-08-07T15:24:00",
          "1982-09-13T17:48:00",
          "1984-10-19T19:12:00",
          "1986-11-25T21:36:00"
         ],
         "y": {
          "bdata": "xi7LYIamfT+cmysHWst0P4vVv09Q/Wo/tWgRiwNFcz+5cwn7/iZqP1/5GObO62s/79/AASiufz8lE8K5KMRzP1Cp8xXNInA/O5zCv7Zqez8=",
          "dtype": "f8"
         }
        },
        {
         "hovertemplate": "<b>%{text}</b>",
         "line": {
          "width": 3
         },
         "marker": {
          "color": "#B68100",
          "line": {
           "color": "black",
           "width": 2
          },
          "size": 14
         },
         "mode": "markers+lines",
         "name": "174_církevní_církevních_církevního_církevním",
         "text": [
          "laik, officium, apoštolští, koncilních, koncilu, koncilní",
          "kristus, svaté, papež, vatikánských, biskup, vídeňáci",
          "kostelní, mnichov, starokatolický, starokatolická, diecézními, věroučnými",
          "církevní, církevním, církevního, církevních, kněžského, bohoslužbách",
          "církevních, církevní, kněžské, církev, kostel, církevního",
          "církevní, církevních, katolických, kostel, kněžských, církev",
          "církevní, církev, kostela, kristových, faráři, světci",
          "církevní, církevního, náboženského, vzkázaly, zbožným, biskupova",
          "církevní, církevních, církevního, církevním, církevně, kostelní",
          "církevní, církevních, církevním, církevního, kostelní, církví"
         ],
         "type": "scatter",
         "x": [
          "1968-01-01T00:00:00",
          "1970-02-06T02:24:00",
          "1972-03-14T04:48:00",
          "1974-04-20T07:12:00",
          "1976-05-26T09:36:00",
          "1978-07-02T12:00:00",
          "1980-08-07T15:24:00",
          "1982-09-13T17:48:00",
          "1984-10-19T19:12:00",
          "1986-11-25T21:36:00"
         ],
         "y": {
          "bdata": "IMXk6NcVOz9HBKW0n6FEP20+gH+ffFI/IZqnm1R+cz+CMEEs0WJyPz068GCf13Q/1xN5p8TaXz+As51u9B9fP/SCkunL4X4/70WJO9A2eD8=",
          "dtype": "f8"
         }
        },
        {
         "hovertemplate": "<b>%{text}</b>",
         "line": {
          "width": 3
         },
         "marker": {
          "color": "#750D86",
          "line": {
           "color": "black",
           "width": 2
          },
          "size": 14
         },
         "mode": "markers+lines",
         "name": "175_humoristique_satirique_měl_vždyí",
         "text": [
          "ciziny, kardinál, kavárny, římském, mlékárny, wafers",
          "krajané, jesenského, českosiovenska, václav, pochodněmi, scházeli",
          "humoristique, satirique, le, kdys, vždyí, měli",
          "humoristique, satirique, měl, měli, le, vždyí",
          "humoristique, satirique, měl, pana, měli, měla",
          "humoristique, měl, kdys, ciziny, václav, měli",
          "měl, vždyí, zahrál, svatosvatě, františku, jisto",
          "humoristique, satirique, vždyí, měl, bič, václav",
          "měl, měli, année, tvrdí, kdys, vždyí",
          "humoristique, satirique, měl, kdys, něm, année"
         ],
         "type": "scatter",
         "x": [
          "1968-01-01T00:00:00",
          "1970-02-06T02:24:00",
          "1972-03-14T04:48:00",
          "1974-04-20T07:12:00",
          "1976-05-26T09:36:00",
          "1978-07-02T12:00:00",
          "1980-08-07T15:24:00",
          "1982-09-13T17:48:00",
          "1984-10-19T19:12:00",
          "1986-11-25T21:36:00"
         ],
         "y": {
          "bdata": "x+4vC857Nz+QSPk5wiJHP/o7VGEt3I0/eGLJ8XUAkz9ptHZ2DWOMP7l9Qt7GMH0/mE2YnMAxXz8ABj88lnCEP2jUzo7foHU/rN3rXzHsgj8=",
          "dtype": "f8"
         }
        },
        {
         "hovertemplate": "<b>%{text}</b>",
         "line": {
          "width": 3
         },
         "marker": {
          "color": "#EB663B",
          "line": {
           "color": "black",
           "width": 2
          },
          "size": 14
         },
         "mode": "markers+lines",
         "name": "176_časopisu_časopis_magazín_časopisy",
         "text": [
          "publikoval, časopisu, časopis, článk, publikaci, správou",
          "časopisu, časopis, publikaci, vydalo, vydána, článk",
          "časopis, zeitschrift, časopisu, magazín, magazin, neuzeitlich",
          "časopisu, časopis, časopisy, časopise, článk, vydáno",
          "časopis, časopisu, časopisy, časopisem, vydaných, vydával",
          "časopis, časopisu, magazín, časopisy, zeitschrift, vydavatel",
          "časopis, časopisu, magazín, zeitschrift, nakladatelství, magazin",
          "časopisu, časopis, magazín, časopisy, zeitschrift, magazine",
          "časopisu, časopis, revue, reportéru, magazín, vydala",
          "časopisu, časopis, časopisy, časopise, magazínu, magazin"
         ],
         "type": "scatter",
         "x": [
          "1968-01-01T00:00:00",
          "1970-02-06T02:24:00",
          "1972-03-14T04:48:00",
          "1974-04-20T07:12:00",
          "1976-05-26T09:36:00",
          "1978-07-02T12:00:00",
          "1980-08-07T15:24:00",
          "1982-09-13T17:48:00",
          "1984-10-19T19:12:00",
          "1986-11-25T21:36:00"
         ],
         "y": {
          "bdata": "SlK/5P0kWj+8Po28qbBwPyhdpdjqCHc/HeDT7V2EfT8xqrID6OZ4P36w9VF3QYo/ansjtcVyiT8rGCM2rrqCP7g3F/3kS24/yKRBOrqadD8=",
          "dtype": "f8"
         }
        },
        {
         "hovertemplate": "<b>%{text}</b>",
         "line": {
          "width": 3
         },
         "marker": {
          "color": "#511CFB",
          "line": {
           "color": "black",
           "width": 2
          },
          "size": 14
         },
         "mode": "markers+lines",
         "name": "177_uherského_uherském_svatováclavské_uherský",
         "text": [
          "uherského, brněnském, východoslovenské, uherský, vojtěchově, uherském",
          "uherského, drážďanský, brněnského, českoněmecký, ježíšových, uherský",
          "uherského, uherském, českoamerický, uherský, čechoslovácích, českomoravském",
          "uherského, uherském, vydávány, zveřejnil, vydanou, publikuje",
          "uherského, svatováclavské, brněnského, zavedl, děkanského, zdislavě",
          "uherského, uherském, bratislavských, ceskosloven, vladimíre, czechoslovakias",
          "uherského, uherském, uherských, svatováclavské, uherský, vyšehradského",
          "uherského, uherském, slezsko, uherská, blahoslavenou, svatováclavské",
          "uherského, uherském, bratislavských, bratislavským, svatováclavskou, čechoslovácích",
          "uherského, svatováclavské, českobudějovické, svatováclavských, uherském, jaroslava"
         ],
         "type": "scatter",
         "x": [
          "1968-01-01T00:00:00",
          "1970-02-06T02:24:00",
          "1972-03-14T04:48:00",
          "1974-04-20T07:12:00",
          "1976-05-26T09:36:00",
          "1978-07-02T12:00:00",
          "1980-08-07T15:24:00",
          "1982-09-13T17:48:00",
          "1984-10-19T19:12:00",
          "1986-11-25T21:36:00"
         ],
         "y": {
          "bdata": "XvZnaE3RVT9dysa7R0JXPz09HCDyp1E/EQI4+opyUj/v9vgDPFNQP+iDMXFuez8/5aQIUIjiVj+5w9AynG5ZP17AtOMOKl4/tTv+gCNoVD8=",
          "dtype": "f8"
         }
        },
        {
         "hovertemplate": "<b>%{text}</b>",
         "line": {
          "width": 3
         },
         "marker": {
          "color": "#00A08B",
          "line": {
           "color": "black",
           "width": 2
          },
          "size": 14
         },
         "mode": "markers+lines",
         "name": "178_kristovu_kristovo_světci_kristovým",
         "text": [
          "kristovo, zavedl, apoštolských, laik, světských, kristovým",
          "kristovu, kristovo, ježíšových, apoštolského, svatému, spásu",
          "vatikáně, kristovým, vatikáne, spásu, kristovu, apoštolským",
          "kristovu, kazatel, vysvěceni, evangelíci, evangeliu, světci",
          "spásu, kristovým, kristovo, ježíšovi, spásy, ježíšovým",
          "kristovu, kristovo, světci, kristovým, kazatele, zasvětí",
          "kristovu, světci, svatodušních, apoštolově, svatodušní, zasvětit",
          "kristovu, kristovo, kristovým, světci, apoštolově, zbožný",
          "spásu, kristovu, svatosti, kristovým, apoštolově, světské",
          "kristovu, kristovo, kristovým, svatém, zbožný, světci"
         ],
         "type": "scatter",
         "x": [
          "1968-01-01T00:00:00",
          "1970-02-06T02:24:00",
          "1972-03-14T04:48:00",
          "1974-04-20T07:12:00",
          "1976-05-26T09:36:00",
          "1978-07-02T12:00:00",
          "1980-08-07T15:24:00",
          "1982-09-13T17:48:00",
          "1984-10-19T19:12:00",
          "1986-11-25T21:36:00"
         ],
         "y": {
          "bdata": "Ehioa/q6YT/JiyrIrbJuP02aJUZVznQ/iVy1X7kAbD8vSP/Lz0FyP1kT0jSFlYE/KvgS3K7wej8gRnkiVJ55P1r5/16OEHI/bBi38jfudT8=",
          "dtype": "f8"
         }
        },
        {
         "hovertemplate": "<b>%{text}</b>",
         "line": {
          "width": 3
         },
         "marker": {
          "color": "#FB00D1",
          "line": {
           "color": "black",
           "width": 2
          },
          "size": 14
         },
         "mode": "markers+lines",
         "name": "179_vás_svém_svou_měl",
         "text": [
          "postfach, vážený, obálce, bankovkou, omluvu, čtenáři",
          "byly, vás, král, králové, těšili, sedláka",
          "měl, spocený, pán, obslouží, dlabou, tvrdí",
          "vás, pán, pána, pane, svého, rádi",
          "vás, svou, pane, svém, měl, pán",
          "vás, svém, pán, tvrdí, tvj, měl",
          "vás, svou, svého, pana, zve, svém",
          "vás, svém, měl, tvrdí, vašek, ták",
          "vás, pane, měl, svou, svém, kdys",
          "vás, rádi, svou, svém, milda, vždyí"
         ],
         "type": "scatter",
         "x": [
          "1968-01-01T00:00:00",
          "1970-02-06T02:24:00",
          "1972-03-14T04:48:00",
          "1974-04-20T07:12:00",
          "1976-05-26T09:36:00",
          "1978-07-02T12:00:00",
          "1980-08-07T15:24:00",
          "1982-09-13T17:48:00",
          "1984-10-19T19:12:00",
          "1986-11-25T21:36:00"
         ],
         "y": {
          "bdata": "yDLyA3pyMz/AFK2Et75TP0mYFWDzMGE/4TGj9dpVbT/C2x9KfdCEP+rAmjfy04A/j0hltbQ9cT8g/4B0zwlxP7JBYltkbIA/U7jTPVSMdD8=",
          "dtype": "f8"
         }
        },
        {
         "hovertemplate": "<b>%{text}</b>",
         "line": {
          "width": 3
         },
         "marker": {
          "color": "#FC0080",
          "line": {
           "color": "black",
           "width": 2
          },
          "size": 14
         },
         "mode": "markers+lines",
         "name": "180_právech_stíhaných_výslech_zúčastnil",
         "text": [
          "přednesl, úřední, zúčastnil, náměstkem, presidia, pořádá",
          "protistátní, státníci, výslechy, propagandy, vládnych, oznamovatel",
          "novinám, ministerstvo, stanoví, zastupoval, uvádí, vládnych",
          "represivnímu, represivním, protestním, protiprávní, antisovětský, represivní",
          "právech, výsleších, výslechy, výslechu, informoval, uvedeným",
          "právech, stíhaných, výslech, upozornil, výslechy, výslechu",
          "právech, stíhaných, stíháni, výslech, zastupoval, předložil",
          "právech, stanoví, úřadm, předpis, ústavy, pojednání",
          "právech, statut, stíhaných, zúčastnil, stíháni, přednesl",
          "právech, zúčastnil, uvedených, stíhaných, zastupoval, stanoví"
         ],
         "type": "scatter",
         "x": [
          "1968-01-01T00:00:00",
          "1970-02-06T02:24:00",
          "1972-03-14T04:48:00",
          "1974-04-20T07:12:00",
          "1976-05-26T09:36:00",
          "1978-07-02T12:00:00",
          "1980-08-07T15:24:00",
          "1982-09-13T17:48:00",
          "1984-10-19T19:12:00",
          "1986-11-25T21:36:00"
         ],
         "y": {
          "bdata": "r/3FxprhZD+Gdjh1N6JkPwChQ/tQmXE/V/zo57b9bD+r23ZJRBeLP5T47B8QyZc/YIQLp4MCiT+X7WxrSp1+P0OZXt4CnoU/UazweFkHkD8=",
          "dtype": "f8"
         }
        },
        {
         "hovertemplate": "<b>%{text}</b>",
         "line": {
          "width": 3
         },
         "marker": {
          "color": "#B2828D",
          "line": {
           "color": "black",
           "width": 2
          },
          "size": 14
         },
         "mode": "markers+lines",
         "name": "181_vatikánského_papežské_vatikánský_vatikánské",
         "text": [
          "vatikánského, vatikánské, vatikánských, vatikánský, papežovu, vatikánském",
          "pravoslavným, starokatolickou, starokatolické, benediktina, listinou, benediktově",
          "papežské, vatikánského, vatikán, vatikánský, vatikánských, papežském",
          "papežské, vatikánského, italský, papežská, italském, vatikánskému",
          "papežem, papežské, bohoslovce, papežovou, papežského, svatém",
          "vatikánského, papežově, vatikánské, světcova, vatikánský, papežská",
          "papežské, vatikánský, vatikánského, papežem, papežskou, papežský",
          "vatikánská, vatikánskou, vatikánské, vatikánský, vatikánského, vatikánských",
          "papežské, vatikánském, vatikánského, vatikánský, papežskou, papežském",
          "vatikánského, papežem, vatikánské, papežskou, vatikánská, vatikánu"
         ],
         "type": "scatter",
         "x": [
          "1968-01-01T00:00:00",
          "1970-02-06T02:24:00",
          "1972-03-14T04:48:00",
          "1974-04-20T07:12:00",
          "1976-05-26T09:36:00",
          "1978-07-02T12:00:00",
          "1980-08-07T15:24:00",
          "1982-09-13T17:48:00",
          "1984-10-19T19:12:00",
          "1986-11-25T21:36:00"
         ],
         "y": {
          "bdata": "b8rqU5mjcT/4tFnUduo7PzYGHI/ZrHc/4uNvyKnFYD+bNtdA8yFyP450lBuUF4M/GcJFHL68fD/RTom/YvlfP0ngXcrY2n0/j/EczgMSdD8=",
          "dtype": "f8"
         }
        },
        {
         "hovertemplate": "<b>%{text}</b>",
         "line": {
          "width": 3
         },
         "marker": {
          "color": "#6C7C32",
          "line": {
           "color": "black",
           "width": 2
          },
          "size": 14
         },
         "mode": "markers+lines",
         "name": "182_mírové_mírových_mírového_míru",
         "text": [
          "mezinárodního, světové, mezinárodním, světového, světě, zahraniční",
          "mezinárodním, mírové, mezinárodního, míry, celoevropské, světový",
          "mírové, míry, mírových, vojína, státnost, válce",
          "mezinárodního, mezinárodním, světového, světových, mezinárodnímu, mezinárodních",
          "mírovému, sdružení, mírové, pokojových, mírového, 1978",
          "jednání, mezistátní, mezinárodního, dialóg, světových, severu",
          "mírového, míru, svetovej, světových, mírových, mírové",
          "míru, mír, mírových, mírového, mírovému, mírovém",
          "mírových, mírové, mírovému, mírovými, mírového, mírovém",
          "mírových, mírové, míru, mírového, mír, mírová"
         ],
         "type": "scatter",
         "x": [
          "1968-01-01T00:00:00",
          "1970-02-06T02:24:00",
          "1972-03-14T04:48:00",
          "1974-04-20T07:12:00",
          "1976-05-26T09:36:00",
          "1978-07-02T12:00:00",
          "1980-08-07T15:24:00",
          "1982-09-13T17:48:00",
          "1984-10-19T19:12:00",
          "1986-11-25T21:36:00"
         ],
         "y": {
          "bdata": "7ManQu+WZj8lYSgJkfmDPzvCUyE49Xk/rsizi88jYz98cZh/ThBtP0l0qrWTLXA/IaUJmzOadj/dtZraa4Z2P3qFYk3vAIA//i7RPdLqhj8=",
          "dtype": "f8"
         }
        },
        {
         "hovertemplate": "<b>%{text}</b>",
         "line": {
          "width": 3
         },
         "marker": {
          "color": "#778AAE",
          "line": {
           "color": "black",
           "width": 2
          },
          "size": 14
         },
         "mode": "markers+lines",
         "name": "183_skladby_skladbě_skladba_skladbou",
         "text": [
          "koncert, hudebního, hudebním, recital, harfenistka, festivalu",
          "návladního, revue, vydalo, vytýčili, týdeníkem, vydáno",
          "publikovány, válku, válkou, vydáno, válka, válkv",
          "skladbu, skladba, skladby, skladbách, recitační, skladbě",
          "zpěv, zpívá, písní, báseň, balada, pevnou",
          "vypráví, znít, dával, zbožných, spočívala, zasvěcen",
          "skladbou, skladby, skladbě, pořadu, jazzpetit, jazzovej",
          "znít, válečného, vojína, válkou, válce, válečné",
          "touto, skladbou, předvedl, jazzovou, jazzový, signatáři",
          "skladba, skladbě, skladby, skladbou, jazzovou, skladbu"
         ],
         "type": "scatter",
         "x": [
          "1968-01-01T00:00:00",
          "1970-02-06T02:24:00",
          "1972-03-14T04:48:00",
          "1974-04-20T07:12:00",
          "1976-05-26T09:36:00",
          "1978-07-02T12:00:00",
          "1980-08-07T15:24:00",
          "1982-09-13T17:48:00",
          "1984-10-19T19:12:00",
          "1986-11-25T21:36:00"
         ],
         "y": {
          "bdata": "oM1Va+qaXT/wo5/BIu0+P+y4C3TfHk4/8HMaKKO/aj/tN0KYRZpVP/j0xpIte1Q/h+XiUDcgbj9S3lzaC7RWP2OaW2VD5Vo/C+b7CniAgz8=",
          "dtype": "f8"
         }
        },
        {
         "hovertemplate": "<b>%{text}</b>",
         "line": {
          "width": 3
         },
         "marker": {
          "color": "#862A16",
          "line": {
           "color": "black",
           "width": 2
          },
          "size": 14
         },
         "mode": "markers+lines",
         "name": "184_sovietskej_sovietska_sovietskeho_sovietskom",
         "text": [
          "soviet, jihoslovanských, pražskej, ceskosloven, soviety, sovietska",
          "sovietska, sovietskom, sovietsky, sovietskych, sovietského, sovietskej",
          "soviet, sovětským, soviets, dvořákovu, soběslavovi, československosovětského",
          "sovietskej, sovietskom, sovietska, sovietskeho, sovietskych, sovieti",
          "sovietskej, sovietov, vydávání, soviet, sovietska, sovětskoamerických",
          "sovietskej, sovietov, sovietom, sovietskeho, sovieti, vladimírem",
          "sovietov, sovietskej, sovietskom, sovietska, sovietskych, komunistov",
          "sovietov, sovietskemu, sovieti, soviet, sovietskej, sovietskeho",
          "soviet, sovietskemu, sovětským, bratislavských, sovietizácii, sovietska",
          "sovietskeho, sovietskej, sovietska, sovietskom, sovietskemu, sovietsku"
         ],
         "type": "scatter",
         "x": [
          "1968-01-01T00:00:00",
          "1970-02-06T02:24:00",
          "1972-03-14T04:48:00",
          "1974-04-20T07:12:00",
          "1976-05-26T09:36:00",
          "1978-07-02T12:00:00",
          "1980-08-07T15:24:00",
          "1982-09-13T17:48:00",
          "1984-10-19T19:12:00",
          "1986-11-25T21:36:00"
         ],
         "y": {
          "bdata": "L3WNugUTWz904bKkHOCBP9a4IAeg+10/3qdIZ+WZdz+AJAgjZP5yP+is4lRlRXw/0a4SMvHjcz9G4X8KfSt/P8nNcOpUumE/qKhfhEPSbD8=",
          "dtype": "f8"
         }
        },
        {
         "hovertemplate": "<b>%{text}</b>",
         "line": {
          "width": 3
         },
         "marker": {
          "color": "#A777F1",
          "line": {
           "color": "black",
           "width": 2
          },
          "size": 14
         },
         "mode": "markers+lines",
         "name": "185_svaté_božímu_zbožnosti_boží",
         "text": [
          "zbožného, apoštolským, zbožná, svátost, svátému, weltwoche",
          "svaté, boží, svatí, král, královna, královně",
          "boží, zbožnosti, božský, božské, zbožné, všemohúci",
          "svaté, zbožný, božetěch, allerheiligen, vysvěcen, milosrdenstvo",
          "svaté, svatodušní, zbožnosti, vysvěcen, zbožnost, svátému",
          "svaté, svatosti, milost, modlili, boží, božího",
          "svaté, modlí, božímu, modli, milostí, svatost",
          "svaté, božímu, svatému, boží, svátostné, milosti",
          "svaté, božímu, svatost, zbožnosti, svatému, bohoslužbu",
          "svaté, božímu, zbožnosti, svatému, zbožnost, bohoslužeb"
         ],
         "type": "scatter",
         "x": [
          "1968-01-01T00:00:00",
          "1970-02-06T02:24:00",
          "1972-03-14T04:48:00",
          "1974-04-20T07:12:00",
          "1976-05-26T09:36:00",
          "1978-07-02T12:00:00",
          "1980-08-07T15:24:00",
          "1982-09-13T17:48:00",
          "1984-10-19T19:12:00",
          "1986-11-25T21:36:00"
         ],
         "y": {
          "bdata": "QQDlT+EoTj+yIKYrkiNxPz+qWQFuhmA/cn55Qr9Abz+aBPnHgCd6P0o/xIgJ04k/OFYkm6Qjij+9IfXCXQSLP+gbK3mTn4g/K0cInJQjhj8=",
          "dtype": "f8"
         }
        },
        {
         "hovertemplate": "<b>%{text}</b>",
         "line": {
          "width": 3
         },
         "marker": {
          "color": "#620042",
          "line": {
           "color": "black",
           "width": 2
          },
          "size": 14
         },
         "mode": "markers+lines",
         "name": "186_dokument_dokumentu_charta_dokumenty",
         "text": [
          "dokument, vydat, redakci, vydávají, zašleteli, ceník",
          "dokumenty, dokument, úřady, vydána, zastupitelským, oznámení",
          "dokument, dokumenty, uveřejnily, zbrojovka, uveřejněním, vydáván",
          "dokumentu, dokumenty, vydávali, vydávaly, poznamenán, redakci",
          "dokument, dokumenty, charta, dokumentu, ustanovení, signatáři",
          "dokumentu, dokument, charta, dokumenty, ustanovení, signatáři",
          "charta, dopis, dokumentu, dopisu, dokument, ustanovení",
          "charta, dokument, ustanovení, dokumentu, dokumenty, uvedených",
          "dokumentu, dokument, charta, dokumenty, ustanovení, dokumentem",
          "dokumentu, charta, dokument, ustanovení, dokumenty, ústavu"
         ],
         "type": "scatter",
         "x": [
          "1968-01-01T00:00:00",
          "1970-02-06T02:24:00",
          "1972-03-14T04:48:00",
          "1974-04-20T07:12:00",
          "1976-05-26T09:36:00",
          "1978-07-02T12:00:00",
          "1980-08-07T15:24:00",
          "1982-09-13T17:48:00",
          "1984-10-19T19:12:00",
          "1986-11-25T21:36:00"
         ],
         "y": {
          "bdata": "d1nWncRRaz+T1CEj8LRsP6ZfQJMuDWY/E0dLa8S4cD+bsBiE90KbPwoWkBAXKpA/b9oKYZjWgT8Q3IEctCKVP1qvJpQVJ5c/3ZFM9yuzkT8=",
          "dtype": "f8"
         }
        },
        {
         "hovertemplate": "<b>%{text}</b>",
         "line": {
          "width": 3
         },
         "marker": {
          "color": "#1616A7",
          "line": {
           "color": "black",
           "width": 2
          },
          "size": 14
         },
         "mode": "markers+lines",
         "name": "187_zní_natolik_zazní_kra",
         "text": [
          "zní, vyšehrad, obsadil, ježíšovi, zavedl, vz",
          "zní, českobratrská, kolínský, brněnského, usnuli, sna",
          "zní, zazní, zřídil, zacházel, pěvecký, publikovány",
          "zní, vydá, výrazu, bolševismu, letech, námět",
          "zní, vojtěcha, kterém, vydány, předkládali, vojtěchem",
          "zní, spočíval, letech, taková, brněnské, létech",
          "zní, kdyz, hleděl, natolik, zazní, zazněl",
          "zní, natolik, zítřek, uváděl, zažili, ztratily",
          "zní, ztotožnil, kra, epizodou, čtenářsky, docházel",
          "zní, natolik, zazní, kra, zazněl, vydá"
         ],
         "type": "scatter",
         "x": [
          "1968-01-01T00:00:00",
          "1970-02-06T02:24:00",
          "1972-03-14T04:48:00",
          "1974-04-20T07:12:00",
          "1976-05-26T09:36:00",
          "1978-07-02T12:00:00",
          "1980-08-07T15:24:00",
          "1982-09-13T17:48:00",
          "1984-10-19T19:12:00",
          "1986-11-25T21:36:00"
         ],
         "y": {
          "bdata": "g8Lq05KygT/Rba3pxj2CP/6B+wZl1Ig/DVvOtlkakD9f6qp2M4+IPzfMBGLQpIc/Y7GP9cCikj+anjxf8+KTPwIAREJxlpc/zXlk8Auqnj8=",
          "dtype": "f8"
         }
        },
        {
         "hovertemplate": "<b>%{text}</b>",
         "line": {
          "width": 3
         },
         "marker": {
          "color": "#DA60CA",
          "line": {
           "color": "black",
           "width": 2
          },
          "size": 14
         },
         "mode": "markers+lines",
         "name": "188_demokratické_demokracie_demokracii_demokratickou",
         "text": [
          "svobodovi, svobodě, svobody, svobodu, svoboda, svobod",
          "chile, chilská, chilský, diktaturou, chilského, zákonodárné",
          "demokratickou, demokratických, demokratický, španělsko, demokratismus, španělsku",
          "demokracii, demokracie, demokratickému, demokratickém, demokratické, demokratická",
          "demokracií, demokrati, demokracie, represivních, tiraně, vládu",
          "demokratické, demokratických, demokratická, výbor, zvolení, vládních",
          "protistátních, politických, stranických, politické, politickým, politický",
          "demokracie, demokracii, demokratického, demokratické, demokratický, demokratických",
          "demokracie, sozialdemokratische, sociálnědemokratické, sociálnědemokratických, mezinárodněpolitických, demokratické",
          "demokratické, demokratická, demokracie, demokratickou, demokracii, demokraticky"
         ],
         "type": "scatter",
         "x": [
          "1968-01-01T00:00:00",
          "1970-02-06T02:24:00",
          "1972-03-14T04:48:00",
          "1974-04-20T07:12:00",
          "1976-05-26T09:36:00",
          "1978-07-02T12:00:00",
          "1980-08-07T15:24:00",
          "1982-09-13T17:48:00",
          "1984-10-19T19:12:00",
          "1986-11-25T21:36:00"
         ],
         "y": {
          "bdata": "2cYse7OnQT/V+jqkU7JRPzs8X2gpm2Y/5s/hCMjVcz+ZPFzXDg1SPyIrDqaop2o/DSXTHD21TD8fD4fFxqNrPza0XmXQal4/OlGoq/JhgD8=",
          "dtype": "f8"
         }
        },
        {
         "hovertemplate": "<b>%{text}</b>",
         "line": {
          "width": 3
         },
         "marker": {
          "color": "#6C4516",
          "line": {
           "color": "black",
           "width": 2
          },
          "size": 14
         },
         "mode": "markers+lines",
         "name": "189_považuje_vydá_uvádí_považovali",
         "text": [
          "považuje, zavedl, jubilejním, okresu, ozývají, stanul",
          "letopočtu, zasvětil, světcově, přízeň, kazatelská, údělem",
          "považuje, vydá, považovali, uvádí, zavedli, zbývalo",
          "považuje, vydá, kterému, prazevysočanech, vládnym, režimního",
          "považuje, vydá, poznamenal, považovali, erscheint, považoval",
          "považuje, otázkách, mínění, připadajících, vydá, příslušnými",
          "považuje, zajíma, vydá, kterém, spočívalo, zně",
          "považuje, považoval, poznamenal, zdraznil, svěřil, předkládá",
          "považuje, považovali, zavedl, kterém, vydá, poznamenal",
          "považuje, uvádí, měla, vydá, kterému, poznamenal"
         ],
         "type": "scatter",
         "x": [
          "1968-01-01T00:00:00",
          "1970-02-06T02:24:00",
          "1972-03-14T04:48:00",
          "1974-04-20T07:12:00",
          "1976-05-26T09:36:00",
          "1978-07-02T12:00:00",
          "1980-08-07T15:24:00",
          "1982-09-13T17:48:00",
          "1984-10-19T19:12:00",
          "1986-11-25T21:36:00"
         ],
         "y": {
          "bdata": "5KUXvhPndj9ywXBMC0RiP/TgdJ4uGng/nvVHdvCIcz+eYtpmCgmCPyHyCLbMuHQ/1+WWf2fhgj8lOdqsoDCIPywNPp3AU4Q/pgAYyAyPkD8=",
          "dtype": "f8"
         }
        },
        {
         "hovertemplate": "<b>%{text}</b>",
         "line": {
          "width": 3
         },
         "marker": {
          "color": "#0D2A63",
          "line": {
           "color": "black",
           "width": 2
          },
          "size": 14
         },
         "mode": "markers+lines",
         "name": "190_vydal_vydalo_vydala_přednesl",
         "text": [
          "vydal, vydala, vydalo, vydán, životopisných, sjezdem",
          "vydal, vydala, vydalo, měsíčníku, redakci, vyšehradskou",
          "vydal, vydala, sjezdového, sjezdových, zveřejnily, vídeňské",
          "vydal, kdys, zabýval, vydalo, přednesl, zbývalo",
          "vydal, vydala, vydalo, dověděl, ledna, vydali",
          "vydal, vydala, přednesl, čísle, úředního, charta",
          "vydal, měly, vydalo, zařídil, tvrdí, komu",
          "vydal, ledna, poznámce, protihabsburský, vypravěčských, ztroskotalo",
          "vydal, vydalo, vydala, referovali, zřízenec, předkládá",
          "vydal, vydalo, petici, přednesl, vydali, vydala"
         ],
         "type": "scatter",
         "x": [
          "1968-01-01T00:00:00",
          "1970-02-06T02:24:00",
          "1972-03-14T04:48:00",
          "1974-04-20T07:12:00",
          "1976-05-26T09:36:00",
          "1978-07-02T12:00:00",
          "1980-08-07T15:24:00",
          "1982-09-13T17:48:00",
          "1984-10-19T19:12:00",
          "1986-11-25T21:36:00"
         ],
         "y": {
          "bdata": "OQhCLGVQhT9yFjsGpnp2P6PYpTIqhI8/+rY6bMJHiD+bJ0KfdAuDPwafaMzYG4M/5navLzimdj/Un26ewodvPwVVswqhnIQ/2nnDR1Cckj8=",
          "dtype": "f8"
         }
        },
        {
         "hovertemplate": "<b>%{text}</b>",
         "line": {
          "width": 3
         },
         "marker": {
          "color": "#AF0038",
          "line": {
           "color": "black",
           "width": 2
          },
          "size": 14
         },
         "mode": "markers+lines",
         "name": "191_svj_zas_jakou_komu",
         "text": [
          "svj, voj, komu, vï, ktei, převedl",
          "rého, zamířil, usnuli, sna, ztichlé, zpě",
          "svj, komu, měli, radovaly, dkazem, sváta",
          "svj, krajana, vždyí, panem, zlobil, drážďanský",
          "svj, jakou, zas, zasyčel, měly, poznamenal",
          "svj, zas, komu, jakou, vypráví, dne",
          "svj, jakou, nichž, ri, určuje, jichž",
          "svj, vypráví, ježíše, ri, ními, vždyí",
          "svj, zas, měli, komu, jakou, drazí",
          "svj, komu, zas, jichž, nichž, zaslal"
         ],
         "type": "scatter",
         "x": [
          "1968-01-01T00:00:00",
          "1970-02-06T02:24:00",
          "1972-03-14T04:48:00",
          "1974-04-20T07:12:00",
          "1976-05-26T09:36:00",
          "1978-07-02T12:00:00",
          "1980-08-07T15:24:00",
          "1982-09-13T17:48:00",
          "1984-10-19T19:12:00",
          "1986-11-25T21:36:00"
         ],
         "y": {
          "bdata": "HyKc67w7bT+d1piiUMNGPyEtD0zmM3E/04+bzoeidj8osEv4NTyEP3XmNfu5cIY/ftKtPR1LjD8Rq9IEEwl7P89PlmNeY4Q/LgcfwmV7hj8=",
          "dtype": "f8"
         }
        },
        {
         "hovertemplate": "<b>%{text}</b>",
         "line": {
          "width": 3
         },
         "marker": {
          "color": "#2E91E5",
          "line": {
           "color": "black",
           "width": 2
          },
          "size": 14
         },
         "mode": "markers+lines",
         "name": "192_bratislavě_češtinou_slovenska_bratislavském",
         "text": [
          "bratislavě, bratislavském, čáslavská, slezského, brněnským, svatováclavském",
          "bratislavě, varhanní, yorského, německého, českobudějovický, témž",
          "bratislavě, innsbruku, plzeňská, pěvecký, zacházel, vladimírem",
          "bratislavě, českobratrsky, slovenského, vydávali, yorské, včerejškem",
          "bratislavě, varhany, bělehradské, brněnské, koslovensku, weltwoche",
          "bratislavě, brněnského, brněnském, brněnský, brněnská, brněnské",
          "bratislavě, bürgerhausu, plzeňského, slezska, kristova, polskými",
          "bratislavě, bratislavského, slovenskými, bratislavou, svazu, ztotožnil",
          "bratislavě, mnichovského, budapešťskému, bratislavském, novomeského, češtinou",
          "bratislavě, slovenska, češtinou, křestansky, václavské, křestanského"
         ],
         "type": "scatter",
         "x": [
          "1968-01-01T00:00:00",
          "1970-02-06T02:24:00",
          "1972-03-14T04:48:00",
          "1974-04-20T07:12:00",
          "1976-05-26T09:36:00",
          "1978-07-02T12:00:00",
          "1980-08-07T15:24:00",
          "1982-09-13T17:48:00",
          "1984-10-19T19:12:00",
          "1986-11-25T21:36:00"
         ],
         "y": {
          "bdata": "Mp1wlUttjD9Su0B3VNOQP+s38X2FXYU/fw2+qNEwgz/+i1uusBCDPwLw7jmJBX4/m1SA1WBagj8qOkBIjlWPP/F+ewCkFIQ/Do/j5BUJkj8=",
          "dtype": "f8"
         }
        },
        {
         "hovertemplate": "<b>%{text}</b>",
         "line": {
          "width": 3
         },
         "marker": {
          "color": "#E15F99",
          "line": {
           "color": "black",
           "width": 2
          },
          "size": 14
         },
         "mode": "markers+lines",
         "name": "193_republice_vlasta_republika_vlastenecké",
         "text": [
          "republice, novinové, sdělí, jubilejním, poválečných, jihlavským",
          "republice, zemím, novočeskými, republika, přednesl, republikou",
          "republice, pořádá, ústav, vojtěcha, zašleteli, československosovětského",
          "republice, krajané, vlastenecké, revolucí, jihoslovanského, vladimíre",
          "republice, cizími, publikoval, cituji, článk, štátné",
          "republice, odboru, pobytu, příslušníci, vlastě, popularczechoslovak",
          "republice, osmdesát, americe, republika, prosovětské, plzeňského",
          "republice, časopisu, tvrzníková, pobytu, jaroslava, časopisem",
          "republice, yorské, zastávali, římská, sokolskému, týdenní",
          "republice, václavském, zúčastnil, vlastenecké, překladem, předložila"
         ],
         "type": "scatter",
         "x": [
          "1968-01-01T00:00:00",
          "1970-02-06T02:24:00",
          "1972-03-14T04:48:00",
          "1974-04-20T07:12:00",
          "1976-05-26T09:36:00",
          "1978-07-02T12:00:00",
          "1980-08-07T15:24:00",
          "1982-09-13T17:48:00",
          "1984-10-19T19:12:00",
          "1986-11-25T21:36:00"
         ],
         "y": {
          "bdata": "FsuVDBKxmz+gaL/cXy2NP0AJIm6RNpA/E3tL98jDkj+BlFEJfo6IP1rYsGG4iIw/Jc8cRt5AgT/5fUWIJGCFP76IeYTvnJE/fM4hJScTiT8=",
          "dtype": "f8"
         }
        },
        {
         "hovertemplate": "<b>%{text}</b>",
         "line": {
          "width": 3
         },
         "marker": {
          "color": "#1CA71C",
          "line": {
           "color": "black",
           "width": 2
          },
          "size": 14
         },
         "mode": "markers+lines",
         "name": "194_protisovětské_protistátní_protisocialistické_protikomunistické",
         "text": [
          "protisovětské, protisovětským, protisovětský, protisovětských, československosovětského, václavské",
          "protisovětské, protisocialistické, protisovětský, kontrarevoluční, socialistickému, protistátních",
          "protisovětské, protikomunistické, protisocialistické, socialistickému, minulém, období",
          "protisovětské, antisovětismu, komunistickém, antikomuni, antikomunistické, protisovětskou",
          "protisovětské, protistátní, protikomunistické, opozičními, kontrarevoluci, kontrarevoluční",
          "protisovětské, represivních, protistátního, protistátní, komunistickou, protisocialistické",
          "protisovětské, protistátní, stalinismu, stalinově, stalinovým, stalinského",
          "protisovětské, protikomunistické, protisovětskou, protisovětským, protisovětských, ceskoslovenskej",
          "protisovětské, stalinově, stalinovým, stalinské, stalinského, stalinovy",
          "protisovětské, demonstracích, protisocialistických, protestní, demonstraci, antikomunismu"
         ],
         "type": "scatter",
         "x": [
          "1968-01-01T00:00:00",
          "1970-02-06T02:24:00",
          "1972-03-14T04:48:00",
          "1974-04-20T07:12:00",
          "1976-05-26T09:36:00",
          "1978-07-02T12:00:00",
          "1980-08-07T15:24:00",
          "1982-09-13T17:48:00",
          "1984-10-19T19:12:00",
          "1986-11-25T21:36:00"
         ],
         "y": {
          "bdata": "ympPMWEwfj8kcj3ZfueXP7fYKFIYuIA/N8A2y5JYgz+z6Ciro06EP/xDOGjb+4E/wVxyEFARfD+PLgaDLSB6P/TMEu5z2HQ/RMGOc61ngD8=",
          "dtype": "f8"
         }
        },
        {
         "hovertemplate": "<b>%{text}</b>",
         "line": {
          "width": 3
         },
         "marker": {
          "color": "#FB0D0D",
          "line": {
           "color": "black",
           "width": 2
          },
          "size": 14
         },
         "mode": "markers+lines",
         "name": "195_poštovné_poštovní_listytýdeník_listyweekly",
         "text": [
          "poštovným, poštovní, poštovné, cena, cenu, ceně",
          "poštovní, poštovné, poštou, poštovného, celním, kronikou",
          "poštovného, ceník, prix, 25, poštovní, cena",
          "poštovného, poštovné, poštovní, redakci, časopis, poštou",
          "poštovné, poštovného, poštovní, postfach, dopisem, dopis",
          "poštovné, poštovní, poštovného, novinám, hospodářského, hospodářská",
          "poštovné, poštovní, československapředplácení, časopisu, 1948, uherském",
          "poštovné, poštovní, poštovného, osmdesát, poštou, měsíčně",
          "poštovní, poštovné, poštou, nov, časopis, velvyslanectví",
          "poštovné, listytýdeník, poštovní, listyweekly, poštou, novinka"
         ],
         "type": "scatter",
         "x": [
          "1968-01-01T00:00:00",
          "1970-02-06T02:24:00",
          "1972-03-14T04:48:00",
          "1974-04-20T07:12:00",
          "1976-05-26T09:36:00",
          "1978-07-02T12:00:00",
          "1980-08-07T15:24:00",
          "1982-09-13T17:48:00",
          "1984-10-19T19:12:00",
          "1986-11-25T21:36:00"
         ],
         "y": {
          "bdata": "WyXUWw6rcz/+2k9EcQR4P8VF/ZH2fXI/VG/aAq3ccj8FHlBianh9P/21F7jXWns/ImghSH80gT/kzlFMMyeIP0zSuAe4snk/yLmulmJikT8=",
          "dtype": "f8"
         }
        },
        {
         "hovertemplate": "<b>%{text}</b>",
         "line": {
          "width": 3
         },
         "marker": {
          "color": "#DA16FF",
          "line": {
           "color": "black",
           "width": 2
          },
          "size": 14
         },
         "mode": "markers+lines",
         "name": "196_pojišťovna_pojistky_pojistku_pojištěné",
         "text": [
          "pojištění, pojišťovna, stáří, zajištění, pojistky, dlouholeté",
          "pojišťovnám, pojištění, pojišťovna, švýcarska, švýcary, schweiz",
          "pojistky, pojistku, pojišťovna, pojištěné, částka, inflaci",
          "1975, výpovědí, nezaplacení, zaplatil, zaplatit, zaplacena",
          "jahresabonnement, úhradu, payable, platit, předplatitelé, předplatitele",
          "compact, pojistka, versicherung, pojistce, pojišťovna, pojištění",
          "poplatky, cena, cenu, ceny, náklady, honoráře",
          "vydávaná, hodnostáře, cenami, knihařské, měsíčníkem, cestopisech",
          "příplatek, platit, poplatk, zaplacené, poplatky, cenách",
          "platit, příplatek, poštovného, zaplatit, splátek, úhradu"
         ],
         "type": "scatter",
         "x": [
          "1968-01-01T00:00:00",
          "1970-02-06T02:24:00",
          "1972-03-14T04:48:00",
          "1974-04-20T07:12:00",
          "1976-05-26T09:36:00",
          "1978-07-02T12:00:00",
          "1980-08-07T15:24:00",
          "1982-09-13T17:48:00",
          "1984-10-19T19:12:00",
          "1986-11-25T21:36:00"
         ],
         "y": {
          "bdata": "sbyrziXigT+ZT5j4owKEP0AiV4K9yKc/XqKUDG29Yz+xdBxFoZlrPzrdmb5qo1U/8deC4q2SVz8sWA1+wHJIP0l6ecvzf2E/jafUSIfpVD8=",
          "dtype": "f8"
         }
        },
        {
         "hovertemplate": "<b>%{text}</b>",
         "line": {
          "width": 3
         },
         "marker": {
          "color": "#222A2A",
          "line": {
           "color": "black",
           "width": 2
          },
          "size": 14
         },
         "mode": "markers+lines",
         "name": "197_věřících_křesťanské_křesťanského_kristus",
         "text": [
          "veroničina, katechismu, christiana, krista, křesťanského, náboženským",
          "kristu, kněz, křesťanského, vzkříšení, křesťanství, mnichově",
          "křesťanské, křesťanských, křesťané, kristovými, kristově, věřících",
          "kristových, křesťana, křesťan, křesťanského, křesťanských, kristv",
          "světci, vysvěcen, uctíváme, radostně, smiluje, blahořečení",
          "kristus, apoštolově, vírou, víra, kristově, svatodušních",
          "kristus, vyznání, věřícím, křesťanského, křesťanské, křesťanská",
          "věřícím, věřících, křesťanské, víře, vírou, kristus",
          "náboženské, věřících, náboženskou, kristv, křesťanskými, věřícím",
          "vírou, věřících, věřícím, kristově, křesťanské, křesťanského"
         ],
         "type": "scatter",
         "x": [
          "1968-01-01T00:00:00",
          "1970-02-06T02:24:00",
          "1972-03-14T04:48:00",
          "1974-04-20T07:12:00",
          "1976-05-26T09:36:00",
          "1978-07-02T12:00:00",
          "1980-08-07T15:24:00",
          "1982-09-13T17:48:00",
          "1984-10-19T19:12:00",
          "1986-11-25T21:36:00"
         ],
         "y": {
          "bdata": "+Lg0MyH3bD9JLWOT3INjP/gDzwOmGIo/Dg26zL95eT+YwMx2fGVjP9m9X/DyOI0/UZFkTeSAiD8dsgZMGTyLP+8sR1IyB4U/P3R8rz7CiT8=",
          "dtype": "f8"
         }
        },
        {
         "hovertemplate": "<b>%{text}</b>",
         "line": {
          "width": 3
         },
         "marker": {
          "color": "#B68100",
          "line": {
           "color": "black",
           "width": 2
          },
          "size": 14
         },
         "mode": "markers+lines",
         "name": "198_založil_vydával_zavedl_zakládal",
         "text": [
          "založil, římskému, veroničina, kristovo, římského, italskému",
          "založil, vratislav, církevněslovanské, uděl, hleděl, staletého",
          "založil, zastupoval, vydával, brněnskou, založila, přemítal",
          "založil, jubilejním, zavedl, zařídil, zvá, naardenského",
          "založil, zřídil, ježíškovi, zavedl, novinových, svatováclavským",
          "založil, vydával, uvádí, zveřejnil, vydalo, dával",
          "založil, zažil, natolik, zchátralou, zavedl, zpracoval",
          "založil, zavedl, zpracoval, svátostem, zasvěcence, natolik",
          "založil, verši, hradní, zakládal, zachtělo, zazní",
          "založil, vydalo, vydával, nacházel, odehrál, měsíčníkinformacekulturapolitika1883"
         ],
         "type": "scatter",
         "x": [
          "1968-01-01T00:00:00",
          "1970-02-06T02:24:00",
          "1972-03-14T04:48:00",
          "1974-04-20T07:12:00",
          "1976-05-26T09:36:00",
          "1978-07-02T12:00:00",
          "1980-08-07T15:24:00",
          "1982-09-13T17:48:00",
          "1984-10-19T19:12:00",
          "1986-11-25T21:36:00"
         ],
         "y": {
          "bdata": "Q7pR4cjDkD9V8D7ujVV5P6S2Nwof8Y8/Xy3+RCIKjD9NnooiIcmIP8J9+7lwD4w/2Ts1IKlZjT8S5ndD1VSLP6u6T6Cv/JE/PJWsfqm5lD8=",
          "dtype": "f8"
         }
        },
        {
         "hovertemplate": "<b>%{text}</b>",
         "line": {
          "width": 3
         },
         "marker": {
          "color": "#750D86",
          "line": {
           "color": "black",
           "width": 2
          },
          "size": 14
         },
         "mode": "markers+lines",
         "name": "199_holandsku_ročníkjaargang_nederlandse_holandštiny",
         "text": [
          "stredoslovenského, tsjechoslowaakse, vlaštovka, vojtěchem, rotterdamském, zwijndrecht",
          "německem, nemecku, českošvýcarská, západoněmeckých, slovákom, západoněmeckým",
          "nizozemí, nederland, holandsko, holandska, holandská, holandsku",
          "holandsku, německu, skautská, skautského, deutsche, skaut",
          "holandsku, českoholandský, plzeňském, holandskou, českoněmeckou, holandského",
          "holandsku, holandskou, ročníkjaargang, nederlandse, českoholandský, holanďan",
          "holandsku, ročníkjaargang, plzeňském, holandskou, holandském, nederlandse",
          "holandštiny, holandsku, ročníkjaargang, holandskočeský, duitsland, lwnijmegen",
          "holandštiny, holanštiny, holandsku, nederlandse, holandským, holandskočeský",
          "holandsku, holanštiny, nederlandse, holandského, holandským, holandské"
         ],
         "type": "scatter",
         "x": [
          "1968-01-01T00:00:00",
          "1970-02-06T02:24:00",
          "1972-03-14T04:48:00",
          "1974-04-20T07:12:00",
          "1976-05-26T09:36:00",
          "1978-07-02T12:00:00",
          "1980-08-07T15:24:00",
          "1982-09-13T17:48:00",
          "1984-10-19T19:12:00",
          "1986-11-25T21:36:00"
         ],
         "y": {
          "bdata": "eYh1MyzkbT9L17sW2UxhP3rfzYalTXI/sMtVHmAAej/VSD8x7j12P93ePyD68JI/9p/zm1jhgz+b75ok8G+BP6IXh0rjQIE/fZIHeYRBeT8=",
          "dtype": "f8"
         }
        }
       ],
       "layout": {
        "font": {
         "family": "Roboto Mono"
        },
        "hoverlabel": {
         "bgcolor": "white",
         "font": {
          "size": 16
         }
        },
        "hovermode": "x",
        "shapes": [
         {
          "line": {
           "dash": "dash"
          },
          "opacity": 0.5,
          "type": "line",
          "x0": 0,
          "x1": 1,
          "xref": "x domain",
          "y0": 0,
          "y1": 0,
          "yref": "y"
         }
        ],
        "template": {
         "data": {
          "bar": [
           {
            "error_x": {
             "color": "#2a3f5f"
            },
            "error_y": {
             "color": "#2a3f5f"
            },
            "marker": {
             "line": {
              "color": "white",
              "width": 0.5
             },
             "pattern": {
              "fillmode": "overlay",
              "size": 10,
              "solidity": 0.2
             }
            },
            "type": "bar"
           }
          ],
          "barpolar": [
           {
            "marker": {
             "line": {
              "color": "white",
              "width": 0.5
             },
             "pattern": {
              "fillmode": "overlay",
              "size": 10,
              "solidity": 0.2
             }
            },
            "type": "barpolar"
           }
          ],
          "carpet": [
           {
            "aaxis": {
             "endlinecolor": "#2a3f5f",
             "gridcolor": "#C8D4E3",
             "linecolor": "#C8D4E3",
             "minorgridcolor": "#C8D4E3",
             "startlinecolor": "#2a3f5f"
            },
            "baxis": {
             "endlinecolor": "#2a3f5f",
             "gridcolor": "#C8D4E3",
             "linecolor": "#C8D4E3",
             "minorgridcolor": "#C8D4E3",
             "startlinecolor": "#2a3f5f"
            },
            "type": "carpet"
           }
          ],
          "choropleth": [
           {
            "colorbar": {
             "outlinewidth": 0,
             "ticks": ""
            },
            "type": "choropleth"
           }
          ],
          "contour": [
           {
            "colorbar": {
             "outlinewidth": 0,
             "ticks": ""
            },
            "colorscale": [
             [
              0,
              "#0d0887"
             ],
             [
              0.1111111111111111,
              "#46039f"
             ],
             [
              0.2222222222222222,
              "#7201a8"
             ],
             [
              0.3333333333333333,
              "#9c179e"
             ],
             [
              0.4444444444444444,
              "#bd3786"
             ],
             [
              0.5555555555555556,
              "#d8576b"
             ],
             [
              0.6666666666666666,
              "#ed7953"
             ],
             [
              0.7777777777777778,
              "#fb9f3a"
             ],
             [
              0.8888888888888888,
              "#fdca26"
             ],
             [
              1,
              "#f0f921"
             ]
            ],
            "type": "contour"
           }
          ],
          "contourcarpet": [
           {
            "colorbar": {
             "outlinewidth": 0,
             "ticks": ""
            },
            "type": "contourcarpet"
           }
          ],
          "heatmap": [
           {
            "colorbar": {
             "outlinewidth": 0,
             "ticks": ""
            },
            "colorscale": [
             [
              0,
              "#0d0887"
             ],
             [
              0.1111111111111111,
              "#46039f"
             ],
             [
              0.2222222222222222,
              "#7201a8"
             ],
             [
              0.3333333333333333,
              "#9c179e"
             ],
             [
              0.4444444444444444,
              "#bd3786"
             ],
             [
              0.5555555555555556,
              "#d8576b"
             ],
             [
              0.6666666666666666,
              "#ed7953"
             ],
             [
              0.7777777777777778,
              "#fb9f3a"
             ],
             [
              0.8888888888888888,
              "#fdca26"
             ],
             [
              1,
              "#f0f921"
             ]
            ],
            "type": "heatmap"
           }
          ],
          "histogram": [
           {
            "marker": {
             "pattern": {
              "fillmode": "overlay",
              "size": 10,
              "solidity": 0.2
             }
            },
            "type": "histogram"
           }
          ],
          "histogram2d": [
           {
            "colorbar": {
             "outlinewidth": 0,
             "ticks": ""
            },
            "colorscale": [
             [
              0,
              "#0d0887"
             ],
             [
              0.1111111111111111,
              "#46039f"
             ],
             [
              0.2222222222222222,
              "#7201a8"
             ],
             [
              0.3333333333333333,
              "#9c179e"
             ],
             [
              0.4444444444444444,
              "#bd3786"
             ],
             [
              0.5555555555555556,
              "#d8576b"
             ],
             [
              0.6666666666666666,
              "#ed7953"
             ],
             [
              0.7777777777777778,
              "#fb9f3a"
             ],
             [
              0.8888888888888888,
              "#fdca26"
             ],
             [
              1,
              "#f0f921"
             ]
            ],
            "type": "histogram2d"
           }
          ],
          "histogram2dcontour": [
           {
            "colorbar": {
             "outlinewidth": 0,
             "ticks": ""
            },
            "colorscale": [
             [
              0,
              "#0d0887"
             ],
             [
              0.1111111111111111,
              "#46039f"
             ],
             [
              0.2222222222222222,
              "#7201a8"
             ],
             [
              0.3333333333333333,
              "#9c179e"
             ],
             [
              0.4444444444444444,
              "#bd3786"
             ],
             [
              0.5555555555555556,
              "#d8576b"
             ],
             [
              0.6666666666666666,
              "#ed7953"
             ],
             [
              0.7777777777777778,
              "#fb9f3a"
             ],
             [
              0.8888888888888888,
              "#fdca26"
             ],
             [
              1,
              "#f0f921"
             ]
            ],
            "type": "histogram2dcontour"
           }
          ],
          "mesh3d": [
           {
            "colorbar": {
             "outlinewidth": 0,
             "ticks": ""
            },
            "type": "mesh3d"
           }
          ],
          "parcoords": [
           {
            "line": {
             "colorbar": {
              "outlinewidth": 0,
              "ticks": ""
             }
            },
            "type": "parcoords"
           }
          ],
          "pie": [
           {
            "automargin": true,
            "type": "pie"
           }
          ],
          "scatter": [
           {
            "fillpattern": {
             "fillmode": "overlay",
             "size": 10,
             "solidity": 0.2
            },
            "type": "scatter"
           }
          ],
          "scatter3d": [
           {
            "line": {
             "colorbar": {
              "outlinewidth": 0,
              "ticks": ""
             }
            },
            "marker": {
             "colorbar": {
              "outlinewidth": 0,
              "ticks": ""
             }
            },
            "type": "scatter3d"
           }
          ],
          "scattercarpet": [
           {
            "marker": {
             "colorbar": {
              "outlinewidth": 0,
              "ticks": ""
             }
            },
            "type": "scattercarpet"
           }
          ],
          "scattergeo": [
           {
            "marker": {
             "colorbar": {
              "outlinewidth": 0,
              "ticks": ""
             }
            },
            "type": "scattergeo"
           }
          ],
          "scattergl": [
           {
            "marker": {
             "colorbar": {
              "outlinewidth": 0,
              "ticks": ""
             }
            },
            "type": "scattergl"
           }
          ],
          "scattermap": [
           {
            "marker": {
             "colorbar": {
              "outlinewidth": 0,
              "ticks": ""
             }
            },
            "type": "scattermap"
           }
          ],
          "scattermapbox": [
           {
            "marker": {
             "colorbar": {
              "outlinewidth": 0,
              "ticks": ""
             }
            },
            "type": "scattermapbox"
           }
          ],
          "scatterpolar": [
           {
            "marker": {
             "colorbar": {
              "outlinewidth": 0,
              "ticks": ""
             }
            },
            "type": "scatterpolar"
           }
          ],
          "scatterpolargl": [
           {
            "marker": {
             "colorbar": {
              "outlinewidth": 0,
              "ticks": ""
             }
            },
            "type": "scatterpolargl"
           }
          ],
          "scatterternary": [
           {
            "marker": {
             "colorbar": {
              "outlinewidth": 0,
              "ticks": ""
             }
            },
            "type": "scatterternary"
           }
          ],
          "surface": [
           {
            "colorbar": {
             "outlinewidth": 0,
             "ticks": ""
            },
            "colorscale": [
             [
              0,
              "#0d0887"
             ],
             [
              0.1111111111111111,
              "#46039f"
             ],
             [
              0.2222222222222222,
              "#7201a8"
             ],
             [
              0.3333333333333333,
              "#9c179e"
             ],
             [
              0.4444444444444444,
              "#bd3786"
             ],
             [
              0.5555555555555556,
              "#d8576b"
             ],
             [
              0.6666666666666666,
              "#ed7953"
             ],
             [
              0.7777777777777778,
              "#fb9f3a"
             ],
             [
              0.8888888888888888,
              "#fdca26"
             ],
             [
              1,
              "#f0f921"
             ]
            ],
            "type": "surface"
           }
          ],
          "table": [
           {
            "cells": {
             "fill": {
              "color": "#EBF0F8"
             },
             "line": {
              "color": "white"
             }
            },
            "header": {
             "fill": {
              "color": "#C8D4E3"
             },
             "line": {
              "color": "white"
             }
            },
            "type": "table"
           }
          ]
         },
         "layout": {
          "annotationdefaults": {
           "arrowcolor": "#2a3f5f",
           "arrowhead": 0,
           "arrowwidth": 1
          },
          "autotypenumbers": "strict",
          "coloraxis": {
           "colorbar": {
            "outlinewidth": 0,
            "ticks": ""
           }
          },
          "colorscale": {
           "diverging": [
            [
             0,
             "#8e0152"
            ],
            [
             0.1,
             "#c51b7d"
            ],
            [
             0.2,
             "#de77ae"
            ],
            [
             0.3,
             "#f1b6da"
            ],
            [
             0.4,
             "#fde0ef"
            ],
            [
             0.5,
             "#f7f7f7"
            ],
            [
             0.6,
             "#e6f5d0"
            ],
            [
             0.7,
             "#b8e186"
            ],
            [
             0.8,
             "#7fbc41"
            ],
            [
             0.9,
             "#4d9221"
            ],
            [
             1,
             "#276419"
            ]
           ],
           "sequential": [
            [
             0,
             "#0d0887"
            ],
            [
             0.1111111111111111,
             "#46039f"
            ],
            [
             0.2222222222222222,
             "#7201a8"
            ],
            [
             0.3333333333333333,
             "#9c179e"
            ],
            [
             0.4444444444444444,
             "#bd3786"
            ],
            [
             0.5555555555555556,
             "#d8576b"
            ],
            [
             0.6666666666666666,
             "#ed7953"
            ],
            [
             0.7777777777777778,
             "#fb9f3a"
            ],
            [
             0.8888888888888888,
             "#fdca26"
            ],
            [
             1,
             "#f0f921"
            ]
           ],
           "sequentialminus": [
            [
             0,
             "#0d0887"
            ],
            [
             0.1111111111111111,
             "#46039f"
            ],
            [
             0.2222222222222222,
             "#7201a8"
            ],
            [
             0.3333333333333333,
             "#9c179e"
            ],
            [
             0.4444444444444444,
             "#bd3786"
            ],
            [
             0.5555555555555556,
             "#d8576b"
            ],
            [
             0.6666666666666666,
             "#ed7953"
            ],
            [
             0.7777777777777778,
             "#fb9f3a"
            ],
            [
             0.8888888888888888,
             "#fdca26"
            ],
            [
             1,
             "#f0f921"
            ]
           ]
          },
          "colorway": [
           "#636efa",
           "#EF553B",
           "#00cc96",
           "#ab63fa",
           "#FFA15A",
           "#19d3f3",
           "#FF6692",
           "#B6E880",
           "#FF97FF",
           "#FECB52"
          ],
          "font": {
           "color": "#2a3f5f"
          },
          "geo": {
           "bgcolor": "white",
           "lakecolor": "white",
           "landcolor": "white",
           "showlakes": true,
           "showland": true,
           "subunitcolor": "#C8D4E3"
          },
          "hoverlabel": {
           "align": "left"
          },
          "hovermode": "closest",
          "mapbox": {
           "style": "light"
          },
          "paper_bgcolor": "white",
          "plot_bgcolor": "white",
          "polar": {
           "angularaxis": {
            "gridcolor": "#EBF0F8",
            "linecolor": "#EBF0F8",
            "ticks": ""
           },
           "bgcolor": "white",
           "radialaxis": {
            "gridcolor": "#EBF0F8",
            "linecolor": "#EBF0F8",
            "ticks": ""
           }
          },
          "scene": {
           "xaxis": {
            "backgroundcolor": "white",
            "gridcolor": "#DFE8F3",
            "gridwidth": 2,
            "linecolor": "#EBF0F8",
            "showbackground": true,
            "ticks": "",
            "zerolinecolor": "#EBF0F8"
           },
           "yaxis": {
            "backgroundcolor": "white",
            "gridcolor": "#DFE8F3",
            "gridwidth": 2,
            "linecolor": "#EBF0F8",
            "showbackground": true,
            "ticks": "",
            "zerolinecolor": "#EBF0F8"
           },
           "zaxis": {
            "backgroundcolor": "white",
            "gridcolor": "#DFE8F3",
            "gridwidth": 2,
            "linecolor": "#EBF0F8",
            "showbackground": true,
            "ticks": "",
            "zerolinecolor": "#EBF0F8"
           }
          },
          "shapedefaults": {
           "line": {
            "color": "#2a3f5f"
           }
          },
          "ternary": {
           "aaxis": {
            "gridcolor": "#DFE8F3",
            "linecolor": "#A2B1C6",
            "ticks": ""
           },
           "baxis": {
            "gridcolor": "#DFE8F3",
            "linecolor": "#A2B1C6",
            "ticks": ""
           },
           "bgcolor": "white",
           "caxis": {
            "gridcolor": "#DFE8F3",
            "linecolor": "#A2B1C6",
            "ticks": ""
           }
          },
          "title": {
           "x": 0.05
          },
          "xaxis": {
           "automargin": true,
           "gridcolor": "#EBF0F8",
           "linecolor": "#EBF0F8",
           "ticks": "",
           "title": {
            "standoff": 15
           },
           "zerolinecolor": "#EBF0F8",
           "zerolinewidth": 2
          },
          "yaxis": {
           "automargin": true,
           "gridcolor": "#EBF0F8",
           "linecolor": "#EBF0F8",
           "ticks": "",
           "title": {
            "standoff": 15
           },
           "zerolinecolor": "#EBF0F8",
           "zerolinewidth": 2
          }
         }
        },
        "xaxis": {
         "title": {
          "text": "Time Slice Start"
         }
        },
        "yaxis": {
         "title": {
          "text": "Topic Importance"
         }
        }
       }
      }
     },
     "metadata": {},
     "output_type": "display_data"
    }
   ],
   "source": [
    "model_keynmf.plot_topics_over_time()"
   ]
  },
  {
   "cell_type": "code",
   "execution_count": 225,
   "metadata": {},
   "outputs": [],
   "source": [
    "# pickle model\n",
    "with open('model_keynmf_morning.pkl', 'wb') as f:\n",
    "    pickle.dump(model_keynmf, f)"
   ]
  },
  {
   "cell_type": "code",
   "execution_count": 285,
   "metadata": {},
   "outputs": [
    {
     "ename": "ValueError",
     "evalue": "After pruning, no terms remain. Try a lower min_df or a higher max_df.",
     "output_type": "error",
     "traceback": [
      "\u001b[0;31m---------------------------------------------------------------------------\u001b[0m",
      "\u001b[0;31mValueError\u001b[0m                                Traceback (most recent call last)",
      "Cell \u001b[0;32mIn[285], line 1\u001b[0m\n\u001b[0;32m----> 1\u001b[0m \u001b[43mmodel_keynmf\u001b[49m\u001b[38;5;241;43m.\u001b[39;49m\u001b[43mextract_keywords\u001b[49m\u001b[43m(\u001b[49m\u001b[43mtexts_clean\u001b[49m\u001b[43m[\u001b[49m\u001b[38;5;241;43m10\u001b[39;49m\u001b[43m]\u001b[49m\u001b[43m)\u001b[49m\n",
      "File \u001b[0;32m~/Documents/UniMarburg/Hackathon/SCRIPTUM/venv/lib/python3.9/site-packages/turftopic/models/keynmf.py:136\u001b[0m, in \u001b[0;36mKeyNMF.extract_keywords\u001b[0;34m(self, batch_or_document, embeddings, fitting)\u001b[0m\n\u001b[1;32m    134\u001b[0m \u001b[38;5;28;01mif\u001b[39;00m \u001b[38;5;28misinstance\u001b[39m(batch_or_document, \u001b[38;5;28mstr\u001b[39m):\n\u001b[1;32m    135\u001b[0m     batch_or_document \u001b[38;5;241m=\u001b[39m [batch_or_document]\n\u001b[0;32m--> 136\u001b[0m keywords \u001b[38;5;241m=\u001b[39m \u001b[38;5;28;43mself\u001b[39;49m\u001b[38;5;241;43m.\u001b[39;49m\u001b[43mextractor\u001b[49m\u001b[38;5;241;43m.\u001b[39;49m\u001b[43mbatch_extract_keywords\u001b[49m\u001b[43m(\u001b[49m\n\u001b[1;32m    137\u001b[0m \u001b[43m    \u001b[49m\u001b[43mbatch_or_document\u001b[49m\u001b[43m,\u001b[49m\n\u001b[1;32m    138\u001b[0m \u001b[43m    \u001b[49m\u001b[43membeddings\u001b[49m\u001b[38;5;241;43m=\u001b[39;49m\u001b[43membeddings\u001b[49m\u001b[43m,\u001b[49m\n\u001b[1;32m    139\u001b[0m \u001b[43m    \u001b[49m\u001b[43mseed_embedding\u001b[49m\u001b[38;5;241;43m=\u001b[39;49m\u001b[38;5;28;43mself\u001b[39;49m\u001b[38;5;241;43m.\u001b[39;49m\u001b[43mseed_embedding\u001b[49m\u001b[43m,\u001b[49m\n\u001b[1;32m    140\u001b[0m \u001b[43m    \u001b[49m\u001b[43mfitting\u001b[49m\u001b[38;5;241;43m=\u001b[39;49m\u001b[43mfitting\u001b[49m\u001b[43m,\u001b[49m\n\u001b[1;32m    141\u001b[0m \u001b[43m\u001b[49m\u001b[43m)\u001b[49m\n\u001b[1;32m    142\u001b[0m \u001b[38;5;28;01mif\u001b[39;00m \u001b[38;5;28mself\u001b[39m\u001b[38;5;241m.\u001b[39mcross_lingual:\n\u001b[1;32m    143\u001b[0m     keywords \u001b[38;5;241m=\u001b[39m \u001b[38;5;28mself\u001b[39m\u001b[38;5;241m.\u001b[39mextractor\u001b[38;5;241m.\u001b[39mmatch_terms(\n\u001b[1;32m    144\u001b[0m         keywords, threshold\u001b[38;5;241m=\u001b[39m\u001b[38;5;28mself\u001b[39m\u001b[38;5;241m.\u001b[39mterm_match_threshold\n\u001b[1;32m    145\u001b[0m     )\n",
      "File \u001b[0;32m~/Documents/UniMarburg/Hackathon/SCRIPTUM/venv/lib/python3.9/site-packages/turftopic/models/_keynmf.py:184\u001b[0m, in \u001b[0;36mSBertKeywordExtractor.batch_extract_keywords\u001b[0;34m(self, documents, embeddings, seed_embedding, fitting)\u001b[0m\n\u001b[1;32m    182\u001b[0m keywords \u001b[38;5;241m=\u001b[39m []\n\u001b[1;32m    183\u001b[0m \u001b[38;5;28;01mif\u001b[39;00m fitting:\n\u001b[0;32m--> 184\u001b[0m     document_term_matrix \u001b[38;5;241m=\u001b[39m \u001b[38;5;28;43mself\u001b[39;49m\u001b[38;5;241;43m.\u001b[39;49m\u001b[43mvectorizer\u001b[49m\u001b[38;5;241;43m.\u001b[39;49m\u001b[43mfit_transform\u001b[49m\u001b[43m(\u001b[49m\u001b[43mdocuments\u001b[49m\u001b[43m)\u001b[49m\n\u001b[1;32m    185\u001b[0m \u001b[38;5;28;01melse\u001b[39;00m:\n\u001b[1;32m    186\u001b[0m     document_term_matrix \u001b[38;5;241m=\u001b[39m \u001b[38;5;28mself\u001b[39m\u001b[38;5;241m.\u001b[39mvectorizer\u001b[38;5;241m.\u001b[39mtransform(documents)\n",
      "File \u001b[0;32m~/Documents/UniMarburg/Hackathon/SCRIPTUM/venv/lib/python3.9/site-packages/sklearn/base.py:1389\u001b[0m, in \u001b[0;36m_fit_context.<locals>.decorator.<locals>.wrapper\u001b[0;34m(estimator, *args, **kwargs)\u001b[0m\n\u001b[1;32m   1382\u001b[0m     estimator\u001b[38;5;241m.\u001b[39m_validate_params()\n\u001b[1;32m   1384\u001b[0m \u001b[38;5;28;01mwith\u001b[39;00m config_context(\n\u001b[1;32m   1385\u001b[0m     skip_parameter_validation\u001b[38;5;241m=\u001b[39m(\n\u001b[1;32m   1386\u001b[0m         prefer_skip_nested_validation \u001b[38;5;129;01mor\u001b[39;00m global_skip_validation\n\u001b[1;32m   1387\u001b[0m     )\n\u001b[1;32m   1388\u001b[0m ):\n\u001b[0;32m-> 1389\u001b[0m     \u001b[38;5;28;01mreturn\u001b[39;00m \u001b[43mfit_method\u001b[49m\u001b[43m(\u001b[49m\u001b[43mestimator\u001b[49m\u001b[43m,\u001b[49m\u001b[43m \u001b[49m\u001b[38;5;241;43m*\u001b[39;49m\u001b[43margs\u001b[49m\u001b[43m,\u001b[49m\u001b[43m \u001b[49m\u001b[38;5;241;43m*\u001b[39;49m\u001b[38;5;241;43m*\u001b[39;49m\u001b[43mkwargs\u001b[49m\u001b[43m)\u001b[49m\n",
      "File \u001b[0;32m~/Documents/UniMarburg/Hackathon/SCRIPTUM/venv/lib/python3.9/site-packages/sklearn/feature_extraction/text.py:1389\u001b[0m, in \u001b[0;36mCountVectorizer.fit_transform\u001b[0;34m(self, raw_documents, y)\u001b[0m\n\u001b[1;32m   1387\u001b[0m \u001b[38;5;28;01mif\u001b[39;00m max_features \u001b[38;5;129;01mis\u001b[39;00m \u001b[38;5;129;01mnot\u001b[39;00m \u001b[38;5;28;01mNone\u001b[39;00m:\n\u001b[1;32m   1388\u001b[0m     X \u001b[38;5;241m=\u001b[39m \u001b[38;5;28mself\u001b[39m\u001b[38;5;241m.\u001b[39m_sort_features(X, vocabulary)\n\u001b[0;32m-> 1389\u001b[0m X \u001b[38;5;241m=\u001b[39m \u001b[38;5;28;43mself\u001b[39;49m\u001b[38;5;241;43m.\u001b[39;49m\u001b[43m_limit_features\u001b[49m\u001b[43m(\u001b[49m\n\u001b[1;32m   1390\u001b[0m \u001b[43m    \u001b[49m\u001b[43mX\u001b[49m\u001b[43m,\u001b[49m\u001b[43m \u001b[49m\u001b[43mvocabulary\u001b[49m\u001b[43m,\u001b[49m\u001b[43m \u001b[49m\u001b[43mmax_doc_count\u001b[49m\u001b[43m,\u001b[49m\u001b[43m \u001b[49m\u001b[43mmin_doc_count\u001b[49m\u001b[43m,\u001b[49m\u001b[43m \u001b[49m\u001b[43mmax_features\u001b[49m\n\u001b[1;32m   1391\u001b[0m \u001b[43m\u001b[49m\u001b[43m)\u001b[49m\n\u001b[1;32m   1392\u001b[0m \u001b[38;5;28;01mif\u001b[39;00m max_features \u001b[38;5;129;01mis\u001b[39;00m \u001b[38;5;28;01mNone\u001b[39;00m:\n\u001b[1;32m   1393\u001b[0m     X \u001b[38;5;241m=\u001b[39m \u001b[38;5;28mself\u001b[39m\u001b[38;5;241m.\u001b[39m_sort_features(X, vocabulary)\n",
      "File \u001b[0;32m~/Documents/UniMarburg/Hackathon/SCRIPTUM/venv/lib/python3.9/site-packages/sklearn/feature_extraction/text.py:1241\u001b[0m, in \u001b[0;36mCountVectorizer._limit_features\u001b[0;34m(self, X, vocabulary, high, low, limit)\u001b[0m\n\u001b[1;32m   1239\u001b[0m kept_indices \u001b[38;5;241m=\u001b[39m np\u001b[38;5;241m.\u001b[39mwhere(mask)[\u001b[38;5;241m0\u001b[39m]\n\u001b[1;32m   1240\u001b[0m \u001b[38;5;28;01mif\u001b[39;00m \u001b[38;5;28mlen\u001b[39m(kept_indices) \u001b[38;5;241m==\u001b[39m \u001b[38;5;241m0\u001b[39m:\n\u001b[0;32m-> 1241\u001b[0m     \u001b[38;5;28;01mraise\u001b[39;00m \u001b[38;5;167;01mValueError\u001b[39;00m(\n\u001b[1;32m   1242\u001b[0m         \u001b[38;5;124m\"\u001b[39m\u001b[38;5;124mAfter pruning, no terms remain. Try a lower min_df or a higher max_df.\u001b[39m\u001b[38;5;124m\"\u001b[39m\n\u001b[1;32m   1243\u001b[0m     )\n\u001b[1;32m   1244\u001b[0m \u001b[38;5;28;01mreturn\u001b[39;00m X[:, kept_indices]\n",
      "\u001b[0;31mValueError\u001b[0m: After pruning, no terms remain. Try a lower min_df or a higher max_df."
     ]
    }
   ],
   "source": [
    "model_keynmf.extract_keywords(texts_clean[10])"
   ]
  },
  {
   "cell_type": "code",
   "execution_count": 279,
   "metadata": {},
   "outputs": [],
   "source": [
    "model_keynmf.print_topics()"
   ]
  },
  {
   "cell_type": "code",
   "execution_count": 20,
   "metadata": {},
   "outputs": [],
   "source": [
    "# !pip install ipywidgets"
   ]
  },
  {
   "cell_type": "code",
   "execution_count": 91,
   "metadata": {},
   "outputs": [
    {
     "data": {
      "application/vnd.jupyter.widget-view+json": {
       "model_id": "5d24e5f647e8441ba80788b36d580905",
       "version_major": 2,
       "version_minor": 0
      },
      "text/plain": [
       "Output()"
      ]
     },
     "metadata": {},
     "output_type": "display_data"
    },
    {
     "data": {
      "text/html": [
       "<pre style=\"white-space:pre;overflow-x:auto;line-height:normal;font-family:Menlo,'DejaVu Sans Mono',consolas,'Courier New',monospace\"><span style=\"color: #7fbfbf; text-decoration-color: #7fbfbf\">[01:03:02] </span>Keyword extraction done.                                                                   <a href=\"file:///Users/evaqw/Documents/UniMarburg/Hackathon/SCRIPTUM/venv/lib/python3.9/site-packages/turftopic/models/keynmf.py\" target=\"_blank\"><span style=\"color: #7f7f7f; text-decoration-color: #7f7f7f\">keynmf.py</span></a><span style=\"color: #7f7f7f; text-decoration-color: #7f7f7f\">:</span><a href=\"file:///Users/evaqw/Documents/UniMarburg/Hackathon/SCRIPTUM/venv/lib/python3.9/site-packages/turftopic/models/keynmf.py#228\" target=\"_blank\"><span style=\"color: #7f7f7f; text-decoration-color: #7f7f7f\">228</span></a>\n",
       "</pre>\n"
      ],
      "text/plain": [
       "\u001b[2;36m[01:03:02]\u001b[0m\u001b[2;36m \u001b[0mKeyword extraction done.                                                                   \u001b]8;id=441701;file:///Users/evaqw/Documents/UniMarburg/Hackathon/SCRIPTUM/venv/lib/python3.9/site-packages/turftopic/models/keynmf.py\u001b\\\u001b[2mkeynmf.py\u001b[0m\u001b]8;;\u001b\\\u001b[2m:\u001b[0m\u001b]8;id=412099;file:///Users/evaqw/Documents/UniMarburg/Hackathon/SCRIPTUM/venv/lib/python3.9/site-packages/turftopic/models/keynmf.py#228\u001b\\\u001b[2m228\u001b[0m\u001b]8;;\u001b\\\n"
      ]
     },
     "metadata": {},
     "output_type": "display_data"
    },
    {
     "data": {
      "text/html": [
       "<pre style=\"white-space:pre;overflow-x:auto;line-height:normal;font-family:Menlo,'DejaVu Sans Mono',consolas,'Courier New',monospace\"><span style=\"color: #7fbfbf; text-decoration-color: #7fbfbf\">           </span>Model fitting done.                                                                        <a href=\"file:///Users/evaqw/Documents/UniMarburg/Hackathon/SCRIPTUM/venv/lib/python3.9/site-packages/turftopic/models/keynmf.py\" target=\"_blank\"><span style=\"color: #7f7f7f; text-decoration-color: #7f7f7f\">keynmf.py</span></a><span style=\"color: #7f7f7f; text-decoration-color: #7f7f7f\">:</span><a href=\"file:///Users/evaqw/Documents/UniMarburg/Hackathon/SCRIPTUM/venv/lib/python3.9/site-packages/turftopic/models/keynmf.py#235\" target=\"_blank\"><span style=\"color: #7f7f7f; text-decoration-color: #7f7f7f\">235</span></a>\n",
       "</pre>\n"
      ],
      "text/plain": [
       "\u001b[2;36m          \u001b[0m\u001b[2;36m \u001b[0mModel fitting done.                                                                        \u001b]8;id=65832;file:///Users/evaqw/Documents/UniMarburg/Hackathon/SCRIPTUM/venv/lib/python3.9/site-packages/turftopic/models/keynmf.py\u001b\\\u001b[2mkeynmf.py\u001b[0m\u001b]8;;\u001b\\\u001b[2m:\u001b[0m\u001b]8;id=255877;file:///Users/evaqw/Documents/UniMarburg/Hackathon/SCRIPTUM/venv/lib/python3.9/site-packages/turftopic/models/keynmf.py#235\u001b\\\u001b[2m235\u001b[0m\u001b]8;;\u001b\\\n"
      ]
     },
     "metadata": {},
     "output_type": "display_data"
    },
    {
     "data": {
      "text/html": [
       "<pre style=\"white-space:pre;overflow-x:auto;line-height:normal;font-family:Menlo,'DejaVu Sans Mono',consolas,'Courier New',monospace\"></pre>\n"
      ],
      "text/plain": []
     },
     "metadata": {},
     "output_type": "display_data"
    },
    {
     "data": {
      "text/html": [
       "<style>#sk-container-id-2 {\n",
       "  /* Definition of color scheme common for light and dark mode */\n",
       "  --sklearn-color-text: #000;\n",
       "  --sklearn-color-text-muted: #666;\n",
       "  --sklearn-color-line: gray;\n",
       "  /* Definition of color scheme for unfitted estimators */\n",
       "  --sklearn-color-unfitted-level-0: #fff5e6;\n",
       "  --sklearn-color-unfitted-level-1: #f6e4d2;\n",
       "  --sklearn-color-unfitted-level-2: #ffe0b3;\n",
       "  --sklearn-color-unfitted-level-3: chocolate;\n",
       "  /* Definition of color scheme for fitted estimators */\n",
       "  --sklearn-color-fitted-level-0: #f0f8ff;\n",
       "  --sklearn-color-fitted-level-1: #d4ebff;\n",
       "  --sklearn-color-fitted-level-2: #b3dbfd;\n",
       "  --sklearn-color-fitted-level-3: cornflowerblue;\n",
       "\n",
       "  /* Specific color for light theme */\n",
       "  --sklearn-color-text-on-default-background: var(--sg-text-color, var(--theme-code-foreground, var(--jp-content-font-color1, black)));\n",
       "  --sklearn-color-background: var(--sg-background-color, var(--theme-background, var(--jp-layout-color0, white)));\n",
       "  --sklearn-color-border-box: var(--sg-text-color, var(--theme-code-foreground, var(--jp-content-font-color1, black)));\n",
       "  --sklearn-color-icon: #696969;\n",
       "\n",
       "  @media (prefers-color-scheme: dark) {\n",
       "    /* Redefinition of color scheme for dark theme */\n",
       "    --sklearn-color-text-on-default-background: var(--sg-text-color, var(--theme-code-foreground, var(--jp-content-font-color1, white)));\n",
       "    --sklearn-color-background: var(--sg-background-color, var(--theme-background, var(--jp-layout-color0, #111)));\n",
       "    --sklearn-color-border-box: var(--sg-text-color, var(--theme-code-foreground, var(--jp-content-font-color1, white)));\n",
       "    --sklearn-color-icon: #878787;\n",
       "  }\n",
       "}\n",
       "\n",
       "#sk-container-id-2 {\n",
       "  color: var(--sklearn-color-text);\n",
       "}\n",
       "\n",
       "#sk-container-id-2 pre {\n",
       "  padding: 0;\n",
       "}\n",
       "\n",
       "#sk-container-id-2 input.sk-hidden--visually {\n",
       "  border: 0;\n",
       "  clip: rect(1px 1px 1px 1px);\n",
       "  clip: rect(1px, 1px, 1px, 1px);\n",
       "  height: 1px;\n",
       "  margin: -1px;\n",
       "  overflow: hidden;\n",
       "  padding: 0;\n",
       "  position: absolute;\n",
       "  width: 1px;\n",
       "}\n",
       "\n",
       "#sk-container-id-2 div.sk-dashed-wrapped {\n",
       "  border: 1px dashed var(--sklearn-color-line);\n",
       "  margin: 0 0.4em 0.5em 0.4em;\n",
       "  box-sizing: border-box;\n",
       "  padding-bottom: 0.4em;\n",
       "  background-color: var(--sklearn-color-background);\n",
       "}\n",
       "\n",
       "#sk-container-id-2 div.sk-container {\n",
       "  /* jupyter's `normalize.less` sets `[hidden] { display: none; }`\n",
       "     but bootstrap.min.css set `[hidden] { display: none !important; }`\n",
       "     so we also need the `!important` here to be able to override the\n",
       "     default hidden behavior on the sphinx rendered scikit-learn.org.\n",
       "     See: https://github.com/scikit-learn/scikit-learn/issues/21755 */\n",
       "  display: inline-block !important;\n",
       "  position: relative;\n",
       "}\n",
       "\n",
       "#sk-container-id-2 div.sk-text-repr-fallback {\n",
       "  display: none;\n",
       "}\n",
       "\n",
       "div.sk-parallel-item,\n",
       "div.sk-serial,\n",
       "div.sk-item {\n",
       "  /* draw centered vertical line to link estimators */\n",
       "  background-image: linear-gradient(var(--sklearn-color-text-on-default-background), var(--sklearn-color-text-on-default-background));\n",
       "  background-size: 2px 100%;\n",
       "  background-repeat: no-repeat;\n",
       "  background-position: center center;\n",
       "}\n",
       "\n",
       "/* Parallel-specific style estimator block */\n",
       "\n",
       "#sk-container-id-2 div.sk-parallel-item::after {\n",
       "  content: \"\";\n",
       "  width: 100%;\n",
       "  border-bottom: 2px solid var(--sklearn-color-text-on-default-background);\n",
       "  flex-grow: 1;\n",
       "}\n",
       "\n",
       "#sk-container-id-2 div.sk-parallel {\n",
       "  display: flex;\n",
       "  align-items: stretch;\n",
       "  justify-content: center;\n",
       "  background-color: var(--sklearn-color-background);\n",
       "  position: relative;\n",
       "}\n",
       "\n",
       "#sk-container-id-2 div.sk-parallel-item {\n",
       "  display: flex;\n",
       "  flex-direction: column;\n",
       "}\n",
       "\n",
       "#sk-container-id-2 div.sk-parallel-item:first-child::after {\n",
       "  align-self: flex-end;\n",
       "  width: 50%;\n",
       "}\n",
       "\n",
       "#sk-container-id-2 div.sk-parallel-item:last-child::after {\n",
       "  align-self: flex-start;\n",
       "  width: 50%;\n",
       "}\n",
       "\n",
       "#sk-container-id-2 div.sk-parallel-item:only-child::after {\n",
       "  width: 0;\n",
       "}\n",
       "\n",
       "/* Serial-specific style estimator block */\n",
       "\n",
       "#sk-container-id-2 div.sk-serial {\n",
       "  display: flex;\n",
       "  flex-direction: column;\n",
       "  align-items: center;\n",
       "  background-color: var(--sklearn-color-background);\n",
       "  padding-right: 1em;\n",
       "  padding-left: 1em;\n",
       "}\n",
       "\n",
       "\n",
       "/* Toggleable style: style used for estimator/Pipeline/ColumnTransformer box that is\n",
       "clickable and can be expanded/collapsed.\n",
       "- Pipeline and ColumnTransformer use this feature and define the default style\n",
       "- Estimators will overwrite some part of the style using the `sk-estimator` class\n",
       "*/\n",
       "\n",
       "/* Pipeline and ColumnTransformer style (default) */\n",
       "\n",
       "#sk-container-id-2 div.sk-toggleable {\n",
       "  /* Default theme specific background. It is overwritten whether we have a\n",
       "  specific estimator or a Pipeline/ColumnTransformer */\n",
       "  background-color: var(--sklearn-color-background);\n",
       "}\n",
       "\n",
       "/* Toggleable label */\n",
       "#sk-container-id-2 label.sk-toggleable__label {\n",
       "  cursor: pointer;\n",
       "  display: flex;\n",
       "  width: 100%;\n",
       "  margin-bottom: 0;\n",
       "  padding: 0.5em;\n",
       "  box-sizing: border-box;\n",
       "  text-align: center;\n",
       "  align-items: start;\n",
       "  justify-content: space-between;\n",
       "  gap: 0.5em;\n",
       "}\n",
       "\n",
       "#sk-container-id-2 label.sk-toggleable__label .caption {\n",
       "  font-size: 0.6rem;\n",
       "  font-weight: lighter;\n",
       "  color: var(--sklearn-color-text-muted);\n",
       "}\n",
       "\n",
       "#sk-container-id-2 label.sk-toggleable__label-arrow:before {\n",
       "  /* Arrow on the left of the label */\n",
       "  content: \"▸\";\n",
       "  float: left;\n",
       "  margin-right: 0.25em;\n",
       "  color: var(--sklearn-color-icon);\n",
       "}\n",
       "\n",
       "#sk-container-id-2 label.sk-toggleable__label-arrow:hover:before {\n",
       "  color: var(--sklearn-color-text);\n",
       "}\n",
       "\n",
       "/* Toggleable content - dropdown */\n",
       "\n",
       "#sk-container-id-2 div.sk-toggleable__content {\n",
       "  max-height: 0;\n",
       "  max-width: 0;\n",
       "  overflow: hidden;\n",
       "  text-align: left;\n",
       "  /* unfitted */\n",
       "  background-color: var(--sklearn-color-unfitted-level-0);\n",
       "}\n",
       "\n",
       "#sk-container-id-2 div.sk-toggleable__content.fitted {\n",
       "  /* fitted */\n",
       "  background-color: var(--sklearn-color-fitted-level-0);\n",
       "}\n",
       "\n",
       "#sk-container-id-2 div.sk-toggleable__content pre {\n",
       "  margin: 0.2em;\n",
       "  border-radius: 0.25em;\n",
       "  color: var(--sklearn-color-text);\n",
       "  /* unfitted */\n",
       "  background-color: var(--sklearn-color-unfitted-level-0);\n",
       "}\n",
       "\n",
       "#sk-container-id-2 div.sk-toggleable__content.fitted pre {\n",
       "  /* unfitted */\n",
       "  background-color: var(--sklearn-color-fitted-level-0);\n",
       "}\n",
       "\n",
       "#sk-container-id-2 input.sk-toggleable__control:checked~div.sk-toggleable__content {\n",
       "  /* Expand drop-down */\n",
       "  max-height: 200px;\n",
       "  max-width: 100%;\n",
       "  overflow: auto;\n",
       "}\n",
       "\n",
       "#sk-container-id-2 input.sk-toggleable__control:checked~label.sk-toggleable__label-arrow:before {\n",
       "  content: \"▾\";\n",
       "}\n",
       "\n",
       "/* Pipeline/ColumnTransformer-specific style */\n",
       "\n",
       "#sk-container-id-2 div.sk-label input.sk-toggleable__control:checked~label.sk-toggleable__label {\n",
       "  color: var(--sklearn-color-text);\n",
       "  background-color: var(--sklearn-color-unfitted-level-2);\n",
       "}\n",
       "\n",
       "#sk-container-id-2 div.sk-label.fitted input.sk-toggleable__control:checked~label.sk-toggleable__label {\n",
       "  background-color: var(--sklearn-color-fitted-level-2);\n",
       "}\n",
       "\n",
       "/* Estimator-specific style */\n",
       "\n",
       "/* Colorize estimator box */\n",
       "#sk-container-id-2 div.sk-estimator input.sk-toggleable__control:checked~label.sk-toggleable__label {\n",
       "  /* unfitted */\n",
       "  background-color: var(--sklearn-color-unfitted-level-2);\n",
       "}\n",
       "\n",
       "#sk-container-id-2 div.sk-estimator.fitted input.sk-toggleable__control:checked~label.sk-toggleable__label {\n",
       "  /* fitted */\n",
       "  background-color: var(--sklearn-color-fitted-level-2);\n",
       "}\n",
       "\n",
       "#sk-container-id-2 div.sk-label label.sk-toggleable__label,\n",
       "#sk-container-id-2 div.sk-label label {\n",
       "  /* The background is the default theme color */\n",
       "  color: var(--sklearn-color-text-on-default-background);\n",
       "}\n",
       "\n",
       "/* On hover, darken the color of the background */\n",
       "#sk-container-id-2 div.sk-label:hover label.sk-toggleable__label {\n",
       "  color: var(--sklearn-color-text);\n",
       "  background-color: var(--sklearn-color-unfitted-level-2);\n",
       "}\n",
       "\n",
       "/* Label box, darken color on hover, fitted */\n",
       "#sk-container-id-2 div.sk-label.fitted:hover label.sk-toggleable__label.fitted {\n",
       "  color: var(--sklearn-color-text);\n",
       "  background-color: var(--sklearn-color-fitted-level-2);\n",
       "}\n",
       "\n",
       "/* Estimator label */\n",
       "\n",
       "#sk-container-id-2 div.sk-label label {\n",
       "  font-family: monospace;\n",
       "  font-weight: bold;\n",
       "  display: inline-block;\n",
       "  line-height: 1.2em;\n",
       "}\n",
       "\n",
       "#sk-container-id-2 div.sk-label-container {\n",
       "  text-align: center;\n",
       "}\n",
       "\n",
       "/* Estimator-specific */\n",
       "#sk-container-id-2 div.sk-estimator {\n",
       "  font-family: monospace;\n",
       "  border: 1px dotted var(--sklearn-color-border-box);\n",
       "  border-radius: 0.25em;\n",
       "  box-sizing: border-box;\n",
       "  margin-bottom: 0.5em;\n",
       "  /* unfitted */\n",
       "  background-color: var(--sklearn-color-unfitted-level-0);\n",
       "}\n",
       "\n",
       "#sk-container-id-2 div.sk-estimator.fitted {\n",
       "  /* fitted */\n",
       "  background-color: var(--sklearn-color-fitted-level-0);\n",
       "}\n",
       "\n",
       "/* on hover */\n",
       "#sk-container-id-2 div.sk-estimator:hover {\n",
       "  /* unfitted */\n",
       "  background-color: var(--sklearn-color-unfitted-level-2);\n",
       "}\n",
       "\n",
       "#sk-container-id-2 div.sk-estimator.fitted:hover {\n",
       "  /* fitted */\n",
       "  background-color: var(--sklearn-color-fitted-level-2);\n",
       "}\n",
       "\n",
       "/* Specification for estimator info (e.g. \"i\" and \"?\") */\n",
       "\n",
       "/* Common style for \"i\" and \"?\" */\n",
       "\n",
       ".sk-estimator-doc-link,\n",
       "a:link.sk-estimator-doc-link,\n",
       "a:visited.sk-estimator-doc-link {\n",
       "  float: right;\n",
       "  font-size: smaller;\n",
       "  line-height: 1em;\n",
       "  font-family: monospace;\n",
       "  background-color: var(--sklearn-color-background);\n",
       "  border-radius: 1em;\n",
       "  height: 1em;\n",
       "  width: 1em;\n",
       "  text-decoration: none !important;\n",
       "  margin-left: 0.5em;\n",
       "  text-align: center;\n",
       "  /* unfitted */\n",
       "  border: var(--sklearn-color-unfitted-level-1) 1pt solid;\n",
       "  color: var(--sklearn-color-unfitted-level-1);\n",
       "}\n",
       "\n",
       ".sk-estimator-doc-link.fitted,\n",
       "a:link.sk-estimator-doc-link.fitted,\n",
       "a:visited.sk-estimator-doc-link.fitted {\n",
       "  /* fitted */\n",
       "  border: var(--sklearn-color-fitted-level-1) 1pt solid;\n",
       "  color: var(--sklearn-color-fitted-level-1);\n",
       "}\n",
       "\n",
       "/* On hover */\n",
       "div.sk-estimator:hover .sk-estimator-doc-link:hover,\n",
       ".sk-estimator-doc-link:hover,\n",
       "div.sk-label-container:hover .sk-estimator-doc-link:hover,\n",
       ".sk-estimator-doc-link:hover {\n",
       "  /* unfitted */\n",
       "  background-color: var(--sklearn-color-unfitted-level-3);\n",
       "  color: var(--sklearn-color-background);\n",
       "  text-decoration: none;\n",
       "}\n",
       "\n",
       "div.sk-estimator.fitted:hover .sk-estimator-doc-link.fitted:hover,\n",
       ".sk-estimator-doc-link.fitted:hover,\n",
       "div.sk-label-container:hover .sk-estimator-doc-link.fitted:hover,\n",
       ".sk-estimator-doc-link.fitted:hover {\n",
       "  /* fitted */\n",
       "  background-color: var(--sklearn-color-fitted-level-3);\n",
       "  color: var(--sklearn-color-background);\n",
       "  text-decoration: none;\n",
       "}\n",
       "\n",
       "/* Span, style for the box shown on hovering the info icon */\n",
       ".sk-estimator-doc-link span {\n",
       "  display: none;\n",
       "  z-index: 9999;\n",
       "  position: relative;\n",
       "  font-weight: normal;\n",
       "  right: .2ex;\n",
       "  padding: .5ex;\n",
       "  margin: .5ex;\n",
       "  width: min-content;\n",
       "  min-width: 20ex;\n",
       "  max-width: 50ex;\n",
       "  color: var(--sklearn-color-text);\n",
       "  box-shadow: 2pt 2pt 4pt #999;\n",
       "  /* unfitted */\n",
       "  background: var(--sklearn-color-unfitted-level-0);\n",
       "  border: .5pt solid var(--sklearn-color-unfitted-level-3);\n",
       "}\n",
       "\n",
       ".sk-estimator-doc-link.fitted span {\n",
       "  /* fitted */\n",
       "  background: var(--sklearn-color-fitted-level-0);\n",
       "  border: var(--sklearn-color-fitted-level-3);\n",
       "}\n",
       "\n",
       ".sk-estimator-doc-link:hover span {\n",
       "  display: block;\n",
       "}\n",
       "\n",
       "/* \"?\"-specific style due to the `<a>` HTML tag */\n",
       "\n",
       "#sk-container-id-2 a.estimator_doc_link {\n",
       "  float: right;\n",
       "  font-size: 1rem;\n",
       "  line-height: 1em;\n",
       "  font-family: monospace;\n",
       "  background-color: var(--sklearn-color-background);\n",
       "  border-radius: 1rem;\n",
       "  height: 1rem;\n",
       "  width: 1rem;\n",
       "  text-decoration: none;\n",
       "  /* unfitted */\n",
       "  color: var(--sklearn-color-unfitted-level-1);\n",
       "  border: var(--sklearn-color-unfitted-level-1) 1pt solid;\n",
       "}\n",
       "\n",
       "#sk-container-id-2 a.estimator_doc_link.fitted {\n",
       "  /* fitted */\n",
       "  border: var(--sklearn-color-fitted-level-1) 1pt solid;\n",
       "  color: var(--sklearn-color-fitted-level-1);\n",
       "}\n",
       "\n",
       "/* On hover */\n",
       "#sk-container-id-2 a.estimator_doc_link:hover {\n",
       "  /* unfitted */\n",
       "  background-color: var(--sklearn-color-unfitted-level-3);\n",
       "  color: var(--sklearn-color-background);\n",
       "  text-decoration: none;\n",
       "}\n",
       "\n",
       "#sk-container-id-2 a.estimator_doc_link.fitted:hover {\n",
       "  /* fitted */\n",
       "  background-color: var(--sklearn-color-fitted-level-3);\n",
       "}\n",
       "</style><div id=\"sk-container-id-2\" class=\"sk-top-container\"><div class=\"sk-text-repr-fallback\"><pre>KeyNMF(encoder=&#x27;paraphrase-MiniLM-L3-v2&#x27;, n_components=20, top_n=20,\n",
       "       vectorizer=CountVectorizer(min_df=10,\n",
       "                                  stop_words=[&#x27;a&#x27;, &#x27;aby&#x27;, &#x27;aj&#x27;, &#x27;ale&#x27;, &#x27;ani&#x27;,\n",
       "                                              &#x27;aniž&#x27;, &#x27;ano&#x27;, &#x27;asi&#x27;, &#x27;až&#x27;, &#x27;bez&#x27;,\n",
       "                                              &#x27;bude&#x27;, &#x27;budem&#x27;, &#x27;budeš&#x27;, &#x27;by&#x27;,\n",
       "                                              &#x27;byl&#x27;, &#x27;byla&#x27;, &#x27;byli&#x27;, &#x27;bylo&#x27;,\n",
       "                                              &#x27;být&#x27;, &#x27;co&#x27;, &#x27;což&#x27;, &#x27;cz&#x27;, &#x27;či&#x27;,\n",
       "                                              &#x27;článek&#x27;, &#x27;článku&#x27;, &#x27;články&#x27;,\n",
       "                                              &#x27;další&#x27;, &#x27;dnes&#x27;, &#x27;do&#x27;, &#x27;ho&#x27;, ...]))</pre><b>In a Jupyter environment, please rerun this cell to show the HTML representation or trust the notebook. <br />On GitHub, the HTML representation is unable to render, please try loading this page with nbviewer.org.</b></div><div class=\"sk-container\" hidden><div class=\"sk-item sk-dashed-wrapped\"><div class=\"sk-label-container\"><div class=\"sk-label fitted sk-toggleable\"><input class=\"sk-toggleable__control sk-hidden--visually\" id=\"sk-estimator-id-4\" type=\"checkbox\" ><label for=\"sk-estimator-id-4\" class=\"sk-toggleable__label fitted sk-toggleable__label-arrow\"><div><div>KeyNMF</div></div><div><span class=\"sk-estimator-doc-link fitted\">i<span>Fitted</span></span></div></label><div class=\"sk-toggleable__content fitted\"><pre>KeyNMF(encoder=&#x27;paraphrase-MiniLM-L3-v2&#x27;, n_components=20, top_n=20,\n",
       "       vectorizer=CountVectorizer(min_df=10,\n",
       "                                  stop_words=[&#x27;a&#x27;, &#x27;aby&#x27;, &#x27;aj&#x27;, &#x27;ale&#x27;, &#x27;ani&#x27;,\n",
       "                                              &#x27;aniž&#x27;, &#x27;ano&#x27;, &#x27;asi&#x27;, &#x27;až&#x27;, &#x27;bez&#x27;,\n",
       "                                              &#x27;bude&#x27;, &#x27;budem&#x27;, &#x27;budeš&#x27;, &#x27;by&#x27;,\n",
       "                                              &#x27;byl&#x27;, &#x27;byla&#x27;, &#x27;byli&#x27;, &#x27;bylo&#x27;,\n",
       "                                              &#x27;být&#x27;, &#x27;co&#x27;, &#x27;což&#x27;, &#x27;cz&#x27;, &#x27;či&#x27;,\n",
       "                                              &#x27;článek&#x27;, &#x27;článku&#x27;, &#x27;články&#x27;,\n",
       "                                              &#x27;další&#x27;, &#x27;dnes&#x27;, &#x27;do&#x27;, &#x27;ho&#x27;, ...]))</pre></div> </div></div><div class=\"sk-parallel\"><div class=\"sk-parallel-item\"><div class=\"sk-item\"><div class=\"sk-label-container\"><div class=\"sk-label fitted sk-toggleable\"><input class=\"sk-toggleable__control sk-hidden--visually\" id=\"sk-estimator-id-5\" type=\"checkbox\" ><label for=\"sk-estimator-id-5\" class=\"sk-toggleable__label fitted sk-toggleable__label-arrow\"><div><div>vectorizer: CountVectorizer</div></div></label><div class=\"sk-toggleable__content fitted\"><pre>CountVectorizer(min_df=10,\n",
       "                stop_words=[&#x27;a&#x27;, &#x27;aby&#x27;, &#x27;aj&#x27;, &#x27;ale&#x27;, &#x27;ani&#x27;, &#x27;aniž&#x27;, &#x27;ano&#x27;,\n",
       "                            &#x27;asi&#x27;, &#x27;až&#x27;, &#x27;bez&#x27;, &#x27;bude&#x27;, &#x27;budem&#x27;, &#x27;budeš&#x27;, &#x27;by&#x27;,\n",
       "                            &#x27;byl&#x27;, &#x27;byla&#x27;, &#x27;byli&#x27;, &#x27;bylo&#x27;, &#x27;být&#x27;, &#x27;co&#x27;, &#x27;což&#x27;,\n",
       "                            &#x27;cz&#x27;, &#x27;či&#x27;, &#x27;článek&#x27;, &#x27;článku&#x27;, &#x27;články&#x27;, &#x27;další&#x27;,\n",
       "                            &#x27;dnes&#x27;, &#x27;do&#x27;, &#x27;ho&#x27;, ...])</pre></div> </div></div><div class=\"sk-serial\"><div class=\"sk-item\"><div class=\"sk-estimator fitted sk-toggleable\"><input class=\"sk-toggleable__control sk-hidden--visually\" id=\"sk-estimator-id-6\" type=\"checkbox\" ><label for=\"sk-estimator-id-6\" class=\"sk-toggleable__label fitted sk-toggleable__label-arrow\"><div><div>CountVectorizer</div></div><div><a class=\"sk-estimator-doc-link fitted\" rel=\"noreferrer\" target=\"_blank\" href=\"https://scikit-learn.org/1.6/modules/generated/sklearn.feature_extraction.text.CountVectorizer.html\">?<span>Documentation for CountVectorizer</span></a></div></label><div class=\"sk-toggleable__content fitted\"><pre>CountVectorizer(min_df=10,\n",
       "                stop_words=[&#x27;a&#x27;, &#x27;aby&#x27;, &#x27;aj&#x27;, &#x27;ale&#x27;, &#x27;ani&#x27;, &#x27;aniž&#x27;, &#x27;ano&#x27;,\n",
       "                            &#x27;asi&#x27;, &#x27;až&#x27;, &#x27;bez&#x27;, &#x27;bude&#x27;, &#x27;budem&#x27;, &#x27;budeš&#x27;, &#x27;by&#x27;,\n",
       "                            &#x27;byl&#x27;, &#x27;byla&#x27;, &#x27;byli&#x27;, &#x27;bylo&#x27;, &#x27;být&#x27;, &#x27;co&#x27;, &#x27;což&#x27;,\n",
       "                            &#x27;cz&#x27;, &#x27;či&#x27;, &#x27;článek&#x27;, &#x27;článku&#x27;, &#x27;články&#x27;, &#x27;další&#x27;,\n",
       "                            &#x27;dnes&#x27;, &#x27;do&#x27;, &#x27;ho&#x27;, ...])</pre></div> </div></div></div></div></div></div></div></div></div>"
      ],
      "text/plain": [
       "KeyNMF(encoder='paraphrase-MiniLM-L3-v2', n_components=20, top_n=20,\n",
       "       vectorizer=CountVectorizer(min_df=10,\n",
       "                                  stop_words=['a', 'aby', 'aj', 'ale', 'ani',\n",
       "                                              'aniž', 'ano', 'asi', 'až', 'bez',\n",
       "                                              'bude', 'budem', 'budeš', 'by',\n",
       "                                              'byl', 'byla', 'byli', 'bylo',\n",
       "                                              'být', 'co', 'což', 'cz', 'či',\n",
       "                                              'článek', 'článku', 'články',\n",
       "                                              'další', 'dnes', 'do', 'ho', ...]))"
      ]
     },
     "execution_count": 91,
     "metadata": {},
     "output_type": "execute_result"
    }
   ],
   "source": [
    "# model_keynmf.fit(texts_clean[:N])"
   ]
  },
  {
   "cell_type": "code",
   "execution_count": 255,
   "metadata": {},
   "outputs": [
    {
     "data": {
      "text/plain": [
       "np.float64(84.32375720461096)"
      ]
     },
     "execution_count": 255,
     "metadata": {},
     "output_type": "execute_result"
    }
   ],
   "source": [
    "(document_topic_matrix == 0).sum() / (document_topic_matrix.shape[0]*document_topic_matrix.shape[1]) * 100"
   ]
  },
  {
   "cell_type": "code",
   "execution_count": 284,
   "metadata": {},
   "outputs": [
    {
     "ename": "ValueError",
     "evalue": "The truth value of an array with more than one element is ambiguous. Use a.any() or a.all()",
     "output_type": "error",
     "traceback": [
      "\u001b[0;31m---------------------------------------------------------------------------\u001b[0m",
      "\u001b[0;31mValueError\u001b[0m                                Traceback (most recent call last)",
      "Cell \u001b[0;32mIn[284], line 1\u001b[0m\n\u001b[0;32m----> 1\u001b[0m \u001b[43mmodel_keynmf\u001b[49m\u001b[38;5;241;43m.\u001b[39;49m\u001b[43mprint_representative_documents\u001b[49m\u001b[43m(\u001b[49m\u001b[38;5;241;43m0\u001b[39;49m\u001b[43m,\u001b[49m\u001b[43m \u001b[49m\u001b[43mtexts_clean\u001b[49m\u001b[43m[\u001b[49m\u001b[43m:\u001b[49m\u001b[43mN\u001b[49m\u001b[43m]\u001b[49m\u001b[43m,\u001b[49m\u001b[43m \u001b[49m\u001b[43mdocument_topic_matrix\u001b[49m\u001b[43m)\u001b[49m\n",
      "File \u001b[0;32m~/Documents/UniMarburg/Hackathon/SCRIPTUM/venv/lib/python3.9/site-packages/turftopic/container.py:382\u001b[0m, in \u001b[0;36mTopicContainer.print_representative_documents\u001b[0;34m(self, topic_id, raw_documents, document_topic_matrix, top_k, show_negative)\u001b[0m\n\u001b[1;32m    358\u001b[0m \u001b[38;5;28;01mdef\u001b[39;00m\u001b[38;5;250m \u001b[39m\u001b[38;5;21mprint_representative_documents\u001b[39m(\n\u001b[1;32m    359\u001b[0m     \u001b[38;5;28mself\u001b[39m,\n\u001b[1;32m    360\u001b[0m     topic_id,\n\u001b[0;32m   (...)\u001b[0m\n\u001b[1;32m    364\u001b[0m     show_negative: Optional[\u001b[38;5;28mbool\u001b[39m] \u001b[38;5;241m=\u001b[39m \u001b[38;5;28;01mNone\u001b[39;00m,\n\u001b[1;32m    365\u001b[0m ):\n\u001b[1;32m    366\u001b[0m \u001b[38;5;250m    \u001b[39m\u001b[38;5;124;03m\"\"\"Pretty prints the highest ranking documents in a topic.\u001b[39;00m\n\u001b[1;32m    367\u001b[0m \n\u001b[1;32m    368\u001b[0m \u001b[38;5;124;03m    Parameters\u001b[39;00m\n\u001b[0;32m   (...)\u001b[0m\n\u001b[1;32m    380\u001b[0m \u001b[38;5;124;03m        Indicates whether lowest ranking documents should also be shown.\u001b[39;00m\n\u001b[1;32m    381\u001b[0m \u001b[38;5;124;03m    \"\"\"\u001b[39;00m\n\u001b[0;32m--> 382\u001b[0m     columns, \u001b[38;5;241m*\u001b[39mrows \u001b[38;5;241m=\u001b[39m \u001b[38;5;28;43mself\u001b[39;49m\u001b[38;5;241;43m.\u001b[39;49m\u001b[43m_representative_docs\u001b[49m\u001b[43m(\u001b[49m\n\u001b[1;32m    383\u001b[0m \u001b[43m        \u001b[49m\u001b[43mtopic_id\u001b[49m\u001b[43m,\u001b[49m\n\u001b[1;32m    384\u001b[0m \u001b[43m        \u001b[49m\u001b[43mraw_documents\u001b[49m\u001b[43m,\u001b[49m\n\u001b[1;32m    385\u001b[0m \u001b[43m        \u001b[49m\u001b[43mdocument_topic_matrix\u001b[49m\u001b[43m,\u001b[49m\n\u001b[1;32m    386\u001b[0m \u001b[43m        \u001b[49m\u001b[43mtop_k\u001b[49m\u001b[43m,\u001b[49m\n\u001b[1;32m    387\u001b[0m \u001b[43m        \u001b[49m\u001b[43mshow_negative\u001b[49m\u001b[43m,\u001b[49m\n\u001b[1;32m    388\u001b[0m \u001b[43m    \u001b[49m\u001b[43m)\u001b[49m\n\u001b[1;32m    389\u001b[0m     table \u001b[38;5;241m=\u001b[39m Table(show_lines\u001b[38;5;241m=\u001b[39m\u001b[38;5;28;01mTrue\u001b[39;00m)\n\u001b[1;32m    390\u001b[0m     table\u001b[38;5;241m.\u001b[39madd_column(\n\u001b[1;32m    391\u001b[0m         \u001b[38;5;124m\"\u001b[39m\u001b[38;5;124mDocument\u001b[39m\u001b[38;5;124m\"\u001b[39m, justify\u001b[38;5;241m=\u001b[39m\u001b[38;5;124m\"\u001b[39m\u001b[38;5;124mleft\u001b[39m\u001b[38;5;124m\"\u001b[39m, style\u001b[38;5;241m=\u001b[39m\u001b[38;5;124m\"\u001b[39m\u001b[38;5;124mmagenta\u001b[39m\u001b[38;5;124m\"\u001b[39m, max_width\u001b[38;5;241m=\u001b[39m\u001b[38;5;241m100\u001b[39m\n\u001b[1;32m    392\u001b[0m     )\n",
      "File \u001b[0;32m~/Documents/UniMarburg/Hackathon/SCRIPTUM/venv/lib/python3.9/site-packages/turftopic/container.py:306\u001b[0m, in \u001b[0;36mTopicContainer._representative_docs\u001b[0;34m(self, topic_id, raw_documents, document_topic_matrix, top_k, show_negative)\u001b[0m\n\u001b[1;32m    302\u001b[0m \u001b[38;5;28;01mif\u001b[39;00m raw_documents \u001b[38;5;129;01mis\u001b[39;00m \u001b[38;5;28;01mNone\u001b[39;00m:\n\u001b[1;32m    303\u001b[0m     \u001b[38;5;28;01mraise\u001b[39;00m \u001b[38;5;167;01mValueError\u001b[39;00m(\n\u001b[1;32m    304\u001b[0m         \u001b[38;5;124m\"\u001b[39m\u001b[38;5;124mNo corpus was passed, can\u001b[39m\u001b[38;5;124m'\u001b[39m\u001b[38;5;124mt search for representative documents.\u001b[39m\u001b[38;5;124m\"\u001b[39m\n\u001b[1;32m    305\u001b[0m     )\n\u001b[0;32m--> 306\u001b[0m document_topic_matrix \u001b[38;5;241m=\u001b[39m document_topic_matrix \u001b[38;5;129;01mor\u001b[39;00m \u001b[38;5;28mgetattr\u001b[39m(\n\u001b[1;32m    307\u001b[0m     \u001b[38;5;28mself\u001b[39m, \u001b[38;5;124m\"\u001b[39m\u001b[38;5;124mdocument_topic_matrix\u001b[39m\u001b[38;5;124m\"\u001b[39m, \u001b[38;5;28;01mNone\u001b[39;00m\n\u001b[1;32m    308\u001b[0m )\n\u001b[1;32m    309\u001b[0m \u001b[38;5;28;01mif\u001b[39;00m document_topic_matrix \u001b[38;5;129;01mis\u001b[39;00m \u001b[38;5;28;01mNone\u001b[39;00m:\n\u001b[1;32m    310\u001b[0m     \u001b[38;5;28;01mtry\u001b[39;00m:\n",
      "\u001b[0;31mValueError\u001b[0m: The truth value of an array with more than one element is ambiguous. Use a.any() or a.all()"
     ]
    }
   ],
   "source": [
    "model_keynmf.print_representative_documents(0, texts_clean[:N], document_topic_matrix)"
   ]
  },
  {
   "cell_type": "code",
   "execution_count": 260,
   "metadata": {},
   "outputs": [
    {
     "data": {
      "text/html": [
       "<pre style=\"white-space:pre;overflow-x:auto;line-height:normal;font-family:Menlo,'DejaVu Sans Mono',consolas,'Courier New',monospace\">┏━━━━━━━━━━━━━━━━━━━━━━━━━━━━━━━━━━━━━━━━━━━━━━━━━━━━━━━━━━━━━━━━━━━━┳━━━━━━━┓\n",
       "┃<span style=\"font-weight: bold\"> Topic name                                                         </span>┃<span style=\"font-weight: bold\"> Score </span>┃\n",
       "┡━━━━━━━━━━━━━━━━━━━━━━━━━━━━━━━━━━━━━━━━━━━━━━━━━━━━━━━━━━━━━━━━━━━━╇━━━━━━━┩\n",
       "│<span style=\"color: #800080; text-decoration-color: #800080\"> 191_svj_zas_jakou_komu                                             </span>│<span style=\"color: #000080; text-decoration-color: #000080\">  0.00 </span>│\n",
       "│<span style=\"color: #800080; text-decoration-color: #800080\"> 172_vedou_traduje_básně_hleděl                                     </span>│<span style=\"color: #000080; text-decoration-color: #000080\">  0.00 </span>│\n",
       "│<span style=\"color: #800080; text-decoration-color: #800080\"> 194_protisovětské_protistátní_protisocialistické_protikomunistické </span>│<span style=\"color: #000080; text-decoration-color: #000080\">  0.00 </span>│\n",
       "│<span style=\"color: #800080; text-decoration-color: #800080\"> 180_právech_stíhaných_výslech_zúčastnil                            </span>│<span style=\"color: #000080; text-decoration-color: #000080\">  0.00 </span>│\n",
       "│<span style=\"color: #800080; text-decoration-color: #800080\"> 185_svaté_božímu_zbožnosti_boží                                    </span>│<span style=\"color: #000080; text-decoration-color: #000080\">  0.00 </span>│\n",
       "│<span style=\"color: #800080; text-decoration-color: #800080\"> 127_ježíšova_ježíše_ježíšovy_ježíšovu                              </span>│<span style=\"color: #000080; text-decoration-color: #000080\">  0.00 </span>│\n",
       "│<span style=\"color: #800080; text-decoration-color: #800080\"> 117_byly_kterém_měla_měly                                          </span>│<span style=\"color: #000080; text-decoration-color: #000080\">  0.00 </span>│\n",
       "│<span style=\"color: #800080; text-decoration-color: #800080\"> 78_diskuse_teoretickopolitický_občasník_diskusi                    </span>│<span style=\"color: #000080; text-decoration-color: #000080\">  0.00 </span>│\n",
       "│<span style=\"color: #800080; text-decoration-color: #800080\"> 22_zahraničíczechoslovak_jubilejního_jubilejním_sletové            </span>│<span style=\"color: #000080; text-decoration-color: #000080\">  0.00 </span>│\n",
       "│<span style=\"color: #800080; text-decoration-color: #800080\"> 190_vydal_vydalo_vydala_přednesl                                   </span>│<span style=\"color: #000080; text-decoration-color: #000080\">  0.00 </span>│\n",
       "└────────────────────────────────────────────────────────────────────┴───────┘\n",
       "</pre>\n"
      ],
      "text/plain": [
       "┏━━━━━━━━━━━━━━━━━━━━━━━━━━━━━━━━━━━━━━━━━━━━━━━━━━━━━━━━━━━━━━━━━━━━┳━━━━━━━┓\n",
       "┃\u001b[1m \u001b[0m\u001b[1mTopic name                                                        \u001b[0m\u001b[1m \u001b[0m┃\u001b[1m \u001b[0m\u001b[1mScore\u001b[0m\u001b[1m \u001b[0m┃\n",
       "┡━━━━━━━━━━━━━━━━━━━━━━━━━━━━━━━━━━━━━━━━━━━━━━━━━━━━━━━━━━━━━━━━━━━━╇━━━━━━━┩\n",
       "│\u001b[35m \u001b[0m\u001b[35m191_svj_zas_jakou_komu                                            \u001b[0m\u001b[35m \u001b[0m│\u001b[34m \u001b[0m\u001b[34m 0.00\u001b[0m\u001b[34m \u001b[0m│\n",
       "│\u001b[35m \u001b[0m\u001b[35m172_vedou_traduje_básně_hleděl                                    \u001b[0m\u001b[35m \u001b[0m│\u001b[34m \u001b[0m\u001b[34m 0.00\u001b[0m\u001b[34m \u001b[0m│\n",
       "│\u001b[35m \u001b[0m\u001b[35m194_protisovětské_protistátní_protisocialistické_protikomunistické\u001b[0m\u001b[35m \u001b[0m│\u001b[34m \u001b[0m\u001b[34m 0.00\u001b[0m\u001b[34m \u001b[0m│\n",
       "│\u001b[35m \u001b[0m\u001b[35m180_právech_stíhaných_výslech_zúčastnil                           \u001b[0m\u001b[35m \u001b[0m│\u001b[34m \u001b[0m\u001b[34m 0.00\u001b[0m\u001b[34m \u001b[0m│\n",
       "│\u001b[35m \u001b[0m\u001b[35m185_svaté_božímu_zbožnosti_boží                                   \u001b[0m\u001b[35m \u001b[0m│\u001b[34m \u001b[0m\u001b[34m 0.00\u001b[0m\u001b[34m \u001b[0m│\n",
       "│\u001b[35m \u001b[0m\u001b[35m127_ježíšova_ježíše_ježíšovy_ježíšovu                             \u001b[0m\u001b[35m \u001b[0m│\u001b[34m \u001b[0m\u001b[34m 0.00\u001b[0m\u001b[34m \u001b[0m│\n",
       "│\u001b[35m \u001b[0m\u001b[35m117_byly_kterém_měla_měly                                         \u001b[0m\u001b[35m \u001b[0m│\u001b[34m \u001b[0m\u001b[34m 0.00\u001b[0m\u001b[34m \u001b[0m│\n",
       "│\u001b[35m \u001b[0m\u001b[35m78_diskuse_teoretickopolitický_občasník_diskusi                   \u001b[0m\u001b[35m \u001b[0m│\u001b[34m \u001b[0m\u001b[34m 0.00\u001b[0m\u001b[34m \u001b[0m│\n",
       "│\u001b[35m \u001b[0m\u001b[35m22_zahraničíczechoslovak_jubilejního_jubilejním_sletové           \u001b[0m\u001b[35m \u001b[0m│\u001b[34m \u001b[0m\u001b[34m 0.00\u001b[0m\u001b[34m \u001b[0m│\n",
       "│\u001b[35m \u001b[0m\u001b[35m190_vydal_vydalo_vydala_přednesl                                  \u001b[0m\u001b[35m \u001b[0m│\u001b[34m \u001b[0m\u001b[34m 0.00\u001b[0m\u001b[34m \u001b[0m│\n",
       "└────────────────────────────────────────────────────────────────────┴───────┘\n"
      ]
     },
     "metadata": {},
     "output_type": "display_data"
    }
   ],
   "source": [
    "model_keynmf.print_topic_distribution(texts_clean[0])"
   ]
  },
  {
   "cell_type": "code",
   "execution_count": 272,
   "metadata": {},
   "outputs": [
    {
     "name": "stderr",
     "output_type": "stream",
     "text": [
      "huggingface/tokenizers: The current process just got forked, after parallelism has already been used. Disabling parallelism to avoid deadlocks...\n",
      "To disable this warning, you can either:\n",
      "\t- Avoid using `tokenizers` before the fork if possible\n",
      "\t- Explicitly set the environment variable TOKENIZERS_PARALLELISM=(true | false)\n"
     ]
    },
    {
     "name": "stdout",
     "output_type": "stream",
     "text": [
      "Found existing installation: openai 1.82.0\n",
      "Uninstalling openai-1.82.0:\n",
      "  Successfully uninstalled openai-1.82.0\n"
     ]
    },
    {
     "name": "stderr",
     "output_type": "stream",
     "text": [
      "huggingface/tokenizers: The current process just got forked, after parallelism has already been used. Disabling parallelism to avoid deadlocks...\n",
      "To disable this warning, you can either:\n",
      "\t- Avoid using `tokenizers` before the fork if possible\n",
      "\t- Explicitly set the environment variable TOKENIZERS_PARALLELISM=(true | false)\n"
     ]
    },
    {
     "name": "stdout",
     "output_type": "stream",
     "text": [
      "Collecting openai\n",
      "  Using cached openai-1.82.0-py3-none-any.whl (720 kB)\n",
      "Requirement already satisfied: jiter<1,>=0.4.0 in /Users/evaqw/Documents/UniMarburg/Hackathon/SCRIPTUM/venv/lib/python3.9/site-packages (from openai) (0.10.0)\n",
      "Requirement already satisfied: distro<2,>=1.7.0 in /Users/evaqw/Documents/UniMarburg/Hackathon/SCRIPTUM/venv/lib/python3.9/site-packages (from openai) (1.9.0)\n",
      "Requirement already satisfied: anyio<5,>=3.5.0 in /Users/evaqw/Documents/UniMarburg/Hackathon/SCRIPTUM/venv/lib/python3.9/site-packages (from openai) (4.9.0)\n",
      "Requirement already satisfied: httpx<1,>=0.23.0 in /Users/evaqw/Documents/UniMarburg/Hackathon/SCRIPTUM/venv/lib/python3.9/site-packages (from openai) (0.28.1)\n",
      "Requirement already satisfied: sniffio in /Users/evaqw/Documents/UniMarburg/Hackathon/SCRIPTUM/venv/lib/python3.9/site-packages (from openai) (1.3.1)\n",
      "Requirement already satisfied: tqdm>4 in /Users/evaqw/Documents/UniMarburg/Hackathon/SCRIPTUM/venv/lib/python3.9/site-packages (from openai) (4.67.1)\n",
      "Requirement already satisfied: typing-extensions<5,>=4.11 in /Users/evaqw/Documents/UniMarburg/Hackathon/SCRIPTUM/venv/lib/python3.9/site-packages (from openai) (4.13.2)\n",
      "Requirement already satisfied: pydantic<3,>=1.9.0 in /Users/evaqw/Documents/UniMarburg/Hackathon/SCRIPTUM/venv/lib/python3.9/site-packages (from openai) (2.11.5)\n",
      "Requirement already satisfied: idna>=2.8 in /Users/evaqw/Documents/UniMarburg/Hackathon/SCRIPTUM/venv/lib/python3.9/site-packages (from anyio<5,>=3.5.0->openai) (3.10)\n",
      "Requirement already satisfied: exceptiongroup>=1.0.2 in /Users/evaqw/Documents/UniMarburg/Hackathon/SCRIPTUM/venv/lib/python3.9/site-packages (from anyio<5,>=3.5.0->openai) (1.3.0)\n",
      "Requirement already satisfied: certifi in /Users/evaqw/Documents/UniMarburg/Hackathon/SCRIPTUM/venv/lib/python3.9/site-packages (from httpx<1,>=0.23.0->openai) (2025.4.26)\n",
      "Requirement already satisfied: httpcore==1.* in /Users/evaqw/Documents/UniMarburg/Hackathon/SCRIPTUM/venv/lib/python3.9/site-packages (from httpx<1,>=0.23.0->openai) (1.0.9)\n",
      "Requirement already satisfied: h11>=0.16 in /Users/evaqw/Documents/UniMarburg/Hackathon/SCRIPTUM/venv/lib/python3.9/site-packages (from httpcore==1.*->httpx<1,>=0.23.0->openai) (0.16.0)\n",
      "Requirement already satisfied: typing-inspection>=0.4.0 in /Users/evaqw/Documents/UniMarburg/Hackathon/SCRIPTUM/venv/lib/python3.9/site-packages (from pydantic<3,>=1.9.0->openai) (0.4.1)\n",
      "Requirement already satisfied: pydantic-core==2.33.2 in /Users/evaqw/Documents/UniMarburg/Hackathon/SCRIPTUM/venv/lib/python3.9/site-packages (from pydantic<3,>=1.9.0->openai) (2.33.2)\n",
      "Requirement already satisfied: annotated-types>=0.6.0 in /Users/evaqw/Documents/UniMarburg/Hackathon/SCRIPTUM/venv/lib/python3.9/site-packages (from pydantic<3,>=1.9.0->openai) (0.7.0)\n",
      "Installing collected packages: openai\n",
      "Successfully installed openai-1.82.0\n",
      "\u001b[33mWARNING: You are using pip version 21.2.4; however, version 25.1.1 is available.\n",
      "You should consider upgrading via the '/Users/evaqw/Documents/UniMarburg/Hackathon/SCRIPTUM/venv/bin/python3 -m pip install --upgrade pip' command.\u001b[0m\n"
     ]
    }
   ],
   "source": [
    "!pip uninstall openai -y\n",
    "!pip install openai --upgrade"
   ]
  },
  {
   "cell_type": "code",
   "execution_count": 274,
   "metadata": {},
   "outputs": [
    {
     "name": "stdout",
     "output_type": "stream",
     "text": [
      "/Users/evaqw/Documents/UniMarburg/Hackathon/SCRIPTUM/venv/bin/python\n"
     ]
    },
    {
     "name": "stderr",
     "output_type": "stream",
     "text": [
      "huggingface/tokenizers: The current process just got forked, after parallelism has already been used. Disabling parallelism to avoid deadlocks...\n",
      "To disable this warning, you can either:\n",
      "\t- Avoid using `tokenizers` before the fork if possible\n",
      "\t- Explicitly set the environment variable TOKENIZERS_PARALLELISM=(true | false)\n"
     ]
    }
   ],
   "source": [
    "# !python -c \"import openai; print(openai.__version__)\"\n",
    "!which python"
   ]
  },
  {
   "cell_type": "code",
   "execution_count": 278,
   "metadata": {},
   "outputs": [
    {
     "name": "stderr",
     "output_type": "stream",
     "text": [
      "huggingface/tokenizers: The current process just got forked, after parallelism has already been used. Disabling parallelism to avoid deadlocks...\n",
      "To disable this warning, you can either:\n",
      "\t- Avoid using `tokenizers` before the fork if possible\n",
      "\t- Explicitly set the environment variable TOKENIZERS_PARALLELISM=(true | false)\n"
     ]
    },
    {
     "name": "stdout",
     "output_type": "stream",
     "text": [
      "openai                    1.82.0\n",
      "turftopic                 0.17.0\n",
      "\u001b[33mWARNING: You are using pip version 21.2.4; however, version 25.1.1 is available.\n",
      "You should consider upgrading via the '/Users/evaqw/Documents/UniMarburg/Hackathon/SCRIPTUM/venv/bin/python3 -m pip install --upgrade pip' command.\u001b[0m\n"
     ]
    }
   ],
   "source": [
    "!pip list | grep -E 'openai|turftopic'"
   ]
  },
  {
   "cell_type": "code",
   "execution_count": 275,
   "metadata": {},
   "outputs": [
    {
     "name": "stdout",
     "output_type": "stream",
     "text": [
      "/Users/evaqw/Documents/UniMarburg/Hackathon/SCRIPTUM/venv/bin/python\n"
     ]
    }
   ],
   "source": [
    "import sys\n",
    "print(sys.executable)"
   ]
  },
  {
   "cell_type": "code",
   "execution_count": 276,
   "metadata": {},
   "outputs": [],
   "source": []
  },
  {
   "cell_type": "code",
   "execution_count": 277,
   "metadata": {},
   "outputs": [
    {
     "ename": "ModuleNotFoundError",
     "evalue": "In order to use OpenAITopicNamer you'll need to install via;\n\npip install openai\n\n",
     "output_type": "error",
     "traceback": [
      "\u001b[0;31m---------------------------------------------------------------------------\u001b[0m",
      "\u001b[0;31mModuleNotFoundError\u001b[0m                       Traceback (most recent call last)",
      "Cell \u001b[0;32mIn[277], line 3\u001b[0m\n\u001b[1;32m      1\u001b[0m \u001b[38;5;28;01mfrom\u001b[39;00m\u001b[38;5;250m \u001b[39m\u001b[38;5;21;01mturftopic\u001b[39;00m\u001b[38;5;21;01m.\u001b[39;00m\u001b[38;5;21;01mnamers\u001b[39;00m\u001b[38;5;250m \u001b[39m\u001b[38;5;28;01mimport\u001b[39;00m OpenAITopicNamer\n\u001b[0;32m----> 3\u001b[0m namer \u001b[38;5;241m=\u001b[39m \u001b[43mOpenAITopicNamer\u001b[49m\u001b[43m(\u001b[49m\u001b[38;5;124;43m\"\u001b[39;49m\u001b[38;5;124;43mgpt-4o-mini\u001b[39;49m\u001b[38;5;124;43m\"\u001b[39;49m\u001b[43m)\u001b[49m\n\u001b[1;32m      4\u001b[0m model_keynmf\u001b[38;5;241m.\u001b[39mrename_topics(namer)\n\u001b[1;32m      5\u001b[0m model_keynmf\u001b[38;5;241m.\u001b[39mprint_topics()\n",
      "File \u001b[0;32m~/Documents/UniMarburg/Hackathon/SCRIPTUM/venv/lib/python3.9/site-packages/turftopic/error.py:25\u001b[0m, in \u001b[0;36mNotInstalled.__call__\u001b[0;34m(self, *args, **kwargs)\u001b[0m\n\u001b[1;32m     24\u001b[0m \u001b[38;5;28;01mdef\u001b[39;00m\u001b[38;5;250m \u001b[39m\u001b[38;5;21m__call__\u001b[39m(\u001b[38;5;28mself\u001b[39m, \u001b[38;5;241m*\u001b[39margs, \u001b[38;5;241m*\u001b[39m\u001b[38;5;241m*\u001b[39mkwargs):\n\u001b[0;32m---> 25\u001b[0m     \u001b[38;5;28;01mraise\u001b[39;00m \u001b[38;5;167;01mModuleNotFoundError\u001b[39;00m(\u001b[38;5;28mself\u001b[39m\u001b[38;5;241m.\u001b[39mmsg)\n",
      "\u001b[0;31mModuleNotFoundError\u001b[0m: In order to use OpenAITopicNamer you'll need to install via;\n\npip install openai\n\n"
     ]
    }
   ],
   "source": [
    "from turftopic.namers import OpenAITopicNamer\n",
    "\n",
    "namer = OpenAITopicNamer(\"gpt-4o-mini\")\n",
    "model_keynmf.rename_topics(namer)\n",
    "model_keynmf.print_topics()"
   ]
  },
  {
   "cell_type": "code",
   "execution_count": 261,
   "metadata": {},
   "outputs": [
    {
     "name": "stderr",
     "output_type": "stream",
     "text": [
      "huggingface/tokenizers: The current process just got forked, after parallelism has already been used. Disabling parallelism to avoid deadlocks...\n",
      "To disable this warning, you can either:\n",
      "\t- Avoid using `tokenizers` before the fork if possible\n",
      "\t- Explicitly set the environment variable TOKENIZERS_PARALLELISM=(true | false)\n"
     ]
    },
    {
     "name": "stdout",
     "output_type": "stream",
     "text": [
      "Collecting topic-wizard\n",
      "  Downloading topic_wizard-1.1.4-py3-none-any.whl (112 kB)\n",
      "\u001b[K     |████████████████████████████████| 112 kB 3.4 MB/s eta 0:00:01\n",
      "\u001b[?25hRequirement already satisfied: numpy>=1.22.0 in /Users/evaqw/Documents/UniMarburg/Hackathon/SCRIPTUM/venv/lib/python3.9/site-packages (from topic-wizard) (2.0.2)\n",
      "Requirement already satisfied: Pillow<11.0.0,>=10.1.0 in /Users/evaqw/Documents/UniMarburg/Hackathon/SCRIPTUM/venv/lib/python3.9/site-packages (from topic-wizard) (10.4.0)\n",
      "Collecting dash-iconify<0.2.0,>=0.1.2\n",
      "  Downloading dash_iconify-0.1.2-py3-none-any.whl (18 kB)\n",
      "Requirement already satisfied: wordcloud<2.0.0,>=1.9.2 in /Users/evaqw/Documents/UniMarburg/Hackathon/SCRIPTUM/venv/lib/python3.9/site-packages (from topic-wizard) (1.9.4)\n",
      "Requirement already satisfied: scikit-learn<2.0.0,>=1.2.0 in /Users/evaqw/Documents/UniMarburg/Hackathon/SCRIPTUM/venv/lib/python3.9/site-packages (from topic-wizard) (1.6.1)\n",
      "Collecting dash-mantine-components<0.13.0,>=0.12.1\n",
      "  Downloading dash_mantine_components-0.12.1-py3-none-any.whl (500 kB)\n",
      "\u001b[K     |████████████████████████████████| 500 kB 14.4 MB/s eta 0:00:01\n",
      "\u001b[?25hRequirement already satisfied: scipy>=1.8.0 in /Users/evaqw/Documents/UniMarburg/Hackathon/SCRIPTUM/venv/lib/python3.9/site-packages (from topic-wizard) (1.13.1)\n",
      "Requirement already satisfied: pandas>=1.5.2 in /Users/evaqw/Documents/UniMarburg/Hackathon/SCRIPTUM/venv/lib/python3.9/site-packages (from topic-wizard) (2.2.3)\n",
      "Requirement already satisfied: joblib<2.0.0,>=1.2.0 in /Users/evaqw/Documents/UniMarburg/Hackathon/SCRIPTUM/venv/lib/python3.9/site-packages (from topic-wizard) (1.5.0)\n",
      "Collecting dash-extensions<2.0.0,>=1.0.4\n",
      "  Downloading dash_extensions-1.0.20-py3-none-any.whl (1.5 MB)\n",
      "\u001b[K     |████████████████████████████████| 1.5 MB 43.8 MB/s eta 0:00:01\n",
      "\u001b[?25hCollecting umap-learn>=0.5.3\n",
      "  Downloading umap_learn-0.5.7-py3-none-any.whl (88 kB)\n",
      "\u001b[K     |████████████████████████████████| 88 kB 19.4 MB/s eta 0:00:01\n",
      "\u001b[?25hCollecting dash<3.0.0,>=2.7.1\n",
      "  Downloading dash-2.18.2-py3-none-any.whl (7.8 MB)\n",
      "\u001b[K     |████████████████████████████████| 7.8 MB 25.5 MB/s eta 0:00:01\n",
      "\u001b[?25hRequirement already satisfied: typing-extensions>=4.1.1 in /Users/evaqw/Documents/UniMarburg/Hackathon/SCRIPTUM/venv/lib/python3.9/site-packages (from dash<3.0.0,>=2.7.1->topic-wizard) (4.13.2)\n",
      "Requirement already satisfied: plotly>=5.0.0 in /Users/evaqw/Documents/UniMarburg/Hackathon/SCRIPTUM/venv/lib/python3.9/site-packages (from dash<3.0.0,>=2.7.1->topic-wizard) (6.1.1)\n",
      "Collecting Werkzeug<3.1\n",
      "  Downloading werkzeug-3.0.6-py3-none-any.whl (227 kB)\n",
      "\u001b[K     |████████████████████████████████| 227 kB 25.7 MB/s eta 0:00:01\n",
      "\u001b[?25hCollecting dash-core-components==2.0.0\n",
      "  Downloading dash_core_components-2.0.0-py3-none-any.whl (3.8 kB)\n",
      "Requirement already satisfied: setuptools in /Users/evaqw/Documents/UniMarburg/Hackathon/SCRIPTUM/venv/lib/python3.9/site-packages (from dash<3.0.0,>=2.7.1->topic-wizard) (58.0.4)\n",
      "Requirement already satisfied: nest-asyncio in /Users/evaqw/Documents/UniMarburg/Hackathon/SCRIPTUM/venv/lib/python3.9/site-packages (from dash<3.0.0,>=2.7.1->topic-wizard) (1.6.0)\n",
      "Collecting Flask<3.1,>=1.0.4\n",
      "  Downloading flask-3.0.3-py3-none-any.whl (101 kB)\n",
      "\u001b[K     |████████████████████████████████| 101 kB 20.3 MB/s ta 0:00:01\n",
      "\u001b[?25hCollecting dash-html-components==2.0.0\n",
      "  Downloading dash_html_components-2.0.0-py3-none-any.whl (4.1 kB)\n",
      "Requirement already satisfied: requests in /Users/evaqw/Documents/UniMarburg/Hackathon/SCRIPTUM/venv/lib/python3.9/site-packages (from dash<3.0.0,>=2.7.1->topic-wizard) (2.32.3)\n",
      "Collecting dash-table==5.0.0\n",
      "  Downloading dash_table-5.0.0-py3-none-any.whl (3.9 kB)\n",
      "Requirement already satisfied: importlib-metadata in /Users/evaqw/Documents/UniMarburg/Hackathon/SCRIPTUM/venv/lib/python3.9/site-packages (from dash<3.0.0,>=2.7.1->topic-wizard) (8.7.0)\n",
      "Collecting retrying\n",
      "  Downloading retrying-1.3.4-py3-none-any.whl (11 kB)\n",
      "Collecting dataclass-wizard<0.31.0,>=0.30.1\n",
      "  Downloading dataclass_wizard-0.30.1-py2.py3-none-any.whl (114 kB)\n",
      "\u001b[K     |████████████████████████████████| 114 kB 23.9 MB/s eta 0:00:01\n",
      "\u001b[?25hCollecting Flask-Caching<3.0.0,>=2.1.0\n",
      "  Downloading Flask_Caching-2.3.1-py3-none-any.whl (28 kB)\n",
      "Collecting jsbeautifier<2.0.0,>=1.14.3\n",
      "  Downloading jsbeautifier-1.15.4-py3-none-any.whl (94 kB)\n",
      "\u001b[K     |████████████████████████████████| 94 kB 11.8 MB/s eta 0:00:01\n",
      "\u001b[?25hCollecting pydantic<3.0.0,>=2.10.1\n",
      "  Downloading pydantic-2.11.5-py3-none-any.whl (444 kB)\n",
      "\u001b[K     |████████████████████████████████| 444 kB 37.0 MB/s eta 0:00:01\n",
      "\u001b[?25hCollecting more-itertools<11.0.0,>=10.2.0\n",
      "  Using cached more_itertools-10.7.0-py3-none-any.whl (65 kB)\n",
      "Requirement already satisfied: Jinja2>=3.1.2 in /Users/evaqw/Documents/UniMarburg/Hackathon/SCRIPTUM/venv/lib/python3.9/site-packages (from Flask<3.1,>=1.0.4->dash<3.0.0,>=2.7.1->topic-wizard) (3.1.6)\n",
      "Collecting blinker>=1.6.2\n",
      "  Downloading blinker-1.9.0-py3-none-any.whl (8.5 kB)\n",
      "Requirement already satisfied: click>=8.1.3 in /Users/evaqw/Documents/UniMarburg/Hackathon/SCRIPTUM/venv/lib/python3.9/site-packages (from Flask<3.1,>=1.0.4->dash<3.0.0,>=2.7.1->topic-wizard) (8.1.8)\n",
      "Collecting itsdangerous>=2.1.2\n",
      "  Using cached itsdangerous-2.2.0-py3-none-any.whl (16 kB)\n",
      "Collecting cachelib>=0.9.0\n",
      "  Downloading cachelib-0.13.0-py3-none-any.whl (20 kB)\n",
      "Requirement already satisfied: zipp>=3.20 in /Users/evaqw/Documents/UniMarburg/Hackathon/SCRIPTUM/venv/lib/python3.9/site-packages (from importlib-metadata->dash<3.0.0,>=2.7.1->topic-wizard) (3.21.0)\n",
      "Requirement already satisfied: MarkupSafe>=2.0 in /Users/evaqw/Documents/UniMarburg/Hackathon/SCRIPTUM/venv/lib/python3.9/site-packages (from Jinja2>=3.1.2->Flask<3.1,>=1.0.4->dash<3.0.0,>=2.7.1->topic-wizard) (3.0.2)\n",
      "Collecting editorconfig>=0.12.2\n",
      "  Downloading EditorConfig-0.17.0-py3-none-any.whl (16 kB)\n",
      "Requirement already satisfied: six>=1.13.0 in /Users/evaqw/Documents/UniMarburg/Hackathon/SCRIPTUM/venv/lib/python3.9/site-packages (from jsbeautifier<2.0.0,>=1.14.3->dash-extensions<2.0.0,>=1.0.4->topic-wizard) (1.17.0)\n",
      "Requirement already satisfied: tzdata>=2022.7 in /Users/evaqw/Documents/UniMarburg/Hackathon/SCRIPTUM/venv/lib/python3.9/site-packages (from pandas>=1.5.2->topic-wizard) (2025.2)\n",
      "Requirement already satisfied: python-dateutil>=2.8.2 in /Users/evaqw/Documents/UniMarburg/Hackathon/SCRIPTUM/venv/lib/python3.9/site-packages (from pandas>=1.5.2->topic-wizard) (2.9.0.post0)\n",
      "Requirement already satisfied: pytz>=2020.1 in /Users/evaqw/Documents/UniMarburg/Hackathon/SCRIPTUM/venv/lib/python3.9/site-packages (from pandas>=1.5.2->topic-wizard) (2025.2)\n",
      "Requirement already satisfied: narwhals>=1.15.1 in /Users/evaqw/Documents/UniMarburg/Hackathon/SCRIPTUM/venv/lib/python3.9/site-packages (from plotly>=5.0.0->dash<3.0.0,>=2.7.1->topic-wizard) (1.40.0)\n",
      "Requirement already satisfied: packaging in /Users/evaqw/Documents/UniMarburg/Hackathon/SCRIPTUM/venv/lib/python3.9/site-packages (from plotly>=5.0.0->dash<3.0.0,>=2.7.1->topic-wizard) (25.0)\n",
      "Collecting typing-inspection>=0.4.0\n",
      "  Downloading typing_inspection-0.4.1-py3-none-any.whl (14 kB)\n",
      "Collecting pydantic-core==2.33.2\n",
      "  Using cached pydantic_core-2.33.2-cp39-cp39-macosx_11_0_arm64.whl (1.9 MB)\n",
      "Collecting annotated-types>=0.6.0\n",
      "  Using cached annotated_types-0.7.0-py3-none-any.whl (13 kB)\n",
      "Requirement already satisfied: threadpoolctl>=3.1.0 in /Users/evaqw/Documents/UniMarburg/Hackathon/SCRIPTUM/venv/lib/python3.9/site-packages (from scikit-learn<2.0.0,>=1.2.0->topic-wizard) (3.6.0)\n",
      "Collecting pynndescent>=0.5\n",
      "  Downloading pynndescent-0.5.13-py3-none-any.whl (56 kB)\n",
      "\u001b[K     |████████████████████████████████| 56 kB 14.6 MB/s eta 0:00:01\n",
      "\u001b[?25hRequirement already satisfied: tqdm in /Users/evaqw/Documents/UniMarburg/Hackathon/SCRIPTUM/venv/lib/python3.9/site-packages (from umap-learn>=0.5.3->topic-wizard) (4.67.1)\n",
      "Collecting numba>=0.51.2\n",
      "  Downloading numba-0.60.0-cp39-cp39-macosx_11_0_arm64.whl (2.7 MB)\n",
      "\u001b[K     |████████████████████████████████| 2.7 MB 21.9 MB/s eta 0:00:01\n",
      "\u001b[?25hCollecting llvmlite<0.44,>=0.43.0dev0\n",
      "  Downloading llvmlite-0.43.0-cp39-cp39-macosx_11_0_arm64.whl (28.8 MB)\n",
      "\u001b[K     |████████████████████████████████| 28.8 MB 24.0 MB/s eta 0:00:01     |█████████████████████▉          | 19.7 MB 22.6 MB/s eta 0:00:01\n",
      "\u001b[?25hRequirement already satisfied: matplotlib in /Users/evaqw/Documents/UniMarburg/Hackathon/SCRIPTUM/venv/lib/python3.9/site-packages (from wordcloud<2.0.0,>=1.9.2->topic-wizard) (3.9.4)\n",
      "Requirement already satisfied: contourpy>=1.0.1 in /Users/evaqw/Documents/UniMarburg/Hackathon/SCRIPTUM/venv/lib/python3.9/site-packages (from matplotlib->wordcloud<2.0.0,>=1.9.2->topic-wizard) (1.3.0)\n",
      "Requirement already satisfied: cycler>=0.10 in /Users/evaqw/Documents/UniMarburg/Hackathon/SCRIPTUM/venv/lib/python3.9/site-packages (from matplotlib->wordcloud<2.0.0,>=1.9.2->topic-wizard) (0.12.1)\n",
      "Requirement already satisfied: importlib-resources>=3.2.0 in /Users/evaqw/Documents/UniMarburg/Hackathon/SCRIPTUM/venv/lib/python3.9/site-packages (from matplotlib->wordcloud<2.0.0,>=1.9.2->topic-wizard) (6.5.2)\n",
      "Requirement already satisfied: pyparsing>=2.3.1 in /Users/evaqw/Documents/UniMarburg/Hackathon/SCRIPTUM/venv/lib/python3.9/site-packages (from matplotlib->wordcloud<2.0.0,>=1.9.2->topic-wizard) (3.2.3)\n",
      "Requirement already satisfied: kiwisolver>=1.3.1 in /Users/evaqw/Documents/UniMarburg/Hackathon/SCRIPTUM/venv/lib/python3.9/site-packages (from matplotlib->wordcloud<2.0.0,>=1.9.2->topic-wizard) (1.4.7)\n",
      "Requirement already satisfied: fonttools>=4.22.0 in /Users/evaqw/Documents/UniMarburg/Hackathon/SCRIPTUM/venv/lib/python3.9/site-packages (from matplotlib->wordcloud<2.0.0,>=1.9.2->topic-wizard) (4.58.0)\n",
      "Requirement already satisfied: idna<4,>=2.5 in /Users/evaqw/Documents/UniMarburg/Hackathon/SCRIPTUM/venv/lib/python3.9/site-packages (from requests->dash<3.0.0,>=2.7.1->topic-wizard) (3.10)\n",
      "Requirement already satisfied: urllib3<3,>=1.21.1 in /Users/evaqw/Documents/UniMarburg/Hackathon/SCRIPTUM/venv/lib/python3.9/site-packages (from requests->dash<3.0.0,>=2.7.1->topic-wizard) (2.4.0)\n",
      "Requirement already satisfied: certifi>=2017.4.17 in /Users/evaqw/Documents/UniMarburg/Hackathon/SCRIPTUM/venv/lib/python3.9/site-packages (from requests->dash<3.0.0,>=2.7.1->topic-wizard) (2025.4.26)\n",
      "Requirement already satisfied: charset-normalizer<4,>=2 in /Users/evaqw/Documents/UniMarburg/Hackathon/SCRIPTUM/venv/lib/python3.9/site-packages (from requests->dash<3.0.0,>=2.7.1->topic-wizard) (3.4.2)\n",
      "Installing collected packages: Werkzeug, llvmlite, itsdangerous, blinker, typing-inspection, retrying, pydantic-core, numba, Flask, editorconfig, dash-table, dash-html-components, dash-core-components, cachelib, annotated-types, pynndescent, pydantic, more-itertools, jsbeautifier, Flask-Caching, dataclass-wizard, dash, umap-learn, dash-mantine-components, dash-iconify, dash-extensions, topic-wizard\n",
      "Successfully installed Flask-3.0.3 Flask-Caching-2.3.1 Werkzeug-3.0.6 annotated-types-0.7.0 blinker-1.9.0 cachelib-0.13.0 dash-2.18.2 dash-core-components-2.0.0 dash-extensions-1.0.20 dash-html-components-2.0.0 dash-iconify-0.1.2 dash-mantine-components-0.12.1 dash-table-5.0.0 dataclass-wizard-0.30.1 editorconfig-0.17.0 itsdangerous-2.2.0 jsbeautifier-1.15.4 llvmlite-0.43.0 more-itertools-10.7.0 numba-0.60.0 pydantic-2.11.5 pydantic-core-2.33.2 pynndescent-0.5.13 retrying-1.3.4 topic-wizard-1.1.4 typing-inspection-0.4.1 umap-learn-0.5.7\n",
      "\u001b[33mWARNING: You are using pip version 21.2.4; however, version 25.1.1 is available.\n",
      "You should consider upgrading via the '/Users/evaqw/Documents/UniMarburg/Hackathon/SCRIPTUM/venv/bin/python3 -m pip install --upgrade pip' command.\u001b[0m\n"
     ]
    }
   ],
   "source": [
    "!pip install topic-wizard"
   ]
  },
  {
   "cell_type": "code",
   "execution_count": 264,
   "metadata": {},
   "outputs": [
    {
     "data": {
      "application/vnd.jupyter.widget-view+json": {
       "model_id": "45f2bbc251fa4fb18e19a4c063eee70d",
       "version_major": 2,
       "version_minor": 0
      },
      "text/plain": [
       "Output()"
      ]
     },
     "metadata": {},
     "output_type": "display_data"
    },
    {
     "name": "stdout",
     "output_type": "stream",
     "text": [
      "Preprocessing\n"
     ]
    },
    {
     "data": {
      "text/html": [
       "<pre style=\"white-space:pre;overflow-x:auto;line-height:normal;font-family:Menlo,'DejaVu Sans Mono',consolas,'Courier New',monospace\"></pre>\n"
      ],
      "text/plain": []
     },
     "metadata": {},
     "output_type": "display_data"
    },
    {
     "ename": "KeyboardInterrupt",
     "evalue": "",
     "output_type": "error",
     "traceback": [
      "\u001b[0;31m---------------------------------------------------------------------------\u001b[0m",
      "\u001b[0;31mKeyboardInterrupt\u001b[0m                         Traceback (most recent call last)",
      "Cell \u001b[0;32mIn[264], line 3\u001b[0m\n\u001b[1;32m      1\u001b[0m \u001b[38;5;28;01mimport\u001b[39;00m\u001b[38;5;250m \u001b[39m\u001b[38;5;21;01mtopicwizard\u001b[39;00m\n\u001b[0;32m----> 3\u001b[0m \u001b[43mtopicwizard\u001b[49m\u001b[38;5;241;43m.\u001b[39;49m\u001b[43mvisualize\u001b[49m\u001b[43m(\u001b[49m\u001b[43mtexts_clean\u001b[49m\u001b[43m[\u001b[49m\u001b[43m:\u001b[49m\u001b[43mN\u001b[49m\u001b[43m]\u001b[49m\u001b[43m,\u001b[49m\u001b[43m \u001b[49m\u001b[43mmodel\u001b[49m\u001b[38;5;241;43m=\u001b[39;49m\u001b[43mmodel_keynmf\u001b[49m\u001b[43m)\u001b[49m\n",
      "File \u001b[0;32m~/Documents/UniMarburg/Hackathon/SCRIPTUM/venv/lib/python3.9/site-packages/topicwizard/app.py:268\u001b[0m, in \u001b[0;36mvisualize\u001b[0;34m(corpus, model, topic_data, document_names, exclude_pages, group_labels, port, wordcloud_font_path, **kwargs)\u001b[0m\n\u001b[1;32m    264\u001b[0m     \u001b[38;5;28;01mif\u001b[39;00m (model \u001b[38;5;129;01mis\u001b[39;00m \u001b[38;5;28;01mNone\u001b[39;00m) \u001b[38;5;129;01mor\u001b[39;00m (corpus \u001b[38;5;129;01mis\u001b[39;00m \u001b[38;5;28;01mNone\u001b[39;00m):\n\u001b[1;32m    265\u001b[0m         \u001b[38;5;28;01mraise\u001b[39;00m \u001b[38;5;167;01mTypeError\u001b[39;00m(\n\u001b[1;32m    266\u001b[0m             \u001b[38;5;124m\"\u001b[39m\u001b[38;5;124mEither corpus and model or topic_data has to be specified.\u001b[39m\u001b[38;5;124m\"\u001b[39m\n\u001b[1;32m    267\u001b[0m         )\n\u001b[0;32m--> 268\u001b[0m     topic_data \u001b[38;5;241m=\u001b[39m \u001b[43mmodel\u001b[49m\u001b[38;5;241;43m.\u001b[39;49m\u001b[43mprepare_topic_data\u001b[49m\u001b[43m(\u001b[49m\u001b[43mcorpus\u001b[49m\u001b[43m,\u001b[49m\u001b[43m \u001b[49m\u001b[38;5;241;43m*\u001b[39;49m\u001b[38;5;241;43m*\u001b[39;49m\u001b[43mkwargs\u001b[49m\u001b[43m)\u001b[49m\n\u001b[1;32m    269\u001b[0m exclude_pages \u001b[38;5;241m=\u001b[39m \u001b[38;5;28mset\u001b[39m() \u001b[38;5;28;01mif\u001b[39;00m exclude_pages \u001b[38;5;129;01mis\u001b[39;00m \u001b[38;5;28;01mNone\u001b[39;00m \u001b[38;5;28;01melse\u001b[39;00m \u001b[38;5;28mset\u001b[39m(exclude_pages)\n\u001b[1;32m    270\u001b[0m \u001b[38;5;66;03m# We filter out all documents that contain nans\u001b[39;00m\n",
      "File \u001b[0;32m~/Documents/UniMarburg/Hackathon/SCRIPTUM/venv/lib/python3.9/site-packages/turftopic/models/keynmf.py:422\u001b[0m, in \u001b[0;36mKeyNMF.prepare_topic_data\u001b[0;34m(self, corpus, embeddings, keywords)\u001b[0m\n\u001b[1;32m    420\u001b[0m \u001b[38;5;28;01mwith\u001b[39;00m console\u001b[38;5;241m.\u001b[39mstatus(\u001b[38;5;124m\"\u001b[39m\u001b[38;5;124mRunning KeyNMF\u001b[39m\u001b[38;5;124m\"\u001b[39m) \u001b[38;5;28;01mas\u001b[39;00m status:\n\u001b[1;32m    421\u001b[0m     \u001b[38;5;28;01mif\u001b[39;00m embeddings \u001b[38;5;129;01mis\u001b[39;00m \u001b[38;5;28;01mNone\u001b[39;00m:\n\u001b[0;32m--> 422\u001b[0m         embeddings \u001b[38;5;241m=\u001b[39m \u001b[38;5;28;43mself\u001b[39;49m\u001b[38;5;241;43m.\u001b[39;49m\u001b[43mencode_documents\u001b[49m\u001b[43m(\u001b[49m\u001b[43mcorpus\u001b[49m\u001b[43m)\u001b[49m\n\u001b[1;32m    423\u001b[0m     \u001b[38;5;28;01mif\u001b[39;00m keywords \u001b[38;5;129;01mis\u001b[39;00m \u001b[38;5;28;01mNone\u001b[39;00m:\n\u001b[1;32m    424\u001b[0m         status\u001b[38;5;241m.\u001b[39mupdate(\u001b[38;5;124m\"\u001b[39m\u001b[38;5;124mExtracting keywords\u001b[39m\u001b[38;5;124m\"\u001b[39m)\n",
      "File \u001b[0;32m~/Documents/UniMarburg/Hackathon/SCRIPTUM/venv/lib/python3.9/site-packages/turftopic/base.py:44\u001b[0m, in \u001b[0;36mContextualModel.encode_documents\u001b[0;34m(self, raw_documents)\u001b[0m\n\u001b[1;32m     42\u001b[0m \u001b[38;5;28;01mif\u001b[39;00m \u001b[38;5;129;01mnot\u001b[39;00m \u001b[38;5;28mhasattr\u001b[39m(\u001b[38;5;28mself\u001b[39m\u001b[38;5;241m.\u001b[39mencoder_, \u001b[38;5;124m\"\u001b[39m\u001b[38;5;124mencode\u001b[39m\u001b[38;5;124m\"\u001b[39m):\n\u001b[1;32m     43\u001b[0m     \u001b[38;5;28;01mreturn\u001b[39;00m \u001b[38;5;28mself\u001b[39m\u001b[38;5;241m.\u001b[39mencoder\u001b[38;5;241m.\u001b[39mget_text_embeddings(\u001b[38;5;28mlist\u001b[39m(raw_documents))\n\u001b[0;32m---> 44\u001b[0m \u001b[38;5;28;01mreturn\u001b[39;00m \u001b[38;5;28;43mself\u001b[39;49m\u001b[38;5;241;43m.\u001b[39;49m\u001b[43mencoder_\u001b[49m\u001b[38;5;241;43m.\u001b[39;49m\u001b[43mencode\u001b[49m\u001b[43m(\u001b[49m\u001b[43mraw_documents\u001b[49m\u001b[43m)\u001b[49m\n",
      "File \u001b[0;32m~/Documents/UniMarburg/Hackathon/SCRIPTUM/venv/lib/python3.9/site-packages/sentence_transformers/SentenceTransformer.py:648\u001b[0m, in \u001b[0;36mSentenceTransformer.encode\u001b[0;34m(self, sentences, prompt_name, prompt, batch_size, show_progress_bar, output_value, precision, convert_to_numpy, convert_to_tensor, device, normalize_embeddings, **kwargs)\u001b[0m\n\u001b[1;32m    645\u001b[0m \u001b[38;5;28mself\u001b[39m\u001b[38;5;241m.\u001b[39mto(device)\n\u001b[1;32m    647\u001b[0m all_embeddings \u001b[38;5;241m=\u001b[39m []\n\u001b[0;32m--> 648\u001b[0m length_sorted_idx \u001b[38;5;241m=\u001b[39m np\u001b[38;5;241m.\u001b[39margsort([\u001b[38;5;241m-\u001b[39m\u001b[38;5;28mself\u001b[39m\u001b[38;5;241m.\u001b[39m_text_length(sen) \u001b[38;5;28;01mfor\u001b[39;00m sen \u001b[38;5;129;01min\u001b[39;00m sentences])\n\u001b[1;32m    649\u001b[0m sentences_sorted \u001b[38;5;241m=\u001b[39m [sentences[idx] \u001b[38;5;28;01mfor\u001b[39;00m idx \u001b[38;5;129;01min\u001b[39;00m length_sorted_idx]\n\u001b[1;32m    651\u001b[0m \u001b[38;5;28;01mfor\u001b[39;00m start_index \u001b[38;5;129;01min\u001b[39;00m trange(\u001b[38;5;241m0\u001b[39m, \u001b[38;5;28mlen\u001b[39m(sentences), batch_size, desc\u001b[38;5;241m=\u001b[39m\u001b[38;5;124m\"\u001b[39m\u001b[38;5;124mBatches\u001b[39m\u001b[38;5;124m\"\u001b[39m, disable\u001b[38;5;241m=\u001b[39m\u001b[38;5;129;01mnot\u001b[39;00m show_progress_bar):\n",
      "File \u001b[0;32m~/Documents/UniMarburg/Hackathon/SCRIPTUM/venv/lib/python3.9/site-packages/sentence_transformers/SentenceTransformer.py:648\u001b[0m, in \u001b[0;36m<listcomp>\u001b[0;34m(.0)\u001b[0m\n\u001b[1;32m    645\u001b[0m \u001b[38;5;28mself\u001b[39m\u001b[38;5;241m.\u001b[39mto(device)\n\u001b[1;32m    647\u001b[0m all_embeddings \u001b[38;5;241m=\u001b[39m []\n\u001b[0;32m--> 648\u001b[0m length_sorted_idx \u001b[38;5;241m=\u001b[39m np\u001b[38;5;241m.\u001b[39margsort([\u001b[38;5;241m-\u001b[39m\u001b[38;5;28;43mself\u001b[39;49m\u001b[38;5;241;43m.\u001b[39;49m\u001b[43m_text_length\u001b[49m\u001b[43m(\u001b[49m\u001b[43msen\u001b[49m\u001b[43m)\u001b[49m \u001b[38;5;28;01mfor\u001b[39;00m sen \u001b[38;5;129;01min\u001b[39;00m sentences])\n\u001b[1;32m    649\u001b[0m sentences_sorted \u001b[38;5;241m=\u001b[39m [sentences[idx] \u001b[38;5;28;01mfor\u001b[39;00m idx \u001b[38;5;129;01min\u001b[39;00m length_sorted_idx]\n\u001b[1;32m    651\u001b[0m \u001b[38;5;28;01mfor\u001b[39;00m start_index \u001b[38;5;129;01min\u001b[39;00m trange(\u001b[38;5;241m0\u001b[39m, \u001b[38;5;28mlen\u001b[39m(sentences), batch_size, desc\u001b[38;5;241m=\u001b[39m\u001b[38;5;124m\"\u001b[39m\u001b[38;5;124mBatches\u001b[39m\u001b[38;5;124m\"\u001b[39m, disable\u001b[38;5;241m=\u001b[39m\u001b[38;5;129;01mnot\u001b[39;00m show_progress_bar):\n",
      "File \u001b[0;32m~/Documents/UniMarburg/Hackathon/SCRIPTUM/venv/lib/python3.9/site-packages/sentence_transformers/SentenceTransformer.py:1546\u001b[0m, in \u001b[0;36mSentenceTransformer._text_length\u001b[0;34m(self, text)\u001b[0m\n\u001b[1;32m   1544\u001b[0m     \u001b[38;5;28;01mreturn\u001b[39;00m \u001b[38;5;28mlen\u001b[39m(text)\n\u001b[1;32m   1545\u001b[0m \u001b[38;5;28;01melse\u001b[39;00m:\n\u001b[0;32m-> 1546\u001b[0m     \u001b[38;5;28;01mreturn\u001b[39;00m \u001b[38;5;28;43msum\u001b[39;49m\u001b[43m(\u001b[49m\u001b[43m[\u001b[49m\u001b[38;5;28;43mlen\u001b[39;49m\u001b[43m(\u001b[49m\u001b[43mt\u001b[49m\u001b[43m)\u001b[49m\u001b[43m \u001b[49m\u001b[38;5;28;43;01mfor\u001b[39;49;00m\u001b[43m \u001b[49m\u001b[43mt\u001b[49m\u001b[43m \u001b[49m\u001b[38;5;129;43;01min\u001b[39;49;00m\u001b[43m \u001b[49m\u001b[43mtext\u001b[49m\u001b[43m]\u001b[49m\u001b[43m)\u001b[49m\n",
      "\u001b[0;31mKeyboardInterrupt\u001b[0m: "
     ]
    }
   ],
   "source": [
    "import topicwizard\n",
    "\n",
    "topicwizard.visualize(texts_clean[:N], model=model_keynmf)"
   ]
  },
  {
   "cell_type": "markdown",
   "metadata": {},
   "source": [
    "### S3\n"
   ]
  },
  {
   "cell_type": "code",
   "execution_count": 152,
   "metadata": {},
   "outputs": [],
   "source": [
    "from turftopic import SemanticSignalSeparation\n",
    "\n",
    "model_s3 = SemanticSignalSeparation(n_components=20, \n",
    "                                    feature_importance=\"angular\", \n",
    "                                    random_state=42,\n",
    "                                    encoder='paraphrase-MiniLM-L3-v2',\n",
    "                                    max_iter=1000,\n",
    "                                    vectorizer=CountVectorizer(min_df=5, max_df=0.8, \n",
    "                                                               stop_words=stop_words))"
   ]
  },
  {
   "cell_type": "code",
   "execution_count": 153,
   "metadata": {},
   "outputs": [
    {
     "data": {
      "application/vnd.jupyter.widget-view+json": {
       "model_id": "e9fe6c9cc709464b85240a235739370f",
       "version_major": 2,
       "version_minor": 0
      },
      "text/plain": [
       "Output()"
      ]
     },
     "metadata": {},
     "output_type": "display_data"
    },
    {
     "data": {
      "text/html": [
       "<pre style=\"white-space:pre;overflow-x:auto;line-height:normal;font-family:Menlo,'DejaVu Sans Mono',consolas,'Courier New',monospace\"><span style=\"color: #7fbfbf; text-decoration-color: #7fbfbf\">[01:39:48] </span>Documents encoded.                                                                         <a href=\"file:///Users/evaqw/Documents/UniMarburg/Hackathon/SCRIPTUM/venv/lib/python3.9/site-packages/turftopic/models/decomp.py\" target=\"_blank\"><span style=\"color: #7f7f7f; text-decoration-color: #7f7f7f\">decomp.py</span></a><span style=\"color: #7f7f7f; text-decoration-color: #7f7f7f\">:</span><a href=\"file:///Users/evaqw/Documents/UniMarburg/Hackathon/SCRIPTUM/venv/lib/python3.9/site-packages/turftopic/models/decomp.py#141\" target=\"_blank\"><span style=\"color: #7f7f7f; text-decoration-color: #7f7f7f\">141</span></a>\n",
       "</pre>\n"
      ],
      "text/plain": [
       "\u001b[2;36m[01:39:48]\u001b[0m\u001b[2;36m \u001b[0mDocuments encoded.                                                                         \u001b]8;id=663641;file:///Users/evaqw/Documents/UniMarburg/Hackathon/SCRIPTUM/venv/lib/python3.9/site-packages/turftopic/models/decomp.py\u001b\\\u001b[2mdecomp.py\u001b[0m\u001b]8;;\u001b\\\u001b[2m:\u001b[0m\u001b]8;id=921277;file:///Users/evaqw/Documents/UniMarburg/Hackathon/SCRIPTUM/venv/lib/python3.9/site-packages/turftopic/models/decomp.py#141\u001b\\\u001b[2m141\u001b[0m\u001b]8;;\u001b\\\n"
      ]
     },
     "metadata": {},
     "output_type": "display_data"
    },
    {
     "data": {
      "text/html": [
       "<pre style=\"white-space:pre;overflow-x:auto;line-height:normal;font-family:Menlo,'DejaVu Sans Mono',consolas,'Courier New',monospace\">/Users/evaqw/Documents/UniMarburg/Hackathon/SCRIPTUM/venv/lib/python3.9/site-packages/sklearn/decomposition/_fastic\n",
       "a.py:127: ConvergenceWarning:\n",
       "\n",
       "FastICA did not converge. Consider increasing tolerance or the maximum number of iterations.\n",
       "\n",
       "</pre>\n"
      ],
      "text/plain": [
       "/Users/evaqw/Documents/UniMarburg/Hackathon/SCRIPTUM/venv/lib/python3.9/site-packages/sklearn/decomposition/_fastic\n",
       "a.py:127: ConvergenceWarning:\n",
       "\n",
       "FastICA did not converge. Consider increasing tolerance or the maximum number of iterations.\n",
       "\n"
      ]
     },
     "metadata": {},
     "output_type": "display_data"
    },
    {
     "data": {
      "text/html": [
       "<pre style=\"white-space:pre;overflow-x:auto;line-height:normal;font-family:Menlo,'DejaVu Sans Mono',consolas,'Courier New',monospace\"><span style=\"color: #7fbfbf; text-decoration-color: #7fbfbf\">[01:39:49] </span>Decomposition done.                                                                        <a href=\"file:///Users/evaqw/Documents/UniMarburg/Hackathon/SCRIPTUM/venv/lib/python3.9/site-packages/turftopic/models/decomp.py\" target=\"_blank\"><span style=\"color: #7f7f7f; text-decoration-color: #7f7f7f\">decomp.py</span></a><span style=\"color: #7f7f7f; text-decoration-color: #7f7f7f\">:</span><a href=\"file:///Users/evaqw/Documents/UniMarburg/Hackathon/SCRIPTUM/venv/lib/python3.9/site-packages/turftopic/models/decomp.py#144\" target=\"_blank\"><span style=\"color: #7f7f7f; text-decoration-color: #7f7f7f\">144</span></a>\n",
       "</pre>\n"
      ],
      "text/plain": [
       "\u001b[2;36m[01:39:49]\u001b[0m\u001b[2;36m \u001b[0mDecomposition done.                                                                        \u001b]8;id=994985;file:///Users/evaqw/Documents/UniMarburg/Hackathon/SCRIPTUM/venv/lib/python3.9/site-packages/turftopic/models/decomp.py\u001b\\\u001b[2mdecomp.py\u001b[0m\u001b]8;;\u001b\\\u001b[2m:\u001b[0m\u001b]8;id=505822;file:///Users/evaqw/Documents/UniMarburg/Hackathon/SCRIPTUM/venv/lib/python3.9/site-packages/turftopic/models/decomp.py#144\u001b\\\u001b[2m144\u001b[0m\u001b]8;;\u001b\\\n"
      ]
     },
     "metadata": {},
     "output_type": "display_data"
    },
    {
     "data": {
      "text/html": [
       "<pre style=\"white-space:pre;overflow-x:auto;line-height:normal;font-family:Menlo,'DejaVu Sans Mono',consolas,'Courier New',monospace\"><span style=\"color: #7fbfbf; text-decoration-color: #7fbfbf\">[01:39:50] </span>Term extraction done.                                                                      <a href=\"file:///Users/evaqw/Documents/UniMarburg/Hackathon/SCRIPTUM/venv/lib/python3.9/site-packages/turftopic/models/decomp.py\" target=\"_blank\"><span style=\"color: #7f7f7f; text-decoration-color: #7f7f7f\">decomp.py</span></a><span style=\"color: #7f7f7f; text-decoration-color: #7f7f7f\">:</span><a href=\"file:///Users/evaqw/Documents/UniMarburg/Hackathon/SCRIPTUM/venv/lib/python3.9/site-packages/turftopic/models/decomp.py#147\" target=\"_blank\"><span style=\"color: #7f7f7f; text-decoration-color: #7f7f7f\">147</span></a>\n",
       "</pre>\n"
      ],
      "text/plain": [
       "\u001b[2;36m[01:39:50]\u001b[0m\u001b[2;36m \u001b[0mTerm extraction done.                                                                      \u001b]8;id=407140;file:///Users/evaqw/Documents/UniMarburg/Hackathon/SCRIPTUM/venv/lib/python3.9/site-packages/turftopic/models/decomp.py\u001b\\\u001b[2mdecomp.py\u001b[0m\u001b]8;;\u001b\\\u001b[2m:\u001b[0m\u001b]8;id=256115;file:///Users/evaqw/Documents/UniMarburg/Hackathon/SCRIPTUM/venv/lib/python3.9/site-packages/turftopic/models/decomp.py#147\u001b\\\u001b[2m147\u001b[0m\u001b]8;;\u001b\\\n"
      ]
     },
     "metadata": {},
     "output_type": "display_data"
    },
    {
     "data": {
      "text/html": [
       "<pre style=\"white-space:pre;overflow-x:auto;line-height:normal;font-family:Menlo,'DejaVu Sans Mono',consolas,'Courier New',monospace\"><span style=\"color: #7fbfbf; text-decoration-color: #7fbfbf\">[01:40:01] </span>Vocabulary encoded.                                                                        <a href=\"file:///Users/evaqw/Documents/UniMarburg/Hackathon/SCRIPTUM/venv/lib/python3.9/site-packages/turftopic/models/decomp.py\" target=\"_blank\"><span style=\"color: #7f7f7f; text-decoration-color: #7f7f7f\">decomp.py</span></a><span style=\"color: #7f7f7f; text-decoration-color: #7f7f7f\">:</span><a href=\"file:///Users/evaqw/Documents/UniMarburg/Hackathon/SCRIPTUM/venv/lib/python3.9/site-packages/turftopic/models/decomp.py#157\" target=\"_blank\"><span style=\"color: #7f7f7f; text-decoration-color: #7f7f7f\">157</span></a>\n",
       "</pre>\n"
      ],
      "text/plain": [
       "\u001b[2;36m[01:40:01]\u001b[0m\u001b[2;36m \u001b[0mVocabulary encoded.                                                                        \u001b]8;id=687489;file:///Users/evaqw/Documents/UniMarburg/Hackathon/SCRIPTUM/venv/lib/python3.9/site-packages/turftopic/models/decomp.py\u001b\\\u001b[2mdecomp.py\u001b[0m\u001b]8;;\u001b\\\u001b[2m:\u001b[0m\u001b]8;id=871763;file:///Users/evaqw/Documents/UniMarburg/Hackathon/SCRIPTUM/venv/lib/python3.9/site-packages/turftopic/models/decomp.py#157\u001b\\\u001b[2m157\u001b[0m\u001b]8;;\u001b\\\n"
      ]
     },
     "metadata": {},
     "output_type": "display_data"
    },
    {
     "data": {
      "text/html": [
       "<pre style=\"white-space:pre;overflow-x:auto;line-height:normal;font-family:Menlo,'DejaVu Sans Mono',consolas,'Courier New',monospace\"><span style=\"color: #7fbfbf; text-decoration-color: #7fbfbf\">           </span>Model fitting done.                                                                        <a href=\"file:///Users/evaqw/Documents/UniMarburg/Hackathon/SCRIPTUM/venv/lib/python3.9/site-packages/turftopic/models/decomp.py\" target=\"_blank\"><span style=\"color: #7f7f7f; text-decoration-color: #7f7f7f\">decomp.py</span></a><span style=\"color: #7f7f7f; text-decoration-color: #7f7f7f\">:</span><a href=\"file:///Users/evaqw/Documents/UniMarburg/Hackathon/SCRIPTUM/venv/lib/python3.9/site-packages/turftopic/models/decomp.py#170\" target=\"_blank\"><span style=\"color: #7f7f7f; text-decoration-color: #7f7f7f\">170</span></a>\n",
       "</pre>\n"
      ],
      "text/plain": [
       "\u001b[2;36m          \u001b[0m\u001b[2;36m \u001b[0mModel fitting done.                                                                        \u001b]8;id=681025;file:///Users/evaqw/Documents/UniMarburg/Hackathon/SCRIPTUM/venv/lib/python3.9/site-packages/turftopic/models/decomp.py\u001b\\\u001b[2mdecomp.py\u001b[0m\u001b]8;;\u001b\\\u001b[2m:\u001b[0m\u001b]8;id=322367;file:///Users/evaqw/Documents/UniMarburg/Hackathon/SCRIPTUM/venv/lib/python3.9/site-packages/turftopic/models/decomp.py#170\u001b\\\u001b[2m170\u001b[0m\u001b]8;;\u001b\\\n"
      ]
     },
     "metadata": {},
     "output_type": "display_data"
    },
    {
     "data": {
      "text/html": [
       "<pre style=\"white-space:pre;overflow-x:auto;line-height:normal;font-family:Menlo,'DejaVu Sans Mono',consolas,'Courier New',monospace\"></pre>\n"
      ],
      "text/plain": []
     },
     "metadata": {},
     "output_type": "display_data"
    }
   ],
   "source": [
    "output_s3 = model_s3.fit_dynamic(texts_clean[:N], \n",
    "                                timestamps=ts[:N], \n",
    "                                bins=10)"
   ]
  },
  {
   "cell_type": "code",
   "execution_count": null,
   "metadata": {},
   "outputs": [],
   "source": [
    "# pickle model\n",
    "with open('model_s3.pkl', 'wb') as f:\n",
    "    pickle.dump(model_s3, f)"
   ]
  },
  {
   "cell_type": "code",
   "execution_count": 126,
   "metadata": {},
   "outputs": [
    {
     "name": "stderr",
     "output_type": "stream",
     "text": [
      "huggingface/tokenizers: The current process just got forked, after parallelism has already been used. Disabling parallelism to avoid deadlocks...\n",
      "To disable this warning, you can either:\n",
      "\t- Avoid using `tokenizers` before the fork if possible\n",
      "\t- Explicitly set the environment variable TOKENIZERS_PARALLELISM=(true | false)\n"
     ]
    },
    {
     "name": "stdout",
     "output_type": "stream",
     "text": [
      "Collecting plotly\n",
      "  Downloading plotly-6.1.1-py3-none-any.whl (16.1 MB)\n",
      "\u001b[K     |████████████████████████████████| 16.1 MB 4.5 MB/s eta 0:00:01\n",
      "\u001b[?25hRequirement already satisfied: packaging in /Users/evaqw/Documents/UniMarburg/Hackathon/SCRIPTUM/venv/lib/python3.9/site-packages (from plotly) (25.0)\n",
      "Collecting narwhals>=1.15.1\n",
      "  Downloading narwhals-1.40.0-py3-none-any.whl (357 kB)\n",
      "\u001b[K     |████████████████████████████████| 357 kB 4.0 MB/s eta 0:00:01\n",
      "\u001b[?25hInstalling collected packages: narwhals, plotly\n",
      "Successfully installed narwhals-1.40.0 plotly-6.1.1\n",
      "\u001b[33mWARNING: You are using pip version 21.2.4; however, version 25.1.1 is available.\n",
      "You should consider upgrading via the '/Users/evaqw/Documents/UniMarburg/Hackathon/SCRIPTUM/venv/bin/python3 -m pip install --upgrade pip' command.\u001b[0m\n"
     ]
    }
   ],
   "source": [
    "# !pip install plotly"
   ]
  },
  {
   "cell_type": "code",
   "execution_count": 154,
   "metadata": {},
   "outputs": [
    {
     "data": {
      "text/html": [
       "<pre style=\"white-space:pre;overflow-x:auto;line-height:normal;font-family:Menlo,'DejaVu Sans Mono',consolas,'Courier New',monospace\">┏━━━━━━━━━━┳━━━━━━━━━━━━━━━━━━━━━━━━━━━━━━━━━━━━━━━━━━━━━━━━━━━┳━━━━━━━━━━━━━━━━━━━━━━━━━━━━━━━━━━━━━━━━━━━━━━━━━━┓\n",
       "┃<span style=\"font-weight: bold\"> Topic ID </span>┃<span style=\"font-weight: bold\"> Highest Ranking                                   </span>┃<span style=\"font-weight: bold\"> Lowest Ranking                                   </span>┃\n",
       "┡━━━━━━━━━━╇━━━━━━━━━━━━━━━━━━━━━━━━━━━━━━━━━━━━━━━━━━━━━━━━━━━╇━━━━━━━━━━━━━━━━━━━━━━━━━━━━━━━━━━━━━━━━━━━━━━━━━━┩\n",
       "│<span style=\"color: #000080; text-decoration-color: #000080\">        0 </span>│<span style=\"color: #800080; text-decoration-color: #800080\"> l3, l4, rz, tmi, l7                               </span>│<span style=\"color: #800000; text-decoration-color: #800000\"> grafická, člunu, graficky, grafický,             </span>│\n",
       "│<span style=\"color: #000080; text-decoration-color: #000080\">          </span>│<span style=\"color: #800080; text-decoration-color: #800080\">                                                   </span>│<span style=\"color: #800000; text-decoration-color: #800000\"> architekturou                                    </span>│\n",
       "├──────────┼───────────────────────────────────────────────────┼──────────────────────────────────────────────────┤\n",
       "│<span style=\"color: #000080; text-decoration-color: #000080\">        1 </span>│<span style=\"color: #800080; text-decoration-color: #800080\"> mechaniky, oklamat, beznaděje, matematika,        </span>│<span style=\"color: #800000; text-decoration-color: #800000\"> pozoruje, pospas, pozoru, potrubí, pospolu       </span>│\n",
       "│<span style=\"color: #000080; text-decoration-color: #000080\">          </span>│<span style=\"color: #800080; text-decoration-color: #800080\"> mechanika                                         </span>│<span style=\"color: #800000; text-decoration-color: #800000\">                                                  </span>│\n",
       "├──────────┼───────────────────────────────────────────────────┼──────────────────────────────────────────────────┤\n",
       "│<span style=\"color: #000080; text-decoration-color: #000080\">        2 </span>│<span style=\"color: #800080; text-decoration-color: #800080\"> lavic, sedla, lavice, prostoře, hloubka           </span>│<span style=\"color: #800000; text-decoration-color: #800000\"> neúprosný, příbuznými, jednoduchosti, zpoždění,  </span>│\n",
       "│<span style=\"color: #000080; text-decoration-color: #000080\">          </span>│<span style=\"color: #800080; text-decoration-color: #800080\">                                                   </span>│<span style=\"color: #800000; text-decoration-color: #800000\"> zřetelný                                         </span>│\n",
       "├──────────┼───────────────────────────────────────────────────┼──────────────────────────────────────────────────┤\n",
       "│<span style=\"color: #000080; text-decoration-color: #000080\">        3 </span>│<span style=\"color: #800080; text-decoration-color: #800080\"> mírových, katolíci, následovníci, dokazoval,      </span>│<span style=\"color: #800000; text-decoration-color: #800000\"> ep, přebujelé, věcech, přečteme, postuláty       </span>│\n",
       "│<span style=\"color: #000080; text-decoration-color: #000080\">          </span>│<span style=\"color: #800080; text-decoration-color: #800080\"> prodloužení                                       </span>│<span style=\"color: #800000; text-decoration-color: #800000\">                                                  </span>│\n",
       "├──────────┼───────────────────────────────────────────────────┼──────────────────────────────────────────────────┤\n",
       "│<span style=\"color: #000080; text-decoration-color: #000080\">        4 </span>│<span style=\"color: #800080; text-decoration-color: #800080\"> alternativa, alternativy, alternativní, jednat,   </span>│<span style=\"color: #800000; text-decoration-color: #800000\"> lano, rto, vtipného, hospodářském, vti           </span>│\n",
       "│<span style=\"color: #000080; text-decoration-color: #000080\">          </span>│<span style=\"color: #800080; text-decoration-color: #800080\"> nemalou                                           </span>│<span style=\"color: #800000; text-decoration-color: #800000\">                                                  </span>│\n",
       "├──────────┼───────────────────────────────────────────────────┼──────────────────────────────────────────────────┤\n",
       "│<span style=\"color: #000080; text-decoration-color: #000080\">        5 </span>│<span style=\"color: #800080; text-decoration-color: #800080\"> sebereflexe, prožité, prožít, prožitk, přeložit   </span>│<span style=\"color: #800000; text-decoration-color: #800000\"> výšin, vh, vys, výs, vyš                         </span>│\n",
       "├──────────┼───────────────────────────────────────────────────┼──────────────────────────────────────────────────┤\n",
       "│<span style=\"color: #000080; text-decoration-color: #000080\">        6 </span>│<span style=\"color: #800080; text-decoration-color: #800080\"> 716, 792, 726, 723, 711                           </span>│<span style=\"color: #800000; text-decoration-color: #800000\"> zájem, zaujímají, zahájením, míjejí, zastihuje   </span>│\n",
       "├──────────┼───────────────────────────────────────────────────┼──────────────────────────────────────────────────┤\n",
       "│<span style=\"color: #000080; text-decoration-color: #000080\">        7 </span>│<span style=\"color: #800080; text-decoration-color: #800080\"> berou, pláty, platy, brodského, plochy            </span>│<span style=\"color: #800000; text-decoration-color: #800000\"> vyzařovat, panovníka, požáru, panovník, nazareta </span>│\n",
       "├──────────┼───────────────────────────────────────────────────┼──────────────────────────────────────────────────┤\n",
       "│<span style=\"color: #000080; text-decoration-color: #000080\">        8 </span>│<span style=\"color: #800080; text-decoration-color: #800080\"> tahy, tav, taa, táž, táhla                        </span>│<span style=\"color: #800000; text-decoration-color: #800000\"> netuší, scénami, absolvovali, nepřísluší,        </span>│\n",
       "│<span style=\"color: #000080; text-decoration-color: #000080\">          </span>│<span style=\"color: #800080; text-decoration-color: #800080\">                                                   </span>│<span style=\"color: #800000; text-decoration-color: #800000\"> popisující                                       </span>│\n",
       "├──────────┼───────────────────────────────────────────────────┼──────────────────────────────────────────────────┤\n",
       "│<span style=\"color: #000080; text-decoration-color: #000080\">        9 </span>│<span style=\"color: #800080; text-decoration-color: #800080\"> general, generál, brána, book, bank               </span>│<span style=\"color: #800000; text-decoration-color: #800000\"> neumdlévající, určující, podněcuje, určuje,      </span>│\n",
       "│<span style=\"color: #000080; text-decoration-color: #000080\">          </span>│<span style=\"color: #800080; text-decoration-color: #800080\">                                                   </span>│<span style=\"color: #800000; text-decoration-color: #800000\"> odmítali                                         </span>│\n",
       "├──────────┼───────────────────────────────────────────────────┼──────────────────────────────────────────────────┤\n",
       "│<span style=\"color: #000080; text-decoration-color: #000080\">       10 </span>│<span style=\"color: #800080; text-decoration-color: #800080\"> ospravedlňovat, doplňování, osnova, doplňovaly,   </span>│<span style=\"color: #800000; text-decoration-color: #800000\"> právním, píšeš, pilného, protestantských,        </span>│\n",
       "│<span style=\"color: #000080; text-decoration-color: #000080\">          </span>│<span style=\"color: #800080; text-decoration-color: #800080\"> doplňovat                                         </span>│<span style=\"color: #800000; text-decoration-color: #800000\"> pokračovatelé                                    </span>│\n",
       "├──────────┼───────────────────────────────────────────────────┼──────────────────────────────────────────────────┤\n",
       "│<span style=\"color: #000080; text-decoration-color: #000080\">       11 </span>│<span style=\"color: #800080; text-decoration-color: #800080\"> prmyslová, ponejprv, majky, prešově, spoločnosti  </span>│<span style=\"color: #800000; text-decoration-color: #800000\"> absolutnímu, 3000, řidič, universitní,           </span>│\n",
       "│<span style=\"color: #000080; text-decoration-color: #000080\">          </span>│<span style=\"color: #800080; text-decoration-color: #800080\">                                                   </span>│<span style=\"color: #800000; text-decoration-color: #800000\"> totalitnímu                                      </span>│\n",
       "├──────────┼───────────────────────────────────────────────────┼──────────────────────────────────────────────────┤\n",
       "│<span style=\"color: #000080; text-decoration-color: #000080\">       12 </span>│<span style=\"color: #800080; text-decoration-color: #800080\"> trubku, lístku, roušku, kousku, kléru             </span>│<span style=\"color: #800000; text-decoration-color: #800000\"> diváci, štědře, stela, činohra, tisících         </span>│\n",
       "├──────────┼───────────────────────────────────────────────────┼──────────────────────────────────────────────────┤\n",
       "│<span style=\"color: #000080; text-decoration-color: #000080\">       13 </span>│<span style=\"color: #800080; text-decoration-color: #800080\"> podzimním, extrémním, podívám, typem, mým         </span>│<span style=\"color: #800000; text-decoration-color: #800000\"> provokace, knížka, doplněn, brněnského, právu    </span>│\n",
       "├──────────┼───────────────────────────────────────────────────┼──────────────────────────────────────────────────┤\n",
       "│<span style=\"color: #000080; text-decoration-color: #000080\">       14 </span>│<span style=\"color: #800080; text-decoration-color: #800080\"> rekonstrukci, 507, kapacita, 7x, 617              </span>│<span style=\"color: #800000; text-decoration-color: #800000\"> oez, óo, oo, odboje, ooo                         </span>│\n",
       "├──────────┼───────────────────────────────────────────────────┼──────────────────────────────────────────────────┤\n",
       "│<span style=\"color: #000080; text-decoration-color: #000080\">       15 </span>│<span style=\"color: #800080; text-decoration-color: #800080\"> procento, dědičnosti, misionáře, něčeho, truhlář  </span>│<span style=\"color: #800000; text-decoration-color: #800000\"> dostatečná, radošinské, drsná, radostná, smetana </span>│\n",
       "├──────────┼───────────────────────────────────────────────────┼──────────────────────────────────────────────────┤\n",
       "│<span style=\"color: #000080; text-decoration-color: #000080\">       16 </span>│<span style=\"color: #800080; text-decoration-color: #800080\"> jistot, chránit, uvádí, jit, jít                  </span>│<span style=\"color: #800000; text-decoration-color: #800000\"> automat, svob, automaty, svobodný, svobo         </span>│\n",
       "├──────────┼───────────────────────────────────────────────────┼──────────────────────────────────────────────────┤\n",
       "│<span style=\"color: #000080; text-decoration-color: #000080\">       17 </span>│<span style=\"color: #800080; text-decoration-color: #800080\"> 0c, sýrem, němc, němce, nevnímá                   </span>│<span style=\"color: #800000; text-decoration-color: #800000\"> dnešního, večerního, dokonalého, úrok,           </span>│\n",
       "│<span style=\"color: #000080; text-decoration-color: #000080\">          </span>│<span style=\"color: #800080; text-decoration-color: #800080\">                                                   </span>│<span style=\"color: #800000; text-decoration-color: #800000\"> experimentálního                                 </span>│\n",
       "├──────────┼───────────────────────────────────────────────────┼──────────────────────────────────────────────────┤\n",
       "│<span style=\"color: #000080; text-decoration-color: #000080\">       18 </span>│<span style=\"color: #800080; text-decoration-color: #800080\"> podpisu, pokolení, dopisu, dopisy, informacemi    </span>│<span style=\"color: #800000; text-decoration-color: #800000\"> mělké, nemělo, neměl, nemel, neměla              </span>│\n",
       "├──────────┼───────────────────────────────────────────────────┼──────────────────────────────────────────────────┤\n",
       "│<span style=\"color: #000080; text-decoration-color: #000080\">       19 </span>│<span style=\"color: #800080; text-decoration-color: #800080\"> jic, včas, nazvali, actm, acta                    </span>│<span style=\"color: #800000; text-decoration-color: #800000\"> teoretického, ošklivě, ošklivé, kapitalistické,  </span>│\n",
       "│<span style=\"color: #000080; text-decoration-color: #000080\">          </span>│<span style=\"color: #800080; text-decoration-color: #800080\">                                                   </span>│<span style=\"color: #800000; text-decoration-color: #800000\"> teoreticko                                       </span>│\n",
       "└──────────┴───────────────────────────────────────────────────┴──────────────────────────────────────────────────┘\n",
       "</pre>\n"
      ],
      "text/plain": [
       "┏━━━━━━━━━━┳━━━━━━━━━━━━━━━━━━━━━━━━━━━━━━━━━━━━━━━━━━━━━━━━━━━┳━━━━━━━━━━━━━━━━━━━━━━━━━━━━━━━━━━━━━━━━━━━━━━━━━━┓\n",
       "┃\u001b[1m \u001b[0m\u001b[1mTopic ID\u001b[0m\u001b[1m \u001b[0m┃\u001b[1m \u001b[0m\u001b[1mHighest Ranking                                  \u001b[0m\u001b[1m \u001b[0m┃\u001b[1m \u001b[0m\u001b[1mLowest Ranking                                  \u001b[0m\u001b[1m \u001b[0m┃\n",
       "┡━━━━━━━━━━╇━━━━━━━━━━━━━━━━━━━━━━━━━━━━━━━━━━━━━━━━━━━━━━━━━━━╇━━━━━━━━━━━━━━━━━━━━━━━━━━━━━━━━━━━━━━━━━━━━━━━━━━┩\n",
       "│\u001b[34m \u001b[0m\u001b[34m       0\u001b[0m\u001b[34m \u001b[0m│\u001b[35m \u001b[0m\u001b[35ml3, l4, rz, tmi, l7                              \u001b[0m\u001b[35m \u001b[0m│\u001b[31m \u001b[0m\u001b[31mgrafická, člunu, graficky, grafický,            \u001b[0m\u001b[31m \u001b[0m│\n",
       "│\u001b[34m          \u001b[0m│\u001b[35m                                                   \u001b[0m│\u001b[31m \u001b[0m\u001b[31marchitekturou                                   \u001b[0m\u001b[31m \u001b[0m│\n",
       "├──────────┼───────────────────────────────────────────────────┼──────────────────────────────────────────────────┤\n",
       "│\u001b[34m \u001b[0m\u001b[34m       1\u001b[0m\u001b[34m \u001b[0m│\u001b[35m \u001b[0m\u001b[35mmechaniky, oklamat, beznaděje, matematika,       \u001b[0m\u001b[35m \u001b[0m│\u001b[31m \u001b[0m\u001b[31mpozoruje, pospas, pozoru, potrubí, pospolu      \u001b[0m\u001b[31m \u001b[0m│\n",
       "│\u001b[34m          \u001b[0m│\u001b[35m \u001b[0m\u001b[35mmechanika                                        \u001b[0m\u001b[35m \u001b[0m│\u001b[31m                                                  \u001b[0m│\n",
       "├──────────┼───────────────────────────────────────────────────┼──────────────────────────────────────────────────┤\n",
       "│\u001b[34m \u001b[0m\u001b[34m       2\u001b[0m\u001b[34m \u001b[0m│\u001b[35m \u001b[0m\u001b[35mlavic, sedla, lavice, prostoře, hloubka          \u001b[0m\u001b[35m \u001b[0m│\u001b[31m \u001b[0m\u001b[31mneúprosný, příbuznými, jednoduchosti, zpoždění, \u001b[0m\u001b[31m \u001b[0m│\n",
       "│\u001b[34m          \u001b[0m│\u001b[35m                                                   \u001b[0m│\u001b[31m \u001b[0m\u001b[31mzřetelný                                        \u001b[0m\u001b[31m \u001b[0m│\n",
       "├──────────┼───────────────────────────────────────────────────┼──────────────────────────────────────────────────┤\n",
       "│\u001b[34m \u001b[0m\u001b[34m       3\u001b[0m\u001b[34m \u001b[0m│\u001b[35m \u001b[0m\u001b[35mmírových, katolíci, následovníci, dokazoval,     \u001b[0m\u001b[35m \u001b[0m│\u001b[31m \u001b[0m\u001b[31mep, přebujelé, věcech, přečteme, postuláty      \u001b[0m\u001b[31m \u001b[0m│\n",
       "│\u001b[34m          \u001b[0m│\u001b[35m \u001b[0m\u001b[35mprodloužení                                      \u001b[0m\u001b[35m \u001b[0m│\u001b[31m                                                  \u001b[0m│\n",
       "├──────────┼───────────────────────────────────────────────────┼──────────────────────────────────────────────────┤\n",
       "│\u001b[34m \u001b[0m\u001b[34m       4\u001b[0m\u001b[34m \u001b[0m│\u001b[35m \u001b[0m\u001b[35malternativa, alternativy, alternativní, jednat,  \u001b[0m\u001b[35m \u001b[0m│\u001b[31m \u001b[0m\u001b[31mlano, rto, vtipného, hospodářském, vti          \u001b[0m\u001b[31m \u001b[0m│\n",
       "│\u001b[34m          \u001b[0m│\u001b[35m \u001b[0m\u001b[35mnemalou                                          \u001b[0m\u001b[35m \u001b[0m│\u001b[31m                                                  \u001b[0m│\n",
       "├──────────┼───────────────────────────────────────────────────┼──────────────────────────────────────────────────┤\n",
       "│\u001b[34m \u001b[0m\u001b[34m       5\u001b[0m\u001b[34m \u001b[0m│\u001b[35m \u001b[0m\u001b[35msebereflexe, prožité, prožít, prožitk, přeložit  \u001b[0m\u001b[35m \u001b[0m│\u001b[31m \u001b[0m\u001b[31mvýšin, vh, vys, výs, vyš                        \u001b[0m\u001b[31m \u001b[0m│\n",
       "├──────────┼───────────────────────────────────────────────────┼──────────────────────────────────────────────────┤\n",
       "│\u001b[34m \u001b[0m\u001b[34m       6\u001b[0m\u001b[34m \u001b[0m│\u001b[35m \u001b[0m\u001b[35m716, 792, 726, 723, 711                          \u001b[0m\u001b[35m \u001b[0m│\u001b[31m \u001b[0m\u001b[31mzájem, zaujímají, zahájením, míjejí, zastihuje  \u001b[0m\u001b[31m \u001b[0m│\n",
       "├──────────┼───────────────────────────────────────────────────┼──────────────────────────────────────────────────┤\n",
       "│\u001b[34m \u001b[0m\u001b[34m       7\u001b[0m\u001b[34m \u001b[0m│\u001b[35m \u001b[0m\u001b[35mberou, pláty, platy, brodského, plochy           \u001b[0m\u001b[35m \u001b[0m│\u001b[31m \u001b[0m\u001b[31mvyzařovat, panovníka, požáru, panovník, nazareta\u001b[0m\u001b[31m \u001b[0m│\n",
       "├──────────┼───────────────────────────────────────────────────┼──────────────────────────────────────────────────┤\n",
       "│\u001b[34m \u001b[0m\u001b[34m       8\u001b[0m\u001b[34m \u001b[0m│\u001b[35m \u001b[0m\u001b[35mtahy, tav, taa, táž, táhla                       \u001b[0m\u001b[35m \u001b[0m│\u001b[31m \u001b[0m\u001b[31mnetuší, scénami, absolvovali, nepřísluší,       \u001b[0m\u001b[31m \u001b[0m│\n",
       "│\u001b[34m          \u001b[0m│\u001b[35m                                                   \u001b[0m│\u001b[31m \u001b[0m\u001b[31mpopisující                                      \u001b[0m\u001b[31m \u001b[0m│\n",
       "├──────────┼───────────────────────────────────────────────────┼──────────────────────────────────────────────────┤\n",
       "│\u001b[34m \u001b[0m\u001b[34m       9\u001b[0m\u001b[34m \u001b[0m│\u001b[35m \u001b[0m\u001b[35mgeneral, generál, brána, book, bank              \u001b[0m\u001b[35m \u001b[0m│\u001b[31m \u001b[0m\u001b[31mneumdlévající, určující, podněcuje, určuje,     \u001b[0m\u001b[31m \u001b[0m│\n",
       "│\u001b[34m          \u001b[0m│\u001b[35m                                                   \u001b[0m│\u001b[31m \u001b[0m\u001b[31modmítali                                        \u001b[0m\u001b[31m \u001b[0m│\n",
       "├──────────┼───────────────────────────────────────────────────┼──────────────────────────────────────────────────┤\n",
       "│\u001b[34m \u001b[0m\u001b[34m      10\u001b[0m\u001b[34m \u001b[0m│\u001b[35m \u001b[0m\u001b[35mospravedlňovat, doplňování, osnova, doplňovaly,  \u001b[0m\u001b[35m \u001b[0m│\u001b[31m \u001b[0m\u001b[31mprávním, píšeš, pilného, protestantských,       \u001b[0m\u001b[31m \u001b[0m│\n",
       "│\u001b[34m          \u001b[0m│\u001b[35m \u001b[0m\u001b[35mdoplňovat                                        \u001b[0m\u001b[35m \u001b[0m│\u001b[31m \u001b[0m\u001b[31mpokračovatelé                                   \u001b[0m\u001b[31m \u001b[0m│\n",
       "├──────────┼───────────────────────────────────────────────────┼──────────────────────────────────────────────────┤\n",
       "│\u001b[34m \u001b[0m\u001b[34m      11\u001b[0m\u001b[34m \u001b[0m│\u001b[35m \u001b[0m\u001b[35mprmyslová, ponejprv, majky, prešově, spoločnosti \u001b[0m\u001b[35m \u001b[0m│\u001b[31m \u001b[0m\u001b[31mabsolutnímu, 3000, řidič, universitní,          \u001b[0m\u001b[31m \u001b[0m│\n",
       "│\u001b[34m          \u001b[0m│\u001b[35m                                                   \u001b[0m│\u001b[31m \u001b[0m\u001b[31mtotalitnímu                                     \u001b[0m\u001b[31m \u001b[0m│\n",
       "├──────────┼───────────────────────────────────────────────────┼──────────────────────────────────────────────────┤\n",
       "│\u001b[34m \u001b[0m\u001b[34m      12\u001b[0m\u001b[34m \u001b[0m│\u001b[35m \u001b[0m\u001b[35mtrubku, lístku, roušku, kousku, kléru            \u001b[0m\u001b[35m \u001b[0m│\u001b[31m \u001b[0m\u001b[31mdiváci, štědře, stela, činohra, tisících        \u001b[0m\u001b[31m \u001b[0m│\n",
       "├──────────┼───────────────────────────────────────────────────┼──────────────────────────────────────────────────┤\n",
       "│\u001b[34m \u001b[0m\u001b[34m      13\u001b[0m\u001b[34m \u001b[0m│\u001b[35m \u001b[0m\u001b[35mpodzimním, extrémním, podívám, typem, mým        \u001b[0m\u001b[35m \u001b[0m│\u001b[31m \u001b[0m\u001b[31mprovokace, knížka, doplněn, brněnského, právu   \u001b[0m\u001b[31m \u001b[0m│\n",
       "├──────────┼───────────────────────────────────────────────────┼──────────────────────────────────────────────────┤\n",
       "│\u001b[34m \u001b[0m\u001b[34m      14\u001b[0m\u001b[34m \u001b[0m│\u001b[35m \u001b[0m\u001b[35mrekonstrukci, 507, kapacita, 7x, 617             \u001b[0m\u001b[35m \u001b[0m│\u001b[31m \u001b[0m\u001b[31moez, óo, oo, odboje, ooo                        \u001b[0m\u001b[31m \u001b[0m│\n",
       "├──────────┼───────────────────────────────────────────────────┼──────────────────────────────────────────────────┤\n",
       "│\u001b[34m \u001b[0m\u001b[34m      15\u001b[0m\u001b[34m \u001b[0m│\u001b[35m \u001b[0m\u001b[35mprocento, dědičnosti, misionáře, něčeho, truhlář \u001b[0m\u001b[35m \u001b[0m│\u001b[31m \u001b[0m\u001b[31mdostatečná, radošinské, drsná, radostná, smetana\u001b[0m\u001b[31m \u001b[0m│\n",
       "├──────────┼───────────────────────────────────────────────────┼──────────────────────────────────────────────────┤\n",
       "│\u001b[34m \u001b[0m\u001b[34m      16\u001b[0m\u001b[34m \u001b[0m│\u001b[35m \u001b[0m\u001b[35mjistot, chránit, uvádí, jit, jít                 \u001b[0m\u001b[35m \u001b[0m│\u001b[31m \u001b[0m\u001b[31mautomat, svob, automaty, svobodný, svobo        \u001b[0m\u001b[31m \u001b[0m│\n",
       "├──────────┼───────────────────────────────────────────────────┼──────────────────────────────────────────────────┤\n",
       "│\u001b[34m \u001b[0m\u001b[34m      17\u001b[0m\u001b[34m \u001b[0m│\u001b[35m \u001b[0m\u001b[35m0c, sýrem, němc, němce, nevnímá                  \u001b[0m\u001b[35m \u001b[0m│\u001b[31m \u001b[0m\u001b[31mdnešního, večerního, dokonalého, úrok,          \u001b[0m\u001b[31m \u001b[0m│\n",
       "│\u001b[34m          \u001b[0m│\u001b[35m                                                   \u001b[0m│\u001b[31m \u001b[0m\u001b[31mexperimentálního                                \u001b[0m\u001b[31m \u001b[0m│\n",
       "├──────────┼───────────────────────────────────────────────────┼──────────────────────────────────────────────────┤\n",
       "│\u001b[34m \u001b[0m\u001b[34m      18\u001b[0m\u001b[34m \u001b[0m│\u001b[35m \u001b[0m\u001b[35mpodpisu, pokolení, dopisu, dopisy, informacemi   \u001b[0m\u001b[35m \u001b[0m│\u001b[31m \u001b[0m\u001b[31mmělké, nemělo, neměl, nemel, neměla             \u001b[0m\u001b[31m \u001b[0m│\n",
       "├──────────┼───────────────────────────────────────────────────┼──────────────────────────────────────────────────┤\n",
       "│\u001b[34m \u001b[0m\u001b[34m      19\u001b[0m\u001b[34m \u001b[0m│\u001b[35m \u001b[0m\u001b[35mjic, včas, nazvali, actm, acta                   \u001b[0m\u001b[35m \u001b[0m│\u001b[31m \u001b[0m\u001b[31mteoretického, ošklivě, ošklivé, kapitalistické, \u001b[0m\u001b[31m \u001b[0m│\n",
       "│\u001b[34m          \u001b[0m│\u001b[35m                                                   \u001b[0m│\u001b[31m \u001b[0m\u001b[31mteoreticko                                      \u001b[0m\u001b[31m \u001b[0m│\n",
       "└──────────┴───────────────────────────────────────────────────┴──────────────────────────────────────────────────┘\n"
      ]
     },
     "metadata": {},
     "output_type": "display_data"
    }
   ],
   "source": [
    "model_s3.print_topics()"
   ]
  },
  {
   "cell_type": "code",
   "execution_count": 145,
   "metadata": {},
   "outputs": [
    {
     "data": {
      "text/html": [
       "<pre style=\"white-space:pre;overflow-x:auto;line-height:normal;font-family:Menlo,'DejaVu Sans Mono',consolas,'Courier New',monospace\">┏━━━━━━━━━━━━━━━━━━━━━━━━━━━━━━━━━━━━━━━━━━━━━━━━━━━━━━━━━━━━━━━━━━━━━━━━━━━━━━━━━━━━━━━━━━━━━━━━━━━━━━┳━━━━━━━┓\n",
       "┃<span style=\"font-weight: bold\"> Document                                                                                             </span>┃<span style=\"font-weight: bold\"> Score </span>┃\n",
       "┡━━━━━━━━━━━━━━━━━━━━━━━━━━━━━━━━━━━━━━━━━━━━━━━━━━━━━━━━━━━━━━━━━━━━━━━━━━━━━━━━━━━━━━━━━━━━━━━━━━━━━━╇━━━━━━━┩\n",
       "│<span style=\"color: #800080; text-decoration-color: #800080\"> d i s k u s e č. 39květen 1986 /teoretickcpolitický občasník/tohoto čísla: milánská výzva a co je    </span>│<span style=\"color: #000080; text-decoration-color: #000080\">  2.52 </span>│\n",
       "│<span style=\"color: #800080; text-decoration-color: #800080\"> kolem /ladislav hejdánek/ aalvmelej. w dnech 16.18*května se v miláně konala mezinárodní konference  </span>│<span style=\"color: #000080; text-decoration-color: #000080\">       </span>│\n",
       "│<span style=\"color: #800080; text-decoration-color: #800080\"> deset let po helsinkách. mezinárodní kolektiv složený z aktivist nezávislé mírové iniciativy z       </span>│<span style=\"color: #000080; text-decoration-color: #000080\">       </span>│\n",
       "│<span style=\"color: #800080; text-decoration-color: #800080\"> vídně, ...                                                                                           </span>│<span style=\"color: #000080; text-decoration-color: #000080\">       </span>│\n",
       "├──────────────────────────────────────────────────────────────────────────────────────────────────────┼───────┤\n",
       "│<span style=\"color: #800080; text-decoration-color: #800080\"> d i s k u s e č. 19leden 1985 /teoretickopolitický občasník/tohoto čísla: rozcestí pochyb i nadějí   </span>│<span style=\"color: #000080; text-decoration-color: #000080\">  2.15 </span>│\n",
       "│<span style=\"color: #800080; text-decoration-color: #800080\"> /laureatus/ na obranu vydavatele a nejen jeho /rudolf zukal/ laureatus rozcestí pochyb i nadějí      </span>│<span style=\"color: #000080; text-decoration-color: #000080\">       </span>│\n",
       "│<span style=\"color: #800080; text-decoration-color: #800080\"> procházíme nesnadným obdobím ve vnitřních i mezinárodních vztazích. osmdesátá léta se naplňují       </span>│<span style=\"color: #000080; text-decoration-color: #000080\">       </span>│\n",
       "│<span style=\"color: #800080; text-decoration-color: #800080\"> politický ...                                                                                        </span>│<span style=\"color: #000080; text-decoration-color: #000080\">       </span>│\n",
       "├──────────────────────────────────────────────────────────────────────────────────────────────────────┼───────┤\n",
       "│<span style=\"color: #800080; text-decoration-color: #800080\"> ilietif mzfcmz&amp;fj o siíiužefrřu s c i u &amp; v r m&amp; s &amp; w í i i spoubčngsti 5. 5leden 1sb9 miata        </span>│<span style=\"color: #000080; text-decoration-color: #000080\">  2.01 </span>│\n",
       "│<span style=\"color: #800080; text-decoration-color: #800080\"> úvodníku gvr. 3. dopás j&amp;í5 5 5 2 rodplflovl via zz pvqúlzvxvrjt d o v o l e j voják 2v3 i dopi*     </span>│<span style=\"color: #000080; text-decoration-color: #000080\">       </span>│\n",
       "│<span style=\"color: #800080; text-decoration-color: #800080\"> ifís pyiwcacp/ ív ssk 3 jjópis l&amp;js nóiičcku ií£3 * 4 resolnař zo fcp .oni lidskýah p;r4v 193 5      </span>│<span style=\"color: #000080; text-decoration-color: #000080\">       </span>│\n",
       "│<span style=\"color: #800080; text-decoration-color: #800080\"> troj37 ffies ...                                                                                     </span>│<span style=\"color: #000080; text-decoration-color: #000080\">       </span>│\n",
       "├──────────────────────────────────────────────────────────────────────────────────────────────────────┼───────┤\n",
       "│<span style=\"color: #800080; text-decoration-color: #800080\"> 2 1989 zpravodaj č5. skautů â skautek laszlo nagy skauting pluje proti proudu mladí lidé jbo u       </span>│<span style=\"color: #000080; text-decoration-color: #000080\">  1.59 </span>│\n",
       "│<span style=\"color: #800080; text-decoration-color: #800080\"> vnímaví.šlechetní a spontánní.mají představivost a nadšení,jsou idealističtí a edvážmý.současně však </span>│<span style=\"color: #000080; text-decoration-color: #000080\">       </span>│\n",
       "│<span style=\"color: #800080; text-decoration-color: #800080\"> stájí nedostatek sňalostí a zkušeností a jsou snadno ovlivnitelní. dnes poprvé tato přeopřilii       </span>│<span style=\"color: #000080; text-decoration-color: #000080\">       </span>│\n",
       "│<span style=\"color: #800080; text-decoration-color: #800080\"> vychováva...                                                                                         </span>│<span style=\"color: #000080; text-decoration-color: #000080\">       </span>│\n",
       "├──────────────────────────────────────────────────────────────────────────────────────────────────────┼───────┤\n",
       "│<span style=\"color: #800080; text-decoration-color: #800080\"> čtení do krosny 2 / 89 čtení do krosny 2 obsah i slovo redakce milý čtenáři! milý otče kardinále 3   </span>│<span style=\"color: #000080; text-decoration-color: #000080\">  1.57 </span>│\n",
       "│<span style=\"color: #800080; text-decoration-color: #800080\"> svatý otec o kněžství 3 svatý otec o manželství 3 povolání 4 obdivuji a velebím boží vedení 8je      </span>│<span style=\"color: #000080; text-decoration-color: #000080\">       </span>│\n",
       "│<span style=\"color: #800080; text-decoration-color: #800080\"> šance 10 trápení kněze se snoubenci 14 bh si volá koho chce, kdy chce a odkud chce 15 doufat proti   </span>│<span style=\"color: #000080; text-decoration-color: #000080\">       </span>│\n",
       "│<span style=\"color: #800080; text-decoration-color: #800080\"> vší na...                                                                                            </span>│<span style=\"color: #000080; text-decoration-color: #000080\">       </span>│\n",
       "├──────────────────────────────────────────────────────────────────────────────────────────────────────┼───────┤\n",
       "│<span style=\"color: #800080; text-decoration-color: #800080\"> ...                                                                                                  </span>│<span style=\"color: #000080; text-decoration-color: #000080\">       </span>│\n",
       "├──────────────────────────────────────────────────────────────────────────────────────────────────────┼───────┤\n",
       "│<span style=\"color: #800080; text-decoration-color: #800080\"> bull skot nezjívxslio míftov&amp;o bleu l&amp;.£ lúzclařlv* ¿ji ¿ixllxiiklmoi c.lkveten loó ; prohlášení     </span>│<span style=\"color: #000080; text-decoration-color: #000080\"> -1.59 </span>│\n",
       "│<span style=\"color: #800080; text-decoration-color: #800080\"> ¿závislého mírového sclruitííii 2 dopiď č. 1 3 ohlasy a reakce 4 k prohlášení se připojili 5 dopis   </span>│<span style=\"color: #000080; text-decoration-color: #000080\">       </span>│\n",
       "│<span style=\"color: #800080; text-decoration-color: #800080\"> čt 2 5 o ctkání se zástupci francouzské iírové iniciativy cod£.£ 6 zpráva o setkaní se zástupci čs.  </span>│<span style=\"color: #000080; text-decoration-color: #000080\">       </span>│\n",
       "│<span style=\"color: #800080; text-decoration-color: #800080\"> míro...                                                                                              </span>│<span style=\"color: #000080; text-decoration-color: #000080\">       </span>│\n",
       "├──────────────────────────────────────────────────────────────────────────────────────────────────────┼───────┤\n",
       "│<span style=\"color: #800080; text-decoration-color: #800080\"> diskuse č. 49leden 1987 /teoretickopolitický občasník/ o b s a h tohoto čísla: k současné situaci    </span>│<span style=\"color: #000080; text-decoration-color: #000080\"> -1.88 </span>│\n",
       "│<span style=\"color: #800080; text-decoration-color: #800080\"> naší společnosti a státu potřebujeme přestavbu past zvaná poučení aneb strach z revizionismu         </span>│<span style=\"color: #000080; text-decoration-color: #000080\">       </span>│\n",
       "│<span style=\"color: #800080; text-decoration-color: #800080\"> waldemar matuška přestal být rytířem bez bázně a hany /čestmír císař/ /vladimír kadlec/ /rudolf      </span>│<span style=\"color: #000080; text-decoration-color: #000080\">       </span>│\n",
       "│<span style=\"color: #800080; text-decoration-color: #800080\"> zukal/ /karel...                                                                                     </span>│<span style=\"color: #000080; text-decoration-color: #000080\">       </span>│\n",
       "├──────────────────────────────────────────────────────────────────────────────────────────────────────┼───────┤\n",
       "│<span style=\"color: #800080; text-decoration-color: #800080\"> m i c t e mzcrtieo 5 ř í í ó. xočmtyu dopis wts poslsiiofr ís ¿.cvei&amp;ao zákií pl.itrv «tr* 1 dopis   </span>│<span style=\"color: #000080; text-decoration-color: #000080\"> -2.50 </span>│\n",
       "│<span style=\"color: #800080; text-decoration-color: #800080\"> poalanc&amp;a f3 k p?ciei rasf piviw slo&amp;bfc 1 ní k případfta oouoaanýgti dn2 3 opia póěfl asadp fs z    </span>│<span style=\"color: #000080; text-decoration-color: #000080\">       </span>│\n",
       "│<span style=\"color: #800080; text-decoration-color: #800080\"> fre&amp;tisku kardijiálu tcsúčkavi 3 pooia výboru torejnooti pro lidolsá práva a hur.« ¿spolupráci 4     </span>│<span style=\"color: #000080; text-decoration-color: #000080\">       </span>│\n",
       "│<span style=\"color: #800080; text-decoration-color: #800080\"> 3opia ...                                                                                            </span>│<span style=\"color: #000080; text-decoration-color: #000080\">       </span>│\n",
       "├──────────────────────────────────────────────────────────────────────────────────────────────────────┼───────┤\n",
       "│<span style=\"color: #800080; text-decoration-color: #800080\"> diskuse č. 35březen 1986 /teoretickopolitický občasník/tohoto čísla: žijeme na dluh, na úkor         </span>│<span style=\"color: #000080; text-decoration-color: #000080\"> -2.59 </span>│\n",
       "│<span style=\"color: #800080; text-decoration-color: #800080\"> budoucnosti a z podstaty /vladimír kadlec/ několik glos k jedné konferenci /laureatus/ vladimir      </span>│<span style=\"color: #000080; text-decoration-color: #000080\">       </span>│\n",
       "│<span style=\"color: #800080; text-decoration-color: #800080\"> kadlec žijeme na dluh, na úkor budoucnosti a z podstaty n«ä@ životní úroveň v pohledních lotech je   </span>│<span style=\"color: #000080; text-decoration-color: #000080\">       </span>│\n",
       "│<span style=\"color: #800080; text-decoration-color: #800080\"> jen uměle ud...                                                                                      </span>│<span style=\"color: #000080; text-decoration-color: #000080\">       </span>│\n",
       "├──────────────────────────────────────────────────────────────────────────────────────────────────────┼───────┤\n",
       "│<span style=\"color: #800080; text-decoration-color: #800080\"> ox o t § p o e z i e p ř í s p ě v k y p r o f i l y § ji ří v ox b z cyklu déši fročne£rší? proč    </span>│<span style=\"color: #000080; text-decoration-color: #000080\"> -5.07 </span>│\n",
       "│<span style=\"color: #800080; text-decoration-color: #800080\"> neprší miluji déší»bubnování do střech miluji vni z nebe padající vody co na zeni přináší dobro nebo </span>│<span style=\"color: #000080; text-decoration-color: #000080\">       </span>│\n",
       "│<span style=\"color: #800080; text-decoration-color: #800080\"> zlo ? déší dé ä t.... konečně déší kapky padaj z nebe a šustí v koruně stronu mračna se trhají       </span>│<span style=\"color: #000080; text-decoration-color: #000080\">       </span>│\n",
       "│<span style=\"color: #800080; text-decoration-color: #800080\"> vzduch...                                                                                            </span>│<span style=\"color: #000080; text-decoration-color: #000080\">       </span>│\n",
       "└──────────────────────────────────────────────────────────────────────────────────────────────────────┴───────┘\n",
       "</pre>\n"
      ],
      "text/plain": [
       "┏━━━━━━━━━━━━━━━━━━━━━━━━━━━━━━━━━━━━━━━━━━━━━━━━━━━━━━━━━━━━━━━━━━━━━━━━━━━━━━━━━━━━━━━━━━━━━━━━━━━━━━┳━━━━━━━┓\n",
       "┃\u001b[1m \u001b[0m\u001b[1mDocument                                                                                            \u001b[0m\u001b[1m \u001b[0m┃\u001b[1m \u001b[0m\u001b[1mScore\u001b[0m\u001b[1m \u001b[0m┃\n",
       "┡━━━━━━━━━━━━━━━━━━━━━━━━━━━━━━━━━━━━━━━━━━━━━━━━━━━━━━━━━━━━━━━━━━━━━━━━━━━━━━━━━━━━━━━━━━━━━━━━━━━━━━╇━━━━━━━┩\n",
       "│\u001b[35m \u001b[0m\u001b[35md i s k u s e č. 39květen 1986 /teoretickcpolitický občasník/tohoto čísla: milánská výzva a co je   \u001b[0m\u001b[35m \u001b[0m│\u001b[34m \u001b[0m\u001b[34m 2.52\u001b[0m\u001b[34m \u001b[0m│\n",
       "│\u001b[35m \u001b[0m\u001b[35mkolem /ladislav hejdánek/ aalvmelej. w dnech 16.18*května se v miláně konala mezinárodní konference \u001b[0m\u001b[35m \u001b[0m│\u001b[34m       \u001b[0m│\n",
       "│\u001b[35m \u001b[0m\u001b[35mdeset let po helsinkách. mezinárodní kolektiv složený z aktivist nezávislé mírové iniciativy z      \u001b[0m\u001b[35m \u001b[0m│\u001b[34m       \u001b[0m│\n",
       "│\u001b[35m \u001b[0m\u001b[35mvídně, ...                                                                                          \u001b[0m\u001b[35m \u001b[0m│\u001b[34m       \u001b[0m│\n",
       "├──────────────────────────────────────────────────────────────────────────────────────────────────────┼───────┤\n",
       "│\u001b[35m \u001b[0m\u001b[35md i s k u s e č. 19leden 1985 /teoretickopolitický občasník/tohoto čísla: rozcestí pochyb i nadějí  \u001b[0m\u001b[35m \u001b[0m│\u001b[34m \u001b[0m\u001b[34m 2.15\u001b[0m\u001b[34m \u001b[0m│\n",
       "│\u001b[35m \u001b[0m\u001b[35m/laureatus/ na obranu vydavatele a nejen jeho /rudolf zukal/ laureatus rozcestí pochyb i nadějí     \u001b[0m\u001b[35m \u001b[0m│\u001b[34m       \u001b[0m│\n",
       "│\u001b[35m \u001b[0m\u001b[35mprocházíme nesnadným obdobím ve vnitřních i mezinárodních vztazích. osmdesátá léta se naplňují      \u001b[0m\u001b[35m \u001b[0m│\u001b[34m       \u001b[0m│\n",
       "│\u001b[35m \u001b[0m\u001b[35mpolitický ...                                                                                       \u001b[0m\u001b[35m \u001b[0m│\u001b[34m       \u001b[0m│\n",
       "├──────────────────────────────────────────────────────────────────────────────────────────────────────┼───────┤\n",
       "│\u001b[35m \u001b[0m\u001b[35milietif mzfcmz&fj o siíiužefrřu s c i u & v r m& s & w í i i spoubčngsti 5. 5leden 1sb9 miata       \u001b[0m\u001b[35m \u001b[0m│\u001b[34m \u001b[0m\u001b[34m 2.01\u001b[0m\u001b[34m \u001b[0m│\n",
       "│\u001b[35m \u001b[0m\u001b[35múvodníku gvr. 3. dopás j&í5 5 5 2 rodplflovl via zz pvqúlzvxvrjt d o v o l e j voják 2v3 i dopi*    \u001b[0m\u001b[35m \u001b[0m│\u001b[34m       \u001b[0m│\n",
       "│\u001b[35m \u001b[0m\u001b[35mifís pyiwcacp/ ív ssk 3 jjópis l&js nóiičcku ií£3 * 4 resolnař zo fcp .oni lidskýah p;r4v 193 5     \u001b[0m\u001b[35m \u001b[0m│\u001b[34m       \u001b[0m│\n",
       "│\u001b[35m \u001b[0m\u001b[35mtroj37 ffies ...                                                                                    \u001b[0m\u001b[35m \u001b[0m│\u001b[34m       \u001b[0m│\n",
       "├──────────────────────────────────────────────────────────────────────────────────────────────────────┼───────┤\n",
       "│\u001b[35m \u001b[0m\u001b[35m2 1989 zpravodaj č5. skautů â skautek laszlo nagy skauting pluje proti proudu mladí lidé jbo u      \u001b[0m\u001b[35m \u001b[0m│\u001b[34m \u001b[0m\u001b[34m 1.59\u001b[0m\u001b[34m \u001b[0m│\n",
       "│\u001b[35m \u001b[0m\u001b[35mvnímaví.šlechetní a spontánní.mají představivost a nadšení,jsou idealističtí a edvážmý.současně však\u001b[0m\u001b[35m \u001b[0m│\u001b[34m       \u001b[0m│\n",
       "│\u001b[35m \u001b[0m\u001b[35mstájí nedostatek sňalostí a zkušeností a jsou snadno ovlivnitelní. dnes poprvé tato přeopřilii      \u001b[0m\u001b[35m \u001b[0m│\u001b[34m       \u001b[0m│\n",
       "│\u001b[35m \u001b[0m\u001b[35mvychováva...                                                                                        \u001b[0m\u001b[35m \u001b[0m│\u001b[34m       \u001b[0m│\n",
       "├──────────────────────────────────────────────────────────────────────────────────────────────────────┼───────┤\n",
       "│\u001b[35m \u001b[0m\u001b[35mčtení do krosny 2 / 89 čtení do krosny 2 obsah i slovo redakce milý čtenáři! milý otče kardinále 3  \u001b[0m\u001b[35m \u001b[0m│\u001b[34m \u001b[0m\u001b[34m 1.57\u001b[0m\u001b[34m \u001b[0m│\n",
       "│\u001b[35m \u001b[0m\u001b[35msvatý otec o kněžství 3 svatý otec o manželství 3 povolání 4 obdivuji a velebím boží vedení 8je     \u001b[0m\u001b[35m \u001b[0m│\u001b[34m       \u001b[0m│\n",
       "│\u001b[35m \u001b[0m\u001b[35mšance 10 trápení kněze se snoubenci 14 bh si volá koho chce, kdy chce a odkud chce 15 doufat proti  \u001b[0m\u001b[35m \u001b[0m│\u001b[34m       \u001b[0m│\n",
       "│\u001b[35m \u001b[0m\u001b[35mvší na...                                                                                           \u001b[0m\u001b[35m \u001b[0m│\u001b[34m       \u001b[0m│\n",
       "├──────────────────────────────────────────────────────────────────────────────────────────────────────┼───────┤\n",
       "│\u001b[35m \u001b[0m\u001b[35m...                                                                                                 \u001b[0m\u001b[35m \u001b[0m│\u001b[34m \u001b[0m\u001b[34m     \u001b[0m\u001b[34m \u001b[0m│\n",
       "├──────────────────────────────────────────────────────────────────────────────────────────────────────┼───────┤\n",
       "│\u001b[35m \u001b[0m\u001b[35mbull skot nezjívxslio míftov&o bleu l&.£ lúzclařlv* ¿ji ¿ixllxiiklmoi c.lkveten loó ; prohlášení    \u001b[0m\u001b[35m \u001b[0m│\u001b[34m \u001b[0m\u001b[34m-1.59\u001b[0m\u001b[34m \u001b[0m│\n",
       "│\u001b[35m \u001b[0m\u001b[35m¿závislého mírového sclruitííii 2 dopiď č. 1 3 ohlasy a reakce 4 k prohlášení se připojili 5 dopis  \u001b[0m\u001b[35m \u001b[0m│\u001b[34m       \u001b[0m│\n",
       "│\u001b[35m \u001b[0m\u001b[35mčt 2 5 o ctkání se zástupci francouzské iírové iniciativy cod£.£ 6 zpráva o setkaní se zástupci čs. \u001b[0m\u001b[35m \u001b[0m│\u001b[34m       \u001b[0m│\n",
       "│\u001b[35m \u001b[0m\u001b[35mmíro...                                                                                             \u001b[0m\u001b[35m \u001b[0m│\u001b[34m       \u001b[0m│\n",
       "├──────────────────────────────────────────────────────────────────────────────────────────────────────┼───────┤\n",
       "│\u001b[35m \u001b[0m\u001b[35mdiskuse č. 49leden 1987 /teoretickopolitický občasník/ o b s a h tohoto čísla: k současné situaci   \u001b[0m\u001b[35m \u001b[0m│\u001b[34m \u001b[0m\u001b[34m-1.88\u001b[0m\u001b[34m \u001b[0m│\n",
       "│\u001b[35m \u001b[0m\u001b[35mnaší společnosti a státu potřebujeme přestavbu past zvaná poučení aneb strach z revizionismu        \u001b[0m\u001b[35m \u001b[0m│\u001b[34m       \u001b[0m│\n",
       "│\u001b[35m \u001b[0m\u001b[35mwaldemar matuška přestal být rytířem bez bázně a hany /čestmír císař/ /vladimír kadlec/ /rudolf     \u001b[0m\u001b[35m \u001b[0m│\u001b[34m       \u001b[0m│\n",
       "│\u001b[35m \u001b[0m\u001b[35mzukal/ /karel...                                                                                    \u001b[0m\u001b[35m \u001b[0m│\u001b[34m       \u001b[0m│\n",
       "├──────────────────────────────────────────────────────────────────────────────────────────────────────┼───────┤\n",
       "│\u001b[35m \u001b[0m\u001b[35mm i c t e mzcrtieo 5 ř í í ó. xočmtyu dopis wts poslsiiofr ís ¿.cvei&ao zákií pl.itrv «tr* 1 dopis  \u001b[0m\u001b[35m \u001b[0m│\u001b[34m \u001b[0m\u001b[34m-2.50\u001b[0m\u001b[34m \u001b[0m│\n",
       "│\u001b[35m \u001b[0m\u001b[35mpoalanc&a f3 k p?ciei rasf piviw slo&bfc 1 ní k případfta oouoaanýgti dn2 3 opia póěfl asadp fs z   \u001b[0m\u001b[35m \u001b[0m│\u001b[34m       \u001b[0m│\n",
       "│\u001b[35m \u001b[0m\u001b[35mfre&tisku kardijiálu tcsúčkavi 3 pooia výboru torejnooti pro lidolsá práva a hur.« ¿spolupráci 4    \u001b[0m\u001b[35m \u001b[0m│\u001b[34m       \u001b[0m│\n",
       "│\u001b[35m \u001b[0m\u001b[35m3opia ...                                                                                           \u001b[0m\u001b[35m \u001b[0m│\u001b[34m       \u001b[0m│\n",
       "├──────────────────────────────────────────────────────────────────────────────────────────────────────┼───────┤\n",
       "│\u001b[35m \u001b[0m\u001b[35mdiskuse č. 35březen 1986 /teoretickopolitický občasník/tohoto čísla: žijeme na dluh, na úkor        \u001b[0m\u001b[35m \u001b[0m│\u001b[34m \u001b[0m\u001b[34m-2.59\u001b[0m\u001b[34m \u001b[0m│\n",
       "│\u001b[35m \u001b[0m\u001b[35mbudoucnosti a z podstaty /vladimír kadlec/ několik glos k jedné konferenci /laureatus/ vladimir     \u001b[0m\u001b[35m \u001b[0m│\u001b[34m       \u001b[0m│\n",
       "│\u001b[35m \u001b[0m\u001b[35mkadlec žijeme na dluh, na úkor budoucnosti a z podstaty n«ä@ životní úroveň v pohledních lotech je  \u001b[0m\u001b[35m \u001b[0m│\u001b[34m       \u001b[0m│\n",
       "│\u001b[35m \u001b[0m\u001b[35mjen uměle ud...                                                                                     \u001b[0m\u001b[35m \u001b[0m│\u001b[34m       \u001b[0m│\n",
       "├──────────────────────────────────────────────────────────────────────────────────────────────────────┼───────┤\n",
       "│\u001b[35m \u001b[0m\u001b[35mox o t § p o e z i e p ř í s p ě v k y p r o f i l y § ji ří v ox b z cyklu déši fročne£rší? proč   \u001b[0m\u001b[35m \u001b[0m│\u001b[34m \u001b[0m\u001b[34m-5.07\u001b[0m\u001b[34m \u001b[0m│\n",
       "│\u001b[35m \u001b[0m\u001b[35mneprší miluji déší»bubnování do střech miluji vni z nebe padající vody co na zeni přináší dobro nebo\u001b[0m\u001b[35m \u001b[0m│\u001b[34m       \u001b[0m│\n",
       "│\u001b[35m \u001b[0m\u001b[35mzlo ? déší dé ä t.... konečně déší kapky padaj z nebe a šustí v koruně stronu mračna se trhají      \u001b[0m\u001b[35m \u001b[0m│\u001b[34m       \u001b[0m│\n",
       "│\u001b[35m \u001b[0m\u001b[35mvzduch...                                                                                           \u001b[0m\u001b[35m \u001b[0m│\u001b[34m       \u001b[0m│\n",
       "└──────────────────────────────────────────────────────────────────────────────────────────────────────┴───────┘\n"
      ]
     },
     "metadata": {},
     "output_type": "display_data"
    }
   ],
   "source": [
    "model_s3.print_representative_documents(topic_id=1, raw_documents=texts_clean[:N],)"
   ]
  },
  {
   "cell_type": "code",
   "execution_count": 146,
   "metadata": {},
   "outputs": [
    {
     "data": {
      "application/vnd.plotly.v1+json": {
       "config": {
        "plotlyServerURL": "https://plot.ly"
       },
       "data": [
        {
         "hovertemplate": "<b>%{text}</b>",
         "line": {
          "width": 3
         },
         "marker": {
          "line": {
           "color": "black",
           "width": 2
          },
          "size": 14
         },
         "mode": "markers+lines",
         "name": "0_l3_l4_rz_tmi",
         "text": [
          "účinky, hudeček, hudbě, trampoty, účinný, tehdy",
          "pustil, nešťastná, pevné, pevně, etd, příhodu",
          "<not present>",
          "har, potem, ind, pojatý, pojaty, ew",
          "<not present>",
          "sousoší, diví, vyndal, povídat, programy, dojemná",
          "lampičky, lampióny, gotický, jedinečnost, jedinečný, všeobecný",
          "cítíme, nco, 1q, auszuge, auszüge, nechl",
          "povolen, povstali, archiváři, pořídit, spole, nenachází",
          "l4, ls, l3, lx, l2, lr"
         ],
         "type": "scatter",
         "x": [
          "1976-01-01T00:00:00",
          "1977-04-19T21:36:00",
          "1978-08-07T19:12:00",
          "1979-11-25T16:48:00",
          "1981-03-14T14:24:00",
          "1982-07-02T13:00:00",
          "1983-10-20T09:36:00",
          "1985-02-06T07:12:00",
          "1986-05-27T05:48:00",
          "1987-09-14T03:24:00"
         ],
         "y": {
          "bdata": "AAAAoEYx0b8AAAAA38zTvwAAAKDWhua/AAAAAPFmtj8AAADAHvfuvwAAAICKJ88/AAAAgPmbxL8AAAAgbqeBPwAAACBE69K/AAAAIIz01z8=",
          "dtype": "f8"
         }
        },
        {
         "hovertemplate": "<b>%{text}</b>",
         "line": {
          "width": 3
         },
         "marker": {
          "line": {
           "color": "black",
           "width": 2
          },
          "size": 14
         },
         "mode": "markers+lines",
         "name": "1_mechaniky_oklamat_beznaděje_matematika",
         "text": [
          "kameru, internacionální, propuštěni, propuštění, přeměně, rčení",
          "vytvoří, šestnáct, opatřen, nasnadě, interpretuje, nástěnné",
          "<not present>",
          "posuzoval, ukončeno, minutou, boa, 1929, cílm",
          "<not present>",
          "sousoší, povídat, varhany, dřevěných, vědeckých, neexistují",
          "přejal, zakladatelem, oslovují, nápoj, oklamat, zakladatel",
          "podstatnou, pomocnou, dlouhodobá, poslouchala, pominula, lidu",
          "dus, oil, spolehlivost, diskutér, kompetenci, nesplnil",
          "bednářovou, vápnem, ideálu, okrajovou, převratu, momentu"
         ],
         "type": "scatter",
         "x": [
          "1976-01-01T00:00:00",
          "1977-04-19T21:36:00",
          "1978-08-07T19:12:00",
          "1979-11-25T16:48:00",
          "1981-03-14T14:24:00",
          "1982-07-02T13:00:00",
          "1983-10-20T09:36:00",
          "1985-02-06T07:12:00",
          "1986-05-27T05:48:00",
          "1987-09-14T03:24:00"
         ],
         "y": {
          "bdata": "AAAAAMxFyj8AAAAAiSyyvwAAAMB4U7a/AAAAwKJ25b8AAACgE3fSPwAAAIA3rc0/AAAAwLYMzT8AAAAAwRSYvwAAAEAh/OC/AAAAAAYsuD8=",
          "dtype": "f8"
         }
        },
        {
         "hovertemplate": "<b>%{text}</b>",
         "line": {
          "width": 3
         },
         "marker": {
          "line": {
           "color": "black",
           "width": 2
          },
          "size": 14
         },
         "mode": "markers+lines",
         "name": "2_lavic_sedla_lavice_prostoře",
         "text": [
          "poschodí, potence, hloubku, hloubka, kláry, ice",
          "dilema, filozofie, následovaly, šepot, úmyslně, úmyslné",
          "<not present>",
          "sama, samá, vynořila, radil, sdělení, vynořil",
          "<not present>",
          "lete, leté, létě, gerhard, intuitivní, draz",
          "hanou, chá, cha, tobě, interpretační, loa",
          "plášti, dopustil, docela, fialou, vedoucími, definovat",
          "jsc, mluvíme, nástroje, prezentaci, doletu, nástrojem",
          "ciziny, krosny, cizince, svržení, čínou, neúprosný"
         ],
         "type": "scatter",
         "x": [
          "1976-01-01T00:00:00",
          "1977-04-19T21:36:00",
          "1978-08-07T19:12:00",
          "1979-11-25T16:48:00",
          "1981-03-14T14:24:00",
          "1982-07-02T13:00:00",
          "1983-10-20T09:36:00",
          "1985-02-06T07:12:00",
          "1986-05-27T05:48:00",
          "1987-09-14T03:24:00"
         ],
         "y": {
          "bdata": "AAAAQLM+tz8AAADAZUq6PwAAAIA0+b+/AAAA4AWEwD8AAACgDZ/5PwAAAEAClKs/AAAAAJSL0j8AAAAAaybNPwAAAAAaI7c/AAAAQPc8478=",
          "dtype": "f8"
         }
        },
        {
         "hovertemplate": "<b>%{text}</b>",
         "line": {
          "width": 3
         },
         "marker": {
          "line": {
           "color": "black",
           "width": 2
          },
          "size": 14
         },
         "mode": "markers+lines",
         "name": "3_mírových_katolíci_následovníci_dokazoval",
         "text": [
          "nasadil, uděluji, nasadí, obrana, uděluje, om",
          "ovše, citoval, básníkovi, lzeli, duchovní, duchovni",
          "<not present>",
          "vlo, slohem, vyvine, shry, stvo, mř",
          "<not present>",
          "napříště, následné, loutkových, nacházíme, spravedlivých, lete",
          "ec, otom, jednotlivc, cenami, otce, otče",
          "nával, nečtou, lake, maršál, emoční, edition",
          "vařené, nadcházející, potoka, pvodnosti, sestavování, fotografování",
          "mírových, užívání, mírovými, prožívání, provozování, dokazování"
         ],
         "type": "scatter",
         "x": [
          "1976-01-01T00:00:00",
          "1977-04-19T21:36:00",
          "1978-08-07T19:12:00",
          "1979-11-25T16:48:00",
          "1981-03-14T14:24:00",
          "1982-07-02T13:00:00",
          "1983-10-20T09:36:00",
          "1985-02-06T07:12:00",
          "1986-05-27T05:48:00",
          "1987-09-14T03:24:00"
         ],
         "y": {
          "bdata": "AAAAoMwj3r8AAACgmiPRPwAAAADtY4q/AAAAoNpvgL8AAADgtN/fvwAAAIByzMY/AAAAoA6FwL8AAADARijWvwAAACCEn7E/AAAAwGdw3D8=",
          "dtype": "f8"
         }
        },
        {
         "hovertemplate": "<b>%{text}</b>",
         "line": {
          "width": 3
         },
         "marker": {
          "line": {
           "color": "black",
           "width": 2
          },
          "size": 14
         },
         "mode": "markers+lines",
         "name": "4_alternativa_alternativy_alternativní_jednat",
         "text": [
          "lpí, vyložit, předmluvě, plod, časopise, psobivá",
          "mizení, svěřuje, stočila, stylizované, sportovci, ustálené",
          "<not present>",
          "geometrické, publicisty, propuštěn, 1867, 1865, kultuře",
          "<not present>",
          "sousoší, programy, vyndal, diví, jiráska, křesťany",
          "předškolního, evo, hospodářském, horské, lano, tvo",
          "pomckami, 350, dcerou, látkami, ekumenické, rukama",
          "vyplňuje, tvoříme, zející, rozhovoru, zeširoka, tvořit",
          "alternativa, minula, minulá, alternativy, kritice, alternativní"
         ],
         "type": "scatter",
         "x": [
          "1976-01-01T00:00:00",
          "1977-04-19T21:36:00",
          "1978-08-07T19:12:00",
          "1979-11-25T16:48:00",
          "1981-03-14T14:24:00",
          "1982-07-02T13:00:00",
          "1983-10-20T09:36:00",
          "1985-02-06T07:12:00",
          "1986-05-27T05:48:00",
          "1987-09-14T03:24:00"
         ],
         "y": {
          "bdata": "AAAAoMSmpr8AAACgBp/RvwAAACCKs9K/AAAAQMrkxL8AAABAZpfavwAAAED/0qo/AAAAAAFTw78AAACAd/a5vwAAAECNtMC/AAAAYDd32D8=",
          "dtype": "f8"
         }
        },
        {
         "hovertemplate": "<b>%{text}</b>",
         "line": {
          "width": 3
         },
         "marker": {
          "line": {
           "color": "black",
           "width": 2
          },
          "size": 14
         },
         "mode": "markers+lines",
         "name": "5_sebereflexe_prožité_prožít_prožitk",
         "text": [
          "vcítění, rezidua, kami, lhal, soucítění, sáli",
          "cu, sami, nabídl, přísahat, hrdi, ples",
          "<not present>",
          "popisuji, popisují, nezúčastnil, usilují, studuje, ického",
          "<not present>",
          "sousoší, realizován, vyndal, neexistují, varhany, chytrá",
          "natož, 855, kompromis, bombami, přeložit, nastolení",
          "vyhlásily, vd, výška, vý, vnitra, vyhověl",
          "vyčítal, dovozu, čtvercové, odměna, ustavila, parametry",
          "osvícenci, přízeň, čtvrtině, čtvrtou, university, výška"
         ],
         "type": "scatter",
         "x": [
          "1976-01-01T00:00:00",
          "1977-04-19T21:36:00",
          "1978-08-07T19:12:00",
          "1979-11-25T16:48:00",
          "1981-03-14T14:24:00",
          "1982-07-02T13:00:00",
          "1983-10-20T09:36:00",
          "1985-02-06T07:12:00",
          "1986-05-27T05:48:00",
          "1987-09-14T03:24:00"
         ],
         "y": {
          "bdata": "AAAAwPKJ3D8AAAAAcWixPwAAAGAXZtY/AAAAwPNXuz8AAACgbDfjvwAAAECd/ec/AAAAwO27gT8AAABgLHjSvwAAACCAGZ6/AAAAQDC7pr8=",
          "dtype": "f8"
         }
        },
        {
         "hovertemplate": "<b>%{text}</b>",
         "line": {
          "width": 3
         },
         "marker": {
          "line": {
           "color": "black",
           "width": 2
          },
          "size": 14
         },
         "mode": "markers+lines",
         "name": "6_716_792_726_723",
         "text": [
          "japonc, distribuce, kostce, četba, kud, kost",
          "sebereflexe, narodit, náčrt, porcelánu, nihilismu, prsa",
          "<not present>",
          "repertoáru, 617, 292, umělec, 537, oval",
          "<not present>",
          "sousoší, varhany, realizován, širší, tl, hlubině",
          "tickou, radš, pestré, pestře, oá, oa",
          "světlejší, světlé, světle, světskou, červeným, nepomže",
          "manifestem, stručná, 424, acts, 21, ea",
          "nepovažuji, seská, nepokoje, nejedná, nemají, svádějí"
         ],
         "type": "scatter",
         "x": [
          "1976-01-01T00:00:00",
          "1977-04-19T21:36:00",
          "1978-08-07T19:12:00",
          "1979-11-25T16:48:00",
          "1981-03-14T14:24:00",
          "1982-07-02T13:00:00",
          "1983-10-20T09:36:00",
          "1985-02-06T07:12:00",
          "1986-05-27T05:48:00",
          "1987-09-14T03:24:00"
         ],
         "y": {
          "bdata": "AAAAQK1Dy78AAABAwRTlPwAAACCvd+E/AAAAgCj90D8AAADg5d/IPwAAAIAFQ50/AAAAgFyXxT8AAACABx+xvwAAAAD0zL0/AAAAQBa5078=",
          "dtype": "f8"
         }
        },
        {
         "hovertemplate": "<b>%{text}</b>",
         "line": {
          "width": 3
         },
         "marker": {
          "line": {
           "color": "black",
           "width": 2
          },
          "size": 14
         },
         "mode": "markers+lines",
         "name": "7_berou_platy_pláty_plochy",
         "text": [
          "etapou, dialektice, podívala, polští, eros, mirkova",
          "693, 697, stech, steré, filosofie, úředních",
          "<not present>",
          "florencii, mmm, studeného, nehovoří, dovednost, dobrého",
          "<not present>",
          "vypadat, intuitivní, deník, čte, cte, prostředkem",
          "vyzařovat, chovají, ulehčením, výtvarníka, vynikajícími, poděkoval",
          "posel, austrálie, hyne, ukončil, asl, bl",
          "stávající, rybníka, nacházejí, nalezla, domnívají, překonávající",
          "ostrá, plnými, restauraci, restaurací, platnými, typologii"
         ],
         "type": "scatter",
         "x": [
          "1976-01-01T00:00:00",
          "1977-04-19T21:36:00",
          "1978-08-07T19:12:00",
          "1979-11-25T16:48:00",
          "1981-03-14T14:24:00",
          "1982-07-02T13:00:00",
          "1983-10-20T09:36:00",
          "1985-02-06T07:12:00",
          "1986-05-27T05:48:00",
          "1987-09-14T03:24:00"
         ],
         "y": {
          "bdata": "AAAA4Gln4b8AAABAkimlPwAAAADdT8s/AAAAgLoCvj8AAACA2WfgPwAAAIBIQuE/AAAAYEbOvL8AAADAqPPJPwAAAGAOhtC/AAAAQDicuD8=",
          "dtype": "f8"
         }
        },
        {
         "hovertemplate": "<b>%{text}</b>",
         "line": {
          "width": 3
         },
         "marker": {
          "line": {
           "color": "black",
           "width": 2
          },
          "size": 14
         },
         "mode": "markers+lines",
         "name": "8_tahy_tav_taa_táž",
         "text": [
          "souboru, veličiny, termíny, soubor, abych, miloval",
          "hrozící, hodlám, oýt, invence, přirovnat, přísahu",
          "<not present>",
          "přerušil, přerušit, rodič, shrnutí, obdoby, doc",
          "<not present>",
          "vypadat, napříště, čte, cte, hasí, lete",
          "obsadit, překládání, předání, snídaní, snídani, nejchudší",
          "hříčka, hlupáci, sbírce, hrdostí, hrdosti, popisující",
          "ření, ušlechtilá, soulad, zmírnil, chytřejší, špičky",
          "výtisk, výtisku, dotyk, tatínek, stiskl, táž"
         ],
         "type": "scatter",
         "x": [
          "1976-01-01T00:00:00",
          "1977-04-19T21:36:00",
          "1978-08-07T19:12:00",
          "1979-11-25T16:48:00",
          "1981-03-14T14:24:00",
          "1982-07-02T13:00:00",
          "1983-10-20T09:36:00",
          "1985-02-06T07:12:00",
          "1986-05-27T05:48:00",
          "1987-09-14T03:24:00"
         ],
         "y": {
          "bdata": "AAAAYKRD0b8AAADAWLS9PwAAAKDwxec/AAAAoAyI0b8AAAAgE0L/vwAAAMCikuE/AAAA4A/6t78AAAAgXfqYvwAAAAADQtK/AAAAgAA31j8=",
          "dtype": "f8"
         }
        },
        {
         "hovertemplate": "<b>%{text}</b>",
         "line": {
          "width": 3
         },
         "marker": {
          "line": {
           "color": "black",
           "width": 2
          },
          "size": 14
         },
         "mode": "markers+lines",
         "name": "9_general_generál_brána_book",
         "text": [
          "podporují, registrace, místopředseda, perspektivě, podpořit, vypravěčem",
          "cross, slavném, nepostradatelný, dans, dem, dém",
          "<not present>",
          "procesem, bavíc, vášněmi, lavičce, jmenovala, imm",
          "<not present>",
          "vypadat, loutkových, následné, skrýval, vzniku, upřesnit",
          "organizační, určuje, maturitě, uklidňuje, podnítit, stojícího",
          "ulička, nepochybuje, pustila, malými, zanechává, dobrou",
          "rozměry, amatérských, rostliny, obdivuhodně, obdivuhodné, zhlédl",
          "chaotickou, rameno, návrhem, bohem, návrh, gordon"
         ],
         "type": "scatter",
         "x": [
          "1976-01-01T00:00:00",
          "1977-04-19T21:36:00",
          "1978-08-07T19:12:00",
          "1979-11-25T16:48:00",
          "1981-03-14T14:24:00",
          "1982-07-02T13:00:00",
          "1983-10-20T09:36:00",
          "1985-02-06T07:12:00",
          "1986-05-27T05:48:00",
          "1987-09-14T03:24:00"
         ],
         "y": {
          "bdata": "AAAAICWqx78AAADgT/P8PwAAAEDBlui/AAAAwPhD1L8AAAAgKCUCQAAAAACTEsc/AAAAIFY/w78AAAAAuDvLvwAAAGCWhMg/AAAA4AvwqD8=",
          "dtype": "f8"
         }
        },
        {
         "hovertemplate": "<b>%{text}</b>",
         "line": {
          "width": 3
         },
         "marker": {
          "line": {
           "color": "black",
           "width": 2
          },
          "size": 14
         },
         "mode": "markers+lines",
         "name": "10_ospravedlňovat_doplňování_osnova_doplňovaly",
         "text": [
          "podie, dobového, okamžitý, hracích, protireformace, podobách",
          "vypravěčem, výhrad, pracovny, měsícem, pravidlm, energie",
          "<not present>",
          "konkrétnímu, volka, spoluobčany, liry, nalé, oddělené",
          "<not present>",
          "loutkových, gerhard, intuitivní, raněných, drive, dříve",
          "ospravedlňovat, fascinovat, definovat, seriálu, stačil, osnova",
          "pokladech, příklady, příkladech, přátelských, mraveniště, pokládali",
          "přestavba, umožňovala, vzniklou, nižboru, přestavbu, běda",
          "ospravedlňovat, objasňovat, objasňování, seriálem, planetě, doplňoval"
         ],
         "type": "scatter",
         "x": [
          "1976-01-01T00:00:00",
          "1977-04-19T21:36:00",
          "1978-08-07T19:12:00",
          "1979-11-25T16:48:00",
          "1981-03-14T14:24:00",
          "1982-07-02T13:00:00",
          "1983-10-20T09:36:00",
          "1985-02-06T07:12:00",
          "1986-05-27T05:48:00",
          "1987-09-14T03:24:00"
         ],
         "y": {
          "bdata": "AAAAwJVR0b8AAABAXMjRvwAAAGBarN6/AAAAgGFU178AAAAAxufIvwAAAID/2s8/AAAAoM18wD8AAABAu2DBvwAAAKAYtsw/AAAA4DLtxD8=",
          "dtype": "f8"
         }
        },
        {
         "hovertemplate": "<b>%{text}</b>",
         "line": {
          "width": 3
         },
         "marker": {
          "line": {
           "color": "black",
           "width": 2
          },
          "size": 14
         },
         "mode": "markers+lines",
         "name": "11_prmyslová_ponejprv_majky_prešově",
         "text": [
          "šťastným, překročí, vrozená, překročil, oblastech, překročit",
          "řídil, úřadech, ukazující, předsedy, 1c, dopracoval",
          "<not present>",
          "značného, problematikou, chee, poznamenáno, požitky, takte",
          "<not present>",
          "vypadat, skrýval, 1114, prezident, ospravedlněním, zrna",
          "umělecké, uměleckému, nesetkali, hostitelka, děláš, éře",
          "rozšířeno, třese, trest, kosmologii, trestem, kroměříž",
          "ekumenické, 0o, popisoval, přímému, soudm, problémm",
          "emancipace, otázku, otřesná, vedoucímu, obléká, evangelium"
         ],
         "type": "scatter",
         "x": [
          "1976-01-01T00:00:00",
          "1977-04-19T21:36:00",
          "1978-08-07T19:12:00",
          "1979-11-25T16:48:00",
          "1981-03-14T14:24:00",
          "1982-07-02T13:00:00",
          "1983-10-20T09:36:00",
          "1985-02-06T07:12:00",
          "1986-05-27T05:48:00",
          "1987-09-14T03:24:00"
         ],
         "y": {
          "bdata": "AAAAAEkZ2D8AAACgo9XMPwAAAIAMD+G/AAAAoGBj1j8AAACA8LTPvwAAAGB5m7G/AAAAoAeBl78AAADgttTKPwAAAMB/jfK/AAAAYB8DpL8=",
          "dtype": "f8"
         }
        },
        {
         "hovertemplate": "<b>%{text}</b>",
         "line": {
          "width": 3
         },
         "marker": {
          "line": {
           "color": "black",
           "width": 2
          },
          "size": 14
         },
         "mode": "markers+lines",
         "name": "12_trubku_lístku_roušku_kousku",
         "text": [
          "čtvrt, etických, vytvořených, rznorodých, roee, 188",
          "mělo, melo, utrpením, čistotu, elementy, uniformě",
          "<not present>",
          "přidali, pasti, inspiraci, inspirací, paži, paží",
          "<not present>",
          "napříště, intuitivní, hasí, ospravedlněním, následné, draz",
          "rozsudku, kanceláře, kancelář, rybníky, biskupem, počátku",
          "chronologicky, centrum, afrických, diskusích, chronologické, chronologickém",
          "texty, pomocí, pomoci, obohatí, debaty, měníme",
          "tvářích, tvj, dstojného, tvořilo, tvého, bytostnému"
         ],
         "type": "scatter",
         "x": [
          "1976-01-01T00:00:00",
          "1977-04-19T21:36:00",
          "1978-08-07T19:12:00",
          "1979-11-25T16:48:00",
          "1981-03-14T14:24:00",
          "1982-07-02T13:00:00",
          "1983-10-20T09:36:00",
          "1985-02-06T07:12:00",
          "1986-05-27T05:48:00",
          "1987-09-14T03:24:00"
         ],
         "y": {
          "bdata": "AAAAwLp5vz8AAADgLTTdvwAAAKAY0+k/AAAAYE8W5b8AAACg5aTovwAAAODfJwXAAAAAoNAxxj8AAAAg2iHRPwAAAACWXMe/AAAAYAe+xT8=",
          "dtype": "f8"
         }
        },
        {
         "hovertemplate": "<b>%{text}</b>",
         "line": {
          "width": 3
         },
         "marker": {
          "line": {
           "color": "black",
           "width": 2
          },
          "size": 14
         },
         "mode": "markers+lines",
         "name": "13_podzimním_extrémním_podívám_typem",
         "text": [
          "rezignoval, lepí, podpisové, hlasatele, prostotou, spisech",
          "rých, jakápak, argumenty, naplnění, předs, vyprávět",
          "<not present>",
          "jednoduchého, krotké, jednoduché, kádrových, hodnotný, kriticismu",
          "<not present>",
          "intuitivní, loutkových, mmmi, následné, čte, cte",
          "násilným, podzimním, extrémním, janem, lovem, fromm",
          "reforem, popisem, divadelním, sborem, 1977, referátem",
          "170, jacka, horečka, jt, 401, řa",
          "směrm, předmětem, dialogem, vypadám, sm, popadl"
         ],
         "type": "scatter",
         "x": [
          "1976-01-01T00:00:00",
          "1977-04-19T21:36:00",
          "1978-08-07T19:12:00",
          "1979-11-25T16:48:00",
          "1981-03-14T14:24:00",
          "1982-07-02T13:00:00",
          "1983-10-20T09:36:00",
          "1985-02-06T07:12:00",
          "1986-05-27T05:48:00",
          "1987-09-14T03:24:00"
         ],
         "y": {
          "bdata": "AAAAQO56yb8AAABAvrvUPwAAACAXk+o/AAAAQPp44r8AAADAqyHWvwAAAADQhqs/AAAAQMJt2z8AAABgDgebPwAAAEAnI++/AAAAAJaWlT8=",
          "dtype": "f8"
         }
        },
        {
         "hovertemplate": "<b>%{text}</b>",
         "line": {
          "width": 3
         },
         "marker": {
          "line": {
           "color": "black",
           "width": 2
          },
          "size": 14
         },
         "mode": "markers+lines",
         "name": "14_rekonstrukci_507_kapacita_7x",
         "text": [
          "odpovědi, odpovědí, odpověděli, hmotných, předešlých, odsunout",
          "svatyně, masu, silnic, uvědomoval, kata, citování",
          "<not present>",
          "591, box, misionář, cítění, třináct, 599",
          "<not present>",
          "sousoší, varhany, širší, lásku, prezentuje, programy",
          "voní, perfektní, třídenní, řc, rc, koni",
          "identitu, orgánu, opěradlo, legalizaci, integrity, vedli",
          "tradičními, formulované, vyrábějí, nalézat, letu, létu",
          "ooo, oas, ovlivnil, odpo, óo, oo"
         ],
         "type": "scatter",
         "x": [
          "1976-01-01T00:00:00",
          "1977-04-19T21:36:00",
          "1978-08-07T19:12:00",
          "1979-11-25T16:48:00",
          "1981-03-14T14:24:00",
          "1982-07-02T13:00:00",
          "1983-10-20T09:36:00",
          "1985-02-06T07:12:00",
          "1986-05-27T05:48:00",
          "1987-09-14T03:24:00"
         ],
         "y": {
          "bdata": "AAAA4FL0078AAADgIYSrPwAAAECdo9k/AAAAIGSwwT8AAAAAR1/QPwAAAKDyCdG/AAAAYFJmxT8AAABgReSwPwAAAEBTZLk/AAAA4HQHyb8=",
          "dtype": "f8"
         }
        },
        {
         "hovertemplate": "<b>%{text}</b>",
         "line": {
          "width": 3
         },
         "marker": {
          "line": {
           "color": "black",
           "width": 2
          },
          "size": 14
         },
         "mode": "markers+lines",
         "name": "15_procento_dědičnosti_misionáře_něčeho",
         "text": [
          "kamna, matěj, rezidua, kami, puškin, dogmatik",
          "108, užívali, diference, šílí, sílí, sili",
          "<not present>",
          "protestantismu, buřič, reproduktor, pivovar, generál, general",
          "<not present>",
          "napříště, mlhavé, falešných, 612, lednových, 1114",
          "dráty, misty, místy, okrajové, okrajově, nestará",
          "ukázale, dostatečná, ukazatele, gd, cietární, ukázat",
          "obočí, 2500, substancí, substanci, poučil, pomstě",
          "řečtí, entit, sousedících, revue, home, patron"
         ],
         "type": "scatter",
         "x": [
          "1976-01-01T00:00:00",
          "1977-04-19T21:36:00",
          "1978-08-07T19:12:00",
          "1979-11-25T16:48:00",
          "1981-03-14T14:24:00",
          "1982-07-02T13:00:00",
          "1983-10-20T09:36:00",
          "1985-02-06T07:12:00",
          "1986-05-27T05:48:00",
          "1987-09-14T03:24:00"
         ],
         "y": {
          "bdata": "AAAAgOyV1r8AAADgofu/PwAAAKDj2L6/AAAAoHavoj8AAABgsmKvPwAAAEAbcuS/AAAAYJycur8AAABgukXMvwAAAAB0EqW/AAAAQBiN2D8=",
          "dtype": "f8"
         }
        },
        {
         "hovertemplate": "<b>%{text}</b>",
         "line": {
          "width": 3
         },
         "marker": {
          "line": {
           "color": "black",
           "width": 2
          },
          "size": 14
         },
         "mode": "markers+lines",
         "name": "16_jistot_chránit_uvádí_jit",
         "text": [
          "okresním, peří, ostatním, humanitní, pera, pér",
          "přidávají, prsou, vystačit, registrace, organizacích, nemoc",
          "<not present>",
          "okolí, vyhlíží, chápané, tli, chtějíli, skrývají",
          "<not present>",
          "sousoší, tl, povídat, varhany, antisemitismu, přírodou",
          "pomohla, oddal, odděleny, chodíval, chodilo, chodidla",
          "jaderná, prchli, ref, hostiny, hostitelka, evangelium",
          "cestoval, kolíně, odpověň, dopravy, lno, léčit",
          "skýtá, čau, japonc, teta, uvádí, tradicemi"
         ],
         "type": "scatter",
         "x": [
          "1976-01-01T00:00:00",
          "1977-04-19T21:36:00",
          "1978-08-07T19:12:00",
          "1979-11-25T16:48:00",
          "1981-03-14T14:24:00",
          "1982-07-02T13:00:00",
          "1983-10-20T09:36:00",
          "1985-02-06T07:12:00",
          "1986-05-27T05:48:00",
          "1987-09-14T03:24:00"
         ],
         "y": {
          "bdata": "AAAAgAl84r8AAACAJjnfvwAAACAdffy/AAAAoCrDfD8AAABg+6rUvwAAAABj0pO/AAAA4AmauL8AAACAvDjDPwAAAKBunNe/AAAAQGtI2z8=",
          "dtype": "f8"
         }
        },
        {
         "hovertemplate": "<b>%{text}</b>",
         "line": {
          "width": 3
         },
         "marker": {
          "line": {
           "color": "black",
           "width": 2
          },
          "size": 14
         },
         "mode": "markers+lines",
         "name": "17_0c_sýrem_němc_němce",
         "text": [
          "odradit, těžko, těžkou, tvářnost, exposice, révy",
          "hradby, všudy, údy, přírstk, označující, poto",
          "<not present>",
          "strýc, stručnosti, stručným, vydá, stručný, reakci",
          "<not present>",
          "vypadat, létě, lete, leté, následné, gerhard",
          "odvažuji, ovšemže, osamělý, odvíjí, mstek, odjíždíme",
          "norberta, službě, děj, dej, služby, prodej",
          "děd, bašty, pikle, oblečené, mužstvo, písem",
          "0c, skladeb, 0d, statistická, sýrem, 1q"
         ],
         "type": "scatter",
         "x": [
          "1976-01-01T00:00:00",
          "1977-04-19T21:36:00",
          "1978-08-07T19:12:00",
          "1979-11-25T16:48:00",
          "1981-03-14T14:24:00",
          "1982-07-02T13:00:00",
          "1983-10-20T09:36:00",
          "1985-02-06T07:12:00",
          "1986-05-27T05:48:00",
          "1987-09-14T03:24:00"
         ],
         "y": {
          "bdata": "AAAAoGs0lb8AAABAPQuQPwAAAECtJLy/AAAAwJHfvj8AAAAgGJ/svwAAAIAOIdq/AAAAgP2B078AAAAAgwuTPwAAAKBShs0/AAAA4JUR0D8=",
          "dtype": "f8"
         }
        },
        {
         "hovertemplate": "<b>%{text}</b>",
         "line": {
          "width": 3
         },
         "marker": {
          "line": {
           "color": "black",
           "width": 2
          },
          "size": 14
         },
         "mode": "markers+lines",
         "name": "18_podpisu_pokolení_dopisu_dopisy",
         "text": [
          "levým, slavnostním, mlčel, dušemi, britská, vkusně",
          "provázen, objevujeme, jevem, japonsku, náboženském, jevech",
          "<not present>",
          "rezervy, dynamické, vadit, hloupé, hloupě, letc",
          "<not present>",
          "létě, lete, leté, napříště, cte, čte",
          "tematické, tématické, ječné, nadřízeného, zachyceno, revui",
          "ušlechtilou, moskvy, musila, nemocnic, dominantní, nepřipustil",
          "načrtl, naznačit, zeit, tvorbe, tvorbě, systematickém",
          "podpisu, podepsali, dospělosti, podrobnosti, podrobností, hrdi"
         ],
         "type": "scatter",
         "x": [
          "1976-01-01T00:00:00",
          "1977-04-19T21:36:00",
          "1978-08-07T19:12:00",
          "1979-11-25T16:48:00",
          "1981-03-14T14:24:00",
          "1982-07-02T13:00:00",
          "1983-10-20T09:36:00",
          "1985-02-06T07:12:00",
          "1986-05-27T05:48:00",
          "1987-09-14T03:24:00"
         ],
         "y": {
          "bdata": "AAAAIBY+4L8AAADg8WXZvwAAAKBdE+O/AAAAoDyz078AAADAK+TAPwAAAMBvsdO/AAAAIPzgxL8AAADg8m3PvwAAAAAQeMC/AAAAwGb05j8=",
          "dtype": "f8"
         }
        },
        {
         "hovertemplate": "<b>%{text}</b>",
         "line": {
          "width": 3
         },
         "marker": {
          "line": {
           "color": "black",
           "width": 2
          },
          "size": 14
         },
         "mode": "markers+lines",
         "name": "19_jic_včas_nazvali_actm",
         "text": [
          "enu, chtěl, erotickou, továrna, chtěla, aktivista",
          "asu, prázdnoty, vědec, přizpsobovat, pvodem, počátk",
          "<not present>",
          "vágní, vypil, výsměch, sbírce, synchronní, sboru",
          "<not present>",
          "programy, úsudku, systé, dojemná, romantickou, milenky",
          "prostředkm, hlavou, členek, hlaváček, celosvětové, prostých",
          "proletariát, splnila, máslo, lahvemi, obětovat, předvedla",
          "apoštolskou, podtrhl, setrvávat, vánocích, klouže, nespravedlnost",
          "tvrcm, jic, tvrc, dj, jir, jit"
         ],
         "type": "scatter",
         "x": [
          "1976-01-01T00:00:00",
          "1977-04-19T21:36:00",
          "1978-08-07T19:12:00",
          "1979-11-25T16:48:00",
          "1981-03-14T14:24:00",
          "1982-07-02T13:00:00",
          "1983-10-20T09:36:00",
          "1985-02-06T07:12:00",
          "1986-05-27T05:48:00",
          "1987-09-14T03:24:00"
         ],
         "y": {
          "bdata": "AAAAAEsc9T8AAAAADzHwPwAAAMDQCfo/AAAAYLKw5j8AAAAAXYH0PwAAAABdmrS/AAAAgKKM5r8AAABgIVHlvwAAAMCjzeK/AAAAYBvy1j8=",
          "dtype": "f8"
         }
        }
       ],
       "layout": {
        "font": {
         "family": "Roboto Mono"
        },
        "hoverlabel": {
         "bgcolor": "white",
         "font": {
          "size": 16
         }
        },
        "hovermode": "x",
        "shapes": [
         {
          "line": {
           "dash": "dash"
          },
          "opacity": 0.5,
          "type": "line",
          "x0": 0,
          "x1": 1,
          "xref": "x domain",
          "y0": 0,
          "y1": 0,
          "yref": "y"
         }
        ],
        "template": {
         "data": {
          "bar": [
           {
            "error_x": {
             "color": "#2a3f5f"
            },
            "error_y": {
             "color": "#2a3f5f"
            },
            "marker": {
             "line": {
              "color": "white",
              "width": 0.5
             },
             "pattern": {
              "fillmode": "overlay",
              "size": 10,
              "solidity": 0.2
             }
            },
            "type": "bar"
           }
          ],
          "barpolar": [
           {
            "marker": {
             "line": {
              "color": "white",
              "width": 0.5
             },
             "pattern": {
              "fillmode": "overlay",
              "size": 10,
              "solidity": 0.2
             }
            },
            "type": "barpolar"
           }
          ],
          "carpet": [
           {
            "aaxis": {
             "endlinecolor": "#2a3f5f",
             "gridcolor": "#C8D4E3",
             "linecolor": "#C8D4E3",
             "minorgridcolor": "#C8D4E3",
             "startlinecolor": "#2a3f5f"
            },
            "baxis": {
             "endlinecolor": "#2a3f5f",
             "gridcolor": "#C8D4E3",
             "linecolor": "#C8D4E3",
             "minorgridcolor": "#C8D4E3",
             "startlinecolor": "#2a3f5f"
            },
            "type": "carpet"
           }
          ],
          "choropleth": [
           {
            "colorbar": {
             "outlinewidth": 0,
             "ticks": ""
            },
            "type": "choropleth"
           }
          ],
          "contour": [
           {
            "colorbar": {
             "outlinewidth": 0,
             "ticks": ""
            },
            "colorscale": [
             [
              0,
              "#0d0887"
             ],
             [
              0.1111111111111111,
              "#46039f"
             ],
             [
              0.2222222222222222,
              "#7201a8"
             ],
             [
              0.3333333333333333,
              "#9c179e"
             ],
             [
              0.4444444444444444,
              "#bd3786"
             ],
             [
              0.5555555555555556,
              "#d8576b"
             ],
             [
              0.6666666666666666,
              "#ed7953"
             ],
             [
              0.7777777777777778,
              "#fb9f3a"
             ],
             [
              0.8888888888888888,
              "#fdca26"
             ],
             [
              1,
              "#f0f921"
             ]
            ],
            "type": "contour"
           }
          ],
          "contourcarpet": [
           {
            "colorbar": {
             "outlinewidth": 0,
             "ticks": ""
            },
            "type": "contourcarpet"
           }
          ],
          "heatmap": [
           {
            "colorbar": {
             "outlinewidth": 0,
             "ticks": ""
            },
            "colorscale": [
             [
              0,
              "#0d0887"
             ],
             [
              0.1111111111111111,
              "#46039f"
             ],
             [
              0.2222222222222222,
              "#7201a8"
             ],
             [
              0.3333333333333333,
              "#9c179e"
             ],
             [
              0.4444444444444444,
              "#bd3786"
             ],
             [
              0.5555555555555556,
              "#d8576b"
             ],
             [
              0.6666666666666666,
              "#ed7953"
             ],
             [
              0.7777777777777778,
              "#fb9f3a"
             ],
             [
              0.8888888888888888,
              "#fdca26"
             ],
             [
              1,
              "#f0f921"
             ]
            ],
            "type": "heatmap"
           }
          ],
          "histogram": [
           {
            "marker": {
             "pattern": {
              "fillmode": "overlay",
              "size": 10,
              "solidity": 0.2
             }
            },
            "type": "histogram"
           }
          ],
          "histogram2d": [
           {
            "colorbar": {
             "outlinewidth": 0,
             "ticks": ""
            },
            "colorscale": [
             [
              0,
              "#0d0887"
             ],
             [
              0.1111111111111111,
              "#46039f"
             ],
             [
              0.2222222222222222,
              "#7201a8"
             ],
             [
              0.3333333333333333,
              "#9c179e"
             ],
             [
              0.4444444444444444,
              "#bd3786"
             ],
             [
              0.5555555555555556,
              "#d8576b"
             ],
             [
              0.6666666666666666,
              "#ed7953"
             ],
             [
              0.7777777777777778,
              "#fb9f3a"
             ],
             [
              0.8888888888888888,
              "#fdca26"
             ],
             [
              1,
              "#f0f921"
             ]
            ],
            "type": "histogram2d"
           }
          ],
          "histogram2dcontour": [
           {
            "colorbar": {
             "outlinewidth": 0,
             "ticks": ""
            },
            "colorscale": [
             [
              0,
              "#0d0887"
             ],
             [
              0.1111111111111111,
              "#46039f"
             ],
             [
              0.2222222222222222,
              "#7201a8"
             ],
             [
              0.3333333333333333,
              "#9c179e"
             ],
             [
              0.4444444444444444,
              "#bd3786"
             ],
             [
              0.5555555555555556,
              "#d8576b"
             ],
             [
              0.6666666666666666,
              "#ed7953"
             ],
             [
              0.7777777777777778,
              "#fb9f3a"
             ],
             [
              0.8888888888888888,
              "#fdca26"
             ],
             [
              1,
              "#f0f921"
             ]
            ],
            "type": "histogram2dcontour"
           }
          ],
          "mesh3d": [
           {
            "colorbar": {
             "outlinewidth": 0,
             "ticks": ""
            },
            "type": "mesh3d"
           }
          ],
          "parcoords": [
           {
            "line": {
             "colorbar": {
              "outlinewidth": 0,
              "ticks": ""
             }
            },
            "type": "parcoords"
           }
          ],
          "pie": [
           {
            "automargin": true,
            "type": "pie"
           }
          ],
          "scatter": [
           {
            "fillpattern": {
             "fillmode": "overlay",
             "size": 10,
             "solidity": 0.2
            },
            "type": "scatter"
           }
          ],
          "scatter3d": [
           {
            "line": {
             "colorbar": {
              "outlinewidth": 0,
              "ticks": ""
             }
            },
            "marker": {
             "colorbar": {
              "outlinewidth": 0,
              "ticks": ""
             }
            },
            "type": "scatter3d"
           }
          ],
          "scattercarpet": [
           {
            "marker": {
             "colorbar": {
              "outlinewidth": 0,
              "ticks": ""
             }
            },
            "type": "scattercarpet"
           }
          ],
          "scattergeo": [
           {
            "marker": {
             "colorbar": {
              "outlinewidth": 0,
              "ticks": ""
             }
            },
            "type": "scattergeo"
           }
          ],
          "scattergl": [
           {
            "marker": {
             "colorbar": {
              "outlinewidth": 0,
              "ticks": ""
             }
            },
            "type": "scattergl"
           }
          ],
          "scattermap": [
           {
            "marker": {
             "colorbar": {
              "outlinewidth": 0,
              "ticks": ""
             }
            },
            "type": "scattermap"
           }
          ],
          "scattermapbox": [
           {
            "marker": {
             "colorbar": {
              "outlinewidth": 0,
              "ticks": ""
             }
            },
            "type": "scattermapbox"
           }
          ],
          "scatterpolar": [
           {
            "marker": {
             "colorbar": {
              "outlinewidth": 0,
              "ticks": ""
             }
            },
            "type": "scatterpolar"
           }
          ],
          "scatterpolargl": [
           {
            "marker": {
             "colorbar": {
              "outlinewidth": 0,
              "ticks": ""
             }
            },
            "type": "scatterpolargl"
           }
          ],
          "scatterternary": [
           {
            "marker": {
             "colorbar": {
              "outlinewidth": 0,
              "ticks": ""
             }
            },
            "type": "scatterternary"
           }
          ],
          "surface": [
           {
            "colorbar": {
             "outlinewidth": 0,
             "ticks": ""
            },
            "colorscale": [
             [
              0,
              "#0d0887"
             ],
             [
              0.1111111111111111,
              "#46039f"
             ],
             [
              0.2222222222222222,
              "#7201a8"
             ],
             [
              0.3333333333333333,
              "#9c179e"
             ],
             [
              0.4444444444444444,
              "#bd3786"
             ],
             [
              0.5555555555555556,
              "#d8576b"
             ],
             [
              0.6666666666666666,
              "#ed7953"
             ],
             [
              0.7777777777777778,
              "#fb9f3a"
             ],
             [
              0.8888888888888888,
              "#fdca26"
             ],
             [
              1,
              "#f0f921"
             ]
            ],
            "type": "surface"
           }
          ],
          "table": [
           {
            "cells": {
             "fill": {
              "color": "#EBF0F8"
             },
             "line": {
              "color": "white"
             }
            },
            "header": {
             "fill": {
              "color": "#C8D4E3"
             },
             "line": {
              "color": "white"
             }
            },
            "type": "table"
           }
          ]
         },
         "layout": {
          "annotationdefaults": {
           "arrowcolor": "#2a3f5f",
           "arrowhead": 0,
           "arrowwidth": 1
          },
          "autotypenumbers": "strict",
          "coloraxis": {
           "colorbar": {
            "outlinewidth": 0,
            "ticks": ""
           }
          },
          "colorscale": {
           "diverging": [
            [
             0,
             "#8e0152"
            ],
            [
             0.1,
             "#c51b7d"
            ],
            [
             0.2,
             "#de77ae"
            ],
            [
             0.3,
             "#f1b6da"
            ],
            [
             0.4,
             "#fde0ef"
            ],
            [
             0.5,
             "#f7f7f7"
            ],
            [
             0.6,
             "#e6f5d0"
            ],
            [
             0.7,
             "#b8e186"
            ],
            [
             0.8,
             "#7fbc41"
            ],
            [
             0.9,
             "#4d9221"
            ],
            [
             1,
             "#276419"
            ]
           ],
           "sequential": [
            [
             0,
             "#0d0887"
            ],
            [
             0.1111111111111111,
             "#46039f"
            ],
            [
             0.2222222222222222,
             "#7201a8"
            ],
            [
             0.3333333333333333,
             "#9c179e"
            ],
            [
             0.4444444444444444,
             "#bd3786"
            ],
            [
             0.5555555555555556,
             "#d8576b"
            ],
            [
             0.6666666666666666,
             "#ed7953"
            ],
            [
             0.7777777777777778,
             "#fb9f3a"
            ],
            [
             0.8888888888888888,
             "#fdca26"
            ],
            [
             1,
             "#f0f921"
            ]
           ],
           "sequentialminus": [
            [
             0,
             "#0d0887"
            ],
            [
             0.1111111111111111,
             "#46039f"
            ],
            [
             0.2222222222222222,
             "#7201a8"
            ],
            [
             0.3333333333333333,
             "#9c179e"
            ],
            [
             0.4444444444444444,
             "#bd3786"
            ],
            [
             0.5555555555555556,
             "#d8576b"
            ],
            [
             0.6666666666666666,
             "#ed7953"
            ],
            [
             0.7777777777777778,
             "#fb9f3a"
            ],
            [
             0.8888888888888888,
             "#fdca26"
            ],
            [
             1,
             "#f0f921"
            ]
           ]
          },
          "colorway": [
           "#636efa",
           "#EF553B",
           "#00cc96",
           "#ab63fa",
           "#FFA15A",
           "#19d3f3",
           "#FF6692",
           "#B6E880",
           "#FF97FF",
           "#FECB52"
          ],
          "font": {
           "color": "#2a3f5f"
          },
          "geo": {
           "bgcolor": "white",
           "lakecolor": "white",
           "landcolor": "white",
           "showlakes": true,
           "showland": true,
           "subunitcolor": "#C8D4E3"
          },
          "hoverlabel": {
           "align": "left"
          },
          "hovermode": "closest",
          "mapbox": {
           "style": "light"
          },
          "paper_bgcolor": "white",
          "plot_bgcolor": "white",
          "polar": {
           "angularaxis": {
            "gridcolor": "#EBF0F8",
            "linecolor": "#EBF0F8",
            "ticks": ""
           },
           "bgcolor": "white",
           "radialaxis": {
            "gridcolor": "#EBF0F8",
            "linecolor": "#EBF0F8",
            "ticks": ""
           }
          },
          "scene": {
           "xaxis": {
            "backgroundcolor": "white",
            "gridcolor": "#DFE8F3",
            "gridwidth": 2,
            "linecolor": "#EBF0F8",
            "showbackground": true,
            "ticks": "",
            "zerolinecolor": "#EBF0F8"
           },
           "yaxis": {
            "backgroundcolor": "white",
            "gridcolor": "#DFE8F3",
            "gridwidth": 2,
            "linecolor": "#EBF0F8",
            "showbackground": true,
            "ticks": "",
            "zerolinecolor": "#EBF0F8"
           },
           "zaxis": {
            "backgroundcolor": "white",
            "gridcolor": "#DFE8F3",
            "gridwidth": 2,
            "linecolor": "#EBF0F8",
            "showbackground": true,
            "ticks": "",
            "zerolinecolor": "#EBF0F8"
           }
          },
          "shapedefaults": {
           "line": {
            "color": "#2a3f5f"
           }
          },
          "ternary": {
           "aaxis": {
            "gridcolor": "#DFE8F3",
            "linecolor": "#A2B1C6",
            "ticks": ""
           },
           "baxis": {
            "gridcolor": "#DFE8F3",
            "linecolor": "#A2B1C6",
            "ticks": ""
           },
           "bgcolor": "white",
           "caxis": {
            "gridcolor": "#DFE8F3",
            "linecolor": "#A2B1C6",
            "ticks": ""
           }
          },
          "title": {
           "x": 0.05
          },
          "xaxis": {
           "automargin": true,
           "gridcolor": "#EBF0F8",
           "linecolor": "#EBF0F8",
           "ticks": "",
           "title": {
            "standoff": 15
           },
           "zerolinecolor": "#EBF0F8",
           "zerolinewidth": 2
          },
          "yaxis": {
           "automargin": true,
           "gridcolor": "#EBF0F8",
           "linecolor": "#EBF0F8",
           "ticks": "",
           "title": {
            "standoff": 15
           },
           "zerolinecolor": "#EBF0F8",
           "zerolinewidth": 2
          }
         }
        },
        "xaxis": {
         "title": {
          "text": "Time Slice Start"
         }
        },
        "yaxis": {
         "title": {
          "text": "Topic Importance"
         }
        }
       }
      }
     },
     "metadata": {},
     "output_type": "display_data"
    }
   ],
   "source": [
    "model_s3.plot_topics_over_time()"
   ]
  },
  {
   "cell_type": "code",
   "execution_count": 127,
   "metadata": {},
   "outputs": [
    {
     "data": {
      "application/vnd.plotly.v1+json": {
       "config": {
        "plotlyServerURL": "https://plot.ly"
       },
       "data": [
        {
         "hovertemplate": "<b>%{text}</b>",
         "line": {
          "width": 3
         },
         "marker": {
          "line": {
           "color": "black",
           "width": 2
          },
          "size": 14
         },
         "mode": "markers+lines",
         "name": "0_rz_těmi_lv_ež",
         "text": [
          "davu, bohemia, chodby, dávky, olga, tehdy",
          "příběhy, rámce, hradce, ivot, atp, rámec",
          "<not present>",
          "há, ha, rz, gu, bodu, ys",
          "<not present>",
          "ks, riziko, jakýkoli, rukopis, joko, horoskop",
          "jediný, jedinečný, případný, všeobecný, lampy, hugo",
          "au, znamenitý, nc, něčím, dimenze, uf",
          "diskuse, společ, spole, diskusí, diskusi, společné",
          "lv, ls, lr, lm, lh, rz"
         ],
         "type": "scatter",
         "x": [
          "1976-01-01T00:00:00",
          "1977-04-19T21:36:00",
          "1978-08-07T19:12:00",
          "1979-11-25T16:48:00",
          "1981-03-14T14:24:00",
          "1982-07-02T13:00:00",
          "1983-10-20T09:36:00",
          "1985-02-06T07:12:00",
          "1986-05-27T05:48:00",
          "1987-09-14T03:24:00"
         ],
         "y": {
          "bdata": "AAAA4AVw0b8AAAAAgNrTvwAAAGCxnua/AAAA4LVjtj8AAACAv+3uvwAAAMAoec8/AAAAICymxL8AAACAPCeEPwAAAOBPANO/AAAAgLMF2D8=",
          "dtype": "f8"
         }
        },
        {
         "hovertemplate": "<b>%{text}</b>",
         "line": {
          "width": 3
         },
         "marker": {
          "line": {
           "color": "black",
           "width": 2
          },
          "size": 14
         },
         "mode": "markers+lines",
         "name": "1_kristv_úvahu_beznadějně_matematika",
         "text": [
          "ié, íe, úvah, úvahou, otevírá, aestiv",
          "árie, rámce, stel, atp, příběhy, padesát",
          "<not present>",
          "ox, pf, mlčí, bos, bor, volí",
          "<not present>",
          "ks, riziko, jakýkoli, rukopis, joko, horoskop",
          "jevu, napsán, nápoj, zakladatelem, kovu, objevu",
          "podstatou, podstatnou, budoucnosti, budou, podstata, podstatu",
          "diskuse, disku, diskusí, diskusi, diskrétně, diskusích",
          "uvedeném, uvedu, úvahu, vlakem, vědomě, vědomé"
         ],
         "type": "scatter",
         "x": [
          "1976-01-01T00:00:00",
          "1977-04-19T21:36:00",
          "1978-08-07T19:12:00",
          "1979-11-25T16:48:00",
          "1981-03-14T14:24:00",
          "1982-07-02T13:00:00",
          "1983-10-20T09:36:00",
          "1985-02-06T07:12:00",
          "1986-05-27T05:48:00",
          "1987-09-14T03:24:00"
         ],
         "y": {
          "bdata": "AAAAQJpQyj8AAACAcwOyvwAAAOCzpbW/AAAA4IZ05b8AAACgmIPSPwAAAIACn80/AAAAIHgPzT8AAADgsQKYvwAAACB/+uC/AAAA4AUHuD8=",
          "dtype": "f8"
         }
        },
        {
         "hovertemplate": "<b>%{text}</b>",
         "line": {
          "width": 3
         },
         "marker": {
          "line": {
           "color": "black",
           "width": 2
          },
          "size": 14
         },
         "mode": "markers+lines",
         "name": "2_sedla_hrdla_měřítka_jara",
         "text": [
          "hloubky, kloub, hlouček, hloubce, bloudění, hloupá",
          "árie, stel, atp, stěna, fe, padesát",
          "<not present>",
          "tam, sídla, samá, sama, samotě, síla",
          "<not present>",
          "act, acta, mac, acty, pacient, levice",
          "jar, jara, jarní, lesku, jaro, bas",
          "dopis, docela, dopisem, dopisy, dovedou, aplikací",
          "nastává, časová, diskuse, acta, vbec, nastat",
          "jednoduché, tribuny, ných, hodný, jedny, čtení"
         ],
         "type": "scatter",
         "x": [
          "1976-01-01T00:00:00",
          "1977-04-19T21:36:00",
          "1978-08-07T19:12:00",
          "1979-11-25T16:48:00",
          "1981-03-14T14:24:00",
          "1982-07-02T13:00:00",
          "1983-10-20T09:36:00",
          "1985-02-06T07:12:00",
          "1986-05-27T05:48:00",
          "1987-09-14T03:24:00"
         ],
         "y": {
          "bdata": "AAAAQONdtz8AAADA3VC6PwAAAIBU7L+/AAAAYLGGwD8AAACgVZ35PwAAAADKJKs/AAAAwMyL0j8AAABANyLNPwAAAADVIbc/AAAA4Eo9478=",
          "dtype": "f8"
         }
        },
        {
         "hovertemplate": "<b>%{text}</b>",
         "line": {
          "width": 3
         },
         "marker": {
          "line": {
           "color": "black",
           "width": 2
          },
          "size": 14
         },
         "mode": "markers+lines",
         "name": "3_mírových_katolíci_míru_míří",
         "text": [
          "ec, řádu, radu, řadu, csc, ech",
          "leonardo, 51, čistou, valí, vali, válka",
          "<not present>",
          "rámci, mr, šanci, lord, 50, rám",
          "<not present>",
          "act, acta, mac, acty, pacient, levice",
          "ec, sd, ce, če, července, čes",
          "ea, íe, ié, ec, ms, mš",
          "navazování, nastudování, formulování, potlačování, směřování, chování",
          "míří, mir, mír, mírových, míru, mírového"
         ],
         "type": "scatter",
         "x": [
          "1976-01-01T00:00:00",
          "1977-04-19T21:36:00",
          "1978-08-07T19:12:00",
          "1979-11-25T16:48:00",
          "1981-03-14T14:24:00",
          "1982-07-02T13:00:00",
          "1983-10-20T09:36:00",
          "1985-02-06T07:12:00",
          "1986-05-27T05:48:00",
          "1987-09-14T03:24:00"
         ],
         "y": {
          "bdata": "AAAAIOEl3r8AAAAA1iDRPwAAAOBXYIy/AAAAoEpEgL8AAACgQeDfvwAAAADOx8Y/AAAAgJyHwL8AAADgBCjWvwAAAOAgo7E/AAAAYKFy3D8=",
          "dtype": "f8"
         }
        },
        {
         "hovertemplate": "<b>%{text}</b>",
         "line": {
          "width": 3
         },
         "marker": {
          "line": {
           "color": "black",
           "width": 2
          },
          "size": 14
         },
         "mode": "markers+lines",
         "name": "4_jednat_alternativní_znát_tenis",
         "text": [
          "časopise, státními, dospívá, papíře, normálně, atp",
          "leonardo, nyní, laskavé, laskavě, čistou, činí",
          "<not present>",
          "pi, pí, politický, politicky, politických, 1968",
          "<not present>",
          "ks, riziko, jakýkoli, rukopis, joko, horoskop",
          "1962, 1961, lano, hladem, přešlo, 1945",
          "říkám, rukama, čekám, říkáme, někam, ft",
          "vyhledávání, roku, řeku, nárok, krok, vybudování",
          "lil, znát, fáze, jednat, rozeznat, tenis"
         ],
         "type": "scatter",
         "x": [
          "1976-01-01T00:00:00",
          "1977-04-19T21:36:00",
          "1978-08-07T19:12:00",
          "1979-11-25T16:48:00",
          "1981-03-14T14:24:00",
          "1982-07-02T13:00:00",
          "1983-10-20T09:36:00",
          "1985-02-06T07:12:00",
          "1986-05-27T05:48:00",
          "1987-09-14T03:24:00"
         ],
         "y": {
          "bdata": "AAAAAIB4pr8AAACAxJnRvwAAAGAJotK/AAAAgEXgxL8AAADgy47avwAAAADH3qo/AAAA4CFVw78AAACgKgC6vwAAACAMssC/AAAA4P902D8=",
          "dtype": "f8"
         }
        },
        {
         "hovertemplate": "<b>%{text}</b>",
         "line": {
          "width": 3
         },
         "marker": {
          "line": {
           "color": "black",
           "width": 2
          },
          "size": 14
         },
         "mode": "markers+lines",
         "name": "5_sebereflexe_prožít_prožil_přeložit",
         "text": [
          "týž, rozvíjí, rozvíjení, týchž, žijí, roz",
          "rámce, příběhy, 1500, atp, rámec, árie",
          "<not present>",
          "fantasie, lidová, buduje, lidské, jasná, zachována",
          "<not present>",
          "ks, riziko, jakýkoli, rukopis, joko, horoskop",
          "natož, přeložit, přeložil, nastolení, přežít, přežil",
          "vd, vh, vv, vý, vy, vin",
          "těla, norma, iii, legální, nž, ua",
          "přízeň, vysoké, přízemí, mladá, vn, stát"
         ],
         "type": "scatter",
         "x": [
          "1976-01-01T00:00:00",
          "1977-04-19T21:36:00",
          "1978-08-07T19:12:00",
          "1979-11-25T16:48:00",
          "1981-03-14T14:24:00",
          "1982-07-02T13:00:00",
          "1983-10-20T09:36:00",
          "1985-02-06T07:12:00",
          "1986-05-27T05:48:00",
          "1987-09-14T03:24:00"
         ],
         "y": {
          "bdata": "AAAAQLGY3D8AAACAS26xPwAAAGAKYtY/AAAAIEJfuz8AAADA8DvjvwAAAKAE+ec/AAAAoE2FgT8AAABA9n7SvwAAAODk752/AAAA4Jyxpr8=",
          "dtype": "f8"
         }
        },
        {
         "hovertemplate": "<b>%{text}</b>",
         "line": {
          "width": 3
         },
         "marker": {
          "line": {
           "color": "black",
           "width": 2
          },
          "size": 14
         },
         "mode": "markers+lines",
         "name": "6_137_229_103_72",
         "text": [
          "zem, zemře, zemřít, žes, zájem, zemské",
          "příběhy, rámce, atp, hradce, bude, přít",
          "<not present>",
          "acta, 182, 138, act, vii, 537",
          "<not present>",
          "ks, riziko, jakýkoli, rukopis, joko, horoskop",
          "stěnu, terris, pestrý, pěstuje, formou, od",
          "sem, sezóny, sezónu, světlo, světlem, svazkem",
          "acta, act, actech, acty, manifestaci, manifestací",
          "seská, ska, ská, škála, nejedná, jeko"
         ],
         "type": "scatter",
         "x": [
          "1976-01-01T00:00:00",
          "1977-04-19T21:36:00",
          "1978-08-07T19:12:00",
          "1979-11-25T16:48:00",
          "1981-03-14T14:24:00",
          "1982-07-02T13:00:00",
          "1983-10-20T09:36:00",
          "1985-02-06T07:12:00",
          "1986-05-27T05:48:00",
          "1987-09-14T03:24:00"
         ],
         "y": {
          "bdata": "AAAAIIBCy78AAADgRw/lPwAAACAUcuE/AAAAYJD60D8AAADABKXIPwAAAICLVZs/AAAAwMWdxT8AAABgnxixvwAAAGCX0r0/AAAAgEK3078=",
          "dtype": "f8"
         }
        },
        {
         "hovertemplate": "<b>%{text}</b>",
         "line": {
          "width": 3
         },
         "marker": {
          "line": {
           "color": "black",
           "width": 2
          },
          "size": 14
         },
         "mode": "markers+lines",
         "name": "7_vic_víc_tom_platy",
         "text": [
          "kv, kvalita, kvalitách, květin, kvalitami, kvli",
          "ste, sté, stě, větě, veta, věta",
          "<not present>",
          "sebe, sebemenší, hovořil, ses, se, še",
          "<not present>",
          "act, acta, mac, acty, pacient, levice",
          "uvažovali, angažovanosti, existovala, angažovat, královská, navazující",
          "úkon, ukončil, nabídl, plyne, nabyl, stella",
          "katolík, zajímavá, nedává, článku, svazku, vyučování",
          "tyto, ty, tý, plátno, tys, sub"
         ],
         "type": "scatter",
         "x": [
          "1976-01-01T00:00:00",
          "1977-04-19T21:36:00",
          "1978-08-07T19:12:00",
          "1979-11-25T16:48:00",
          "1981-03-14T14:24:00",
          "1982-07-02T13:00:00",
          "1983-10-20T09:36:00",
          "1985-02-06T07:12:00",
          "1986-05-27T05:48:00",
          "1987-09-14T03:24:00"
         ],
         "y": {
          "bdata": "AAAAQIzt4L8AAAAAgTGrPwAAAIBevc8/AAAAQFKxvj8AAACgKrvgPwAAAIDLDeE/AAAAYMb0vL8AAABgAWvJPwAAAGDFkNC/AAAAoMZPtz8=",
          "dtype": "f8"
         }
        },
        {
         "hovertemplate": "<b>%{text}</b>",
         "line": {
          "width": 3
         },
         "marker": {
          "line": {
           "color": "black",
           "width": 2
          },
          "size": 14
         },
         "mode": "markers+lines",
         "name": "8_tá_ta_tav_tát",
         "text": [
          "karel, bojovníci, dobový, bratislavy, ranních, termíny",
          "napadl, nápad, upadl, hradce, dob, sbory",
          "<not present>",
          "roman, román, barthes, románem, sed, rámec",
          "<not present>",
          "act, acta, mac, acty, pacient, levice",
          "morálce, socialismus, socialist, zdání, socialisté, socialistické",
          "hrza, hradu, hru, hradce, hrobu, přerušena",
          "spol, spn, spíže, reformy, sp, demokratický",
          "tá, ta, táto, tato, tav, výtisk"
         ],
         "type": "scatter",
         "x": [
          "1976-01-01T00:00:00",
          "1977-04-19T21:36:00",
          "1978-08-07T19:12:00",
          "1979-11-25T16:48:00",
          "1981-03-14T14:24:00",
          "1982-07-02T13:00:00",
          "1983-10-20T09:36:00",
          "1985-02-06T07:12:00",
          "1986-05-27T05:48:00",
          "1987-09-14T03:24:00"
         ],
         "y": {
          "bdata": "AAAAwFxC0b8AAACAtbu9PwAAAOBcxec/AAAAAFWK0b8AAADAq0L/vwAAAOASmOE/AAAAICbpt78AAACgESGZvwAAACDNN9K/AAAAoC4x1j8=",
          "dtype": "f8"
         }
        },
        {
         "hovertemplate": "<b>%{text}</b>",
         "line": {
          "width": 3
         },
         "marker": {
          "line": {
           "color": "black",
           "width": 2
          },
          "size": 14
         },
         "mode": "markers+lines",
         "name": "9_bran_charles_hugo_brána",
         "text": [
          "ec, hc, nechává, act, 123, chová",
          "severních, branou, stalin, bála, bran, bránili",
          "<not present>",
          "vítězstvím, vím, riskovat, vám, budova, vazbě",
          "<not present>",
          "act, acta, mac, acty, pacient, levice",
          "orgán, uvítali, vnáší, imaginatívni, orgánu, stěnu",
          "jakéhosi, nejasná, malba, dobrou, malbě, určuje",
          "němý, skupině, skrytých, skrytý, statistiky, písmeny",
          "obnova, chaos, bohem, rohem, armáda, poezie"
         ],
         "type": "scatter",
         "x": [
          "1976-01-01T00:00:00",
          "1977-04-19T21:36:00",
          "1978-08-07T19:12:00",
          "1979-11-25T16:48:00",
          "1981-03-14T14:24:00",
          "1982-07-02T13:00:00",
          "1983-10-20T09:36:00",
          "1985-02-06T07:12:00",
          "1986-05-27T05:48:00",
          "1987-09-14T03:24:00"
         ],
         "y": {
          "bdata": "AAAAIPmjx78AAADgfvT8PwAAAABIkui/AAAAgPVC1L8AAADgtyYCQAAAAEBUGMc/AAAAIABEw78AAADgakDLvwAAAKCkfMg/AAAAwDr+qD8=",
          "dtype": "f8"
         }
        },
        {
         "hovertemplate": "<b>%{text}</b>",
         "line": {
          "width": 3
         },
         "marker": {
          "line": {
           "color": "black",
           "width": 2
          },
          "size": 14
         },
         "mode": "markers+lines",
         "name": "10_obnova_znova_věnovala_věnován",
         "text": [
          "karel, aneb, mladý, správnost, boty, choreografie",
          "sňatek, nápad, napadl, automobil, vb, výtah",
          "<not present>",
          "137, politice, 105, 117, politických, lí",
          "<not present>",
          "act, acta, mac, acty, pacient, levice",
          "obnova, uplatňovat, věnovat, věnoval, věnovala, věnován",
          "politická, politické, politici, politických, politice, politicky",
          "přestává, přestavba, přestal, přestat, přestalo, přec",
          "obnova, uplatňovat, věnovat, věnoval, věnováno, věnovala"
         ],
         "type": "scatter",
         "x": [
          "1976-01-01T00:00:00",
          "1977-04-19T21:36:00",
          "1978-08-07T19:12:00",
          "1979-11-25T16:48:00",
          "1981-03-14T14:24:00",
          "1982-07-02T13:00:00",
          "1983-10-20T09:36:00",
          "1985-02-06T07:12:00",
          "1986-05-27T05:48:00",
          "1987-09-14T03:24:00"
         ],
         "y": {
          "bdata": "AAAAII0z0b8AAAAAZrjRvwAAAOBFad6/AAAAIKtK178AAACAKtzIvwAAAEAFvs8/AAAAoHp4wD8AAAAgEXDBvwAAAAAPo8w/AAAAgAPfxD8=",
          "dtype": "f8"
         }
        },
        {
         "hovertemplate": "<b>%{text}</b>",
         "line": {
          "width": 3
         },
         "marker": {
          "line": {
           "color": "black",
           "width": 2
          },
          "size": 14
         },
         "mode": "markers+lines",
         "name": "11_jindřich_lenin_pius_lenina",
         "text": [
          "předkládám, kpt, pokládám, potřebám, potřeba, oblastí",
          "nápad, napadl, sbory, upadl, dob, rámec",
          "<not present>",
          "zkoušky, zakoupit, dívkou, rukou, koně, zdech",
          "<not present>",
          "act, acta, mac, acty, pacient, levice",
          "říkali, čekali, míra, éře, nabývá, šedé",
          "kost, kladném, kom, běžném, rozšiřovat, roz",
          "náklad, 111, 000, 1000, 313, nákladní",
          "otci, otázce, otče, otce, ot, kého"
         ],
         "type": "scatter",
         "x": [
          "1976-01-01T00:00:00",
          "1977-04-19T21:36:00",
          "1978-08-07T19:12:00",
          "1979-11-25T16:48:00",
          "1981-03-14T14:24:00",
          "1982-07-02T13:00:00",
          "1983-10-20T09:36:00",
          "1985-02-06T07:12:00",
          "1986-05-27T05:48:00",
          "1987-09-14T03:24:00"
         ],
         "y": {
          "bdata": "AAAAwLIZ2D8AAAAAINXMPwAAACDzDOG/AAAA4EBk1j8AAACgrrbPvwAAAEC7tLG/AAAAYGOJl78AAAAA0NfKPwAAAGC3jfK/AAAA4JkFpL8=",
          "dtype": "f8"
         }
        },
        {
         "hovertemplate": "<b>%{text}</b>",
         "line": {
          "width": 3
         },
         "marker": {
          "line": {
           "color": "black",
           "width": 2
          },
          "size": 14
         },
         "mode": "markers+lines",
         "name": "12_lístku_nábytku_kousku_kroužku",
         "text": [
          "mladý, dovedl, apoštol, karel, kategorie, velice",
          "leonardo, vali, valí, vala, domácí, paláci",
          "<not present>",
          "dětí, děti, deti, služební, manifestaci, manifestací",
          "<not present>",
          "act, acta, mac, acty, pacient, levice",
          "lístku, roku, článku, dálku, začátku, řeku",
          "diskuse, diskusích, centrum, jar, jam, diskrétně",
          "job, hat, em, ém, dopisem, dopis",
          "tvj, otvírají, tvářích, tvoje, tváři, tváří"
         ],
         "type": "scatter",
         "x": [
          "1976-01-01T00:00:00",
          "1977-04-19T21:36:00",
          "1978-08-07T19:12:00",
          "1979-11-25T16:48:00",
          "1981-03-14T14:24:00",
          "1982-07-02T13:00:00",
          "1983-10-20T09:36:00",
          "1985-02-06T07:12:00",
          "1986-05-27T05:48:00",
          "1987-09-14T03:24:00"
         ],
         "y": {
          "bdata": "AAAAQIuhvz8AAADAakndvwAAAGA1t+k/AAAAoNgV5b8AAAAg4bzovwAAAIDaKgXAAAAAQEMmxj8AAACgdhrRPwAAAGBXSce/AAAAoAjZxT8=",
          "dtype": "f8"
         }
        },
        {
         "hovertemplate": "<b>%{text}</b>",
         "line": {
          "width": 3
         },
         "marker": {
          "line": {
           "color": "black",
           "width": 2
          },
          "size": 14
         },
         "mode": "markers+lines",
         "name": "13_podzim_vínem_typem_osm",
         "text": [
          "dětských, dětský, vládne, slovenských, československých, vládnoucích",
          "nápad, napadl, sbory, potomk, úpadkem, dob",
          "<not present>",
          "ge, kout, jevu, jez, jež, jé",
          "<not present>",
          "act, acta, mac, acty, pacient, levice",
          "režim, podzim, popisem, rem, režimem, podzimní",
          "typem, časem, stylem, vínem, 1977, popisem",
          "stát, statk, státy, statut, státu, statu",
          "prc, vínem, ržové, ním, nim, sm"
         ],
         "type": "scatter",
         "x": [
          "1976-01-01T00:00:00",
          "1977-04-19T21:36:00",
          "1978-08-07T19:12:00",
          "1979-11-25T16:48:00",
          "1981-03-14T14:24:00",
          "1982-07-02T13:00:00",
          "1983-10-20T09:36:00",
          "1985-02-06T07:12:00",
          "1986-05-27T05:48:00",
          "1987-09-14T03:24:00"
         ],
         "y": {
          "bdata": "AAAAQAMwyb8AAAAgl8XUPwAAACCAquo/AAAAgMh74r8AAADAGCnWvwAAAABBeao/AAAAIHZv2z8AAAAAX2qaPwAAAEC9H++/AAAAgBwllT8=",
          "dtype": "f8"
         }
        },
        {
         "hovertemplate": "<b>%{text}</b>",
         "line": {
          "width": 3
         },
         "marker": {
          "line": {
           "color": "black",
           "width": 2
          },
          "size": 14
         },
         "mode": "markers+lines",
         "name": "14_51_515_300_250",
         "text": [
          "týdnech, odpovědně, odpovědné, snech, dětských, odsouzen",
          "leonardo, valí, vali, čistou, válka, sciascia",
          "<not present>",
          "160, 225, 537, 1870, sporná, 53",
          "<not present>",
          "ks, riziko, jakýkoli, rukopis, joko, horoskop",
          "čekali, hans, cc, lesku, ek, rc",
          "integrity, bratry, angličan, bratru, identitu, laika",
          "navazování, vyučování, vyšetřování, vyhledávání, nastudování, trvání",
          "ooo, oo, oas, oy, od, oa"
         ],
         "type": "scatter",
         "x": [
          "1976-01-01T00:00:00",
          "1977-04-19T21:36:00",
          "1978-08-07T19:12:00",
          "1979-11-25T16:48:00",
          "1981-03-14T14:24:00",
          "1982-07-02T13:00:00",
          "1983-10-20T09:36:00",
          "1985-02-06T07:12:00",
          "1986-05-27T05:48:00",
          "1987-09-14T03:24:00"
         ],
         "y": {
          "bdata": "AAAAoPfy078AAABgDH6rPwAAAADyntk/AAAAAIWvwT8AAABA5FnQPwAAAIDfCtG/AAAAgMBoxT8AAACgYN2wPwAAAMBGb7k/AAAAYGUIyb8=",
          "dtype": "f8"
         }
        },
        {
         "hovertemplate": "<b>%{text}</b>",
         "line": {
          "width": 3
         },
         "marker": {
          "line": {
           "color": "black",
           "width": 2
          },
          "size": 14
         },
         "mode": "markers+lines",
         "name": "15_1895_paradox_procento_1970",
         "text": [
          "žijí, jeden, gabriel, znají, týž, jejíž",
          "nyní, láskou, laskavě, laskavé, orientální, úctou",
          "<not present>",
          "1967, státě, statě, kout, 1970, peter",
          "<not present>",
          "act, acta, mac, acty, pacient, levice",
          "místy, musíš, tužeb, nádražní, obrazové, rubrice",
          "znát, zločin, zná, zna, zločiny, zříceniny",
          "číst, počest, obstát, čistě, čisté, gest",
          "entit, revue, 1970, 1920, en, patron"
         ],
         "type": "scatter",
         "x": [
          "1976-01-01T00:00:00",
          "1977-04-19T21:36:00",
          "1978-08-07T19:12:00",
          "1979-11-25T16:48:00",
          "1981-03-14T14:24:00",
          "1982-07-02T13:00:00",
          "1983-10-20T09:36:00",
          "1985-02-06T07:12:00",
          "1986-05-27T05:48:00",
          "1987-09-14T03:24:00"
         ],
         "y": {
          "bdata": "AAAAwHKt1r8AAAAAPLu/PwAAAKBGob+/AAAAgD93oj8AAAAAquyuPwAAAODHcOS/AAAAgMyUur8AAABg1zTMvwAAAECGTaW/AAAAwB6W2D8=",
          "dtype": "f8"
         }
        },
        {
         "hovertemplate": "<b>%{text}</b>",
         "line": {
          "width": 3
         },
         "marker": {
          "line": {
           "color": "black",
           "width": 2
          },
          "size": 14
         },
         "mode": "markers+lines",
         "name": "16_uvádí_úvaze_uvádím_jít",
         "text": [
          "ostatní, ostat, ostatními, acta, ostatním, actech",
          "acta, act, matce, acty, actech, incognitorum",
          "<not present>",
          "určitým, kvli, tj, jasněji, jali, jat",
          "<not present>",
          "ks, riziko, jakýkoli, rukopis, joko, horoskop",
          "124, 179, 1972, 159, 162, sémantická",
          "budeli, hostitel, zachycení, bud, buď, hostiteli",
          "svij, sv, míněno, svou, zápis, svědek",
          "skýtá, daly, uvádí, teta, bal, bál"
         ],
         "type": "scatter",
         "x": [
          "1976-01-01T00:00:00",
          "1977-04-19T21:36:00",
          "1978-08-07T19:12:00",
          "1979-11-25T16:48:00",
          "1981-03-14T14:24:00",
          "1982-07-02T13:00:00",
          "1983-10-20T09:36:00",
          "1985-02-06T07:12:00",
          "1986-05-27T05:48:00",
          "1987-09-14T03:24:00"
         ],
         "y": {
          "bdata": "AAAAoFmS4r8AAACAYBnfvwAAACA4bPy/AAAAoGrKfj8AAACgnEPUvwAAAAAEoIO/AAAAQEfMuL8AAAAAZVnDPwAAAEBD2te/AAAAwJtN2z8=",
          "dtype": "f8"
         }
        },
        {
         "hovertemplate": "<b>%{text}</b>",
         "line": {
          "width": 3
         },
         "marker": {
          "line": {
           "color": "black",
           "width": 2
          },
          "size": 14
         },
         "mode": "markers+lines",
         "name": "17_cc_prc_cca_1c",
         "text": [
          "řadou, radou, talíře, jakési, alexander, rakouský",
          "rámec, rámce, rám, hrad, ivot, ivo",
          "<not present>",
          "stručné, stručně, dlaně, stolem, stáčí, stačí",
          "<not present>",
          "act, acta, mac, acty, pacient, levice",
          "mstek, odrážejí, sezení, odvážné, osamělý, odvíjí",
          "josef, kladném, josefem, brno, kraj, květy",
          "počest, rámce, mlčet, rameny, frídy, ramen",
          "cc, cca, prc, 1c, 250, 260"
         ],
         "type": "scatter",
         "x": [
          "1976-01-01T00:00:00",
          "1977-04-19T21:36:00",
          "1978-08-07T19:12:00",
          "1979-11-25T16:48:00",
          "1981-03-14T14:24:00",
          "1982-07-02T13:00:00",
          "1983-10-20T09:36:00",
          "1985-02-06T07:12:00",
          "1986-05-27T05:48:00",
          "1987-09-14T03:24:00"
         ],
         "y": {
          "bdata": "AAAAwFvIlb8AAAAAsPOPPwAAAEA4Dry/AAAA4Gjhvj8AAAAghpvsvwAAAGAzHtq/AAAA4MWB078AAAAgHWGTPwAAAOBgfs0/AAAAIBcR0D8=",
          "dtype": "f8"
         }
        },
        {
         "hovertemplate": "<b>%{text}</b>",
         "line": {
          "width": 3
         },
         "marker": {
          "line": {
           "color": "black",
           "width": 2
          },
          "size": 14
         },
         "mode": "markers+lines",
         "name": "18_podpisu_podpis_dopis_dopisu",
         "text": [
          "zem, zemské, zemím, zemřel, zemi, zemí",
          "znáte, zjevuje, znovu, zbavuje, vypadají, oslovuje",
          "<not present>",
          "jevu, jev, jež, jez, jevm, jevit",
          "<not present>",
          "act, acta, mac, acty, pacient, levice",
          "vymezen, budovou, zemského, jeskyně, jazykem, zemské",
          "zk, nicotě, zlomek, žijete, zničen, zkrátka",
          "275, nastat, dbát, provedl, 260, provede",
          "podpis, podpisu, dopis, dopisu, podpisem, dopise"
         ],
         "type": "scatter",
         "x": [
          "1976-01-01T00:00:00",
          "1977-04-19T21:36:00",
          "1978-08-07T19:12:00",
          "1979-11-25T16:48:00",
          "1981-03-14T14:24:00",
          "1982-07-02T13:00:00",
          "1983-10-20T09:36:00",
          "1985-02-06T07:12:00",
          "1986-05-27T05:48:00",
          "1987-09-14T03:24:00"
         ],
         "y": {
          "bdata": "AAAAoMRI4L8AAACg5WXZvwAAAMCqFeO/AAAAoASv078AAADghx3BPwAAAGCemNO/AAAAQEHmxL8AAADAC17PvwAAAGCvicC/AAAAwGP15j8=",
          "dtype": "f8"
         }
        },
        {
         "hovertemplate": "<b>%{text}</b>",
         "line": {
          "width": 3
         },
         "marker": {
          "line": {
           "color": "black",
           "width": 2
          },
          "size": 14
         },
         "mode": "markers+lines",
         "name": "19_tc_act_acta_jíl",
         "text": [
          "act, acta, morálku, aé, áe, ae",
          "acta, act, actech, acty, matce, incognitorum",
          "<not present>",
          "acta, act, vypráví, víra, vbec, acty",
          "<not present>",
          "ks, riziko, jakýkoli, rukopis, joko, horoskop",
          "rusové, človek, člověk, slovech, slově, kapitole",
          "polská, polska, rusko, rukopise, rukopis, joko",
          "skoro, pavel, skutek, škole, rukopis, ského",
          "tvrc, skýtá, jídla, jíl, jídlu, tvrčím"
         ],
         "type": "scatter",
         "x": [
          "1976-01-01T00:00:00",
          "1977-04-19T21:36:00",
          "1978-08-07T19:12:00",
          "1979-11-25T16:48:00",
          "1981-03-14T14:24:00",
          "1982-07-02T13:00:00",
          "1983-10-20T09:36:00",
          "1985-02-06T07:12:00",
          "1986-05-27T05:48:00",
          "1987-09-14T03:24:00"
         ],
         "y": {
          "bdata": "AAAAwHwq9T8AAACgSTDwPwAAAAD1C/o/AAAAoNyw5j8AAABAlW/0PwAAAIDEfbW/AAAAQLOJ5r8AAACAZlvlvwAAAOB8vuK/AAAAYGfn1j8=",
          "dtype": "f8"
         }
        }
       ],
       "layout": {
        "font": {
         "family": "Roboto Mono"
        },
        "hoverlabel": {
         "bgcolor": "white",
         "font": {
          "size": 16
         }
        },
        "hovermode": "x",
        "shapes": [
         {
          "line": {
           "dash": "dash"
          },
          "opacity": 0.5,
          "type": "line",
          "x0": 0,
          "x1": 1,
          "xref": "x domain",
          "y0": 0,
          "y1": 0,
          "yref": "y"
         }
        ],
        "template": {
         "data": {
          "bar": [
           {
            "error_x": {
             "color": "#2a3f5f"
            },
            "error_y": {
             "color": "#2a3f5f"
            },
            "marker": {
             "line": {
              "color": "white",
              "width": 0.5
             },
             "pattern": {
              "fillmode": "overlay",
              "size": 10,
              "solidity": 0.2
             }
            },
            "type": "bar"
           }
          ],
          "barpolar": [
           {
            "marker": {
             "line": {
              "color": "white",
              "width": 0.5
             },
             "pattern": {
              "fillmode": "overlay",
              "size": 10,
              "solidity": 0.2
             }
            },
            "type": "barpolar"
           }
          ],
          "carpet": [
           {
            "aaxis": {
             "endlinecolor": "#2a3f5f",
             "gridcolor": "#C8D4E3",
             "linecolor": "#C8D4E3",
             "minorgridcolor": "#C8D4E3",
             "startlinecolor": "#2a3f5f"
            },
            "baxis": {
             "endlinecolor": "#2a3f5f",
             "gridcolor": "#C8D4E3",
             "linecolor": "#C8D4E3",
             "minorgridcolor": "#C8D4E3",
             "startlinecolor": "#2a3f5f"
            },
            "type": "carpet"
           }
          ],
          "choropleth": [
           {
            "colorbar": {
             "outlinewidth": 0,
             "ticks": ""
            },
            "type": "choropleth"
           }
          ],
          "contour": [
           {
            "colorbar": {
             "outlinewidth": 0,
             "ticks": ""
            },
            "colorscale": [
             [
              0,
              "#0d0887"
             ],
             [
              0.1111111111111111,
              "#46039f"
             ],
             [
              0.2222222222222222,
              "#7201a8"
             ],
             [
              0.3333333333333333,
              "#9c179e"
             ],
             [
              0.4444444444444444,
              "#bd3786"
             ],
             [
              0.5555555555555556,
              "#d8576b"
             ],
             [
              0.6666666666666666,
              "#ed7953"
             ],
             [
              0.7777777777777778,
              "#fb9f3a"
             ],
             [
              0.8888888888888888,
              "#fdca26"
             ],
             [
              1,
              "#f0f921"
             ]
            ],
            "type": "contour"
           }
          ],
          "contourcarpet": [
           {
            "colorbar": {
             "outlinewidth": 0,
             "ticks": ""
            },
            "type": "contourcarpet"
           }
          ],
          "heatmap": [
           {
            "colorbar": {
             "outlinewidth": 0,
             "ticks": ""
            },
            "colorscale": [
             [
              0,
              "#0d0887"
             ],
             [
              0.1111111111111111,
              "#46039f"
             ],
             [
              0.2222222222222222,
              "#7201a8"
             ],
             [
              0.3333333333333333,
              "#9c179e"
             ],
             [
              0.4444444444444444,
              "#bd3786"
             ],
             [
              0.5555555555555556,
              "#d8576b"
             ],
             [
              0.6666666666666666,
              "#ed7953"
             ],
             [
              0.7777777777777778,
              "#fb9f3a"
             ],
             [
              0.8888888888888888,
              "#fdca26"
             ],
             [
              1,
              "#f0f921"
             ]
            ],
            "type": "heatmap"
           }
          ],
          "histogram": [
           {
            "marker": {
             "pattern": {
              "fillmode": "overlay",
              "size": 10,
              "solidity": 0.2
             }
            },
            "type": "histogram"
           }
          ],
          "histogram2d": [
           {
            "colorbar": {
             "outlinewidth": 0,
             "ticks": ""
            },
            "colorscale": [
             [
              0,
              "#0d0887"
             ],
             [
              0.1111111111111111,
              "#46039f"
             ],
             [
              0.2222222222222222,
              "#7201a8"
             ],
             [
              0.3333333333333333,
              "#9c179e"
             ],
             [
              0.4444444444444444,
              "#bd3786"
             ],
             [
              0.5555555555555556,
              "#d8576b"
             ],
             [
              0.6666666666666666,
              "#ed7953"
             ],
             [
              0.7777777777777778,
              "#fb9f3a"
             ],
             [
              0.8888888888888888,
              "#fdca26"
             ],
             [
              1,
              "#f0f921"
             ]
            ],
            "type": "histogram2d"
           }
          ],
          "histogram2dcontour": [
           {
            "colorbar": {
             "outlinewidth": 0,
             "ticks": ""
            },
            "colorscale": [
             [
              0,
              "#0d0887"
             ],
             [
              0.1111111111111111,
              "#46039f"
             ],
             [
              0.2222222222222222,
              "#7201a8"
             ],
             [
              0.3333333333333333,
              "#9c179e"
             ],
             [
              0.4444444444444444,
              "#bd3786"
             ],
             [
              0.5555555555555556,
              "#d8576b"
             ],
             [
              0.6666666666666666,
              "#ed7953"
             ],
             [
              0.7777777777777778,
              "#fb9f3a"
             ],
             [
              0.8888888888888888,
              "#fdca26"
             ],
             [
              1,
              "#f0f921"
             ]
            ],
            "type": "histogram2dcontour"
           }
          ],
          "mesh3d": [
           {
            "colorbar": {
             "outlinewidth": 0,
             "ticks": ""
            },
            "type": "mesh3d"
           }
          ],
          "parcoords": [
           {
            "line": {
             "colorbar": {
              "outlinewidth": 0,
              "ticks": ""
             }
            },
            "type": "parcoords"
           }
          ],
          "pie": [
           {
            "automargin": true,
            "type": "pie"
           }
          ],
          "scatter": [
           {
            "fillpattern": {
             "fillmode": "overlay",
             "size": 10,
             "solidity": 0.2
            },
            "type": "scatter"
           }
          ],
          "scatter3d": [
           {
            "line": {
             "colorbar": {
              "outlinewidth": 0,
              "ticks": ""
             }
            },
            "marker": {
             "colorbar": {
              "outlinewidth": 0,
              "ticks": ""
             }
            },
            "type": "scatter3d"
           }
          ],
          "scattercarpet": [
           {
            "marker": {
             "colorbar": {
              "outlinewidth": 0,
              "ticks": ""
             }
            },
            "type": "scattercarpet"
           }
          ],
          "scattergeo": [
           {
            "marker": {
             "colorbar": {
              "outlinewidth": 0,
              "ticks": ""
             }
            },
            "type": "scattergeo"
           }
          ],
          "scattergl": [
           {
            "marker": {
             "colorbar": {
              "outlinewidth": 0,
              "ticks": ""
             }
            },
            "type": "scattergl"
           }
          ],
          "scattermap": [
           {
            "marker": {
             "colorbar": {
              "outlinewidth": 0,
              "ticks": ""
             }
            },
            "type": "scattermap"
           }
          ],
          "scattermapbox": [
           {
            "marker": {
             "colorbar": {
              "outlinewidth": 0,
              "ticks": ""
             }
            },
            "type": "scattermapbox"
           }
          ],
          "scatterpolar": [
           {
            "marker": {
             "colorbar": {
              "outlinewidth": 0,
              "ticks": ""
             }
            },
            "type": "scatterpolar"
           }
          ],
          "scatterpolargl": [
           {
            "marker": {
             "colorbar": {
              "outlinewidth": 0,
              "ticks": ""
             }
            },
            "type": "scatterpolargl"
           }
          ],
          "scatterternary": [
           {
            "marker": {
             "colorbar": {
              "outlinewidth": 0,
              "ticks": ""
             }
            },
            "type": "scatterternary"
           }
          ],
          "surface": [
           {
            "colorbar": {
             "outlinewidth": 0,
             "ticks": ""
            },
            "colorscale": [
             [
              0,
              "#0d0887"
             ],
             [
              0.1111111111111111,
              "#46039f"
             ],
             [
              0.2222222222222222,
              "#7201a8"
             ],
             [
              0.3333333333333333,
              "#9c179e"
             ],
             [
              0.4444444444444444,
              "#bd3786"
             ],
             [
              0.5555555555555556,
              "#d8576b"
             ],
             [
              0.6666666666666666,
              "#ed7953"
             ],
             [
              0.7777777777777778,
              "#fb9f3a"
             ],
             [
              0.8888888888888888,
              "#fdca26"
             ],
             [
              1,
              "#f0f921"
             ]
            ],
            "type": "surface"
           }
          ],
          "table": [
           {
            "cells": {
             "fill": {
              "color": "#EBF0F8"
             },
             "line": {
              "color": "white"
             }
            },
            "header": {
             "fill": {
              "color": "#C8D4E3"
             },
             "line": {
              "color": "white"
             }
            },
            "type": "table"
           }
          ]
         },
         "layout": {
          "annotationdefaults": {
           "arrowcolor": "#2a3f5f",
           "arrowhead": 0,
           "arrowwidth": 1
          },
          "autotypenumbers": "strict",
          "coloraxis": {
           "colorbar": {
            "outlinewidth": 0,
            "ticks": ""
           }
          },
          "colorscale": {
           "diverging": [
            [
             0,
             "#8e0152"
            ],
            [
             0.1,
             "#c51b7d"
            ],
            [
             0.2,
             "#de77ae"
            ],
            [
             0.3,
             "#f1b6da"
            ],
            [
             0.4,
             "#fde0ef"
            ],
            [
             0.5,
             "#f7f7f7"
            ],
            [
             0.6,
             "#e6f5d0"
            ],
            [
             0.7,
             "#b8e186"
            ],
            [
             0.8,
             "#7fbc41"
            ],
            [
             0.9,
             "#4d9221"
            ],
            [
             1,
             "#276419"
            ]
           ],
           "sequential": [
            [
             0,
             "#0d0887"
            ],
            [
             0.1111111111111111,
             "#46039f"
            ],
            [
             0.2222222222222222,
             "#7201a8"
            ],
            [
             0.3333333333333333,
             "#9c179e"
            ],
            [
             0.4444444444444444,
             "#bd3786"
            ],
            [
             0.5555555555555556,
             "#d8576b"
            ],
            [
             0.6666666666666666,
             "#ed7953"
            ],
            [
             0.7777777777777778,
             "#fb9f3a"
            ],
            [
             0.8888888888888888,
             "#fdca26"
            ],
            [
             1,
             "#f0f921"
            ]
           ],
           "sequentialminus": [
            [
             0,
             "#0d0887"
            ],
            [
             0.1111111111111111,
             "#46039f"
            ],
            [
             0.2222222222222222,
             "#7201a8"
            ],
            [
             0.3333333333333333,
             "#9c179e"
            ],
            [
             0.4444444444444444,
             "#bd3786"
            ],
            [
             0.5555555555555556,
             "#d8576b"
            ],
            [
             0.6666666666666666,
             "#ed7953"
            ],
            [
             0.7777777777777778,
             "#fb9f3a"
            ],
            [
             0.8888888888888888,
             "#fdca26"
            ],
            [
             1,
             "#f0f921"
            ]
           ]
          },
          "colorway": [
           "#636efa",
           "#EF553B",
           "#00cc96",
           "#ab63fa",
           "#FFA15A",
           "#19d3f3",
           "#FF6692",
           "#B6E880",
           "#FF97FF",
           "#FECB52"
          ],
          "font": {
           "color": "#2a3f5f"
          },
          "geo": {
           "bgcolor": "white",
           "lakecolor": "white",
           "landcolor": "white",
           "showlakes": true,
           "showland": true,
           "subunitcolor": "#C8D4E3"
          },
          "hoverlabel": {
           "align": "left"
          },
          "hovermode": "closest",
          "mapbox": {
           "style": "light"
          },
          "paper_bgcolor": "white",
          "plot_bgcolor": "white",
          "polar": {
           "angularaxis": {
            "gridcolor": "#EBF0F8",
            "linecolor": "#EBF0F8",
            "ticks": ""
           },
           "bgcolor": "white",
           "radialaxis": {
            "gridcolor": "#EBF0F8",
            "linecolor": "#EBF0F8",
            "ticks": ""
           }
          },
          "scene": {
           "xaxis": {
            "backgroundcolor": "white",
            "gridcolor": "#DFE8F3",
            "gridwidth": 2,
            "linecolor": "#EBF0F8",
            "showbackground": true,
            "ticks": "",
            "zerolinecolor": "#EBF0F8"
           },
           "yaxis": {
            "backgroundcolor": "white",
            "gridcolor": "#DFE8F3",
            "gridwidth": 2,
            "linecolor": "#EBF0F8",
            "showbackground": true,
            "ticks": "",
            "zerolinecolor": "#EBF0F8"
           },
           "zaxis": {
            "backgroundcolor": "white",
            "gridcolor": "#DFE8F3",
            "gridwidth": 2,
            "linecolor": "#EBF0F8",
            "showbackground": true,
            "ticks": "",
            "zerolinecolor": "#EBF0F8"
           }
          },
          "shapedefaults": {
           "line": {
            "color": "#2a3f5f"
           }
          },
          "ternary": {
           "aaxis": {
            "gridcolor": "#DFE8F3",
            "linecolor": "#A2B1C6",
            "ticks": ""
           },
           "baxis": {
            "gridcolor": "#DFE8F3",
            "linecolor": "#A2B1C6",
            "ticks": ""
           },
           "bgcolor": "white",
           "caxis": {
            "gridcolor": "#DFE8F3",
            "linecolor": "#A2B1C6",
            "ticks": ""
           }
          },
          "title": {
           "x": 0.05
          },
          "xaxis": {
           "automargin": true,
           "gridcolor": "#EBF0F8",
           "linecolor": "#EBF0F8",
           "ticks": "",
           "title": {
            "standoff": 15
           },
           "zerolinecolor": "#EBF0F8",
           "zerolinewidth": 2
          },
          "yaxis": {
           "automargin": true,
           "gridcolor": "#EBF0F8",
           "linecolor": "#EBF0F8",
           "ticks": "",
           "title": {
            "standoff": 15
           },
           "zerolinecolor": "#EBF0F8",
           "zerolinewidth": 2
          }
         }
        },
        "xaxis": {
         "title": {
          "text": "Time Slice Start"
         }
        },
        "yaxis": {
         "title": {
          "text": "Topic Importance"
         }
        }
       }
      }
     },
     "metadata": {},
     "output_type": "display_data"
    }
   ],
   "source": [
    "# plotly import\n",
    "# import plotly.graph_objects as gox\n",
    "# import plotly.express as px\n",
    "# import plotly.io as pio\n",
    "\n",
    "model_s3.plot_topics_over_time()\n"
   ]
  },
  {
   "cell_type": "code",
   "execution_count": null,
   "metadata": {},
   "outputs": [],
   "source": []
  }
 ],
 "metadata": {
  "kernelspec": {
   "display_name": "venv",
   "language": "python",
   "name": "python3"
  },
  "language_info": {
   "codemirror_mode": {
    "name": "ipython",
    "version": 3
   },
   "file_extension": ".py",
   "mimetype": "text/x-python",
   "name": "python",
   "nbconvert_exporter": "python",
   "pygments_lexer": "ipython3",
   "version": "3.9.6"
  }
 },
 "nbformat": 4,
 "nbformat_minor": 2
}
